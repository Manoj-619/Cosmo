{
 "cells": [
  {
   "cell_type": "code",
   "execution_count": 3,
   "id": "224de9d5-e717-477c-b45a-51ab6d4a3584",
   "metadata": {},
   "outputs": [],
   "source": [
    "import pandas as pd\n",
    "import os\n",
    "from openai import OpenAI\n",
    "from dotenv import load_dotenv\n",
    "from tqdm import tqdm"
   ]
  },
  {
   "cell_type": "code",
   "execution_count": 4,
   "id": "39ed26b5-06bc-4460-82c1-c43041ad8344",
   "metadata": {},
   "outputs": [
    {
     "data": {
      "text/plain": [
       "True"
      ]
     },
     "execution_count": 4,
     "metadata": {},
     "output_type": "execute_result"
    }
   ],
   "source": [
    "load_dotenv()"
   ]
  },
  {
   "cell_type": "code",
   "execution_count": 5,
   "id": "5bc1a5af-e1ba-4e41-9943-e248192e24a7",
   "metadata": {},
   "outputs": [],
   "source": [
    "data = pd.read_excel(r\"C:\\Users\\smrit\\Work\\Kenpath\\NOS-QUALS\\ofqal_data.xlsx\")"
   ]
  },
  {
   "cell_type": "code",
   "execution_count": 9,
   "id": "703a20ce-60d3-45a5-b6fe-c6d7828dcdd5",
   "metadata": {},
   "outputs": [
    {
     "data": {
      "text/plain": [
       "2"
      ]
     },
     "execution_count": 9,
     "metadata": {},
     "output_type": "execute_result"
    }
   ],
   "source": [
    "data['level'][0]"
   ]
  },
  {
   "cell_type": "markdown",
   "id": "90d69c43-a7cf-437a-a20d-7c248d8ff4e2",
   "metadata": {},
   "source": [
    "## Create Embeddings"
   ]
  },
  {
   "cell_type": "code",
   "execution_count": 5,
   "id": "0f949512-2bf9-4e53-9c82-20b71fad73bc",
   "metadata": {},
   "outputs": [],
   "source": [
    "#text-embedding-ada-002\n",
    "#text-embedding-3-small\n"
   ]
  },
  {
   "cell_type": "code",
   "execution_count": 7,
   "id": "c7e8cf0f-5b35-44ee-9d9b-0e0c6bd8d760",
   "metadata": {},
   "outputs": [],
   "source": [
    "client = OpenAI(\n",
    "  api_key=os.environ['OPENAI_API_KEY'],  \n",
    ")\n",
    "\n",
    "def get_embedding(text, model=\"text-embedding-3-small\"):\n",
    "    response = client.embeddings.create(\n",
    "        input=text,\n",
    "        model=model\n",
    "    )\n",
    "    return response.data[0].embedding\n",
    "\n",
    "data['embeddings'] = data['text'].apply(lambda x: get_embedding(x))"
   ]
  },
  {
   "cell_type": "markdown",
   "id": "41295ecc-942c-4505-9126-e4422cd026aa",
   "metadata": {},
   "source": [
    "## Create Vectors list"
   ]
  },
  {
   "cell_type": "code",
   "execution_count": 7,
   "id": "aef054db-b0fb-4850-99e9-129307ba81e4",
   "metadata": {},
   "outputs": [],
   "source": [
    "#nos\n",
    "vectors = [\n",
    "    {\n",
    "        'id': str(row['uuid']),  \n",
    "        'values': row['embeddings'], \n",
    "        'metadata': {\n",
    "            'nos_id': row['nos_id'],\n",
    "            'industry':row['industry'],\n",
    "            'title': row['title'],\n",
    "            'type': row['type'],\n",
    "            'text': row['text']\n",
    "        }\n",
    "    }\n",
    "    for _, row in data.iterrows()\n",
    "]"
   ]
  },
  {
   "cell_type": "code",
   "execution_count": 10,
   "id": "152bb331-c88c-4126-9daa-42cba4a0079e",
   "metadata": {},
   "outputs": [],
   "source": [
    "#ofqal\n",
    "vectors = [\n",
    "    {\n",
    "        'id': str(row['uuid']),  \n",
    "        'values': row['embeddings'], \n",
    "        'metadata': {\n",
    "            'level': row['level'],\n",
    "            'industry':row['industry'],\n",
    "            'title': row['title'],\n",
    "            'text': row['text']\n",
    "        }\n",
    "    }\n",
    "    for _, row in data.iterrows()\n",
    "]"
   ]
  },
  {
   "cell_type": "code",
   "execution_count": 11,
   "id": "67d5eca1-d22e-4fa0-9f8b-f060329cd217",
   "metadata": {},
   "outputs": [
    {
     "data": {
      "text/plain": [
       "273"
      ]
     },
     "execution_count": 11,
     "metadata": {},
     "output_type": "execute_result"
    }
   ],
   "source": [
    "len(vectors)"
   ]
  },
  {
   "cell_type": "code",
   "execution_count": 12,
   "id": "6c7f4ae6-28cb-4ec4-bd15-460de6161a41",
   "metadata": {},
   "outputs": [],
   "source": [
    "os.chdir(r'C:\\Users\\smrit\\Work\\Kenpath\\zavmo-api')"
   ]
  },
  {
   "cell_type": "markdown",
   "id": "3e00ce6b-bd0c-417f-aeb2-e7659a5d0aab",
   "metadata": {},
   "source": [
    "## Creating index and upsert vectors"
   ]
  },
  {
   "cell_type": "code",
   "execution_count": 1,
   "id": "eb690bc9-52ee-490c-924f-eedddc86a0a9",
   "metadata": {},
   "outputs": [],
   "source": [
    "#Index\n",
    "#NOS: test-nos\n",
    "#OFQAL: test-ofqual"
   ]
  },
  {
   "cell_type": "code",
   "execution_count": 15,
   "id": "03527329-3398-401d-a1fa-14192befa3bc",
   "metadata": {},
   "outputs": [
    {
     "name": "stderr",
     "output_type": "stream",
     "text": [
      "INFO:pinecone_index:Creating index: test-ofqual\n"
     ]
    }
   ],
   "source": [
    "from pinecone_index import PineconeIndex\n",
    "\n",
    "# Initialize PineconeIndex\n",
    "pinecone_index = PineconeIndex(index_name='test-ofqual', dimension=1536)"
   ]
  },
  {
   "cell_type": "code",
   "execution_count": 12,
   "id": "6a765c3d-fc84-421c-aff1-eed99acd6849",
   "metadata": {},
   "outputs": [],
   "source": [
    "#pinecone_index.delete_all()"
   ]
  },
  {
   "cell_type": "code",
   "execution_count": 16,
   "id": "b5073b26-1eaf-4ac1-a9dc-202dd38d7c17",
   "metadata": {},
   "outputs": [],
   "source": [
    "#delete index\n",
    "#pinecone_index.delete_index()"
   ]
  },
  {
   "cell_type": "code",
   "execution_count": 17,
   "id": "ee8d56d4-f6e4-4785-b152-b18f00491d28",
   "metadata": {},
   "outputs": [
    {
     "name": "stderr",
     "output_type": "stream",
     "text": [
      "INFO:pinecone_index:Upserting 273 vectors into the index\n"
     ]
    }
   ],
   "source": [
    "# Upsert vectors into the index\n",
    "pinecone_index.upsert_vectors(vectors)"
   ]
  },
  {
   "cell_type": "code",
   "execution_count": 19,
   "id": "58cdc959-c822-4655-904f-e8b00f9f21d7",
   "metadata": {},
   "outputs": [
    {
     "name": "stderr",
     "output_type": "stream",
     "text": [
      "INFO:pinecone_index:Total vectors in the index: 273\n"
     ]
    },
    {
     "name": "stdout",
     "output_type": "stream",
     "text": [
      "Number of vectors in the index: 273\n"
     ]
    }
   ],
   "source": [
    "# Get the number of vectors in the index\n",
    "vector_count = pinecone_index.get_vector_count()\n",
    "print(f\"Number of vectors in the index: {vector_count}\")"
   ]
  },
  {
   "cell_type": "markdown",
   "id": "f5c5c943-6191-4da3-ac41-d217da86da3a",
   "metadata": {},
   "source": [
    "### Querying "
   ]
  },
  {
   "cell_type": "code",
   "execution_count": null,
   "id": "7e92abe1-4858-4e4a-926b-3ebcb08306ee",
   "metadata": {},
   "outputs": [],
   "source": [
    "# Example query\n",
    "query_vector = data['embeddings'][0]  \n",
    "search_results = pinecone_index.search_items([query_vector])\n",
    "\n",
    "# Print search results\n",
    "for result in search_results:\n",
    "    print(f\"Found match: {result['id']} with score: {result['score']}, metadata: {result['metadata']}\")"
   ]
  },
  {
   "cell_type": "code",
   "execution_count": 25,
   "id": "2fcf521f-7e25-41f9-99b5-700e85eb9c3d",
   "metadata": {},
   "outputs": [
    {
     "name": "stderr",
     "output_type": "stream",
     "text": [
      "INFO:httpx:HTTP Request: POST https://api.openai.com/v1/embeddings \"HTTP/1.1 200 OK\"\n"
     ]
    }
   ],
   "source": [
    "#question = \"I am a sales manager, what are the required skills I should know and learn according to NOS?\"\n",
    "competency = \"Use sales-related information for planning and implementing sales activities\"\n",
    "query_vector = get_embedding(competency)"
   ]
  },
  {
   "cell_type": "code",
   "execution_count": 26,
   "id": "652e530a-05cf-4875-974d-b9fffdec68b8",
   "metadata": {},
   "outputs": [
    {
     "name": "stderr",
     "output_type": "stream",
     "text": [
      "INFO:pinecone_index:Searching the index with 1 query vectors\n"
     ]
    },
    {
     "name": "stdout",
     "output_type": "stream",
     "text": [
      "Found match: 418eaa69-485e-44a7-9d6b-f62f81df6a00 with score: 0.646544218, metadata: {'industry': 'Sales', 'level': 'level 5', 'text': '2.1 Evaluate own organisation’s available sales information Scope and accuracy of sales information. Variables measured. 2.2 Evaluate other information available in own organisation that could contribute to sales forecasting activities Assess data such as customer records. Market research, marketing environment predictions, product/service developments and pricing changes. Finance records. 2.3 Evaluate how plans for product and service development may impact on sales forecasts Assess the likely contribution of any new product/service based on anticipated customer demand, timing of launch and expected competitor reaction. 2.4 Compare past variances between forecast sales and sales achieved and reasons for those variances Using historical data and feedback to match performance against forecast in previous sales periods. 3. Be able to forecast sales 3.1 Use a forecasting method(s) to prepare an analysis to predict future sales trends Using your research from 1.1 use a forecasting method qualitative or quantitative data to predict future sales 3.2 Consult colleagues about sales forecasts and identify the implications for the organisation Setting up a formal process to gather opinion and input from relevant internal sources – meetings, questionnaires and reporting 4. Be able to set sales targets and objectives and devise measurement activities to monitor them 4', 'title': '2. Understand forecasting in own organisation'}\n",
      "Found match: 1086bff4-a874-46b2-ae70-1e6f4160f0c2 with score: 0.625300527, metadata: {'industry': 'Sales', 'level': 'level 3', 'text': 'Organisational policy on data storage. Data protection. Legal and ethical issues of use of salesrelated information. GDPR compliant 2. Be able to obtain salesrelated information about customers, markets and competitors 2.1 Identify the information needed to develop knowledge about the organisation’s markets, customers and competitors Identify relevant information, on sector, competitors, own organisation policies, customers and product knowledge. 2.2 Identify sources of information about the organisation’s markets, customers and competitors Sector bodies, Industry bodies, Sector magazines, internet, Company’s house, networking events, colleagues, Competitor websites and sales brochures 2.3 Gather information about the organisation’s markets, customers and competitors Extract relevant information, list and update as required. Add to company database/CRM 3. Be able to use analytical tools and methods to provide salesrelated information 3.1 Select and use a variety of analytical tools and methods to analyse salesrelated information Know how to use appropriate software packages for analysing and presenting salesrelated information. CRM systems and reporting 3.2 Present your analysis of salesrelated information Identify trends in salesrelated data. Identify the target audience for', 'title': '1.3 Explain how to ensure that the sales-related information is stored safely and securely and is accessible when needed'}\n",
      "Found match: 8cfff5f6-b2d2-4ede-a0a8-dc4c6d892e03 with score: 0.622535586, metadata: {'industry': 'Sales', 'level': 'level 6', 'text': '3. Be able to use sales planning and sales trends in order to inform salesforce resourcing 3.1 Use sales planning and forecasting information to assess the scope of resource requirements for the sales force Demonstrate the importance to the organisation of good quality plans and accurate sales forecasts. Product performance, contribution and costs to the business. 3.2 Analyse salesforce resource requirements and identify potential gaps in resources that need to be filled to achieve sales targets Ongoing monitoring and reviewing. Discuss the objective analysis of salesforce capability and resource in order to achieve the sales line including a range of methods for the analysis 4. Be able to review salesforce structure 4.1 Evaluate current salesforce structure against future requirements Demonstrate the importance of evaluating the sales structure currently in existence and comparing it to the future requirements of the proposed business and sales strategy. 4.2 Recommend resources to support the development of the salesforce for future requirements Discuss the importance of being proactive or preemptive in analysing the market requirements and making the necessary adjustments to the salesforce and sales structure. Demonstrate Piercy and Lane’s checklist for organisations which have low market IQ and', 'title': 'Discuss a range of methods for the consolidation of information including SWOT analysis and 6 C’s framework'}\n",
      "Found match: 381513dd-81d6-4f87-b8d8-2e63d4540a2a with score: 0.61160773, metadata: {'industry': 'Sales', 'level': 'level 4', 'text': 'Unit aim This unit aims to provide the skills necessary for putting together an operational sales plan, and the knowledge for managing the implementation of the plan and for dealing with variances to the plan. Level: ISM Unit no. RQF unit reference no. 4 U404 M/502/9738 Credit Value TQT Guided Learning Hours 5 50 45 Mapping to National Occupational Standards Sales NOS 2.4 Learning outcomes The learner will: 1. Understand how own organisation’s business and marketing strategies inform operational sales planning Assessment criteria The learner can: 1.1 Describe how own organisation’s business and marketing strategies inform operational sales planning Indicative Content Consider long, medium and shortterm planning and demonstrate the link to strategic, tactical and operational plans together with the focus of each type of plan 2. Understand sales forecasting techniques 2.1 Describe how historical sales data informs sales forecasts Historical sales figures give an indication of future sales. Used as a starting point for forecasts before factoring', 'title': 'Unit 404: Operational sales planning'}\n",
      "Found match: fac6cf37-d0b7-40ee-8f4b-660c13dd6884 with score: 0.603204, metadata: {'industry': 'Sales', 'level': 'level 5', 'text': '3.1 Review how to obtain feedback from colleagues about the usefulness of salesrelated information Preparation and analysis of formal feedback such as questionnaires. Options for informal feedback and the limitations of that option. 3.2 Evaluate budget allocations for obtaining market information Cost versus benefit exercise. Budget allocation techniques such as objective and task assessed and how the cost of information may in turn open up new opportunities or prevent costly mistakes. 3.3 Evaluate the importance of the sales function contributing realistic market information to the marketing function Explanation of the marketing information system concept and how that applies in practice. 3.4 Evaluate how an organisation’s policy on the storage of information can meet data protection requirements Overview data protection best practice and principles for any customer data held. Setting up of procedures that protect customers. Allocation of roles and responsibilities. 3.5 Appraise how the use of sales related information can result in changes to the marketing mix and the marketing and sales strategy Using sales information such as that on competitors, market chances and customer needs and how it can change pricing tactics. Discussion of similar effects in product development and promotion Specification ISM Level 5 RQF Qualifications Version 06 01.07.19 Authorised by F', 'title': '3 Understand the use of marketing research in sales'}\n",
      "Found match: 7a7cb169-08ff-4a77-8320-5719826298f3 with score: 0.600211859, metadata: {'industry': 'Sales', 'level': 'level 6', 'text': '3.1 Evaluate qualitative techniques for forecasting sales Advantages and disadvantages of forecasting techniques that use the opinions, intuition and knowledge of experienced people 3.2 Evaluate quantitative techniques for forecasting sales Advantages and disadvantages of forecasting techniques that use historical and other factual data 3.3 Evaluate the use of computer software for forecasting sales Use of quantitative data, data manipulation, speed and accuracy, visual representation. Forecasting software systems, CRM systems. 4. Understand the importance of monitoring actual sales against forecast sales 4.1 Evaluate the importance of measuring and monitoring actual sales against forecast sales Accountability, impact on other organisation departments, resources. Contingency planning. 4.2 Evaluate methods for measuring and monitoring actual sales against forecast sales and for revising sales forecasts Control charts Z charts Error analysis 5. Understand budgeting methods 5.1 Evaluate budgeting methods and select a method likely to give an accurate budget to support sales forecasts Budgeting methods including incremental, activitybased, zerobased, performance based. 5.2 Evaluate methods for allocating the sales budget to sales teams Budgeting to support targets, quotas and potential 5.3 Evaluate methods to identify', 'title': '3. Understand qualitative and quantitative techniques for forecasting sales'}\n",
      "Found match: 8dfd6f0a-77d2-465c-9107-c80dd22e5669 with score: 0.591769457, metadata: {'industry': 'Sales', 'level': 'level 4', 'text': '3.1 Develop a time plan for the establishment of objectives and targets for sales plans Demonstrate how the plan needs to fit with the financial year and how it can be broken into smaller time periods to aid execution and monitoring. 3.2 Use sales forecasts to set objectives and targets for a sales plan Influence of required profit margins, costs, the marketing plan on target setting 4. Be able to write an operational sales plan 4.1 Write an operational sales plan to meet objectives and targets Work through the objectives, strategy, tactics, actions and controls within a sales plan 4.2 Specify and allocate sales territories Rational approach. Understand the considerations and implications on a range of territory design methods 4.3 Write a business case to obtain the resources to achieve the operational sales plan’s objectives and targets Consider the structure of a business case including context, objectives, needs, criteria, risks, options and timescales. Return on investment (ROI) calculation. 5. Understand how to manage the implementation of the operational sales plan through the sales team 5.1 Explain how to communicate the operational sales plan to all stakeholders and define individual roles and targets in the sales', 'title': '3. Be able to set objectives and targets in a sales plan'}\n",
      "Found match: 421844d5-034b-44e4-9612-cd9c15e4608c with score: 0.588586509, metadata: {'industry': 'Sales', 'level': 'level 3', 'text': 'Delegate, share, trade off tasks with other team members or negotiate tasks with line manager. Consolidate, postpone, mechanise, simplify tasks. Importance of saying No. 2. Be able to develop a sales call plan 2.1 Prioritise customer and prospects list based on sales revenue and sales potential Personal sales targets appropriate to customer base. List customers and prospects in terms of potential value and probability of a sale. 2.2 Calculate the time to spend on high, medium and low priority customers and prospects Determine the time available to spend on each customer and prospect. 2.3 Select the most appropriate method of contacting each customer or prospect Contact methods: phone, in person, email. Awareness of when a call will suffice and when a visit is required. Making an appointment ahead of a sales call. 2.4 Describe the purpose of each call, ensuring the call gives value to the customer or prospect and to the salesperson Know what you want to achieve from each contact. Knowledge of the sales cycle to structure and progress sales contacts. Plan purpose of call. Use of CRM 3. Be able to develop a plan to manage sales within a sales territory 3', 'title': '1.6 Use techniques for managing work requests which are not high-priority'}\n",
      "Found match: 6c1068d2-a9a4-41a1-9931-de1ec2ffa2d4 with score: 0.585731626, metadata: {'industry': 'Sales', 'level': 'level 3', 'text': 'Unit aim This unit aims to provide the knowledge and skills needed to obtain and analyse information that helps to understand the markets that are sold into. Level: 3 ISM Unit no. U306 RQF unit reference no. T/502/7506 Credit Value: 5 TQT: 50 Guided Learning Hours: 40 Mapping to National Occupational Standards Sales NOS 1.1, 1.2 Learning outcomes The learner will: 1. Understand the importance of obtaining and storing salesrelated information Assessment criteria The learner can: 1.1 Explain the importance of having uptodate information to support sales activities Indicative content: Monitor external environment PESTLE Sector, competitor, product knowledge Knowledge and expertise builds trust and rapport with customer 1.2 Explain the importance of reviewing data requirements for current and future use Indicative content: Data from the latest markets trends, consumer trends, competition offerings, as well as past sales performance and previous consumer behaviours, needs and reactions to market offerings. Reviewing this data will inform marketing, support sales decisions and identify opportunities Specification ISM Level 3 Qualifications Version 6 01.07.19 Authorised', 'title': 'Unit U306: Using market information for sales'}\n",
      "Found match: c285a0a9-1b18-4190-8c3b-f695afb20a1d with score: 0.570692182, metadata: {'industry': 'Sales', 'level': 'level 6', 'text': '2.3 Evaluate the likely impact of planned salesrelated change on the sales team’s stakeholders How change affects salespeople and teams, how this can be assessed Stakeholders in the sales process, their needs and relative importance, their relationship to change 3. Understand how to secure support for salesrelated change 3.1 Evaluate methods to secure support for salesrelated change from senior management Persuading people to change, openness and barriers to change, change agents and champions 3.2 Evaluate methods to secure support for salesrelated change from the sales team Identify what senior managers and the sales team each want from salesrelated change and how to approach each group for support 3.3 Evaluate methods to influence stakeholders to secure support for salesrelated change Approaching, engaging and influencing stakeholders 4. Understand how to manage a salesrelated change 4.1 Evaluate methods to construct a plan to implement and monitor salesrelated change Change management audit, the politics of change, managing change in a sales environment. Developing and managing a change plan 4.2 Evaluate how individuals in the sales team can be supported during salesrelated change Managing people through transition. Importance of communication throughout the process 4.3 Describe how', 'title': 'sales people and on the sales team  '}\n"
     ]
    }
   ],
   "source": [
    "search_results = pinecone_index.search_items([query_vector])\n",
    "\n",
    "for result in search_results:\n",
    "    print(f\"Found match: {result['id']} with score: {result['score']}, metadata: {result['metadata']}\")"
   ]
  },
  {
   "cell_type": "code",
   "execution_count": 33,
   "id": "b7b063a8-8911-4960-8455-fa98f63d3961",
   "metadata": {},
   "outputs": [],
   "source": [
    "#os.chdir(r\"C:\\Users\\smrit\\Work\\Kenpath\\zavmo-api\\zavmo\\helpers\")"
   ]
  },
  {
   "cell_type": "markdown",
   "id": "59de0873-5c6c-404a-b0d6-1bc8e6ddb006",
   "metadata": {},
   "source": [
    "### Retrieving nos documents passing currentrole and filter=Sales"
   ]
  },
  {
   "cell_type": "code",
   "execution_count": 31,
   "id": "787119bd-169c-4a7f-bf6f-57f582fe52ba",
   "metadata": {},
   "outputs": [
    {
     "name": "stderr",
     "output_type": "stream",
     "text": [
      "INFO:httpx:HTTP Request: POST https://api.openai.com/v1/embeddings \"HTTP/1.1 200 OK\"\n"
     ]
    }
   ],
   "source": [
    "import search\n",
    "results = search.fetch_nos_text(industry=\"Sales\", current_role=\"Sales Manager\")"
   ]
  },
  {
   "cell_type": "code",
   "execution_count": 32,
   "id": "aa452fcb-5a93-4a39-bb13-1640e777606a",
   "metadata": {},
   "outputs": [
    {
     "data": {
      "text/plain": [
       "['Performance criteria\\nYou must be able to:\\n1.    identify the target markets for sales and prepare for sales activities \\n2.    identify customers to contact and the range of products and services \\n3.    prepare and follow call plans, email campaigns and other means of communication \\nwith customers \\n4.    help the customer become comfortable with making an investment into your \\nproducts of services, understanding the value of doing so \\n5.    prepare sales materials and accompanying messages during contacts with \\ncustomers \\n6.    adhere to your organisation’s dress code while selling to customers \\n7.    agree procedures for collecting contact details of potential customers \\n8.    adhere to health, safety and security requirements appropriate to the face-to-face \\nsales environment \\n9.    contact customers through relevant means of communication \\n10.  identify customers’ requirements through questioning and confirm these by \\nsummarising their needs and interests \\n11.  emphasise unique selling points and points of differentiation during contacts with \\ncustomers \\n12.  provide customers with materials to support the promotion of products and \\nservices \\n13.  structure sales discussions to include an overview of the value of products and \\nservices \\n14.  give customers clear information and make proposals that meet their requirements \\n15.  overcome customer objections and meet customer needs \\n16.  look for potential up-selling, cross-selling, and add-on opportunities prior to closing \\nthe sale \\n17.  evaluate potential trade-offs that will be mutually beneficial to the customers and \\nyour organisation \\n18.  close the sale by gaining the commitment of the customer and complete the \\nformalities of the sale following organisational procedures \\n19.  record, analyse and act on any area in of the products and services that does not \\nmeet the customers’ requirements or returned no interest \\n20.  leverage opportunities to develop relationships with customers by identifying and \\npursuing further contacts and leads \\n21.  collect and use customer testimonials and case studies to support the sales \\nmessages \\n22.  evaluate the effectiveness of the sales approaches, communication methods and \\nenvironments \\n23.  reflect on lessons learned and make appropriate amendments to the sales \\napproaches, communication methods, and environments\\nINSSAL022 \\nSell products and services face-to-face\\nINSSAL022 \\nSell products and services face-to-face\\n2\\n',\n",
       " 'Performance criteria\\nYou must be able to:\\n1.    use sales-related information for planning and implementing sales activities \\n2.    store information on the sales technology systems, checking its quality, validity \\nand reliability \\n3.    maintain the sales-related information stored in the technology systems, ensuring \\nit is accurate and up to date \\n4.    use tools and technology systems for automation of sales-related tasks and \\nactivities \\n5.    share sales-related information for collaboration with members of sales team \\n6.    use lead generation automation technology to qualify the leads \\n7.    collate potential leads and prioritise these in accordance with sales targets \\n8.    summarise information appropriately from sales systems for reporting to \\nmanagement \\n9.    follow up incoming leads and assign the ownership of quality leads to the most \\nrelevant members of sales team \\n10.  monitor, process or delegate daily tasks within assigned ownership and visibility on \\ntechnology systems \\n11.  monitor own use of the sales technology system, seeking guidance, support and \\nskills development, where necessary \\n12.  provide feedback on the sales technology systems, your pipeline management and \\nother tasks and activities \\n13.  seek evidence-based recommendations for improvement of sales activities and \\npersonal productivity using the technology systems\\nINSSAL014 \\nUse sales tools and technology systems\\nINSSAL014 \\nUse sales tools and technology systems\\n2\\n',\n",
       " 'INSSAL014 \\nUse sales tools and technology systems\\nOverview\\nThis standard is about using sales tools and technology systems for variety of \\nactivities, such as planning, implementation, generation of leads, forecasting, \\nenhancing sales activities and increasing the likelihood of closing sales. It covers the \\nuse, storage and maintenance of information within a sales technology system, \\ncollating and qualifying the leads, assigning these within sales team and feeding them \\ninto your sales pipeline. It also includes monitoring your own use of the systems and \\nproviding feedback to improve the systems. It is not aimed at those who manage sales \\ntechnology systems, but at sales professionals who use tools and technology systems \\nfor sales activities.\\nINSSAL014 \\nUse sales tools and technology systems\\nINSSAL014 \\nUse sales tools and technology systems\\n1\\n',\n",
       " 'Performance criteria\\nYou must be able to:\\n1.    analyse sales performance against set targets in the organisation \\n2.    establish clear standards for behaviours and expectations of performance \\n3.    communicate targets in a positive, motivating and energising manner \\n4.    identify positive, negative behaviours and motivational factors for the sales team to \\nevaluate the impact these have on performance \\n5.    collate the attitudes and views of the sales team in relation to their roles and \\norganisational culture \\n6.    identify and evaluate organisational barriers and conflicts that demonstrate a de-\\nmotivating effect and explore ways to overcome those barriers \\n7.    identify organisational factors that motivate sales team members and promote \\nthese \\n8.    provide clear and transparent benchmarks against which members of the sales \\nteam can measure their performance \\n9.    establish key monitoring, control and key performance indicators for measuring \\nperformance \\n10.  recognise and celebrate achievements by the team and sales champions \\n11.  consult colleagues and build a pattern of recognition through praise or reward \\nschemes that align with individual preferences \\n12.  identify key objectives for improving motivation and enhancing sales performance \\nusing measurement and evaluation \\n13.  provide opportunities for personalised motivational sales plans as a tool for \\nmotivating members of the sales team \\n14.  develop internal team communication activities to aid motivation \\n15.  review performance of the sales team and make appropriate changes, where \\nrequired\\nINSSAL010 \\nMotivate sales professionals\\nINSSAL010 \\nMotivate sales professionals\\n2\\n',\n",
       " 'INSSAL022 \\nSell products and services face-to-face\\nOverview\\nThis standard is about selling products and services face-to-face. This is an integral \\npart of most sales and takes place in various sales environments, such as selling at \\ncustomers’ premises, in-store, at fairs and exhibitions. Face-to-face selling requires \\ngood emotional intelligence, listening and questioning skills. You need to uncover the \\ncustomer needs and be able to explain how your product or service will address the \\nneed and deliver value to them. There is likely to be several face-to-face meetings and \\nwith different people, in order to win some business. Each meeting should build upon \\nearlier ones in order to progress the opportunity. You should discover whether \\ncustomers’ interests suggest that there may be an opportunity for up selling, cross \\nselling and selling add-ons. This standard is for sales professionals who sell products \\nand services face-to-face.\\nINSSAL022 \\nSell products and services face-to-face\\nINSSAL022 \\nSell products and services face-to-face\\n1\\n',\n",
       " 'INSSAL008 \\nNegotiate, handle objections and close sales\\nOverview\\nThis standard is about negotiating, handling objections and closing sales. It covers how \\nyou anticipate and handle objections to progress and then close a sale to the \\nsatisfaction of the customers and your organisation. You will need to evaluate a range \\nof different sales situations and demonstrate a good knowledge and understanding of \\nyour products and services in a way that enables you to convince your customers to \\nmake the investment in your offering. This standard is for sales professionals who \\nnegotiate, handle objections and close sales.\\nINSSAL008 \\nNegotiate, handle objections and close sales\\nINSSAL008 \\nNegotiate, handle objections and close sales\\n1\\n',\n",
       " 'Developed by\\nInstructus\\nVersion Number\\n1\\nDate Approved\\n13 Feb 2024\\nIndicative Review Date\\n28 Feb 2029\\nValidity\\nCurrent\\nStatus\\nOriginal\\nOriginating Organisation\\nInstructus \\nOriginal URN\\nCFASAL006\\nRelevant Occupations\\nBusiness Sales Executives, Marketing and Sales Managers, \\nSales Accounts and Business Development Managers, Sales \\nRelated Occupations, Telephone Salespersons\\nSuite\\nSales\\nKeywords\\nSales plans; achieve sales targets; profitability and \\nsustainability of products and/or services; problem solving; \\nselling priorities; key resource requirements; budget \\nrequirements; key performance indicators; communication; \\ncompetitor sales activities; marketing and sales strategies\\nINSSAL002\\nDevelop sales plans\\nINSSAL002\\nDevelop sales plans\\n4\\n',\n",
       " 'Developed by\\nInstructus\\nVersion Number\\n1\\nDate Approved\\n13 Feb 2024\\nIndicative Review Date\\n28 Feb 2029\\nValidity\\nCurrent\\nStatus\\nOriginal\\nOriginating Organisation\\nInstructus \\nOriginal URN\\nCFASAL014\\nRelevant Occupations\\nBusiness Sales Executives, Marketing and Sales Managers, \\nSales Accounts and Business Development Managers, Sales \\nRelated Occupations, Telephone Salespersons\\nSuite\\nSales\\nKeywords\\nSelling; sales opportunities; identify targets for sales; create \\nprospects; sales procedures; assess delegate lists; verbal and \\nnon-verbal communication; unique selling points; points of \\ndifferentiation; collect customer testimonials; gain commitment \\nfor sales; evaluate sales approach; time management; \\npromotional materials; cross-selling and up-selling\\nINSSAL022 \\nSell products and services face-to-face\\nINSSAL022 \\nSell products and services face-to-face\\n4\\n',\n",
       " 'Developed by\\nInstructus\\nVersion Number\\n1\\nDate Approved\\n13 Feb 2024\\nIndicative Review Date\\n28 Feb 2029\\nValidity\\nCurrent\\nStatus\\nOriginal\\nOriginating Organisation\\nInstructus \\nOriginal URN\\nCFASAL008\\nRelevant Occupations\\nBusiness Sales Executives, Marketing and Sales Managers, \\nSales Accounts and Business Development Managers, Sales \\nRelated Occupations, Telephone Salespersons\\nSuite\\nSales\\nKeywords\\nSelling priorities; profitability; assessing products and/or \\nservices; market trends; identifying portfolio inter-relationships; \\nidentifying strengths; identifying risks; sustainable competitive \\nadvantage; developing a business case; marketing and sales \\nstrategy; customer base; customer needs and expectations; \\nstrategic objectives; contingency plans; monitoring product \\ndemand\\nINSSAL016 \\nDetermine selling priorities across a portfolio of products and services\\nINSSAL016 \\nDetermine selling priorities across a portfolio of products and services\\n4\\n',\n",
       " 'INSSAL010 \\nMotivate sales professionals\\nOverview\\nThis standard is about motivating sales professionals. Team leaders and managers  \\nachieve results through effective motivation of sales team members. The standard \\nfocuses on the principles of motivating sales staff to produce the required results and \\ncovers both formal and informal incentives for boosting sales team motivation. It is for \\nsales professionals with supervisory or managerial responsibilities.\\nINSSAL010 \\nMotivate sales professionals\\nINSSAL010 \\nMotivate sales professionals\\n1\\n']"
      ]
     },
     "execution_count": 32,
     "metadata": {},
     "output_type": "execute_result"
    }
   ],
   "source": [
    "results"
   ]
  },
  {
   "cell_type": "code",
   "execution_count": null,
   "id": "0359123f-f900-4843-b46a-0f73cbf9f6d1",
   "metadata": {},
   "outputs": [],
   "source": []
  }
 ],
 "metadata": {
  "kernelspec": {
   "display_name": "Python 3 (ipykernel)",
   "language": "python",
   "name": "python3"
  },
  "language_info": {
   "codemirror_mode": {
    "name": "ipython",
    "version": 3
   },
   "file_extension": ".py",
   "mimetype": "text/x-python",
   "name": "python",
   "nbconvert_exporter": "python",
   "pygments_lexer": "ipython3",
   "version": "3.11.4"
  }
 },
 "nbformat": 4,
 "nbformat_minor": 5
}
