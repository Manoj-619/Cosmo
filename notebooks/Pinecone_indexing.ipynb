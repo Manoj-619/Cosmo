{
 "cells": [
  {
   "cell_type": "code",
   "execution_count": 50,
   "id": "224de9d5-e717-477c-b45a-51ab6d4a3584",
   "metadata": {},
   "outputs": [],
   "source": [
    "import pandas as pd\n",
    "import openai\n",
    "import os\n",
    "from openai import OpenAI\n",
    "from dotenv import load_dotenv\n",
    "from tqdm import tqdm"
   ]
  },
  {
   "cell_type": "code",
   "execution_count": 51,
   "id": "39ed26b5-06bc-4460-82c1-c43041ad8344",
   "metadata": {},
   "outputs": [
    {
     "data": {
      "text/plain": [
       "True"
      ]
     },
     "execution_count": 51,
     "metadata": {},
     "output_type": "execute_result"
    }
   ],
   "source": [
    "load_dotenv()"
   ]
  },
  {
   "cell_type": "code",
   "execution_count": 52,
   "id": "5bc1a5af-e1ba-4e41-9943-e248192e24a7",
   "metadata": {},
   "outputs": [],
   "source": [
    "data = pd.read_excel(r\"C:\\Users\\smrit\\Work\\Kenpath\\NOS-QUALS\\Sales NOS\\parsed_nos_data.xlsx\")"
   ]
  },
  {
   "cell_type": "code",
   "execution_count": 53,
   "id": "703a20ce-60d3-45a5-b6fe-c6d7828dcdd5",
   "metadata": {},
   "outputs": [
    {
     "data": {
      "text/plain": [
       "Index(['uuid', 'nos_id', 'title', 'type', 'text'], dtype='object')"
      ]
     },
     "execution_count": 53,
     "metadata": {},
     "output_type": "execute_result"
    }
   ],
   "source": [
    "data.columns"
   ]
  },
  {
   "cell_type": "markdown",
   "id": "90d69c43-a7cf-437a-a20d-7c248d8ff4e2",
   "metadata": {},
   "source": [
    "## Create Embeddings"
   ]
  },
  {
   "cell_type": "code",
   "execution_count": 5,
   "id": "0f949512-2bf9-4e53-9c82-20b71fad73bc",
   "metadata": {},
   "outputs": [],
   "source": [
    "#text-embedding-ada-002\n",
    "#text-embedding-3-small\n"
   ]
  },
  {
   "cell_type": "code",
   "execution_count": null,
   "id": "c7e8cf0f-5b35-44ee-9d9b-0e0c6bd8d760",
   "metadata": {},
   "outputs": [],
   "source": [
    "client = OpenAI(\n",
    "  api_key=os.environ['OPENAI_API_KEY'],  \n",
    ")\n",
    "\n",
    "def get_embedding(text, model=\"text-embedding-ada-002\"):\n",
    "    response = client.embeddings.create(\n",
    "        input=text,\n",
    "        model=model\n",
    "    )\n",
    "    return response.data[0].embedding\n",
    "\n",
    "data['embeddings'] = data['text'].apply(lambda x: get_embedding(x))"
   ]
  },
  {
   "cell_type": "markdown",
   "id": "41295ecc-942c-4505-9126-e4422cd026aa",
   "metadata": {},
   "source": [
    "## Create Vectors list"
   ]
  },
  {
   "cell_type": "code",
   "execution_count": 55,
   "id": "aef054db-b0fb-4850-99e9-129307ba81e4",
   "metadata": {},
   "outputs": [],
   "source": [
    "vectors = [\n",
    "    {\n",
    "        'id': str(row['uuid']),  \n",
    "        'values': row['embeddings'], \n",
    "        'metadata': {\n",
    "            'nos_id': row['nos_id'],\n",
    "            'title': row['title'],\n",
    "            'type': row['type'],\n",
    "            'text': row['text']\n",
    "        }\n",
    "    }\n",
    "    for _, row in data.iterrows()\n",
    "]"
   ]
  },
  {
   "cell_type": "code",
   "execution_count": 56,
   "id": "67d5eca1-d22e-4fa0-9f8b-f060329cd217",
   "metadata": {},
   "outputs": [
    {
     "data": {
      "text/plain": [
       "81"
      ]
     },
     "execution_count": 56,
     "metadata": {},
     "output_type": "execute_result"
    }
   ],
   "source": [
    "len(vectors)"
   ]
  },
  {
   "cell_type": "code",
   "execution_count": 57,
   "id": "6c7f4ae6-28cb-4ec4-bd15-460de6161a41",
   "metadata": {},
   "outputs": [],
   "source": [
    "os.chdir(r'C:\\Users\\smrit\\Work\\Kenpath\\zavmo-api')"
   ]
  },
  {
   "cell_type": "markdown",
   "id": "3e00ce6b-bd0c-417f-aeb2-e7659a5d0aab",
   "metadata": {},
   "source": [
    "## Creating index and upsert vectors"
   ]
  },
  {
   "cell_type": "code",
   "execution_count": 61,
   "id": "03527329-3398-401d-a1fa-14192befa3bc",
   "metadata": {},
   "outputs": [
    {
     "name": "stderr",
     "output_type": "stream",
     "text": [
      "INFO:pinecone_index:Connecting to existing index: test-nos\n"
     ]
    }
   ],
   "source": [
    "from pinecone_index import PineconeIndex\n",
    "\n",
    "# Initialize PineconeIndex\n",
    "pinecone_index = PineconeIndex(index_name='test-nos', dimension=1536)"
   ]
  },
  {
   "cell_type": "code",
   "execution_count": 45,
   "id": "6a765c3d-fc84-421c-aff1-eed99acd6849",
   "metadata": {},
   "outputs": [],
   "source": [
    "#pinecone_index.delete_all()"
   ]
  },
  {
   "cell_type": "code",
   "execution_count": 62,
   "id": "ee8d56d4-f6e4-4785-b152-b18f00491d28",
   "metadata": {},
   "outputs": [
    {
     "name": "stderr",
     "output_type": "stream",
     "text": [
      "INFO:pinecone_index:Upserting 81 vectors into the index\n"
     ]
    }
   ],
   "source": [
    "# Upsert vectors into the index\n",
    "pinecone_index.upsert_vectors(vectors)"
   ]
  },
  {
   "cell_type": "code",
   "execution_count": 63,
   "id": "58cdc959-c822-4655-904f-e8b00f9f21d7",
   "metadata": {},
   "outputs": [
    {
     "name": "stderr",
     "output_type": "stream",
     "text": [
      "INFO:pinecone_index:Total vectors in the index: 81\n"
     ]
    },
    {
     "name": "stdout",
     "output_type": "stream",
     "text": [
      "Number of vectors in the index: 81\n"
     ]
    }
   ],
   "source": [
    "# Get the number of vectors in the index\n",
    "vector_count = pinecone_index.get_vector_count()\n",
    "print(f\"Number of vectors in the index: {vector_count}\")"
   ]
  },
  {
   "cell_type": "markdown",
   "id": "f5c5c943-6191-4da3-ac41-d217da86da3a",
   "metadata": {},
   "source": [
    "### Querying "
   ]
  },
  {
   "cell_type": "code",
   "execution_count": null,
   "id": "7e92abe1-4858-4e4a-926b-3ebcb08306ee",
   "metadata": {},
   "outputs": [],
   "source": [
    "# Example query\n",
    "query_vector = data['embeddings'][0]  \n",
    "search_results = pinecone_index.search_items([query_vector])\n",
    "\n",
    "# Print search results\n",
    "for result in search_results:\n",
    "    print(f\"Found match: {result['id']} with score: {result['score']}, metadata: {result['metadata']}\")"
   ]
  },
  {
   "cell_type": "code",
   "execution_count": 65,
   "id": "2fcf521f-7e25-41f9-99b5-700e85eb9c3d",
   "metadata": {},
   "outputs": [
    {
     "name": "stderr",
     "output_type": "stream",
     "text": [
      "INFO:httpx:HTTP Request: POST https://api.openai.com/v1/embeddings \"HTTP/1.1 200 OK\"\n"
     ]
    }
   ],
   "source": [
    "question = \"I am a sales manager, what are the required skills I should know and learn according to NOS?\"\n",
    "query_vector = get_embedding(question)"
   ]
  },
  {
   "cell_type": "code",
   "execution_count": 66,
   "id": "652e530a-05cf-4875-974d-b9fffdec68b8",
   "metadata": {},
   "outputs": [
    {
     "name": "stderr",
     "output_type": "stream",
     "text": [
      "INFO:pinecone_index:Searching the index with 1 query vectors\n"
     ]
    },
    {
     "name": "stdout",
     "output_type": "stream",
     "text": [
      "Found match: 63dd7e47-8d36-4c3b-bdae-18b4ed84e992 with score: 0.842815757, metadata: {'nos_id': 'INSSAL008', 'text': \"Knowledge and understanding\\nYou need to know and understand:\\n1.    the current legal, ethical and regulatory sales requirements in relation to selling the \\nproducts and services in the industry or sector \\n2.    the types of competitor information for key competitor comparisons \\n3.    the industry or sector pricing structures and their impact upon sales objections \\n4.    the organisational procedures for negotiating and dealing with objections \\n5.    how to define objectives for a negotiation based on an assessment of the \\ncustomers’ negotiating stance and the organisation’s products’ and services’ strengths \\nand weaknesses \\n6.    the range of typical and unusual issues that might arise and the difference \\nbetween sincere and insincere objections \\n7.    the use of listening skills and how to summarise to confirm understanding \\n8.    the types of questioning techniques and how to use them to close the sale \\n9.    the types of barriers that may exist between customers and sales professionals \\n10.  the importance of testimonials when overcoming objections \\n11.  how to illustrate benefits and features of a products and services \\n12.  the concept of “win-win” situations and how to create them in negotiations \\n13.  how to negotiate a sale close and knowing when to say `no' to the customers \\n14.  the concept of cross-selling, up-selling and add-ons and how they can be used to \\nincrease sales values and profitability \\n15.  the range of techniques for closing a sale \\n16.  the difference between assertive and aggressive behaviour in the context of \\nclosing sales \\n17.  your organisation’s procedures for recording and storing the outcomes of \\nnegotiations \\n18.  the importance of reviewing the history of previous sales negotiations\\nINSSAL008 \\nNegotiate, handle objections and close sales\\nINSSAL008 \\nNegotiate, handle objections and close sales\\n3\\n\", 'title': 'Negotiate, handle objections and close sales', 'type': 'Knowledge and understanding'}\n",
      "Found match: 029d3b80-4866-4e66-aaa7-3fe8a7dacd41 with score: 0.840665698, metadata: {'nos_id': 'INSSAL004', 'text': \"Knowledge and understanding\\nYou need to know and understand:\\n1.    the current legal, ethical and regulatory sales requirements and social \\nresponsibilities for the industry or sector \\n2.    the organisation's business and marketing strategies, objectives and plans \\n3.    how the marketing and sales functions relate to each other and contribute to \\nbusiness strategy \\n4.    the process for segmentation analysis that includes demographic, geographical, \\nlifestyle and behavioural considerations \\n5.    the relevant tools required to undertake a gap analysis using PESTLE and SWOT \\ntechniques \\n6.    the Specific, Measurable, Action-based, Realistic, Time-bound (SMART) approach \\nto setting sales objectives \\n7.    the different types of sales organisational structures, including geographic, product \\nbased, customer-based or brand-based \\n8.    the variety of distribution (go to market) channels \\n9.    the features of procurement that affect decision-making about distribution channels \\n10.  the variety of resources, such as human, finance and technology resources \\n11.  the relevant monitoring tools for evaluation of sales performance \\n12.  the methods for consulting and communicating with the sales team about strategy \\ndevelopment \\n13.  the importance of having an ethical and value-based approach to governance and \\nhow to put this into practice \\n14.  the procedures to follow if the organisation does not meet the legal, ethical and \\nregulatory sales requirements and social responsibilities\\nINSSAL004 \\nDevelop sales strategies and plans\\nINSSAL004 \\nDevelop sales strategies and plans\\n3\\n\", 'title': 'Develop sales strategies and plans', 'type': 'Knowledge and understanding'}\n",
      "Found match: 13eeea3e-5d4f-4b9e-98db-7dbb57c8d843 with score: 0.830468774, metadata: {'nos_id': 'INSSAL002', 'text': \"Knowledge and understanding\\nYou need to know and understand:\\n1.    the current legal, ethical and regulatory requirements of the industry and \\nprofessional sectors \\n2.    the range of competitor sales activities in the industry and professional sectors \\n3.    the organisation's marketing and sales strategies and how the sales plans are \\naligned with these \\n4.    the principles of sales planning \\n5.    the relevant models, tools and templates for sales plans \\n6.    the factors to be considered when reviewing the profitability and sustainability of \\nproducts and services \\n7.    the communication and consultation methods in relation to development of sales \\nplans \\n8.    the range of resources available for implementation of sales plans \\n9.    how to take account of budgetary information and constraints when developing a \\nsales plan \\n10.  how to identify the resources required for the implementation of sales plans \\n11.  the organisational practices for monitoring and controlling sales activities \\n12.  the potential risks and issues associated with sales plans and mitigation methods \\n13.  how to monitor and evaluate performance of sales plans\\nINSSAL002\\nDevelop sales plans\\nINSSAL002\\nDevelop sales plans\\n3\\n\", 'title': 'Develop sales plans', 'type': 'Knowledge and understanding'}\n",
      "Found match: 46194dbd-296c-4e63-ae11-821933ab65b8 with score: 0.828291059, metadata: {'nos_id': 'INSSAL008', 'text': 'INSSAL008 \\nNegotiate, handle objections and close sales\\nOverview\\nThis standard is about negotiating, handling objections and closing sales. It covers how \\nyou anticipate and handle objections to progress and then close a sale to the \\nsatisfaction of the customers and your organisation. You will need to evaluate a range \\nof different sales situations and demonstrate a good knowledge and understanding of \\nyour products and services in a way that enables you to convince your customers to \\nmake the investment in your offering. This standard is for sales professionals who \\nnegotiate, handle objections and close sales.\\nINSSAL008 \\nNegotiate, handle objections and close sales\\nINSSAL008 \\nNegotiate, handle objections and close sales\\n1\\n', 'title': 'Negotiate, handle objections and close sales', 'type': 'Overview'}\n",
      "Found match: 8cd6ae98-ea7d-4b4d-a062-989e31893ce6 with score: 0.827048182, metadata: {'nos_id': 'INSSAL010', 'text': 'Knowledge and understanding\\nYou need to know and understand:\\n1.    the relevant legislation in relation to employment, sales activities and health and \\nsafety \\n2.    the legal and ethical aspects of incentives and rewards \\n3.    the individual and organisational targets for your area of responsibility \\n4.    how your organisation monitors and measures sales performance and team \\nmotivation \\n5.    the different types of management styles and how these impact sales team \\nmembers differently \\n6.    the scope for change to maintain and boost motivation \\n7.    the methods of measuring and evaluating individual and sales team performance \\n8.    your organisation’s appraisal procedures \\n9.    the variety of motivation and coaching models and theories \\n10.  the range of business activities, sales functions and how they are affected by \\nmotivational issues \\n11.  how to develop and maintain productive relationships within an organisation \\n12.  the different methods of providing recognition for the team and sales champions \\n13.  the range of financial and non-financial incentives and motivational tools for \\nmotivating the sales team \\n14.  how to carry out appraisals and regular performance assessments to evaluate the \\nlevels of individual motivation in the sales team \\n15.  how to prepare personal development plans to encourage motivation and \\nachievement \\n16.  why interaction within the sales team is an important component of team \\nmotivation \\n17.  the variety of team building techniques that support motivation and improve team \\nperformance \\n18.  the variety of indicators for measuring and evaluating the sales team performance \\n19.  how to develop ideas, solutions and new approaches for maintaining the required \\nperformance\\nINSSAL010 \\nMotivate sales professionals\\nINSSAL010 \\nMotivate sales professionals\\n3\\n', 'title': 'Motivate sales professionals', 'type': 'Knowledge and understanding'}\n",
      "Found match: 53fdcfe2-6e7e-4732-8289-af61947efd54 with score: 0.82662642, metadata: {'nos_id': 'INSSAL008', 'text': \"Performance criteria\\nYou must be able to:\\n1.    define customers’ objectives for negotiations, based on their needs and the \\norganisation’s products and services \\n2.    identify potential problems that could arise and prepare solutions to overcome \\nthem \\n3.    plan to deal with a variety of standard and unusual sales objections prior to dealing \\nwith the customers \\n4.    identify customers’ needs and wants in relation to their objections by using a \\nvariety of questioning techniques \\n5.    answer customers’ objections with empathy and understanding before looking to \\nresolve these \\n6.    identify the concerns that are holding the prospective customer back from either \\nprogressing the discussions or agreeing to the sale \\n7.    explore customers’ objections to prioritise and overcome their concerns \\n8.    create a `win-win' situation during negotiations by balancing the needs of the \\norganisation and those of the customers \\n9.    check that the prospective customers agree with the solution to overcoming the \\nconcerns or objections \\n10.  decide whether the sale is to be closed or not \\n11.  use a trial close to allow customers to answer and address any further concerns or \\nobjections \\n12.  look for further potential add-on, up-selling or cross-selling opportunities prior to \\nclosing the sale and close the sale \\n13.  record outcomes of negotiations accurately and store those records appropriately \\n14.  analyse and review previous outcomes of negotiations to identify problems and \\nmake improvements\\nINSSAL008 \\nNegotiate, handle objections and close sales\\nINSSAL008 \\nNegotiate, handle objections and close sales\\n2\\n\", 'title': 'Negotiate, handle objections and close sales', 'type': 'Performance criteria'}\n",
      "Found match: eee3bcf3-a1ef-44ef-9eaf-23c146871091 with score: 0.825487316, metadata: {'nos_id': 'INSSAL022', 'text': 'Knowledge and understanding\\nYou need to know and understand:\\n1.    the current legal, regulatory and ethical constraints relating to face-to-face sales \\nactivities \\n2.    your organisation’s procedures and practices relating to sales face-to-face \\n3.    your organisation’s sales strategies, plans and targets \\n4.    the current health, safety and security requirements and procedures for variety of \\nface-to-face sales environments \\n5.    your organisation’s objectives and plans for face-to-face sales contacts with \\ncustomers \\n6.    the range of products and services and latest developments in the organisation’s \\nmarkets \\n7.    how to structure and progress sales contacts \\n8.    the relevant sales materials and accompanying messages for interaction with \\ncustomers \\n9.    the value of products and services and how to sell them \\n10.  how to develop a sales call plan and other methods of communication with \\ncustomers \\n11.  the differences between proactive and reactive selling \\n12.  the techniques for cross-selling, up-selling and the sale of add-ons \\n13.  the methods for assessing maximum and minimum sales returns \\n14.  how to prioritise development of leads according to potential value and probability \\nof sales closure \\n15.  the unique selling points and points of differentiation and how to emphasise them \\n16.  how to reach a solution to any sales issues or problems \\n17.  how to overcome customers’ objections and how to respond to customers’ queries \\n18.  the range of customers’ buying behaviours and how to manage them \\n19.  the techniques for closing sales at the different stages of a sale \\n20.  the methods and processes for collecting and recording sales leads information \\n21.  how to evaluate and measure the performance of sales techniques, approaches \\nand environments of face-to-face sales\\nINSSAL022 \\nSell products and services face-to-face\\nINSSAL022 \\nSell products and services face-to-face\\n3\\n', 'title': 'Sell products and services face-to-face', 'type': 'Knowledge and understanding'}\n",
      "Found match: 2ab25c14-bac9-44fd-bbcc-6ab7ffa5d2d0 with score: 0.822361112, metadata: {'nos_id': 'INSSAL017', 'text': 'Knowledge and understanding\\nYou need to know and understand:\\n1.    the current legal and ethical issues relating to the use of market and sales-related \\ninformation \\n2.    the sales-related codes of practice for the industry and sector \\n3.    the information requirements for the sales functions \\n4.    the differences between primary and secondary data \\n5.    how to identify trends in sales-related data \\n6.    the sources of market information and variety of analytical tools for sales-related \\ninformation \\n7.    how to use appropriate software packages for analysing and presenting sales-\\nrelated information \\n8.    the methods of processing and presenting different types of sales-related \\ninformation \\n9.    how to evaluate the suitability, relevance, validity, reliability and accuracy of \\nmarket information \\n10.  how the use of sales-related information can result in organisational changes to \\nthe marketing mix, marketing and sales strategies \\n11.  the relationships between marketing, sales and other functions and how these \\nimpact on the overall organisation\\nINSSAL017 \\nObtain and analyse sales-related information\\nINSSAL017 \\nObtain and analyse sales-related information\\n3\\n', 'title': 'Obtain and analyse sales-related information', 'type': 'Knowledge and understanding'}\n",
      "Found match: c1ff37ec-b9c6-4b7a-8a93-58ea2fffe462 with score: 0.822164536, metadata: {'nos_id': 'INSSAL014', 'text': 'Knowledge and understanding\\nYou need to know and understand:\\n1.    the current legal and ethical issues in relation to the use of sales tools and \\ntechnology systems \\n2.    the benefits of tools and technology systems for sales-related tasks and activities \\n3.    the range of tasks and activities on sales tools and technology systems \\n4.    the visibility options and ownership of sales team members on technology systems \\n5.    the information requirements for the sales function, lead generation and \\nqualification of these \\n6.    your organisation’s sales targets \\n7.    the importance of automation of sales-related tasks and activities \\n8.    how to collate, qualify and prioritise the leads on technology systems \\n9.    the sales pipeline and how to feed the leads into it using technology systems \\n10.  how to maintain and monitor your sales pipeline \\n11.  when to assign the leads to the relevant members of sales team or to yourself \\n12.  your organisation’s processes and procedures for using, storing and maintaining  \\ninformation \\n13.  how to use the sales technology system as part of planning and implementation of \\nsales activities \\n14.  the support, guidance and skills development available to the users of sales tools \\nand technology system \\n15.  how to seek recommendations for improvements of sales activities using the tools \\nand technology systems\\nINSSAL014 \\nUse sales tools and technology systems\\nINSSAL014 \\nUse sales tools and technology systems\\n3\\n', 'title': 'Use sales tools and technology systems', 'type': 'Knowledge and understanding'}\n",
      "Found match: 42a96032-f8a2-4ed9-8e2b-af3ace5b5b5f with score: 0.82193327, metadata: {'nos_id': 'INSSAL014', 'text': 'Performance criteria\\nYou must be able to:\\n1.    use sales-related information for planning and implementing sales activities \\n2.    store information on the sales technology systems, checking its quality, validity \\nand reliability \\n3.    maintain the sales-related information stored in the technology systems, ensuring \\nit is accurate and up to date \\n4.    use tools and technology systems for automation of sales-related tasks and \\nactivities \\n5.    share sales-related information for collaboration with members of sales team \\n6.    use lead generation automation technology to qualify the leads \\n7.    collate potential leads and prioritise these in accordance with sales targets \\n8.    summarise information appropriately from sales systems for reporting to \\nmanagement \\n9.    follow up incoming leads and assign the ownership of quality leads to the most \\nrelevant members of sales team \\n10.  monitor, process or delegate daily tasks within assigned ownership and visibility on \\ntechnology systems \\n11.  monitor own use of the sales technology system, seeking guidance, support and \\nskills development, where necessary \\n12.  provide feedback on the sales technology systems, your pipeline management and \\nother tasks and activities \\n13.  seek evidence-based recommendations for improvement of sales activities and \\npersonal productivity using the technology systems\\nINSSAL014 \\nUse sales tools and technology systems\\nINSSAL014 \\nUse sales tools and technology systems\\n2\\n', 'title': 'Use sales tools and technology systems', 'type': 'Performance criteria'}\n"
     ]
    }
   ],
   "source": [
    "search_results = pinecone_index.search_items([query_vector])\n",
    "\n",
    "for result in search_results:\n",
    "    print(f\"Found match: {result['id']} with score: {result['score']}, metadata: {result['metadata']}\")"
   ]
  },
  {
   "cell_type": "code",
   "execution_count": null,
   "id": "787119bd-169c-4a7f-bf6f-57f582fe52ba",
   "metadata": {},
   "outputs": [],
   "source": []
  }
 ],
 "metadata": {
  "kernelspec": {
   "display_name": "Python 3 (ipykernel)",
   "language": "python",
   "name": "python3"
  },
  "language_info": {
   "codemirror_mode": {
    "name": "ipython",
    "version": 3
   },
   "file_extension": ".py",
   "mimetype": "text/x-python",
   "name": "python",
   "nbconvert_exporter": "python",
   "pygments_lexer": "ipython3",
   "version": "3.11.4"
  }
 },
 "nbformat": 4,
 "nbformat_minor": 5
}
