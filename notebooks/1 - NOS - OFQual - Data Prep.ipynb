{
 "cells": [
  {
   "cell_type": "code",
   "execution_count": 1,
   "id": "998e3efe-0328-480f-854f-c7edf274e0d7",
   "metadata": {},
   "outputs": [],
   "source": [
    "import os\n",
    "os.chdir('/Users/adityachhabra/Github/zavmo/zavmo-api/zavmo')"
   ]
  },
  {
   "cell_type": "code",
   "execution_count": 2,
   "id": "8afbaf01-5a75-44f9-933f-6cb8151d38ef",
   "metadata": {},
   "outputs": [],
   "source": [
    "import pandas as pd\n",
    "from dotenv import load_dotenv\n",
    "pd.set_option('display.max_columns',500)"
   ]
  },
  {
   "cell_type": "code",
   "execution_count": 3,
   "id": "026e26d3-97ce-4628-bec1-45e7782cf3d1",
   "metadata": {},
   "outputs": [
    {
     "data": {
      "text/plain": [
       "True"
      ]
     },
     "execution_count": 3,
     "metadata": {},
     "output_type": "execute_result"
    }
   ],
   "source": [
    "load_dotenv()"
   ]
  },
  {
   "cell_type": "raw",
   "id": "8f3ff30a-9544-452f-9019-293a0c3aa6dd",
   "metadata": {},
   "source": [
    "### Get NOS documents"
   ]
  },
  {
   "cell_type": "raw",
   "id": "f7f5c4d3-9f95-4814-b4fd-624a8464fb71",
   "metadata": {},
   "source": [
    "nos_df = pd.read_csv(\"../docs/rgcn/nos.csv\")\n",
    "nos_df.head(3)"
   ]
  },
  {
   "cell_type": "markdown",
   "id": "2f43a535-cb48-4e2c-93c9-fac298501325",
   "metadata": {},
   "source": [
    "## OfQual"
   ]
  },
  {
   "cell_type": "code",
   "execution_count": 4,
   "id": "d5464481-72e0-464e-9969-cd333ab44385",
   "metadata": {},
   "outputs": [],
   "source": [
    "ofqual_unit_df = pd.read_csv(\"../agents/ofqual_unit_details.csv\")"
   ]
  },
  {
   "cell_type": "code",
   "execution_count": 5,
   "id": "571c339a-118b-4e31-8a88-fae5358c8507",
   "metadata": {},
   "outputs": [
    {
     "data": {
      "text/html": [
       "<div>\n",
       "<style scoped>\n",
       "    .dataframe tbody tr th:only-of-type {\n",
       "        vertical-align: middle;\n",
       "    }\n",
       "\n",
       "    .dataframe tbody tr th {\n",
       "        vertical-align: top;\n",
       "    }\n",
       "\n",
       "    .dataframe thead th {\n",
       "        text-align: right;\n",
       "    }\n",
       "</style>\n",
       "<table border=\"1\" class=\"dataframe\">\n",
       "  <thead>\n",
       "    <tr style=\"text-align: right;\">\n",
       "      <th></th>\n",
       "      <th>ofqual_id</th>\n",
       "      <th>overview</th>\n",
       "      <th>unit_id</th>\n",
       "      <th>unit_title</th>\n",
       "      <th>unit_description</th>\n",
       "      <th>unit_learning_outcomes</th>\n",
       "    </tr>\n",
       "  </thead>\n",
       "  <tbody>\n",
       "    <tr>\n",
       "      <th>25922</th>\n",
       "      <td>603/6165/7</td>\n",
       "      <td>The OCNLR Awards in Preventing the Spread of I...</td>\n",
       "      <td>T/618/3054</td>\n",
       "      <td>Preventing the Spread of Infection and Disease</td>\n",
       "      <td>This unit provides an introduction to differen...</td>\n",
       "      <td>1. Understand how infections can spread and me...</td>\n",
       "    </tr>\n",
       "  </tbody>\n",
       "</table>\n",
       "</div>"
      ],
      "text/plain": [
       "        ofqual_id                                           overview  \\\n",
       "25922  603/6165/7  The OCNLR Awards in Preventing the Spread of I...   \n",
       "\n",
       "          unit_id                                      unit_title  \\\n",
       "25922  T/618/3054  Preventing the Spread of Infection and Disease   \n",
       "\n",
       "                                        unit_description  \\\n",
       "25922  This unit provides an introduction to differen...   \n",
       "\n",
       "                                  unit_learning_outcomes  \n",
       "25922  1. Understand how infections can spread and me...  "
      ]
     },
     "execution_count": 5,
     "metadata": {},
     "output_type": "execute_result"
    }
   ],
   "source": [
    "ofqual_unit_df.sample()"
   ]
  },
  {
   "cell_type": "code",
   "execution_count": 6,
   "id": "1dc0162a-443b-488a-8ae2-767591c318d4",
   "metadata": {},
   "outputs": [],
   "source": [
    "# Get ORG_ID -> Org name mapping\n",
    "ofqual_org_df  = pd.read_csv(\"../docs/nos-ofqual/ofqual_orgs.csv\")\n",
    "org_id_mapping = dict(ofqual_org_df.iloc[:,:2].values)"
   ]
  },
  {
   "cell_type": "code",
   "execution_count": 7,
   "id": "0c7c9e44-95fc-4cf7-b950-e766d3ced2af",
   "metadata": {},
   "outputs": [],
   "source": [
    "# Previously merged ofqual unit data\n",
    "ofqual_details_df = pd.read_csv(\"../docs/nos-ofqual/ofqual_details_20250127.csv.zip\")\n",
    "# Filter only available ofquals\n",
    "ofqual_details_df =  ofqual_details_df[ofqual_details_df.status=='Available to learners']\n",
    "keepcols = [\n",
    " 'ofqual_id',\n",
    " 'qualification_type',\n",
    " 'qualification_level',\n",
    " 'assessment_methods',\n",
    " 'sector_subject_area',\n",
    " 'awarding_organisation',\n",
    " 'total_credits',\n",
    " 'guided_learning_hours',\n",
    " 'total_qualification_time',\n",
    "]\n",
    "ofqual_details_df = ofqual_details_df[keepcols]\n",
    "\n",
    "# Get awarding organization\n",
    "ofqual_details_df['awarding_organization'] = ofqual_details_df['awarding_organisation'].str.replace(\"/organisations/\",'').str.strip().replace(org_id_mapping)"
   ]
  },
  {
   "cell_type": "code",
   "execution_count": 8,
   "id": "63437a36-134f-400f-a921-f6f582ab3613",
   "metadata": {},
   "outputs": [
    {
     "name": "stdout",
     "output_type": "stream",
     "text": [
      "Units Extracted from PDFs: 37361\n",
      "Units after ofqual Matches: 28444\n"
     ]
    }
   ],
   "source": [
    "print(f\"Units Extracted from PDFs: {len(ofqual_unit_df)}\")\n",
    "ofqual_unit_df = ofqual_unit_df[ofqual_unit_df.ofqual_id.isin(ofqual_details_df.ofqual_id.unique())]\n",
    "print(f\"Units after ofqual Matches: {len(ofqual_unit_df)}\")"
   ]
  },
  {
   "cell_type": "code",
   "execution_count": 9,
   "id": "9ea89706-0df0-4aeb-a978-3ac85b2fc75c",
   "metadata": {},
   "outputs": [],
   "source": [
    "ofqual_df = pd.merge(ofqual_unit_df,ofqual_details_df,on=['ofqual_id'],how='left')"
   ]
  },
  {
   "cell_type": "code",
   "execution_count": 10,
   "id": "bdebfc6c-e229-4691-b84a-bfe3a25e9be0",
   "metadata": {},
   "outputs": [],
   "source": [
    "ofqual_df.to_csv(\"../docs/rgcn/ofqual_units.csv\",index=False)"
   ]
  }
 ],
 "metadata": {
  "kernelspec": {
   "display_name": "Python 3 (ipykernel)",
   "language": "python",
   "name": "python3"
  },
  "language_info": {
   "codemirror_mode": {
    "name": "ipython",
    "version": 3
   },
   "file_extension": ".py",
   "mimetype": "text/x-python",
   "name": "python",
   "nbconvert_exporter": "python",
   "pygments_lexer": "ipython3",
   "version": "3.11.9"
  }
 },
 "nbformat": 4,
 "nbformat_minor": 5
}
