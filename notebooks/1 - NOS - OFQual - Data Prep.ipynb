{
 "cells": [
  {
   "cell_type": "code",
   "execution_count": 1,
   "id": "998e3efe-0328-480f-854f-c7edf274e0d7",
   "metadata": {},
   "outputs": [],
   "source": [
    "import os\n",
    "os.chdir('/Users/adityachhabra/Github/zavmo/zavmo-api/zavmo')"
   ]
  },
  {
   "cell_type": "code",
   "execution_count": 2,
   "id": "8afbaf01-5a75-44f9-933f-6cb8151d38ef",
   "metadata": {},
   "outputs": [],
   "source": [
    "import pandas as pd\n",
    "from dotenv import load_dotenv\n",
    "pd.set_option('display.max_columns',500)"
   ]
  },
  {
   "cell_type": "code",
   "execution_count": 3,
   "id": "026e26d3-97ce-4628-bec1-45e7782cf3d1",
   "metadata": {},
   "outputs": [
    {
     "data": {
      "text/plain": [
       "True"
      ]
     },
     "execution_count": 3,
     "metadata": {},
     "output_type": "execute_result"
    }
   ],
   "source": [
    "load_dotenv()"
   ]
  },
  {
   "cell_type": "raw",
   "id": "8f3ff30a-9544-452f-9019-293a0c3aa6dd",
   "metadata": {},
   "source": [
    "### Get NOS documents"
   ]
  },
  {
   "cell_type": "raw",
   "id": "f7f5c4d3-9f95-4814-b4fd-624a8464fb71",
   "metadata": {},
   "source": [
    "nos_df = pd.read_csv(\"../docs/rgcn/nos.csv\")\n",
    "nos_df.head(3)"
   ]
  },
  {
   "cell_type": "markdown",
   "id": "2f43a535-cb48-4e2c-93c9-fac298501325",
   "metadata": {},
   "source": [
    "## OfQual"
   ]
  },
  {
   "cell_type": "code",
   "execution_count": 15,
   "id": "d5464481-72e0-464e-9969-cd333ab44385",
   "metadata": {},
   "outputs": [],
   "source": [
    "ofqual_unit_df = pd.read_csv(\"../agents/ofqual_unit_details.csv\")"
   ]
  },
  {
   "cell_type": "code",
   "execution_count": 16,
   "id": "571c339a-118b-4e31-8a88-fae5358c8507",
   "metadata": {},
   "outputs": [
    {
     "data": {
      "text/html": [
       "<div>\n",
       "<style scoped>\n",
       "    .dataframe tbody tr th:only-of-type {\n",
       "        vertical-align: middle;\n",
       "    }\n",
       "\n",
       "    .dataframe tbody tr th {\n",
       "        vertical-align: top;\n",
       "    }\n",
       "\n",
       "    .dataframe thead th {\n",
       "        text-align: right;\n",
       "    }\n",
       "</style>\n",
       "<table border=\"1\" class=\"dataframe\">\n",
       "  <thead>\n",
       "    <tr style=\"text-align: right;\">\n",
       "      <th></th>\n",
       "      <th>ofqual_id</th>\n",
       "      <th>overview</th>\n",
       "      <th>unit_id</th>\n",
       "      <th>unit_title</th>\n",
       "      <th>unit_description</th>\n",
       "      <th>unit_learning_outcomes</th>\n",
       "    </tr>\n",
       "  </thead>\n",
       "  <tbody>\n",
       "    <tr>\n",
       "      <th>26268</th>\n",
       "      <td>603/0969/6</td>\n",
       "      <td>The Highfield Level 5 Certificate in Principle...</td>\n",
       "      <td>R/615/4418</td>\n",
       "      <td>The Role of the Commissioner for Wellbeing</td>\n",
       "      <td>This unit aims to develop the learner’s knowle...</td>\n",
       "      <td>1. Understand the values that inform commissio...</td>\n",
       "    </tr>\n",
       "  </tbody>\n",
       "</table>\n",
       "</div>"
      ],
      "text/plain": [
       "        ofqual_id                                           overview  \\\n",
       "26268  603/0969/6  The Highfield Level 5 Certificate in Principle...   \n",
       "\n",
       "          unit_id                                  unit_title  \\\n",
       "26268  R/615/4418  The Role of the Commissioner for Wellbeing   \n",
       "\n",
       "                                        unit_description  \\\n",
       "26268  This unit aims to develop the learner’s knowle...   \n",
       "\n",
       "                                  unit_learning_outcomes  \n",
       "26268  1. Understand the values that inform commissio...  "
      ]
     },
     "execution_count": 16,
     "metadata": {},
     "output_type": "execute_result"
    }
   ],
   "source": [
    "ofqual_unit_df.sample()"
   ]
  },
  {
   "cell_type": "code",
   "execution_count": 17,
   "id": "1dc0162a-443b-488a-8ae2-767591c318d4",
   "metadata": {},
   "outputs": [],
   "source": [
    "# Get ORG_ID -> Org name mapping\n",
    "ofqual_org_df  = pd.read_csv(\"../docs/nos-ofqual/ofqual_orgs.csv\")\n",
    "org_id_mapping = dict(ofqual_org_df.iloc[:,:2].values)"
   ]
  },
  {
   "cell_type": "code",
   "execution_count": 18,
   "id": "0c7c9e44-95fc-4cf7-b950-e766d3ced2af",
   "metadata": {},
   "outputs": [],
   "source": [
    "# Previously merged ofqual unit data\n",
    "ofqual_details_df = pd.read_csv(\"../docs/nos-ofqual/ofqual_details_20250127.csv.zip\")\n",
    "# Filter only available ofquals\n",
    "ofqual_details_df =  ofqual_details_df[ofqual_details_df.status=='Available to learners']\n",
    "keepcols = [\n",
    " 'ofqual_id',\n",
    " 'qualification_type',\n",
    " 'qualification_level',\n",
    " 'assessment_methods',\n",
    " 'sector_subject_area',\n",
    " 'awarding_organisation',\n",
    " 'total_credits',\n",
    " 'guided_learning_hours',\n",
    " 'total_qualification_time',\n",
    "]\n",
    "ofqual_details_df = ofqual_details_df[keepcols]\n",
    "\n",
    "# Get awarding organization\n",
    "ofqual_details_df['awarding_organization'] = ofqual_details_df['awarding_organisation'].str.replace(\"/organisations/\",'').str.strip().replace(org_id_mapping)"
   ]
  },
  {
   "cell_type": "code",
   "execution_count": 19,
   "id": "63437a36-134f-400f-a921-f6f582ab3613",
   "metadata": {},
   "outputs": [
    {
     "name": "stdout",
     "output_type": "stream",
     "text": [
      "Units Extracted from PDFs: 30611\n",
      "Units after ofqual Matches: 23909\n"
     ]
    }
   ],
   "source": [
    "print(f\"Units Extracted from PDFs: {len(ofqual_unit_df)}\")\n",
    "ofqual_unit_df = ofqual_unit_df[ofqual_unit_df.ofqual_id.isin(ofqual_details_df.ofqual_id.unique())]\n",
    "print(f\"Units after ofqual Matches: {len(ofqual_unit_df)}\")"
   ]
  },
  {
   "cell_type": "code",
   "execution_count": 20,
   "id": "9ea89706-0df0-4aeb-a978-3ac85b2fc75c",
   "metadata": {},
   "outputs": [],
   "source": [
    "ofqual_df = pd.merge(ofqual_unit_df,ofqual_details_df,on=['ofqual_id'],how='left')"
   ]
  },
  {
   "cell_type": "code",
   "execution_count": 21,
   "id": "bdebfc6c-e229-4691-b84a-bfe3a25e9be0",
   "metadata": {},
   "outputs": [],
   "source": [
    "ofqual_df.to_csv(\"../docs/rgcn/ofqual_units.csv\",index=False)"
   ]
  },
  {
   "cell_type": "code",
   "execution_count": null,
   "id": "e1831e45-4634-4f7d-b6e8-bb693be36d67",
   "metadata": {},
   "outputs": [],
   "source": []
  },
  {
   "cell_type": "code",
   "execution_count": null,
   "id": "e3df0778-3e21-4e12-a391-56b786dc3472",
   "metadata": {},
   "outputs": [],
   "source": []
  },
  {
   "cell_type": "code",
   "execution_count": null,
   "id": "84c50a3e-f366-457f-a105-011f26c0cdb6",
   "metadata": {},
   "outputs": [],
   "source": []
  }
 ],
 "metadata": {
  "kernelspec": {
   "display_name": "Python 3 (ipykernel)",
   "language": "python",
   "name": "python3"
  },
  "language_info": {
   "codemirror_mode": {
    "name": "ipython",
    "version": 3
   },
   "file_extension": ".py",
   "mimetype": "text/x-python",
   "name": "python",
   "nbconvert_exporter": "python",
   "pygments_lexer": "ipython3",
   "version": "3.11.9"
  }
 },
 "nbformat": 4,
 "nbformat_minor": 5
}
