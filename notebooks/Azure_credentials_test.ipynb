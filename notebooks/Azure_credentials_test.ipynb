{
 "cells": [
  {
   "cell_type": "code",
   "execution_count": 2,
   "id": "43c987cb-5b22-47ca-b6d4-8d1fdf65db83",
   "metadata": {},
   "outputs": [
    {
     "data": {
      "text/plain": [
       "True"
      ]
     },
     "execution_count": 2,
     "metadata": {},
     "output_type": "execute_result"
    }
   ],
   "source": [
    "import os\n",
    "from typing import Literal\n",
    "from openai import OpenAI, AzureOpenAI\n",
    "import requests\n",
    "from dotenv import load_dotenv\n",
    "\n",
    "load_dotenv()\n"
   ]
  },
  {
   "cell_type": "code",
   "execution_count": 3,
   "id": "3e19d302",
   "metadata": {},
   "outputs": [],
   "source": [
    "# Validate required environment variables\n",
    "required_vars = [\"AZURE_OPENAI_API_KEY\", \"AZURE_OPENAI_ENDPOINT\", \"AZURE_OPENAI_API_VERSION\"]\n",
    "missing_vars = [var for var in required_vars if not os.getenv(var)]\n",
    "\n",
    "if missing_vars:\n",
    "    raise EnvironmentError(f\"Missing required environment variables: {', '.join(missing_vars)}\")"
   ]
  },
  {
   "cell_type": "code",
   "execution_count": 6,
   "id": "e889f3ea",
   "metadata": {},
   "outputs": [
    {
     "name": "stdout",
     "output_type": "stream",
     "text": [
      "Successfully connected \n",
      "Response: Hello! How can I assist you today? 😊\n"
     ]
    }
   ],
   "source": [
    "\n",
    "\n",
    "try:\n",
    "    azure_client = AzureOpenAI(\n",
    "        api_key=os.getenv(\"AZURE_OPENAI_API_KEY\"),\n",
    "        azure_endpoint=os.getenv(\"AZURE_OPENAI_ENDPOINT\"),\n",
    "        api_version=os.getenv(\"AZURE_OPENAI_API_VERSION\")\n",
    "    )\n",
    "    # Make a completions call\n",
    "    response = azure_client.chat.completions.create(\n",
    "        model=\"gpt-4o\",  \n",
    "        messages=[{\"role\": \"user\", \"content\": \"hi\"}]\n",
    "    )\n",
    "    print(\"Successfully connected \")\n",
    "    print(\"Response:\", response.choices[0].message.content)\n",
    "except Exception as e:\n",
    "    print(f\"Failed connecting: {str(e)}\")"
   ]
  },
  {
   "cell_type": "code",
   "execution_count": null,
   "id": "21fd0d76",
   "metadata": {},
   "outputs": [],
   "source": []
  },
  {
   "cell_type": "code",
   "execution_count": 13,
   "id": "37e01447",
   "metadata": {},
   "outputs": [],
   "source": [
    "def check_service_status(service: Literal[\"openai\", \"azure\"] = \"openai\") -> bool:\n",
    "    \"\"\"\n",
    "    Check if OpenAI or Azure OpenAI API service is operational.\n",
    "    \n",
    "    Args:\n",
    "        service (Literal[\"openai\", \"azure\"]): The service to check status for.\n",
    "    \n",
    "    Returns:\n",
    "        bool: True if API is operational (no outages), False otherwise\n",
    "    \"\"\"\n",
    "    if service == \"openai\":\n",
    "        url = \"https://status.openai.com/api/v2/summary.json\"\n",
    "        try:\n",
    "            response = requests.get(url)\n",
    "            response.raise_for_status()\n",
    "            data = response.json()\n",
    "            \n",
    "            # Find the API component\n",
    "            for component in data[\"components\"]:\n",
    "                if component[\"name\"].startswith(\"API\"):\n",
    "                    # operational means everything is working fine\n",
    "                    return component[\"status\"] == \"operational\"        \n",
    "            # If API component not found, assume there's an issue\n",
    "            return False\n",
    "            \n",
    "        except requests.exceptions.RequestException as e:\n",
    "            print(f\"Error checking OpenAI status: {e}\")\n",
    "            return False\n",
    "            \n",
    "    elif service == \"azure\":\n",
    "        # Azure OpenAI status is part of Azure's overall status\n",
    "        # We can check the Azure status page for the specific region\n",
    "        azure_endpoint = os.getenv(\"AZURE_OPENAI_ENDPOINT\")\n",
    "        if not azure_endpoint:\n",
    "            print(\"Azure OpenAI endpoint not configured\")\n",
    "            return False\n",
    "            \n",
    "        # Extract region from endpoint (e.g., https://<resource>.openai.azure.com/)\n",
    "        try:\n",
    "            region = azure_endpoint.split('.')[1]  # Gets 'openai' from the endpoint\n",
    "            url = f\"https://status.azure.com/en-us/status\"\n",
    "            try:\n",
    "                response = requests.get(url)\n",
    "                response.raise_for_status()\n",
    "                return \"Azure OpenAI\" not in response.text.lower()\n",
    "            except requests.exceptions.RequestException as e:\n",
    "                print(f\"Error checking Azure status: {e}\")\n",
    "                return False\n",
    "        except IndexError:\n",
    "            print(\"Invalid Azure OpenAI endpoint format\")\n",
    "            return False\n",
    "            \n",
    "    else:\n",
    "        raise NotImplementedError(f\"Status check for {service} not implemented\")\n"
   ]
  },
  {
   "cell_type": "code",
   "execution_count": 14,
   "id": "4cc2f49a",
   "metadata": {},
   "outputs": [],
   "source": [
    "# Check OpenAI status\n",
    "openai_status = check_service_status(\"openai\")"
   ]
  },
  {
   "cell_type": "code",
   "execution_count": 15,
   "id": "ff18847d",
   "metadata": {},
   "outputs": [
    {
     "data": {
      "text/plain": [
       "True"
      ]
     },
     "execution_count": 15,
     "metadata": {},
     "output_type": "execute_result"
    }
   ],
   "source": [
    "openai_status"
   ]
  },
  {
   "cell_type": "code",
   "execution_count": 16,
   "id": "4d0c4e97",
   "metadata": {},
   "outputs": [],
   "source": [
    "# Check Azure OpenAI status\n",
    "azure_status = check_service_status(\"azure\")"
   ]
  },
  {
   "cell_type": "code",
   "execution_count": 17,
   "id": "3785340d",
   "metadata": {},
   "outputs": [
    {
     "data": {
      "text/plain": [
       "True"
      ]
     },
     "execution_count": 17,
     "metadata": {},
     "output_type": "execute_result"
    }
   ],
   "source": [
    "azure_status"
   ]
  },
  {
   "cell_type": "code",
   "execution_count": null,
   "id": "8a85f2bd",
   "metadata": {},
   "outputs": [],
   "source": []
  }
 ],
 "metadata": {
  "kernelspec": {
   "display_name": "base",
   "language": "python",
   "name": "python3"
  },
  "language_info": {
   "codemirror_mode": {
    "name": "ipython",
    "version": 3
   },
   "file_extension": ".py",
   "mimetype": "text/x-python",
   "name": "python",
   "nbconvert_exporter": "python",
   "pygments_lexer": "ipython3",
   "version": "3.11.4"
  }
 },
 "nbformat": 4,
 "nbformat_minor": 5
}
