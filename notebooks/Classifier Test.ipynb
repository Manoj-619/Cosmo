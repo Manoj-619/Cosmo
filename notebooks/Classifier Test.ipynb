{
 "cells": [
  {
   "cell_type": "code",
   "execution_count": 1,
   "id": "61f3a87a-5473-4198-b0ea-5bea29a8a51a",
   "metadata": {},
   "outputs": [
    {
     "name": "stdout",
     "output_type": "stream",
     "text": [
      "/Users/adityachhabra/Github/zavmo/zavmo-api\n"
     ]
    }
   ],
   "source": [
    "import os\n",
    "os.chdir(os.path.dirname(os.getcwd()))\n",
    "print(os.getcwd())"
   ]
  },
  {
   "cell_type": "code",
   "execution_count": 10,
   "id": "17afa42b-a60f-4b8f-8c48-5f0feb00649d",
   "metadata": {},
   "outputs": [],
   "source": [
    "import pandas as pd\n",
    "pd.set_option('display.max_columns',500)"
   ]
  },
  {
   "cell_type": "code",
   "execution_count": 11,
   "id": "7b92fe40-1b25-4c11-b4a7-293b27462182",
   "metadata": {},
   "outputs": [],
   "source": [
    "from zavmo.helpers.utils import walk_dir"
   ]
  },
  {
   "cell_type": "code",
   "execution_count": 12,
   "id": "0a2c9381-7e77-4ad7-a9c7-565fa81e7068",
   "metadata": {},
   "outputs": [
    {
     "data": {
      "text/plain": [
       "['docs/nos-ofqual/ofqual_20250127-v2.csv.zip',\n",
       " 'docs/nos-ofqual/ofqual_details_20250127.csv.zip',\n",
       " 'docs/nos-ofqual/ofqualfinal.xlsx']"
      ]
     },
     "execution_count": 12,
     "metadata": {},
     "output_type": "execute_result"
    }
   ],
   "source": [
    "ofqual_fps = walk_dir('docs/nos-ofqual','ofqual',extension=None)\n",
    "ofqual_fps"
   ]
  },
  {
   "cell_type": "code",
   "execution_count": 14,
   "id": "d3cb507d-5b61-4d48-920d-24ea6fb64237",
   "metadata": {},
   "outputs": [],
   "source": [
    "ofqual_df = pd.read_csv( 'docs/nos-ofqual/ofqual_details_20250127.csv.zip')"
   ]
  },
  {
   "cell_type": "code",
   "execution_count": 16,
   "id": "e6827864-7817-4740-a795-4c30b09fb8c3",
   "metadata": {},
   "outputs": [
    {
     "data": {
      "text/plain": [
       "['docs/nos-ofqual/nos_2025_01_24.csv',\n",
       " 'docs/nos-ofqual/nos_2025_01_27.csv',\n",
       " 'docs/nos-ofqual/parsed_nos2.xlsx',\n",
       " 'docs/nos-ofqual/parsed_nos_data.xlsx']"
      ]
     },
     "execution_count": 16,
     "metadata": {},
     "output_type": "execute_result"
    }
   ],
   "source": [
    "nos_fps = walk_dir('docs/nos-ofqual','nos',extension=None)\n",
    "nos_fps"
   ]
  },
  {
   "cell_type": "code",
   "execution_count": 17,
   "id": "37d54fb1-818d-4f2c-96fa-ca0be46c554f",
   "metadata": {},
   "outputs": [],
   "source": [
    "nos_df = pd.read_csv('docs/nos-ofqual/nos_2025_01_27.csv')"
   ]
  },
  {
   "cell_type": "code",
   "execution_count": 21,
   "id": "b94823b3-b65a-45b8-88b4-c87f0b6b4a5d",
   "metadata": {},
   "outputs": [
    {
     "name": "stdout",
     "output_type": "stream",
     "text": [
      "**NOS ID:** IMPMP134  \n",
      "**Title:** Eviscerate meat or poultry  \n",
      "**Industry:** Meat and Poultry Processing  \n",
      "**Overview:** This standard outlines the essential skills and knowledge required to manually eviscerate meat or poultry in food manufacture and supply operations, ensuring adherence to safety standards and maximizing economic revenue from carcasses.  \n",
      "**Relevant Roles:** Food Manufacture Workers, Process Operatives, Plant and Machine Operatives  \n",
      "**Keywords:** Meat, Poultry, Evisceration, Food Safety, Manual Process, Viscera, Equipment, Hygiene, Regulatory Standards\n"
     ]
    }
   ],
   "source": [
    "print(nos_df['text'].sample(1).values[0])"
   ]
  },
  {
   "cell_type": "code",
   "execution_count": null,
   "id": "18d134b9-940b-4a3b-a44a-39570201c1ce",
   "metadata": {},
   "outputs": [],
   "source": []
  },
  {
   "cell_type": "code",
   "execution_count": null,
   "id": "bce28989-f123-4be8-9cd0-6eb784ca1285",
   "metadata": {},
   "outputs": [],
   "source": []
  },
  {
   "cell_type": "code",
   "execution_count": null,
   "id": "8082480c-2ac0-4de5-86bb-430016772e9f",
   "metadata": {},
   "outputs": [],
   "source": []
  }
 ],
 "metadata": {
  "kernelspec": {
   "display_name": "Python 3 (ipykernel)",
   "language": "python",
   "name": "python3"
  },
  "language_info": {
   "codemirror_mode": {
    "name": "ipython",
    "version": 3
   },
   "file_extension": ".py",
   "mimetype": "text/x-python",
   "name": "python",
   "nbconvert_exporter": "python",
   "pygments_lexer": "ipython3",
   "version": "3.11.9"
  }
 },
 "nbformat": 4,
 "nbformat_minor": 5
}
