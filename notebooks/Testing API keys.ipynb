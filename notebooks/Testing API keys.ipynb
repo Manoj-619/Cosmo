{
 "cells": [
  {
   "cell_type": "code",
   "execution_count": 3,
   "id": "2d1421eb-925d-45d1-9b1d-11c5bda41620",
   "metadata": {},
   "outputs": [],
   "source": [
    "import os\n",
    "git_dir = os.path.dirname(os.getcwd())\n",
    "project_dir = os.path.join(git_dir,'zavmo')\n",
    "os.chdir(project_dir)"
   ]
  },
  {
   "cell_type": "code",
   "execution_count": 14,
   "id": "9b41a008-4b7e-466e-9b90-5fe790b565bb",
   "metadata": {},
   "outputs": [
    {
     "data": {
      "text/plain": [
       "True"
      ]
     },
     "execution_count": 14,
     "metadata": {},
     "output_type": "execute_result"
    }
   ],
   "source": [
    "from dotenv import load_dotenv\n",
    "load_dotenv(override=True)"
   ]
  },
  {
   "cell_type": "code",
   "execution_count": 15,
   "id": "8a19a70c-4cd8-4d02-ae7c-69084931d5eb",
   "metadata": {},
   "outputs": [],
   "source": [
    "from helpers.chat import get_openai_completion"
   ]
  },
  {
   "cell_type": "code",
   "execution_count": null,
   "id": "8570371b-bb76-41d0-88ae-6ca1b87e832c",
   "metadata": {},
   "outputs": [],
   "source": [
    "get_openai_completion([{\"role\":\"user\",\"content\":\"Hi\"}])"
   ]
  },
  {
   "cell_type": "code",
   "execution_count": null,
   "id": "4406d35a-71f3-4c8c-8e48-2b6a8e6d7c62",
   "metadata": {},
   "outputs": [],
   "source": []
  },
  {
   "cell_type": "code",
   "execution_count": null,
   "id": "1753e88f-2d22-4df2-bf40-29aac3439051",
   "metadata": {},
   "outputs": [],
   "source": []
  },
  {
   "cell_type": "code",
   "execution_count": null,
   "id": "a3ecbc74-0766-4e54-9587-30b7c8b3c6ac",
   "metadata": {},
   "outputs": [],
   "source": []
  },
  {
   "cell_type": "code",
   "execution_count": null,
   "id": "22372bb4-1b12-4f7d-b588-50a9aec0ecae",
   "metadata": {},
   "outputs": [],
   "source": []
  },
  {
   "cell_type": "code",
   "execution_count": null,
   "id": "afbafc84-9e08-4d40-994b-c8c2654abe2f",
   "metadata": {},
   "outputs": [],
   "source": []
  },
  {
   "cell_type": "code",
   "execution_count": null,
   "id": "443e6081-d168-44a0-a7e4-a9b0811fcaa4",
   "metadata": {},
   "outputs": [],
   "source": []
  },
  {
   "cell_type": "code",
   "execution_count": null,
   "id": "55eca245-d355-4f27-8045-5f6134f00dac",
   "metadata": {},
   "outputs": [],
   "source": []
  }
 ],
 "metadata": {
  "kernelspec": {
   "display_name": "Python 3 (ipykernel)",
   "language": "python",
   "name": "python3"
  },
  "language_info": {
   "codemirror_mode": {
    "name": "ipython",
    "version": 3
   },
   "file_extension": ".py",
   "mimetype": "text/x-python",
   "name": "python",
   "nbconvert_exporter": "python",
   "pygments_lexer": "ipython3",
   "version": "3.11.9"
  }
 },
 "nbformat": 4,
 "nbformat_minor": 5
}
