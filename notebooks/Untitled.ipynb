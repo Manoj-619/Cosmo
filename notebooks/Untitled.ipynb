{
 "cells": [
  {
   "cell_type": "code",
   "execution_count": 19,
   "id": "fe9b60a6-e4d5-41fa-a79e-92736131076c",
   "metadata": {},
   "outputs": [],
   "source": [
    "import requests"
   ]
  },
  {
   "cell_type": "code",
   "execution_count": 24,
   "id": "9efffcac-0526-4f2a-9b81-17e258076c97",
   "metadata": {},
   "outputs": [],
   "source": [
    "url = 'http://127.0.0.1:8000/api/create_org/'\n"
   ]
  },
  {
   "cell_type": "code",
   "execution_count": 25,
   "id": "4e2e4c5d-97e4-4d3f-9b5b-b78f146aaf3c",
   "metadata": {},
   "outputs": [],
   "source": [
    "payload = {\n",
    "    \"org_name\": \"Kenpath\"\n",
    "}"
   ]
  },
  {
   "cell_type": "code",
   "execution_count": 26,
   "id": "494e4a22-1c33-4774-83c0-17bd660f21df",
   "metadata": {},
   "outputs": [],
   "source": [
    "response = requests.post(url, json=payload)"
   ]
  },
  {
   "cell_type": "code",
   "execution_count": 27,
   "id": "6d49e59f-8e85-4ea0-ab65-154bd64f7742",
   "metadata": {},
   "outputs": [
    {
     "data": {
      "text/plain": [
       "<Response [201]>"
      ]
     },
     "execution_count": 27,
     "metadata": {},
     "output_type": "execute_result"
    }
   ],
   "source": [
    "response"
   ]
  },
  {
   "cell_type": "code",
   "execution_count": 34,
   "id": "ecf4b847-2aff-48b5-8215-b37755f02f2c",
   "metadata": {},
   "outputs": [
    {
     "name": "stdout",
     "output_type": "stream",
     "text": [
      "400\n",
      "{'org_id': ['This field is required.']}\n"
     ]
    }
   ],
   "source": [
    "url = 'http://127.0.0.1:8000/api/create_user/'  \n",
    "data = {\n",
    "    'email': 'smrithi.shaji@kenpath.io',\n",
    "    'org_id': '2'  \n",
    "}\n",
    "\n",
    "response = requests.post(url, json=data)\n",
    "print(response.status_code)\n",
    "print(response.json())\n"
   ]
  },
  {
   "cell_type": "code",
   "execution_count": null,
   "id": "9040d8dc-5fff-4caa-ae0d-577fbb1231b6",
   "metadata": {},
   "outputs": [],
   "source": []
  }
 ],
 "metadata": {
  "kernelspec": {
   "display_name": "Python 3 (ipykernel)",
   "language": "python",
   "name": "python3"
  },
  "language_info": {
   "codemirror_mode": {
    "name": "ipython",
    "version": 3
   },
   "file_extension": ".py",
   "mimetype": "text/x-python",
   "name": "python",
   "nbconvert_exporter": "python",
   "pygments_lexer": "ipython3",
   "version": "3.11.4"
  }
 },
 "nbformat": 4,
 "nbformat_minor": 5
}
