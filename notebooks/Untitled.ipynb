{
 "cells": [
  {
   "cell_type": "code",
   "execution_count": 1,
   "id": "98af1441-0716-4f1e-907a-2408465dc9e7",
   "metadata": {},
   "outputs": [],
   "source": [
    "import os\n",
    "git_dir = os.path.dirname(os.getcwd())\n",
    "project_dir = os.path.join(git_dir,'zavmo')\n",
    "os.chdir(project_dir)"
   ]
  },
  {
   "cell_type": "code",
   "execution_count": 2,
   "id": "00475ffd-3d95-4a61-b7f8-6ee6163619e7",
   "metadata": {},
   "outputs": [
    {
     "data": {
      "text/plain": [
       "True"
      ]
     },
     "execution_count": 2,
     "metadata": {},
     "output_type": "execute_result"
    }
   ],
   "source": [
    "from dotenv import load_dotenv\n",
    "load_dotenv(override=True)"
   ]
  },
  {
   "cell_type": "code",
   "execution_count": 3,
   "id": "fa064107-beea-4dc5-92e8-43746358e74c",
   "metadata": {},
   "outputs": [],
   "source": [
    "import json\n",
    "from helpers.chat import get_openai_completion,  get_prompt, make_structured_call\n",
    "from helpers.functions import parse_type\n",
    "from IPython.display import Markdown"
   ]
  },
  {
   "cell_type": "code",
   "execution_count": 4,
   "id": "7196d501-495a-4851-b15e-9b1ed2c8d52b",
   "metadata": {},
   "outputs": [],
   "source": [
    "import openai\n",
    "from openai import OpenAI\n",
    "from helpers.functions import create_pydantic_model, get_yaml_data, create_system_message\n",
    "openai_client = OpenAI(api_key=os.getenv(\"OPENAI_API_KEY\"))"
   ]
  },
  {
   "cell_type": "code",
   "execution_count": 44,
   "id": "4c61dade-178a-400a-9d03-c79a0bbb86e1",
   "metadata": {},
   "outputs": [],
   "source": [
    "from helpers.chat import create_message_payload, force_tool_call"
   ]
  },
  {
   "cell_type": "code",
   "execution_count": 92,
   "id": "a7d05c45-48be-4fb8-ae61-1ef6740f8f3e",
   "metadata": {},
   "outputs": [
    {
     "data": {
      "text/plain": [
       "[{'field': 'first_name',\n",
       "  'title': 'first_name',\n",
       "  'annotation': 'str',\n",
       "  'description': \"The first name of the user, often used to address them directly, e.g., 'Diana' or 'John'.\",\n",
       "  'user_examples': [\"Hi, I'm Zavmo 😊, what's your name?\",\n",
       "   \"Welcome to Zavmo, I'm Zavmo 😊, what's your name?\",\n",
       "   'What should I call you? Your first name would be awesome to know!',\n",
       "   \"Let's get to know each other! What's your first name? 🌟\"],\n",
       "  'probe_examples': [\"It's wonderful to meet you, [first_name]! 🎉 You've just earned your first [X] XP. How about your last name? 😄\",\n",
       "   \"Nice to meet you, [first_name]! You've unlocked a new learning journey. 🚀 Now, could you share your last name with me too?\",\n",
       "   \"Cool name, [first_name]! Let's get started with some fun. 🎯 Oh, and what's your last name so I can address you properly when needed?\",\n",
       "   \"Yay, [first_name]! You're on board. Time to learn and have fun. 💡🎉 But before we dive in, what's your last name?\"]},\n",
       " {'field': 'last_name',\n",
       "  'title': 'last_name',\n",
       "  'annotation': 'str',\n",
       "  'description': 'The last name of the user, used to address them more formally or as part of their full name.',\n",
       "  'user_examples': ['How about your last name? This will help me keep things formal when needed!',\n",
       "   'Thank you for sharing your name, [first_name]! Can you share your last name as well?',\n",
       "   \"What's your last name, [first_name]? I promise no formal emails, just fun! 😄\",\n",
       "   \"Can you share your last name too? It'll help me keep track of your awesome progress! 📚\"],\n",
       "  'probe_examples': [\"Thanks, [first_name] [last_name]! You're on a roll with another [X] XP. 🚀 Let's move on—how old are you?\",\n",
       "   \"Great, [first_name]! Now I can cheer you on with your full name—[first_name] [last_name]. 🎉 How about your age, if you don't mind sharing?\",\n",
       "   \"Fantastic, [first_name]! We're all set. Let's dive into learning! 📖✨ Just one more thing—what's your age?\",\n",
       "   \"Perfect, [first_name] [last_name]! You've just leveled up. 🌟 Now, how old are you? This helps me create the best learning experience for you!\"]},\n",
       " {'field': 'age',\n",
       "  'title': 'age',\n",
       "  'annotation': 'int',\n",
       "  'description': 'The age of the user.',\n",
       "  'user_examples': [\"If you don't mind sharing, how old are you? This helps me tailor content for your stage in life.\",\n",
       "   \"To get things just right for you, what's your age? 🎂\",\n",
       "   'Age is just a number, but it helps me customize your experience. How old are you? 😊',\n",
       "   \"I've got content for all ages! How old are you, [first_name]?\"],\n",
       "  'probe_examples': [\"Got it! Thanks for sharing, [first_name]. Age is just a number, and you've earned [X] XP for that! 🎉 What's your highest education level?\",\n",
       "   \"Thanks, [first_name]! You've unlocked more personalized content. 🧠 Now, can you tell me what level of education you've completed?\",\n",
       "   \"Awesome, [first_name]! Now I can gear up the perfect experience for you. 🚀 What's your highest education level so far?\",\n",
       "   \"Fantastic! Learning knows no age limits—let's start your journey! 📚✨ By the way, what's your education level? I can tailor content just for you.\"]},\n",
       " {'field': 'edu_level',\n",
       "  'title': 'edu_level',\n",
       "  'annotation': 'int',\n",
       "  'description': \"The education level of the user, represented by a number  (1 for Primary School, 2 for Middle School, 3 for High School,  4 for Associate Degree, 5 for Bachelor's Degree, 6 for Master's Degree, 7 for PhD).\\n\",\n",
       "  'user_examples': [\"What is your highest level of education? 1) Primary School 2) Middle School 3) High School 4) Associate Degree 5) Bachelor's Degree 6) Master's Degree 7) PhD\",\n",
       "   'Which education level have you completed? 🎓 (1 for Primary School, 7 for PhD!)',\n",
       "   \"I'd love to know—what's your highest level of education so far? 🏫\",\n",
       "   'From school to PhD, where are you on your learning path? 🛤️'],\n",
       "  'probe_examples': [\"Thanks, [first_name]! Education is an important part of learning. You've just earned [X] XP! 🎓✨ Now, what's your current role or occupation?\",\n",
       "   \"Perfect, [first_name]! Let's continue growing your knowledge at your pace. 📖🚀 What do you do currently? (Your job or role!)\",\n",
       "   \"Nice! Your education level is noted. Let's get some new skills under your belt! 💡 What's your current occupation or role?\",\n",
       "   \"Fantastic! Let's unlock more learning based on your education background. 🔓📚 Now, tell me about your current role or occupation!\"]},\n",
       " {'field': 'current_role',\n",
       "  'title': 'current_role',\n",
       "  'annotation': 'str',\n",
       "  'description': \"The current occupation or role of the user, indicating their professional or educational status,  e.g., 'Engineer', 'Teacher', 'Student', 'Doctor', 'Lawyer', 'Businessman', 'Artist', 'Musician',  'Writer', 'Scientist', 'Politician', 'Other'\\n\",\n",
       "  'user_examples': [\"What is your current role or occupation? I'd love to understand what you do!\",\n",
       "   \"What's your current job or role? 🛠️ I'd love to tailor your experience!\",\n",
       "   \"Can you share what you do? Whether it's work or study, I'm curious! 🎓💼\",\n",
       "   \"What's your role? It helps me recommend content that matches your journey! 💡\"],\n",
       "  'probe_examples': [\"Fascinating! I'd love to hear more about your learning interests related to your career as a [role]. 🌟 You're all set to explore Zavmo now!\",\n",
       "   \"Great, [first_name]! Being a [role] sounds exciting! Let's build skills for it. 🚀 Ready to dive into some cool learning content?\",\n",
       "   \"Awesome! Let's discover more fun ways to learn based on your role as a [role]! 🎯 You're ready to start exploring now!\",\n",
       "   \"Cool! Being a [role] sounds like an adventure! I'm excited to help you grow. 🎉 Now, let's jump into your personalized learning experience!\"]}]"
      ]
     },
     "execution_count": 92,
     "metadata": {},
     "output_type": "execute_result"
    }
   ],
   "source": [
    "get_yaml_data('profile')['primary']['fields']"
   ]
  },
  {
   "cell_type": "code",
   "execution_count": 94,
   "id": "d85b454f-f69d-4a40-89bd-91bdec49a42c",
   "metadata": {},
   "outputs": [],
   "source": [
    "primary_config = get_yaml_data('profile')['primary']"
   ]
  },
  {
   "cell_type": "code",
   "execution_count": 97,
   "id": "52b708e9-7b4d-4034-9b2a-d15a1ceaf577",
   "metadata": {},
   "outputs": [],
   "source": [
    "primary_model = create_pydantic_model(\n",
    "    name=primary_config['title'],\n",
    "    description=primary_config['description'],\n",
    "    fields=[f for f in primary_config['fields'] if f['title'] in ['first_name','last_name']]\n",
    ")"
   ]
  },
  {
   "cell_type": "code",
   "execution_count": 100,
   "id": "b1e1bab3-a848-491c-b4a9-f3bf49c0da2b",
   "metadata": {},
   "outputs": [],
   "source": [
    "message_payload =[ \n",
    "    {\"role\":\"system\",\"content\":get_prompt(\"profile/extract\")},\n",
    "    {\"role\":\"user\",\"content\":f\"Extract the user's first name and last name from the learner's message?\\nLearner's message: My name is aditya chhabra\"}]"
   ]
  },
  {
   "cell_type": "code",
   "execution_count": 101,
   "id": "949dbb26-3826-4ca9-865c-d1d88d42dfa2",
   "metadata": {},
   "outputs": [],
   "source": [
    "primary_tool = force_tool_call(primary_model,\n",
    "                message_payload,\n",
    "                model='gpt-4o-mini',\n",
    "                tool_choice='required',\n",
    "                \n",
    "               )"
   ]
  },
  {
   "cell_type": "code",
   "execution_count": 109,
   "id": "0cccd911-10f7-4304-b965-a127efbe820c",
   "metadata": {},
   "outputs": [
    {
     "data": {
      "text/plain": [
       "{'first_name': 'aditya', 'last_name': 'chhabra'}"
      ]
     },
     "execution_count": 109,
     "metadata": {},
     "output_type": "execute_result"
    }
   ],
   "source": [
    "primary_tool.dict()"
   ]
  },
  {
   "cell_type": "code",
   "execution_count": 77,
   "id": "f7873e36-590c-4d42-969c-f522b6641c43",
   "metadata": {},
   "outputs": [],
   "source": [
    "fields = get_yaml_data(\"profile\")['required']"
   ]
  },
  {
   "cell_type": "code",
   "execution_count": 86,
   "id": "3253a46c-508c-4e1b-bfbf-cfd6526dbcad",
   "metadata": {},
   "outputs": [],
   "source": [
    "identification_tool = force_tool_call(identification_model, \n",
    "                                      message_payload, \n",
    "                                      model='gpt-4o-mini',\n",
    "                                      tool_choice='required',\n",
    "                                      parallel_tool_calls=False)\n"
   ]
  },
  {
   "cell_type": "code",
   "execution_count": null,
   "id": "a31d0b1d-da8e-4650-bc5e-160ad3dfa968",
   "metadata": {},
   "outputs": [],
   "source": []
  },
  {
   "cell_type": "code",
   "execution_count": null,
   "id": "ff167354-320f-4585-9894-b07de08dd3ba",
   "metadata": {},
   "outputs": [],
   "source": []
  },
  {
   "cell_type": "code",
   "execution_count": 27,
   "id": "a41566e1-8cbb-47cc-aa41-f7e3e8ececaa",
   "metadata": {},
   "outputs": [],
   "source": [
    "identify_model     = create_pydantic_model(name=identification_data['title'],\n",
    "                                   description=identification_data['description'],\n",
    "                                   fields=identification_data['fields']\n",
    "                                   )"
   ]
  },
  {
   "cell_type": "code",
   "execution_count": 21,
   "id": "a843957a-7215-4d52-bc1f-08ee9aaa61ce",
   "metadata": {},
   "outputs": [],
   "source": [
    "primary_model     = create_pydantic_model(name=primary_data['title'],\n",
    "                                   description=primary_data['description'],\n",
    "                                   fields=primary_data['fields']\n",
    "                                   )"
   ]
  },
  {
   "cell_type": "code",
   "execution_count": null,
   "id": "9422f844-d32c-4217-a62f-858efab24bfe",
   "metadata": {},
   "outputs": [],
   "source": []
  },
  {
   "cell_type": "code",
   "execution_count": null,
   "id": "a87f2056-c3fa-496d-b9d5-0eee6a5b5b73",
   "metadata": {},
   "outputs": [],
   "source": []
  },
  {
   "cell_type": "code",
   "execution_count": null,
   "id": "4d38c25c-985b-4e73-973c-47c567e511a1",
   "metadata": {},
   "outputs": [],
   "source": []
  },
  {
   "cell_type": "code",
   "execution_count": null,
   "id": "2f2c4f0d-66c9-4336-8022-9ce24f30cfdf",
   "metadata": {},
   "outputs": [],
   "source": []
  },
  {
   "cell_type": "code",
   "execution_count": null,
   "id": "121fc8e5-1384-4bbf-b85a-0e9516672d97",
   "metadata": {},
   "outputs": [],
   "source": []
  }
 ],
 "metadata": {
  "kernelspec": {
   "display_name": "Python 3 (ipykernel)",
   "language": "python",
   "name": "python3"
  },
  "language_info": {
   "codemirror_mode": {
    "name": "ipython",
    "version": 3
   },
   "file_extension": ".py",
   "mimetype": "text/x-python",
   "name": "python",
   "nbconvert_exporter": "python",
   "pygments_lexer": "ipython3",
   "version": "3.11.9"
  }
 },
 "nbformat": 4,
 "nbformat_minor": 5
}
