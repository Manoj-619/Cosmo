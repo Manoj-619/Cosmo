{
 "cells": [
  {
   "cell_type": "code",
   "execution_count": 2,
   "id": "fe9b60a6-e4d5-41fa-a79e-92736131076c",
   "metadata": {},
   "outputs": [],
   "source": [
    "import requests"
   ]
  },
  {
   "cell_type": "code",
   "execution_count": 3,
   "id": "25e324d3",
   "metadata": {},
   "outputs": [],
   "source": [
    "sys = \"\"\"Objective: Create a detailed list of skills from the provided NOS and associate each skill with assessment criteria aligned to Bloom's Taxonomy (6 levels: Remember, Understand, Apply, Analyze, Evaluate, Create). This will ensure meaningful skill assessment for both technical and soft skills.\n",
    "\n",
    "Instructions for the System:\n",
    "\n",
    "Extract Skills:\n",
    "\n",
    "Analyze the provided NOS document and extract all the skills mentioned. For each skill, ensure both technical (e.g., product knowledge, technical tools) and soft skills (e.g., communication, customer engagement) are included.\n",
    "Each skill should be contextualized based on the job description (JD) and performance standards outlined in the NOS.\n",
    "Define Assessment Criteria:\n",
    "\n",
    "For each skill, generate assessment criteria based on the six levels of Bloom’s Taxonomy:\n",
    "Remember: Does the user recall relevant facts, definitions, or procedures for this skill?\n",
    "Understand: Can the user explain or interpret the concepts related to this skill?\n",
    "Apply: Can the user use the skill in real-world scenarios or simulated tasks?\n",
    "Analyze: Can the user break down complex situations to identify components related to this skill?\n",
    "Evaluate: Can the user assess situations and justify decisions involving this skill?\n",
    "Create: Can the user design or innovate new approaches, presentations, or solutions based on this skill?\n",
    "Associate Performance and Knowledge Criteria:\n",
    "\n",
    "Align each skill with performance standards and knowledge requirements from the NOS. This ensures the assessment is comprehensive and role-specific.\n",
    "Include prompts for assessing both practical demonstration and theoretical understanding.\n",
    "Output Format:\n",
    "\n",
    "For each skill, provide:\n",
    "Skill Name\n",
    "Skill Category (Technical/Soft)\n",
    "Bloom's Taxonomy Level Criteria:\n",
    "Remember: Specific questions or tasks to test recall.\n",
    "Understand: Scenarios to explain the skill.\n",
    "Apply: Practical tasks or case studies.\n",
    "Analyze: Problem-solving scenarios.\n",
    "Evaluate: Judgment or decision-making tasks.\n",
    "Create: Designing new solutions or improvements.\n",
    "\n",
    "\"\"\""
   ]
  },
  {
   "cell_type": "code",
   "execution_count": 16,
   "id": "5bbeb117",
   "metadata": {},
   "outputs": [],
   "source": [
    "system_message = {'role':'system','content':sys}\n",
    "nos = \"\"\"Performance criteria\n",
    "You must be able to:\n",
    "1. use sales-related information for planning and implementing sales activities\n",
    "2. store information on the sales technology systems, checking its quality, validity\n",
    "and reliability\n",
    "3. maintain the sales-related information stored in the technology systems, ensuring\n",
    "it is accurate and up to date\n",
    "4. use tools and technology systems for automation of sales-related tasks and\n",
    "activities\n",
    "5. share sales-related information for collaboration with members of sales team\n",
    "6. use lead generation automation technology to qualify the leads\n",
    "7. collate potential leads and prioritise these in accordance with sales targets\n",
    "8. summarise information appropriately from sales systems for reporting to\n",
    "management\n",
    "9. follow up incoming leads and assign the ownership of quality leads to the most\n",
    "relevant members of sales team\n",
    "10. monitor, process or delegate daily tasks within assigned ownership and visibility on\n",
    "technology systems\n",
    "11. monitor own use of the sales technology system, seeking guidance, support and\n",
    "skills development, where necessary\n",
    "12. provide feedback on the sales technology systems, your pipeline management and\n",
    "other tasks and activities\n",
    "13. seek evidence-based recommendations for improvement of sales activities and\n",
    "personal productivity using the technology systems\n",
    "\n",
    "INSSAL014\n",
    "Use sales tools and technology systems\n",
    "INSSAL014 Use sales tools and technology systems 2\n",
    "\n",
    "Knowledge and understanding\n",
    "You need to know and understand:\n",
    "1. the current legal and ethical issues in relation to the use of sales tools and\n",
    "technology systems\n",
    "2. the benefits of tools and technology systems for sales-related tasks and activities\n",
    "3. the range of tasks and activities on sales tools and technology systems\n",
    "4. the visibility options and ownership of sales team members on technology systems\n",
    "5. the information requirements for the sales function, lead generation and\n",
    "qualification of these\n",
    "6. your organisation’s sales targets\n",
    "7. the importance of automation of sales-related tasks and activities\n",
    "8. how to collate, qualify and prioritise the leads on technology systems\n",
    "9. the sales pipeline and how to feed the leads into it using technology systems\n",
    "10. how to maintain and monitor your sales pipeline\n",
    "11. when to assign the leads to the relevant members of sales team or to yourself\n",
    "12. your organisation’s processes and procedures for using, storing and maintaining \n",
    "information\n",
    "13. how to use the sales technology system as part of planning and implementation of\n",
    "sales activities\n",
    "14. the support, guidance and skills development available to the users of sales tools\n",
    "and technology system\n",
    "15. how to seek recommendations for improvements of sales activities using the tools\n",
    "and technology systems\"\"\""
   ]
  },
  {
   "cell_type": "code",
   "execution_count": 17,
   "id": "092a90a2",
   "metadata": {},
   "outputs": [],
   "source": [
    "import os\n",
    "os.chdir(f\"{os.path.dirname(os.path.abspath(os.getcwd()))}/zavmo\")"
   ]
  },
  {
   "cell_type": "code",
   "execution_count": 43,
   "id": "f38679ae",
   "metadata": {},
   "outputs": [],
   "source": [
    "from pydantic import Field\n",
    "from typing import Dict, List\n",
    "from helpers._types import (\n",
    "    Agent,\n",
    "    StrictTool,\n",
    "    Result,\n",
    ")"
   ]
  },
  {
   "cell_type": "code",
   "execution_count": 44,
   "id": "e7c16931",
   "metadata": {},
   "outputs": [],
   "source": [
    "import openai\n",
    "import json\n",
    "from openai import OpenAI\n",
    "from pydantic import BaseModel, Field\n",
    "from typing import List, Optional, Literal\n",
    "# from IPython.display import Markdown"
   ]
  },
  {
   "cell_type": "code",
   "execution_count": 48,
   "id": "cf62485c",
   "metadata": {},
   "outputs": [],
   "source": [
    "from helpers.swarm import fetch_agent_response, execute_tool_calls\n"
   ]
  },
  {
   "cell_type": "code",
   "execution_count": 9,
   "id": "9e43d4f4",
   "metadata": {},
   "outputs": [],
   "source": [
    "import redis\n",
    "\n",
    "def create_redis_pool(max_connections=1000):\n",
    "    \"\"\"Create a redis connection pool.\"\"\"\n",
    "    redis_host = \"localhost\"\n",
    "    redis_port = 6379\n",
    "    redis_db = 0\n",
    "    pool = redis.ConnectionPool(host=redis_host, port=redis_port, db=redis_db, max_connections=max_connections)\n",
    "    return pool\n",
    "\n",
    "def get_redis_client(pool=None):\n",
    "    \"\"\"\n",
    "    Instantiate a Redis client using connection details from environment variables\n",
    "    \"\"\"\n",
    "    if pool is None:\n",
    "        pool = create_redis_pool()\n",
    "    return redis.Redis(connection_pool=pool, decode_responses=True)\n",
    "\n",
    "redis_client= get_redis_client()"
   ]
  },
  {
   "cell_type": "code",
   "execution_count": 46,
   "id": "d5a214ff",
   "metadata": {},
   "outputs": [],
   "source": [
    "class BloomTaxonomyLevels(StrictTool):\n",
    "    level: Literal[\"Remember\", \"Understand\", \"Apply\", \"Analyze\", \"Evaluate\", \"Create\"] = Field(description=\"The level of Bloom's Taxonomy\")\n",
    "    criteria: str = Field(description=\"Generate very challenging criteria for assessing the skill based on shared NOS for the level of Bloom's Taxonomy\")\n",
    "\n",
    "    def execute(self, context: Dict):\n",
    "        return self.model_dump_json()\n",
    "    \n",
    "class GetSkillFromNOS(StrictTool):\n",
    "    competency:str = Field(description=\"Name of the skill area\")\n",
    "    blooms_taxonomy_criteria: List[BloomTaxonomyLevels] = Field(description=\"Criteria for Bloom's Taxonomy levels\")\n",
    "    \n",
    "    def execute(self, context: Dict):\n",
    "        return self.model_dump_json()\n",
    "\n",
    "class GetRequiredSkillsFromNOS(StrictTool):\n",
    "    \"\"\"A tool to extract multiple skills names, categories and assessment criteria from the NOS document.\"\"\"\n",
    "    \n",
    "    nos: List[GetSkillFromNOS] = Field(description=\"List of skills with categories and criteria on Bloom's Taxonomy levels\")\n",
    "    \n",
    "    def execute(self, context: Dict):\n",
    "        return self.model_dump_json()\n"
   ]
  },
  {
   "cell_type": "code",
   "execution_count": 47,
   "id": "f45587dd",
   "metadata": {},
   "outputs": [],
   "source": [
    "class GetSkillFromNOS(StrictTool):\n",
    "    competency:str = Field(description=\"Name of the competency\")\n",
    "    type:str = Field(description=\"Type of the competency, either performance or knowledge\")\n",
    "    \n",
    "    def execute(self, context: Dict):\n",
    "        return self.model_dump_json()\n",
    "    \n",
    "class GetRequiredSkillsFromNOS(StrictTool):\n",
    "    \"\"\"A tool to extract required competencies from both sections (knowledge and performance) of National Occupational Standards(NOS)\"\"\"\n",
    "    \n",
    "    nos: List[GetSkillFromNOS] = Field(description=\"List of skills wih skill type\")\n",
    "    \n",
    "    def execute(self, context: Dict):\n",
    "        return self.model_dump_json()"
   ]
  },
  {
   "cell_type": "code",
   "execution_count": null,
   "id": "da30bf4a",
   "metadata": {},
   "outputs": [],
   "source": [
    "messages = [{\"role\": \"user\", \"content\": f\"Here is the NOS(National Occupational Standards) document: {nos}\"}]\n",
    "agent = Agent(\n",
    "    name=\"Get Required Skills From NOS\",\n",
    "    functions=[GetRequiredSkillsFromNOS],\n",
    "    model=\"gpt-4o-mini\",\n",
    "    system_message={\"role\":\"system\",\"content\":\"\"\"You are a helpful assistant that extracts required competencies from National Occupational Standards(NOS).\"\"\"}\n",
    ")\n",
    "\n",
    "response = fetch_agent_response(agent, messages, {})  "
   ]
  },
  {
   "cell_type": "code",
   "execution_count": 28,
   "id": "22724d72",
   "metadata": {},
   "outputs": [
    {
     "data": {
      "text/plain": [
       "{'nos': [{'competency': 'use sales-related information for planning and implementing sales activities',\n",
       "   'type': 'performance'},\n",
       "  {'competency': 'store information on the sales technology systems, checking its quality, validity and reliability',\n",
       "   'type': 'performance'},\n",
       "  {'competency': 'maintain the sales-related information stored in the technology systems, ensuring it is accurate and up to date',\n",
       "   'type': 'performance'},\n",
       "  {'competency': 'use tools and technology systems for automation of sales-related tasks and activities',\n",
       "   'type': 'performance'},\n",
       "  {'competency': 'share sales-related information for collaboration with members of sales team',\n",
       "   'type': 'performance'},\n",
       "  {'competency': 'use lead generation automation technology to qualify the leads',\n",
       "   'type': 'performance'},\n",
       "  {'competency': 'collate potential leads and prioritise these in accordance with sales targets',\n",
       "   'type': 'performance'},\n",
       "  {'competency': 'summarise information appropriately from sales systems for reporting to management',\n",
       "   'type': 'performance'},\n",
       "  {'competency': 'follow up incoming leads and assign the ownership of quality leads to the most relevant members of sales team',\n",
       "   'type': 'performance'},\n",
       "  {'competency': 'monitor, process or delegate daily tasks within assigned ownership and visibility on technology systems',\n",
       "   'type': 'performance'},\n",
       "  {'competency': 'monitor own use of the sales technology system, seeking guidance, support and skills development, where necessary',\n",
       "   'type': 'performance'},\n",
       "  {'competency': 'provide feedback on the sales technology systems, your pipeline management and other tasks and activities',\n",
       "   'type': 'performance'},\n",
       "  {'competency': 'seek evidence-based recommendations for improvement of sales activities and personal productivity using the technology systems',\n",
       "   'type': 'performance'},\n",
       "  {'competency': 'the current legal and ethical issues in relation to the use of sales tools and technology systems',\n",
       "   'type': 'knowledge'},\n",
       "  {'competency': 'the benefits of tools and technology systems for sales-related tasks and activities',\n",
       "   'type': 'knowledge'},\n",
       "  {'competency': 'the range of tasks and activities on sales tools and technology systems',\n",
       "   'type': 'knowledge'},\n",
       "  {'competency': 'the visibility options and ownership of sales team members on technology systems',\n",
       "   'type': 'knowledge'},\n",
       "  {'competency': 'the information requirements for the sales function, lead generation and qualification of these',\n",
       "   'type': 'knowledge'},\n",
       "  {'competency': 'your organisation’s sales targets', 'type': 'knowledge'},\n",
       "  {'competency': 'the importance of automation of sales-related tasks and activities',\n",
       "   'type': 'knowledge'},\n",
       "  {'competency': 'how to collate, qualify and prioritise the leads on technology systems',\n",
       "   'type': 'knowledge'},\n",
       "  {'competency': 'the sales pipeline and how to feed the leads into it using technology systems',\n",
       "   'type': 'knowledge'},\n",
       "  {'competency': 'how to maintain and monitor your sales pipeline',\n",
       "   'type': 'knowledge'},\n",
       "  {'competency': 'when to assign the leads to the relevant members of sales team or to yourself',\n",
       "   'type': 'knowledge'},\n",
       "  {'competency': 'your organisation’s processes and procedures for using, storing and maintaining information',\n",
       "   'type': 'knowledge'},\n",
       "  {'competency': 'how to use the sales technology system as part of planning and implementation of sales activities',\n",
       "   'type': 'knowledge'},\n",
       "  {'competency': 'the support, guidance and skills development available to the users of sales tools and technology system',\n",
       "   'type': 'knowledge'},\n",
       "  {'competency': 'how to seek recommendations for improvements of sales activities using the tools and technology systems',\n",
       "   'type': 'knowledge'}]}"
      ]
     },
     "execution_count": 28,
     "metadata": {},
     "output_type": "execute_result"
    }
   ],
   "source": [
    "response_content = json.loads(response.choices[0].message.tool_calls[0].function.arguments)\n",
    "response_content"
   ]
  },
  {
   "cell_type": "code",
   "execution_count": 147,
   "id": "397757c7",
   "metadata": {},
   "outputs": [],
   "source": [
    "# with open(os.path.join(os.getcwd(), \"assets/nos/sales/INSSAL014.json\"), 'w') as file:\n",
    "#     json.dump(response_content['nos'], file, indent=2)"
   ]
  },
  {
   "cell_type": "code",
   "execution_count": 150,
   "id": "69f91a5a",
   "metadata": {},
   "outputs": [],
   "source": [
    "def get_nos_skills_with_criteria():\n",
    "    nos_skills = response_content['nos']\n",
    "    skill_criteria_str = \"\"\n",
    "    for skill in nos_skills:\n",
    "        skill_name = skill.get(\"competency\")\n",
    "        criteria = skill.get(\"blooms_taxonomy_criteria\")\n",
    "        criteria_str = \"\\n\"+\"\\n\".join([f\"{item['level']}: {item['criteria']}\" for item in criteria])\n",
    "        skill_criteria_str += f\"Competency: {skill_name}\\nCriteria: {criteria_str}\\n\\n\"\n",
    "    return skill_criteria_str"
   ]
  },
  {
   "cell_type": "code",
   "execution_count": 151,
   "id": "d1658891",
   "metadata": {},
   "outputs": [
    {
     "name": "stdout",
     "output_type": "stream",
     "text": [
      "Competency: Use sales-related information for planning and implementing sales activities\n",
      "Criteria: \n",
      "Remember: List the steps involved in using sales-related information for planning.\n",
      "Understand: Explain how sales information impacts decision-making in planning sales activities.\n",
      "Apply: Create a sales plan using sales-related information for a hypothetical product.\n",
      "Analyze: Evaluate the effectiveness of a sales plan based on provided sales data.\n",
      "Evaluate: Assess the outcomes of a sales activity against planning objectives.\n",
      "Create: Design a comprehensive sales planning process based on current sales data.\n",
      "\n",
      "Competency: Store information on the sales technology systems, checking its quality, validity and reliability\n",
      "Criteria: \n",
      "Remember: Identify the key elements necessary to ensure data quality in sales systems.\n",
      "Understand: Describe the implications of storing unreliable data in sales technology systems.\n",
      "Apply: Implement a data validation process in a sales technology system.\n",
      "Analyze: Break down the factors that contribute to data reliability in sales systems.\n",
      "Evaluate: Appraise the quality of information stored in a given sales technology case.\n",
      "Create: Develop a framework for assessing the quality and validity of data in sales systems.\n",
      "\n",
      "Competency: Maintain the sales-related information stored in the technology systems, ensuring it is accurate and up to date\n",
      "Criteria: \n",
      "Remember: Recall the standards for maintaining accurate sales information.\n",
      "Understand: Clarify the process for updating information in sales technology systems.\n",
      "Apply: Demonstrate updating and maintaining sales information in a provided technology system scenario.\n",
      "Analyze: Examine discrepancies in sales records and identify maintenance needs.\n",
      "Evaluate: Judge the effectiveness of the current procedures for maintaining sales-related information.\n",
      "Create: Formulate a guideline document for maintaining accurate sales information.\n",
      "\n",
      "Competency: Use tools and technology systems for automation of sales-related tasks and activities\n",
      "Criteria: \n",
      "Remember: List different tools available for automating sales tasks.\n",
      "Understand: Explain the advantages of automation in sales-related activities.\n",
      "Apply: Utilize an automation tool to perform a sales-related task.\n",
      "Analyze: Compare automated processes versus manual processes in sales activities.\n",
      "Evaluate: Assess the impact of automation on sales team productivity.\n",
      "Create: Design an automated workflow for a specific sales task.\n",
      "\n",
      "Competency: Share sales-related information for collaboration with members of the sales team\n",
      "Criteria: \n",
      "Remember: Enumerate methods for sharing sales information with team members.\n",
      "Understand: Discuss the importance of collaboration in sales activities.\n",
      "Apply: Collaborate with a team by sharing feedback on sales prospects using a shared platform.\n",
      "Analyze: Identify barriers to effective information sharing in a sales team.\n",
      "Evaluate: Critique a case study on collaboration within a sales team.\n",
      "Create: Craft a collaborative communication strategy for a sales team.\n",
      "\n",
      "Competency: Use lead generation automation technology to qualify the leads\n",
      "Criteria: \n",
      "Remember: Identify the key features of lead generation automation technology.\n",
      "Understand: Explain how automation improves the qualification process of leads.\n",
      "Apply: Use a lead generation tool to qualify a list of potential leads.\n",
      "Analyze: Assess the quality of qualified leads generated through automation.\n",
      "Evaluate: Evaluate the effectiveness of different lead generation methods.\n",
      "Create: Develop a new strategy for lead qualification using automation tools.\n",
      "\n",
      "Competency: Collate potential leads and prioritise these in accordance with sales targets\n",
      "Criteria: \n",
      "Remember: State the criteria for prioritizing leads according to sales targets.\n",
      "Understand: Interpret sales targets and their implications for lead prioritization.\n",
      "Apply: Prioritize a given list of leads based on specified sales targets.\n",
      "Analyze: Analyze the given sales data to identify high-priority leads.\n",
      "Evaluate: Review the effectiveness of a lead prioritization strategy.\n",
      "Create: Design a lead prioritization framework based on sales objectives.\n",
      "\n",
      "Competency: Summarise information appropriately from sales systems for reporting to management\n",
      "Criteria: \n",
      "Remember: Recall the main components required in a sales report.\n",
      "Understand: Discuss the importance of clear reporting to management.\n",
      "Apply: Generate a report from sales data using a provided template.\n",
      "Analyze: Break down sales data to identify key insights for reports.\n",
      "Evaluate: Assess the clarity and effectiveness of a sales report.\n",
      "Create: Develop a comprehensive reporting template for sales data.\n",
      "\n",
      "Competency: Follow up incoming leads and assign the ownership of quality leads to the most relevant members of the sales team\n",
      "Criteria: \n",
      "Remember: List the steps involved in lead follow-up processes.\n",
      "Understand: Explain the rationale behind assigning leads to specific team members.\n",
      "Apply: Execute a follow-up process for incoming leads using a CRM system.\n",
      "Analyze: Differentiate between high-quality and low-quality leads and their implications for ownership assignment.\n",
      "Evaluate: Examine a case where lead follow-up and assignment affected sales outcomes.\n",
      "Create: Formulate a policy for lead assignment and follow-up in a sales team.\n",
      "\n",
      "Competency: Monitor, process or delegate daily tasks within assigned ownership and visibility on technology systems\n",
      "Criteria: \n",
      "Remember: Identify daily tasks typically monitored within a sales team.\n",
      "Understand: Explain the role of visibility in task delegation.\n",
      "Apply: Demonstrate monitoring daily tasks in a given sales technology system.\n",
      "Analyze: Evaluate the effectiveness of current monitoring practices for task management.\n",
      "Evaluate: Assess how effective delegation impacts team productivity.\n",
      "Create: Design a task monitoring and delegation strategy for sales activities.\n",
      "\n",
      "Competency: Monitor own use of the sales technology system, seeking guidance, support and skills development where necessary\n",
      "Criteria: \n",
      "Remember: Recall the importance of self-monitoring in technology system usage.\n",
      "Understand: Identify how seeking guidance contributes to skill development.\n",
      "Apply: Reflect on personal experiences to identify areas for improvement in using sales technology.\n",
      "Analyze: Assess the effectiveness of personal monitoring strategies in using the sales technology system.\n",
      "Evaluate: Critique personal usage of sales technology systems based on performance outcomes.\n",
      "Create: Develop a personal development plan for improving skills in using sales technology.\n",
      "\n",
      "Competency: Provide feedback on the sales technology systems, your pipeline management and other tasks and activities\n",
      "Criteria: \n",
      "Remember: List the types of feedback typically provided on sales systems.\n",
      "Understand: Explain the role of feedback in improving sales technology systems.\n",
      "Apply: Provide constructive feedback based on a scenario involving the sales system.\n",
      "Analyze: Examine the feedback mechanisms in place for sales technology systems.\n",
      "Evaluate: Assess the impact of feedback on the improvement of sales processes.\n",
      "Create: Propose a feedback system for enhancing sales technology effectiveness.\n",
      "\n",
      "Competency: Seek evidence-based recommendations for improvement of sales activities and personal productivity using the technology systems\n",
      "Criteria: \n",
      "Remember: Recall a method for gathering evidence-based data.\n",
      "Understand: Describe how recommendations can enhance sales processes.\n",
      "Apply: Use data to formulate recommendations for improving sales activities.\n",
      "Analyze: Identify trends in sales data that can suggest areas for improvement.\n",
      "Evaluate: Assess the feasibility of implementing a given recommendation for improvement.\n",
      "Create: Develop an innovative approach for enhancing personal productivity using technology.\n",
      "\n",
      "\n"
     ]
    }
   ],
   "source": [
    "print(get_nos_skills_with_criteria())"
   ]
  },
  {
   "cell_type": "code",
   "execution_count": 41,
   "id": "c5372251",
   "metadata": {},
   "outputs": [],
   "source": [
    "pdf_filepath = r\"C:\\Users\\Mumtaz Rahmani\\OneDrive\\Documents\\projects\\zavmo\\OFQUAL\\Salse OFQUAL levels\\Sales OFQUAL levels\\ISM-Level-2-specification-new (1).pdf\"\n",
    "import PyPDF2\n",
    "import re\n",
    "\n",
    "def extract_text_from_pdf(pdf_filepath):\n",
    "    text_by_page = []\n",
    "    with open(pdf_filepath, \"rb\") as file:\n",
    "        reader = PyPDF2.PdfReader(file)\n",
    "        units = {}\n",
    "        current_unit = None\n",
    "        for page_num in range(len(reader.pages)):\n",
    "            page = reader.pages[page_num]\n",
    "            text = page.extract_text()\n",
    "            lines = text.split('\\n')\n",
    "            for line in lines:\n",
    "                unit_pattern = re.compile(r\"^Unit U2\\d+\")\n",
    "                if unit_pattern.match(line):\n",
    "                    current_unit = unit_pattern.match(line).group().strip()\n",
    "                    units[current_unit] = []\n",
    "                if current_unit:\n",
    "                    units[current_unit].append(line)\n",
    "    return units\n",
    "\n",
    "pdf_text = extract_text_from_pdf(pdf_filepath)\n",
    "# for i, page_text in enumerate(pdf_text):\n",
    "#     print(f\"Page {i+1}:\\n{page_text}\\n\")\n"
   ]
  },
  {
   "cell_type": "code",
   "execution_count": 42,
   "id": "49f5a0b3",
   "metadata": {},
   "outputs": [
    {
     "data": {
      "text/plain": [
       "dict_keys(['Unit U206', 'Unit U201', 'Unit U203'])"
      ]
     },
     "execution_count": 42,
     "metadata": {},
     "output_type": "execute_result"
    }
   ],
   "source": [
    "pdf_text.keys()"
   ]
  },
  {
   "cell_type": "code",
   "execution_count": 24,
   "id": "9efffcac-0526-4f2a-9b81-17e258076c97",
   "metadata": {},
   "outputs": [],
   "source": [
    "url = 'http://127.0.0.1:8000/api/create_org/'\n"
   ]
  },
  {
   "cell_type": "code",
   "execution_count": 25,
   "id": "4e2e4c5d-97e4-4d3f-9b5b-b78f146aaf3c",
   "metadata": {},
   "outputs": [],
   "source": [
    "payload = {\n",
    "    \"org_name\": \"Kenpath\"\n",
    "}"
   ]
  },
  {
   "cell_type": "code",
   "execution_count": 26,
   "id": "494e4a22-1c33-4774-83c0-17bd660f21df",
   "metadata": {},
   "outputs": [],
   "source": [
    "response = requests.post(url, json=payload)"
   ]
  },
  {
   "cell_type": "code",
   "execution_count": 27,
   "id": "6d49e59f-8e85-4ea0-ab65-154bd64f7742",
   "metadata": {},
   "outputs": [
    {
     "data": {
      "text/plain": [
       "<Response [201]>"
      ]
     },
     "execution_count": 27,
     "metadata": {},
     "output_type": "execute_result"
    }
   ],
   "source": [
    "response"
   ]
  },
  {
   "cell_type": "code",
   "execution_count": 34,
   "id": "ecf4b847-2aff-48b5-8215-b37755f02f2c",
   "metadata": {},
   "outputs": [
    {
     "name": "stdout",
     "output_type": "stream",
     "text": [
      "400\n",
      "{'org_id': ['This field is required.']}\n"
     ]
    }
   ],
   "source": [
    "url = 'http://127.0.0.1:8000/api/create_user/'  \n",
    "data = {\n",
    "    'email': 'smrithi.shaji@kenpath.io',\n",
    "    'org_id': '2'  \n",
    "}\n",
    "\n",
    "response = requests.post(url, json=data)\n",
    "print(response.status_code)\n",
    "print(response.json())\n"
   ]
  }
 ],
 "metadata": {
  "kernelspec": {
   "display_name": "Python 3 (ipykernel)",
   "language": "python",
   "name": "python3"
  },
  "language_info": {
   "codemirror_mode": {
    "name": "ipython",
    "version": 3
   },
   "file_extension": ".py",
   "mimetype": "text/x-python",
   "name": "python",
   "nbconvert_exporter": "python",
   "pygments_lexer": "ipython3",
   "version": "3.9.6"
  }
 },
 "nbformat": 4,
 "nbformat_minor": 5
}
