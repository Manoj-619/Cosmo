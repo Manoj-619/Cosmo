{
 "cells": [
  {
   "cell_type": "code",
   "execution_count": 1,
   "id": "fe9b60a6-e4d5-41fa-a79e-92736131076c",
   "metadata": {},
   "outputs": [],
   "source": [
    "import requests"
   ]
  },
  {
   "cell_type": "code",
   "execution_count": 11,
   "id": "25e324d3",
   "metadata": {},
   "outputs": [],
   "source": [
    "sys = \"\"\"Objective: Create a detailed list of skills from the provided NOS and associate each skill with assessment criteria aligned to Bloom's Taxonomy (6 levels: Remember, Understand, Apply, Analyze, Evaluate, Create). This will ensure meaningful skill assessment for both technical and soft skills.\n",
    "\n",
    "Instructions for the System:\n",
    "\n",
    "Extract Skills:\n",
    "\n",
    "Analyze the provided NOS document and extract all the skills mentioned. For each skill, ensure both technical (e.g., product knowledge, technical tools) and soft skills (e.g., communication, customer engagement) are included.\n",
    "Each skill should be contextualized based on the job description (JD) and performance standards outlined in the NOS.\n",
    "Define Assessment Criteria:\n",
    "\n",
    "For each skill, generate assessment criteria based on the six levels of Bloom’s Taxonomy:\n",
    "Remember: Does the user recall relevant facts, definitions, or procedures for this skill?\n",
    "Understand: Can the user explain or interpret the concepts related to this skill?\n",
    "Apply: Can the user use the skill in real-world scenarios or simulated tasks?\n",
    "Analyze: Can the user break down complex situations to identify components related to this skill?\n",
    "Evaluate: Can the user assess situations and justify decisions involving this skill?\n",
    "Create: Can the user design or innovate new approaches, presentations, or solutions based on this skill?\n",
    "Associate Performance and Knowledge Criteria:\n",
    "\n",
    "Align each skill with performance standards and knowledge requirements from the NOS. This ensures the assessment is comprehensive and role-specific.\n",
    "Include prompts for assessing both practical demonstration and theoretical understanding.\n",
    "Output Format:\n",
    "\n",
    "For each skill, provide:\n",
    "Skill Name\n",
    "Skill Category (Technical/Soft)\n",
    "Bloom's Taxonomy Level Criteria:\n",
    "Remember: Specific questions or tasks to test recall.\n",
    "Understand: Scenarios to explain the skill.\n",
    "Apply: Practical tasks or case studies.\n",
    "Analyze: Problem-solving scenarios.\n",
    "Evaluate: Judgment or decision-making tasks.\n",
    "Create: Designing new solutions or improvements.\n",
    "\"\"\""
   ]
  },
  {
   "cell_type": "code",
   "execution_count": 12,
   "id": "5bbeb117",
   "metadata": {},
   "outputs": [],
   "source": [
    "system_message = {'role':'system','content':sys}\n",
    "nos = \"\"\"Performance criteria\n",
    "You must be able to:\n",
    "1. use sales-related information for planning and implementing sales activities\n",
    "2. store information on the sales technology systems, checking its quality, validity\n",
    "and reliability\n",
    "3. maintain the sales-related information stored in the technology systems, ensuring\n",
    "it is accurate and up to date\n",
    "4. use tools and technology systems for automation of sales-related tasks and\n",
    "activities\n",
    "5. share sales-related information for collaboration with members of sales team\n",
    "6. use lead generation automation technology to qualify the leads\n",
    "7. collate potential leads and prioritise these in accordance with sales targets\n",
    "8. summarise information appropriately from sales systems for reporting to\n",
    "management\n",
    "9. follow up incoming leads and assign the ownership of quality leads to the most\n",
    "relevant members of sales team\n",
    "10. monitor, process or delegate daily tasks within assigned ownership and visibility on\n",
    "technology systems\n",
    "11. monitor own use of the sales technology system, seeking guidance, support and\n",
    "skills development, where necessary\n",
    "12. provide feedback on the sales technology systems, your pipeline management and\n",
    "other tasks and activities\n",
    "13. seek evidence-based recommendations for improvement of sales activities and\n",
    "personal productivity using the technology systems\n",
    "INSSAL014\n",
    "Use sales tools and technology systems\n",
    "INSSAL014 Use sales tools and technology systems 2\n",
    "Knowledge and understanding\n",
    "You need to know and understand:\n",
    "1. the current legal and ethical issues in relation to the use of sales tools and\n",
    "technology systems\n",
    "2. the benefits of tools and technology systems for sales-related tasks and activities\n",
    "3. the range of tasks and activities on sales tools and technology systems\n",
    "4. the visibility options and ownership of sales team members on technology systems\n",
    "5. the information requirements for the sales function, lead generation and\n",
    "qualification of these\n",
    "6. your organisation’s sales targets\n",
    "7. the importance of automation of sales-related tasks and activities\n",
    "8. how to collate, qualify and prioritise the leads on technology systems\n",
    "9. the sales pipeline and how to feed the leads into it using technology systems\n",
    "10. how to maintain and monitor your sales pipeline\n",
    "11. when to assign the leads to the relevant members of sales team or to yourself\n",
    "12. your organisation’s processes and procedures for using, storing and maintaining \n",
    "information\n",
    "13. how to use the sales technology system as part of planning and implementation of\n",
    "sales activities\n",
    "14. the support, guidance and skills development available to the users of sales tools\n",
    "and technology system\n",
    "15. how to seek recommendations for improvements of sales activities using the tools\n",
    "and technology systems\"\"\""
   ]
  },
  {
   "cell_type": "code",
   "execution_count": 14,
   "id": "f38679ae",
   "metadata": {},
   "outputs": [],
   "source": [
    "from pydantic import Field\n",
    "from typing import Dict, List\n",
    "from helpers._types import (\n",
    "    Agent,\n",
    "    StrictTool,\n",
    "    Result,\n",
    ")"
   ]
  },
  {
   "cell_type": "code",
   "execution_count": 6,
   "id": "b76ae8c8",
   "metadata": {},
   "outputs": [],
   "source": [
    "import os\n",
    "os.chdir(f\"{os.path.dirname(os.path.abspath(os.getcwd()))}/zavmo\")"
   ]
  },
  {
   "cell_type": "code",
   "execution_count": 1,
   "id": "e7c16931",
   "metadata": {},
   "outputs": [],
   "source": [
    "import openai\n",
    "import json\n",
    "from openai import OpenAI\n",
    "from pydantic import BaseModel, Field\n",
    "from typing import List, Optional, Literal\n",
    "# from IPython.display import Markdown"
   ]
  },
  {
   "cell_type": "code",
   "execution_count": 112,
   "id": "d5a214ff",
   "metadata": {},
   "outputs": [],
   "source": [
    "class BloomTaxonomyLevels(StrictTool):\n",
    "    level: Literal[\"Remember\", \"Understand\", \"Apply\", \"Analyze\", \"Evaluate\", \"Create\"] = Field(description=\"The level of Bloom's Taxonomy\")\n",
    "    criteria: str = Field(description=\"Generate specific criteria for assessing the skill based on shared NOS for the level of Bloom's Taxonomy\")\n",
    "\n",
    "    def execute(self, context: Dict):\n",
    "        return self.model_dump_json()\n",
    "    \n",
    "class GetSkillFromNOS(StrictTool):\n",
    "    skill_area: str = Field(description=\"Name of the skill area\")\n",
    "    skill_category: str = Field(description=\"Technical or Soft skill category\")\n",
    "    blooms_taxonomy_criteria: List[BloomTaxonomyLevels] = Field(description=\"Criteria for Bloom's Taxonomy levels\")\n",
    "    \n",
    "    def execute(self, context: Dict):\n",
    "        return self.model_dump_json()\n",
    "\n",
    "class GetSkillsFromNOS(StrictTool):\n",
    "    \"\"\"A tool to extract multiple skills names, categories and assessment criteria from the NOS document.\"\"\"\n",
    "    \n",
    "    nos: List[GetSkillFromNOS] = Field(description=\"List of skills with categories and criteria on Bloom's Taxonomy levels\")\n",
    "    \n",
    "    def execute(self, context: Dict):\n",
    "        return self.model_dump_json()\n"
   ]
  },
  {
   "cell_type": "code",
   "execution_count": 113,
   "id": "15f6261b",
   "metadata": {},
   "outputs": [],
   "source": [
    "from helpers.swarm import fetch_agent_response\n"
   ]
  },
  {
   "cell_type": "code",
   "execution_count": 114,
   "id": "da30bf4a",
   "metadata": {},
   "outputs": [
    {
     "name": "stderr",
     "output_type": "stream",
     "text": [
      "2024-12-02 23:46:50,108 - INFO - Logging from fetch_agent response\n"
     ]
    }
   ],
   "source": [
    "messages = [{\"role\": \"user\", \"content\": f\"Here is the NOS(National Occupational Standards) document: {nos}\"}]\n",
    "agent = Agent(\n",
    "    name=\"GetSkillsFromNOS\",\n",
    "    functions=[GetSkillsFromNOS],\n",
    "    model=\"gpt-4o-mini\",\n",
    "    system_message=system_message,\n",
    ")\n",
    "\n",
    "agent.instructions = sys\n",
    "\n",
    "response = fetch_agent_response(agent, messages, {})  "
   ]
  },
  {
   "cell_type": "code",
   "execution_count": 115,
   "id": "22724d72",
   "metadata": {},
   "outputs": [
    {
     "data": {
      "text/plain": [
       "{'nos': [{'skill_area': 'Sales Planning and Implementation',\n",
       "   'skill_category': 'Technical',\n",
       "   'blooms_taxonomy_criteria': [{'level': 'Remember',\n",
       "     'criteria': 'Recall the types of sales-related information required for effective planning.'},\n",
       "    {'level': 'Understand',\n",
       "     'criteria': 'Explain the importance of using sales-related information in planning and implementing activities.'},\n",
       "    {'level': 'Apply',\n",
       "     'criteria': 'Use sales-related information to develop a sales plan.'},\n",
       "    {'level': 'Analyze',\n",
       "     'criteria': 'Identify components of an effective sales plan based on sales data.'},\n",
       "    {'level': 'Evaluate',\n",
       "     'criteria': 'Assess the effectiveness of a sales plan based on sales outcomes.'},\n",
       "    {'level': 'Create',\n",
       "     'criteria': 'Design a comprehensive sales plan that incorporates various sales-related information.'}]},\n",
       "  {'skill_area': 'Sales Technology and Information Management',\n",
       "   'skill_category': 'Technical',\n",
       "   'blooms_taxonomy_criteria': [{'level': 'Remember',\n",
       "     'criteria': 'Recall the key features of the sales technology systems used.'},\n",
       "    {'level': 'Understand',\n",
       "     'criteria': 'Explain how to check the quality, validity, and reliability of stored information.'},\n",
       "    {'level': 'Apply',\n",
       "     'criteria': 'Demonstrate how to store information on sales technology systems.'},\n",
       "    {'level': 'Analyze',\n",
       "     'criteria': 'Evaluate stored data for its accuracy and relevance.'},\n",
       "    {'level': 'Evaluate',\n",
       "     'criteria': 'Make informed decisions based on the analysis of the information in the technology systems.'},\n",
       "    {'level': 'Create',\n",
       "     'criteria': 'Develop a system for maintaining up-to-date sales information.'}]},\n",
       "  {'skill_area': 'Sales Automation',\n",
       "   'skill_category': 'Technical',\n",
       "   'blooms_taxonomy_criteria': [{'level': 'Remember',\n",
       "     'criteria': 'Identify the tools and technologies used for the automation of sales tasks.'},\n",
       "    {'level': 'Understand',\n",
       "     'criteria': 'Explain the advantages of automation in sales activities.'},\n",
       "    {'level': 'Apply',\n",
       "     'criteria': 'Utilize automation tools to carry out specific sales-related tasks.'},\n",
       "    {'level': 'Analyze',\n",
       "     'criteria': 'Break down a sales process and identify opportunities for automation.'},\n",
       "    {'level': 'Evaluate',\n",
       "     'criteria': 'Assess the impact of automation on sales effectiveness.'},\n",
       "    {'level': 'Create',\n",
       "     'criteria': 'Design a workflow that incorporates automation technology for sales activities.'}]},\n",
       "  {'skill_area': 'Collaboration and Communication in Sales',\n",
       "   'skill_category': 'Soft',\n",
       "   'blooms_taxonomy_criteria': [{'level': 'Remember',\n",
       "     'criteria': 'Recall the methods of sharing sales-related information within a team.'},\n",
       "    {'level': 'Understand',\n",
       "     'criteria': 'Describe the importance of collaboration among sales team members.'},\n",
       "    {'level': 'Apply',\n",
       "     'criteria': 'Demonstrate effective communication strategies in sharing sales information.'},\n",
       "    {'level': 'Analyze',\n",
       "     'criteria': 'Evaluate the effectiveness of communication within the sales team.'},\n",
       "    {'level': 'Evaluate',\n",
       "     'criteria': 'Assess collaborative strategies and their impact on team performance.'},\n",
       "    {'level': 'Create',\n",
       "     'criteria': 'Develop a strategy for improving collaboration and information sharing among sales team members.'}]},\n",
       "  {'skill_area': 'Lead Generation and Qualification',\n",
       "   'skill_category': 'Technical',\n",
       "   'blooms_taxonomy_criteria': [{'level': 'Remember',\n",
       "     'criteria': 'Recall the process of lead generation and qualification.'},\n",
       "    {'level': 'Understand',\n",
       "     'criteria': 'Explain the importance of qualifying leads in the sales process.'},\n",
       "    {'level': 'Apply',\n",
       "     'criteria': 'Use lead generation automation technology to identify and qualify leads.'},\n",
       "    {'level': 'Analyze',\n",
       "     'criteria': 'Analyze the criteria for prioritizing leads based on sales targets.'},\n",
       "    {'level': 'Evaluate',\n",
       "     'criteria': 'Justify the approach taken to qualify and prioritize leads.'},\n",
       "    {'level': 'Create',\n",
       "     'criteria': 'Design a lead generation strategy that includes automation tools.'}]},\n",
       "  {'skill_area': 'Sales Reporting and Management',\n",
       "   'skill_category': 'Technical',\n",
       "   'blooms_taxonomy_criteria': [{'level': 'Remember',\n",
       "     'criteria': 'Identify the types of reports generated from sales systems.'},\n",
       "    {'level': 'Understand',\n",
       "     'criteria': 'Explain the role of sales reporting in performance management.'},\n",
       "    {'level': 'Apply',\n",
       "     'criteria': 'Generate a report summarizing sales-related information for management.'},\n",
       "    {'level': 'Analyze',\n",
       "     'criteria': 'Evaluate the data included in sales reports for actionable insights.'},\n",
       "    {'level': 'Evaluate',\n",
       "     'criteria': 'Assess the effectiveness of reporting tools and their impact on decision making.'},\n",
       "    {'level': 'Create',\n",
       "     'criteria': 'Design a reporting template that captures key sales metrics.'}]},\n",
       "  {'skill_area': 'Performance Monitoring and Feedback',\n",
       "   'skill_category': 'Soft',\n",
       "   'blooms_taxonomy_criteria': [{'level': 'Remember',\n",
       "     'criteria': 'Recall the elements of monitoring personal sales performance.'},\n",
       "    {'level': 'Understand',\n",
       "     'criteria': 'Explain the importance of feedback in personal development within sales.'},\n",
       "    {'level': 'Apply',\n",
       "     'criteria': 'Implement a self-monitoring technique for evaluating sales performance.'},\n",
       "    {'level': 'Analyze',\n",
       "     'criteria': \"Assess one's own performance against established sales targets.\"},\n",
       "    {'level': 'Evaluate',\n",
       "     'criteria': 'Critique feedback received on performance for improvement.'},\n",
       "    {'level': 'Create',\n",
       "     'criteria': 'Develop a personal development plan based on feedback and performance metrics.'}]}]}"
      ]
     },
     "execution_count": 115,
     "metadata": {},
     "output_type": "execute_result"
    }
   ],
   "source": [
    "response_content = json.loads(response.choices[0].message.tool_calls[0].function.arguments)\n",
    "response_content\n"
   ]
  },
  {
   "cell_type": "code",
   "execution_count": 116,
   "id": "397757c7",
   "metadata": {},
   "outputs": [],
   "source": [
    "with open(os.path.join(os.getcwd(), \"assets/nos/sales/INSSAL014.json\"), 'w') as file:\n",
    "    json.dump(response_content['nos'], file, indent=2)"
   ]
  },
  {
   "cell_type": "code",
   "execution_count": 117,
   "id": "69f91a5a",
   "metadata": {},
   "outputs": [],
   "source": [
    "def get_nos_skills_with_criteria():\n",
    "    nos_skills = response_content['nos']\n",
    "    skill_criteria_str = \"\"\n",
    "    for skill in nos_skills:\n",
    "        skill_name = skill.get(\"skill_area\")\n",
    "        criteria = skill.get(\"blooms_taxonomy_criteria\")\n",
    "        criteria_str = \"\\n\"+\"\\n\".join([f\"{item['level']}: {item['criteria']}\" for item in criteria])\n",
    "        skill_criteria_str += f\"Skill: {skill_name}\\nCriteria: {criteria_str}\\n\\n\"\n",
    "    return skill_criteria_str"
   ]
  },
  {
   "cell_type": "code",
   "execution_count": 118,
   "id": "d1658891",
   "metadata": {},
   "outputs": [
    {
     "name": "stdout",
     "output_type": "stream",
     "text": [
      "Skill: Sales Planning and Implementation\n",
      "Criteria: \n",
      "Remember: Recall the types of sales-related information required for effective planning.\n",
      "Understand: Explain the importance of using sales-related information in planning and implementing activities.\n",
      "Apply: Use sales-related information to develop a sales plan.\n",
      "Analyze: Identify components of an effective sales plan based on sales data.\n",
      "Evaluate: Assess the effectiveness of a sales plan based on sales outcomes.\n",
      "Create: Design a comprehensive sales plan that incorporates various sales-related information.\n",
      "\n",
      "Skill: Sales Technology and Information Management\n",
      "Criteria: \n",
      "Remember: Recall the key features of the sales technology systems used.\n",
      "Understand: Explain how to check the quality, validity, and reliability of stored information.\n",
      "Apply: Demonstrate how to store information on sales technology systems.\n",
      "Analyze: Evaluate stored data for its accuracy and relevance.\n",
      "Evaluate: Make informed decisions based on the analysis of the information in the technology systems.\n",
      "Create: Develop a system for maintaining up-to-date sales information.\n",
      "\n",
      "Skill: Sales Automation\n",
      "Criteria: \n",
      "Remember: Identify the tools and technologies used for the automation of sales tasks.\n",
      "Understand: Explain the advantages of automation in sales activities.\n",
      "Apply: Utilize automation tools to carry out specific sales-related tasks.\n",
      "Analyze: Break down a sales process and identify opportunities for automation.\n",
      "Evaluate: Assess the impact of automation on sales effectiveness.\n",
      "Create: Design a workflow that incorporates automation technology for sales activities.\n",
      "\n",
      "Skill: Collaboration and Communication in Sales\n",
      "Criteria: \n",
      "Remember: Recall the methods of sharing sales-related information within a team.\n",
      "Understand: Describe the importance of collaboration among sales team members.\n",
      "Apply: Demonstrate effective communication strategies in sharing sales information.\n",
      "Analyze: Evaluate the effectiveness of communication within the sales team.\n",
      "Evaluate: Assess collaborative strategies and their impact on team performance.\n",
      "Create: Develop a strategy for improving collaboration and information sharing among sales team members.\n",
      "\n",
      "Skill: Lead Generation and Qualification\n",
      "Criteria: \n",
      "Remember: Recall the process of lead generation and qualification.\n",
      "Understand: Explain the importance of qualifying leads in the sales process.\n",
      "Apply: Use lead generation automation technology to identify and qualify leads.\n",
      "Analyze: Analyze the criteria for prioritizing leads based on sales targets.\n",
      "Evaluate: Justify the approach taken to qualify and prioritize leads.\n",
      "Create: Design a lead generation strategy that includes automation tools.\n",
      "\n",
      "Skill: Sales Reporting and Management\n",
      "Criteria: \n",
      "Remember: Identify the types of reports generated from sales systems.\n",
      "Understand: Explain the role of sales reporting in performance management.\n",
      "Apply: Generate a report summarizing sales-related information for management.\n",
      "Analyze: Evaluate the data included in sales reports for actionable insights.\n",
      "Evaluate: Assess the effectiveness of reporting tools and their impact on decision making.\n",
      "Create: Design a reporting template that captures key sales metrics.\n",
      "\n",
      "Skill: Performance Monitoring and Feedback\n",
      "Criteria: \n",
      "Remember: Recall the elements of monitoring personal sales performance.\n",
      "Understand: Explain the importance of feedback in personal development within sales.\n",
      "Apply: Implement a self-monitoring technique for evaluating sales performance.\n",
      "Analyze: Assess one's own performance against established sales targets.\n",
      "Evaluate: Critique feedback received on performance for improvement.\n",
      "Create: Develop a personal development plan based on feedback and performance metrics.\n",
      "\n",
      "\n"
     ]
    }
   ],
   "source": [
    "print(get_nos_skills_with_criteria())"
   ]
  },
  {
   "cell_type": "code",
   "execution_count": 24,
   "id": "9efffcac-0526-4f2a-9b81-17e258076c97",
   "metadata": {},
   "outputs": [],
   "source": [
    "url = 'http://127.0.0.1:8000/api/create_org/'\n"
   ]
  },
  {
   "cell_type": "code",
   "execution_count": 25,
   "id": "4e2e4c5d-97e4-4d3f-9b5b-b78f146aaf3c",
   "metadata": {},
   "outputs": [],
   "source": [
    "payload = {\n",
    "    \"org_name\": \"Kenpath\"\n",
    "}"
   ]
  },
  {
   "cell_type": "code",
   "execution_count": 26,
   "id": "494e4a22-1c33-4774-83c0-17bd660f21df",
   "metadata": {},
   "outputs": [],
   "source": [
    "response = requests.post(url, json=payload)"
   ]
  },
  {
   "cell_type": "code",
   "execution_count": 27,
   "id": "6d49e59f-8e85-4ea0-ab65-154bd64f7742",
   "metadata": {},
   "outputs": [
    {
     "data": {
      "text/plain": [
       "<Response [201]>"
      ]
     },
     "execution_count": 27,
     "metadata": {},
     "output_type": "execute_result"
    }
   ],
   "source": [
    "response"
   ]
  },
  {
   "cell_type": "code",
   "execution_count": 34,
   "id": "ecf4b847-2aff-48b5-8215-b37755f02f2c",
   "metadata": {},
   "outputs": [
    {
     "name": "stdout",
     "output_type": "stream",
     "text": [
      "400\n",
      "{'org_id': ['This field is required.']}\n"
     ]
    }
   ],
   "source": [
    "url = 'http://127.0.0.1:8000/api/create_user/'  \n",
    "data = {\n",
    "    'email': 'smrithi.shaji@kenpath.io',\n",
    "    'org_id': '2'  \n",
    "}\n",
    "\n",
    "response = requests.post(url, json=data)\n",
    "print(response.status_code)\n",
    "print(response.json())\n"
   ]
  },
  {
   "cell_type": "code",
   "execution_count": null,
   "id": "9040d8dc-5fff-4caa-ae0d-577fbb1231b6",
   "metadata": {},
   "outputs": [],
   "source": []
  }
 ],
 "metadata": {
  "kernelspec": {
   "display_name": "Python 3 (ipykernel)",
   "language": "python",
   "name": "python3"
  },
  "language_info": {
   "codemirror_mode": {
    "name": "ipython",
    "version": 3
   },
   "file_extension": ".py",
   "mimetype": "text/x-python",
   "name": "python",
   "nbconvert_exporter": "python",
   "pygments_lexer": "ipython3",
   "version": "3.11.2"
  }
 },
 "nbformat": 4,
 "nbformat_minor": 5
}
