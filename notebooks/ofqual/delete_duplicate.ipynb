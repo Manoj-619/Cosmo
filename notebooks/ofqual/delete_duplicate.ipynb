{
 "cells": [
  {
   "cell_type": "code",
   "execution_count": 1,
   "metadata": {},
   "outputs": [
    {
     "name": "stdout",
     "output_type": "stream",
     "text": [
      "Duplicate found: C:\\Users\\amith\\Kenpath\\OFQUAL\\mpawards_pdfs\\mpqc level 2 diploma in field and laboratory geotechnical activities v1.pdf\n",
      "Duplicate found: C:\\Users\\amith\\Kenpath\\OFQUAL\\mpawards_pdfs\\mpqc level 2 nvq certificate in plant operations construction v1.pdf\n",
      "Duplicate found: C:\\Users\\amith\\Kenpath\\OFQUAL\\mpawards_pdfs\\mpqc level 2 nvq diploma in plant operations construction v1.pdf\n",
      "Duplicate found: C:\\Users\\amith\\Kenpath\\OFQUAL\\mpawards_pdfs\\mpqc level 3 award in advanced first aid for remote and mining environments v1.pdf\n",
      "Duplicate found: C:\\Users\\amith\\Kenpath\\OFQUAL\\mpawards_pdfs\\mpqc level 3 award in supervision of energy isolation and lock-out activities v1.pdf\n",
      "Duplicate found: C:\\Users\\amith\\Kenpath\\OFQUAL\\mpawards_pdfs\\mpqc level 3 diploma in field and laboratory geotechnical activities v1.pdf\n",
      "Duplicate found: C:\\Users\\amith\\Kenpath\\OFQUAL\\mpawards_pdfs\\mpqc level 4 diploma in safety health and environmental management v10.pdf\n",
      "Duplicate found: C:\\Users\\amith\\Kenpath\\OFQUAL\\mpawards_pdfs\\mpqc level 6 award in the managment of quarry drilling and blasting v8 (2).pdf\n",
      "Duplicate found: C:\\Users\\amith\\Kenpath\\OFQUAL\\mpawards_pdfs\\mpqc level 6 award in the managment of quarry drilling and blasting v8.pdf\n",
      "Duplicate found: C:\\Users\\amith\\Kenpath\\OFQUAL\\mpawards_pdfs\\mpqc level 6 diploma in safety health and environmental management v9.pdf\n",
      "Duplicate found: C:\\Users\\amith\\Kenpath\\OFQUAL\\mpawards_pdfs\\mpqc level 7 diploma in safety health and environmental management v9.pdf\n",
      "11\n"
     ]
    }
   ],
   "source": [
    "import os\n",
    "import hashlib\n",
    "\n",
    "def get_file_hash(file_path):\n",
    "    \"\"\"Generate MD5 hash for a file to check for duplicates.\"\"\"\n",
    "    hash_md5 = hashlib.md5()\n",
    "    with open(file_path, 'rb') as f:\n",
    "        # Read the file in chunks to avoid memory overload with large files\n",
    "        for chunk in iter(lambda: f.read(4096), b\"\"):\n",
    "            hash_md5.update(chunk)\n",
    "    return hash_md5.hexdigest()\n",
    "\n",
    "def delete_duplicates_in_folder(folder_path):\n",
    "    \"\"\"Delete duplicate PDFs in a folder based on file content.\"\"\"\n",
    "    file_hashes = {}\n",
    "    duplicates = []\n",
    "    \n",
    "    # Traverse through the folder\n",
    "    for root, dirs, files in os.walk(folder_path):\n",
    "        for file in files:\n",
    "            if file.lower().endswith('.pdf'):\n",
    "                file_path = os.path.join(root, file)\n",
    "                file_hash = get_file_hash(file_path)\n",
    "                \n",
    "                # If the file hash is already seen, it's a duplicate\n",
    "                if file_hash in file_hashes:\n",
    "                    duplicates.append(file_path)\n",
    "                    print(f\"Duplicate found: {file_path}\")\n",
    "                else:\n",
    "                    file_hashes[file_hash] = file_path\n",
    "    print(len(duplicates))\n",
    "    return duplicates\n",
    "\n",
    "\n",
    "# Usage example\n",
    "folder_path = r\"C:\\Users\\amith\\Kenpath\\OFQUAL\\mpawards_pdfs\"\n",
    "duplicates = delete_duplicates_in_folder(folder_path)\n"
   ]
  },
  {
   "cell_type": "code",
   "execution_count": 2,
   "metadata": {},
   "outputs": [
    {
     "name": "stdout",
     "output_type": "stream",
     "text": [
      "Deleted duplicate: C:\\Users\\amith\\Kenpath\\OFQUAL\\mpawards_pdfs\\mpqc level 2 diploma in field and laboratory geotechnical activities v1.pdf\n",
      "Deleted duplicate: C:\\Users\\amith\\Kenpath\\OFQUAL\\mpawards_pdfs\\mpqc level 2 nvq certificate in plant operations construction v1.pdf\n",
      "Deleted duplicate: C:\\Users\\amith\\Kenpath\\OFQUAL\\mpawards_pdfs\\mpqc level 2 nvq diploma in plant operations construction v1.pdf\n",
      "Deleted duplicate: C:\\Users\\amith\\Kenpath\\OFQUAL\\mpawards_pdfs\\mpqc level 3 award in advanced first aid for remote and mining environments v1.pdf\n",
      "Deleted duplicate: C:\\Users\\amith\\Kenpath\\OFQUAL\\mpawards_pdfs\\mpqc level 3 award in supervision of energy isolation and lock-out activities v1.pdf\n",
      "Deleted duplicate: C:\\Users\\amith\\Kenpath\\OFQUAL\\mpawards_pdfs\\mpqc level 3 diploma in field and laboratory geotechnical activities v1.pdf\n",
      "Deleted duplicate: C:\\Users\\amith\\Kenpath\\OFQUAL\\mpawards_pdfs\\mpqc level 4 diploma in safety health and environmental management v10.pdf\n",
      "Deleted duplicate: C:\\Users\\amith\\Kenpath\\OFQUAL\\mpawards_pdfs\\mpqc level 6 award in the managment of quarry drilling and blasting v8 (2).pdf\n",
      "Deleted duplicate: C:\\Users\\amith\\Kenpath\\OFQUAL\\mpawards_pdfs\\mpqc level 6 award in the managment of quarry drilling and blasting v8.pdf\n",
      "Deleted duplicate: C:\\Users\\amith\\Kenpath\\OFQUAL\\mpawards_pdfs\\mpqc level 6 diploma in safety health and environmental management v9.pdf\n",
      "Deleted duplicate: C:\\Users\\amith\\Kenpath\\OFQUAL\\mpawards_pdfs\\mpqc level 7 diploma in safety health and environmental management v9.pdf\n"
     ]
    }
   ],
   "source": [
    "# Delete duplicate files\n",
    "for duplicate in duplicates:\n",
    "    try:\n",
    "        os.remove(duplicate)\n",
    "        print(f\"Deleted duplicate: {duplicate}\")\n",
    "    except Exception as e:\n",
    "        print(f\"Failed to delete {duplicate}: {str(e)}\")"
   ]
  },
  {
   "cell_type": "code",
   "execution_count": null,
   "metadata": {},
   "outputs": [],
   "source": []
  }
 ],
 "metadata": {
  "kernelspec": {
   "display_name": "zavevn",
   "language": "python",
   "name": "python3"
  },
  "language_info": {
   "codemirror_mode": {
    "name": "ipython",
    "version": 3
   },
   "file_extension": ".py",
   "mimetype": "text/x-python",
   "name": "python",
   "nbconvert_exporter": "python",
   "pygments_lexer": "ipython3",
   "version": "3.13.1"
  }
 },
 "nbformat": 4,
 "nbformat_minor": 2
}
