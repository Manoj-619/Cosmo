{
 "cells": [
  {
   "cell_type": "code",
   "execution_count": 3,
   "metadata": {},
   "outputs": [
    {
     "name": "stdout",
     "output_type": "stream",
     "text": [
      "Downloaded CIWM-Handbook_V1_PCA1.pdf to C:\\Users\\amith\\Kenpath\\OFQUAL\\ciwm(wamitab)_pdfs\n",
      "Downloaded CIWM-Handbook_V1_PCB1.pdf to C:\\Users\\amith\\Kenpath\\OFQUAL\\ciwm(wamitab)_pdfs\n",
      "Downloaded CIWM-Handbook_V1_PCC1.pdf to C:\\Users\\amith\\Kenpath\\OFQUAL\\ciwm(wamitab)_pdfs\n",
      "Downloaded CIWM-Handbook_V1_PCD1.pdf to C:\\Users\\amith\\Kenpath\\OFQUAL\\ciwm(wamitab)_pdfs\n",
      "Downloaded CIWM-Handbook_V1_PCE1.pdf to C:\\Users\\amith\\Kenpath\\OFQUAL\\ciwm(wamitab)_pdfs\n",
      "Downloaded CIWM-Handbook_V1_PCF1.pdf to C:\\Users\\amith\\Kenpath\\OFQUAL\\ciwm(wamitab)_pdfs\n",
      "Downloaded CIWM-Handbook_V1_PCG1.pdf to C:\\Users\\amith\\Kenpath\\OFQUAL\\ciwm(wamitab)_pdfs\n",
      "Downloaded CIWM-Handbook_V1_PCH1.pdf to C:\\Users\\amith\\Kenpath\\OFQUAL\\ciwm(wamitab)_pdfs\n",
      "Downloaded CIWM-Handbook_V1_PCI1.pdf to C:\\Users\\amith\\Kenpath\\OFQUAL\\ciwm(wamitab)_pdfs\n",
      "Downloaded CIWM-Handbook_V1_PCJ1.pdf to C:\\Users\\amith\\Kenpath\\OFQUAL\\ciwm(wamitab)_pdfs\n",
      "Downloaded CIWM-Handbook_V1_PCK1.pdf to C:\\Users\\amith\\Kenpath\\OFQUAL\\ciwm(wamitab)_pdfs\n",
      "Downloaded CIWM-Handbook_V1_PCL1.pdf to C:\\Users\\amith\\Kenpath\\OFQUAL\\ciwm(wamitab)_pdfs\n",
      "Downloaded CIWM-Handbook_V1_PCM1.pdf to C:\\Users\\amith\\Kenpath\\OFQUAL\\ciwm(wamitab)_pdfs\n",
      "Downloaded CIWM-Handbook_V1_PCN1.pdf to C:\\Users\\amith\\Kenpath\\OFQUAL\\ciwm(wamitab)_pdfs\n",
      "Downloaded CIWM-Handbook_V1_CP1.pdf to C:\\Users\\amith\\Kenpath\\OFQUAL\\ciwm(wamitab)_pdfs\n",
      "Downloaded CIWM-Handbook_V1_PCBA1.pdf to C:\\Users\\amith\\Kenpath\\OFQUAL\\ciwm(wamitab)_pdfs\n",
      "Downloaded CIWM-Handbook_V1_PCPC1.pdf to C:\\Users\\amith\\Kenpath\\OFQUAL\\ciwm(wamitab)_pdfs\n",
      "Downloaded CIWM-Handbook_V1_PCTS1.pdf to C:\\Users\\amith\\Kenpath\\OFQUAL\\ciwm(wamitab)_pdfs\n",
      "Downloaded CIWM-Handbook_V1_PCO1.pdf to C:\\Users\\amith\\Kenpath\\OFQUAL\\ciwm(wamitab)_pdfs\n",
      "Downloaded CIWM-Handbook_V1_PCU1.pdf to C:\\Users\\amith\\Kenpath\\OFQUAL\\ciwm(wamitab)_pdfs\n",
      "Downloaded CIWM-Handbook_V1_PCSC1.pdf to C:\\Users\\amith\\Kenpath\\OFQUAL\\ciwm(wamitab)_pdfs\n",
      "Downloaded CIWM-Handbook_V1_PCHF1.pdf to C:\\Users\\amith\\Kenpath\\OFQUAL\\ciwm(wamitab)_pdfs\n",
      "Downloaded CIWM-Handbook_V1_CSSERV2.pdf to C:\\Users\\amith\\Kenpath\\OFQUAL\\ciwm(wamitab)_pdfs\n",
      "Downloaded CIWM-Handbook_V1_CPA2.pdf to C:\\Users\\amith\\Kenpath\\OFQUAL\\ciwm(wamitab)_pdfs\n",
      "Downloaded CIWM-Handbook_V1_CP2.pdf to C:\\Users\\amith\\Kenpath\\OFQUAL\\ciwm(wamitab)_pdfs\n"
     ]
    }
   ],
   "source": [
    "import requests\n",
    "from bs4 import BeautifulSoup\n",
    "import os\n",
    "\n",
    "# Function to download PDF\n",
    "def download_pdf(url, file_name, download_path):\n",
    "    # Ensure the download path exists\n",
    "    if not os.path.exists(download_path):\n",
    "        os.makedirs(download_path)\n",
    "    \n",
    "    # Create the full file path\n",
    "    file_path = os.path.join(download_path, file_name)\n",
    "    \n",
    "    response = requests.get(url)\n",
    "    if response.status_code == 200:\n",
    "        with open(file_path, 'wb') as f:\n",
    "            f.write(response.content)\n",
    "        print(f\"Downloaded {file_name} to {download_path}\")\n",
    "    else:\n",
    "        print(f\"Failed to download {url}\")\n",
    "\n",
    "# URL of the page to scrape\n",
    "page_url = 'https://ciwmquals.co.uk/qualifications-search/?keyword_code=&level=&risk=&job=&sector=37'\n",
    "\n",
    "# Specify the download path\n",
    "download_path = r'C:\\Users\\amith\\Kenpath\\OFQUAL\\ciwm(wamitab)_pdfs'  # For example, '/path/to/save/pdfs'\n",
    "\n",
    "# Send a GET request to fetch the page content\n",
    "response = requests.get(page_url)\n",
    "soup = BeautifulSoup(response.text, 'html.parser')\n",
    "\n",
    "# Loop through all <a> tags\n",
    "for link in soup.find_all('a', href=True):\n",
    "    # Check if the link contains \"Handbook\" and points to a PDF file\n",
    "    if 'handbook' in link.text.lower() and link['href'].endswith('.pdf'):\n",
    "        # Extract the full URL of the PDF\n",
    "        pdf_url = link['href']\n",
    "        # If the URL is relative, convert it to an absolute URL\n",
    "        if not pdf_url.startswith('http'):\n",
    "            pdf_url = page_url + pdf_url\n",
    "\n",
    "        # Download the PDF\n",
    "        file_name = os.path.basename(pdf_url)\n",
    "        download_pdf(pdf_url, file_name, download_path)\n"
   ]
  },
  {
   "cell_type": "code",
   "execution_count": null,
   "metadata": {},
   "outputs": [],
   "source": []
  }
 ],
 "metadata": {
  "kernelspec": {
   "display_name": "zavevn",
   "language": "python",
   "name": "python3"
  },
  "language_info": {
   "codemirror_mode": {
    "name": "ipython",
    "version": 3
   },
   "file_extension": ".py",
   "mimetype": "text/x-python",
   "name": "python",
   "nbconvert_exporter": "python",
   "pygments_lexer": "ipython3",
   "version": "3.13.1"
  }
 },
 "nbformat": 4,
 "nbformat_minor": 2
}
