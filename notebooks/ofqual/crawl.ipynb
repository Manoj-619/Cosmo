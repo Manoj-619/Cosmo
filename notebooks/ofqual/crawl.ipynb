{
 "cells": [
  {
   "cell_type": "code",
   "execution_count": 2,
   "metadata": {},
   "outputs": [
    {
     "name": "stdout",
     "output_type": "stream",
     "text": [
      "Download process completed.\n"
     ]
    }
   ],
   "source": [
    "import os\n",
    "import requests\n",
    "from bs4 import BeautifulSoup\n",
    "from urllib.parse import urljoin, urlparse\n",
    "import time\n",
    "\n",
    "# Function to download PDF files\n",
    "def download_pdf(url, folder):\n",
    "    response = requests.get(url)\n",
    "    if response.status_code == 200:\n",
    "        filename = os.path.join(folder, os.path.basename(urlparse(url).path))\n",
    "        with open(filename, 'wb') as f:\n",
    "            f.write(response.content)\n",
    "        print(f\"Downloaded: {filename}\")\n",
    "    else:\n",
    "        print(f\"Failed to download: {url}\")\n",
    "\n",
    "# Function to scrape the URL recursively\n",
    "def scrape_and_download(url, depth, max_depth, folder):\n",
    "    if depth > max_depth:\n",
    "        return\n",
    "\n",
    "    try:\n",
    "        response = requests.get(url)\n",
    "        soup = BeautifulSoup(response.text, 'html.parser')\n",
    "\n",
    "        # Find all links on the page\n",
    "        links = soup.find_all('a', href=True)\n",
    "\n",
    "        for link in links:\n",
    "            href = link['href']\n",
    "            full_url = urljoin(url, href)\n",
    "            \n",
    "            # If it's a PDF link, download it\n",
    "            if full_url.lower().endswith('.pdf'):\n",
    "                download_pdf(full_url, folder)\n",
    "            elif href.startswith('http') or href.startswith('www'):\n",
    "                # Recursive call for the next depth level\n",
    "                scrape_and_download(full_url, depth + 1, max_depth, folder)\n",
    "\n",
    "    except Exception as e:\n",
    "        print(f\"Error while scraping {url}: {e}\")\n",
    "\n",
    "# Create a folder to store the PDFs\n",
    "def create_folder(path):\n",
    "    if not os.path.exists(path):\n",
    "        os.makedirs(path)\n",
    "\n",
    "base_url = \"https://ccea.org.uk/\"\n",
    "max_depth = 3\n",
    "output_folder = r\"C:\\Users\\amith\\Kenpath\\OFQUAL\\ccea_pdfs\"\n",
    "\n",
    "create_folder(output_folder)\n",
    "\n",
    "# Start scraping and downloading PDFs\n",
    "scrape_and_download(base_url, 1, max_depth, output_folder)\n",
    "print(\"Download process completed.\")\n",
    "\n"
   ]
  },
  {
   "cell_type": "code",
   "execution_count": null,
   "metadata": {},
   "outputs": [],
   "source": []
  }
 ],
 "metadata": {
  "kernelspec": {
   "display_name": "zavevn",
   "language": "python",
   "name": "python3"
  },
  "language_info": {
   "codemirror_mode": {
    "name": "ipython",
    "version": 3
   },
   "file_extension": ".py",
   "mimetype": "text/x-python",
   "name": "python",
   "nbconvert_exporter": "python",
   "pygments_lexer": "ipython3",
   "version": "3.13.1"
  }
 },
 "nbformat": 4,
 "nbformat_minor": 2
}
