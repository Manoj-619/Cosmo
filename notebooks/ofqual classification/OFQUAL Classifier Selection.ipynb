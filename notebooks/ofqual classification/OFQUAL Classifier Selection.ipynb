{
 "cells": [
  {
   "cell_type": "code",
   "execution_count": 1,
   "metadata": {},
   "outputs": [],
   "source": [
    "import os\n",
    "os.chdir('/Users/mumtaz/Documents/projects/zavmo/zavmo-api/zavmo/classification')"
   ]
  },
  {
   "cell_type": "code",
   "execution_count": 5,
   "metadata": {},
   "outputs": [],
   "source": [
    "from CrossValidation.classifier import *\n",
    "from CrossValidation.crossval import *\n",
    "from CrossValidation.evaluation import *"
   ]
  },
  {
   "cell_type": "code",
   "execution_count": 18,
   "metadata": {},
   "outputs": [],
   "source": [
    "import pandas as pd\n",
    "import numpy as np\n",
    "from IPython.display import Markdown\n",
    "from sklearn.model_selection import train_test_split\n",
    "from sklearn.preprocessing import LabelEncoder\n",
    "from dotenv import load_dotenv\n",
    "from openai import OpenAI\n",
    "\n",
    "load_dotenv(override=True)\n",
    "\n",
    "client = OpenAI(api_key=os.getenv(\"OPENAI_API_KEY\"))"
   ]
  },
  {
   "cell_type": "code",
   "execution_count": 19,
   "metadata": {},
   "outputs": [],
   "source": [
    "def get_batch_list(texts):\n",
    "    batches = []\n",
    "    current_batch = []\n",
    "    current_batch_length = 0\n",
    "    # Set a conservative max length per batch (characters)\n",
    "    # OpenAI's text-embedding-3-small has an 8192 token limit\n",
    "    # A rough estimate is ~4 characters per token, so ~32,000 chars should be safe\n",
    "    max_batch_length = 30000\n",
    "    \n",
    "    for text in texts:\n",
    "        text_length = len(text)\n",
    "        \n",
    "        # If a single text is too long, truncate it\n",
    "        if text_length > max_batch_length:\n",
    "            text = text[:max_batch_length]\n",
    "            text_length = max_batch_length\n",
    "            \n",
    "        # If adding this text would exceed the batch limit, start a new batch\n",
    "        if current_batch_length + text_length > max_batch_length and current_batch:\n",
    "            batches.append(current_batch)\n",
    "            current_batch = []\n",
    "            current_batch_length = 0\n",
    "            \n",
    "        # Add the text to the current batch\n",
    "        current_batch.append(text)\n",
    "        current_batch_length += text_length\n",
    "        \n",
    "    # Add the last batch if it's not empty\n",
    "    if current_batch:\n",
    "        batches.append(current_batch)\n",
    "        \n",
    "    return batches\n",
    "\n",
    "def get_batch_openai_embedding(texts: list, model=\"text-embedding-3-small\", **kwargs):\n",
    "    \"\"\"\n",
    "    Get embeddings of a batch of texts from OpenAI API.\n",
    "\n",
    "    Args:\n",
    "        texts (list): List of texts to get embeddings for.\n",
    "        model (str): Model to use for embeddings.\n",
    "        **kwargs: Additional arguments to pass to the OpenAI API.\n",
    "    Returns:\n",
    "        list[list]: List of embeddings of the texts.\n",
    "    \"\"\"\n",
    "    text_batches = get_batch_list(texts)\n",
    "    print(f\"total batches: {len(text_batches)}\")\n",
    "    embeddings = []\n",
    "    for text_batch in text_batches:\n",
    "        response = client.embeddings.create(\n",
    "            model=model,\n",
    "            input=text_batch,\n",
    "            **kwargs,\n",
    "        )\n",
    "        embeddings += [r.embedding for r in response.data]\n",
    "    return embeddings"
   ]
  },
  {
   "cell_type": "markdown",
   "metadata": {},
   "source": [
    "## Ofqual Structured Data with SSAs and sub-SSAs"
   ]
  },
  {
   "cell_type": "code",
   "execution_count": 36,
   "metadata": {},
   "outputs": [],
   "source": [
    "ofqual = pd.read_csv(\"/Users/mumtaz/Documents/projects/zavmo/zavmo-api/docs/nos-ofqual/ofqual.csv\")"
   ]
  },
  {
   "cell_type": "code",
   "execution_count": 37,
   "metadata": {},
   "outputs": [
    {
     "data": {
      "text/html": [
       "<div>\n",
       "<style scoped>\n",
       "    .dataframe tbody tr th:only-of-type {\n",
       "        vertical-align: middle;\n",
       "    }\n",
       "\n",
       "    .dataframe tbody tr th {\n",
       "        vertical-align: top;\n",
       "    }\n",
       "\n",
       "    .dataframe thead th {\n",
       "        text-align: right;\n",
       "    }\n",
       "</style>\n",
       "<table border=\"1\" class=\"dataframe\">\n",
       "  <thead>\n",
       "    <tr style=\"text-align: right;\">\n",
       "      <th></th>\n",
       "      <th>ofqual_id</th>\n",
       "      <th>overview</th>\n",
       "      <th>id</th>\n",
       "      <th>title</th>\n",
       "      <th>description</th>\n",
       "      <th>learning_outcomes</th>\n",
       "      <th>sub_SSA</th>\n",
       "      <th>SSA</th>\n",
       "    </tr>\n",
       "  </thead>\n",
       "  <tbody>\n",
       "    <tr>\n",
       "      <th>0</th>\n",
       "      <td>601/0405/3</td>\n",
       "      <td>This is an entry-level qualification that enab...</td>\n",
       "      <td>A/001/0001</td>\n",
       "      <td>Constructing halving joints</td>\n",
       "      <td>Learners will learn how to construct halving j...</td>\n",
       "      <td>[{\"description\": \"Understand the principles of...</td>\n",
       "      <td>Building and construction</td>\n",
       "      <td>Construction, Planning and the Built Environment</td>\n",
       "    </tr>\n",
       "    <tr>\n",
       "      <th>1</th>\n",
       "      <td>601/0405/3</td>\n",
       "      <td>This is an entry-level qualification that enab...</td>\n",
       "      <td>A/001/0002</td>\n",
       "      <td>Constructing housing joints</td>\n",
       "      <td>Learners will learn how to construct housing j...</td>\n",
       "      <td>[{\"description\": \"Understand the principles of...</td>\n",
       "      <td>Building and construction</td>\n",
       "      <td>Construction, Planning and the Built Environment</td>\n",
       "    </tr>\n",
       "    <tr>\n",
       "      <th>2</th>\n",
       "      <td>601/0405/3</td>\n",
       "      <td>This is an entry-level qualification that enab...</td>\n",
       "      <td>A/001/0003</td>\n",
       "      <td>Painting techniques</td>\n",
       "      <td>Learners will acquire essential painting techn...</td>\n",
       "      <td>[{\"description\": \"Demonstrate key painting tec...</td>\n",
       "      <td>Building and construction</td>\n",
       "      <td>Construction, Planning and the Built Environment</td>\n",
       "    </tr>\n",
       "  </tbody>\n",
       "</table>\n",
       "</div>"
      ],
      "text/plain": [
       "    ofqual_id                                           overview          id  \\\n",
       "0  601/0405/3  This is an entry-level qualification that enab...  A/001/0001   \n",
       "1  601/0405/3  This is an entry-level qualification that enab...  A/001/0002   \n",
       "2  601/0405/3  This is an entry-level qualification that enab...  A/001/0003   \n",
       "\n",
       "                         title  \\\n",
       "0  Constructing halving joints   \n",
       "1  Constructing housing joints   \n",
       "2          Painting techniques   \n",
       "\n",
       "                                         description  \\\n",
       "0  Learners will learn how to construct halving j...   \n",
       "1  Learners will learn how to construct housing j...   \n",
       "2  Learners will acquire essential painting techn...   \n",
       "\n",
       "                                   learning_outcomes  \\\n",
       "0  [{\"description\": \"Understand the principles of...   \n",
       "1  [{\"description\": \"Understand the principles of...   \n",
       "2  [{\"description\": \"Demonstrate key painting tec...   \n",
       "\n",
       "                     sub_SSA                                               SSA  \n",
       "0  Building and construction  Construction, Planning and the Built Environment  \n",
       "1  Building and construction  Construction, Planning and the Built Environment  \n",
       "2  Building and construction  Construction, Planning and the Built Environment  "
      ]
     },
     "execution_count": 37,
     "metadata": {},
     "output_type": "execute_result"
    }
   ],
   "source": [
    "ofqual.head(3)"
   ]
  },
  {
   "cell_type": "code",
   "execution_count": 38,
   "metadata": {},
   "outputs": [],
   "source": [
    "# Group by id and get all titles for each id that appears multiple times\n",
    "duplicate_ids = ofqual[ofqual.duplicated(subset=['id'], keep=False)]\n",
    "duplicate_ids = duplicate_ids.groupby('id')[['title', 'ofqual_id', 'sub_SSA']].agg(list).head(10)"
   ]
  },
  {
   "cell_type": "code",
   "execution_count": 39,
   "metadata": {},
   "outputs": [
    {
     "name": "stdout",
     "output_type": "stream",
     "text": [
      "['600/7531/4', '501/0093/2', '600/6880/2', '601/2066/6', '601/2065/4', '600/1624/3', '501/2252/6', '600/1134/8', '600/2221/8', '610/4243/2', '603/4453/2', '603/5681/9', '603/7034/8', '610/2175/1', '610/3586/5', '601/1846/5', '610/3489/7', '603/4248/1']\n"
     ]
    },
    {
     "data": {
      "text/plain": [
       "['Mandatory Core Unit - Exploring Design Ideas',\n",
       " 'Principles of personal responsibilities and working in a business environment',\n",
       " 'Working in Engineering',\n",
       " 'Producing life drawings',\n",
       " 'Core Unit – Exploring Design Ideas',\n",
       " 'Customer Payments for Financial Products and Services',\n",
       " 'Health and Safety in the Workplace',\n",
       " 'Understand how to organise resources within BSE',\n",
       " 'Additional Competence Unit',\n",
       " 'Advanced Nutrition Studies',\n",
       " 'Assessment of the qualification',\n",
       " 'Customer Service Practitioner Skills',\n",
       " 'Management of bleeding and altered levels of consciousness - Additional Details',\n",
       " 'Unit 1',\n",
       " 'Unit 1: Title Placeholder',\n",
       " 'Placeholder Unit 1',\n",
       " 'Develop and Prepare Resources',\n",
       " 'Entry Requirements']"
      ]
     },
     "execution_count": 39,
     "metadata": {},
     "output_type": "execute_result"
    }
   ],
   "source": [
    "print(duplicate_ids['ofqual_id'][0])\n",
    "duplicate_ids['title'][0]"
   ]
  },
  {
   "cell_type": "code",
   "execution_count": 40,
   "metadata": {},
   "outputs": [
    {
     "data": {
      "text/plain": [
       "(21987, 8)"
      ]
     },
     "execution_count": 40,
     "metadata": {},
     "output_type": "execute_result"
    }
   ],
   "source": [
    "# ofqual.drop_duplicates(subset=['id'], inplace=True)\n",
    "ofqual.shape"
   ]
  },
  {
   "cell_type": "code",
   "execution_count": 41,
   "metadata": {},
   "outputs": [
    {
     "name": "stdout",
     "output_type": "stream",
     "text": [
      "Number of unique OFQUAL IDs:  2514\n"
     ]
    }
   ],
   "source": [
    "print(\"Number of unique OFQUAL IDs: \", len(ofqual['ofqual_id'].unique()))"
   ]
  },
  {
   "cell_type": "code",
   "execution_count": 42,
   "metadata": {},
   "outputs": [
    {
     "name": "stdout",
     "output_type": "stream",
     "text": [
      "Number of unique sub-SSAs:  42\n"
     ]
    }
   ],
   "source": [
    "print(\"Number of unique sub-SSAs: \", len(ofqual['sub_SSA'].unique()))"
   ]
  },
  {
   "cell_type": "code",
   "execution_count": 43,
   "metadata": {},
   "outputs": [],
   "source": [
    "# Group by ofqual_id and aggregate the text columns\n",
    "ofqual = ofqual.groupby('ofqual_id').agg({\n",
    "    'title': lambda x: ', '.join(x.fillna('').astype(str)),\n",
    "    'description': lambda x: ' '.join(x.fillna('').astype(str)), \n",
    "    'overview': 'first',  # Take first overview since it's same for each ofqual_id\n",
    "    'id': lambda x: list(x),\n",
    "    'learning_outcomes': lambda x: list(x),\n",
    "    'sub_SSA': 'first',  # Take first sub_SSA since it should be same for each ofqual_id\n",
    "    'SSA': 'first'  # Take first SSA since it should be same for each ofqual_id\n",
    "}).reset_index()"
   ]
  },
  {
   "cell_type": "code",
   "execution_count": 44,
   "metadata": {},
   "outputs": [
    {
     "data": {
      "text/html": [
       "<div>\n",
       "<style scoped>\n",
       "    .dataframe tbody tr th:only-of-type {\n",
       "        vertical-align: middle;\n",
       "    }\n",
       "\n",
       "    .dataframe tbody tr th {\n",
       "        vertical-align: top;\n",
       "    }\n",
       "\n",
       "    .dataframe thead th {\n",
       "        text-align: right;\n",
       "    }\n",
       "</style>\n",
       "<table border=\"1\" class=\"dataframe\">\n",
       "  <thead>\n",
       "    <tr style=\"text-align: right;\">\n",
       "      <th></th>\n",
       "      <th>ofqual_id</th>\n",
       "      <th>title</th>\n",
       "      <th>description</th>\n",
       "      <th>overview</th>\n",
       "      <th>id</th>\n",
       "      <th>learning_outcomes</th>\n",
       "      <th>sub_SSA</th>\n",
       "      <th>SSA</th>\n",
       "    </tr>\n",
       "  </thead>\n",
       "  <tbody>\n",
       "    <tr>\n",
       "      <th>0</th>\n",
       "      <td>500/1411/0</td>\n",
       "      <td>Aspects of Crime, Criminal Justice System, Cri...</td>\n",
       "      <td>A unit focusing on various aspects of crime, e...</td>\n",
       "      <td>The Ascentis Level 2 Certificate in Introducti...</td>\n",
       "      <td>[T/500/2458, A/500/2459, T/500/2458, A/500/2459]</td>\n",
       "      <td>[[{\"description\": \"Understand the various aspe...</td>\n",
       "      <td>Sociology and social policy</td>\n",
       "      <td>Social Sciences</td>\n",
       "    </tr>\n",
       "    <tr>\n",
       "      <th>1</th>\n",
       "      <td>500/3682/8</td>\n",
       "      <td>Principles of Customer Service, Delivering Goo...</td>\n",
       "      <td>This unit covers the fundamental principles of...</td>\n",
       "      <td>This qualification covers the basic elements o...</td>\n",
       "      <td>[A/500/3682, B/500/3682, C/500/3682, D/500/3682]</td>\n",
       "      <td>[[{\"description\": \"Understand the principles o...</td>\n",
       "      <td>Administration</td>\n",
       "      <td>Business, Administration and Law</td>\n",
       "    </tr>\n",
       "    <tr>\n",
       "      <th>2</th>\n",
       "      <td>500/4033/9</td>\n",
       "      <td>Introduction to Construction Work, Introductio...</td>\n",
       "      <td>An introduction to the foundational skills and...</td>\n",
       "      <td>The Ascentis Level 1 Certificate in Skills for...</td>\n",
       "      <td>[D/504/3389, D/504/3120, H/504/3393, J/501/712...</td>\n",
       "      <td>[[{\"description\": \"Understand basic concepts o...</td>\n",
       "      <td>Building and construction</td>\n",
       "      <td>Construction, Planning and the Built Environment</td>\n",
       "    </tr>\n",
       "    <tr>\n",
       "      <th>3</th>\n",
       "      <td>500/4068/6</td>\n",
       "      <td>Carrying Out operations, Handling and Storing ...</td>\n",
       "      <td>This unit covers the skills and knowledge nece...</td>\n",
       "      <td>The Ascentis Entry 3 Certificate in Skills for...</td>\n",
       "      <td>[L/501/7127, F/501/7125, D/504/3389, A/501/712...</td>\n",
       "      <td>[[{\"description\": \"Demonstrate the ability to ...</td>\n",
       "      <td>Building and construction</td>\n",
       "      <td>Construction, Planning and the Built Environment</td>\n",
       "    </tr>\n",
       "    <tr>\n",
       "      <th>4</th>\n",
       "      <td>500/4242/7</td>\n",
       "      <td>Health and Safety for Motor Vehicle Studies, I...</td>\n",
       "      <td>In this mandatory unit learners explore the re...</td>\n",
       "      <td>The SEG Level 1 Award in Motor Vehicle Studies...</td>\n",
       "      <td>[H/501/7005, A/501/7009, M/501/7010, T/501/701...</td>\n",
       "      <td>[[{\"description\": \"Know health and safety proc...</td>\n",
       "      <td>Transportation operations and maintenance</td>\n",
       "      <td>Engineering and Manufacturing Technologies</td>\n",
       "    </tr>\n",
       "  </tbody>\n",
       "</table>\n",
       "</div>"
      ],
      "text/plain": [
       "    ofqual_id                                              title  \\\n",
       "0  500/1411/0  Aspects of Crime, Criminal Justice System, Cri...   \n",
       "1  500/3682/8  Principles of Customer Service, Delivering Goo...   \n",
       "2  500/4033/9  Introduction to Construction Work, Introductio...   \n",
       "3  500/4068/6  Carrying Out operations, Handling and Storing ...   \n",
       "4  500/4242/7  Health and Safety for Motor Vehicle Studies, I...   \n",
       "\n",
       "                                         description  \\\n",
       "0  A unit focusing on various aspects of crime, e...   \n",
       "1  This unit covers the fundamental principles of...   \n",
       "2  An introduction to the foundational skills and...   \n",
       "3  This unit covers the skills and knowledge nece...   \n",
       "4  In this mandatory unit learners explore the re...   \n",
       "\n",
       "                                            overview  \\\n",
       "0  The Ascentis Level 2 Certificate in Introducti...   \n",
       "1  This qualification covers the basic elements o...   \n",
       "2  The Ascentis Level 1 Certificate in Skills for...   \n",
       "3  The Ascentis Entry 3 Certificate in Skills for...   \n",
       "4  The SEG Level 1 Award in Motor Vehicle Studies...   \n",
       "\n",
       "                                                  id  \\\n",
       "0   [T/500/2458, A/500/2459, T/500/2458, A/500/2459]   \n",
       "1   [A/500/3682, B/500/3682, C/500/3682, D/500/3682]   \n",
       "2  [D/504/3389, D/504/3120, H/504/3393, J/501/712...   \n",
       "3  [L/501/7127, F/501/7125, D/504/3389, A/501/712...   \n",
       "4  [H/501/7005, A/501/7009, M/501/7010, T/501/701...   \n",
       "\n",
       "                                   learning_outcomes  \\\n",
       "0  [[{\"description\": \"Understand the various aspe...   \n",
       "1  [[{\"description\": \"Understand the principles o...   \n",
       "2  [[{\"description\": \"Understand basic concepts o...   \n",
       "3  [[{\"description\": \"Demonstrate the ability to ...   \n",
       "4  [[{\"description\": \"Know health and safety proc...   \n",
       "\n",
       "                                     sub_SSA  \\\n",
       "0                Sociology and social policy   \n",
       "1                             Administration   \n",
       "2                  Building and construction   \n",
       "3                  Building and construction   \n",
       "4  Transportation operations and maintenance   \n",
       "\n",
       "                                                SSA  \n",
       "0                                   Social Sciences  \n",
       "1                  Business, Administration and Law  \n",
       "2  Construction, Planning and the Built Environment  \n",
       "3  Construction, Planning and the Built Environment  \n",
       "4        Engineering and Manufacturing Technologies  "
      ]
     },
     "execution_count": 44,
     "metadata": {},
     "output_type": "execute_result"
    }
   ],
   "source": [
    "ofqual.head()"
   ]
  },
  {
   "cell_type": "markdown",
   "metadata": {},
   "source": [
    "## IQUAL Based classifier"
   ]
  },
  {
   "cell_type": "code",
   "execution_count": 14,
   "metadata": {},
   "outputs": [],
   "source": [
    "# from classification.CrossValidation import classifier, crossval, evaluation"
   ]
  },
  {
   "cell_type": "code",
   "execution_count": 8,
   "metadata": {},
   "outputs": [
    {
     "name": "stdout",
     "output_type": "stream",
     "text": [
      "[{'Classifier__model': ['LogisticRegression'], 'Classifier__C': [0.01, 0.1, 1, 10, 100], 'Classifier__class_weight': ['balanced']}, {'Classifier__model': ['RandomForestClassifier'], 'Classifier__n_estimators': [100, 200], 'Classifier__max_depth': [5, 10]}, {'Classifier__model': ['SGDClassifier'], 'Classifier__loss': ['hinge', 'log_loss'], 'Classifier__alpha': [0.001, 0.01, 0.1, 1, 10]}, {'Classifier__model': ['KNeighborsClassifier'], 'Classifier__n_neighbors': [3, 5, 7], 'Classifier__weights': ['uniform', 'distance']}, {'Classifier__model': ['SVC'], 'Classifier__kernel': ['rbf', 'linear'], 'Classifier__C': [0.1, 1, 10], 'Classifier__probability': [True], 'Classifier__class_weight': ['balanced']}]\n"
     ]
    }
   ],
   "source": [
    "LOGISTIC_PARAMS = {\n",
    "    \"Classifier\": {\n",
    "        \"model\": [\"LogisticRegression\"],\n",
    "        \"C\": [0.01, 0.1, 1, 10, 100],\n",
    "        \"class_weight\": [\"balanced\"]  # Add this parameter\n",
    "    }\n",
    "}\n",
    "\n",
    "RANDOM_FOREST_PARAMS = {\n",
    "    \"Classifier\": {\n",
    "        \"model\": [\"RandomForestClassifier\"],\n",
    "        \"n_estimators\": [100, 200],\n",
    "        \"max_depth\": [5, 10]\n",
    "    }\n",
    "}\n",
    "\n",
    "SGD_PARAMS = {\n",
    "    \"Classifier\": {\n",
    "        \"model\": [\"SGDClassifier\"],\n",
    "        \"loss\": [\"hinge\", \"log_loss\"],  \n",
    "        \"alpha\": [0.001, 0.01, 0.1, 1, 10],\n",
    "    }\n",
    "}\n",
    "\n",
    "KNN_PARAMS = {\n",
    "    \"Classifier\": {\n",
    "        \"model\": [\"KNeighborsClassifier\"],\n",
    "        \"n_neighbors\": [3, 5, 7],  # Example values for number of neighbors\n",
    "        \"weights\": [\"uniform\", \"distance\"],  # Example values for weights\n",
    "    }\n",
    "}\n",
    "\n",
    "# XGB_PARAMS = {\n",
    "#     \"Classifier\": {\n",
    "#         \"model\": [\"XGBClassifier\"],\n",
    "#         \"objective\": [\"multi:softmax\"],\n",
    "#         \"eval_metric\": [\"mlogloss\"],\n",
    "#         \"use_label_encoder\": [False],\n",
    "#         \"n_estimators\": [100, 300],  # Keep fewer values\n",
    "#         \"max_depth\": [4, 8],         # Try shallower vs. deeper trees\n",
    "#         \"learning_rate\": [0.1],      # Stick to a reasonable value\n",
    "#         \"subsample\": [0.8],          # A single best guess\n",
    "#         \"colsample_bytree\": [0.8]    # A single best guess\n",
    "#     }\n",
    "# }\n",
    "\n",
    "SVM_PARAMS = {\n",
    "    \"Classifier\": {\n",
    "        \"model\": [\"SVC\"],\n",
    "        \"kernel\": [\"rbf\", \"linear\"],\n",
    "        \"C\": [0.1, 1, 10],\n",
    "        \"probability\": [True],\n",
    "        \"class_weight\": [\"balanced\"]  # Add this parameter\n",
    "    }\n",
    "}\n",
    "\n",
    "\n",
    "# Combine vectorizer and classifiers\n",
    "CLASSIFIER_PARAMS = [\n",
    "    LOGISTIC_PARAMS, \n",
    "    RANDOM_FOREST_PARAMS, \n",
    "    SGD_PARAMS, \n",
    "    KNN_PARAMS,\n",
    "    SVM_PARAMS\n",
    "    # XGB_PARAMS\n",
    "]\n",
    "\n",
    "# Convert to iQual cross-validation parameters\n",
    "CV_SEARCH_PARAMS = [crossval.convert_nested_params(params) for params in CLASSIFIER_PARAMS]\n",
    "\n",
    "print(CV_SEARCH_PARAMS)"
   ]
  },
  {
   "cell_type": "code",
   "execution_count": 9,
   "metadata": {},
   "outputs": [],
   "source": [
    "# Scoring Dict for evaluation\n",
    "scoring_dict = {\n",
    "    'f1': get_scorer('f1_macro'),\n",
    "    'accuracy': get_scorer('accuracy')\n",
    "}"
   ]
  },
  {
   "cell_type": "code",
   "execution_count": 10,
   "metadata": {},
   "outputs": [
    {
     "data": {
      "text/plain": [
       "{'f1': make_scorer(f1_score, response_method='predict', pos_label=None, average=macro),\n",
       " 'accuracy': make_scorer(accuracy_score, response_method='predict')}"
      ]
     },
     "execution_count": 10,
     "metadata": {},
     "output_type": "execute_result"
    }
   ],
   "source": [
    "scoring_dict"
   ]
  },
  {
   "cell_type": "code",
   "execution_count": null,
   "metadata": {},
   "outputs": [],
   "source": []
  },
  {
   "cell_type": "markdown",
   "metadata": {},
   "source": [
    "## Preparing Unbiased Sample Data"
   ]
  },
  {
   "cell_type": "code",
   "execution_count": 48,
   "metadata": {},
   "outputs": [
    {
     "name": "stdout",
     "output_type": "stream",
     "text": [
      "Showing Bias On Few Sub SSAs\n",
      "\n"
     ]
    },
    {
     "data": {
      "text/plain": [
       "sub_SSA\n",
       "Health and social care                                    357\n",
       "Building and construction                                 354\n",
       "Sport, leisure and recreation                             159\n",
       "Manufacturing technologies                                142\n",
       "Foundations for learning and life                         138\n",
       "Public services                                           132\n",
       "Business management                                       129\n",
       "Teaching and lecturing                                    126\n",
       "Service enterprises                                       118\n",
       "Hospitality and catering                                   94\n",
       "Administration                                             93\n",
       "Animal care and veterinary science                         65\n",
       "Preparation for work                                       61\n",
       "Engineering                                                59\n",
       "Child development and well-being                           58\n",
       "Digital technology (users)                                 39\n",
       "Horticulture and forestry                                  34\n",
       "Crafts, creative arts and design                           33\n",
       "Direct learning support                                    33\n",
       "Agriculture                                                29\n",
       "Transportation operations and maintenance                  29\n",
       "Digital technology (practitioners)                         27\n",
       "Accounting and finance                                     25\n",
       "Marketing and sales                                        23\n",
       "Retailing and wholesaling                                  22\n",
       "Warehousing and distribution                               20\n",
       "Travel and tourism                                         18\n",
       "Environmental conservation                                 16\n",
       "Law and legal services                                     14\n",
       "Nursing and subjects and vocations allied to medicine      13\n",
       "Media and communication                                    12\n",
       "Performing arts                                             9\n",
       "Science                                                     7\n",
       "Sociology and social policy                                 6\n",
       "Other languages, literature and culture                     5\n",
       "Medicine and Dentistry                                      4\n",
       "History                                                     3\n",
       "Languages, literature and culture of the British Isles      3\n",
       "Mathematics and statistics                                  2\n",
       "Publishing and information services                         1\n",
       "Politics                                                    1\n",
       "Theology and religious studies                              1\n",
       "Name: count, dtype: int64"
      ]
     },
     "execution_count": 48,
     "metadata": {},
     "output_type": "execute_result"
    }
   ],
   "source": [
    "print(\"Showing Bias On Few Sub SSAs\\n\")\n",
    "ofqual['sub_SSA'].value_counts()"
   ]
  },
  {
   "cell_type": "markdown",
   "metadata": {},
   "source": [
    "## Picks Random 10 samples for each sub-SSA"
   ]
  },
  {
   "cell_type": "code",
   "execution_count": 554,
   "metadata": {},
   "outputs": [
    {
     "name": "stdout",
     "output_type": "stream",
     "text": [
      "Count of Unique Sub SSAs after limiting to 20 per category\n",
      "\n"
     ]
    },
    {
     "data": {
      "text/plain": [
       "sub_SSA\n",
       "Manufacturing technologies                                10\n",
       "Business management                                       10\n",
       "Nursing and subjects and vocations allied to medicine     10\n",
       "Child development and well-being                          10\n",
       "Direct learning support                                   10\n",
       "Retailing and wholesaling                                 10\n",
       "Environmental conservation                                10\n",
       "Public services                                           10\n",
       "Teaching and lecturing                                    10\n",
       "Accounting and finance                                    10\n",
       "Digital technology (users)                                10\n",
       "Crafts, creative arts and design                          10\n",
       "Transportation operations and maintenance                 10\n",
       "Travel and tourism                                        10\n",
       "Law and legal services                                    10\n",
       "Health and social care                                    10\n",
       "Media and communication                                   10\n",
       "Preparation for work                                      10\n",
       "Administration                                            10\n",
       "Horticulture and forestry                                 10\n",
       "Agriculture                                               10\n",
       "Engineering                                               10\n",
       "Service enterprises                                       10\n",
       "Animal care and veterinary science                        10\n",
       "Digital technology (practitioners)                        10\n",
       "Foundations for learning and life                         10\n",
       "Warehousing and distribution                              10\n",
       "Marketing and sales                                       10\n",
       "Sport, leisure and recreation                             10\n",
       "Hospitality and catering                                  10\n",
       "Building and construction                                 10\n",
       "Performing arts                                            9\n",
       "Science                                                    7\n",
       "Sociology and social policy                                5\n",
       "Medicine and Dentistry                                     4\n",
       "History                                                    3\n",
       "Mathematics and statistics                                 2\n",
       "Languages, literature and culture of the British Isles     2\n",
       "Other languages, literature and culture                    2\n",
       "Publishing and information services                        1\n",
       "Politics                                                   1\n",
       "Theology and religious studies                             1\n",
       "Name: count, dtype: int64"
      ]
     },
     "execution_count": 554,
     "metadata": {},
     "output_type": "execute_result"
    }
   ],
   "source": [
    "# Get value counts and limit to 10 per category\n",
    "value_counts = ofqual['sub_SSA'].value_counts()\n",
    "max_samples_allowed_for_each_unique_sub_SSA = 10\n",
    "\n",
    "# Create mask for rows to keep\n",
    "mask = pd.Series(True, index=ofqual.index)\n",
    "for category in value_counts.index:\n",
    "    category_indices = ofqual[ofqual['sub_SSA'] == category].index\n",
    "    if len(category_indices) > max_samples_allowed_for_each_unique_sub_SSA:\n",
    "        # Randomly select 30 indices to keep\n",
    "        indices_to_remove = np.random.choice(category_indices, \n",
    "                                           size=len(category_indices)-max_samples_allowed_for_each_unique_sub_SSA, \n",
    "                                           replace=False)\n",
    "        mask[indices_to_remove] = False\n",
    "\n",
    "# Filter the sample data\n",
    "sample_data = ofqual[mask]\n",
    "sample_data = sample_data.reset_index(drop=True)\n",
    "print(\"Count of Unique Sub SSAs after limiting to 20 per category\\n\")\n",
    "sample_data['sub_SSA'].value_counts()"
   ]
  },
  {
   "cell_type": "code",
   "execution_count": 49,
   "metadata": {},
   "outputs": [
    {
     "data": {
      "text/plain": [
       "(2514, 8)"
      ]
     },
     "execution_count": 49,
     "metadata": {},
     "output_type": "execute_result"
    }
   ],
   "source": [
    "ofqual.shape"
   ]
  },
  {
   "cell_type": "code",
   "execution_count": 50,
   "metadata": {},
   "outputs": [
    {
     "data": {
      "text/plain": [
       "(347, 8)"
      ]
     },
     "execution_count": 50,
     "metadata": {},
     "output_type": "execute_result"
    }
   ],
   "source": [
    "sample_data.shape"
   ]
  },
  {
   "cell_type": "code",
   "execution_count": 51,
   "metadata": {},
   "outputs": [
    {
     "name": "stdout",
     "output_type": "stream",
     "text": [
      "Sample data covers 42 unique Sub SSAs\n"
     ]
    }
   ],
   "source": [
    "print(f\"Sample data covers {len(sample_data['sub_SSA'].unique())} unique Sub SSAs\")"
   ]
  },
  {
   "cell_type": "code",
   "execution_count": null,
   "metadata": {},
   "outputs": [],
   "source": []
  },
  {
   "cell_type": "markdown",
   "metadata": {},
   "source": [
    "## Load the sample data if already present"
   ]
  },
  {
   "cell_type": "code",
   "execution_count": 20,
   "metadata": {},
   "outputs": [],
   "source": [
    "sample_data = pd.read_csv(\"/Users/mumtaz/Documents/projects/zavmo/sample_ofqual_classification_data.csv\")"
   ]
  },
  {
   "cell_type": "markdown",
   "metadata": {},
   "source": [
    "### Generate embeddings for the sample data"
   ]
  },
  {
   "cell_type": "code",
   "execution_count": 21,
   "metadata": {},
   "outputs": [],
   "source": [
    "## title + description + overview\n",
    "sample_text_for_embeddings = [f\"{r['title']}\\n\\n{r['description']}\\n\\n{r['overview']}\" for i,r in sample_data.iterrows()]"
   ]
  },
  {
   "cell_type": "code",
   "execution_count": 22,
   "metadata": {},
   "outputs": [
    {
     "data": {
      "text/markdown": [
       "The creative design process for florists, Diverse flower and plant care, Plan, assemble and evaluate diverse tied floristry designs, Plan, assemble and evaluate diverse floral designs for weddings, Plan, assemble and evaluate diverse floral designs, Plan, assemble and evaluate diverse funeral designs, Working in the floristry industry, Negotiate and agree terms and conditions for the sale of floristry products and services\n",
       "\n",
       "Mandatory core unit focusing on the creative design process utilized by florists. Focusing on the care and maintenance of a variety of flowers and plants. Skills needed to create and assess various tied floristry designs. Skills specific to creating floral arrangements for weddings. Focus on the creation and evaluation of various floral designs. Skills needed for creating funeral floral arrangements. Insights and skills applicable within the floristry industry. Skills for negotiating sales and service agreements in floristry.\n",
       "\n",
       "This qualification covers a very wide range of areas related to the skills and knowledge required for working in the Floristry Industry."
      ],
      "text/plain": [
       "<IPython.core.display.Markdown object>"
      ]
     },
     "execution_count": 22,
     "metadata": {},
     "output_type": "execute_result"
    }
   ],
   "source": [
    "Markdown(sample_text_for_embeddings[2])"
   ]
  },
  {
   "cell_type": "code",
   "execution_count": 23,
   "metadata": {},
   "outputs": [
    {
     "name": "stdout",
     "output_type": "stream",
     "text": [
      "total batches: 19\n"
     ]
    }
   ],
   "source": [
    "X_embeddings = get_batch_openai_embedding(sample_text_for_embeddings, model=\"text-embedding-3-small\", dimensions=768)\n",
    "X_embeddings = np.array(X_embeddings)"
   ]
  },
  {
   "cell_type": "code",
   "execution_count": 24,
   "metadata": {},
   "outputs": [],
   "source": [
    "y = sample_data['sub_SSA']\n",
    "\n",
    "label_encoder = LabelEncoder()\n",
    "Y_encoded = label_encoder.fit_transform(y)"
   ]
  },
  {
   "cell_type": "code",
   "execution_count": 25,
   "metadata": {},
   "outputs": [],
   "source": [
    "# Train-test split\n",
    "X_train, X_val, Y_train, Y_val = train_test_split(X_embeddings, y, test_size=0.2, random_state=42)"
   ]
  },
  {
   "cell_type": "code",
   "execution_count": 26,
   "metadata": {},
   "outputs": [],
   "source": [
    "model = Model()\n",
    "model.add_classifier(name=\"RandomForestClassifier\") \n",
    "# model.add_classifier(name=\"XGBClassifier\", objective=\"multi:softmax\", \n",
    "#                                          eval_metric=\"mlogloss\", \n",
    "#                                          use_label_encoder=False)\n",
    "model.compile()\n",
    "\n",
    "# Run cross-validation\n",
    "# scores = model.cross_validate_fit(\n",
    "#     X_train,\n",
    "#     Y_train,\n",
    "#     cv_method=\"GridSearchCV\",\n",
    "#     search_parameters=CV_SEARCH_PARAMS,  # Passing search parameters here\n",
    "#     scoring=\"f1_macro\",\n",
    "#     cv_splits=3,\n",
    "#     refit=True\n",
    "# )"
   ]
  },
  {
   "cell_type": "code",
   "execution_count": 27,
   "metadata": {},
   "outputs": [],
   "source": [
    "cv = CrossValidator(\n",
    "            model_pipe=model.model,\n",
    "            cv_method=\"GridSearchCV\",\n",
    "            search_parameters=CV_SEARCH_PARAMS,\n",
    "            scoring=scoring_dict,\n",
    "            cv=3,\n",
    "            refit='f1',\n",
    "            #n_iter=100,\n",
    "            n_jobs=-1\n",
    "        )"
   ]
  },
  {
   "cell_type": "code",
   "execution_count": 28,
   "metadata": {},
   "outputs": [
    {
     "name": "stderr",
     "output_type": "stream",
     "text": [
      "/Library/Frameworks/Python.framework/Versions/3.11/lib/python3.11/site-packages/sklearn/pipeline.py:62: FutureWarning: This Pipeline instance is not fitted yet. Call 'fit' with appropriate arguments before using other methods such as transform, predict, etc. This will raise an error in 1.8 instead of the current warning.\n",
      "  warnings.warn(\n",
      "/Library/Frameworks/Python.framework/Versions/3.11/lib/python3.11/site-packages/sklearn/pipeline.py:62: FutureWarning: This Pipeline instance is not fitted yet. Call 'fit' with appropriate arguments before using other methods such as transform, predict, etc. This will raise an error in 1.8 instead of the current warning.\n",
      "  warnings.warn(\n",
      "/Library/Frameworks/Python.framework/Versions/3.11/lib/python3.11/site-packages/sklearn/pipeline.py:62: FutureWarning: This Pipeline instance is not fitted yet. Call 'fit' with appropriate arguments before using other methods such as transform, predict, etc. This will raise an error in 1.8 instead of the current warning.\n",
      "  warnings.warn(\n",
      "/Library/Frameworks/Python.framework/Versions/3.11/lib/python3.11/site-packages/sklearn/pipeline.py:62: FutureWarning: This Pipeline instance is not fitted yet. Call 'fit' with appropriate arguments before using other methods such as transform, predict, etc. This will raise an error in 1.8 instead of the current warning.\n",
      "  warnings.warn(\n",
      "/Library/Frameworks/Python.framework/Versions/3.11/lib/python3.11/site-packages/sklearn/pipeline.py:62: FutureWarning: This Pipeline instance is not fitted yet. Call 'fit' with appropriate arguments before using other methods such as transform, predict, etc. This will raise an error in 1.8 instead of the current warning.\n",
      "  warnings.warn(\n",
      "/Library/Frameworks/Python.framework/Versions/3.11/lib/python3.11/site-packages/sklearn/pipeline.py:62: FutureWarning: This Pipeline instance is not fitted yet. Call 'fit' with appropriate arguments before using other methods such as transform, predict, etc. This will raise an error in 1.8 instead of the current warning.\n",
      "  warnings.warn(\n",
      "/Library/Frameworks/Python.framework/Versions/3.11/lib/python3.11/site-packages/sklearn/pipeline.py:62: FutureWarning: This Pipeline instance is not fitted yet. Call 'fit' with appropriate arguments before using other methods such as transform, predict, etc. This will raise an error in 1.8 instead of the current warning.\n",
      "  warnings.warn(\n",
      "/Library/Frameworks/Python.framework/Versions/3.11/lib/python3.11/site-packages/sklearn/pipeline.py:62: FutureWarning: This Pipeline instance is not fitted yet. Call 'fit' with appropriate arguments before using other methods such as transform, predict, etc. This will raise an error in 1.8 instead of the current warning.\n",
      "  warnings.warn(\n",
      "/Library/Frameworks/Python.framework/Versions/3.11/lib/python3.11/site-packages/sklearn/pipeline.py:62: FutureWarning: This Pipeline instance is not fitted yet. Call 'fit' with appropriate arguments before using other methods such as transform, predict, etc. This will raise an error in 1.8 instead of the current warning.\n",
      "  warnings.warn(\n",
      "/Library/Frameworks/Python.framework/Versions/3.11/lib/python3.11/site-packages/sklearn/pipeline.py:62: FutureWarning: This Pipeline instance is not fitted yet. Call 'fit' with appropriate arguments before using other methods such as transform, predict, etc. This will raise an error in 1.8 instead of the current warning.\n",
      "  warnings.warn(\n",
      "/Library/Frameworks/Python.framework/Versions/3.11/lib/python3.11/site-packages/sklearn/pipeline.py:62: FutureWarning: This Pipeline instance is not fitted yet. Call 'fit' with appropriate arguments before using other methods such as transform, predict, etc. This will raise an error in 1.8 instead of the current warning.\n",
      "  warnings.warn(\n",
      "/Library/Frameworks/Python.framework/Versions/3.11/lib/python3.11/site-packages/sklearn/pipeline.py:62: FutureWarning: This Pipeline instance is not fitted yet. Call 'fit' with appropriate arguments before using other methods such as transform, predict, etc. This will raise an error in 1.8 instead of the current warning.\n",
      "  warnings.warn(\n",
      "/Library/Frameworks/Python.framework/Versions/3.11/lib/python3.11/site-packages/sklearn/pipeline.py:62: FutureWarning: This Pipeline instance is not fitted yet. Call 'fit' with appropriate arguments before using other methods such as transform, predict, etc. This will raise an error in 1.8 instead of the current warning.\n",
      "  warnings.warn(\n",
      "/Library/Frameworks/Python.framework/Versions/3.11/lib/python3.11/site-packages/sklearn/pipeline.py:62: FutureWarning: This Pipeline instance is not fitted yet. Call 'fit' with appropriate arguments before using other methods such as transform, predict, etc. This will raise an error in 1.8 instead of the current warning.\n",
      "  warnings.warn(\n",
      "/Library/Frameworks/Python.framework/Versions/3.11/lib/python3.11/site-packages/sklearn/pipeline.py:62: FutureWarning: This Pipeline instance is not fitted yet. Call 'fit' with appropriate arguments before using other methods such as transform, predict, etc. This will raise an error in 1.8 instead of the current warning.\n",
      "  warnings.warn(\n",
      "/Library/Frameworks/Python.framework/Versions/3.11/lib/python3.11/site-packages/sklearn/pipeline.py:62: FutureWarning: This Pipeline instance is not fitted yet. Call 'fit' with appropriate arguments before using other methods such as transform, predict, etc. This will raise an error in 1.8 instead of the current warning.\n",
      "  warnings.warn(\n",
      "/Library/Frameworks/Python.framework/Versions/3.11/lib/python3.11/site-packages/sklearn/pipeline.py:62: FutureWarning: This Pipeline instance is not fitted yet. Call 'fit' with appropriate arguments before using other methods such as transform, predict, etc. This will raise an error in 1.8 instead of the current warning.\n",
      "  warnings.warn(\n",
      "/Library/Frameworks/Python.framework/Versions/3.11/lib/python3.11/site-packages/sklearn/pipeline.py:62: FutureWarning: This Pipeline instance is not fitted yet. Call 'fit' with appropriate arguments before using other methods such as transform, predict, etc. This will raise an error in 1.8 instead of the current warning.\n",
      "  warnings.warn(\n",
      "/Library/Frameworks/Python.framework/Versions/3.11/lib/python3.11/site-packages/sklearn/pipeline.py:62: FutureWarning: This Pipeline instance is not fitted yet. Call 'fit' with appropriate arguments before using other methods such as transform, predict, etc. This will raise an error in 1.8 instead of the current warning.\n",
      "  warnings.warn(\n",
      "/Library/Frameworks/Python.framework/Versions/3.11/lib/python3.11/site-packages/sklearn/pipeline.py:62: FutureWarning: This Pipeline instance is not fitted yet. Call 'fit' with appropriate arguments before using other methods such as transform, predict, etc. This will raise an error in 1.8 instead of the current warning.\n",
      "  warnings.warn(\n",
      "/Library/Frameworks/Python.framework/Versions/3.11/lib/python3.11/site-packages/sklearn/pipeline.py:62: FutureWarning: This Pipeline instance is not fitted yet. Call 'fit' with appropriate arguments before using other methods such as transform, predict, etc. This will raise an error in 1.8 instead of the current warning.\n",
      "  warnings.warn(\n",
      "/Library/Frameworks/Python.framework/Versions/3.11/lib/python3.11/site-packages/sklearn/pipeline.py:62: FutureWarning: This Pipeline instance is not fitted yet. Call 'fit' with appropriate arguments before using other methods such as transform, predict, etc. This will raise an error in 1.8 instead of the current warning.\n",
      "  warnings.warn(\n",
      "/Library/Frameworks/Python.framework/Versions/3.11/lib/python3.11/site-packages/sklearn/pipeline.py:62: FutureWarning: This Pipeline instance is not fitted yet. Call 'fit' with appropriate arguments before using other methods such as transform, predict, etc. This will raise an error in 1.8 instead of the current warning.\n",
      "  warnings.warn(\n",
      "/Library/Frameworks/Python.framework/Versions/3.11/lib/python3.11/site-packages/sklearn/pipeline.py:62: FutureWarning: This Pipeline instance is not fitted yet. Call 'fit' with appropriate arguments before using other methods such as transform, predict, etc. This will raise an error in 1.8 instead of the current warning.\n",
      "  warnings.warn(\n",
      "/Library/Frameworks/Python.framework/Versions/3.11/lib/python3.11/site-packages/sklearn/pipeline.py:62: FutureWarning: This Pipeline instance is not fitted yet. Call 'fit' with appropriate arguments before using other methods such as transform, predict, etc. This will raise an error in 1.8 instead of the current warning.\n",
      "  warnings.warn(\n",
      "/Library/Frameworks/Python.framework/Versions/3.11/lib/python3.11/site-packages/sklearn/pipeline.py:62: FutureWarning: This Pipeline instance is not fitted yet. Call 'fit' with appropriate arguments before using other methods such as transform, predict, etc. This will raise an error in 1.8 instead of the current warning.\n",
      "  warnings.warn(\n",
      "/Library/Frameworks/Python.framework/Versions/3.11/lib/python3.11/site-packages/sklearn/pipeline.py:62: FutureWarning: This Pipeline instance is not fitted yet. Call 'fit' with appropriate arguments before using other methods such as transform, predict, etc. This will raise an error in 1.8 instead of the current warning.\n",
      "  warnings.warn(\n",
      "/Library/Frameworks/Python.framework/Versions/3.11/lib/python3.11/site-packages/sklearn/pipeline.py:62: FutureWarning: This Pipeline instance is not fitted yet. Call 'fit' with appropriate arguments before using other methods such as transform, predict, etc. This will raise an error in 1.8 instead of the current warning.\n",
      "  warnings.warn(\n",
      "/Library/Frameworks/Python.framework/Versions/3.11/lib/python3.11/site-packages/sklearn/pipeline.py:62: FutureWarning: This Pipeline instance is not fitted yet. Call 'fit' with appropriate arguments before using other methods such as transform, predict, etc. This will raise an error in 1.8 instead of the current warning.\n",
      "  warnings.warn(\n",
      "/Library/Frameworks/Python.framework/Versions/3.11/lib/python3.11/site-packages/sklearn/pipeline.py:62: FutureWarning: This Pipeline instance is not fitted yet. Call 'fit' with appropriate arguments before using other methods such as transform, predict, etc. This will raise an error in 1.8 instead of the current warning.\n",
      "  warnings.warn(\n",
      "/Library/Frameworks/Python.framework/Versions/3.11/lib/python3.11/site-packages/sklearn/pipeline.py:62: FutureWarning: This Pipeline instance is not fitted yet. Call 'fit' with appropriate arguments before using other methods such as transform, predict, etc. This will raise an error in 1.8 instead of the current warning.\n",
      "  warnings.warn(\n",
      "/Library/Frameworks/Python.framework/Versions/3.11/lib/python3.11/site-packages/sklearn/pipeline.py:62: FutureWarning: This Pipeline instance is not fitted yet. Call 'fit' with appropriate arguments before using other methods such as transform, predict, etc. This will raise an error in 1.8 instead of the current warning.\n",
      "  warnings.warn(\n",
      "/Library/Frameworks/Python.framework/Versions/3.11/lib/python3.11/site-packages/sklearn/pipeline.py:62: FutureWarning: This Pipeline instance is not fitted yet. Call 'fit' with appropriate arguments before using other methods such as transform, predict, etc. This will raise an error in 1.8 instead of the current warning.\n",
      "  warnings.warn(\n",
      "/Library/Frameworks/Python.framework/Versions/3.11/lib/python3.11/site-packages/sklearn/pipeline.py:62: FutureWarning: This Pipeline instance is not fitted yet. Call 'fit' with appropriate arguments before using other methods such as transform, predict, etc. This will raise an error in 1.8 instead of the current warning.\n",
      "  warnings.warn(\n",
      "/Library/Frameworks/Python.framework/Versions/3.11/lib/python3.11/site-packages/sklearn/pipeline.py:62: FutureWarning: This Pipeline instance is not fitted yet. Call 'fit' with appropriate arguments before using other methods such as transform, predict, etc. This will raise an error in 1.8 instead of the current warning.\n",
      "  warnings.warn(\n",
      "/Library/Frameworks/Python.framework/Versions/3.11/lib/python3.11/site-packages/sklearn/pipeline.py:62: FutureWarning: This Pipeline instance is not fitted yet. Call 'fit' with appropriate arguments before using other methods such as transform, predict, etc. This will raise an error in 1.8 instead of the current warning.\n",
      "  warnings.warn(\n",
      "/Library/Frameworks/Python.framework/Versions/3.11/lib/python3.11/site-packages/sklearn/pipeline.py:62: FutureWarning: This Pipeline instance is not fitted yet. Call 'fit' with appropriate arguments before using other methods such as transform, predict, etc. This will raise an error in 1.8 instead of the current warning.\n",
      "  warnings.warn(\n",
      "/Library/Frameworks/Python.framework/Versions/3.11/lib/python3.11/site-packages/sklearn/pipeline.py:62: FutureWarning: This Pipeline instance is not fitted yet. Call 'fit' with appropriate arguments before using other methods such as transform, predict, etc. This will raise an error in 1.8 instead of the current warning.\n",
      "  warnings.warn(\n",
      "/Library/Frameworks/Python.framework/Versions/3.11/lib/python3.11/site-packages/sklearn/pipeline.py:62: FutureWarning: This Pipeline instance is not fitted yet. Call 'fit' with appropriate arguments before using other methods such as transform, predict, etc. This will raise an error in 1.8 instead of the current warning.\n",
      "  warnings.warn(\n",
      "/Library/Frameworks/Python.framework/Versions/3.11/lib/python3.11/site-packages/sklearn/pipeline.py:62: FutureWarning: This Pipeline instance is not fitted yet. Call 'fit' with appropriate arguments before using other methods such as transform, predict, etc. This will raise an error in 1.8 instead of the current warning.\n",
      "  warnings.warn(\n",
      "/Library/Frameworks/Python.framework/Versions/3.11/lib/python3.11/site-packages/sklearn/pipeline.py:62: FutureWarning: This Pipeline instance is not fitted yet. Call 'fit' with appropriate arguments before using other methods such as transform, predict, etc. This will raise an error in 1.8 instead of the current warning.\n",
      "  warnings.warn(\n",
      "/Library/Frameworks/Python.framework/Versions/3.11/lib/python3.11/site-packages/sklearn/pipeline.py:62: FutureWarning: This Pipeline instance is not fitted yet. Call 'fit' with appropriate arguments before using other methods such as transform, predict, etc. This will raise an error in 1.8 instead of the current warning.\n",
      "  warnings.warn(\n",
      "/Library/Frameworks/Python.framework/Versions/3.11/lib/python3.11/site-packages/sklearn/pipeline.py:62: FutureWarning: This Pipeline instance is not fitted yet. Call 'fit' with appropriate arguments before using other methods such as transform, predict, etc. This will raise an error in 1.8 instead of the current warning.\n",
      "  warnings.warn(\n",
      "/Library/Frameworks/Python.framework/Versions/3.11/lib/python3.11/site-packages/sklearn/pipeline.py:62: FutureWarning: This Pipeline instance is not fitted yet. Call 'fit' with appropriate arguments before using other methods such as transform, predict, etc. This will raise an error in 1.8 instead of the current warning.\n",
      "  warnings.warn(\n",
      "/Library/Frameworks/Python.framework/Versions/3.11/lib/python3.11/site-packages/sklearn/pipeline.py:62: FutureWarning: This Pipeline instance is not fitted yet. Call 'fit' with appropriate arguments before using other methods such as transform, predict, etc. This will raise an error in 1.8 instead of the current warning.\n",
      "  warnings.warn(\n",
      "/Library/Frameworks/Python.framework/Versions/3.11/lib/python3.11/site-packages/sklearn/pipeline.py:62: FutureWarning: This Pipeline instance is not fitted yet. Call 'fit' with appropriate arguments before using other methods such as transform, predict, etc. This will raise an error in 1.8 instead of the current warning.\n",
      "  warnings.warn(\n",
      "/Library/Frameworks/Python.framework/Versions/3.11/lib/python3.11/site-packages/sklearn/pipeline.py:62: FutureWarning: This Pipeline instance is not fitted yet. Call 'fit' with appropriate arguments before using other methods such as transform, predict, etc. This will raise an error in 1.8 instead of the current warning.\n",
      "  warnings.warn(\n",
      "/Library/Frameworks/Python.framework/Versions/3.11/lib/python3.11/site-packages/sklearn/pipeline.py:62: FutureWarning: This Pipeline instance is not fitted yet. Call 'fit' with appropriate arguments before using other methods such as transform, predict, etc. This will raise an error in 1.8 instead of the current warning.\n",
      "  warnings.warn(\n",
      "/Library/Frameworks/Python.framework/Versions/3.11/lib/python3.11/site-packages/sklearn/pipeline.py:62: FutureWarning: This Pipeline instance is not fitted yet. Call 'fit' with appropriate arguments before using other methods such as transform, predict, etc. This will raise an error in 1.8 instead of the current warning.\n",
      "  warnings.warn(\n",
      "/Library/Frameworks/Python.framework/Versions/3.11/lib/python3.11/site-packages/sklearn/pipeline.py:62: FutureWarning: This Pipeline instance is not fitted yet. Call 'fit' with appropriate arguments before using other methods such as transform, predict, etc. This will raise an error in 1.8 instead of the current warning.\n",
      "  warnings.warn(\n",
      "/Library/Frameworks/Python.framework/Versions/3.11/lib/python3.11/site-packages/sklearn/pipeline.py:62: FutureWarning: This Pipeline instance is not fitted yet. Call 'fit' with appropriate arguments before using other methods such as transform, predict, etc. This will raise an error in 1.8 instead of the current warning.\n",
      "  warnings.warn(\n",
      "/Library/Frameworks/Python.framework/Versions/3.11/lib/python3.11/site-packages/sklearn/pipeline.py:62: FutureWarning: This Pipeline instance is not fitted yet. Call 'fit' with appropriate arguments before using other methods such as transform, predict, etc. This will raise an error in 1.8 instead of the current warning.\n",
      "  warnings.warn(\n",
      "/Library/Frameworks/Python.framework/Versions/3.11/lib/python3.11/site-packages/sklearn/pipeline.py:62: FutureWarning: This Pipeline instance is not fitted yet. Call 'fit' with appropriate arguments before using other methods such as transform, predict, etc. This will raise an error in 1.8 instead of the current warning.\n",
      "  warnings.warn(\n",
      "/Library/Frameworks/Python.framework/Versions/3.11/lib/python3.11/site-packages/sklearn/pipeline.py:62: FutureWarning: This Pipeline instance is not fitted yet. Call 'fit' with appropriate arguments before using other methods such as transform, predict, etc. This will raise an error in 1.8 instead of the current warning.\n",
      "  warnings.warn(\n",
      "/Library/Frameworks/Python.framework/Versions/3.11/lib/python3.11/site-packages/sklearn/pipeline.py:62: FutureWarning: This Pipeline instance is not fitted yet. Call 'fit' with appropriate arguments before using other methods such as transform, predict, etc. This will raise an error in 1.8 instead of the current warning.\n",
      "  warnings.warn(\n",
      "/Library/Frameworks/Python.framework/Versions/3.11/lib/python3.11/site-packages/sklearn/pipeline.py:62: FutureWarning: This Pipeline instance is not fitted yet. Call 'fit' with appropriate arguments before using other methods such as transform, predict, etc. This will raise an error in 1.8 instead of the current warning.\n",
      "  warnings.warn(\n",
      "/Library/Frameworks/Python.framework/Versions/3.11/lib/python3.11/site-packages/sklearn/pipeline.py:62: FutureWarning: This Pipeline instance is not fitted yet. Call 'fit' with appropriate arguments before using other methods such as transform, predict, etc. This will raise an error in 1.8 instead of the current warning.\n",
      "  warnings.warn(\n",
      "/Library/Frameworks/Python.framework/Versions/3.11/lib/python3.11/site-packages/sklearn/pipeline.py:62: FutureWarning: This Pipeline instance is not fitted yet. Call 'fit' with appropriate arguments before using other methods such as transform, predict, etc. This will raise an error in 1.8 instead of the current warning.\n",
      "  warnings.warn(\n",
      "/Library/Frameworks/Python.framework/Versions/3.11/lib/python3.11/site-packages/sklearn/pipeline.py:62: FutureWarning: This Pipeline instance is not fitted yet. Call 'fit' with appropriate arguments before using other methods such as transform, predict, etc. This will raise an error in 1.8 instead of the current warning.\n",
      "  warnings.warn(\n",
      "/Library/Frameworks/Python.framework/Versions/3.11/lib/python3.11/site-packages/sklearn/pipeline.py:62: FutureWarning: This Pipeline instance is not fitted yet. Call 'fit' with appropriate arguments before using other methods such as transform, predict, etc. This will raise an error in 1.8 instead of the current warning.\n",
      "  warnings.warn(\n",
      "/Library/Frameworks/Python.framework/Versions/3.11/lib/python3.11/site-packages/sklearn/pipeline.py:62: FutureWarning: This Pipeline instance is not fitted yet. Call 'fit' with appropriate arguments before using other methods such as transform, predict, etc. This will raise an error in 1.8 instead of the current warning.\n",
      "  warnings.warn(\n",
      "/Library/Frameworks/Python.framework/Versions/3.11/lib/python3.11/site-packages/sklearn/pipeline.py:62: FutureWarning: This Pipeline instance is not fitted yet. Call 'fit' with appropriate arguments before using other methods such as transform, predict, etc. This will raise an error in 1.8 instead of the current warning.\n",
      "  warnings.warn(\n",
      "/Library/Frameworks/Python.framework/Versions/3.11/lib/python3.11/site-packages/sklearn/pipeline.py:62: FutureWarning: This Pipeline instance is not fitted yet. Call 'fit' with appropriate arguments before using other methods such as transform, predict, etc. This will raise an error in 1.8 instead of the current warning.\n",
      "  warnings.warn(\n",
      "/Library/Frameworks/Python.framework/Versions/3.11/lib/python3.11/site-packages/sklearn/pipeline.py:62: FutureWarning: This Pipeline instance is not fitted yet. Call 'fit' with appropriate arguments before using other methods such as transform, predict, etc. This will raise an error in 1.8 instead of the current warning.\n",
      "  warnings.warn(\n",
      "/Library/Frameworks/Python.framework/Versions/3.11/lib/python3.11/site-packages/sklearn/pipeline.py:62: FutureWarning: This Pipeline instance is not fitted yet. Call 'fit' with appropriate arguments before using other methods such as transform, predict, etc. This will raise an error in 1.8 instead of the current warning.\n",
      "  warnings.warn(\n",
      "/Library/Frameworks/Python.framework/Versions/3.11/lib/python3.11/site-packages/sklearn/pipeline.py:62: FutureWarning: This Pipeline instance is not fitted yet. Call 'fit' with appropriate arguments before using other methods such as transform, predict, etc. This will raise an error in 1.8 instead of the current warning.\n",
      "  warnings.warn(\n",
      "/Library/Frameworks/Python.framework/Versions/3.11/lib/python3.11/site-packages/sklearn/pipeline.py:62: FutureWarning: This Pipeline instance is not fitted yet. Call 'fit' with appropriate arguments before using other methods such as transform, predict, etc. This will raise an error in 1.8 instead of the current warning.\n",
      "  warnings.warn(\n",
      "/Library/Frameworks/Python.framework/Versions/3.11/lib/python3.11/site-packages/sklearn/pipeline.py:62: FutureWarning: This Pipeline instance is not fitted yet. Call 'fit' with appropriate arguments before using other methods such as transform, predict, etc. This will raise an error in 1.8 instead of the current warning.\n",
      "  warnings.warn(\n",
      "/Library/Frameworks/Python.framework/Versions/3.11/lib/python3.11/site-packages/sklearn/pipeline.py:62: FutureWarning: This Pipeline instance is not fitted yet. Call 'fit' with appropriate arguments before using other methods such as transform, predict, etc. This will raise an error in 1.8 instead of the current warning.\n",
      "  warnings.warn(\n",
      "/Library/Frameworks/Python.framework/Versions/3.11/lib/python3.11/site-packages/sklearn/pipeline.py:62: FutureWarning: This Pipeline instance is not fitted yet. Call 'fit' with appropriate arguments before using other methods such as transform, predict, etc. This will raise an error in 1.8 instead of the current warning.\n",
      "  warnings.warn(\n",
      "/Library/Frameworks/Python.framework/Versions/3.11/lib/python3.11/site-packages/sklearn/pipeline.py:62: FutureWarning: This Pipeline instance is not fitted yet. Call 'fit' with appropriate arguments before using other methods such as transform, predict, etc. This will raise an error in 1.8 instead of the current warning.\n",
      "  warnings.warn(\n",
      "/Library/Frameworks/Python.framework/Versions/3.11/lib/python3.11/site-packages/sklearn/pipeline.py:62: FutureWarning: This Pipeline instance is not fitted yet. Call 'fit' with appropriate arguments before using other methods such as transform, predict, etc. This will raise an error in 1.8 instead of the current warning.\n",
      "  warnings.warn(\n",
      "/Library/Frameworks/Python.framework/Versions/3.11/lib/python3.11/site-packages/sklearn/pipeline.py:62: FutureWarning: This Pipeline instance is not fitted yet. Call 'fit' with appropriate arguments before using other methods such as transform, predict, etc. This will raise an error in 1.8 instead of the current warning.\n",
      "  warnings.warn(\n",
      "/Library/Frameworks/Python.framework/Versions/3.11/lib/python3.11/site-packages/sklearn/pipeline.py:62: FutureWarning: This Pipeline instance is not fitted yet. Call 'fit' with appropriate arguments before using other methods such as transform, predict, etc. This will raise an error in 1.8 instead of the current warning.\n",
      "  warnings.warn(\n",
      "/Library/Frameworks/Python.framework/Versions/3.11/lib/python3.11/site-packages/sklearn/pipeline.py:62: FutureWarning: This Pipeline instance is not fitted yet. Call 'fit' with appropriate arguments before using other methods such as transform, predict, etc. This will raise an error in 1.8 instead of the current warning.\n",
      "  warnings.warn(\n",
      "/Library/Frameworks/Python.framework/Versions/3.11/lib/python3.11/site-packages/sklearn/pipeline.py:62: FutureWarning: This Pipeline instance is not fitted yet. Call 'fit' with appropriate arguments before using other methods such as transform, predict, etc. This will raise an error in 1.8 instead of the current warning.\n",
      "  warnings.warn(\n",
      "/Library/Frameworks/Python.framework/Versions/3.11/lib/python3.11/site-packages/sklearn/pipeline.py:62: FutureWarning: This Pipeline instance is not fitted yet. Call 'fit' with appropriate arguments before using other methods such as transform, predict, etc. This will raise an error in 1.8 instead of the current warning.\n",
      "  warnings.warn(\n",
      "/Library/Frameworks/Python.framework/Versions/3.11/lib/python3.11/site-packages/sklearn/pipeline.py:62: FutureWarning: This Pipeline instance is not fitted yet. Call 'fit' with appropriate arguments before using other methods such as transform, predict, etc. This will raise an error in 1.8 instead of the current warning.\n",
      "  warnings.warn(\n",
      "/Library/Frameworks/Python.framework/Versions/3.11/lib/python3.11/site-packages/sklearn/pipeline.py:62: FutureWarning: This Pipeline instance is not fitted yet. Call 'fit' with appropriate arguments before using other methods such as transform, predict, etc. This will raise an error in 1.8 instead of the current warning.\n",
      "  warnings.warn(\n",
      "/Library/Frameworks/Python.framework/Versions/3.11/lib/python3.11/site-packages/sklearn/pipeline.py:62: FutureWarning: This Pipeline instance is not fitted yet. Call 'fit' with appropriate arguments before using other methods such as transform, predict, etc. This will raise an error in 1.8 instead of the current warning.\n",
      "  warnings.warn(\n",
      "/Library/Frameworks/Python.framework/Versions/3.11/lib/python3.11/site-packages/sklearn/pipeline.py:62: FutureWarning: This Pipeline instance is not fitted yet. Call 'fit' with appropriate arguments before using other methods such as transform, predict, etc. This will raise an error in 1.8 instead of the current warning.\n",
      "  warnings.warn(\n",
      "/Library/Frameworks/Python.framework/Versions/3.11/lib/python3.11/site-packages/sklearn/pipeline.py:62: FutureWarning: This Pipeline instance is not fitted yet. Call 'fit' with appropriate arguments before using other methods such as transform, predict, etc. This will raise an error in 1.8 instead of the current warning.\n",
      "  warnings.warn(\n",
      "/Library/Frameworks/Python.framework/Versions/3.11/lib/python3.11/site-packages/sklearn/pipeline.py:62: FutureWarning: This Pipeline instance is not fitted yet. Call 'fit' with appropriate arguments before using other methods such as transform, predict, etc. This will raise an error in 1.8 instead of the current warning.\n",
      "  warnings.warn(\n",
      "/Library/Frameworks/Python.framework/Versions/3.11/lib/python3.11/site-packages/sklearn/pipeline.py:62: FutureWarning: This Pipeline instance is not fitted yet. Call 'fit' with appropriate arguments before using other methods such as transform, predict, etc. This will raise an error in 1.8 instead of the current warning.\n",
      "  warnings.warn(\n",
      "/Library/Frameworks/Python.framework/Versions/3.11/lib/python3.11/site-packages/sklearn/pipeline.py:62: FutureWarning: This Pipeline instance is not fitted yet. Call 'fit' with appropriate arguments before using other methods such as transform, predict, etc. This will raise an error in 1.8 instead of the current warning.\n",
      "  warnings.warn(\n",
      "/Library/Frameworks/Python.framework/Versions/3.11/lib/python3.11/site-packages/sklearn/pipeline.py:62: FutureWarning: This Pipeline instance is not fitted yet. Call 'fit' with appropriate arguments before using other methods such as transform, predict, etc. This will raise an error in 1.8 instead of the current warning.\n",
      "  warnings.warn(\n",
      "/Library/Frameworks/Python.framework/Versions/3.11/lib/python3.11/site-packages/sklearn/pipeline.py:62: FutureWarning: This Pipeline instance is not fitted yet. Call 'fit' with appropriate arguments before using other methods such as transform, predict, etc. This will raise an error in 1.8 instead of the current warning.\n",
      "  warnings.warn(\n",
      "/Library/Frameworks/Python.framework/Versions/3.11/lib/python3.11/site-packages/sklearn/pipeline.py:62: FutureWarning: This Pipeline instance is not fitted yet. Call 'fit' with appropriate arguments before using other methods such as transform, predict, etc. This will raise an error in 1.8 instead of the current warning.\n",
      "  warnings.warn(\n",
      "/Library/Frameworks/Python.framework/Versions/3.11/lib/python3.11/site-packages/sklearn/pipeline.py:62: FutureWarning: This Pipeline instance is not fitted yet. Call 'fit' with appropriate arguments before using other methods such as transform, predict, etc. This will raise an error in 1.8 instead of the current warning.\n",
      "  warnings.warn(\n"
     ]
    },
    {
     "name": "stdout",
     "output_type": "stream",
     "text": [
      "f1\n"
     ]
    },
    {
     "name": "stderr",
     "output_type": "stream",
     "text": [
      "/Library/Frameworks/Python.framework/Versions/3.11/lib/python3.11/site-packages/sklearn/pipeline.py:62: FutureWarning: This Pipeline instance is not fitted yet. Call 'fit' with appropriate arguments before using other methods such as transform, predict, etc. This will raise an error in 1.8 instead of the current warning.\n",
      "  warnings.warn(\n",
      "/Library/Frameworks/Python.framework/Versions/3.11/lib/python3.11/site-packages/sklearn/pipeline.py:62: FutureWarning: This Pipeline instance is not fitted yet. Call 'fit' with appropriate arguments before using other methods such as transform, predict, etc. This will raise an error in 1.8 instead of the current warning.\n",
      "  warnings.warn(\n",
      "/Library/Frameworks/Python.framework/Versions/3.11/lib/python3.11/site-packages/sklearn/pipeline.py:62: FutureWarning: This Pipeline instance is not fitted yet. Call 'fit' with appropriate arguments before using other methods such as transform, predict, etc. This will raise an error in 1.8 instead of the current warning.\n",
      "  warnings.warn(\n",
      "/Library/Frameworks/Python.framework/Versions/3.11/lib/python3.11/site-packages/sklearn/pipeline.py:62: FutureWarning: This Pipeline instance is not fitted yet. Call 'fit' with appropriate arguments before using other methods such as transform, predict, etc. This will raise an error in 1.8 instead of the current warning.\n",
      "  warnings.warn(\n"
     ]
    }
   ],
   "source": [
    "cv.fit(X_train, Y_train)"
   ]
  },
  {
   "cell_type": "code",
   "execution_count": 29,
   "metadata": {},
   "outputs": [
    {
     "name": "stdout",
     "output_type": "stream",
     "text": [
      "Classifier: LogisticRegression\n",
      "Average F1 score: 0.616\n"
     ]
    }
   ],
   "source": [
    "params = model.model.get_params()\n",
    "print(f\"Classifier: {params.get('Classifier__model')}\")\n",
    "print(f\"Average F1 score: {cv.get_cv_scores()['avg_test_score']:.3f}\")"
   ]
  },
  {
   "cell_type": "code",
   "execution_count": 30,
   "metadata": {},
   "outputs": [
    {
     "data": {
      "text/plain": [
       "{'split0_test_f1': 0.555949605949606,\n",
       " 'split1_test_f1': 0.6029761904761906,\n",
       " 'split2_test_f1': 0.6887293992557152,\n",
       " 'avg_test_score': np.float64(0.6158850652271705)}"
      ]
     },
     "execution_count": 30,
     "metadata": {},
     "output_type": "execute_result"
    }
   ],
   "source": [
    "cv.get_cv_scores()"
   ]
  },
  {
   "cell_type": "code",
   "execution_count": 31,
   "metadata": {},
   "outputs": [
    {
     "data": {
      "text/plain": [
       "['/Users/mumtaz/Documents/projects/zavmo/zavmo-api/zavmo/classification/models/SSA_classification_model.pkl']"
      ]
     },
     "execution_count": 31,
     "metadata": {},
     "output_type": "execute_result"
    }
   ],
   "source": [
    "import joblib\n",
    "\n",
    "# Save the best model\n",
    "best_model = cv.cross_validation.best_estimator_\n",
    "joblib.dump(best_model, \"/Users/mumtaz/Documents/projects/zavmo/zavmo-api/zavmo/classification/models/SSA_classification_model.pkl\")"
   ]
  },
  {
   "cell_type": "code",
   "execution_count": 32,
   "metadata": {},
   "outputs": [
    {
     "name": "stderr",
     "output_type": "stream",
     "text": [
      "/Library/Frameworks/Python.framework/Versions/3.11/lib/python3.11/site-packages/sklearn/pipeline.py:62: FutureWarning: This Pipeline instance is not fitted yet. Call 'fit' with appropriate arguments before using other methods such as transform, predict, etc. This will raise an error in 1.8 instead of the current warning.\n",
      "  warnings.warn(\n"
     ]
    },
    {
     "data": {
      "text/plain": [
       "array(['Retailing and wholesaling'], dtype=object)"
      ]
     },
     "execution_count": 32,
     "metadata": {},
     "output_type": "execute_result"
    }
   ],
   "source": [
    "# Load the saved model\n",
    "loaded_model = joblib.load(\"/Users/mumtaz/Documents/projects/zavmo/zavmo-api/zavmo/classification/models/SSA_classification_model.pkl\")\n",
    "\n",
    "# Predicting on test data\n",
    "predictions = loaded_model.predict(X_val[5].reshape(1, -1))\n",
    "predictions"
   ]
  },
  {
   "cell_type": "code",
   "execution_count": 33,
   "metadata": {},
   "outputs": [
    {
     "data": {
      "text/plain": [
       "'Retailing and wholesaling'"
      ]
     },
     "execution_count": 33,
     "metadata": {},
     "output_type": "execute_result"
    }
   ],
   "source": [
    "Y_val.to_list()[5]"
   ]
  },
  {
   "cell_type": "code",
   "execution_count": 35,
   "metadata": {},
   "outputs": [],
   "source": [
    "from sklearn.metrics import accuracy_score, classification_report"
   ]
  },
  {
   "cell_type": "code",
   "execution_count": 36,
   "metadata": {},
   "outputs": [
    {
     "name": "stdout",
     "output_type": "stream",
     "text": [
      "Validation Accuracy: 0.886\n"
     ]
    },
    {
     "name": "stderr",
     "output_type": "stream",
     "text": [
      "/Library/Frameworks/Python.framework/Versions/3.11/lib/python3.11/site-packages/sklearn/pipeline.py:62: FutureWarning: This Pipeline instance is not fitted yet. Call 'fit' with appropriate arguments before using other methods such as transform, predict, etc. This will raise an error in 1.8 instead of the current warning.\n",
      "  warnings.warn(\n"
     ]
    }
   ],
   "source": [
    "val_predictions = loaded_model.predict(X_val)\n",
    "\n",
    "accuracy = accuracy_score(Y_val, val_predictions)\n",
    "print(f\"Validation Accuracy: {accuracy:.3f}\")"
   ]
  },
  {
   "cell_type": "code",
   "execution_count": null,
   "metadata": {},
   "outputs": [],
   "source": []
  },
  {
   "cell_type": "code",
   "execution_count": 472,
   "metadata": {},
   "outputs": [],
   "source": [
    "# sample_data.to_csv(\"/Users/mumtaz/Documents/projects/zavmo/ofqual_sample_data_42_unique_sub_SSA.csv\", index=False) "
   ]
  },
  {
   "cell_type": "code",
   "execution_count": 76,
   "metadata": {},
   "outputs": [
    {
     "data": {
      "text/html": [
       "<div>\n",
       "<style scoped>\n",
       "    .dataframe tbody tr th:only-of-type {\n",
       "        vertical-align: middle;\n",
       "    }\n",
       "\n",
       "    .dataframe tbody tr th {\n",
       "        vertical-align: top;\n",
       "    }\n",
       "\n",
       "    .dataframe thead th {\n",
       "        text-align: right;\n",
       "    }\n",
       "</style>\n",
       "<table border=\"1\" class=\"dataframe\">\n",
       "  <thead>\n",
       "    <tr style=\"text-align: right;\">\n",
       "      <th></th>\n",
       "      <th>mean_fit_time</th>\n",
       "      <th>std_fit_time</th>\n",
       "      <th>mean_score_time</th>\n",
       "      <th>std_score_time</th>\n",
       "      <th>param_Classifier__C</th>\n",
       "      <th>param_Classifier__class_weight</th>\n",
       "      <th>param_Classifier__model</th>\n",
       "      <th>param_Classifier__max_depth</th>\n",
       "      <th>param_Classifier__n_estimators</th>\n",
       "      <th>param_Classifier__alpha</th>\n",
       "      <th>...</th>\n",
       "      <th>split2_test_f1</th>\n",
       "      <th>mean_test_f1</th>\n",
       "      <th>std_test_f1</th>\n",
       "      <th>rank_test_f1</th>\n",
       "      <th>split0_test_accuracy</th>\n",
       "      <th>split1_test_accuracy</th>\n",
       "      <th>split2_test_accuracy</th>\n",
       "      <th>mean_test_accuracy</th>\n",
       "      <th>std_test_accuracy</th>\n",
       "      <th>rank_test_accuracy</th>\n",
       "    </tr>\n",
       "  </thead>\n",
       "  <tbody>\n",
       "    <tr>\n",
       "      <th>2</th>\n",
       "      <td>1.138392</td>\n",
       "      <td>0.071828</td>\n",
       "      <td>0.006319</td>\n",
       "      <td>0.001919</td>\n",
       "      <td>100.0</td>\n",
       "      <td>balanced</td>\n",
       "      <td>LogisticRegression</td>\n",
       "      <td>NaN</td>\n",
       "      <td>NaN</td>\n",
       "      <td>NaN</td>\n",
       "      <td>...</td>\n",
       "      <td>0.926029</td>\n",
       "      <td>0.928068</td>\n",
       "      <td>0.005565</td>\n",
       "      <td>3</td>\n",
       "      <td>0.926537</td>\n",
       "      <td>0.930233</td>\n",
       "      <td>0.924231</td>\n",
       "      <td>0.927000</td>\n",
       "      <td>0.002472</td>\n",
       "      <td>3</td>\n",
       "    </tr>\n",
       "    <tr>\n",
       "      <th>0</th>\n",
       "      <td>14.645918</td>\n",
       "      <td>0.030716</td>\n",
       "      <td>1.427699</td>\n",
       "      <td>0.161819</td>\n",
       "      <td>10.0</td>\n",
       "      <td>balanced</td>\n",
       "      <td>SVC</td>\n",
       "      <td>NaN</td>\n",
       "      <td>NaN</td>\n",
       "      <td>NaN</td>\n",
       "      <td>...</td>\n",
       "      <td>0.935276</td>\n",
       "      <td>0.933823</td>\n",
       "      <td>0.015673</td>\n",
       "      <td>1</td>\n",
       "      <td>0.925037</td>\n",
       "      <td>0.937734</td>\n",
       "      <td>0.924981</td>\n",
       "      <td>0.929251</td>\n",
       "      <td>0.005999</td>\n",
       "      <td>2</td>\n",
       "    </tr>\n",
       "    <tr>\n",
       "      <th>1</th>\n",
       "      <td>26.521944</td>\n",
       "      <td>0.531396</td>\n",
       "      <td>2.076347</td>\n",
       "      <td>0.067503</td>\n",
       "      <td>10.0</td>\n",
       "      <td>balanced</td>\n",
       "      <td>SVC</td>\n",
       "      <td>NaN</td>\n",
       "      <td>NaN</td>\n",
       "      <td>NaN</td>\n",
       "      <td>...</td>\n",
       "      <td>0.939066</td>\n",
       "      <td>0.933621</td>\n",
       "      <td>0.013484</td>\n",
       "      <td>2</td>\n",
       "      <td>0.943778</td>\n",
       "      <td>0.944486</td>\n",
       "      <td>0.943736</td>\n",
       "      <td>0.944000</td>\n",
       "      <td>0.000344</td>\n",
       "      <td>1</td>\n",
       "    </tr>\n",
       "    <tr>\n",
       "      <th>4</th>\n",
       "      <td>0.708268</td>\n",
       "      <td>0.077907</td>\n",
       "      <td>0.009963</td>\n",
       "      <td>0.004892</td>\n",
       "      <td>10.0</td>\n",
       "      <td>balanced</td>\n",
       "      <td>LogisticRegression</td>\n",
       "      <td>NaN</td>\n",
       "      <td>NaN</td>\n",
       "      <td>NaN</td>\n",
       "      <td>...</td>\n",
       "      <td>0.886978</td>\n",
       "      <td>0.888482</td>\n",
       "      <td>0.004662</td>\n",
       "      <td>5</td>\n",
       "      <td>0.889805</td>\n",
       "      <td>0.874719</td>\n",
       "      <td>0.876219</td>\n",
       "      <td>0.880248</td>\n",
       "      <td>0.006786</td>\n",
       "      <td>10</td>\n",
       "    </tr>\n",
       "    <tr>\n",
       "      <th>3</th>\n",
       "      <td>34.449349</td>\n",
       "      <td>2.405184</td>\n",
       "      <td>2.035892</td>\n",
       "      <td>0.035892</td>\n",
       "      <td>1.0</td>\n",
       "      <td>balanced</td>\n",
       "      <td>SVC</td>\n",
       "      <td>NaN</td>\n",
       "      <td>NaN</td>\n",
       "      <td>NaN</td>\n",
       "      <td>...</td>\n",
       "      <td>0.897596</td>\n",
       "      <td>0.889751</td>\n",
       "      <td>0.007487</td>\n",
       "      <td>4</td>\n",
       "      <td>0.874063</td>\n",
       "      <td>0.870218</td>\n",
       "      <td>0.879220</td>\n",
       "      <td>0.874500</td>\n",
       "      <td>0.003688</td>\n",
       "      <td>13</td>\n",
       "    </tr>\n",
       "    <tr>\n",
       "      <th>6</th>\n",
       "      <td>24.107807</td>\n",
       "      <td>2.053305</td>\n",
       "      <td>1.628242</td>\n",
       "      <td>0.235413</td>\n",
       "      <td>1.0</td>\n",
       "      <td>balanced</td>\n",
       "      <td>SVC</td>\n",
       "      <td>NaN</td>\n",
       "      <td>NaN</td>\n",
       "      <td>NaN</td>\n",
       "      <td>...</td>\n",
       "      <td>0.882186</td>\n",
       "      <td>0.880721</td>\n",
       "      <td>0.001263</td>\n",
       "      <td>7</td>\n",
       "      <td>0.859070</td>\n",
       "      <td>0.846212</td>\n",
       "      <td>0.857464</td>\n",
       "      <td>0.854249</td>\n",
       "      <td>0.005721</td>\n",
       "      <td>16</td>\n",
       "    </tr>\n",
       "    <tr>\n",
       "      <th>11</th>\n",
       "      <td>0.512239</td>\n",
       "      <td>0.085134</td>\n",
       "      <td>0.007018</td>\n",
       "      <td>0.002330</td>\n",
       "      <td>1.0</td>\n",
       "      <td>balanced</td>\n",
       "      <td>LogisticRegression</td>\n",
       "      <td>NaN</td>\n",
       "      <td>NaN</td>\n",
       "      <td>NaN</td>\n",
       "      <td>...</td>\n",
       "      <td>0.820428</td>\n",
       "      <td>0.816262</td>\n",
       "      <td>0.003316</td>\n",
       "      <td>12</td>\n",
       "      <td>0.801349</td>\n",
       "      <td>0.789947</td>\n",
       "      <td>0.814704</td>\n",
       "      <td>0.802000</td>\n",
       "      <td>0.010117</td>\n",
       "      <td>18</td>\n",
       "    </tr>\n",
       "    <tr>\n",
       "      <th>16</th>\n",
       "      <td>62.971565</td>\n",
       "      <td>1.187377</td>\n",
       "      <td>1.804545</td>\n",
       "      <td>0.101273</td>\n",
       "      <td>0.1</td>\n",
       "      <td>balanced</td>\n",
       "      <td>SVC</td>\n",
       "      <td>NaN</td>\n",
       "      <td>NaN</td>\n",
       "      <td>NaN</td>\n",
       "      <td>...</td>\n",
       "      <td>0.763459</td>\n",
       "      <td>0.768212</td>\n",
       "      <td>0.006789</td>\n",
       "      <td>17</td>\n",
       "      <td>0.727136</td>\n",
       "      <td>0.716429</td>\n",
       "      <td>0.720930</td>\n",
       "      <td>0.721499</td>\n",
       "      <td>0.004390</td>\n",
       "      <td>24</td>\n",
       "    </tr>\n",
       "    <tr>\n",
       "      <th>17</th>\n",
       "      <td>76.261541</td>\n",
       "      <td>0.757005</td>\n",
       "      <td>2.372912</td>\n",
       "      <td>0.169320</td>\n",
       "      <td>0.1</td>\n",
       "      <td>balanced</td>\n",
       "      <td>SVC</td>\n",
       "      <td>NaN</td>\n",
       "      <td>NaN</td>\n",
       "      <td>NaN</td>\n",
       "      <td>...</td>\n",
       "      <td>0.742765</td>\n",
       "      <td>0.756836</td>\n",
       "      <td>0.012642</td>\n",
       "      <td>18</td>\n",
       "      <td>0.676162</td>\n",
       "      <td>0.642911</td>\n",
       "      <td>0.611403</td>\n",
       "      <td>0.643492</td>\n",
       "      <td>0.026441</td>\n",
       "      <td>26</td>\n",
       "    </tr>\n",
       "    <tr>\n",
       "      <th>20</th>\n",
       "      <td>0.225326</td>\n",
       "      <td>0.034411</td>\n",
       "      <td>0.012022</td>\n",
       "      <td>0.007606</td>\n",
       "      <td>0.1</td>\n",
       "      <td>balanced</td>\n",
       "      <td>LogisticRegression</td>\n",
       "      <td>NaN</td>\n",
       "      <td>NaN</td>\n",
       "      <td>NaN</td>\n",
       "      <td>...</td>\n",
       "      <td>0.606039</td>\n",
       "      <td>0.605303</td>\n",
       "      <td>0.006256</td>\n",
       "      <td>21</td>\n",
       "      <td>0.621439</td>\n",
       "      <td>0.617404</td>\n",
       "      <td>0.633158</td>\n",
       "      <td>0.624001</td>\n",
       "      <td>0.006682</td>\n",
       "      <td>27</td>\n",
       "    </tr>\n",
       "  </tbody>\n",
       "</table>\n",
       "<p>10 rows × 31 columns</p>\n",
       "</div>"
      ],
      "text/plain": [
       "    mean_fit_time  std_fit_time  mean_score_time  std_score_time  \\\n",
       "2        1.138392      0.071828         0.006319        0.001919   \n",
       "0       14.645918      0.030716         1.427699        0.161819   \n",
       "1       26.521944      0.531396         2.076347        0.067503   \n",
       "4        0.708268      0.077907         0.009963        0.004892   \n",
       "3       34.449349      2.405184         2.035892        0.035892   \n",
       "6       24.107807      2.053305         1.628242        0.235413   \n",
       "11       0.512239      0.085134         0.007018        0.002330   \n",
       "16      62.971565      1.187377         1.804545        0.101273   \n",
       "17      76.261541      0.757005         2.372912        0.169320   \n",
       "20       0.225326      0.034411         0.012022        0.007606   \n",
       "\n",
       "    param_Classifier__C param_Classifier__class_weight  \\\n",
       "2                 100.0                       balanced   \n",
       "0                  10.0                       balanced   \n",
       "1                  10.0                       balanced   \n",
       "4                  10.0                       balanced   \n",
       "3                   1.0                       balanced   \n",
       "6                   1.0                       balanced   \n",
       "11                  1.0                       balanced   \n",
       "16                  0.1                       balanced   \n",
       "17                  0.1                       balanced   \n",
       "20                  0.1                       balanced   \n",
       "\n",
       "   param_Classifier__model  param_Classifier__max_depth  \\\n",
       "2       LogisticRegression                          NaN   \n",
       "0                      SVC                          NaN   \n",
       "1                      SVC                          NaN   \n",
       "4       LogisticRegression                          NaN   \n",
       "3                      SVC                          NaN   \n",
       "6                      SVC                          NaN   \n",
       "11      LogisticRegression                          NaN   \n",
       "16                     SVC                          NaN   \n",
       "17                     SVC                          NaN   \n",
       "20      LogisticRegression                          NaN   \n",
       "\n",
       "    param_Classifier__n_estimators  param_Classifier__alpha  ...  \\\n",
       "2                              NaN                      NaN  ...   \n",
       "0                              NaN                      NaN  ...   \n",
       "1                              NaN                      NaN  ...   \n",
       "4                              NaN                      NaN  ...   \n",
       "3                              NaN                      NaN  ...   \n",
       "6                              NaN                      NaN  ...   \n",
       "11                             NaN                      NaN  ...   \n",
       "16                             NaN                      NaN  ...   \n",
       "17                             NaN                      NaN  ...   \n",
       "20                             NaN                      NaN  ...   \n",
       "\n",
       "   split2_test_f1  mean_test_f1 std_test_f1 rank_test_f1 split0_test_accuracy  \\\n",
       "2        0.926029      0.928068    0.005565            3             0.926537   \n",
       "0        0.935276      0.933823    0.015673            1             0.925037   \n",
       "1        0.939066      0.933621    0.013484            2             0.943778   \n",
       "4        0.886978      0.888482    0.004662            5             0.889805   \n",
       "3        0.897596      0.889751    0.007487            4             0.874063   \n",
       "6        0.882186      0.880721    0.001263            7             0.859070   \n",
       "11       0.820428      0.816262    0.003316           12             0.801349   \n",
       "16       0.763459      0.768212    0.006789           17             0.727136   \n",
       "17       0.742765      0.756836    0.012642           18             0.676162   \n",
       "20       0.606039      0.605303    0.006256           21             0.621439   \n",
       "\n",
       "    split1_test_accuracy  split2_test_accuracy  mean_test_accuracy  \\\n",
       "2               0.930233              0.924231            0.927000   \n",
       "0               0.937734              0.924981            0.929251   \n",
       "1               0.944486              0.943736            0.944000   \n",
       "4               0.874719              0.876219            0.880248   \n",
       "3               0.870218              0.879220            0.874500   \n",
       "6               0.846212              0.857464            0.854249   \n",
       "11              0.789947              0.814704            0.802000   \n",
       "16              0.716429              0.720930            0.721499   \n",
       "17              0.642911              0.611403            0.643492   \n",
       "20              0.617404              0.633158            0.624001   \n",
       "\n",
       "   std_test_accuracy  rank_test_accuracy  \n",
       "2           0.002472                   3  \n",
       "0           0.005999                   2  \n",
       "1           0.000344                   1  \n",
       "4           0.006786                  10  \n",
       "3           0.003688                  13  \n",
       "6           0.005721                  16  \n",
       "11          0.010117                  18  \n",
       "16          0.004390                  24  \n",
       "17          0.026441                  26  \n",
       "20          0.006682                  27  \n",
       "\n",
       "[10 rows x 31 columns]"
      ]
     },
     "execution_count": 76,
     "metadata": {},
     "output_type": "execute_result"
    }
   ],
   "source": [
    "cv.param_df.sort_values(by='param_Classifier__C', ascending=False).head(10)"
   ]
  },
  {
   "cell_type": "code",
   "execution_count": null,
   "metadata": {},
   "outputs": [],
   "source": []
  }
 ],
 "metadata": {
  "kernelspec": {
   "display_name": "Python 3",
   "language": "python",
   "name": "python3"
  },
  "language_info": {
   "codemirror_mode": {
    "name": "ipython",
    "version": 3
   },
   "file_extension": ".py",
   "mimetype": "text/x-python",
   "name": "python",
   "nbconvert_exporter": "python",
   "pygments_lexer": "ipython3",
   "version": "3.11.4"
  }
 },
 "nbformat": 4,
 "nbformat_minor": 2
}
