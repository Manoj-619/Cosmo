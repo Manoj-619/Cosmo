{
 "cells": [
  {
   "cell_type": "code",
   "execution_count": 32,
   "metadata": {},
   "outputs": [],
   "source": [
    "import os\n",
    "os.chdir('/Users/mumtaz/Documents/projects/zavmo/zavmo-api')"
   ]
  },
  {
   "cell_type": "code",
   "execution_count": 33,
   "metadata": {},
   "outputs": [],
   "source": [
    "import pandas as pd\n",
    "from IPython.display import Markdown\n",
    "import json"
   ]
  },
  {
   "cell_type": "code",
   "execution_count": 165,
   "metadata": {},
   "outputs": [],
   "source": [
    "ofqual_SSAs = json.load(open(f\"{os.getcwd()}/zavmo/classification/CrossValidation/data/ofqual_SSAs.json\"))"
   ]
  },
  {
   "cell_type": "code",
   "execution_count": 166,
   "metadata": {},
   "outputs": [
    {
     "name": "stdout",
     "output_type": "stream",
     "text": [
      "(26579, 6)\n"
     ]
    },
    {
     "data": {
      "text/html": [
       "<div>\n",
       "<style scoped>\n",
       "    .dataframe tbody tr th:only-of-type {\n",
       "        vertical-align: middle;\n",
       "    }\n",
       "\n",
       "    .dataframe tbody tr th {\n",
       "        vertical-align: top;\n",
       "    }\n",
       "\n",
       "    .dataframe thead th {\n",
       "        text-align: right;\n",
       "    }\n",
       "</style>\n",
       "<table border=\"1\" class=\"dataframe\">\n",
       "  <thead>\n",
       "    <tr style=\"text-align: right;\">\n",
       "      <th></th>\n",
       "      <th>qualification_id</th>\n",
       "      <th>overview</th>\n",
       "      <th>id</th>\n",
       "      <th>title</th>\n",
       "      <th>description</th>\n",
       "      <th>learning_outcomes</th>\n",
       "    </tr>\n",
       "  </thead>\n",
       "  <tbody>\n",
       "    <tr>\n",
       "      <th>0</th>\n",
       "      <td>601/0405/3</td>\n",
       "      <td>This is an entry-level qualification that enab...</td>\n",
       "      <td>A/001/0001</td>\n",
       "      <td>Constructing halving joints</td>\n",
       "      <td>Learners will learn how to construct halving j...</td>\n",
       "      <td>[{\"description\": \"Understand the principles of...</td>\n",
       "    </tr>\n",
       "    <tr>\n",
       "      <th>1</th>\n",
       "      <td>601/0405/3</td>\n",
       "      <td>This is an entry-level qualification that enab...</td>\n",
       "      <td>A/001/0002</td>\n",
       "      <td>Constructing housing joints</td>\n",
       "      <td>Learners will learn how to construct housing j...</td>\n",
       "      <td>[{\"description\": \"Understand the principles of...</td>\n",
       "    </tr>\n",
       "    <tr>\n",
       "      <th>2</th>\n",
       "      <td>601/0405/3</td>\n",
       "      <td>This is an entry-level qualification that enab...</td>\n",
       "      <td>A/001/0003</td>\n",
       "      <td>Painting techniques</td>\n",
       "      <td>Learners will acquire essential painting techn...</td>\n",
       "      <td>[{\"description\": \"Demonstrate key painting tec...</td>\n",
       "    </tr>\n",
       "  </tbody>\n",
       "</table>\n",
       "</div>"
      ],
      "text/plain": [
       "  qualification_id                                           overview  \\\n",
       "0       601/0405/3  This is an entry-level qualification that enab...   \n",
       "1       601/0405/3  This is an entry-level qualification that enab...   \n",
       "2       601/0405/3  This is an entry-level qualification that enab...   \n",
       "\n",
       "           id                        title  \\\n",
       "0  A/001/0001  Constructing halving joints   \n",
       "1  A/001/0002  Constructing housing joints   \n",
       "2  A/001/0003          Painting techniques   \n",
       "\n",
       "                                         description  \\\n",
       "0  Learners will learn how to construct halving j...   \n",
       "1  Learners will learn how to construct housing j...   \n",
       "2  Learners will acquire essential painting techn...   \n",
       "\n",
       "                                   learning_outcomes  \n",
       "0  [{\"description\": \"Understand the principles of...  \n",
       "1  [{\"description\": \"Understand the principles of...  \n",
       "2  [{\"description\": \"Demonstrate key painting tec...  "
      ]
     },
     "execution_count": 166,
     "metadata": {},
     "output_type": "execute_result"
    }
   ],
   "source": [
    "## Latest ofqual data\n",
    "existing_ofqual_filepath = \"/Users/mumtaz/Documents/projects/zavmo/ofqual_unit_details.csv\"\n",
    "\n",
    "d1 = pd.read_csv(existing_ofqual_filepath)\n",
    "print(d1.shape)\n",
    "d1.head(3)"
   ]
  },
  {
   "cell_type": "code",
   "execution_count": null,
   "metadata": {},
   "outputs": [],
   "source": [
    "new_ofqual_filepath = \"/Users/mumtaz/Documents/projects/zavmo/ofqual_unit_details (1).csv\"\n",
    "d2 = pd.read_csv(new_ofqual_filepath)\n",
    "print(d2.shape)\n",
    "d2.head(3)"
   ]
  },
  {
   "cell_type": "code",
   "execution_count": 163,
   "metadata": {},
   "outputs": [
    {
     "data": {
      "text/plain": [
       "(27736, 6)"
      ]
     },
     "execution_count": 163,
     "metadata": {},
     "output_type": "execute_result"
    }
   ],
   "source": [
    "ofqual = pd.concat([d1, d2], ignore_index=True)\n",
    "ofqual.shape"
   ]
  },
  {
   "cell_type": "code",
   "execution_count": null,
   "metadata": {},
   "outputs": [],
   "source": [
    "## After appending the data save it\n",
    "ofqual.to_csv(\"/Users/mumtaz/Documents/projects/zavmo/ofqual_unit_details.csv\", index=False)"
   ]
  },
  {
   "cell_type": "code",
   "execution_count": null,
   "metadata": {},
   "outputs": [],
   "source": []
  },
  {
   "cell_type": "markdown",
   "metadata": {},
   "source": [
    "## Mapping SSA and Sub SSA"
   ]
  },
  {
   "cell_type": "code",
   "execution_count": 168,
   "metadata": {},
   "outputs": [
    {
     "data": {
      "text/plain": [
       "Index(['qualification_type', 'qualification_level', 'qualification_number',\n",
       "       'assessment_methods', 'sector_subject_area', 'awarding_organisation',\n",
       "       'grading_type', 'total_credits', 'funding_in_england', 'status',\n",
       "       'national_availability', 'regulation_start_date',\n",
       "       'operational_start_date', 'operational_end_date',\n",
       "       'final_certification_date', 'european_qualification_level', 'ofqual_id',\n",
       "       'guided_learning_hours', 'total_qualification_time', 'specification',\n",
       "       'specialisms', 'optional_routes', 'grading_scale',\n",
       "       'end-point_assessment_standard'],\n",
       "      dtype='object')"
      ]
     },
     "execution_count": 168,
     "metadata": {},
     "output_type": "execute_result"
    }
   ],
   "source": [
    "ofqual_SSAs_data = pd.read_csv(\"/Users/mumtaz/Documents/projects/zavmo/zavmo-api/docs/nos-ofqual/ofqual_details_20250127.csv.zip\")\n",
    "ofqual_SSAs_data.columns"
   ]
  },
  {
   "cell_type": "code",
   "execution_count": 169,
   "metadata": {},
   "outputs": [],
   "source": [
    "ofqual.rename(columns={'qualification_id': 'ofqual_id'}, inplace=True)"
   ]
  },
  {
   "cell_type": "code",
   "execution_count": 149,
   "metadata": {},
   "outputs": [
    {
     "data": {
      "text/plain": [
       "3352"
      ]
     },
     "execution_count": 149,
     "metadata": {},
     "output_type": "execute_result"
    }
   ],
   "source": [
    "import numpy as np\n",
    "len(np.unique(ofqual['ofqual_id']))"
   ]
  },
  {
   "cell_type": "code",
   "execution_count": 150,
   "metadata": {},
   "outputs": [
    {
     "data": {
      "text/plain": [
       "24545"
      ]
     },
     "execution_count": 150,
     "metadata": {},
     "output_type": "execute_result"
    }
   ],
   "source": [
    "len(ofqual_SSAs_data.ofqual_id.unique())"
   ]
  },
  {
   "cell_type": "code",
   "execution_count": 151,
   "metadata": {},
   "outputs": [
    {
     "data": {
      "text/plain": [
       "47"
      ]
     },
     "execution_count": 151,
     "metadata": {},
     "output_type": "execute_result"
    }
   ],
   "source": [
    "len(ofqual_SSAs_data['sector_subject_area'].unique())"
   ]
  },
  {
   "cell_type": "code",
   "execution_count": null,
   "metadata": {},
   "outputs": [],
   "source": [
    "ofqual_before_merge = ofqual.copy()  # Store the original dataframe before merge"
   ]
  },
  {
   "cell_type": "code",
   "execution_count": 171,
   "metadata": {},
   "outputs": [],
   "source": [
    "ofqual = ofqual.merge(ofqual_SSAs_data[['ofqual_id', 'sector_subject_area']], \n",
    "    on='ofqual_id',\n",
    "    how='inner')\n"
   ]
  },
  {
   "cell_type": "code",
   "execution_count": 176,
   "metadata": {},
   "outputs": [],
   "source": [
    "missed_records = ofqual_before_merge[~ofqual_before_merge['ofqual_id'].isin(ofqual['ofqual_id'])]\n",
    "missed_records.reset_index(drop=True, inplace=True)"
   ]
  },
  {
   "cell_type": "code",
   "execution_count": 177,
   "metadata": {},
   "outputs": [],
   "source": [
    "missed_records.reset_index(drop=True, inplace=True)"
   ]
  },
  {
   "cell_type": "code",
   "execution_count": 180,
   "metadata": {},
   "outputs": [],
   "source": [
    "missed_records.to_csv(\"/Users/mumtaz/Documents/projects/zavmo/zavmo-api/zavmo/classification/CrossValidation/data/missed_ofqual_records.csv\", index=False)"
   ]
  },
  {
   "cell_type": "code",
   "execution_count": 152,
   "metadata": {},
   "outputs": [],
   "source": [
    "ofqual.rename(columns={'sector_subject_area': 'sub_SSA'}, inplace=True)\n",
    "\n",
    "## SSA mapping to Sub SSA\n",
    "\n",
    "category_mapping = {\n",
    "    sub_category: parent_category\n",
    "        for category_dict in ofqual_SSAs \n",
    "        for parent_category, sub_categories in category_dict.items()\n",
    "        for sub_category in sub_categories\n",
    "}\n",
    "\n",
    "def assign_parent_category(sector):\n",
    "    matches = [parent for sub_cat, parent in category_mapping.items() if sub_cat in sector]\n",
    "    return matches[0] if matches else None\n",
    "\n",
    "ofqual['SSA'] = (ofqual['sub_SSA'].map(assign_parent_category))\n"
   ]
  },
  {
   "cell_type": "code",
   "execution_count": 153,
   "metadata": {},
   "outputs": [
    {
     "data": {
      "text/html": [
       "<div>\n",
       "<style scoped>\n",
       "    .dataframe tbody tr th:only-of-type {\n",
       "        vertical-align: middle;\n",
       "    }\n",
       "\n",
       "    .dataframe tbody tr th {\n",
       "        vertical-align: top;\n",
       "    }\n",
       "\n",
       "    .dataframe thead th {\n",
       "        text-align: right;\n",
       "    }\n",
       "</style>\n",
       "<table border=\"1\" class=\"dataframe\">\n",
       "  <thead>\n",
       "    <tr style=\"text-align: right;\">\n",
       "      <th></th>\n",
       "      <th>ofqual_id</th>\n",
       "      <th>overview</th>\n",
       "      <th>id</th>\n",
       "      <th>title</th>\n",
       "      <th>description</th>\n",
       "      <th>learning_outcomes</th>\n",
       "      <th>sub_SSA</th>\n",
       "      <th>SSA</th>\n",
       "    </tr>\n",
       "  </thead>\n",
       "  <tbody>\n",
       "    <tr>\n",
       "      <th>0</th>\n",
       "      <td>601/0405/3</td>\n",
       "      <td>This is an entry-level qualification that enab...</td>\n",
       "      <td>A/001/0001</td>\n",
       "      <td>Constructing halving joints</td>\n",
       "      <td>Learners will learn how to construct halving j...</td>\n",
       "      <td>[{\"description\": \"Understand the principles of...</td>\n",
       "      <td>Building and construction</td>\n",
       "      <td>Construction, Planning and the Built Environment</td>\n",
       "    </tr>\n",
       "    <tr>\n",
       "      <th>1</th>\n",
       "      <td>601/0405/3</td>\n",
       "      <td>This is an entry-level qualification that enab...</td>\n",
       "      <td>A/001/0002</td>\n",
       "      <td>Constructing housing joints</td>\n",
       "      <td>Learners will learn how to construct housing j...</td>\n",
       "      <td>[{\"description\": \"Understand the principles of...</td>\n",
       "      <td>Building and construction</td>\n",
       "      <td>Construction, Planning and the Built Environment</td>\n",
       "    </tr>\n",
       "    <tr>\n",
       "      <th>2</th>\n",
       "      <td>601/0405/3</td>\n",
       "      <td>This is an entry-level qualification that enab...</td>\n",
       "      <td>A/001/0003</td>\n",
       "      <td>Painting techniques</td>\n",
       "      <td>Learners will acquire essential painting techn...</td>\n",
       "      <td>[{\"description\": \"Demonstrate key painting tec...</td>\n",
       "      <td>Building and construction</td>\n",
       "      <td>Construction, Planning and the Built Environment</td>\n",
       "    </tr>\n",
       "    <tr>\n",
       "      <th>3</th>\n",
       "      <td>601/0405/3</td>\n",
       "      <td>This is an entry-level qualification that enab...</td>\n",
       "      <td>A/001/0004</td>\n",
       "      <td>Tiling a plain wall</td>\n",
       "      <td>Learners will learn how to tile a plain wall e...</td>\n",
       "      <td>[{\"description\": \"Understand and apply correct...</td>\n",
       "      <td>Building and construction</td>\n",
       "      <td>Construction, Planning and the Built Environment</td>\n",
       "    </tr>\n",
       "    <tr>\n",
       "      <th>4</th>\n",
       "      <td>601/0405/3</td>\n",
       "      <td>This is an entry-level qualification that enab...</td>\n",
       "      <td>A/001/0005</td>\n",
       "      <td>Constructing half brick walling</td>\n",
       "      <td>Learners will learn the skills required to con...</td>\n",
       "      <td>[{\"description\": \"Demonstrate the ability to c...</td>\n",
       "      <td>Building and construction</td>\n",
       "      <td>Construction, Planning and the Built Environment</td>\n",
       "    </tr>\n",
       "    <tr>\n",
       "      <th>...</th>\n",
       "      <td>...</td>\n",
       "      <td>...</td>\n",
       "      <td>...</td>\n",
       "      <td>...</td>\n",
       "      <td>...</td>\n",
       "      <td>...</td>\n",
       "      <td>...</td>\n",
       "      <td>...</td>\n",
       "    </tr>\n",
       "    <tr>\n",
       "      <th>21982</th>\n",
       "      <td>603/1035/2</td>\n",
       "      <td>The qualification aims to enable candidates to...</td>\n",
       "      <td>M/615/4703</td>\n",
       "      <td>Strategically Manage Quarrying Safety, Health ...</td>\n",
       "      <td>Focuses on strategic management of safety in q...</td>\n",
       "      <td>[{\"description\": \"Develop strategic plans for ...</td>\n",
       "      <td>Manufacturing technologies</td>\n",
       "      <td>Engineering and Manufacturing Technologies</td>\n",
       "    </tr>\n",
       "    <tr>\n",
       "      <th>21983</th>\n",
       "      <td>603/1035/2</td>\n",
       "      <td>The qualification aims to enable candidates to...</td>\n",
       "      <td>F/615/2454</td>\n",
       "      <td>Knowledge of Drilling and Blasting for Quarries</td>\n",
       "      <td>Provides essential knowledge about blasting te...</td>\n",
       "      <td>[{\"description\": \"Understand drilling and blas...</td>\n",
       "      <td>Manufacturing technologies</td>\n",
       "      <td>Engineering and Manufacturing Technologies</td>\n",
       "    </tr>\n",
       "    <tr>\n",
       "      <th>21984</th>\n",
       "      <td>603/1035/2</td>\n",
       "      <td>The qualification aims to enable candidates to...</td>\n",
       "      <td>D/615/2462</td>\n",
       "      <td>Manage Quarry Drilling and Blasting</td>\n",
       "      <td>Covers the management aspects of drilling and ...</td>\n",
       "      <td>[{\"description\": \"Effectively manage drilling ...</td>\n",
       "      <td>Manufacturing technologies</td>\n",
       "      <td>Engineering and Manufacturing Technologies</td>\n",
       "    </tr>\n",
       "    <tr>\n",
       "      <th>21985</th>\n",
       "      <td>603/4162/2</td>\n",
       "      <td>This qualification unit focuses on developing ...</td>\n",
       "      <td>MUS/372/1</td>\n",
       "      <td>Mastro Sain mewn Stiwdio – Mewnol</td>\n",
       "      <td>This unit covers the essential skills required...</td>\n",
       "      <td>[{\"description\": \"Demonstrate skills in master...</td>\n",
       "      <td>Building and construction</td>\n",
       "      <td>Construction, Planning and the Built Environment</td>\n",
       "    </tr>\n",
       "    <tr>\n",
       "      <th>21986</th>\n",
       "      <td>603/4162/2</td>\n",
       "      <td>This qualification unit focuses on enabling le...</td>\n",
       "      <td>D/375/0023</td>\n",
       "      <td>Cynhyrchu Sioe Radio / Podlediad – Mewnol</td>\n",
       "      <td>This unit allows learners to create and produc...</td>\n",
       "      <td>[{\"description\": \"Demonstrate how to create an...</td>\n",
       "      <td>Building and construction</td>\n",
       "      <td>Construction, Planning and the Built Environment</td>\n",
       "    </tr>\n",
       "  </tbody>\n",
       "</table>\n",
       "<p>21987 rows × 8 columns</p>\n",
       "</div>"
      ],
      "text/plain": [
       "        ofqual_id                                           overview  \\\n",
       "0      601/0405/3  This is an entry-level qualification that enab...   \n",
       "1      601/0405/3  This is an entry-level qualification that enab...   \n",
       "2      601/0405/3  This is an entry-level qualification that enab...   \n",
       "3      601/0405/3  This is an entry-level qualification that enab...   \n",
       "4      601/0405/3  This is an entry-level qualification that enab...   \n",
       "...           ...                                                ...   \n",
       "21982  603/1035/2  The qualification aims to enable candidates to...   \n",
       "21983  603/1035/2  The qualification aims to enable candidates to...   \n",
       "21984  603/1035/2  The qualification aims to enable candidates to...   \n",
       "21985  603/4162/2  This qualification unit focuses on developing ...   \n",
       "21986  603/4162/2  This qualification unit focuses on enabling le...   \n",
       "\n",
       "               id                                              title  \\\n",
       "0      A/001/0001                        Constructing halving joints   \n",
       "1      A/001/0002                        Constructing housing joints   \n",
       "2      A/001/0003                                Painting techniques   \n",
       "3      A/001/0004                                Tiling a plain wall   \n",
       "4      A/001/0005                    Constructing half brick walling   \n",
       "...           ...                                                ...   \n",
       "21982  M/615/4703  Strategically Manage Quarrying Safety, Health ...   \n",
       "21983  F/615/2454    Knowledge of Drilling and Blasting for Quarries   \n",
       "21984  D/615/2462                Manage Quarry Drilling and Blasting   \n",
       "21985   MUS/372/1                  Mastro Sain mewn Stiwdio – Mewnol   \n",
       "21986  D/375/0023          Cynhyrchu Sioe Radio / Podlediad – Mewnol   \n",
       "\n",
       "                                             description  \\\n",
       "0      Learners will learn how to construct halving j...   \n",
       "1      Learners will learn how to construct housing j...   \n",
       "2      Learners will acquire essential painting techn...   \n",
       "3      Learners will learn how to tile a plain wall e...   \n",
       "4      Learners will learn the skills required to con...   \n",
       "...                                                  ...   \n",
       "21982  Focuses on strategic management of safety in q...   \n",
       "21983  Provides essential knowledge about blasting te...   \n",
       "21984  Covers the management aspects of drilling and ...   \n",
       "21985  This unit covers the essential skills required...   \n",
       "21986  This unit allows learners to create and produc...   \n",
       "\n",
       "                                       learning_outcomes  \\\n",
       "0      [{\"description\": \"Understand the principles of...   \n",
       "1      [{\"description\": \"Understand the principles of...   \n",
       "2      [{\"description\": \"Demonstrate key painting tec...   \n",
       "3      [{\"description\": \"Understand and apply correct...   \n",
       "4      [{\"description\": \"Demonstrate the ability to c...   \n",
       "...                                                  ...   \n",
       "21982  [{\"description\": \"Develop strategic plans for ...   \n",
       "21983  [{\"description\": \"Understand drilling and blas...   \n",
       "21984  [{\"description\": \"Effectively manage drilling ...   \n",
       "21985  [{\"description\": \"Demonstrate skills in master...   \n",
       "21986  [{\"description\": \"Demonstrate how to create an...   \n",
       "\n",
       "                          sub_SSA  \\\n",
       "0       Building and construction   \n",
       "1       Building and construction   \n",
       "2       Building and construction   \n",
       "3       Building and construction   \n",
       "4       Building and construction   \n",
       "...                           ...   \n",
       "21982  Manufacturing technologies   \n",
       "21983  Manufacturing technologies   \n",
       "21984  Manufacturing technologies   \n",
       "21985   Building and construction   \n",
       "21986   Building and construction   \n",
       "\n",
       "                                                    SSA  \n",
       "0      Construction, Planning and the Built Environment  \n",
       "1      Construction, Planning and the Built Environment  \n",
       "2      Construction, Planning and the Built Environment  \n",
       "3      Construction, Planning and the Built Environment  \n",
       "4      Construction, Planning and the Built Environment  \n",
       "...                                                 ...  \n",
       "21982        Engineering and Manufacturing Technologies  \n",
       "21983        Engineering and Manufacturing Technologies  \n",
       "21984        Engineering and Manufacturing Technologies  \n",
       "21985  Construction, Planning and the Built Environment  \n",
       "21986  Construction, Planning and the Built Environment  \n",
       "\n",
       "[21987 rows x 8 columns]"
      ]
     },
     "execution_count": 153,
     "metadata": {},
     "output_type": "execute_result"
    }
   ],
   "source": [
    "ofqual"
   ]
  },
  {
   "cell_type": "code",
   "execution_count": 154,
   "metadata": {},
   "outputs": [
    {
     "data": {
      "text/plain": [
       "2514"
      ]
     },
     "execution_count": 154,
     "metadata": {},
     "output_type": "execute_result"
    }
   ],
   "source": [
    "len(ofqual['ofqual_id'].unique())"
   ]
  },
  {
   "cell_type": "code",
   "execution_count": 155,
   "metadata": {},
   "outputs": [],
   "source": [
    "ofqual.to_csv(\"/Users/mumtaz/Documents/projects/zavmo/zavmo-api/docs/nos-ofqual/ofqual.csv\", index=False)"
   ]
  },
  {
   "cell_type": "code",
   "execution_count": 156,
   "metadata": {},
   "outputs": [
    {
     "data": {
      "text/plain": [
       "(21987, 8)"
      ]
     },
     "execution_count": 156,
     "metadata": {},
     "output_type": "execute_result"
    }
   ],
   "source": [
    "ofqual.shape"
   ]
  },
  {
   "cell_type": "code",
   "execution_count": null,
   "metadata": {},
   "outputs": [],
   "source": []
  }
 ],
 "metadata": {
  "kernelspec": {
   "display_name": "Python 3",
   "language": "python",
   "name": "python3"
  },
  "language_info": {
   "codemirror_mode": {
    "name": "ipython",
    "version": 3
   },
   "file_extension": ".py",
   "mimetype": "text/x-python",
   "name": "python",
   "nbconvert_exporter": "python",
   "pygments_lexer": "ipython3",
   "version": "3.11.4"
  }
 },
 "nbformat": 4,
 "nbformat_minor": 2
}
