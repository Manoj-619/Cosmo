{
 "cells": [
  {
   "cell_type": "code",
   "execution_count": 1,
   "metadata": {},
   "outputs": [],
   "source": [
    "from pydantic import BaseModel, Field\n",
    "from collections.abc import Callable\n",
    "from typing import List, Dict, Union, Optional, Any, ForwardRef, Literal\n",
    "import os\n",
    "from dotenv import load_dotenv\n",
    "from openai import OpenAI\n",
    "from openai.types.chat import ChatCompletionMessage\n",
    "from openai.types.chat.chat_completion_message_tool_call import ChatCompletionMessageToolCall\n",
    "import logging\n",
    "from collections import defaultdict\n",
    "import pandas as pd\n",
    "from tqdm.auto import tqdm\n",
    "import json\n",
    "\n",
    "load_dotenv()\n",
    "\n",
    "logging.getLogger(\"httpx\").setLevel(logging.WARNING)\n",
    "logging.basicConfig(level=logging.INFO,\n",
    "                    format=\"%(asctime)s - %(levelname)s - %(message)s\")\n",
    "\n",
    "OPENAI_API_KEY=os.getenv(\"OPENAI_API_KEY\")\n",
    "openai_client = OpenAI(api_key=OPENAI_API_KEY)\n"
   ]
  },
  {
   "cell_type": "code",
   "execution_count": 2,
   "metadata": {},
   "outputs": [],
   "source": [
    "import os\n",
    "os.chdir(f\"{os.path.dirname(os.path.abspath(os.getcwd()))}/zavmo\")"
   ]
  },
  {
   "cell_type": "code",
   "execution_count": 3,
   "metadata": {},
   "outputs": [
    {
     "data": {
      "text/plain": [
       "'c:\\\\Users\\\\smrit\\\\Work\\\\Kenpath\\\\zavmo-api\\\\zavmo'"
      ]
     },
     "execution_count": 3,
     "metadata": {},
     "output_type": "execute_result"
    }
   ],
   "source": [
    "os.getcwd()"
   ]
  },
  {
   "cell_type": "code",
   "execution_count": 4,
   "metadata": {},
   "outputs": [],
   "source": [
    "from helpers.chat import filter_history\n",
    "from pydantic import BaseModel\n",
    "import logging\n",
    "from helpers._types import (\n",
    "    Agent,\n",
    "    function_to_json,\n",
    "    Result,\n",
    "    Response, \n",
    "    StrictTool,\n",
    "    PermissiveTool\n",
    ")\n",
    "from typing import List, Dict, Any\n",
    "from collections import defaultdict\n",
    "# from helpers.utils import get_utc_timestamp"
   ]
  },
  {
   "cell_type": "code",
   "execution_count": 5,
   "metadata": {},
   "outputs": [],
   "source": [
    "sys=\"\"\"\n",
    "Based on the unit text provided, generate a comprehensive mark scheme and corresponding learning materials using Bloom's Taxonomy. \n",
    "Follow the defintion for every item in the mark scheme for each level of Bloom's Taxonomy and gain clarity on the criteria, task and response generation:\n",
    "\n",
    "1: Develop Bloom's Taxonomy Criteria\n",
    "\t1.\tFor Each Level of Bloom's Taxonomy (Remembering, Understanding, Applying, Analyzing, Evaluating, and Creating):\n",
    "\t•\tDefine clear criteria for evaluating learners' work at each level.\n",
    "\t•\tUse key verbs (e.g., \"list,\" \"explain,\" \"demonstrate,\" \"compare,\" \"evaluate,\" \"design\") to frame expectations.\n",
    "\t•\tClearly articulate how learners can achieve each level, aligning criteria to the text provided.\n",
    "\n",
    "2: Design Tasks for Learners\n",
    "\t1.\tCreate one task for each level of Bloom's Taxonomy that reflects the criteria defined in Step 1.\n",
    "\t•\tEnsure the tasks are specific, measurable, and tailored to the unit text.\n",
    "\t•\tUse varied formats (e.g., multiple-choice questions for Remembering, essays for Evaluating, or project-based tasks for Creating).\n",
    "\n",
    "3: Generate Sample Responses with Grading Standards\n",
    "\t1.\tProvide responses for each task which should set OFQUAL standards.\n",
    "\t2.\tAlign responses to the following performance bands with each item having this structure:\n",
    "        level: for which the response scheme is set.\n",
    "        response: variation of responses that should set OFQUAL standards.\n",
    "\t\t•\tFail (39% or less): Responses demonstrating minimal understanding or effort.\n",
    "\t\t•\tPass (40%-59%): Responses meeting basic expectations but with limited depth.\n",
    "\t\t•\tMerit (60%-79%): Responses showing solid understanding, detail, and application.\n",
    "\t\t•\tDistinction (80%-100%): Responses exemplifying comprehensive understanding, insight, and creativity.\n",
    "\"\"\"\n",
    "\n",
    "# agent = Agent(\n",
    "#     name=\"Generate Mark Scheme\",\n",
    "#     functions=[GenerateCriteriaOnAllLevels, GenerateBenchmarkingResponseOnAllLevels],\n",
    "#     model=\"gpt-4o-mini\",\n",
    "#     instructions=sys\n",
    "# )"
   ]
  },
  {
   "cell_type": "code",
   "execution_count": 6,
   "metadata": {},
   "outputs": [],
   "source": [
    "system_message = {'role':'system','content':sys}\n",
    "ofqual_unitwise_text = \"\"\"UNIT 1:\n",
    "- Unit Title/Heading: Knowledge of the Service and Repair of Electrically Propelled Buses and Coaches\n",
    "- Unit Aim/Purpose: This unit is for people who work on or near electric and electric/hybrid buses and coaches. It includes essential knowledge of the hazards associated with electric and electric/hybrid buses and coaches and the precautions to follow to avoid these. It enables the learner to understand how to safely isolate and reinstate the high voltage system and to remove and replace high voltage components.\n",
    "- Level: 2\n",
    "- Reference Number: L/618/5652\n",
    "- Credit Value: 2\n",
    "- Total Qualification Time (TQT): 19\n",
    "- Guided Learning Hours: 16\n",
    "- Learning Outcomes:\n",
    "  1. Understand the risks and hazards associated with electric and electric/hybrid buses and coaches\n",
    "  2. Know and understand the different types of electric and electric/hybrid buses and coaches, associated technology, components and operating principles\n",
    "  3. Know how to prepare electric and electric/hybrid buses and coaches when carrying out routine service and repair procedures\n",
    "  4. Know how to work safely on electric and electric/hybrid buses and coaches\n",
    "- Assessment Criteria:\n",
    "  1.1 Describe the health and safety legislation and workplace procedures relating to working on, near or with electric and electric/hybrid buses and coaches.\n",
    "  1.2 Describe the dangers relating to working with high voltages, electrocution, battery electrolyte gel, and hazards associated with alternative fuel sources and systems, including hydrogen fuel cells.\n",
    "  1.3 Describe safety requirements including First Aid, tools and equipment, ventilation, high voltage isolation, dealing with electrolyte gel spillages, environmental protection, risk assessment, and workplace signage.\n",
    "  1.4 Describe vehicle power systems and their associated safety risks.\n",
    "  2.1 Identify components that make up the electric and electric/hybrid systems.\n",
    "  2.2 Describe basic operating principles.\n",
    "  2.3 Describe the construction and function of battery types.\n",
    "  2.4 Describe the construction and function of component parts.\n",
    "  2.5 Describe how to store parts and components.\n",
    "  3.1 Describe the preparation of the vehicle prior to conducting service/repair of the vehicle.\n",
    "  4.1 Describe safe working methods for working on electric and electric/hybrid buses and coaches.\n",
    "\n",
    "\"\"\""
   ]
  },
  {
   "cell_type": "markdown",
   "metadata": {},
   "source": [
    "## Finalized approach for generating markscheme"
   ]
  },
  {
   "cell_type": "code",
   "execution_count": 8,
   "metadata": {},
   "outputs": [],
   "source": [
    "class GenerateCriteria(StrictTool):\n",
    "    blooms_taxonomy_level: Literal[\"Remember\", \"Understand\", \"Apply\", \"Analyze\", \"Evaluate\", \"Create\"] = Field(description=\"The level of Bloom's Taxonomy.\")\n",
    "    criteria: List[str] = Field(description=\"Generate very challenging criteria for the level of Bloom's Taxonomy based on the ofqual unit provided.\")\n",
    "    key_verbs: List[str] = Field(description=\"Action verbs that align with Bloom's Taxonomy level to specify the expected learning outcomes (e.g., 'define,' 'explain,' 'apply,' 'analyze,' 'evaluate,' 'create').\")\n",
    "    expectations: List[str] = Field(description=\"Expectations to meet the criteria.\")\n",
    "    task: str = Field(description=\"A task designed around the level of Bloom's Taxonomy based on the ofqual unit and criteria.\")\n",
    "\n",
    "class GenerateCriteriaOnAllLevels(StrictTool):\n",
    "    task_and_criteria: List[GenerateCriteria] = Field(description=\"Generate criteria for all levels of Bloom's Taxonomy based on the ofqual unit provided.\")\n",
    "    def execute(self, context: Dict):\n",
    "        return Result(value=\"Tasks and corresponding criteria on all levels of Bloom's Taxonomy: \\n\\n\" + \"\\n\".join([f\"{item.task}:\\n\\n{item.criteria}\" for item in self.task_and_criteria])+\"\\n\\nNext step is to generate a benchmarking response for each task.\")\n",
    "\n",
    "class pass_fail_merit_distinction(StrictTool):\n",
    "    \"\"\"\n",
    "    This class is used to generate benchmarking responses for the pass, fail, merit, and distinction for the markscheme item.\n",
    "    \"\"\"\n",
    "    fail: str = Field(description=\"Response demonstrating minimal understanding or effort, showing insufficient grasp of core concepts\")\n",
    "    pass_: str = Field(description=\"Response meeting basic expectations with limited depth, showing fundamental understanding of core concepts\")\n",
    "    merit: str = Field(description=\"Response showing solid understanding, detail, and application, demonstrating thorough comprehension and ability to apply concepts\")\n",
    "    distinction: str = Field(description=\"Response exemplifying comprehensive understanding, insight, and creativity, showing exceptional mastery and innovative application of concepts\")\n",
    "\n",
    "class GenerateBenchmarkingResponse(StrictTool):\n",
    "    response: List[pass_fail_merit_distinction] = Field(description=\"Generate benchmarking responses for the task to have variations in response considering criteria and expectations provided.\")\n",
    "    def execute(self, context: Dict):\n",
    "        return Result(value=self.response)\n",
    "\n",
    "def get_structured_output(func, messages=[],model=\"gpt-4o-mini\"):\n",
    "    client = OpenAI(api_key=os.getenv(\"OPENAI_API_KEY\"))\n",
    "\n",
    "    completion = client.beta.chat.completions.parse(\n",
    "    model=model,\n",
    "    messages=messages,\n",
    "    response_format=func,\n",
    "    )\n",
    "    \n",
    "    return completion.choices[0].message.parsed    \n",
    "    \n",
    "def generate_markscheme(unit_text: str):\n",
    "    messages = [system_message,\n",
    "    {\"role\": \"user\", \"content\": f\"Here is the Ofqual(Office of Qualifications and Examinations Regulation) unitwise text: {unit_text}\"}]\n",
    "    criteria_items = get_structured_output(GenerateCriteriaOnAllLevels, messages)\n",
    "\n",
    "    marks_scheme = []\n",
    "    for i in criteria_items.task_and_criteria:\n",
    "        current_item = {}\n",
    "        current_item['bloom_taxonomy_level'] = i.blooms_taxonomy_level\n",
    "        current_item['criteria'] = i.criteria\n",
    "        current_item['key_verbs'] = i.key_verbs\n",
    "        current_item['expectations'] = i.expectations\n",
    "        current_item['task'] = i.task\n",
    "        \n",
    "        messages = [system_message,\n",
    "        {\"role\": \"user\", \"content\": f\"Generate benchmarking responses for the task based on OFQUAL standards: {i.task},\\n\\nCriteria: {i.criteria},\\n\\nExpectations: {i.expectations}\"}]\n",
    "        responses = [i for i in get_structured_output(GenerateBenchmarkingResponse, messages).response[0]]\n",
    "        current_item['benchmarking_responses'] = responses\n",
    "        marks_scheme.append(current_item)\n",
    "        \n",
    "    return marks_scheme\n"
   ]
  },
  {
   "cell_type": "code",
   "execution_count": 15,
   "metadata": {},
   "outputs": [],
   "source": [
    "df = pd.read_csv(r\"C:\\Users\\smrit\\Work\\Kenpath\\zavmo-api\\docs\\rgcn\\ofqual_units.csv\")"
   ]
  },
  {
   "cell_type": "code",
   "execution_count": 16,
   "metadata": {},
   "outputs": [
    {
     "data": {
      "text/plain": [
       "Index(['ofqual_id', 'overview', 'unit_id', 'unit_title', 'unit_description',\n",
       "       'unit_learning_outcomes', 'qualification_type', 'qualification_level',\n",
       "       'assessment_methods', 'sector_subject_area', 'awarding_organisation',\n",
       "       'total_credits', 'guided_learning_hours', 'total_qualification_time',\n",
       "       'awarding_organization'],\n",
       "      dtype='object')"
      ]
     },
     "execution_count": 16,
     "metadata": {},
     "output_type": "execute_result"
    }
   ],
   "source": [
    "df.columns"
   ]
  },
  {
   "cell_type": "code",
   "execution_count": 17,
   "metadata": {},
   "outputs": [],
   "source": [
    "df.drop_duplicates(subset='unit_id', inplace=True)"
   ]
  },
  {
   "cell_type": "code",
   "execution_count": 26,
   "metadata": {},
   "outputs": [
    {
     "data": {
      "text/plain": [
       "(14343, 15)"
      ]
     },
     "execution_count": 26,
     "metadata": {},
     "output_type": "execute_result"
    }
   ],
   "source": [
    "df.shape"
   ]
  },
  {
   "cell_type": "code",
   "execution_count": 28,
   "metadata": {},
   "outputs": [],
   "source": [
    "df['text'] = df.apply(lambda row: f\"Unit Title: {row['unit_title']}\\n  - Unit Aim: {row['unit_description']}\\n  - Unit id: {row['unit_id']}\\n  - Credit Value: {row['total_credits']}\\n  - Total Qualification Time (TQT): {row['total_qualification_time']}\\n  - Guided Learning Hours (GLH): {row['guided_learning_hours']}\\n  - Learning Outcomes:\\n    {row['unit_learning_outcomes']}\", axis=1)"
   ]
  },
  {
   "cell_type": "code",
   "execution_count": 29,
   "metadata": {},
   "outputs": [
    {
     "data": {
      "text/plain": [
       "'Unit Title: Alcohol and Drug Misuse Awareness\\n  - Unit Aim: This unit gives learners an understanding of the effects and consequences of drug and alcohol misuse.\\n  - Unit id: T/504/8484\\n  - Credit Value: 3.0\\n  - Total Qualification Time (TQT): 30.0\\n  - Guided Learning Hours (GLH): 15.0\\n  - Learning Outcomes:\\n    1. Understand the effects and consequences of alcohol misuse.\\r\\n  - Describe the physical effects of alcohol misuse\\r\\n  - Identify social consequences of alcohol misuse'"
      ]
     },
     "execution_count": 29,
     "metadata": {},
     "output_type": "execute_result"
    }
   ],
   "source": [
    "df['text'][0]"
   ]
  },
  {
   "cell_type": "code",
   "execution_count": 30,
   "metadata": {},
   "outputs": [],
   "source": [
    "df.to_csv(r\"C:\\Users\\smrit\\Work\\Kenpath\\zavmo-api\\docs\\rgcn\\ofqual_units_with_text.csv\", index=False)"
   ]
  },
  {
   "cell_type": "code",
   "execution_count": null,
   "metadata": {},
   "outputs": [
    {
     "name": "stderr",
     "output_type": "stream",
     "text": [
      "Generating markschemes:   1%|          | 109/10000 [10:15<19:05:50,  6.95s/it]"
     ]
    },
    {
     "name": "stdout",
     "output_type": "stream",
     "text": [
      "Error processing row 111: Could not parse response content as the length limit was reached - CompletionUsage(completion_tokens=59, prompt_tokens=751, total_tokens=810, completion_tokens_details=CompletionTokensDetails(accepted_prediction_tokens=0, audio_tokens=0, reasoning_tokens=0, rejected_prediction_tokens=0), prompt_tokens_details=PromptTokensDetails(audio_tokens=0, cached_tokens=0))\n"
     ]
    },
    {
     "name": "stderr",
     "output_type": "stream",
     "text": [
      "Generating markschemes:   2%|▏         | 248/10000 [22:27<17:38:50,  6.51s/it]2025-03-19 00:05:08,828 - INFO - Retrying request to /chat/completions in 0.413722 seconds\n",
      "Generating markschemes:   4%|▍         | 445/10000 [41:35<11:17:51,  4.26s/it]"
     ]
    },
    {
     "name": "stdout",
     "output_type": "stream",
     "text": [
      "Error processing row 449: Could not parse response content as the length limit was reached - CompletionUsage(completion_tokens=54, prompt_tokens=749, total_tokens=803, completion_tokens_details=CompletionTokensDetails(accepted_prediction_tokens=0, audio_tokens=0, reasoning_tokens=0, rejected_prediction_tokens=0), prompt_tokens_details=PromptTokensDetails(audio_tokens=0, cached_tokens=0))\n"
     ]
    },
    {
     "name": "stderr",
     "output_type": "stream",
     "text": [
      "Generating markschemes:   5%|▍         | 473/10000 [44:01<17:01:22,  6.43s/it]2025-03-19 00:26:43,694 - INFO - Retrying request to /chat/completions in 0.393429 seconds\n",
      "Generating markschemes:   5%|▍         | 496/10000 [46:02<14:16:25,  5.41s/it]2025-03-19 00:28:40,050 - INFO - Retrying request to /chat/completions in 0.486416 seconds\n",
      "Generating markschemes:   5%|▌         | 504/10000 [46:44<9:42:03,  3.68s/it] "
     ]
    },
    {
     "name": "stdout",
     "output_type": "stream",
     "text": [
      "Error processing row 508: Could not parse response content as the length limit was reached - CompletionUsage(completion_tokens=46, prompt_tokens=724, total_tokens=770, completion_tokens_details=CompletionTokensDetails(accepted_prediction_tokens=0, audio_tokens=0, reasoning_tokens=0, rejected_prediction_tokens=0), prompt_tokens_details=PromptTokensDetails(audio_tokens=0, cached_tokens=0))\n"
     ]
    },
    {
     "name": "stderr",
     "output_type": "stream",
     "text": [
      "Generating markschemes:   8%|▊         | 768/10000 [1:11:24<11:55:31,  4.65s/it]"
     ]
    },
    {
     "name": "stdout",
     "output_type": "stream",
     "text": [
      "Error processing row 768: Could not parse response content as the length limit was reached - CompletionUsage(completion_tokens=56, prompt_tokens=747, total_tokens=803, completion_tokens_details=CompletionTokensDetails(accepted_prediction_tokens=0, audio_tokens=0, reasoning_tokens=0, rejected_prediction_tokens=0), prompt_tokens_details=PromptTokensDetails(audio_tokens=0, cached_tokens=0))\n"
     ]
    },
    {
     "name": "stderr",
     "output_type": "stream",
     "text": [
      "Generating markschemes:  12%|█▏        | 1163/10000 [1:49:19<13:00:10,  5.30s/it]"
     ]
    },
    {
     "name": "stdout",
     "output_type": "stream",
     "text": [
      "Error processing row 1132: Could not parse response content as the length limit was reached - CompletionUsage(completion_tokens=16384, prompt_tokens=844, total_tokens=17228, completion_tokens_details=CompletionTokensDetails(accepted_prediction_tokens=0, audio_tokens=0, reasoning_tokens=0, rejected_prediction_tokens=0), prompt_tokens_details=PromptTokensDetails(audio_tokens=0, cached_tokens=0))\n"
     ]
    },
    {
     "name": "stderr",
     "output_type": "stream",
     "text": [
      "Generating markschemes:  15%|█▌        | 1533/10000 [7:00:03<17:19:55,  7.37s/it]     2025-03-19 06:42:47,928 - INFO - Retrying request to /chat/completions in 0.415709 seconds\n",
      "Generating markschemes:  26%|██▋       | 2634/10000 [8:37:28<13:35:21,  6.64s/it]"
     ]
    },
    {
     "name": "stdout",
     "output_type": "stream",
     "text": [
      "Error processing row 2636: Could not parse response content as the length limit was reached - CompletionUsage(completion_tokens=66, prompt_tokens=730, total_tokens=796, completion_tokens_details=CompletionTokensDetails(accepted_prediction_tokens=0, audio_tokens=0, reasoning_tokens=0, rejected_prediction_tokens=0), prompt_tokens_details=PromptTokensDetails(audio_tokens=0, cached_tokens=0))\n"
     ]
    },
    {
     "name": "stderr",
     "output_type": "stream",
     "text": [
      "Generating markschemes:  30%|██▉       | 2968/10000 [9:06:24<13:11:52,  6.76s/it]"
     ]
    },
    {
     "name": "stdout",
     "output_type": "stream",
     "text": [
      "Error processing row 2935: Could not parse response content as the length limit was reached - CompletionUsage(completion_tokens=16384, prompt_tokens=854, total_tokens=17238, completion_tokens_details=CompletionTokensDetails(accepted_prediction_tokens=0, audio_tokens=0, reasoning_tokens=0, rejected_prediction_tokens=0), prompt_tokens_details=PromptTokensDetails(audio_tokens=0, cached_tokens=0))\n"
     ]
    },
    {
     "name": "stderr",
     "output_type": "stream",
     "text": [
      "Generating markschemes:  31%|███       | 3090/10000 [9:17:24<9:23:41,  4.89s/it] "
     ]
    },
    {
     "name": "stdout",
     "output_type": "stream",
     "text": [
      "Error processing row 3046: Could not parse response content as the length limit was reached - CompletionUsage(completion_tokens=16384, prompt_tokens=740, total_tokens=17124, completion_tokens_details=CompletionTokensDetails(accepted_prediction_tokens=0, audio_tokens=0, reasoning_tokens=0, rejected_prediction_tokens=0), prompt_tokens_details=PromptTokensDetails(audio_tokens=0, cached_tokens=0))\n"
     ]
    },
    {
     "name": "stderr",
     "output_type": "stream",
     "text": [
      "Generating markschemes:  36%|███▋      | 3634/10000 [10:04:03<7:23:45,  4.18s/it] "
     ]
    },
    {
     "name": "stdout",
     "output_type": "stream",
     "text": [
      "Error processing row 3598: Could not parse response content as the length limit was reached - CompletionUsage(completion_tokens=16384, prompt_tokens=1253, total_tokens=17637, completion_tokens_details=CompletionTokensDetails(accepted_prediction_tokens=0, audio_tokens=0, reasoning_tokens=0, rejected_prediction_tokens=0), prompt_tokens_details=PromptTokensDetails(audio_tokens=0, cached_tokens=0))\n"
     ]
    },
    {
     "name": "stderr",
     "output_type": "stream",
     "text": [
      "Generating markschemes:  40%|███▉      | 3972/10000 [10:36:08<9:46:40,  5.84s/it] 2025-03-19 11:09:07,331 - INFO - Retrying request to /chat/completions in 0.479465 seconds\n",
      "Generating markschemes:  40%|███▉      | 3973/10000 [11:26:30<1524:37:06, 910.67s/it]2025-03-19 11:09:07,331 - INFO - Retrying request to /chat/completions in 0.453114 seconds\n",
      "2025-03-19 11:09:07,378 - INFO - Retrying request to /chat/completions in 0.440519 seconds\n",
      "2025-03-19 11:09:07,378 - INFO - Retrying request to /chat/completions in 0.469595 seconds\n",
      "2025-03-19 11:09:07,394 - INFO - Retrying request to /chat/completions in 0.405255 seconds\n",
      "2025-03-19 11:09:07,409 - INFO - Retrying request to /chat/completions in 0.467918 seconds\n",
      "2025-03-19 11:09:07,456 - INFO - Retrying request to /chat/completions in 0.496733 seconds\n",
      "2025-03-19 11:09:07,823 - INFO - Retrying request to /chat/completions in 0.934602 seconds\n",
      "2025-03-19 11:09:07,841 - INFO - Retrying request to /chat/completions in 0.978602 seconds\n",
      "2025-03-19 11:09:07,851 - INFO - Retrying request to /chat/completions in 0.997525 seconds\n",
      "2025-03-19 11:09:07,867 - INFO - Retrying request to /chat/completions in 0.940840 seconds\n",
      "2025-03-19 11:09:07,898 - INFO - Retrying request to /chat/completions in 0.912278 seconds\n",
      "2025-03-19 11:09:07,945 - INFO - Retrying request to /chat/completions in 0.790122 seconds\n",
      "Generating markschemes:  40%|███▉      | 3975/10000 [11:26:32<747:41:33, 446.75s/it] 2025-03-19 11:09:08,747 - INFO - Retrying request to /chat/completions in 0.873370 seconds\n",
      "2025-03-19 11:09:09,502 - INFO - Retrying request to /chat/completions in 0.484694 seconds\n",
      "2025-03-19 11:09:09,559 - INFO - Retrying request to /chat/completions in 0.418436 seconds\n",
      "2025-03-19 11:09:09,559 - INFO - Retrying request to /chat/completions in 0.499575 seconds\n",
      "2025-03-19 11:09:09,563 - INFO - Retrying request to /chat/completions in 0.406367 seconds\n",
      "2025-03-19 11:09:09,567 - INFO - Retrying request to /chat/completions in 0.440190 seconds\n"
     ]
    },
    {
     "name": "stdout",
     "output_type": "stream",
     "text": [
      "Error processing row 3973: Connection error.\n",
      "Error processing row 3978: Connection error.\n",
      "Error processing row 3979: Connection error.\n",
      "Error processing row 3977: Connection error.\n",
      "Error processing row 3976: Connection error.\n"
     ]
    },
    {
     "name": "stderr",
     "output_type": "stream",
     "text": [
      "2025-03-19 11:09:09,999 - INFO - Retrying request to /chat/completions in 0.778640 seconds\n",
      "2025-03-19 11:09:10,001 - INFO - Retrying request to /chat/completions in 0.867657 seconds\n",
      "2025-03-19 11:09:10,039 - INFO - Retrying request to /chat/completions in 0.783055 seconds\n",
      "2025-03-19 11:09:10,048 - INFO - Retrying request to /chat/completions in 0.763975 seconds\n",
      "2025-03-19 11:09:10,071 - INFO - Retrying request to /chat/completions in 0.852949 seconds\n",
      "Generating markschemes:  40%|███▉      | 3979/10000 [11:26:33<275:31:56, 164.74s/it]2025-03-19 11:09:10,499 - INFO - Retrying request to /chat/completions in 0.417059 seconds\n",
      "2025-03-19 11:09:10,506 - INFO - Retrying request to /chat/completions in 0.421680 seconds\n"
     ]
    },
    {
     "name": "stdout",
     "output_type": "stream",
     "text": [
      "Error processing row 3975: Connection error.\n",
      "Error processing row 3980: Connection error.\n"
     ]
    },
    {
     "name": "stderr",
     "output_type": "stream",
     "text": [
      "Generating markschemes:  40%|███▉      | 3981/10000 [11:26:33<189:54:13, 113.58s/it]2025-03-19 11:09:10,820 - INFO - Retrying request to /chat/completions in 0.482200 seconds\n",
      "2025-03-19 11:09:10,867 - INFO - Retrying request to /chat/completions in 0.490968 seconds\n",
      "Generating markschemes:  40%|███▉      | 3984/10000 [11:26:33<113:56:38, 68.18s/it] 2025-03-19 11:09:10,881 - INFO - Retrying request to /chat/completions in 0.438423 seconds\n",
      "2025-03-19 11:09:10,952 - INFO - Retrying request to /chat/completions in 0.880341 seconds\n",
      "2025-03-19 11:09:10,952 - INFO - Retrying request to /chat/completions in 0.846171 seconds\n",
      "2025-03-19 11:09:10,952 - INFO - Retrying request to /chat/completions in 0.422894 seconds\n"
     ]
    },
    {
     "name": "stdout",
     "output_type": "stream",
     "text": [
      "Error processing row 3985: Connection error.\n",
      "Error processing row 3981: Connection error.\n",
      "Error processing row 3983: Connection error.\n",
      "Error processing row 3984: Connection error.\n",
      "Error processing row 3982: Connection error.\n"
     ]
    },
    {
     "name": "stderr",
     "output_type": "stream",
     "text": [
      "2025-03-19 11:09:10,999 - INFO - Retrying request to /chat/completions in 0.385621 seconds\n",
      "2025-03-19 11:09:11,310 - INFO - Retrying request to /chat/completions in 0.802161 seconds\n",
      "2025-03-19 11:09:11,336 - INFO - Retrying request to /chat/completions in 0.778822 seconds\n",
      "2025-03-19 11:09:11,385 - INFO - Retrying request to /chat/completions in 0.884195 seconds\n",
      "2025-03-19 11:09:11,391 - INFO - Retrying request to /chat/completions in 0.860181 seconds\n",
      "2025-03-19 11:09:11,396 - INFO - Retrying request to /chat/completions in 0.905320 seconds\n",
      "Generating markschemes:  40%|███▉      | 3986/10000 [11:26:34<82:42:25, 49.51s/it] 2025-03-19 11:09:11,846 - INFO - Retrying request to /chat/completions in 0.409317 seconds\n",
      "2025-03-19 11:09:11,866 - INFO - Retrying request to /chat/completions in 0.394665 seconds\n"
     ]
    },
    {
     "name": "stdout",
     "output_type": "stream",
     "text": [
      "Error processing row 3986: Connection error.\n",
      "Error processing row 3987: Connection error.\n"
     ]
    },
    {
     "name": "stderr",
     "output_type": "stream",
     "text": [
      "Generating markschemes:  40%|███▉      | 3988/10000 [11:26:34<59:23:03, 35.56s/it]2025-03-19 11:09:12,176 - INFO - Retrying request to /chat/completions in 0.465064 seconds\n",
      "2025-03-19 11:09:12,176 - INFO - Retrying request to /chat/completions in 0.386726 seconds\n",
      "Generating markschemes:  40%|███▉      | 3990/10000 [11:26:35<42:19:23, 25.35s/it]2025-03-19 11:09:12,264 - INFO - Retrying request to /chat/completions in 0.816762 seconds\n",
      "2025-03-19 11:09:12,276 - INFO - Retrying request to /chat/completions in 0.911042 seconds\n"
     ]
    },
    {
     "name": "stdout",
     "output_type": "stream",
     "text": [
      "Error processing row 3988: Connection error.\n",
      "Error processing row 3990: Connection error.\n",
      "Error processing row 3992: Connection error.\n",
      "Error processing row 3989: Connection error.\n"
     ]
    },
    {
     "name": "stderr",
     "output_type": "stream",
     "text": [
      "2025-03-19 11:09:12,310 - INFO - Retrying request to /chat/completions in 0.419576 seconds\n",
      "2025-03-19 11:09:12,318 - INFO - Retrying request to /chat/completions in 0.462464 seconds\n",
      "2025-03-19 11:09:12,346 - INFO - Retrying request to /chat/completions in 0.475369 seconds\n"
     ]
    },
    {
     "name": "stdout",
     "output_type": "stream",
     "text": [
      "Error processing row 3991: Connection error.\n"
     ]
    },
    {
     "name": "stderr",
     "output_type": "stream",
     "text": [
      "2025-03-19 11:09:12,569 - INFO - Retrying request to /chat/completions in 0.792098 seconds\n",
      "2025-03-19 11:09:12,648 - INFO - Retrying request to /chat/completions in 0.826120 seconds\n",
      "2025-03-19 11:09:12,738 - INFO - Retrying request to /chat/completions in 0.815766 seconds\n",
      "2025-03-19 11:09:12,782 - INFO - Retrying request to /chat/completions in 0.801664 seconds\n",
      "2025-03-19 11:09:12,831 - INFO - Retrying request to /chat/completions in 0.983568 seconds\n",
      "Generating markschemes:  40%|███▉      | 3993/10000 [11:26:35<26:20:56, 15.79s/it]"
     ]
    },
    {
     "name": "stdout",
     "output_type": "stream",
     "text": [
      "Error processing row 3993: Connection error.\n",
      "Error processing row 3994: Connection error.\n"
     ]
    },
    {
     "name": "stderr",
     "output_type": "stream",
     "text": [
      "Generating markschemes:  40%|███▉      | 3996/10000 [11:26:36<16:18:49,  9.78s/it]"
     ]
    },
    {
     "name": "stdout",
     "output_type": "stream",
     "text": [
      "Error processing row 3995: Connection error.\n",
      "Error processing row 3996: Connection error.\n",
      "Error processing row 3997: Connection error.\n"
     ]
    },
    {
     "name": "stderr",
     "output_type": "stream",
     "text": [
      "Generating markschemes:  40%|███▉      | 3998/10000 [11:26:36<11:13:23,  6.73s/it]"
     ]
    },
    {
     "name": "stdout",
     "output_type": "stream",
     "text": [
      "Error processing row 3998: Connection error.\n",
      "Error processing row 3999: Connection error.\n"
     ]
    },
    {
     "name": "stderr",
     "output_type": "stream",
     "text": [
      "Generating markschemes:  40%|███▉      | 3999/10000 [11:26:53<11:13:17,  6.73s/it]2025-03-19 11:09:35,710 - INFO - Retrying request to /chat/completions in 0.409050 seconds\n",
      "2025-03-19 11:09:36,126 - INFO - Retrying request to /chat/completions in 0.937029 seconds\n",
      "Generating markschemes:  40%|████      | 4008/10000 [11:28:12<10:04:58,  6.06s/it]"
     ]
    }
   ],
   "source": [
    "import pandas as pd\n",
    "from concurrent.futures import ThreadPoolExecutor, as_completed\n",
    "from tqdm import tqdm\n",
    "import time\n",
    "\n",
    "def process_row(row):\n",
    "    \"\"\"Process a single row and return (index, markscheme)\"\"\"\n",
    "    try:\n",
    "        markscheme = generate_markscheme(row['text'])\n",
    "        return row.name, markscheme\n",
    "    except Exception as e:\n",
    "        print(f\"Error processing row {row.name}: {str(e)}\")\n",
    "        return row.name, None\n",
    "\n",
    "def process_with_threadpool(df, max_workers=8, batch_size=2000):\n",
    "    \"\"\"Process dataframe using ThreadPoolExecutor with batching\"\"\"\n",
    "    all_markschemes = {}\n",
    "    total_batches = (len(df) + batch_size - 1) // batch_size\n",
    "    \n",
    "    with tqdm(total=len(df), desc=\"Generating markschemes\") as pbar:\n",
    "        for batch_start in range(0, len(df), batch_size):\n",
    "            batch_end = min(batch_start + batch_size, len(df))\n",
    "            batch_df = df.iloc[batch_start:batch_end]\n",
    "            \n",
    "            # Process batch with ThreadPoolExecutor\n",
    "            with ThreadPoolExecutor(max_workers=max_workers) as executor:\n",
    "                # Submit all rows in the batch\n",
    "                future_to_row = {\n",
    "                    executor.submit(process_row, row): idx \n",
    "                    for idx, row in batch_df.iterrows()\n",
    "                }\n",
    "                \n",
    "                # Collect results as they complete\n",
    "                for future in as_completed(future_to_row):\n",
    "                    try:\n",
    "                        idx, markscheme = future.result()\n",
    "                        all_markschemes[idx] = markscheme\n",
    "                        pbar.update(1)\n",
    "                    except Exception as e:\n",
    "                        print(f\"Error processing future: {str(e)}\")\n",
    "            \n",
    "            # Optional: Save intermediate results after each batch\n",
    "            save_intermediate_results(df, all_markschemes, batch_start//batch_size)\n",
    "            \n",
    "    \n",
    "    return all_markschemes\n",
    "\n",
    "def save_intermediate_results(df, markschemes, batch_num):\n",
    "    \"\"\"Save intermediate results after each batch\"\"\"\n",
    "    try:\n",
    "        temp_df = df.copy()\n",
    "        temp_df['markscheme'] = pd.Series(markschemes)\n",
    "        temp_df.to_csv(f'intermediate_markschemes_batch_{batch_num}.csv', index=False)\n",
    "    except Exception as e:\n",
    "        print(f\"Error saving intermediate results: {str(e)}\")\n",
    "\n",
    "# Main execution\n",
    "if __name__ == \"__main__\":\n",
    "    # Read the CSV file\n",
    "    df = pd.read_csv(r\"C:\\Users\\smrit\\Work\\Kenpath\\zavmo-api\\docs\\rgcn\\ofqual_units_with_text.csv\").head(10000)\n",
    "    \n",
    "    # Process with ThreadPool\n",
    "    markschemes_dict = process_with_threadpool(\n",
    "        df,\n",
    "        max_workers=8,  # Adjust based on your CPU and API limits\n",
    "        batch_size=2000  # Adjust based on your memory and requirements\n",
    "    )\n",
    "    \n",
    "    # Convert results to series and add to dataframe\n",
    "    df['markscheme'] = pd.Series(markschemes_dict)\n",
    "    \n",
    "    # Save the final results\n",
    "    df.to_csv(r\"C:\\Users\\smrit\\Work\\Kenpath\\zavmo-api\\docs\\rgcn\\ofqual_units_with_markscheme.csv\", index=False)"
   ]
  },
  {
   "cell_type": "code",
   "execution_count": null,
   "metadata": {},
   "outputs": [],
   "source": []
  },
  {
   "cell_type": "code",
   "execution_count": null,
   "metadata": {},
   "outputs": [],
   "source": [
    "df = pd.read_csv(r\"C:\\Users\\smrit\\Work\\Kenpath\\zavmo-api\\docs\\rgcn\\ofqual_units_with_text.csv\").head(5000)\n",
    "\n",
    "# Process the dataset with tqdm\n",
    "markschemes = []\n",
    "for _, row in tqdm(df.iterrows(), total=len(df), desc=\"Generating markschemes\"):\n",
    "    markscheme = generate_markscheme(row['text'])\n",
    "    print(markscheme)\n",
    "    markschemes.append(markscheme)\n",
    "\n",
    "df['markscheme'] = markschemes\n",
    "\n",
    "# Save the updated dataset\n",
    "df.to_csv(r\"C:\\Users\\smrit\\Work\\Kenpath\\zavmo-api\\docs\\rgcn\\ofqual_units_with_markscheme.csv\", index=False)"
   ]
  },
  {
   "cell_type": "code",
   "execution_count": 89,
   "metadata": {},
   "outputs": [
    {
     "data": {
      "text/plain": [
       "[{'bloom_taxonomy_level': 'Remember',\n",
       "  'criteria': ['Recall key information related to health and safety legislation and workplace procedures.',\n",
       "   'Identify different types of electric and electric/hybrid buses and coaches.'],\n",
       "  'key_verbs': ['list', 'identify', 'recall'],\n",
       "  'expectations': ['Learners should provide a list of relevant legislation and procedures without interpretation.',\n",
       "   'Learners should accurately enumerate types without explaining their differences.'],\n",
       "  'task': 'List the health and safety legislation and workplace procedures relating to working on electric and electric/hybrid buses and coaches.',\n",
       "  'benchmarking_responses': [('fail',\n",
       "    \"The response lacks detail and may only list one or two pieces of legislation, such as 'Health and Safety at Work Act' without further context or additional workplace procedures.\"),\n",
       "   ('pass_',\n",
       "    \"The response includes a basic list of several pieces of health and safety legislation such as 'Health and Safety at Work Act', 'Management of Health and Safety at Work Regulations', and mentions workplace procedures like 'Risk Assessment Procedures'. It identifies a few types of buses, including 'electric buses' and 'hybrid coaches', but lacks depth or clarity.\"),\n",
       "   ('merit',\n",
       "    \"The response provides a comprehensive list of relevant health and safety legislation including 'Health and Safety at Work Act', 'Electricity at Work Regulations', 'Management of Health and Safety at Work Regulations', 'Provision and Use of Work Equipment Regulations' and includes several workplace procedures such as 'Lockout/Tagout Procedures', 'Inspection Procedures'. It accurately names various types of electric buses and coaches including 'Fully Electric Bus', 'Plug-in Hybrid Coach', and 'Battery Electric Bus'.\"),\n",
       "   ('distinction',\n",
       "    \"The response presents an extensive and well-organized list of health and safety legislation like 'Health and Safety at Work Act', 'Electricity at Work Regulations', 'Management of Health and Safety at Work Regulations' along with detailed workplace procedures including 'Safe Working Procedures for Electrical Systems', 'Lockout/Tagout Procedures', and 'Emergency Response Procedures'. It effectively categorizes types of electric buses by saying 'Battery Electric Bus', 'Plug-in Hybrid Coach', and 'Fuel Cell Electric Bus', demonstrating a thorough understanding of the subject.\")]},\n",
       " {'bloom_taxonomy_level': 'Understand',\n",
       "  'criteria': ['Explain the dangers of working with high voltages and their implications.',\n",
       "   'Summarize safety requirements for working on electric and electric/hybrid buses.'],\n",
       "  'key_verbs': ['explain', 'summarize', 'describe'],\n",
       "  'expectations': ['Learners should demonstrate an understanding of hazards through thorough descriptions.',\n",
       "   'Learners should relate safety requirements to specific tasks.'],\n",
       "  'task': 'Describe the dangers associated with working with high voltages and the necessary safety requirements.',\n",
       "  'benchmarking_responses': [('fail',\n",
       "    'The dangers of working with high voltages are bad, and safety rules are needed. High voltages can hurt people. You should wear some protection, I think.'),\n",
       "   ('pass_',\n",
       "    'Working with high voltages can be dangerous because it can lead to electric shocks or even death. Electrical fires can happen as well. To be safe when working with electric and hybrid buses, you must wear personal protective equipment (PPE) like gloves, and follow rules to de-energize systems before working on them.'),\n",
       "   ('merit',\n",
       "    'High voltages pose significant dangers including electric shocks, burns, and the potential for fatal accidents. These dangers arise from contact with live wires and electrical arcs. Working specifically with electric and electric/hybrid buses requires safety measures such as wearing insulated gloves, using proper tools, and ensuring the equipment is de-energized and grounded before maintenance. Identifying and understanding these hazards helps prevent accidents.'),\n",
       "   ('distinction',\n",
       "    'The dangers associated with high voltages include severe electric shocks, burns, and the risk of fatality due to accidental contact with live electrical components. The consequences can extend beyond personal harm, potentially leading to vehicle malfunctions or electrical fires. For safe operation on electric and hybrid buses, it is imperative to adhere to stringent safety protocols. This includes performing lockout/tagout procedures, utilizing insulated tools, maintaining appropriate distances from live components, conducting thorough risk assessments before starting work, and wearing appropriate PPE, such as dielectric gloves and face shields, to minimize risk. An understanding of the implications of neglecting these safeguards is crucial for ensuring safety on the job.')]},\n",
       " {'bloom_taxonomy_level': 'Apply',\n",
       "  'criteria': ['Demonstrate the steps for safely isolating high voltage systems.',\n",
       "   'Apply knowledge to describe preparation steps for servicing electric buses.'],\n",
       "  'key_verbs': ['demonstrate', 'apply', 'execute'],\n",
       "  'expectations': ['Learners should apply knowledge to practical scenarios in a logical sequence.',\n",
       "   'Learners should connect theoretical knowledge to practical preparation tasks.'],\n",
       "  'task': 'Demonstrate how to prepare an electric bus for routine service and repair, ensuring safety is prioritized.',\n",
       "  'benchmarking_responses': [('fail',\n",
       "    'The response outlines a basic method of preparing an electric bus but lacks detail, failing to explain how to isolate high voltage systems safely. For example, it mentions turning off the power but does not specify further necessary steps or precautions. There is little connection to the practical aspects of service preparation.'),\n",
       "   ('pass_',\n",
       "    'The learner lists basic steps involved in preparing an electric bus, such as turning off the power and checking the battery levels. They mention the importance of safety but do not elaborate on isolating high voltage systems effectively. The response shows some understanding of the topic but lacks depth and logical structure in the sequence of tasks.'),\n",
       "   ('merit',\n",
       "    'The learner provides a solid account of preparing an electric bus for routine service. They detail steps like isolating high voltage systems by following lockout-tagout procedures, disconnecting the battery, and using personal protective equipment. The description connects well to practical tasks involved, such as checking system diagnostics and ensuring equipment safety before performing maintenance. The response demonstrates a clear understanding of both theoretical and practical aspects.'),\n",
       "   ('distinction',\n",
       "    'The response excellently outlines a comprehensive plan for preparing an electric bus for service, starting with the crucial steps of safely isolating high voltage systems using industry-standard lockout-tagout procedures. Each preparation step is logically sequenced, detailing how to conduct thorough safety checks, inspect critical components, and ensure proper documentation of service history. The response goes beyond basic requirements by introducing innovative safety measures and demonstrating an exceptional understanding of both safety protocols and maintenance procedures.')]},\n",
       " {'bloom_taxonomy_level': 'Analyze',\n",
       "  'criteria': ['Compare the functions of different battery types.',\n",
       "   'Analyze the risks associated with different vehicle power systems.'],\n",
       "  'key_verbs': ['compare', 'analyze', 'differentiate'],\n",
       "  'expectations': ['Learners should provide a comparative analysis highlighting differences and implications.',\n",
       "   'Learners should examine risks with detailed reasoning.'],\n",
       "  'task': 'Compare and contrast different types of batteries used in electric and electric/hybrid buses.',\n",
       "  'benchmarking_responses': [('fail',\n",
       "    'The response simply lists different types of batteries such as lithium-ion and lead-acid, without discussing their functions or the risks associated with them. There is no comparative analysis or detailed reasoning provided, primarily showing a lack of understanding of the topic.'),\n",
       "   ('pass_',\n",
       "    'The response identifies two types of batteries, lithium-ion and lead-acid. It states that lithium-ion batteries are more efficient than lead-acid batteries for electric buses, but does not fully explain their functions. The risks associated with lithium-ion batteries, like overheating, are mentioned, but only superficially. Overall, it meets basic expectations but lacks depth in analysis and reasoning.'),\n",
       "   ('merit',\n",
       "    'The response compares lithium-ion and lead-acid batteries, explaining that lithium-ion batteries offer higher energy density, longer life cycles, and are lighter, making them suitable for electric buses. It discusses the risks, including the potential for thermal runaway in lithium-ion batteries, while lead-acid batteries are heavier and less efficient, which presents operational challenges. Solid reasoning is given, but the comparative analysis could be more detailed in implications for hybrid systems.'),\n",
       "   ('distinction',\n",
       "    'The response provides a thorough comparison of lithium-ion and lead-acid batteries, detailing their functions such as energy density, life cycle, and weight advantages of lithium-ion batteries for electric buses. It critically examines the risks of thermal runaway in lithium-ion batteries, contrasting them with the environmental and weight disadvantages of lead-acid batteries. The implications of using these battery types in electric and hybrid buses are analyzed in depth, showing a comprehensive understanding of not just the technical differences but also how these impact vehicle performance and safety. Additionally, it considers newer battery technologies and their potential risks, demonstrating exceptional insight and creativity in analyzing current trends.')]},\n",
       " {'bloom_taxonomy_level': 'Evaluate',\n",
       "  'criteria': ['Assess the effectiveness of safety procedures in place for electric bus maintenance.',\n",
       "   'Evaluate the implications of not following safety guidelines.'],\n",
       "  'key_verbs': ['evaluate', 'assess', 'justify'],\n",
       "  'expectations': ['Learners should carry out reasoned judgments based on evidence.',\n",
       "   'Learners should demonstrate critical thinking regarding safety implications.'],\n",
       "  'task': 'Evaluate the current safety procedures for working on electric buses and provide recommendations for improvement.',\n",
       "  'benchmarking_responses': [('fail',\n",
       "    \"The current safety procedures for electric bus maintenance appear to be somewhat adequate, but there are probably many problems. It's important to follow guidelines, or else there might be accidents. I think we should look into better training for workers because it might help.\"),\n",
       "   ('pass_',\n",
       "    'The safety procedures for working on electric buses include regular training and specific maintenance rules. However, they seem to not cover all situations, such as emergencies. If these guidelines are not followed, there could be significant risks, like electric shocks or fires. Recommendations include enforcing strict adherence to these procedures and increasing the frequency of safety training.'),\n",
       "   ('merit',\n",
       "    'The current safety procedures, such as routine safety checks and staff training, have been effectively established to reduce the risks associated with electric bus maintenance. However, there are noticeable gaps, particularly in emergency protocols and incident response. Not adhering to these guidelines poses serious implications, including potential electric shock, fire hazards, and legal liabilities. To improve safety, I recommend a thorough review and update of training materials, regular safety drills, and the introduction of clear emergency response protocols.'),\n",
       "   ('distinction',\n",
       "    'The existing safety procedures for electric bus maintenance demonstrate a foundational commitment to employee safety; however, they are not entirely comprehensive. While preventive measures, like regular maintenance checks and ongoing training, are in place, there is a notable lack of protocols for high-risk scenarios such as battery malfunctions or fires. Not following these safety guidelines could lead to catastrophic outcomes, including severe injuries, loss of life, and can compromise public trust in the electric bus system. I recommend instituting a more robust training program that includes simulations for emergency situations, improved documentation of safety audits, and the appointment of a dedicated safety officer to oversee compliance and improvement initiatives. These changes would not only enhance worker safety but also protect the organization from potential operational disruptions.')]},\n",
       " {'bloom_taxonomy_level': 'Create',\n",
       "  'criteria': ['Design a safety checklist for servicing electric/hybrid buses.',\n",
       "   'Create an informative guide outlining best practices for electric bus maintenance.'],\n",
       "  'key_verbs': ['design', 'create', 'formulate'],\n",
       "  'expectations': ['Learners should show innovation and critical thinking in their designs.',\n",
       "   'Learners should use comprehensive knowledge to formulate guides.'],\n",
       "  'task': 'Create a guide that outlines best practices for the safe servicing of electric buses and coaches.',\n",
       "  'benchmarking_responses': [('fail',\n",
       "    'The safety checklist includes only basic elements such as checking tire pressure and fluid levels without considering any specific needs of electric buses. The guide lacks detail and does not mention any practices for electric bus maintenance, showing minimal effort to address the requirements of the task.'),\n",
       "   ('pass_',\n",
       "    'The safety checklist provides a few relevant items like checking battery connections, inspecting charging ports, and verifying safety equipment, but lacks comprehensiveness. The guide covers general maintenance practices like cleaning and checking for leaks without specific focus on electric bus features or guidelines.'),\n",
       "   ('merit',\n",
       "    'The safety checklist includes detailed items such as checking electrical systems, reviewing battery status, inspecting safety mechanisms, and conducting system diagnostic tests. The guide discusses best practices such as regular battery maintenance, using manufacturer-recommended tools, adhering to safety standards during charging, and includes a section on employee training for safety. It shows a solid application of knowledge.'),\n",
       "   ('distinction',\n",
       "    'The safety checklist comprehensively addresses all aspects of servicing electric buses, such as testing electrical systems, ensuring safety protocols during charging, maintaining battery health, and incorporating emergency procedures. The guide is well-structured, covering innovative maintenance practices, risk assessment, staff training modules, and includes diagrams to illustrate proper servicing techniques. It goes beyond expectations by incorporating industry research and case studies, demonstrating exceptional mastery in the subject.')]}]"
      ]
     },
     "execution_count": 89,
     "metadata": {},
     "output_type": "execute_result"
    }
   ],
   "source": [
    "markschemes[1]"
   ]
  },
  {
   "cell_type": "code",
   "execution_count": 13,
   "metadata": {},
   "outputs": [],
   "source": [
    "import pandas as pd\n",
    "df = pd.read_excel(r\"C:\\Users\\smrit\\Downloads\\NOS & OFQUAL\\ofqual_energy_units_with_markscheme.xlsx\")\n",
    "\n"
   ]
  },
  {
   "cell_type": "code",
   "execution_count": null,
   "metadata": {},
   "outputs": [],
   "source": []
  }
 ],
 "metadata": {
  "kernelspec": {
   "display_name": "base",
   "language": "python",
   "name": "python3"
  },
  "language_info": {
   "codemirror_mode": {
    "name": "ipython",
    "version": 3
   },
   "file_extension": ".py",
   "mimetype": "text/x-python",
   "name": "python",
   "nbconvert_exporter": "python",
   "pygments_lexer": "ipython3",
   "version": "3.11.4"
  }
 },
 "nbformat": 4,
 "nbformat_minor": 4
}
