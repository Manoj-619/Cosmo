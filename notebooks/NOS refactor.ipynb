{
 "cells": [
  {
   "cell_type": "code",
   "execution_count": 1,
   "id": "7fee47a8-53b3-4bcd-8f9b-b05ce27c8580",
   "metadata": {},
   "outputs": [],
   "source": [
    "import os\n",
    "\n",
    "dir_path = r\"C:\\Users\\Aditya\\Github\\zavmo\\zavmo-api\\zavmo\"\n",
    "os.chdir(dir_path)"
   ]
  },
  {
   "cell_type": "code",
   "execution_count": 22,
   "id": "f92f0849-264c-4b0c-ba33-c525db6a05ed",
   "metadata": {},
   "outputs": [
    {
     "data": {
      "text/plain": [
       "True"
      ]
     },
     "execution_count": 22,
     "metadata": {},
     "output_type": "execute_result"
    }
   ],
   "source": [
    "import pandas as pd\n",
    "import numpy as np\n",
    "from dotenv import load_dotenv\n",
    "load_dotenv(override=True)"
   ]
  },
  {
   "cell_type": "code",
   "execution_count": 3,
   "id": "de1e974c-6397-4a19-b80c-baa15e39dc6f",
   "metadata": {},
   "outputs": [],
   "source": [
    "#path = r\"C:\\Users\\Aditya\\GitHub\\zavmo\\zavmo-api\\docs\\nos-ofqual\\parsed_nos_data.xlsx\"\n",
    "path = r\"C:\\Users\\Aditya\\GitHub\\zavmo\\zavmo-api\\docs\\nos-ofqual\\parsed_nos2.xlsx\""
   ]
  },
  {
   "cell_type": "code",
   "execution_count": 4,
   "id": "0a950fd2-f7c5-4ec6-8ace-98865753ca69",
   "metadata": {},
   "outputs": [],
   "source": [
    "data = pd.read_excel(path)"
   ]
  },
  {
   "cell_type": "code",
   "execution_count": 5,
   "id": "b5d958aa-125d-4516-bc79-950fa8b01689",
   "metadata": {},
   "outputs": [],
   "source": [
    "def combine_text(df):\n",
    "    nos_id   = df['nos_id'].unique()[0]\n",
    "    title    = df['title'].unique()[0]\n",
    "    industry = df['industry'].unique()[0]\n",
    "    text     = f\"Document Name: {nos_id}\\nIndustry: {industry}\\nTitle: {title}\\n\"\n",
    "    text    += '\\n'.join([f\"**{row['type']}**: {row['text']}\" for idx, row in df.iterrows()])\n",
    "    return text"
   ]
  },
  {
   "cell_type": "code",
   "execution_count": 12,
   "id": "bd1b71b8-388a-4a7a-ba68-97f491d7eb4a",
   "metadata": {},
   "outputs": [],
   "source": [
    "from helpers.chat import get_openai_embedding, get_batch_openai_embedding\n",
    "from sklearn.metrics.pairwise import cosine_similarity"
   ]
  },
  {
   "cell_type": "code",
   "execution_count": 13,
   "id": "dd022343-b436-4df1-9fa9-550454c0f743",
   "metadata": {},
   "outputs": [],
   "source": [
    "query = \"Energy Compliance Consultant, Compliance Department, Energy and Gas Industry\""
   ]
  },
  {
   "cell_type": "code",
   "execution_count": 28,
   "id": "fe81335f-7518-4516-8454-88ccca7ee8d7",
   "metadata": {},
   "outputs": [],
   "source": [
    "query = \"\"\"\n",
    "Energy Compliance Consultant, Compliance Department, Energy and Gas Industry.\n",
    "\n",
    "Functional/Technical Skills:\n",
    "▪ Effective communicator in both written and verbal communictions, including\n",
    "ability to propose practical actions and tailor communications to a variety of\n",
    "levels of stakeholder (including senior management and the Board).\n",
    "▪ Confident in absorbing and manipulating information/data, from multiple\n",
    "sources (and multiple formats, e.g Microsoft Excel, PowerBI, operational\n",
    "systems), to drive Assurance insight, review conclusions and proportionate\n",
    "actions.\n",
    "▪ Able to understand, identify and clearly articulate risks and controls arising in\n",
    "relation to a wide range of issues, with a particular focus on conduct risk and\n",
    "customer outcomes, and ability to design testing activities in line with the\n",
    "department methodology.\n",
    "▪ Robust and independent mindset with the confidence to raise issues\n",
    "appropriately.\n",
    "▪ Advanced level stakeholder skills and comfortable dealing with all grades of\n",
    "colleague.\n",
    "▪ Able to work effectively individually and as part of a team to deliver to tight\n",
    "deadlines.\n",
    "\n",
    "Education and Certifications:\n",
    " ▪ Demonstrable experience of compliance activity within a regulatory sector\n",
    "and/or educated to degree standard (Law or Economics degree preferable)\n",
    "with aspiration to work in a high performing compliance function.\n",
    "\n",
    "Competencies:\n",
    "▪ Demonstrable experience of working in a regulated environment and\n",
    "understanding of the energy supply regulatory framework.\n",
    "▪ Credibility to build relationships with a variety of internal stakeholders and\n",
    "influence accordingly.\n",
    "▪ Experience in multi-tasking, being able to navigate complex tasks & prioritise\n",
    "effectively.\n",
    "▪ Developing close ‘trusted adviser’ relationships with key business leaders.\n",
    "▪ Wins hearts and minds across the business and inspires others to act for the\n",
    "betterment of our business and its customers.\n",
    "▪ Proven oral and written communication skills with the ability to explain\n",
    "complex compliance requirements and prove pragmatic advice to stakeholders.\n",
    "▪ Engage with stakeholders in an open, honest, and productive manner to\n",
    "promote collaborative working.\n",
    "▪ Effectively manage stakeholders and senior management during meetings by\n",
    "adapting the style of communication to suit the situation and the individual.\"\"\""
   ]
  },
  {
   "cell_type": "code",
   "execution_count": 29,
   "id": "b93757cf-3337-4864-83b5-b7bc72b8895e",
   "metadata": {},
   "outputs": [],
   "source": [
    "qv = get_openai_embedding(query)"
   ]
  },
  {
   "cell_type": "code",
   "execution_count": 30,
   "id": "de4f83a0-b667-47ad-a05a-02afed43d12d",
   "metadata": {},
   "outputs": [],
   "source": [
    "nos_doc = \"\"\"NOS ID: **FSPCOMP1**\n",
    "- **Industry:** Compliance  \n",
    "- **Title:** Identify the requirements of legislation and regulations for the business conducted by your organisation  \n",
    "- **Overview:** This NOS outlines identifying regulatory bodies, assessing the impact of legislation on organizational policies, determining compliance requirements, and reporting findings to appropriate stakeholders.  \n",
    "- **Performance Criteria:**  \n",
    "  1. Identify applicable regulatory bodies and relevant legislation.  \n",
    "  2. Assess the impact of regulations on organizational policies.  \n",
    "  3. Determine compliance requirements and necessary resources.  \n",
    "  4. Report compliance assessments to relevant stakeholders.  \n",
    "\n",
    "- **Knowledge & Understanding Required:**  \n",
    "  1. Legal and regulatory frameworks relevant to the organization.  \n",
    "  2. Compliance and resourcing implications.  \n",
    "  3. Consequences of non-compliance.  \n",
    "  4. Impact of regulations on different business functions.  \n",
    "\n",
    "- **Keywords:** Legislation, Regulations, Compliance, Non-compliance, Governance, Strategy.  \n",
    "- **Relevant Roles:** Finance Managers, Compliance Officers, Regulatory Specialists.\n",
    "\"\"\""
   ]
  },
  {
   "cell_type": "code",
   "execution_count": 31,
   "id": "18bb8c30-a0d7-47ae-8d92-742b298aa574",
   "metadata": {},
   "outputs": [],
   "source": [
    "nos_vec = get_openai_embedding(nos_doc)"
   ]
  },
  {
   "cell_type": "code",
   "execution_count": 32,
   "id": "c984485f-26fa-4350-bdae-be85416af959",
   "metadata": {},
   "outputs": [],
   "source": [
    "qv_reshaped = np.array(qv).reshape(1, -1)\n",
    "nos_vec_reshaped = np.array(nos_vec).reshape(1, -1)\n",
    "\n",
    "# Compute cosine similarity\n",
    "similarity = cosine_similarity(qv_reshaped, nos_vec_reshaped)"
   ]
  },
  {
   "cell_type": "code",
   "execution_count": 33,
   "id": "dcf12b1c-a6f0-4f2c-9da0-21e918dd154e",
   "metadata": {},
   "outputs": [
    {
     "data": {
      "text/plain": [
       "array([[0.53332771]])"
      ]
     },
     "execution_count": 33,
     "metadata": {},
     "output_type": "execute_result"
    }
   ],
   "source": [
    "similarity"
   ]
  },
  {
   "cell_type": "code",
   "execution_count": null,
   "id": "e4fc8d1c-845b-445d-80d2-9a22571a2d63",
   "metadata": {},
   "outputs": [],
   "source": []
  },
  {
   "cell_type": "code",
   "execution_count": null,
   "id": "c24c6ad1-24eb-410b-9ed6-2b28ca1a496c",
   "metadata": {},
   "outputs": [],
   "source": []
  },
  {
   "cell_type": "code",
   "execution_count": null,
   "id": "c1f017fd-88fb-48b2-a920-70185f23d69a",
   "metadata": {},
   "outputs": [],
   "source": []
  },
  {
   "cell_type": "code",
   "execution_count": null,
   "id": "a54e3fd4-16d6-4ea0-8191-57d640f448f5",
   "metadata": {},
   "outputs": [],
   "source": []
  },
  {
   "cell_type": "code",
   "execution_count": null,
   "id": "c5c036fa-4702-4434-b3e9-4d2f21dbb3b7",
   "metadata": {},
   "outputs": [],
   "source": []
  },
  {
   "cell_type": "code",
   "execution_count": null,
   "id": "2c3161f7-18cc-4edc-80b5-b98b2b0e8df9",
   "metadata": {},
   "outputs": [],
   "source": []
  },
  {
   "cell_type": "code",
   "execution_count": null,
   "id": "8947f535-0da2-48ae-b855-50715da94703",
   "metadata": {},
   "outputs": [],
   "source": []
  }
 ],
 "metadata": {
  "kernelspec": {
   "display_name": "Python 3 (ipykernel)",
   "language": "python",
   "name": "python3"
  },
  "language_info": {
   "codemirror_mode": {
    "name": "ipython",
    "version": 3
   },
   "file_extension": ".py",
   "mimetype": "text/x-python",
   "name": "python",
   "nbconvert_exporter": "python",
   "pygments_lexer": "ipython3",
   "version": "3.11.9"
  },
  "widgets": {
   "application/vnd.jupyter.widget-state+json": {
    "state": {},
    "version_major": 2,
    "version_minor": 0
   }
  }
 },
 "nbformat": 4,
 "nbformat_minor": 5
}
