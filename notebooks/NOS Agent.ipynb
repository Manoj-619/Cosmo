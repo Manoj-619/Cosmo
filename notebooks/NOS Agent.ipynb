{
 "cells": [
  {
   "cell_type": "code",
   "execution_count": 1,
   "id": "c14e2191-5d7b-45db-bf18-090999cf1938",
   "metadata": {},
   "outputs": [],
   "source": [
    "import os\n",
    "import sys\n",
    "dir_path = r\"/Users/cosmodenny/zavmo-api/zavmo\"\n",
    "os.chdir(dir_path)\n",
    "# Get the absolute path to the zavmo-api directory\n",
    "zavmo_api_path = \"/Users/cosmodenny/zavmo-api\"\n",
    "sys.path.append(zavmo_api_path)"
   ]
  },
  {
   "cell_type": "code",
   "execution_count": 2,
   "id": "048a659a-48f5-4a03-be8d-f5739be7a377",
   "metadata": {},
   "outputs": [
    {
     "data": {
      "text/plain": [
       "True"
      ]
     },
     "execution_count": 2,
     "metadata": {},
     "output_type": "execute_result"
    }
   ],
   "source": [
    "import random\n",
    "import numpy as np\n",
    "from IPython.display import Markdown\n",
    "from dotenv import load_dotenv\n",
    "load_dotenv(override=True)"
   ]
  },
  {
   "cell_type": "code",
   "execution_count": 3,
   "id": "0ab55fbb",
   "metadata": {},
   "outputs": [
    {
     "data": {
      "text/plain": [
       "'/Users/cosmodenny/zavmo-api/zavmo'"
      ]
     },
     "execution_count": 3,
     "metadata": {},
     "output_type": "execute_result"
    }
   ],
   "source": [
    "import os\n",
    "os.getcwd()"
   ]
  },
  {
   "cell_type": "code",
   "execution_count": 4,
   "id": "0f46e163-12f6-4cff-8746-5e8a57471456",
   "metadata": {},
   "outputs": [
    {
     "name": "stderr",
     "output_type": "stream",
     "text": [
      "/Users/cosmodenny/zavmo-api/.venv/lib/python3.13/site-packages/pinecone/data/index.py:1: TqdmWarning: IProgress not found. Please update jupyter and ipywidgets. See https://ipywidgets.readthedocs.io/en/stable/user_install.html\n",
      "  from tqdm.autonotebook import tqdm\n",
      "2025-02-18 16:03:59,489 - INFO - Discovering subpackages in _NamespacePath(['/Users/cosmodenny/zavmo-api/.venv/lib/python3.13/site-packages/pinecone_plugins'])\n",
      "2025-02-18 16:03:59,489 - INFO - Looking for plugins in pinecone_plugins.inference\n",
      "2025-02-18 16:03:59,495 - INFO - Installing plugin inference into Pinecone\n"
     ]
    }
   ],
   "source": [
    "from helpers.chat import get_openai_embedding, get_batch_openai_embedding, get_openai_completion, get_prompt\n",
    "from helpers.swarm import run_step\n",
    "from helpers.agents.nos import get_nos_agent, search_nos_documents"
   ]
  },
  {
   "cell_type": "code",
   "execution_count": 6,
   "id": "fcfd278b-5cf7-4010-b537-67668b03a9ad",
   "metadata": {},
   "outputs": [],
   "source": [
    "nos_agent = get_nos_agent()"
   ]
  },
  {
   "cell_type": "code",
   "execution_count": 7,
   "id": "a1151efb-c5d0-4d94-b98b-1227f5b8fea8",
   "metadata": {},
   "outputs": [],
   "source": [
    "messages = [\n",
    "    {\n",
    "        \"role\":\"user\",\n",
    "        \"content\":\"\"\" Group Head of Ethics\n",
    "Key accountabilities are:\n",
    "\t•\tAccountable to the Board Committees (SESC and Audit) and CLT for the Group-wide Ethics & Compliance programme, including Our Code, Speak Up, Investigations and Registers \n",
    "\t•\tLead Centrica’s global Ethics & Compliance Programme with regards to Our Code; Gifts & Hospitality; Conflicts of Interests; Speak Up \n",
    "\t•\tEnhance awareness of E&C Programme by developing initiatives to build an ethical culture\n",
    "\t•\tMaintain responsibility for the delivery of the global E&C Programme elements \n",
    "\t•\tManage the processes for reporting on all aspects of the E&C Programme in all formats\n",
    "\t•\tAnalyse trends and data to create positive changes to the E&C Programme and other functional activities\n",
    "Lead development of an Ethical Culture across Centrica including embedding of Centrica Values\n",
    "Key Accountabilities of the role\n",
    "Identify the six to eight main things the job holder must do to make sure the main purpose is met. The things and/or services which need to be provided. Ensure each accountability states what is done, to what/whom and with what outcome (e.g., prepare, monitor, control…the annual departmental budget…ensure expenditure is in line with the business plan).\n",
    "This role is responsible for the following areas:\n",
    "\t•\tGroup Ethics and Compliance programme\n",
    "\t•\tAccountable for all Ethics & Compliance Standards and Guidance documents and processes including the creation, maintenance and delivery of associated training and assurance activities\n",
    "\t•\tAccountable for the management of Speak Up including triaging of cases, conducting independent investigations, action tracking and reporting\n",
    "\t•\tAccountable for manging Our Code including updating and improving Our Code, updating training to reflect the Group’s needs and reporting\n",
    "\t•\tAccountable of manging and maintain the Group’s Conflict and Gifts & Hospitality registers including updating functionality, user access and management and reporting\n",
    "\t•\tResponsible for delivery and maintenance of all facets of the E&C Programme, including: global Speak Up process, G&H process, CoI process, Our Code maintenance; annual Code training, E&C comms, training and interventions, reporting, and E&C programme assessment\n",
    "\t•\tResponsible for the design and implementation of an E&C Programme Assessment to be conducted across all Business Units and Functions as well as at Group level\n",
    "\t•\tResponsible for the ownership of all standards, policies and procedures related to all facts of the E&C Programme as mentioned, including intranet pages, dilemma cards and all other information sources. Ownership activities include periodic updates to align with global ways of working\n",
    "\t•\tAccountable for embedding the E&C Programme by way of design and delivery of refreshed comms, awareness, brand and image campaigns\n",
    "Management of direct reports who manage the day to day running of the E&C Programme\n",
    "Key Stakeholders\n",
    "Identify the key stakeholders the job holder interacts with to fulfil their role (e.g., manager, peers within and outside immediate team, subordinates, clients/customers, suppliers,). Ensure each key stakeholder states the type of contact (e.g., telephone, face-to-face, email, meetings), the typical reason for contact (e.g., obtain information, give advice, sell, influence, motivate, develop), and the frequency of the contact (e.g., daily, weekly, monthly).\n",
    "Internal\n",
    "\t•\tGroup General Counsel and Company Secretary\n",
    "\t•\tBoard Members and CLT\n",
    "\t•\tBU General Counsels\n",
    "\t•\tSenior leadership across a of a variety of Group functions and BUs\n",
    "\t•\tAll members of Legal, Regulatory and Ethics & Compliance teams\n",
    "Will need to engage effectively with other support functions (e.g. DTS, Finance & HR) to ensure effectively delivery of high-quality services. \n",
    "\n",
    "Will need to ensure effective engagement with relevant stakeholders at all levels (internal and external) to ensure that objectives and priorities are aligned and to ensure that strong relationships are built\n",
    "\n",
    "Leadership Team Membership \n",
    "Describe any Leadership Team Membership (e.g., CLT, S&S LT, Group HRLT etc.,) if applicable.\n",
    "Leadership and Relationship Building:\n",
    "\t•\tDemonstrable leadership ability – ability to manage a high performing team with a true focus on “value added” and ability to direct and motivate others\n",
    "\t•\tProven ability to establish a high level of professional and personal credibility at a senior level – internally and externally and to have the personal integrity to challenge where appropriate\n",
    "\t•\tPro-active and energetic style which inspires confidence in colleagues/stakeholders and seeks to continually improve, seek out new ways to deliver value and to support the business objectives\n",
    "\t•\tCreates and maintains a collaborative team that provides timely, efficient and effective support to his/her business units.\n",
    "\t•\tStrong communicator who translates matters into concise and credible messages.\n",
    "\t•\tSuperior listener who is persuasive, poised and articulate.\n",
    "\t•\tTrue collaborator who maintains a balanced view of the business and can effectively push back on all levels of management, providing candid and honest assessments.\n",
    "\t•\tComfortable in working across a matrix organisation and leading or participating in multi skilled teams across different BUs to deliver the best outcome for Centrica\n",
    "\t•\tAbility to manage cultural sensitivities effectively for the Group and an ability in particular to deal with challenges of managing a global team and to create cohesion among a group who are not co located\n",
    "\t•\tClear understanding and absolute adherence to ethical principles, company values, code of conduct and policies.\n",
    "Core technical skills:\n",
    "\t•\tEffective written and verbal communication, particularly expressing complex concepts in plain and simple language\n",
    "\t•\tPragmatic, solutions-focused approach to complex challenges\n",
    "\t•\tExcellent command of MS Office, particularly MSExcel, MSWord, MS Powerpoint, SharePoint, PowerBi etc, and other MI/project management systems\n",
    "\t•\tWorking knowledge of HSES management, audits and cultural drivers\n",
    "\t•\tExperienced in risk, control and assurance  \n",
    "\n",
    "\n",
    "Required Knowledge, Skills & Experience\n",
    "Work Experience & Functional/Technical Skills required \n",
    "Describe the experience and skills necessary to perform the role effectively. How much work experience is necessary? What key technical/functional skills or specific business knowledge is necessary? \n",
    "• Proven ability to:\n",
    "\t•\tAbility to lead teams of varying disciplines and creating a collaborative and delivery-based culture\n",
    "\t•\tAbility to deliver key messages and work with the Executive team (CLT) and Board Members\n",
    "\t•\tDetailed understanding and experience in leading and delivery of Ethics & compliance programmes – including Code of Conduct, Whistleblowing, etc\n",
    "\t•\tLead, shape and deliver change programmes\n",
    "\t•\tManage end to end processes and consistently work to improve these and deliver excellence\n",
    "\t•\tLead and implement governance processes \n",
    "\t•\tManage and improve performance through the use of MI and KPIs\n",
    "\t•\tWork with conflicting priorities/opinions and influence and lead to a conclusion \n",
    "\t•\tManage a diverse group of stakeholders in a dynamic, fast-paced environment\n",
    "\t•\tPrioritise and manage multiple high value projects to successful completion\n",
    "\t•\tInfluence at the most senior levels, securing buy-in of key stakeholders and budget allocation required to deliver the role\n",
    "\t•\tProven organisational skills, including effective and successful project management\n",
    "\t•\tExcellent verbal and written communication skills and a strong customer focused orientation\n",
    "\t•\tGood understanding of accounting and financial practices.\n",
    "\n",
    "Education and Certifications required to perform the role\n",
    "Identify the level of education or certifications necessary to perform the role effectively (e.g., level and subject of university degree, technical certification, project management certification).\n",
    "Educated to at least degree level or equivalent \n",
    "Circa. 10+ year professional experience in leading teams and delivering Business Ethics programmes\n",
    "• Proven ability to:\n",
    "\t•\tAbility to lead teams of varying disciplines and creating a collaborative and delivery-based culture\n",
    "\t•\tAbility to deliver key messages and work with the Executive team (CLT) and Board Members\n",
    "\t•\tDetailed understanding and experience in leading and delivery of Ethics & compliance programmes – including Code of Conduct, Whistleblowing, etc\n",
    "\t•\tLead, shape and deliver change programmes\n",
    "\t•\tManage end to end processes and consistently work to improve these and deliver excellence\n",
    "\t•\tLead and implement governance processes \n",
    "\t•\tManage and improve performance through the use of MI and KPIs\n",
    "\t•\tWork with conflicting priorities/opinions and influence and lead to a conclusion \n",
    "\t•\tManage a diverse group of stakeholders in a dynamic, fast-paced environment\n",
    "\t•\tPrioritise and manage multiple high value projects to successful completion\n",
    "\t•\tInfluence at the most senior levels, securing buy-in of key stakeholders and budget allocation required to deliver the role\n",
    "\t•\tProven organisational skills, including effective and successful project management\n",
    "\t•\tExcellent verbal and written communication skills and a strong customer focused orientation\n",
    "\t•\tGood understanding of accounting and financial practices.\n",
    "\n",
    "\n",
    "\n",
    "\n",
    "\n",
    "\n",
    "\n",
    "Key Competencies/Core Capabilities required to perform the role\n",
    "Describe key behavioural competencies and core capabilities necessary to perform the role effectively (e.g., teamwork, customer focused, working with ambiguity, agility, planning).\n",
    "Leadership and Relationship Building:\n",
    "\t•\tDemonstrable leadership ability – ability to manage a high performing team with a true focus on “value added” and ability to direct and motivate others\n",
    "\t•\tProven ability to establish a high level of professional and personal credibility at a senior level – internally and externally and to have the personal integrity to challenge where appropriate\n",
    "\t•\tPro-active and energetic style which inspires confidence in colleagues/stakeholders and seeks to continually improve, seek out new ways to deliver value and to support the business objectives\n",
    "\t•\tCreates and maintains a collaborative team that provides timely, efficient and effective support to his/her business units.\n",
    "\t•\tStrong communicator who translates matters into concise and credible messages.\n",
    "\t•\tSuperior listener who is persuasive, poised and articulate.\n",
    "\t•\tTrue collaborator who maintains a balanced view of the business and can effectively push back on all levels of management, providing candid and honest assessments.\n",
    "\t•\tComfortable in working across a matrix organisation and leading or participating in multi skilled teams across different BUs to deliver the best outcome for Centrica\n",
    "\t•\tAbility to manage cultural sensitivities effectively for the Group and an ability in particular to deal with challenges of managing a global team and to create cohesion among a group who are not co located\n",
    "\t•\tClear understanding and absolute adherence to ethical principles, company values, code of conduct and policies.\n",
    "Core technical skills:\n",
    "\t•\tEffective written and verbal communication, particularly expressing complex concepts in plain and simple language\n",
    "\t•\tPragmatic, solutions-focused approach to complex challenges\n",
    "\t•\tExcellent command of MS Office, particularly MSExcel, MSWord, MS Powerpoint, SharePoint, PowerBi etc, and other MI/project management systems\n",
    "\t•\tWorking knowledge of HSES management, audits and cultural drivers\n",
    "\t•\tExperienced in risk, control and assurance  \n",
    "\n",
    "\n",
    "Job Impact\n",
    "Strategic Input\n",
    "Long-Term (sets strategic direction over 3+ years)\n",
    "People Management\n",
    "Please indicate whether this role has people management responsibilities and the type of jobs managed by the jobholder. \n",
    "\n",
    "\t•\tManagement Direct Reports: Is this role a ‘Manager of Managers’? If yes, please state how many Managers there are reporting into this role.\n",
    "\t•\tDirect Reports: Is this role a ‘Manager of People’? If yes, please indicate how many people report into this role that are not managers themselves. \n",
    "\t•\tWhat is the total organisation size below this role (i.e., everyone that reports into this role, plus everyone that reports into those roles and so on down the organisational structure)\n",
    "\"\"\"\n",
    "    }\n",
    "]"
   ]
  },
  {
   "cell_type": "code",
   "execution_count": 10,
   "id": "a18eb34d-2f68-43d7-9afe-610278e045a0",
   "metadata": {
    "scrolled": true
   },
   "outputs": [
    {
     "name": "stderr",
     "output_type": "stream",
     "text": [
      "2025-02-18 16:08:23,517 - INFO - Running step 1 with agent NOS Selection Agent\n",
      "2025-02-18 16:08:23,518 - INFO - Logging from fetch_agent response\n",
      "2025-02-18 16:08:26,739 - INFO - Executing tool: LongReasoningTool with args: {'observations': ['The learner is the Group Head of Ethics at Centrica, responsible for the Ethics & Compliance programme.', 'The role involves leadership and management of ethics and compliance, including maintaining and enhancing the programme.', \"Key functions include managing 'Our Code,' 'Speak Up,' and the compliance elements around conflicts, gifts, and hospitality.\", 'The learner must cultivate an ethical culture, align with global practices, and manage stakeholders at senior levels.', 'The role involves strategic planning and implementation of ethical standards and processes globally.', 'The learner needs to possess strong leadership, communication, and programme management skills.'], 'decision': 'The learner specializes in ethics and compliance management across a global enterprise, focusing on the development and execution of standards and frameworks. Keywords for the query should include: Ethics Management, Compliance Programmes, Governance, Ethical Culture, Leadership in Ethics, Code of Conduct, and Whistleblowing.'}\n",
      "2025-02-18 16:08:26,742 - INFO - Running step 2 with agent NOS Selection Agent\n",
      "2025-02-18 16:08:26,743 - INFO - Logging from fetch_agent response\n",
      "2025-02-18 16:08:31,728 - INFO - Executing tool: search_nos_documents with args: {'query': 'Ethics Management and Compliance Programmes, Governance'}\n",
      "2025-02-18 16:08:32,555 - INFO - Discovering subpackages in _NamespacePath(['/Users/cosmodenny/zavmo-api/.venv/lib/python3.13/site-packages/pinecone_plugins'])\n",
      "2025-02-18 16:08:32,557 - INFO - Looking for plugins in pinecone_plugins.inference\n",
      "2025-02-18 16:08:33,903 - INFO - Executing tool: search_nos_documents with args: {'query': 'Ethics Management, Code of Conduct, Whistleblowing, Leadership in Ethics'}\n",
      "2025-02-18 16:08:34,476 - INFO - Discovering subpackages in _NamespacePath(['/Users/cosmodenny/zavmo-api/.venv/lib/python3.13/site-packages/pinecone_plugins'])\n",
      "2025-02-18 16:08:34,477 - INFO - Looking for plugins in pinecone_plugins.inference\n",
      "2025-02-18 16:08:35,685 - INFO - Executing tool: search_nos_documents with args: {'query': 'Ethical Culture Building, Compliance Programmes Strategic Management'}\n",
      "2025-02-18 16:08:36,212 - INFO - Discovering subpackages in _NamespacePath(['/Users/cosmodenny/zavmo-api/.venv/lib/python3.13/site-packages/pinecone_plugins'])\n",
      "2025-02-18 16:08:36,214 - INFO - Looking for plugins in pinecone_plugins.inference\n",
      "2025-02-18 16:08:37,582 - INFO - Running step 3 with agent NOS Selection Agent\n",
      "2025-02-18 16:08:37,583 - INFO - Logging from fetch_agent response\n",
      "2025-02-18 16:08:44,416 - INFO - Executing tool: LongReasoningTool with args: {'observations': ['The search yielded multiple NOS documents related to compliance and ethics management.', 'Several NOS documents focused on legal and ethical compliance, including their development and implementation within organizations.', 'Some NOS documents specifically addressed the creation of an ethical culture and strategies to instill ethics and compliance across organizations.', 'The role and responsibilities in these NOS documents align with the Group Head of Ethics’ needs, such as overseeing compliance policies, managing stakeholder communications, and building an ethical culture.', 'The NOS documents cover relevant sectors, such as Management and Leadership, Compliance, and Governance, which align with the necessity to manage and embed ethics across a global organization.'], 'decision': \"Several NOS documents align with the learner's responsibilities. Key selections include:\\n1. INSML013 - Focuses on ensuring compliance with legal, regulatory, ethical, and social requirements, relevant for overseeing compliance policies.\\n2. FSPCOMP7 - Addresses developing a compliance culture, crucial for promoting an global ethical culture.\\n3. CFAGOR2 - Emphasizes setting and instilling the right culture throughout the organization, essential for embedding Centrica’s values globally.\"}\n",
      "2025-02-18 16:08:44,418 - INFO - Running step 4 with agent NOS Selection Agent\n",
      "2025-02-18 16:08:44,418 - INFO - Logging from fetch_agent response\n",
      "2025-02-18 16:08:47,316 - INFO - Executing tool: finalize_nos with args: {'selected_nos': [{'reason': 'Focuses on ensuring compliance with legal, regulatory, ethical, and social requirements, relevant for overseeing compliance policies.', 'nos_id': 'INSML013'}, {'reason': 'Addresses developing a compliance culture, crucial for promoting a global ethical culture.', 'nos_id': 'FSPCOMP7'}, {'reason': 'Emphasizes setting and instilling the right culture throughout the organization, essential for embedding Centrica’s values globally.', 'nos_id': 'CFAGOR2'}]}\n",
      "2025-02-18 16:08:47,318 - INFO - Stopping agent chain\n",
      "2025-02-18 16:08:47,318 - INFO - Number of turns: 3\n"
     ]
    }
   ],
   "source": [
    "res = run_step(nos_agent, messages,context={})"
   ]
  },
  {
   "cell_type": "code",
   "execution_count": 11,
   "id": "d37406fb-6b10-429f-8e7f-f3a7f30477e0",
   "metadata": {},
   "outputs": [
    {
     "name": "stdout",
     "output_type": "stream",
     "text": [
      "Selected NOS documents:\n",
      "NOS ID: INSML013\n",
      "Reason: Focuses on ensuring compliance with legal, regulatory, ethical, and social requirements, relevant for overseeing compliance policies.\n",
      "\n",
      "NOS ID: FSPCOMP7\n",
      "Reason: Addresses developing a compliance culture, crucial for promoting a global ethical culture.\n",
      "\n",
      "NOS ID: CFAGOR2\n",
      "Reason: Emphasizes setting and instilling the right culture throughout the organization, essential for embedding Centrica’s values globally.\n",
      "\n",
      "\n"
     ]
    }
   ],
   "source": [
    "print(res.messages[-1]['content'])"
   ]
  },
  {
   "cell_type": "markdown",
   "id": "36a675b3",
   "metadata": {},
   "source": [
    "Selected NOS documents:\n",
    "NOS ID: CFAGOR6\n",
    "Reason: Focuses on monitoring organisational compliance, internal controls, and governance, which aligns with the learner's responsibility in managing the Group-wide Ethics & Compliance programme.\n",
    "\n",
    "NOS ID: INSML013\n",
    "Reason: Delves into ensuring organizations comply with ethical standards, similar to the learner's task in managing and ensuring adherence to Centrica's 'Our Code'.\n",
    "\n",
    "NOS ID: CFAGOR2\n",
    "Reason: Emphasizes instilling a culture that supports risk management through decision-making and accountability, aligning with the learner's goal of cultivating an ethical culture within Centrica.\n",
    "\n",
    "NOS ID: INSML009\n",
    "Reason: Focuses on developing organizational values and culture, pertinent to the learner's responsibility in embedding Centrica values and ethical culture.\n",
    "\n",
    "NOS ID: FSPAML1\n",
    "Reason: Concerns developing a compliance-oriented culture, similar to the learner's focus on creating a robust ethics and compliance environment at Centrica.\n",
    "\n",
    "NOS ID: FSPCOMP7\n",
    "Reason: Addresses developing a compliance culture, crucial for promoting a global ethical culture."
   ]
  },
  {
   "cell_type": "code",
   "execution_count": null,
   "id": "8a19c24d-a80d-4cb2-a6d3-8b66429f19d3",
   "metadata": {},
   "outputs": [],
   "source": []
  },
  {
   "cell_type": "code",
   "execution_count": null,
   "id": "bc00e254-c11e-499f-8c32-ae53dc8b4612",
   "metadata": {},
   "outputs": [],
   "source": []
  },
  {
   "cell_type": "code",
   "execution_count": null,
   "id": "2fc95cb1-1a1b-410d-9383-5c86444f8389",
   "metadata": {},
   "outputs": [],
   "source": []
  },
  {
   "cell_type": "code",
   "execution_count": null,
   "id": "e98f80dd-5119-4e8a-af50-a24cd5d33312",
   "metadata": {},
   "outputs": [],
   "source": []
  },
  {
   "cell_type": "code",
   "execution_count": null,
   "id": "743141a9-5274-43ca-a113-86ca8d502be8",
   "metadata": {},
   "outputs": [],
   "source": []
  },
  {
   "cell_type": "code",
   "execution_count": null,
   "id": "32f811fa-e6bd-41c2-8fd5-a47237272403",
   "metadata": {},
   "outputs": [],
   "source": []
  },
  {
   "cell_type": "code",
   "execution_count": null,
   "id": "d8a7e51b-006e-44d9-98e0-aa139e6284b2",
   "metadata": {},
   "outputs": [],
   "source": []
  },
  {
   "cell_type": "code",
   "execution_count": null,
   "id": "3cbc1cce-10e5-4ab7-8ac8-e437c91d54bd",
   "metadata": {},
   "outputs": [],
   "source": []
  }
 ],
 "metadata": {
  "kernelspec": {
   "display_name": ".venv",
   "language": "python",
   "name": "python3"
  },
  "language_info": {
   "codemirror_mode": {
    "name": "ipython",
    "version": 3
   },
   "file_extension": ".py",
   "mimetype": "text/x-python",
   "name": "python",
   "nbconvert_exporter": "python",
   "pygments_lexer": "ipython3",
   "version": "3.13.1"
  },
  "widgets": {
   "application/vnd.jupyter.widget-state+json": {
    "state": {},
    "version_major": 2,
    "version_minor": 0
   }
  }
 },
 "nbformat": 4,
 "nbformat_minor": 5
}
