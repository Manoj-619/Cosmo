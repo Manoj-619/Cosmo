{
 "cells": [
  {
   "cell_type": "code",
   "execution_count": 1,
   "id": "d84937e1-c90c-4947-8eef-35740e897d22",
   "metadata": {},
   "outputs": [],
   "source": [
    "import os\n",
    "git_dir = os.path.dirname(os.getcwd())\n",
    "project_dir = os.path.join(git_dir,'zavmo')\n",
    "os.chdir(project_dir)"
   ]
  },
  {
   "cell_type": "code",
   "execution_count": 2,
   "id": "00475ffd-3d95-4a61-b7f8-6ee6163619e7",
   "metadata": {},
   "outputs": [
    {
     "data": {
      "text/plain": [
       "True"
      ]
     },
     "execution_count": 2,
     "metadata": {},
     "output_type": "execute_result"
    }
   ],
   "source": [
    "from dotenv import load_dotenv\n",
    "load_dotenv(override=True)"
   ]
  },
  {
   "cell_type": "code",
   "execution_count": 3,
   "id": "fa064107-beea-4dc5-92e8-43746358e74c",
   "metadata": {},
   "outputs": [],
   "source": [
    "import json\n",
    "from helpers.chat import get_openai_completion,  get_prompt, make_structured_call\n",
    "from helpers.functions import parse_type\n",
    "from IPython.display import Markdown"
   ]
  },
  {
   "cell_type": "code",
   "execution_count": 4,
   "id": "7196d501-495a-4851-b15e-9b1ed2c8d52b",
   "metadata": {},
   "outputs": [],
   "source": [
    "import openai\n",
    "from openai import OpenAI\n",
    "from helpers.functions import create_pydantic_model, get_yaml_data, create_system_message\n",
    "openai_client = OpenAI(api_key=os.getenv(\"OPENAI_API_KEY\"))"
   ]
  },
  {
   "cell_type": "code",
   "execution_count": 5,
   "id": "4c61dade-178a-400a-9d03-c79a0bbb86e1",
   "metadata": {},
   "outputs": [],
   "source": [
    "from helpers.chat import create_message_payload, force_tool_call"
   ]
  },
  {
   "cell_type": "code",
   "execution_count": 6,
   "id": "a7d05c45-48be-4fb8-ae61-1ef6740f8f3e",
   "metadata": {},
   "outputs": [],
   "source": [
    "stage_config   = get_yaml_data('profile')"
   ]
  },
  {
   "cell_type": "code",
   "execution_count": 7,
   "id": "48cae6a2-249d-429c-8a62-86b5f67d9f38",
   "metadata": {},
   "outputs": [],
   "source": [
    " = create_system_message('profile',stage_config,'probe')"
   ]
  },
  {
   "cell_type": "code",
   "execution_count": null,
   "id": "e0126490-03d2-4995-9fd0-c4b7f84edee4",
   "metadata": {},
   "outputs": [],
   "source": []
  },
  {
   "cell_type": "code",
   "execution_count": null,
   "id": "d85b454f-f69d-4a40-89bd-91bdec49a42c",
   "metadata": {},
   "outputs": [],
   "source": [
    "primary_config = get_yaml_data('profile')['primary']"
   ]
  },
  {
   "cell_type": "code",
   "execution_count": null,
   "id": "52b708e9-7b4d-4034-9b2a-d15a1ceaf577",
   "metadata": {},
   "outputs": [],
   "source": [
    "primary_model = create_pydantic_model(\n",
    "    name=primary_config['title'],\n",
    "    description=primary_config['description'],\n",
    "    fields=[f for f in primary_config['fields'] if f['title'] in ['first_name','last_name']]\n",
    ")"
   ]
  },
  {
   "cell_type": "code",
   "execution_count": null,
   "id": "08e55f2e-a55f-4e8c-8512-2dba1132e909",
   "metadata": {},
   "outputs": [],
   "source": [
    "get_prompt(\"profile/extract\")"
   ]
  },
  {
   "cell_type": "code",
   "execution_count": null,
   "id": "b1e1bab3-a848-491c-b4a9-f3bf49c0da2b",
   "metadata": {},
   "outputs": [],
   "source": [
    "message_payload =[ \n",
    "    {\"role\":\"system\",\"content\":get_prompt(\"profile/extract\")},\n",
    "    {\"role\":\"user\",\"content\":f\"Extract the user's first name and last name from the learner's message?\\nLearner's message: My name is aditya chhabra\"}]"
   ]
  },
  {
   "cell_type": "code",
   "execution_count": null,
   "id": "949dbb26-3826-4ca9-865c-d1d88d42dfa2",
   "metadata": {},
   "outputs": [],
   "source": [
    "primary_tool = force_tool_call(primary_model,\n",
    "                message_payload,\n",
    "                model='gpt-4o-mini',\n",
    "                tool_choice='required',\n",
    "                \n",
    "               )"
   ]
  },
  {
   "cell_type": "code",
   "execution_count": null,
   "id": "0cccd911-10f7-4304-b965-a127efbe820c",
   "metadata": {},
   "outputs": [],
   "source": [
    "primary_tool.dict()"
   ]
  },
  {
   "cell_type": "code",
   "execution_count": null,
   "id": "f7873e36-590c-4d42-969c-f522b6641c43",
   "metadata": {},
   "outputs": [],
   "source": [
    "fields = get_yaml_data(\"profile\")['required']"
   ]
  },
  {
   "cell_type": "code",
   "execution_count": null,
   "id": "3253a46c-508c-4e1b-bfbf-cfd6526dbcad",
   "metadata": {},
   "outputs": [],
   "source": [
    "identification_tool = force_tool_call(identification_model, \n",
    "                                      message_payload, \n",
    "                                      model='gpt-4o-mini',\n",
    "                                      tool_choice='required',\n",
    "                                      parallel_tool_calls=False)\n"
   ]
  },
  {
   "cell_type": "code",
   "execution_count": null,
   "id": "a31d0b1d-da8e-4650-bc5e-160ad3dfa968",
   "metadata": {},
   "outputs": [],
   "source": []
  },
  {
   "cell_type": "code",
   "execution_count": null,
   "id": "ff167354-320f-4585-9894-b07de08dd3ba",
   "metadata": {},
   "outputs": [],
   "source": []
  },
  {
   "cell_type": "code",
   "execution_count": null,
   "id": "a41566e1-8cbb-47cc-aa41-f7e3e8ececaa",
   "metadata": {},
   "outputs": [],
   "source": [
    "identify_model     = create_pydantic_model(name=identification_data['title'],\n",
    "                                   description=identification_data['description'],\n",
    "                                   fields=identification_data['fields']\n",
    "                                   )"
   ]
  },
  {
   "cell_type": "code",
   "execution_count": null,
   "id": "a843957a-7215-4d52-bc1f-08ee9aaa61ce",
   "metadata": {},
   "outputs": [],
   "source": [
    "primary_model     = create_pydantic_model(name=primary_data['title'],\n",
    "                                   description=primary_data['description'],\n",
    "                                   fields=primary_data['fields']\n",
    "                                   )"
   ]
  },
  {
   "cell_type": "code",
   "execution_count": null,
   "id": "9422f844-d32c-4217-a62f-858efab24bfe",
   "metadata": {},
   "outputs": [],
   "source": []
  },
  {
   "cell_type": "code",
   "execution_count": null,
   "id": "a87f2056-c3fa-496d-b9d5-0eee6a5b5b73",
   "metadata": {},
   "outputs": [],
   "source": []
  },
  {
   "cell_type": "code",
   "execution_count": null,
   "id": "4d38c25c-985b-4e73-973c-47c567e511a1",
   "metadata": {},
   "outputs": [],
   "source": []
  },
  {
   "cell_type": "code",
   "execution_count": null,
   "id": "2f2c4f0d-66c9-4336-8022-9ce24f30cfdf",
   "metadata": {},
   "outputs": [],
   "source": []
  },
  {
   "cell_type": "code",
   "execution_count": null,
   "id": "121fc8e5-1384-4bbf-b85a-0e9516672d97",
   "metadata": {},
   "outputs": [],
   "source": []
  }
 ],
 "metadata": {
  "kernelspec": {
   "display_name": "Python 3 (ipykernel)",
   "language": "python",
   "name": "python3"
  },
  "language_info": {
   "codemirror_mode": {
    "name": "ipython",
    "version": 3
   },
   "file_extension": ".py",
   "mimetype": "text/x-python",
   "name": "python",
   "nbconvert_exporter": "python",
   "pygments_lexer": "ipython3",
   "version": "3.11.9"
  },
  "widgets": {
   "application/vnd.jupyter.widget-state+json": {
    "state": {},
    "version_major": 2,
    "version_minor": 0
   }
  }
 },
 "nbformat": 4,
 "nbformat_minor": 5
}
