{
 "cells": [
  {
   "cell_type": "code",
   "execution_count": 70,
   "id": "998e3efe-0328-480f-854f-c7edf274e0d7",
   "metadata": {},
   "outputs": [],
   "source": [
    "import os\n",
    "os.chdir('/Users/adityachhabra/Github/zavmo/zavmo-api/zavmo')"
   ]
  },
  {
   "cell_type": "code",
   "execution_count": 71,
   "id": "8afbaf01-5a75-44f9-933f-6cb8151d38ef",
   "metadata": {},
   "outputs": [],
   "source": [
    "import pandas as pd\n",
    "from dotenv import load_dotenv\n",
    "pd.set_option('display.max_columns',500)"
   ]
  },
  {
   "cell_type": "code",
   "execution_count": 72,
   "id": "026e26d3-97ce-4628-bec1-45e7782cf3d1",
   "metadata": {},
   "outputs": [
    {
     "data": {
      "text/plain": [
       "True"
      ]
     },
     "execution_count": 72,
     "metadata": {},
     "output_type": "execute_result"
    }
   ],
   "source": [
    "load_dotenv()"
   ]
  },
  {
   "cell_type": "markdown",
   "id": "711d6c6c-14dd-449a-b672-46e21a91912c",
   "metadata": {},
   "source": [
    "### Get NOS documents"
   ]
  },
  {
   "cell_type": "code",
   "execution_count": 73,
   "id": "5ba3f5e3-7f86-4b20-b044-c5a27fcae97e",
   "metadata": {},
   "outputs": [
    {
     "data": {
      "text/html": [
       "<div>\n",
       "<style scoped>\n",
       "    .dataframe tbody tr th:only-of-type {\n",
       "        vertical-align: middle;\n",
       "    }\n",
       "\n",
       "    .dataframe tbody tr th {\n",
       "        vertical-align: top;\n",
       "    }\n",
       "\n",
       "    .dataframe thead th {\n",
       "        text-align: right;\n",
       "    }\n",
       "</style>\n",
       "<table border=\"1\" class=\"dataframe\">\n",
       "  <thead>\n",
       "    <tr style=\"text-align: right;\">\n",
       "      <th></th>\n",
       "      <th>nos_id</th>\n",
       "      <th>industry</th>\n",
       "      <th>title</th>\n",
       "      <th>overview</th>\n",
       "      <th>performance_criteria</th>\n",
       "      <th>knowledge_understanding</th>\n",
       "      <th>keywords</th>\n",
       "      <th>relevant_roles</th>\n",
       "    </tr>\n",
       "  </thead>\n",
       "  <tbody>\n",
       "    <tr>\n",
       "      <th>0</th>\n",
       "      <td>CFAUE3</td>\n",
       "      <td>Understanding Enterprise</td>\n",
       "      <td>Knowing the market and satisfying customers</td>\n",
       "      <td>This NOS outlines the importance of understand...</td>\n",
       "      <td>- Research and assess the market for a busines...</td>\n",
       "      <td>- Understanding market dynamics and competitio...</td>\n",
       "      <td>ideas, innovation, entrepreneurs, product, ser...</td>\n",
       "      <td>- Founder  \\n- Managing Director  \\n- Owner/Ma...</td>\n",
       "    </tr>\n",
       "    <tr>\n",
       "      <th>1</th>\n",
       "      <td>CCSAPAA2</td>\n",
       "      <td>Archaeological Practice</td>\n",
       "      <td>Commission Research</td>\n",
       "      <td>This standard outlines the responsibilities of...</td>\n",
       "      <td>- Specify research requirements:  \\n  - Establ...</td>\n",
       "      <td>- Technical and ethical standards for research...</td>\n",
       "      <td>Archaeology, Research, Commissioning, Ethics, ...</td>\n",
       "      <td>Archaeologist, Conservation Officer, Research ...</td>\n",
       "    </tr>\n",
       "    <tr>\n",
       "      <th>2</th>\n",
       "      <td>CFAUE6</td>\n",
       "      <td>Understanding Enterprise</td>\n",
       "      <td>Planning for Success</td>\n",
       "      <td>This standard emphasizes the need for business...</td>\n",
       "      <td>- Decide on the goals and success metrics for ...</td>\n",
       "      <td>- Understand various business goals and their ...</td>\n",
       "      <td>winning, help, support, resources, advice, pot...</td>\n",
       "      <td>Founder, Managing Director, Owner/Manager/Dire...</td>\n",
       "    </tr>\n",
       "  </tbody>\n",
       "</table>\n",
       "</div>"
      ],
      "text/plain": [
       "     nos_id                  industry  \\\n",
       "0    CFAUE3  Understanding Enterprise   \n",
       "1  CCSAPAA2   Archaeological Practice   \n",
       "2    CFAUE6  Understanding Enterprise   \n",
       "\n",
       "                                         title  \\\n",
       "0  Knowing the market and satisfying customers   \n",
       "1                          Commission Research   \n",
       "2                         Planning for Success   \n",
       "\n",
       "                                            overview  \\\n",
       "0  This NOS outlines the importance of understand...   \n",
       "1  This standard outlines the responsibilities of...   \n",
       "2  This standard emphasizes the need for business...   \n",
       "\n",
       "                                performance_criteria  \\\n",
       "0  - Research and assess the market for a busines...   \n",
       "1  - Specify research requirements:  \\n  - Establ...   \n",
       "2  - Decide on the goals and success metrics for ...   \n",
       "\n",
       "                             knowledge_understanding  \\\n",
       "0  - Understanding market dynamics and competitio...   \n",
       "1  - Technical and ethical standards for research...   \n",
       "2  - Understand various business goals and their ...   \n",
       "\n",
       "                                            keywords  \\\n",
       "0  ideas, innovation, entrepreneurs, product, ser...   \n",
       "1  Archaeology, Research, Commissioning, Ethics, ...   \n",
       "2  winning, help, support, resources, advice, pot...   \n",
       "\n",
       "                                      relevant_roles  \n",
       "0  - Founder  \\n- Managing Director  \\n- Owner/Ma...  \n",
       "1  Archaeologist, Conservation Officer, Research ...  \n",
       "2  Founder, Managing Director, Owner/Manager/Dire...  "
      ]
     },
     "execution_count": 73,
     "metadata": {},
     "output_type": "execute_result"
    }
   ],
   "source": [
    "nos_df = pd.read_csv(\"../docs/rgcn/nos.csv\")\n",
    "nos_df.head(3)"
   ]
  },
  {
   "cell_type": "markdown",
   "id": "2f43a535-cb48-4e2c-93c9-fac298501325",
   "metadata": {},
   "source": [
    "## OfQual"
   ]
  },
  {
   "cell_type": "code",
   "execution_count": 74,
   "id": "d5464481-72e0-464e-9969-cd333ab44385",
   "metadata": {},
   "outputs": [],
   "source": [
    "ofqual_unit_df = pd.read_csv(\"../agents/ofqual_unit_details.csv\")"
   ]
  },
  {
   "cell_type": "code",
   "execution_count": 75,
   "id": "1dc0162a-443b-488a-8ae2-767591c318d4",
   "metadata": {},
   "outputs": [],
   "source": [
    "# Get ORG_ID -> Org name mapping\n",
    "ofqual_org_df  = pd.read_csv(\"../docs/nos-ofqual/ofqual_orgs.csv\")\n",
    "org_id_mapping = dict(ofqual_org_df.iloc[:,:2].values)"
   ]
  },
  {
   "cell_type": "code",
   "execution_count": 76,
   "id": "0c7c9e44-95fc-4cf7-b950-e766d3ced2af",
   "metadata": {},
   "outputs": [],
   "source": [
    "# Previously merged ofqual unit data\n",
    "ofqual_details_df = pd.read_csv(\"../docs/nos-ofqual/ofqual_details_20250127.csv.zip\")\n",
    "# Filter only available ofquals\n",
    "ofqual_details_df =  ofqual_details_df[ofqual_details_df.status=='Available to learners']\n",
    "keepcols = [\n",
    " 'ofqual_id',\n",
    " 'qualification_type',\n",
    " 'qualification_level',\n",
    " 'assessment_methods',\n",
    " 'sector_subject_area',\n",
    " 'awarding_organisation',\n",
    " 'total_credits',\n",
    " 'guided_learning_hours',\n",
    " 'total_qualification_time',\n",
    "]\n",
    "ofqual_details_df = ofqual_details_df[keepcols]\n",
    "\n",
    "# Get awarding organization\n",
    "ofqual_details_df['awarding_organization'] = ofqual_details_df['awarding_organisation'].str.replace(\"/organisations/\",'').str.strip().replace(org_id_mapping)"
   ]
  },
  {
   "cell_type": "code",
   "execution_count": 77,
   "id": "63437a36-134f-400f-a921-f6f582ab3613",
   "metadata": {},
   "outputs": [],
   "source": [
    "ofqual_unit_df = ofqual_unit_df[ofqual_unit_df.ofqual_id.isin(ofqual_details_df.ofqual_id.unique())]"
   ]
  },
  {
   "cell_type": "code",
   "execution_count": 78,
   "id": "9ea89706-0df0-4aeb-a978-3ac85b2fc75c",
   "metadata": {},
   "outputs": [],
   "source": [
    "ofqual_df = pd.merge(ofqual_unit_df,ofqual_details_df,on=['ofqual_id'],how='left')"
   ]
  },
  {
   "cell_type": "code",
   "execution_count": 79,
   "id": "bdebfc6c-e229-4691-b84a-bfe3a25e9be0",
   "metadata": {},
   "outputs": [],
   "source": [
    "ofqual_df.to_csv(\"../docs/rgcn/ofqual_units.csv\",index=False)"
   ]
  },
  {
   "cell_type": "code",
   "execution_count": null,
   "id": "e1831e45-4634-4f7d-b6e8-bb693be36d67",
   "metadata": {},
   "outputs": [],
   "source": []
  },
  {
   "cell_type": "code",
   "execution_count": null,
   "id": "e3df0778-3e21-4e12-a391-56b786dc3472",
   "metadata": {},
   "outputs": [],
   "source": []
  },
  {
   "cell_type": "code",
   "execution_count": null,
   "id": "84c50a3e-f366-457f-a105-011f26c0cdb6",
   "metadata": {},
   "outputs": [],
   "source": []
  }
 ],
 "metadata": {
  "kernelspec": {
   "display_name": "Python 3 (ipykernel)",
   "language": "python",
   "name": "python3"
  },
  "language_info": {
   "codemirror_mode": {
    "name": "ipython",
    "version": 3
   },
   "file_extension": ".py",
   "mimetype": "text/x-python",
   "name": "python",
   "nbconvert_exporter": "python",
   "pygments_lexer": "ipython3",
   "version": "3.11.9"
  }
 },
 "nbformat": 4,
 "nbformat_minor": 5
}
