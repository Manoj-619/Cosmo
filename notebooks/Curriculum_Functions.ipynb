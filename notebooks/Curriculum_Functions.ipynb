{
 "cells": [
  {
   "cell_type": "code",
   "execution_count": 2,
   "id": "1a2c5683-cc7e-41f5-988b-81a9508374e1",
   "metadata": {},
   "outputs": [],
   "source": [
    "import json\n",
    "import pprint"
   ]
  },
  {
   "cell_type": "code",
   "execution_count": 1,
   "id": "3fd701af",
   "metadata": {},
   "outputs": [],
   "source": [
    "import os\n",
    "git_dir = os.path.dirname(os.getcwd())\n",
    "project_dir = os.path.join(git_dir,'zavmo')\n",
    "os.chdir(project_dir)"
   ]
  },
  {
   "cell_type": "code",
   "execution_count": 3,
   "id": "27183bbd",
   "metadata": {},
   "outputs": [],
   "source": [
    "import json\n",
    "from helpers.chat import get_openai_completion,  get_prompt, make_structured_call, summarize_history, summarize_profile,create_message_payload,force_tool_call\n",
    "from helpers.functions import parse_type\n",
    "from IPython.display import Markdown\n",
    "import openai\n",
    "from openai import OpenAI\n",
    "from helpers.functions import create_pydantic_model, get_yaml_data, create_system_message\n",
    "openai_client = OpenAI(api_key=os.getenv(\"OPENAI_API_KEY\"))"
   ]
  },
  {
   "cell_type": "code",
   "execution_count": 106,
   "id": "d2f1f8c4",
   "metadata": {},
   "outputs": [],
   "source": [
    "stage_config = get_yaml_data('discuss')"
   ]
  },
  {
   "cell_type": "code",
   "execution_count": 5,
   "id": "8ebdb0ca",
   "metadata": {},
   "outputs": [],
   "source": [
    "resp_schema = get_yaml_data('common')['response']"
   ]
  },
  {
   "cell_type": "code",
   "execution_count": 6,
   "id": "652ef460",
   "metadata": {},
   "outputs": [],
   "source": [
    "resp_model    = create_pydantic_model(name=resp_schema['title'],\n",
    "                                       description=resp_schema['description'],\n",
    "                                       fields=resp_schema['fields']\n",
    "                                       )\n",
    "    \n",
    "probe_system_message = create_system_message('discuss', stage_config, mode='probe')"
   ]
  },
  {
   "cell_type": "code",
   "execution_count": 7,
   "id": "30518572",
   "metadata": {},
   "outputs": [
    {
     "data": {
      "text/plain": [
       "['interest_areas',\n",
       " 'learning_style',\n",
       " 'curriculum',\n",
       " 'timeline',\n",
       " 'goals_alignment']"
      ]
     },
     "execution_count": 7,
     "metadata": {},
     "output_type": "execute_result"
    }
   ],
   "source": [
    "required_fields = [f['title'] for f in stage_config['fields']]\n",
    "required_fields"
   ]
  },
  {
   "cell_type": "code",
   "execution_count": 8,
   "id": "38c349a0",
   "metadata": {},
   "outputs": [],
   "source": [
    "profile_summary = \"\"\"\n",
    "Name: Mumtaz\n",
    "Occupation: Junior Software Engineer\n",
    "\n",
    "As a Junior Software Engineer, I am passionate about leveraging technology to solve complex problems and improve user experiences. I have a strong foundation in software development principles and a keen interest in expanding my knowledge and skills in various domains.\n",
    "\n",
    "Learning Interests:\n",
    "I am particularly interested in the following areas:\n",
    "\n",
    "Statistics: Understanding data analysis techniques to derive meaningful insights.\n",
    "Machine Learning (ML): Exploring algorithms and models that enable systems to learn from data.\n",
    "Artificial Intelligence (AI): Delving into intelligent systems that mimic human behavior and decision-making.\n",
    "Large Language Models (LLMs): Investigating advanced language processing technologies to enhance natural language understanding and generation.\n",
    "I am eager to further develop my expertise in these fields and apply them to real-world applications, contributing to innovative projects and technologies.\"\"\""
   ]
  },
  {
   "cell_type": "code",
   "execution_count": 9,
   "id": "c2bb256e",
   "metadata": {},
   "outputs": [],
   "source": [
    "messages = []"
   ]
  },
  {
   "cell_type": "code",
   "execution_count": 85,
   "id": "26fcc8f0",
   "metadata": {},
   "outputs": [],
   "source": [
    "user_input      = \"yes\""
   ]
  },
  {
   "cell_type": "code",
   "execution_count": 86,
   "id": "2bb75310",
   "metadata": {},
   "outputs": [],
   "source": [
    "probe_system_message = create_system_message(\"discuss\", stage_config, mode='probe')\n",
    "    \n",
    "user_content         = f\"\"\"\n",
    "    Here is what we know about the learner:\n",
    "        {profile_summary}\n",
    "           \n",
    "    We need to probe the learner for the following fields: {required_fields}\n",
    "    \n",
    "    Learner's message: {user_input}\n",
    "    \"\"\""
   ]
  },
  {
   "cell_type": "code",
   "execution_count": 87,
   "id": "412de7a9",
   "metadata": {},
   "outputs": [],
   "source": [
    "message_payload = create_message_payload(user_content, \n",
    "                                             probe_system_message, \n",
    "                                             messages, \n",
    "                                             max_tokens=10000\n",
    "                                             )"
   ]
  },
  {
   "cell_type": "code",
   "execution_count": 89,
   "id": "665a6cfa",
   "metadata": {},
   "outputs": [],
   "source": [
    "response_tool = force_tool_call(resp_model, \n",
    "                                    message_payload, \n",
    "                                    model='gpt-4o-mini',\n",
    "                                    tool_choice='required',\n",
    "                                    )"
   ]
  },
  {
   "cell_type": "code",
   "execution_count": 91,
   "id": "add9b791",
   "metadata": {},
   "outputs": [
    {
     "data": {
      "text/markdown": [
       "Thank you for completing your profile, Mumtaz! 🎉 We're all set to start your personalized learning experience. Get ready to dive deep into statistics, machine learning, AI, and large language models over the next 6 weeks!  If you're excited, I can prepare some resources and materials tailored just for you. Let's make this learning journey a fantastic one! 🚀"
      ],
      "text/plain": [
       "<IPython.core.display.Markdown object>"
      ]
     },
     "execution_count": 91,
     "metadata": {},
     "output_type": "execute_result"
    }
   ],
   "source": [
    "assistant_message = response_tool.message\n",
    "Markdown(assistant_message)"
   ]
  },
  {
   "cell_type": "code",
   "execution_count": 92,
   "id": "c490abdf",
   "metadata": {},
   "outputs": [],
   "source": [
    "messages.extend([{'role':'user','content':user_input},{'role':'assistant','content':assistant_message}])"
   ]
  },
  {
   "cell_type": "code",
   "execution_count": 93,
   "id": "11631388",
   "metadata": {},
   "outputs": [
    {
     "data": {
      "text/plain": [
       "[{'role': 'user', 'content': 'hey'},\n",
       " {'role': 'assistant',\n",
       "  'content': \"Hey Mumtaz! 🌟 It's great to connect with you! I see you have some exciting interests. Let's dive a bit deeper to design the perfect learning plan for you! \\n\\nFirst, are there any particular areas within statistics, machine learning, AI, or LLMs that you're interested in exploring more? 🎯\"},\n",
       " {'role': 'user',\n",
       "  'content': 'statistics for learning bias or fairness in in models prediction, other interests also i would like to deeply learn from each of them'},\n",
       " {'role': 'assistant',\n",
       "  'content': \"Awesome focus on learning bias and fairness in model predictions! 🌟 Let's make sure we cover all your interests deeply. How do you prefer to learn? (e.g., videos, reading, hands-on activities) 🎬📚🛠️\"},\n",
       " {'role': 'user', 'content': 'handon'},\n",
       " {'role': 'assistant',\n",
       "  'content': \"Fantastic! 🛠️ We'll incorporate hands-on activities into your learning. Now, let's discuss the curriculum! Here are some modules I was thinking about:\\n\\n1. **Introduction to Statistics and Data Analysis**\\n2. **Understanding Bias and Fairness in Machine Learning**\\n3. **Advanced Machine Learning Algorithms**\\n4. **Ethics in AI and Fairness Techniques**\\n5. **Deep Dive into Large Language Models**\\n\\nDo these modules resonate with your learning goals? 📚\"},\n",
       " {'role': 'user', 'content': 'yes perfect'},\n",
       " {'role': 'assistant',\n",
       "  'content': 'Great to hear that the modules look perfect, Mumtaz! 🎉 Now, how quickly would you like to progress through the material? Would you prefer a timeline of a few weeks, a couple of months, or something else? ⏰'},\n",
       " {'role': 'user', 'content': 'few weeks'},\n",
       " {'role': 'assistant',\n",
       "  'content': \"Great! So we'll set a timeline of a few weeks for your learning plan. 🗓️ Now, do you feel this plan aligns with your overall learning goals? Is there anything you'd like to change or add to better meet your objectives? ✨\"},\n",
       " {'role': 'user', 'content': 'let me know how many weeks'},\n",
       " {'role': 'assistant',\n",
       "  'content': \"Here's a summary of what we have so far:\\n\\n**Name:** Mumtaz  \\n**Occupation:** Junior Software Engineer  \\n\\n**Learning Interests:**  \\n- Statistics: Understanding data analysis techniques to derive meaningful insights.  \\n- Machine Learning (ML): Exploring algorithms and models that enable systems to learn from data.  \\n- Artificial Intelligence (AI): Delving into intelligent systems that mimic human behavior and decision-making.  \\n- Large Language Models (LLMs): Investigating advanced language processing technologies to enhance natural language understanding and generation.\\n\\n**Preferred Learning Style:** Hands-on activities. 🛠️  \\n**Curriculum:**  \\n1. Introduction to Statistics and Data Analysis  \\n2. Understanding Bias and Fairness in Machine Learning  \\n3. Advanced Machine Learning Algorithms  \\n4. Ethics in AI and Fairness Techniques  \\n5. Deep Dive into Large Language Models  \\n\\n**Timeline:** A few weeks. ⏰  \\n\\nDoes everything look good to you? Would you like to make any changes or add anything else?\"},\n",
       " {'role': 'user', 'content': 'let me know how many weeks timeline'},\n",
       " {'role': 'assistant',\n",
       "  'content': 'Here is what we know about you so far:\\n\\n**Name:** Mumtaz  \\n**Occupation:** Junior Software Engineer  \\n\\n**Learning Interests:**  \\n- Statistics: Understanding data analysis techniques to derive meaningful insights.  \\n- Machine Learning (ML): Exploring algorithms and models that enable systems to learn from data.  \\n- Artificial Intelligence (AI): Delving into intelligent systems that mimic human behavior and decision-making.  \\n- Large Language Models (LLMs): Investigating advanced language processing technologies to enhance natural language understanding and generation.  \\n\\n**Preferred Learning Style:** Hands-on activities. 🛠️  \\n**Curriculum Modules:**  \\n1. Introduction to Statistics and Data Analysis  \\n2. Understanding Bias and Fairness in Machine Learning  \\n3. Advanced Machine Learning Algorithms  \\n4. Ethics in AI and Fairness Techniques  \\n5. Deep Dive into Large Language Models  \\n\\n**Proposed Timeline:** A few weeks. ⏰  \\n\\nDoes this summary look good? Are you comfortable with the timeline, or would you like to specify a more precise number of weeks?'},\n",
       " {'role': 'user',\n",
       "  'content': 'you decide and add the number of weeks you want me toplan for this'},\n",
       " {'role': 'assistant',\n",
       "  'content': \"Thank you for sharing your insights, Mumtaz! Let's finalize your learning plan. Based on your curriculum and interests, I'm thinking of a timeline of about **6 weeks**. This way, we can cover each module in detail while allowing for hands-on practice! Does this sound good to you? 🌟 If you’re on board, I’ll prepare the next stage!\"},\n",
       " {'role': 'user', 'content': 'yes'},\n",
       " {'role': 'assistant',\n",
       "  'content': \"Here's the final summary of your learning plan, Mumtaz:\\n\\n**Name:** Mumtaz  \\n**Occupation:** Junior Software Engineer  \\n  \\n**Learning Interests:**  \\n- Statistics: Understanding data analysis techniques to derive meaningful insights.  \\n- Machine Learning (ML): Exploring algorithms and models that enable systems to learn from data.  \\n- Artificial Intelligence (AI): Delving into intelligent systems that mimic human behavior and decision-making.  \\n- Large Language Models (LLMs): Investigating advanced language processing technologies to enhance natural language understanding and generation.  \\n  \\n**Preferred Learning Style:** Hands-on activities. 🛠️  \\n**Curriculum Modules:**  \\n1. Introduction to Statistics and Data Analysis  \\n2. Understanding Bias and Fairness in Machine Learning  \\n3. Advanced Machine Learning Algorithms  \\n4. Ethics in AI and Fairness Techniques  \\n5. Deep Dive into Large Language Models  \\n  \\n**Proposed Timeline:** 6 weeks. ⏰  \\n  \\nDo you feel this plan aligns with your goals? Is there anything you'd like to change or add before we move on to the next stage?\"},\n",
       " {'role': 'user', 'content': 'yes'},\n",
       " {'role': 'assistant',\n",
       "  'content': \"Thank you for completing your profile, Mumtaz! 🎉 We're all set to start your personalized learning experience. Get ready to dive deep into statistics, machine learning, AI, and large language models over the next 6 weeks!  If you're excited, I can prepare some resources and materials tailored just for you. Let's make this learning journey a fantastic one! 🚀\"}]"
      ]
     },
     "execution_count": 93,
     "metadata": {},
     "output_type": "execute_result"
    }
   ],
   "source": [
    "messages"
   ]
  },
  {
   "cell_type": "code",
   "execution_count": 94,
   "id": "c6668c7a",
   "metadata": {},
   "outputs": [],
   "source": [
    "extract_system_message = create_system_message('discover', stage_config, mode='extract')\n",
    "conversation_summary=summarize_history(messages)"
   ]
  },
  {
   "cell_type": "code",
   "execution_count": 95,
   "id": "4739a6cf",
   "metadata": {},
   "outputs": [],
   "source": [
    "user_message = f\"\"\"The learner is at the **Discover** stage.\n",
    "    This is the (unverified) information we have about the learner:\n",
    "        {profile_summary}\n",
    "\n",
    "    Here is the summary of the conversation:\n",
    "        {conversation_summary}\n",
    "                    \n",
    "    Which of the following fields can we add or update about the learner?\n",
    "        {', '.join(required_fields)}\n",
    "    \"\"\""
   ]
  },
  {
   "cell_type": "code",
   "execution_count": 96,
   "id": "fe9c9e99",
   "metadata": {},
   "outputs": [],
   "source": [
    "message_payload = create_message_payload(user_message,  extract_system_message, [], max_tokens=10000)"
   ]
  },
  {
   "cell_type": "code",
   "execution_count": 109,
   "id": "ce86652d",
   "metadata": {},
   "outputs": [],
   "source": [
    "######### Creating pydantic model for field having multiple properties ##########\n",
    "\n",
    "# for field in stage_config['fields']:\n",
    "#     if 'properties' in field:\n",
    "#         create_pydantic_model(field['title'], field['properties'], field['description'])"
   ]
  },
  {
   "cell_type": "code",
   "execution_count": 107,
   "id": "404daa29",
   "metadata": {},
   "outputs": [],
   "source": [
    "stage_config = get_yaml_data('discuss')"
   ]
  },
  {
   "cell_type": "code",
   "execution_count": 111,
   "id": "3b17774c",
   "metadata": {},
   "outputs": [],
   "source": [
    "models = [create_pydantic_model(field['title'], field['properties'], field['description']) if 'properties' in field \n",
    "          else create_pydantic_model(field['title'], [field], field['description']) \n",
    "          for field in stage_config['fields']]\n",
    "\n",
    "\n",
    "extraction_tools = force_tool_call(models,\n",
    "                                       message_payload, \n",
    "                                       model='gpt-4o',\n",
    "                                       tool_choice='required',\n",
    "                                       parallel_tool_calls=True)"
   ]
  },
  {
   "cell_type": "code",
   "execution_count": 112,
   "id": "138438cb",
   "metadata": {},
   "outputs": [
    {
     "data": {
      "text/plain": [
       "[interest_areas(interest_areas='Statistics for learning bias or fairness in model predictions'),\n",
       " learning_style(learning_style='Kinesthetic'),\n",
       " Curriculum(Subject='AI and Machine Learning', Title='Comprehensive Learning Plan', Modules=['Introduction to Statistics and Data Analysis', 'Understanding Bias and Fairness in Machine Learning', 'Advanced Machine Learning Algorithms', 'Ethics in AI and Fairness Techniques', 'Deep Dive into Large Language Models']),\n",
       " timeline(timeline='6 weeks'),\n",
       " goals_alignment(goals_alignment='The plan aligns with goals')]"
      ]
     },
     "execution_count": 112,
     "metadata": {},
     "output_type": "execute_result"
    }
   ],
   "source": [
    "extraction_tools"
   ]
  },
  {
   "cell_type": "code",
   "execution_count": 113,
   "id": "19138f99",
   "metadata": {},
   "outputs": [
    {
     "name": "stdout",
     "output_type": "stream",
     "text": [
      "{'interest_areas': 'Statistics for learning bias or fairness in model predictions'}\n",
      "{'learning_style': 'Kinesthetic'}\n",
      "{'Subject': 'AI and Machine Learning', 'Title': 'Comprehensive Learning Plan', 'Modules': ['Introduction to Statistics and Data Analysis', 'Understanding Bias and Fairness in Machine Learning', 'Advanced Machine Learning Algorithms', 'Ethics in AI and Fairness Techniques', 'Deep Dive into Large Language Models']}\n",
      "{'timeline': '6 weeks'}\n",
      "{'goals_alignment': 'The plan aligns with goals'}\n"
     ]
    }
   ],
   "source": [
    "for tool in extraction_tools:\n",
    "    print(tool.dict())"
   ]
  },
  {
   "cell_type": "code",
   "execution_count": null,
   "id": "8d4bb00c",
   "metadata": {},
   "outputs": [],
   "source": []
  },
  {
   "cell_type": "code",
   "execution_count": null,
   "id": "6bd0d144",
   "metadata": {},
   "outputs": [],
   "source": []
  },
  {
   "cell_type": "code",
   "execution_count": null,
   "id": "eaf9b313",
   "metadata": {},
   "outputs": [],
   "source": [
    "# - field: prerequisites\n",
    "  #   title: prerequisites\n",
    "  #   annotation: list\n",
    "  #   description: >\n",
    "  #     The necessary qualifications or prior knowledge required for enrolling in the curriculum.\n",
    "  #   probe_questions:\n",
    "  #     - Do you have the necessary prerequisites for this curriculum? 📜\n",
    "  #     - Would you like us to review any specific prerequisite knowledge? 🔍\n",
    "  #   user_responses:\n",
    "  #     - Yes, I meet all the prerequisites.\n",
    "  #     - I might need a refresher on statistics.\n",
    "  #   extract_examples:\n",
    "  #     - \"I might need a refresher on statistics > prerequisites='Needs refresher on statistics'\"\n",
    "  #     - \"Yes, I meet all the prerequisites > prerequisites='Qualified to enroll'\"\n",
    "  #   probe_responses:\n",
    "  #     - Great! You're ready to start. 🚀\n",
    "  #     - No problem! We can provide resources for statistics. 📘"
   ]
  },
  {
   "cell_type": "code",
   "execution_count": null,
   "id": "eee4d79e",
   "metadata": {},
   "outputs": [],
   "source": []
  },
  {
   "cell_type": "code",
   "execution_count": null,
   "id": "b3958350",
   "metadata": {},
   "outputs": [],
   "source": []
  },
  {
   "cell_type": "code",
   "execution_count": 34,
   "id": "78dab80e-6906-4034-8500-3e4e8fb60d12",
   "metadata": {},
   "outputs": [],
   "source": [
    "def parse_curriculum(curriculum_json):\n",
    "    try:\n",
    "        # Load the curriculum JSON\n",
    "        curriculum_data = json.loads(curriculum_json)\n",
    "\n",
    "        # Validate that the input is a list\n",
    "        if not isinstance(curriculum_data, list) or not curriculum_data:\n",
    "            raise ValueError(\"Expected a non-empty list of curriculums.\")\n",
    "\n",
    "        # Extract relevant fields for the first curriculum\n",
    "        curriculum = curriculum_data[0]  # Assuming we want to process the first curriculum\n",
    "        parsed_data = {\n",
    "            \"title\": curriculum.get('title', '').strip(),\n",
    "            \"subject\": curriculum.get('subject', '').strip(),\n",
    "            \"level\": str(curriculum.get('level', '')).strip(),\n",
    "            \"modules\": []\n",
    "        }\n",
    "\n",
    "        # Validate main curriculum fields\n",
    "        if not parsed_data[\"title\"]:\n",
    "            raise ValueError(\"Curriculum title is required.\")\n",
    "        if not parsed_data[\"subject\"]:\n",
    "            raise ValueError(\"Curriculum subject is required.\")\n",
    "        if not parsed_data[\"level\"].isdigit():\n",
    "            raise ValueError(\"Curriculum level must be a numeric value.\")\n",
    "\n",
    "        # Loop through modules and extract information\n",
    "        for module in curriculum.get('modules', []):\n",
    "            module_info = {\n",
    "                \"module_title\": module.get('title', '').strip(),\n",
    "                \"lessons\": [],\n",
    "                \"learning_outcomes\": []\n",
    "            }\n",
    "\n",
    "            # Validate module fields\n",
    "            if not module_info[\"module_title\"]:\n",
    "                raise ValueError(\"Module title is required.\")\n",
    "\n",
    "            # Extract lessons within the module\n",
    "            for lesson in module.get('lessons', []):\n",
    "                lesson_title = lesson.get('title', '').strip()\n",
    "                content = lesson.get('content', '').strip()\n",
    "                duration = lesson.get('duration', 0)\n",
    "\n",
    "                if not lesson_title:\n",
    "                    raise ValueError(\"Lesson title is required.\")\n",
    "                if not content:\n",
    "                    raise ValueError(\"Lesson content is required.\")\n",
    "                if not isinstance(duration, (int, float)) or duration <= 0:\n",
    "                    raise ValueError(f\"Lesson duration must be a positive number. Got: {duration}\")\n",
    "\n",
    "                module_info[\"lessons\"].append({\n",
    "                    \"lesson_title\": lesson_title,\n",
    "                    \"content\": content,\n",
    "                    \"duration\": duration\n",
    "                })\n",
    "\n",
    "            # Extract learning outcomes and assessment criteria\n",
    "            for outcome in module.get('learning_outcomes', []):\n",
    "                description = outcome.get('description', '').strip()\n",
    "                assessment_criteria = outcome.get('assessment_criteria', [])\n",
    "\n",
    "                if not description:\n",
    "                    raise ValueError(\"Learning outcome description is required.\")\n",
    "                \n",
    "                # Validate assessment criteria\n",
    "                if not isinstance(assessment_criteria, list):\n",
    "                    raise ValueError(\"Assessment criteria must be a list.\")\n",
    "                assessment_criteria = [criterion.strip() for criterion in assessment_criteria if criterion.strip()]\n",
    "\n",
    "                module_info[\"learning_outcomes\"].append({\n",
    "                    \"description\": description,\n",
    "                    \"assessment_criteria\": assessment_criteria\n",
    "                })\n",
    "\n",
    "            parsed_data[\"modules\"].append(module_info)\n",
    "\n",
    "        return parsed_data\n",
    "\n",
    "    except json.JSONDecodeError as e:\n",
    "        print(f\"Error parsing JSON: {e}\")\n",
    "        return None\n",
    "    except ValueError as ve:\n",
    "        print(f\"Validation error: {ve}\")\n",
    "        return None\n"
   ]
  },
  {
   "cell_type": "code",
   "execution_count": 35,
   "id": "2bd02768-f9c4-4564-9c47-d68ee36332e6",
   "metadata": {},
   "outputs": [],
   "source": [
    "\n",
    "curriculum_json = '''\n",
    "[\n",
    " {\n",
    "   \"title\": \"Level 5 Diploma in Business Management\",\n",
    "   \"subject\": \"Business Management\",\n",
    "   \"level\": \"5\",\n",
    "   \"modules\": [\n",
    "     {\n",
    "       \"title\": \"Organizational Behavior\",\n",
    "       \"learning_outcomes\": [\n",
    "         {\n",
    "           \"description\": \"Understand and analyze organizational behavior concepts\",\n",
    "           \"assessment_criteria\": [\n",
    "             \"Explain key theories of organizational behavior\",\n",
    "             \"Analyze the impact of organizational culture on performance\"\n",
    "           ]\n",
    "         }\n",
    "       ],\n",
    "       \"lessons\": [\n",
    "         {\n",
    "           \"title\": \"Introduction to Organizational Behavior\",\n",
    "           \"content\": \"This lesson introduces the key concepts of organizational behavior...\",\n",
    "           \"duration\": 120\n",
    "         },\n",
    "         {\n",
    "           \"title\": \"Individual Behavior in Organizations\",\n",
    "           \"content\": \"Learn about personality, perception, and individual decision making...\",\n",
    "           \"duration\": 120\n",
    "         }\n",
    "       ],\n",
    "       \"duration\": 60\n",
    "     }\n",
    "   ],\n",
    "   \"prerequisites\": [\"Level 4 qualification in a related subject\"],\n",
    "   \"qualification_level\": 5,\n",
    "   \"guided_learning_hours\": 240,\n",
    "   \"total_qualification_time\": 480,\n",
    "   \"assessment_methods\": [\"Written examination\", \"Case study analysis\", \"Research project\"]\n",
    " }\n",
    "]\n",
    "'''"
   ]
  },
  {
   "cell_type": "code",
   "execution_count": 36,
   "id": "32b5ab8d-a940-4fa7-8907-c63094285d95",
   "metadata": {},
   "outputs": [
    {
     "name": "stdout",
     "output_type": "stream",
     "text": [
      "{'level': '5',\n",
      " 'modules': [{'learning_outcomes': [{'assessment_criteria': ['Explain key '\n",
      "                                                             'theories of '\n",
      "                                                             'organizational '\n",
      "                                                             'behavior',\n",
      "                                                             'Analyze the '\n",
      "                                                             'impact of '\n",
      "                                                             'organizational '\n",
      "                                                             'culture on '\n",
      "                                                             'performance'],\n",
      "                                     'description': 'Understand and analyze '\n",
      "                                                    'organizational behavior '\n",
      "                                                    'concepts'}],\n",
      "              'lessons': [{'content': 'This lesson introduces the key concepts '\n",
      "                                      'of organizational behavior...',\n",
      "                           'duration': 120,\n",
      "                           'lesson_title': 'Introduction to Organizational '\n",
      "                                           'Behavior'},\n",
      "                          {'content': 'Learn about personality, perception, '\n",
      "                                      'and individual decision making...',\n",
      "                           'duration': 120,\n",
      "                           'lesson_title': 'Individual Behavior in '\n",
      "                                           'Organizations'}],\n",
      "              'module_title': 'Organizational Behavior'}],\n",
      " 'subject': 'Business Management',\n",
      " 'title': 'Level 5 Diploma in Business Management'}\n"
     ]
    }
   ],
   "source": [
    "parsed_curriculum = parse_curriculum(curriculum_json)\n",
    "pprint.pprint(parsed_curriculum)\n"
   ]
  },
  {
   "cell_type": "code",
   "execution_count": null,
   "id": "11a26c19-23d3-4846-aec4-a8de190ee23c",
   "metadata": {},
   "outputs": [],
   "source": []
  }
 ],
 "metadata": {
  "kernelspec": {
   "display_name": "Python 3",
   "language": "python",
   "name": "python3"
  },
  "language_info": {
   "codemirror_mode": {
    "name": "ipython",
    "version": 3
   },
   "file_extension": ".py",
   "mimetype": "text/x-python",
   "name": "python",
   "nbconvert_exporter": "python",
   "pygments_lexer": "ipython3",
   "version": "3.11.2"
  }
 },
 "nbformat": 4,
 "nbformat_minor": 5
}
