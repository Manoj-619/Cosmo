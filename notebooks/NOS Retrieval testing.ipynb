{
 "cells": [
  {
   "cell_type": "code",
   "execution_count": 9,
   "metadata": {},
   "outputs": [
    {
     "data": {
      "text/plain": [
       "True"
      ]
     },
     "execution_count": 9,
     "metadata": {},
     "output_type": "execute_result"
    }
   ],
   "source": [
    "import os\n",
    "from openai import OpenAI\n",
    "from pinecone import Pinecone\n",
    "from typing import List\n",
    "from dotenv import load_dotenv\n",
    "load_dotenv()"
   ]
  },
  {
   "cell_type": "code",
   "execution_count": 10,
   "metadata": {},
   "outputs": [],
   "source": [
    "pinecone_client = Pinecone(api_key=os.environ['PINECONE_API_KEY'])\n",
    "\n",
    "openai_client = OpenAI(\n",
    "  api_key=os.environ['OPENAI_API_KEY'],  \n",
    ")"
   ]
  },
  {
   "cell_type": "code",
   "execution_count": 11,
   "metadata": {},
   "outputs": [],
   "source": [
    "def get_embedding(text: str, model: str = \"text-embedding-3-small\") -> List[float]:\n",
    "    \"\"\"\n",
    "    Get the embedding of a text using OpenAI's API.\n",
    "    \"\"\"\n",
    "    response = openai_client.embeddings.create(\n",
    "        input=text,\n",
    "        model=model\n",
    "    )\n",
    "    embedding = response.data[0].embedding\n",
    "    return embedding"
   ]
  },
  {
   "cell_type": "code",
   "execution_count": 12,
   "metadata": {},
   "outputs": [],
   "source": [
    "query = \"\"\"\n",
    "Job role is Energy Compliance Consultant, \n",
    "Department is Compliance, \n",
    "Industry is Energy and Gas.\n",
    "\n",
    "Functional/Technical Skills:\n",
    "▪ Effective communicator in both written and verbal communictions, including\n",
    "ability to propose practical actions and tailor communications to a variety of\n",
    "levels of stakeholder (including senior management and the Board).\n",
    "▪ Confident in absorbing and manipulating information/data, from multiple\n",
    "sources (and multiple formats, e.g Microsoft Excel, PowerBI, operational\n",
    "systems), to drive Assurance insight, review conclusions and proportionate\n",
    "actions.\n",
    "▪ Able to understand, identify and clearly articulate risks and controls arising in\n",
    "relation to a wide range of issues, with a particular focus on conduct risk and\n",
    "customer outcomes, and ability to design testing activities in line with the\n",
    "department methodology.\n",
    "▪ Robust and independent mindset with the confidence to raise issues\n",
    "appropriately.\n",
    "▪ Advanced level stakeholder skills and comfortable dealing with all grades of\n",
    "colleague.\n",
    "▪ Able to work effectively individually and as part of a team to deliver to tight\n",
    "deadlines.\n",
    "\n",
    "Education and Certifications:\n",
    " ▪ Demonstrable experience of compliance activity within a regulatory sector\n",
    "and/or educated to degree standard (Law or Economics degree preferable)\n",
    "with aspiration to work in a high performing compliance function.\n",
    "\n",
    "Competencies:\n",
    "▪ Demonstrable experience of working in a regulated environment and\n",
    "understanding of the energy supply regulatory framework.\n",
    "▪ Credibility to build relationships with a variety of internal stakeholders and\n",
    "influence accordingly.\n",
    "▪ Experience in multi-tasking, being able to navigate complex tasks & prioritise\n",
    "effectively.\n",
    "▪ Developing close ‘trusted adviser’ relationships with key business leaders.\n",
    "▪ Wins hearts and minds across the business and inspires others to act for the\n",
    "betterment of our business and its customers.\n",
    "▪ Proven oral and written communication skills with the ability to explain\n",
    "complex compliance requirements and prove pragmatic advice to stakeholders.\n",
    "▪ Engage with stakeholders in an open, honest, and productive manner to\n",
    "promote collaborative working.\n",
    "▪ Effectively manage stakeholders and senior management during meetings by\n",
    "adapting the style of communication to suit the situation and the individual.\"\"\""
   ]
  },
  {
   "cell_type": "code",
   "execution_count": 14,
   "metadata": {},
   "outputs": [],
   "source": [
    "def fetch_nos_text(query: str) -> List[str]:\n",
    "    \"\"\"\n",
    "    Fetch NOS text from Pinecone based on current role.\n",
    "    \n",
    "    \"\"\"\n",
    "    query_vector = get_embedding(query)  \n",
    "\n",
    "    # Query the Pinecone index\n",
    "    index = pinecone_client.Index('test-nos')  \n",
    "    nos_docs = index.query(\n",
    "            vector=query_vector,\n",
    "            top_k=100,\n",
    "            include_metadata=True,\n",
    "            # filter={\"industry\": \"Compliance\"}\n",
    "            # filter={\"type\":\"Developed by\"}\n",
    "            filter={\"type\":\"Performance criteria\"}\n",
    "            # filter={\"type\":\"Knowledge and understanding\"}\n",
    "        )\n",
    "    return nos_docs['matches']"
   ]
  },
  {
   "cell_type": "code",
   "execution_count": 15,
   "metadata": {},
   "outputs": [],
   "source": [
    "# nos_docs = fetch_nos_text(\"Current Job role is Energy Compliance Consultant, Department is Compliance, Industry is Energy and Gas.\")['matches']\n",
    "nos_docs= fetch_nos_text(query)"
   ]
  },
  {
   "cell_type": "code",
   "execution_count": 16,
   "metadata": {},
   "outputs": [
    {
     "data": {
      "text/plain": [
       "[(3, 'FSPCOMP7'), (11, 'FSPCOMP12'), (38, 'FSPCOMP9'), (65, 'FSPCOMP5')]"
      ]
     },
     "execution_count": 16,
     "metadata": {},
     "output_type": "execute_result"
    }
   ],
   "source": [
    "[(n+1,nos['metadata']['nos_id']) for n,nos in enumerate(nos_docs) if nos['metadata']['nos_id'].startswith('FSPCOMP')]"
   ]
  },
  {
   "cell_type": "code",
   "execution_count": 18,
   "metadata": {},
   "outputs": [
    {
     "data": {
      "text/plain": [
       "[('Anti-money Laundering',\n",
       "  'FSPAML2',\n",
       "  \"Performance criteria You must be able to: 1. carry out your role in line with your organisation's strategy for compliance 2. communicate agreed values and assumptions that encourage behaviour which is consistent with your organisation’s overall vision and strategy for compliance 3. put in place policies, programmes and systems to support agreed values 4. challenge behaviours and attitudes that conflict with agreed values 5. confirm that senior management recognise, understand and will promote the importance of making compliance part of the culture of your organisation 6. promote the benefits of a positive compliance culture 7. assist in developing a climate of openness about meeting or not meeting the requirements for compliance 8. encourage an ‘open-door’ policy for staff to seek clarification on compliance matters  Assist in developing the compliance culture of your organisation  Assist in developing the compliance culture of your organisation 2\"),\n",
       " ('Air Conditioning Energy Assessment, Energy Advisers, Green Deal Energy Advice',\n",
       "  'ASTACEA1',\n",
       "  'Work in a safe, effective and professional manner  Work in a safe, effective and professional manner 3 P18 deal with clients, other professionals, colleagues and others in a tactful, courteous and equitable manner at all times P19 work within the limits of your own competence and expertise P20 recognise and respond appropriately to pressure from any person which might influence the objectivity of your judgment P21 recognise and manage any potential conflicts of interest that may arise during your work P22 comply with the auditing and monitoring requirements of the accreditation or certification organisation(s), or the equivalents in the devolved Administrations, to which you belong P23 comply with all legislation relevant to your work P24 carry out work in accordance with relevant guidance relating to the assessment of energy performance including published conventions, ensuring that new and updated conventions are adopted promptly P25 conduct self and work in a manner conducive to providing a good standard of customer service consistent with the customer’s expectations P26 be able to explain the context of energy assessments P27 take action to protect clients’ property including their personal information, identifying and taking actions to mitigate risks to property, risks to self and risks to information P28 record all evidence necessary to support decisions made during the assessment, including any assumptions made, in accordance with current good practice and complying with the Scheme Operating Requirements, or their equivalent in the Devolved Administrations'),\n",
       " ('Compliance',\n",
       "  'FSPCOMP7',\n",
       "  'Performance criteria You must be able to: 1. carry out your role in line with your organisation’s strategy for compliance 2. communicate agreed values and assumptions that encourage behaviour which is consistent with your organisation’s overall vision and strategy for compliance 3. put in place policies, programmes and systems to support agreed values and plans 4. challenge behaviours and attitudes that conflict with agreed values 5. confirm that senior management recognise, understand and will promote the importance of making compliance part of the culture of your organisation 6. promote the benefits of a positive compliance culture 7. assist in developing a climate of openness about meeting or not meeting the requirements for compliance 8. encourage an ‘open door’ policy for staff to seek clarification on compliance matters  Assist in developing the compliance culture of your organisation  Assist in developing the compliance culture of your organisation 2'),\n",
       " ('Utilities Network Planning and Management',\n",
       "  'EUSUNPM17',\n",
       "  'Develop productive working relationships with colleagues in the energy and utilities sector  Develop productive working relationships with colleagues in the energy and utilities sector 2 Performance criteria You must be able to: P1 establish working relationships with all colleagues who are relevant to the work being carried out P2 recognise and agree the roles and responsibilities of colleagues and particularly in situations of matrix management and the managers’ requirements P3 take account of the priorities, expectations and authority of colleagues in decisions and actions P4 create an environment of trust and mutual respect where you have no authority, or shared authority over those you are working with P5 take account of situations and issues from your colleague’s perspective and provide support where necessary to move things forward P6 fulfil agreements with colleagues P7 promptly advise colleagues of any difficulties, or where it will be impossible to fulfil agreements P8 identify and resolve conflicts of interest and disagreements with colleagues in a way the minimises damage to the work being carried out P9 exchange information and resources with colleagues to ensure all parties can work effectively P10 provide feedback to colleagues on their performance and seek feedback on your own performance to identify areas of improvement'),\n",
       " ('Non Domestic Energy Advisors',\n",
       "  'ASTNDEA1',\n",
       "  'Work in a safe, effective, professional and ethical manner  Work in a safe, effective, professional and ethical manner 3 accreditation or certification organisation to which you belong P22 comply with all legislation relevant to your work P23 have regard to all relevant guidance relating to the provision of energy advice'),\n",
       " ('Sales (2013)',\n",
       "  'CFASAL021',\n",
       "  'Ensure compliance with legal, regulatory and ethical requirements  Ensure compliance with legal, regulatory and ethical requirements 2 Performance criteria You must be able to: P1 source relevant information on legal, regulatory and ethical requirements in the industry sector, seeking advice from appropriate sources of expertise where necessary P2 monitor and evaluate the relevant legal, regulatory, and ethical requirements and their impact on the area of responsibility, including political, environmental and technical, and the potential consequences if they are not met P3 develop effective policies and procedures to ensure that the organisation meets all the necessary requirements P4 ensure that relevant people have a clear understanding of the policies and procedures and the importance of putting them into practice P5 monitor the way that policies and procedures are put into practice and provide relevant support P6 encourage a climate of openness about meeting and not meeting the requirements P7 identify and correct any failures to meet the requirements P8 identify reasons for not meeting requirements and adjust the policies and procedures to reduce the likelihood of failures in the future P9 provide full reports about any failures to meet the requirements to the relevant stakeholders'),\n",
       " ('Electricity Power Utilities, Electricity Smart Metering, Gas Network Construction',\n",
       "  'EUSSM004L',\n",
       "  'Scope/range Range relating to the performance criteria and knowledge and understanding relevant information and documentation which must be prepared to include all of the following: personal company identification • job documentation • company information • custo*mer concerns and issues* to include the following: resolve customer issues on site within own level of responsibility • resolve customer issues on site when outside own area of responsibility by referring to an appropriate person • report issues which cannot be resolved on site • provide the customer with contact details of other personnel if requested • **  Deliver customer service in the energy supply and use sector Legacy  Deliver customer service in the energy supply and use sector Legacy 4'),\n",
       " ('Utilities Network Planning and Management',\n",
       "  'EUSUNPM11',\n",
       "  'Managing Health, Safety and the Environment in the energy and utilities sector workplace  Managing Health, Safety and the Environment in the energy and utilities sector workplace 2 Performance criteria You must be able to: You must be able to: You must be able to: Monitor the workplace for health and safety compliance P1 obtain information from reliable sources to keep up to date with health and safety legislation, regulations and workplace policies and procedures relating to the energy and utilities sector P2 monitor the workplace at agreed intervals and in accordance with workplace policies and procedures P3 make sure that workers health and safety competence is up to date with energy and utilities sector legislation, regulations and policies and procedures P4 make sure the health and safety training needs of other people are identified and met P5 promptly respond to any breaches of health and safety instructions in accordance with workplace and legal requirements P6 recommend any changes to workplace instructions to the responsible person Minimise risks in the energy and utilities sector workplace P7 maintain records of workplace risks. To include the following: P7. 1 those identified by self P7. 2 those identified by others P8 report and respond to the existence of hazards in accordance with workplace health and safety instructions P9 put in place appropriate controls to risks that have been agreed with the people responsible for health and safety P10 check that other people are aware of the risks in the workplace and know the actions to be taken to minimise them P11 review the operational controls to make sure workplace hazards are eliminated or controlled P12 report any conflicts which exist between workplace and legal requirements to the people responsible for health and safety in the workplace Investigate accidents and incidents in the energy and utilities sector workplace P13 identify and record the category level of the accident/incident P14 identify and record the appropriate lead person for the investigation based on the category of accident/incident P15 gather all appropriate information relating to the accident/incident P16 assess the information gathered relating to the accident/incident to ensure there are no irregularities P17 develop an Action Plan following the analysis of the accident/incident to include measurable outcomes P18 record the actions of the Action Plan on the appropriate form(s) P19 circulate and communicate the Action Plan to the appropriate people'),\n",
       " ('Achieving Food Manufacturing Excellence',\n",
       "  'IMPQI246',\n",
       "  'Performance criteria You must be able to: Manage compliance with regulations in the areas you are responsible for 1. identify the relevant regulations which apply to your work area to support compliance 2. access information about relevant regulations that impact and support compliance 3. wear the relevant personal and protective clothing and equipment and ensure others do so in accordance with procedures 4. act as a role-model following all organisational procedures which apply to your work area and ensure others do so 5. apply and promote safe working practices in accordance with procedures 6. recognise and advise relevant personnel about control hazards 7. receive reports and act on potential risks and hazards in accordance with procedures 8. provide learning and guidance where individuals need support to meet compliance standards Make recommendations and implement changes for improving compliance 9. identify opportunities for improving compliance standards to meet organisational needs 10. identify opportunities to improve compliance for the requirements of the food safety management system 11. evaluate relevant information, data and resources to support potential compliance improvements 12. make valid changes for improving operational compliance within the limit of responsibility 13. use relevant measures of plant effectiveness and improvement to inform recommendations to the relevant personnel 14. refer any issues outside the limit of your authority to the relevant personnel 15. check and confirm that your recommendations meet all organisational compliance requirements Obtain and provide feedback on compliance 16. seek feedback on the value of your contribution to compliance from the relevant personnel 17. check current compliance levels and targets in accordance with procedures 18. provide feedback on your contribution to compliance to the relevant personnel  Manage compliance to support improvement in food and drink operations  Manage compliance to support improvement in food and drink operations 2'),\n",
       " ('Air Conditioning Energy Assessment, Energy Advisers, Green Deal Energy Advice',\n",
       "  'ASTACEA1',\n",
       "  'Work in a safe, effective and professional manner  Work in a safe, effective and professional manner 2 Performance criteria You must be able to: Contribute to the maintenance of health, safety and security at work P1 E xplain relevant legal requirements and responsibilities for health, safety and security in the workplace and carry out working practices in accordance with those requirements P2 identify and record, via a risk assessment, any health, safety and security risks in different locations, to yourself, others and property, and take action to minimise or mitigate such risks P3 ensure your own personal conduct in the workplace does not endanger the health, safety and security of yourself, other people and property P4 follow the workplace policies and suppliers’ or manufacturers’ instructions for the safe use of equipment, materials and products P5 follow emergency procedures effectively to protect the health, safety and security of people P6 pass on any suggestions for improving health, safety and security within the workplace to the responsible persons You must be able to: Develop and maintain effective working relationships P7 develop and maintain productive working relationships with others which promote goodwill and trust P8 request information from others in a polite, clear and professional manner P9 identify and use further sources of information when necessary P10 handle enquiries which are outside own authority, beyond own area of knowledge and expertise and involve confidential information P11 respond promptly to enquiries from others and ask questions to clarify their information needs, taking action in cases where you are unable to respond to such enquiries P12 handle and resolve disputes and differences of opinion in ways which minimise offence and maintain respect P13 comply with formal complaints procedures, including own responsibility for handling complaints in the first instance and be able to explain the complaints procedure to others You must be able to: Conduct energy assessments in a professional and ethical manner P14 present a positive personal and professional image at all times when dealing with customers, other professionals, colleagues and others P15 carry out your work in accordance with prescribed codes of conduct, ethical standards and recognised good practice P16 develop yourself within your role, identifying and completing your development needs as relevant to your role P17 manage your own work activities effectively'),\n",
       " ('Compliance',\n",
       "  'FSPCOMP12',\n",
       "  'Performance criteria You must be able to: 1. identify the regulations with which your organisation must comply 2. liaise with managers of business units to keep you updated on the development of your organisation’s products and services and business strategies 3. assess the compliance implications of new products, services and business structures and strategies and the regulatory risks of business strategies to the organisation 4. advise relevant people of any identified risks and their implications for the business 5. make compliance recommendations to help deliver new products services and business strategies including new compliance controls and resources as necessary 6. advise regulatory bodies of significant changes to business structures and strategies, as necessary  Consider and advise on the compliance implications of business strategies at your organisation  Consider and advise on the compliance implications of business strategies at your organisation 2')]"
      ]
     },
     "execution_count": 18,
     "metadata": {},
     "output_type": "execute_result"
    }
   ],
   "source": [
    "[(nos['metadata']['industry'],nos['metadata']['nos_id'],nos['metadata']['text']) for nos in nos_docs][:11]"
   ]
  },
  {
   "cell_type": "code",
   "execution_count": null,
   "metadata": {},
   "outputs": [],
   "source": []
  },
  {
   "cell_type": "markdown",
   "metadata": {},
   "source": [
    "## To Format NOS text\n",
    "\n",
    "#### > Generate Skills and Competencies\n",
    "#### > Include Industry in text (to make it more relevant)"
   ]
  },
  {
   "cell_type": "code",
   "execution_count": null,
   "metadata": {},
   "outputs": [],
   "source": []
  }
 ],
 "metadata": {
  "kernelspec": {
   "display_name": "Python 3",
   "language": "python",
   "name": "python3"
  },
  "language_info": {
   "codemirror_mode": {
    "name": "ipython",
    "version": 3
   },
   "file_extension": ".py",
   "mimetype": "text/x-python",
   "name": "python",
   "nbconvert_exporter": "python",
   "pygments_lexer": "ipython3",
   "version": "3.9.6"
  }
 },
 "nbformat": 4,
 "nbformat_minor": 2
}
