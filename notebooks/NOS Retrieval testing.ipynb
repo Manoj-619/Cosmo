{
 "cells": [
  {
   "cell_type": "code",
   "execution_count": 1,
   "metadata": {},
   "outputs": [
    {
     "data": {
      "text/plain": [
       "True"
      ]
     },
     "execution_count": 1,
     "metadata": {},
     "output_type": "execute_result"
    }
   ],
   "source": [
    "import os\n",
    "from openai import OpenAI\n",
    "from pinecone import Pinecone\n",
    "from typing import List\n",
    "from dotenv import load_dotenv\n",
    "load_dotenv()"
   ]
  },
  {
   "cell_type": "code",
   "execution_count": 2,
   "metadata": {},
   "outputs": [],
   "source": [
    "pinecone_client = Pinecone(api_key=os.environ['PINECONE_API_KEY'])\n",
    "\n",
    "openai_client = OpenAI(\n",
    "  api_key=os.environ['OPENAI_API_KEY'],  \n",
    ")"
   ]
  },
  {
   "cell_type": "code",
   "execution_count": 3,
   "metadata": {},
   "outputs": [],
   "source": [
    "def get_embedding(text: str, model: str = \"text-embedding-3-small\") -> List[float]:\n",
    "    \"\"\"\n",
    "    Get the embedding of a text using OpenAI's API.\n",
    "    \"\"\"\n",
    "    response = openai_client.embeddings.create(\n",
    "        input=text,\n",
    "        model=model\n",
    "    )\n",
    "    embedding = response.data[0].embedding\n",
    "    return embedding"
   ]
  },
  {
   "cell_type": "code",
   "execution_count": 13,
   "metadata": {},
   "outputs": [],
   "source": [
    "query = \"\"\"\n",
    "Job role is Energy Compliance Consultant, \n",
    "Department is Compliance, \n",
    "Industry is Energy and Gas.\n",
    "\n",
    "Functional/Technical Skills:\n",
    "▪ Effective communicator in both written and verbal communictions, including\n",
    "ability to propose practical actions and tailor communications to a variety of\n",
    "levels of stakeholder (including senior management and the Board).\n",
    "▪ Confident in absorbing and manipulating information/data, from multiple\n",
    "sources (and multiple formats, e.g Microsoft Excel, PowerBI, operational\n",
    "systems), to drive Assurance insight, review conclusions and proportionate\n",
    "actions.\n",
    "▪ Able to understand, identify and clearly articulate risks and controls arising in\n",
    "relation to a wide range of issues, with a particular focus on conduct risk and\n",
    "customer outcomes, and ability to design testing activities in line with the\n",
    "department methodology.\n",
    "▪ Robust and independent mindset with the confidence to raise issues\n",
    "appropriately.\n",
    "▪ Advanced level stakeholder skills and comfortable dealing with all grades of\n",
    "colleague.\n",
    "▪ Able to work effectively individually and as part of a team to deliver to tight\n",
    "deadlines.\n",
    "\n",
    "Education and Certifications:\n",
    " ▪ Demonstrable experience of compliance activity within a regulatory sector\n",
    "and/or educated to degree standard (Law or Economics degree preferable)\n",
    "with aspiration to work in a high performing compliance function.\n",
    "\n",
    "Competencies:\n",
    "▪ Demonstrable experience of working in a regulated environment and\n",
    "understanding of the energy supply regulatory framework.\n",
    "▪ Credibility to build relationships with a variety of internal stakeholders and\n",
    "influence accordingly.\n",
    "▪ Experience in multi-tasking, being able to navigate complex tasks & prioritise\n",
    "effectively.\n",
    "▪ Developing close ‘trusted adviser’ relationships with key business leaders.\n",
    "▪ Wins hearts and minds across the business and inspires others to act for the\n",
    "betterment of our business and its customers.\n",
    "▪ Proven oral and written communication skills with the ability to explain\n",
    "complex compliance requirements and prove pragmatic advice to stakeholders.\n",
    "▪ Engage with stakeholders in an open, honest, and productive manner to\n",
    "promote collaborative working.\n",
    "▪ Effectively manage stakeholders and senior management during meetings by\n",
    "adapting the style of communication to suit the situation and the individual.\"\"\""
   ]
  },
  {
   "cell_type": "code",
   "execution_count": 43,
   "metadata": {},
   "outputs": [],
   "source": [
    "query = \"\"\"Energy Compliance Consultant - Ethics and Compliance, Compliance\"\"\""
   ]
  },
  {
   "cell_type": "code",
   "execution_count": 105,
   "metadata": {},
   "outputs": [],
   "source": [
    "\n",
    "query_vector = get_embedding(query)  \n",
    "\n",
    "    # Query the Pinecone index\n",
    "index = pinecone_client.Index('nos-202501-v2')  \n",
    "nos_docs = index.query(vector=query_vector,\n",
    "            top_k=1,\n",
    "            include_metadata=True,\n",
    "            # filter={\"industry\": \"Compliance\"}\n",
    "            # filter={\"type\":\"Developed by\"}\n",
    "            # filter={\"type\":\"Performance criteria\"}\n",
    "            # filter={\"type\":\"Knowledge and understanding\"}\n",
    "            filter={\"nos_id\": 'UNSML009'}\n",
    "        )"
   ]
  },
  {
   "cell_type": "code",
   "execution_count": 106,
   "metadata": {},
   "outputs": [
    {
     "data": {
      "text/plain": [
       "{'matches': [], 'namespace': '', 'usage': {'read_units': 5}}"
      ]
     },
     "execution_count": 106,
     "metadata": {},
     "output_type": "execute_result"
    }
   ],
   "source": [
    "nos_docs"
   ]
  },
  {
   "cell_type": "code",
   "execution_count": 6,
   "metadata": {},
   "outputs": [],
   "source": [
    "existing_nos_ids = \"\"\"ASTFM324\n",
    "CFAGOR1\n",
    "CFAGOR3\n",
    "CFAGOR5\n",
    "CFAGOR6\n",
    "CFAMAR10\n",
    "CFARMA006\n",
    "CFASAL021\n",
    "CLDSCCD25\n",
    "FSPAML1\n",
    "FSPAML10\n",
    "FSPAML19\n",
    "FSPAML20\n",
    "FSPAML3\n",
    "FSPAML5\n",
    "FSPCOMP10\n",
    "FSPCOMP12\n",
    "FSPCOMP15\n",
    "FSPCOMP16\n",
    "FSPCOMP2\n",
    "FSPCOMP3\n",
    "FSPCOMP4\n",
    "FSPCOMP6\n",
    "FSPCOMP7\n",
    "FSPCOMP8\n",
    "FSPCOMP9\n",
    "FSPFCC04\n",
    "INSCS002\n",
    "INSCS010\n",
    "INSCS014\n",
    "INSCS028\n",
    "INSCS030\n",
    "INSCS034\n",
    "INSCS038\n",
    "INSCS039\n",
    "INSCS043\n",
    "INSML013\n",
    "INSML017\n",
    "INSML019\n",
    "INSML021\n",
    "INSML032\n",
    "INSML043\n",
    "INSML052\n",
    "LANEM17\n",
    "LANEM18\n",
    "LSI CM10\n",
    "PPLAOG74\n",
    "PROMPR4\n",
    "SFJCCBE2.1\n",
    "SFJCCBE4.1\n",
    "SFJHD2\n",
    "SFJPA3.2\n",
    "SKSAS22\n",
    "TECDT80651\n",
    "REC1\n",
    "\"\"\"\n",
    "\n",
    "existing_nos_ids = existing_nos_ids.split('\\n')\n",
    "existing_nos_ids = [id.strip() for id in existing_nos_ids]"
   ]
  },
  {
   "cell_type": "code",
   "execution_count": 8,
   "metadata": {},
   "outputs": [],
   "source": [
    "required_nos_ids = \"\"\"CFAGOR3, ASTFM324, LANEM17, CFAGOR5, FSPCOMP4, FSPCOMP16, CFAGOR6, LANEM18,\n",
    "FSPAML19, FSPAML10, FSPCOMP16, FSPAML3, FSPCOMP12, FSPCOMP15,\n",
    "FSPAML19, FSPAML10, INSML013, FSPAML1, FSPCOMP8, FSPAML5, CFAGOR6,\n",
    "SFJCCBE4.1, INSML021, PROMPR4, SFJHD2, SFJCCBE2.1, INSML017,\n",
    "CLDSCCD25, INSML032, LSI CM10, INSML019, INSML019, INSML043, REC1,\n",
    "INSML052, INSCS030, INSCS034, INSCS043, SKSAS22, INSCS014, INSCS039, INSCS038,\n",
    "INSCS030, INSCS039, INSCS038, INSML052, INSCS010,\n",
    "INSCS028, SKAOSC34, INSCS039, INSCS010, INSCS002,\n",
    "FSPFCC04, FSPCOMP9, CFAGOR6, FSPCOMP2, FSPCOMP10, FSPCOMP16,\n",
    "FSPCOMP3, CFARMA006, FSPCOMP6, FSPCOMP8, INSML013,\n",
    "FSPAML19, FSPAML20, FSPCOMP15, CFAGOR6, SFJPA3.2, TECDT80651,\n",
    "INSML013, CFASAL021, CFAMAR10, PPLAOG74,\n",
    "INSML013, FSPCOMP3, CFAGOR1,\n",
    "INSML013, FSPCOMP7, FSPCOMP15, FSPCOMP16, CFAGOR3, ASTFM324, LANEM17,\n",
    "ESKITP4015, SEMENGM5_14, TECDT20641,\n",
    "EUSMUNC10, EUSUIM03, EUSUNPM11, PROHSP10, COSVX02,\n",
    "ESKITP4015, ECIPMA1, TECDT20761, TECDT20151,\n",
    "INSSAL006, CFAUE3, SKSAS14, INSMAR009, INSSAL014,\n",
    "TECDT50942, TECDT80841, ESKITP2026.03, TECHDUBI3, TECHDUBI1, ESKITP803401,\n",
    "LANEM20, INSEA5, EUSUNPM13, INSML035, LANWFS14,\n",
    "\n",
    "\"\"\"\n",
    "\n",
    "required_nos_ids = required_nos_ids.split(',')\n",
    "required_nos_ids = [id.strip() for id in required_nos_ids]"
   ]
  },
  {
   "cell_type": "code",
   "execution_count": 44,
   "metadata": {},
   "outputs": [
    {
     "name": "stdout",
     "output_type": "stream",
     "text": [
      "Ingestion pending for 29 NOS ids\n"
     ]
    }
   ],
   "source": [
    "nos_ids_to_search = [nos_id for nos_id in required_nos_ids if nos_id not in existing_nos_ids]\n",
    "print(f\"Ingestion pending for {len(nos_ids_to_search)} NOS ids\")"
   ]
  },
  {
   "cell_type": "code",
   "execution_count": 16,
   "metadata": {},
   "outputs": [],
   "source": [
    "query_vector = get_embedding(\"\") "
   ]
  },
  {
   "cell_type": "code",
   "execution_count": 55,
   "metadata": {},
   "outputs": [],
   "source": [
    "from tqdm import tqdm\n",
    "import pandas as pd\n",
    "\n",
    "excel_file_path = r\"/Users/mumtaz/Documents/projects/zavmo/zavmo-api/zavmo/assets/static_data/JDs_NOS_OFQUAL.xlsx\""
   ]
  },
  {
   "cell_type": "code",
   "execution_count": 57,
   "metadata": {},
   "outputs": [
    {
     "name": "stdout",
     "output_type": "stream",
     "text": [
      "Current NOS model has 55 NOS data\n"
     ]
    }
   ],
   "source": [
    "existing_data = pd.read_excel(excel_file_path, sheet_name='NOS model')\n",
    "print(f\"Current NOS model has {existing_data.shape[0]} NOS data\")"
   ]
  },
  {
   "cell_type": "code",
   "execution_count": null,
   "metadata": {},
   "outputs": [
    {
     "name": "stderr",
     "output_type": "stream",
     "text": [
      "100%|██████████| 29/29 [01:28<00:00,  3.04s/it]\n"
     ]
    }
   ],
   "source": [
    "\n",
    "missing_nos_ids = []\n",
    "for nos_id in tqdm(nos_ids_to_search):\n",
    "    # existing_data = pd.read_excel(excel_file_path, sheet_name='NOS model')\n",
    "    nos_data = {}\n",
    "    nos_data['nos_id'] = nos_id\n",
    "\n",
    "    index   = pinecone_client.Index('nos-202501-v2')  \n",
    "    nos_doc = index.query(vector=query_vector,\n",
    "            top_k=1,\n",
    "            include_metadata=True,\n",
    "            filter={\"nos_id\": nos_id}\n",
    "        )\n",
    "    if not len(nos_doc['matches']) == 1:\n",
    "        continue\n",
    "\n",
    "    nos_data['text'] = nos_doc['matches'][0]['metadata']['text']\n",
    "    nos_data['industry'] = nos_doc['matches'][0]['metadata']['industry']\n",
    "\n",
    "    index = pinecone_client.Index('test-nos')  \n",
    "    nos_docs = index.query(vector=query_vector,\n",
    "            top_k=2,\n",
    "            include_metadata=True,\n",
    "            filter={\"nos_id\": nos_id,  \n",
    "                    \"$or\": [\n",
    "            {\"type\": \"Performance criteria\"},\n",
    "            {\"type\": \"Knowledge and understanding\"}]\n",
    "            }\n",
    "        )['matches']\n",
    "   \n",
    "    performance_taken = False\n",
    "    knowledge_taken = False\n",
    "\n",
    "    if len(nos_docs)>0:    \n",
    "        for i in nos_docs:\n",
    "            if i['metadata']['type'] == \"Performance criteria\":\n",
    "                nos_data['performance_criteria'] = i['metadata']['text']\n",
    "                performance_taken = True\n",
    "            elif i['metadata']['type'] == \"Knowledge and understanding\":\n",
    "                nos_data['knowledge_criteria'] = i['metadata']['text']\n",
    "                knowledge_taken = True\n",
    "                \n",
    "    if performance_taken and knowledge_taken:\n",
    "        nos_data['text'] = nos_data['text'] + \"\\n\\n\" + nos_data['performance_criteria'] + \"\\n\\n\" + nos_data['knowledge_criteria']\n",
    "        del nos_data['performance_criteria']\n",
    "        del nos_data['knowledge_criteria']\n",
    "        existing_data = pd.concat([existing_data, pd.DataFrame([nos_data])], ignore_index=True)\n",
    "        existing_data = existing_data.drop_duplicates()\n",
    "        \n",
    "        # existing_data.to_excel(excel_file_path, sheet_name='NOS model', index=False)\n",
    "\n",
    "    elif not performance_taken and not knowledge_taken:\n",
    "        missing_nos_ids.append({'nos_id': nos_id, 'missing': 'Both'})\n",
    "    elif not performance_taken:\n",
    "        missing_nos_ids.append({'nos_id': nos_id, 'missing': 'Performance criteria'})\n",
    "    elif not knowledge_taken:\n",
    "        missing_nos_ids.append({'nos_id': nos_id, 'missing': 'Knowledge and understanding'})\n",
    "    "
   ]
  },
  {
   "cell_type": "code",
   "execution_count": 66,
   "metadata": {},
   "outputs": [
    {
     "data": {
      "text/plain": [
       "[{'nos_id': 'SKAOSC34', 'missing': 'Both'},\n",
       " {'nos_id': 'ESKITP4015', 'missing': 'Knowledge and understanding'},\n",
       " {'nos_id': 'EUSUNPM11', 'missing': 'Knowledge and understanding'},\n",
       " {'nos_id': 'ESKITP4015', 'missing': 'Knowledge and understanding'},\n",
       " {'nos_id': 'ECIPMA1', 'missing': 'Performance criteria'},\n",
       " {'nos_id': 'TECDT20761', 'missing': 'Both'},\n",
       " {'nos_id': 'CFAUE3', 'missing': 'Both'}]"
      ]
     },
     "execution_count": 66,
     "metadata": {},
     "output_type": "execute_result"
    }
   ],
   "source": [
    "missing_nos_ids"
   ]
  },
  {
   "cell_type": "code",
   "execution_count": 67,
   "metadata": {},
   "outputs": [
    {
     "data": {
      "text/html": [
       "<div>\n",
       "<style scoped>\n",
       "    .dataframe tbody tr th:only-of-type {\n",
       "        vertical-align: middle;\n",
       "    }\n",
       "\n",
       "    .dataframe tbody tr th {\n",
       "        vertical-align: top;\n",
       "    }\n",
       "\n",
       "    .dataframe thead th {\n",
       "        text-align: right;\n",
       "    }\n",
       "</style>\n",
       "<table border=\"1\" class=\"dataframe\">\n",
       "  <thead>\n",
       "    <tr style=\"text-align: right;\">\n",
       "      <th></th>\n",
       "      <th>nos_id</th>\n",
       "      <th>industry</th>\n",
       "      <th>text</th>\n",
       "    </tr>\n",
       "  </thead>\n",
       "  <tbody>\n",
       "    <tr>\n",
       "      <th>0</th>\n",
       "      <td>ASTFM324</td>\n",
       "      <td>Facilities Management</td>\n",
       "      <td>**NOS ID:** ASTFM324  \\n**Industry:** Faciliti...</td>\n",
       "    </tr>\n",
       "    <tr>\n",
       "      <th>1</th>\n",
       "      <td>CFAGOR1</td>\n",
       "      <td>Governance of Risk</td>\n",
       "      <td>**NOS ID:** CFAGOR1  \\n**Industry:** Governanc...</td>\n",
       "    </tr>\n",
       "    <tr>\n",
       "      <th>2</th>\n",
       "      <td>CFAGOR3</td>\n",
       "      <td>Governance of Risk</td>\n",
       "      <td>**NOS ID:** CFAGOR3  \\n**Industry:** Governanc...</td>\n",
       "    </tr>\n",
       "    <tr>\n",
       "      <th>3</th>\n",
       "      <td>CFAGOR5</td>\n",
       "      <td>Governance of Risk</td>\n",
       "      <td>**NOS ID:** CFAGOR5  \\n**Industry:** Governanc...</td>\n",
       "    </tr>\n",
       "    <tr>\n",
       "      <th>4</th>\n",
       "      <td>CFAGOR6</td>\n",
       "      <td>Governance of Risk</td>\n",
       "      <td>**NOS ID:** CFAGOR6  \\n**Industry:** Governanc...</td>\n",
       "    </tr>\n",
       "    <tr>\n",
       "      <th>...</th>\n",
       "      <td>...</td>\n",
       "      <td>...</td>\n",
       "      <td>...</td>\n",
       "    </tr>\n",
       "    <tr>\n",
       "      <th>72</th>\n",
       "      <td>LANEM20</td>\n",
       "      <td>Organisational Environmental Awareness and Man...</td>\n",
       "      <td>**NOS ID:** LANEM20  \\n**Title:** Plan, develo...</td>\n",
       "    </tr>\n",
       "    <tr>\n",
       "      <th>73</th>\n",
       "      <td>INSEA5</td>\n",
       "      <td>Energy Advisers</td>\n",
       "      <td>**NOS ID:** INSEA5  \\n**Title:** Promote low a...</td>\n",
       "    </tr>\n",
       "    <tr>\n",
       "      <th>74</th>\n",
       "      <td>EUSUNPM13</td>\n",
       "      <td>Utilities Network Planning and Management</td>\n",
       "      <td>**NOS ID:** EUSUNPM13  \\n**Title:** Project Ma...</td>\n",
       "    </tr>\n",
       "    <tr>\n",
       "      <th>75</th>\n",
       "      <td>INSML035</td>\n",
       "      <td>Management and Leadership</td>\n",
       "      <td>**NOS ID:** INSML035  \\n**Title:** Identify an...</td>\n",
       "    </tr>\n",
       "    <tr>\n",
       "      <th>76</th>\n",
       "      <td>LANWFS14</td>\n",
       "      <td>Workplace and Facilities Services</td>\n",
       "      <td>**NOS ID:** LANWFS14  \\n**Title:** Manage ener...</td>\n",
       "    </tr>\n",
       "  </tbody>\n",
       "</table>\n",
       "<p>77 rows × 3 columns</p>\n",
       "</div>"
      ],
      "text/plain": [
       "       nos_id                                           industry  \\\n",
       "0    ASTFM324                              Facilities Management   \n",
       "1     CFAGOR1                                 Governance of Risk   \n",
       "2     CFAGOR3                                 Governance of Risk   \n",
       "3     CFAGOR5                                 Governance of Risk   \n",
       "4     CFAGOR6                                 Governance of Risk   \n",
       "..        ...                                                ...   \n",
       "72    LANEM20  Organisational Environmental Awareness and Man...   \n",
       "73     INSEA5                                    Energy Advisers   \n",
       "74  EUSUNPM13          Utilities Network Planning and Management   \n",
       "75   INSML035                          Management and Leadership   \n",
       "76   LANWFS14                  Workplace and Facilities Services   \n",
       "\n",
       "                                                 text  \n",
       "0   **NOS ID:** ASTFM324  \\n**Industry:** Faciliti...  \n",
       "1   **NOS ID:** CFAGOR1  \\n**Industry:** Governanc...  \n",
       "2   **NOS ID:** CFAGOR3  \\n**Industry:** Governanc...  \n",
       "3   **NOS ID:** CFAGOR5  \\n**Industry:** Governanc...  \n",
       "4   **NOS ID:** CFAGOR6  \\n**Industry:** Governanc...  \n",
       "..                                                ...  \n",
       "72  **NOS ID:** LANEM20  \\n**Title:** Plan, develo...  \n",
       "73  **NOS ID:** INSEA5  \\n**Title:** Promote low a...  \n",
       "74  **NOS ID:** EUSUNPM13  \\n**Title:** Project Ma...  \n",
       "75  **NOS ID:** INSML035  \\n**Title:** Identify an...  \n",
       "76  **NOS ID:** LANWFS14  \\n**Title:** Manage ener...  \n",
       "\n",
       "[77 rows x 3 columns]"
      ]
     },
     "execution_count": 67,
     "metadata": {},
     "output_type": "execute_result"
    }
   ],
   "source": [
    "existing_data"
   ]
  },
  {
   "cell_type": "code",
   "execution_count": 30,
   "metadata": {},
   "outputs": [],
   "source": [
    "# existing_data.to_excel(\"/Users/mumtaz/Documents/projects/zavmo/nos_model.xlsx\", index=False)"
   ]
  },
  {
   "cell_type": "code",
   "execution_count": 107,
   "metadata": {},
   "outputs": [],
   "source": [
    "index = pinecone_client.Index('test-nos')  \n",
    "nos_docs = index.query(\n",
    "            vector=query_vector,\n",
    "            top_k=2,\n",
    "            include_metadata=True,\n",
    "            filter={\"nos_id\": 'UNSML009',  \n",
    "                    \"$or\": [\n",
    "            {\"type\": \"Performance criteria\"},\n",
    "            {\"type\": \"Knowledge and understanding\"}]\n",
    "            }\n",
    "        )"
   ]
  },
  {
   "cell_type": "code",
   "execution_count": 110,
   "metadata": {},
   "outputs": [
    {
     "data": {
      "text/plain": [
       "{'matches': [], 'namespace': '', 'usage': {'read_units': 8}}"
      ]
     },
     "execution_count": 110,
     "metadata": {},
     "output_type": "execute_result"
    }
   ],
   "source": [
    "nos_docs"
   ]
  },
  {
   "cell_type": "code",
   "execution_count": 66,
   "metadata": {},
   "outputs": [
    {
     "data": {
      "text/plain": [
       "{'industry': 'money laundering and countering terrorist financing measures  -Anti-money Laundering',\n",
       " 'nos_id': 'FSPAML10',\n",
       " 'text': 'Performance criteria You must be able to: 1. assist in developing a climate of openness about meeting or not meeting the requirements for Anti- money Laundering and Countering Terrorist Financing 2. check that relevant staff have a clear understanding of Anti-money Laundering and Countering Terrorist Financing measures, how these apply to them and their work, and the importance of complying with them 3. monitor the way staff comply with measures at regular and appropriate intervals 4. identify appropriate training where staff need support in adhering to measures 5. identify potential barriers to training and determine strategies to deal with these 6. maintain relevant records of training and competence for all employees for the required length of time 7. take prompt action to correct any failures to meet the Anti-money Laundering and Countering Terrorist Financing requirements 8. identify reasons for requirements not being met and any trends or patterns emerging 9. keep accurate and complete records of any failures to comply with measures and report this information to senior management or to the appropriate authority when necessary  Assist senior management in ensuring that staff at your organisation comply with anti-money laundering and countering terrorist financing measures  Assist senior management in ensuring that staff at your organisation comply with anti-money laundering and countering terrorist financing measures 2',\n",
       " 'title': 'Assist senior management in ensuring that staff at your organisation comply with anti',\n",
       " 'type': 'Performance criteria'}"
      ]
     },
     "execution_count": 66,
     "metadata": {},
     "output_type": "execute_result"
    }
   ],
   "source": [
    "nos_docs['matches'][1]['metadata']\n"
   ]
  },
  {
   "cell_type": "code",
   "execution_count": 19,
   "metadata": {},
   "outputs": [
    {
     "data": {
      "text/plain": [
       "[]"
      ]
     },
     "execution_count": 19,
     "metadata": {},
     "output_type": "execute_result"
    }
   ],
   "source": [
    "[(n+1,nos['metadata']['nos_id']) for n,nos in enumerate(nos_docs) if nos['metadata']['nos_id'].startswith('FSPCOMP')]"
   ]
  },
  {
   "cell_type": "code",
   "execution_count": 48,
   "metadata": {},
   "outputs": [
    {
     "data": {
      "text/plain": [
       "[('Sales (2013)',\n",
       "  'CFASAL021',\n",
       "  \"**NOS ID:** CFASAL021  \\n**Title:** Ensure compliance with legal, regulatory and ethical requirements  \\n**Industry:** Sales (2013)  \\n**Overview:** This standard focuses on managing an organization's operations to adhere to its ethical values and comply with legal and regulatory requirements, ensuring responsible behavior towards staff, customers, stakeholders, and the community. It emphasizes the importance of following laws related to health and safety, employment, and finance while aligning with industry-specific regulations.  \\n**Relevant Roles:** Sales professionals, Marketing and sales managers, Business sales executives, Sales accounts and business development managers, Telephone salespersons, Sales related occupations  \\n**Keywords:** Legal requirements; Regulatory requirements; Ethical requirements; Sales policies; Organizational policies; Social concerns; Compliance monitoring; Governance; Policy effectiveness; Reporting procedures\"),\n",
       " ('Marketing',\n",
       "  'CFAMAR10',\n",
       "  '**NOS ID:** CFAMAR10  \\n**Title:** Ensure marketing activities comply with legal, regulatory and ethical requirements  \\n**Industry:** Marketing  \\n**Overview:** This standard focuses on conducting marketing activities in alignment with organizational values and ethical principles, ensuring compliance with all legal and regulatory requirements. It emphasizes the development of policies, stakeholder education, and staying current with best practices in marketing compliance.  \\n**Relevant Roles:** Marketing & Sales Manager, Marketing Associate  \\n**Keywords:** Marketing, sales, marketing management, market research, advertising, public relations, legal compliance, ethical standards, regulatory requirements.'),\n",
       " ('Compliance',\n",
       "  'FSPCOMP14',\n",
       "  '**NOS ID:** FSPCOMP14  \\n**Title:** Develop and maintain effective relationships with relevant external bodies  \\n**Industry:** Compliance  \\n**Overview:** This standard focuses on the identification and management of relationships with key external bodies, including regulatory and law enforcement authorities, ensuring effective communication and compliance with relevant regulations. It emphasizes the importance of recognizing the interests of these bodies while addressing any potential conflicts with the organization.  \\n**Relevant Roles:** Compliance Officers, Regulatory Affairs Specialists, Finance Managers, Chartered Secretaries, Financial Institution Managers  \\n**Keywords:** Compliance, relationship management, external bodies, conflict resolution, regulations, communication, consultation, confidentiality.'),\n",
       " ('Remote Monitoring Operations, Sales 2010',\n",
       "  'CFAS7.7',\n",
       "  '**NOS ID:** CFAS7.7  \\n**Title:** (Not explicitly provided in the document)  \\n**Industry:** Remote Monitoring Operations, Sales 2010  \\n**Overview:** This NOS unit focuses on ensuring that organizations comply with legal, regulatory, ethical, and social requirements in order to operate responsibly while aligning with their values and principles. It emphasizes accountability to various stakeholders, including staff and the community.  \\n**Relevant Roles:** Sales Managers, Senior Sales Managers, Key Customer Managers, Marketing and Sales Managers, Sales Representatives, Telephone Salespersons, Sales-related Occupations.  \\n**Keywords:** Compliance, legal requirements, regulatory standards, ethical practices, social responsibility, governance, sales strategy, stakeholder engagement.'),\n",
       " ('Compliance',\n",
       "  'FSPCOMP7',\n",
       "  '**NOS ID:** FSPCOMP7  \\n**Title:** Assist in developing the compliance culture of your organisation  \\n**Industry:** Compliance  \\n**Overview:** This NOS focuses on developing a compliance culture within an organization by aligning with senior management and demonstrating agreed values that support compliance through policies and systems.  \\n**Relevant Roles:** Finance Managers, Chartered Secretaries, Financial Institution Managers, Compliance Officers  \\n**Keywords:** Compliance, culture, organization, strategy, values, stakeholders, policies, behaviours, communication'),\n",
       " ('Operational Delivery Processing',\n",
       "  'SFJPD5.1',\n",
       "  '**NOS ID:** SFJPD5.1  \\n**Title:** Not provided  \\n**Industry:** Operational Delivery Processing  \\n**Overview:** This NOS outlines the necessity for organizations to ensure compliance with legal, regulatory, ethical, and social requirements to maintain responsible operations that consider the impact on staff, customers, and communities.  \\n**Relevant Roles:** Operational Delivery roles, Compliance Officers, Regulatory Affairs Specialists, Public Service Managers  \\n**Keywords:** Compliance, Legal Requirements, Regulatory Standards, Ethical Governance, Social Responsibility, Policy Development, Monitoring, Reporting, Risk Management'),\n",
       " ('Work with parents',\n",
       "  'LSIWWP409',\n",
       "  '**NOS ID:** LSIWWP409  \\n**Title:** Ensure compliance with legal, regulatory, ethical and social requirements  \\n**Industry:** Work with parents  \\n**Overview:** This NOS outlines the importance of compliance with legal, regulatory, ethical, and social requirements for organizations, emphasizing the need for responsible practices to maintain a good reputation and comply with relevant laws. It is aimed at middle and senior managers who are accountable for organizational adherence to these standards.  \\n**Relevant Roles:** Middle managers, Senior managers  \\n**Keywords:** legal, regulatory, ethical, compliance, governance, policies, procedures, monitoring, social concerns'),\n",
       " ('Management and Leadership',\n",
       "  'INSML013',\n",
       "  '**NOS ID:** INSML013  \\n**Title:** Ensure compliance with legal, regulatory, ethical and social requirements  \\n**Industry:** Management and Leadership  \\n**Overview:** This standard focuses on ensuring that organizations comply with legal, regulatory, ethical, and social requirements. It involves monitoring compliance, developing supportive policies and procedures, and providing guidance to colleagues, while identifying and rectifying any compliance failures.  \\n**Relevant Roles:** Managers and Senior Officials  \\n**Keywords:** Management, leadership, legal compliance, regulatory requirements, ethical considerations, social responsibilities, risk management, organizational policies.'),\n",
       " ('Logistics Operations',\n",
       "  'SFLLO35',\n",
       "  '**NOS ID:** SFLLO35  \\n**Title:** Ensure compliance with legal, regulatory, ethical and social requirements Legacy  \\n**Industry:** Logistics Operations  \\n**Overview:** This standard outlines the responsibilities related to compliance with legal, regulatory, ethical, and social requirements in logistics operations. It emphasizes the importance of responsible actions towards colleagues, customers, investors, and communities, and includes maintaining adherence to industry-specific regulations and ethical frameworks.  \\n**Relevant Roles:** Team managers in logistics operations, including roles in warehousing, storage, transport, and freight forwarding.  \\n**Keywords:** Compliance, legal, regulatory, ethical, social, logistics'),\n",
       " ('On Construction Domestic Energy Assessors, Energy Assessment & Advice',\n",
       "  'INSOCDEA3',\n",
       "  '**NOS ID:** INSOCDEA3  \\n**Title:** Produce compliance submissions and Energy Performance Certificates for new dwellings  \\n**Industry:** On Construction Domestic Energy Assessors, Energy Assessment & Advice  \\n**Overview:** This NOS outlines the process for producing compliance submissions and Energy Performance Certificates (EPCs) for new dwellings, ensuring compliance with relevant building regulations regarding energy performance. It focuses on preparing documentation that validates energy performance ratings and provides recommendations for improvements.  \\n**Relevant Roles:** Energy Assessors, Compliance Officers, Building Control Officers, Architects, Construction Managers  \\n**Keywords:** compliance, Building Regulations, Energy Performance Certificates, energy performance, recommendations, records, software, data protection, emissions rates'),\n",
       " ('Compliance',\n",
       "  'FSPCOMP9',\n",
       "  '**NOS ID:** FSPCOMP9  \\n**Title:** Advise and guide your organisation on compliance matters  \\n**Industry:** Compliance  \\n**Overview:** This standard focuses on the responsibilities of advising and guiding staff on compliance issues, ensuring an open environment for seeking support, and reporting compliance matters to senior management. It emphasizes establishing procedures for guidance requests and evaluating staff competence regarding compliance regulations.  \\n**Relevant Roles:** Compliance Officers, Finance Managers, Chartered Secretaries, Financial Institution Managers, Office Managers  \\n**Keywords:** Compliance; advise; staff; information; regulations; request; guidance; feedback; training; competence; reporting')]"
      ]
     },
     "execution_count": 48,
     "metadata": {},
     "output_type": "execute_result"
    }
   ],
   "source": [
    "[(nos['metadata']['industry'],nos['metadata']['nos_id'],nos['metadata']['text']) for nos in nos_docs['matches']][:11]"
   ]
  },
  {
   "cell_type": "code",
   "execution_count": null,
   "metadata": {},
   "outputs": [],
   "source": []
  }
 ],
 "metadata": {
  "kernelspec": {
   "display_name": "Python 3",
   "language": "python",
   "name": "python3"
  },
  "language_info": {
   "codemirror_mode": {
    "name": "ipython",
    "version": 3
   },
   "file_extension": ".py",
   "mimetype": "text/x-python",
   "name": "python",
   "nbconvert_exporter": "python",
   "pygments_lexer": "ipython3",
   "version": "3.11.4"
  }
 },
 "nbformat": 4,
 "nbformat_minor": 2
}
