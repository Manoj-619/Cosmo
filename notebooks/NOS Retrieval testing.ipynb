{
 "cells": [
  {
   "cell_type": "code",
   "execution_count": 1,
   "metadata": {},
   "outputs": [
    {
     "name": "stderr",
     "output_type": "stream",
     "text": [
      "/Library/Frameworks/Python.framework/Versions/3.11/lib/python3.11/site-packages/pinecone/data/index.py:1: TqdmWarning: IProgress not found. Please update jupyter and ipywidgets. See https://ipywidgets.readthedocs.io/en/stable/user_install.html\n",
      "  from tqdm.autonotebook import tqdm\n"
     ]
    },
    {
     "data": {
      "text/plain": [
       "True"
      ]
     },
     "execution_count": 1,
     "metadata": {},
     "output_type": "execute_result"
    }
   ],
   "source": [
    "import os\n",
    "from openai import OpenAI\n",
    "from pinecone import Pinecone\n",
    "from typing import List\n",
    "from dotenv import load_dotenv\n",
    "load_dotenv()"
   ]
  },
  {
   "cell_type": "code",
   "execution_count": 2,
   "metadata": {},
   "outputs": [],
   "source": [
    "pinecone_client = Pinecone(api_key=os.environ['PINECONE_API_KEY'])\n",
    "\n",
    "openai_client = OpenAI(\n",
    "  api_key=os.environ['OPENAI_API_KEY'],  \n",
    ")"
   ]
  },
  {
   "cell_type": "code",
   "execution_count": 3,
   "metadata": {},
   "outputs": [],
   "source": [
    "def get_embedding(text: str, model: str = \"text-embedding-3-small\") -> List[float]:\n",
    "    \"\"\"\n",
    "    Get the embedding of a text using OpenAI's API.\n",
    "    \"\"\"\n",
    "    response = openai_client.embeddings.create(\n",
    "        input=text,\n",
    "        model=model\n",
    "    )\n",
    "    embedding = response.data[0].embedding\n",
    "    return embedding"
   ]
  },
  {
   "cell_type": "code",
   "execution_count": 13,
   "metadata": {},
   "outputs": [],
   "source": [
    "query = \"\"\"\n",
    "Job role is Energy Compliance Consultant, \n",
    "Department is Compliance, \n",
    "Industry is Energy and Gas.\n",
    "\n",
    "Functional/Technical Skills:\n",
    "▪ Effective communicator in both written and verbal communictions, including\n",
    "ability to propose practical actions and tailor communications to a variety of\n",
    "levels of stakeholder (including senior management and the Board).\n",
    "▪ Confident in absorbing and manipulating information/data, from multiple\n",
    "sources (and multiple formats, e.g Microsoft Excel, PowerBI, operational\n",
    "systems), to drive Assurance insight, review conclusions and proportionate\n",
    "actions.\n",
    "▪ Able to understand, identify and clearly articulate risks and controls arising in\n",
    "relation to a wide range of issues, with a particular focus on conduct risk and\n",
    "customer outcomes, and ability to design testing activities in line with the\n",
    "department methodology.\n",
    "▪ Robust and independent mindset with the confidence to raise issues\n",
    "appropriately.\n",
    "▪ Advanced level stakeholder skills and comfortable dealing with all grades of\n",
    "colleague.\n",
    "▪ Able to work effectively individually and as part of a team to deliver to tight\n",
    "deadlines.\n",
    "\n",
    "Education and Certifications:\n",
    " ▪ Demonstrable experience of compliance activity within a regulatory sector\n",
    "and/or educated to degree standard (Law or Economics degree preferable)\n",
    "with aspiration to work in a high performing compliance function.\n",
    "\n",
    "Competencies:\n",
    "▪ Demonstrable experience of working in a regulated environment and\n",
    "understanding of the energy supply regulatory framework.\n",
    "▪ Credibility to build relationships with a variety of internal stakeholders and\n",
    "influence accordingly.\n",
    "▪ Experience in multi-tasking, being able to navigate complex tasks & prioritise\n",
    "effectively.\n",
    "▪ Developing close ‘trusted adviser’ relationships with key business leaders.\n",
    "▪ Wins hearts and minds across the business and inspires others to act for the\n",
    "betterment of our business and its customers.\n",
    "▪ Proven oral and written communication skills with the ability to explain\n",
    "complex compliance requirements and prove pragmatic advice to stakeholders.\n",
    "▪ Engage with stakeholders in an open, honest, and productive manner to\n",
    "promote collaborative working.\n",
    "▪ Effectively manage stakeholders and senior management during meetings by\n",
    "adapting the style of communication to suit the situation and the individual.\"\"\""
   ]
  },
  {
   "cell_type": "code",
   "execution_count": 43,
   "metadata": {},
   "outputs": [],
   "source": [
    "query = \"\"\"Energy Compliance Consultant - Ethics and Compliance, Compliance\"\"\""
   ]
  },
  {
   "cell_type": "code",
   "execution_count": 105,
   "metadata": {},
   "outputs": [],
   "source": [
    "\n",
    "query_vector = get_embedding(query)  \n",
    "\n",
    "    # Query the Pinecone index\n",
    "index = pinecone_client.Index('nos-202501-v2')  \n",
    "nos_docs = index.query(vector=query_vector,\n",
    "            top_k=1,\n",
    "            include_metadata=True,\n",
    "            # filter={\"industry\": \"Compliance\"}\n",
    "            # filter={\"type\":\"Developed by\"}\n",
    "            # filter={\"type\":\"Performance criteria\"}\n",
    "            # filter={\"type\":\"Knowledge and understanding\"}\n",
    "            filter={\"nos_id\": 'UNSML009'}\n",
    "        )"
   ]
  },
  {
   "cell_type": "code",
   "execution_count": 106,
   "metadata": {},
   "outputs": [
    {
     "data": {
      "text/plain": [
       "{'matches': [], 'namespace': '', 'usage': {'read_units': 5}}"
      ]
     },
     "execution_count": 106,
     "metadata": {},
     "output_type": "execute_result"
    }
   ],
   "source": [
    "nos_docs"
   ]
  },
  {
   "cell_type": "code",
   "execution_count": 79,
   "metadata": {},
   "outputs": [],
   "source": [
    "required_nos_ids = \"\"\"FSPAML19, FSPAML10, FSPCOMP16, FSPAML3, FSPCOMP12, FSPCOMP15, FSPAML19, FSPAML10, INSML013, FSPAML1, FSPCOMP8, FSPAML5, CFAGOR6,\n",
    "SFJCCBE4.1, INSML021, PROMPR4, SFJHD2, SFJCCBE2.1, INSML017,\n",
    "CLDSCCD25, INSML032, LSI CM10, INSML019, INSML019, INSML043, REC1,\n",
    "INSML052, INSCS030, INSCS034, INSCS043, SKSAS22, INSCS014, INSCS039, INSCS038,\n",
    "INSCS030, INSCS039, INSCS038, INSML052, INSCS010,\n",
    "INSCS028, SKAOSC34, INSCS039, INSCS010, INSCS002,\n",
    "FSPFCC04, FSPCOMP9, CFAGOR6, FSPCOMP2, FSPCOMP10, FSPCOMP16,\n",
    "FSPCOMP3, CFARMA006, FSPCOMP6, FSPCOMP8, INSML013, CFAGOR3, ASTFM324, LANEM17, CFAGOR5, FSPCOMP4, FSPCOMP16, CFAGOR6, LANEM18,\n",
    "INSML013, FSPCOMP7, FSPCOMP15, UNSML009, FSPCOMP16, CFAGOR3, ASTFM324, LANEM17\"\"\"\n",
    "\n",
    "required_nos_ids = required_nos_ids.split(',')\n",
    "required_nos_ids = [id.strip() for id in required_nos_ids]"
   ]
  },
  {
   "cell_type": "code",
   "execution_count": 80,
   "metadata": {},
   "outputs": [],
   "source": [
    "query_vector = get_embedding(\"\") "
   ]
  },
  {
   "cell_type": "code",
   "execution_count": 119,
   "metadata": {},
   "outputs": [],
   "source": [
    "from tqdm import tqdm\n",
    "import pandas as pd\n",
    "\n",
    "excel_file_path = r\"/Users/mumtaz/Documents/projects/zavmo/zavmo-api/zavmo/assets/static_data/JDs_NOS_OFQUAL.xlsx\""
   ]
  },
  {
   "cell_type": "code",
   "execution_count": 120,
   "metadata": {},
   "outputs": [
    {
     "data": {
      "text/html": [
       "<div>\n",
       "<style scoped>\n",
       "    .dataframe tbody tr th:only-of-type {\n",
       "        vertical-align: middle;\n",
       "    }\n",
       "\n",
       "    .dataframe tbody tr th {\n",
       "        vertical-align: top;\n",
       "    }\n",
       "\n",
       "    .dataframe thead th {\n",
       "        text-align: right;\n",
       "    }\n",
       "</style>\n",
       "<table border=\"1\" class=\"dataframe\">\n",
       "  <thead>\n",
       "    <tr style=\"text-align: right;\">\n",
       "      <th></th>\n",
       "      <th>nos_id</th>\n",
       "      <th>performance_criteria</th>\n",
       "      <th>knowledge_criteria</th>\n",
       "      <th>text</th>\n",
       "      <th>industry</th>\n",
       "    </tr>\n",
       "  </thead>\n",
       "  <tbody>\n",
       "    <tr>\n",
       "      <th>0</th>\n",
       "      <td>FSPCOMP7</td>\n",
       "      <td>Performance criteria You must be able to: 1. c...</td>\n",
       "      <td>\"Knowledge and understanding You need to know ...</td>\n",
       "      <td>**NOS ID:** FSPCOMP7  \\n**Title:** Assist in d...</td>\n",
       "      <td>Compliance</td>\n",
       "    </tr>\n",
       "  </tbody>\n",
       "</table>\n",
       "</div>"
      ],
      "text/plain": [
       "     nos_id                               performance_criteria  \\\n",
       "0  FSPCOMP7  Performance criteria You must be able to: 1. c...   \n",
       "\n",
       "                                  knowledge_criteria  \\\n",
       "0  \"Knowledge and understanding You need to know ...   \n",
       "\n",
       "                                                text    industry  \n",
       "0  **NOS ID:** FSPCOMP7  \\n**Title:** Assist in d...  Compliance  "
      ]
     },
     "execution_count": 120,
     "metadata": {},
     "output_type": "execute_result"
    }
   ],
   "source": [
    "existing_data = pd.read_excel(excel_file_path, sheet_name='NOS model')\n",
    "existing_data"
   ]
  },
  {
   "cell_type": "code",
   "execution_count": 121,
   "metadata": {},
   "outputs": [
    {
     "name": "stderr",
     "output_type": "stream",
     "text": [
      "100%|██████████| 71/71 [03:16<00:00,  2.77s/it]\n"
     ]
    }
   ],
   "source": [
    "\n",
    "missing_nos_ids = []\n",
    "for nos_id in tqdm(required_nos_ids):\n",
    "    existing_data = pd.read_excel(excel_file_path, sheet_name='NOS model')\n",
    "    nos_data = {}\n",
    "    nos_data['nos_id'] = nos_id\n",
    "\n",
    "    ## Get the NOS text field made for search\n",
    "    index   = pinecone_client.Index('nos-202501-v2')  \n",
    "    nos_doc = index.query(vector=query_vector,\n",
    "            top_k=1,\n",
    "            include_metadata=True,\n",
    "            filter={\"nos_id\": nos_id}\n",
    "        )\n",
    "    if not len(nos_doc['matches']) == 1:\n",
    "        continue\n",
    "\n",
    "    nos_data['text'] = nos_doc['matches'][0]['metadata']['text']\n",
    "    nos_data['industry'] = nos_doc['matches'][0]['metadata']['industry']\n",
    "\n",
    "    index = pinecone_client.Index('test-nos')  \n",
    "    nos_docs = index.query(vector=query_vector,\n",
    "            top_k=2,\n",
    "            include_metadata=True,\n",
    "            filter={\"nos_id\": nos_id,  \n",
    "                    \"$or\": [\n",
    "            {\"type\": \"Performance criteria\"},\n",
    "            {\"type\": \"Knowledge and understanding\"}]\n",
    "            }\n",
    "        )['matches']\n",
    "   \n",
    "    performance_taken = False\n",
    "    knowledge_taken = False\n",
    "\n",
    "    if len(nos_docs)>0:    \n",
    "        for i in nos_docs:\n",
    "            if i['metadata']['type'] == \"Performance criteria\":\n",
    "                nos_data['performance_criteria'] = i['metadata']['text']\n",
    "                performance_taken = True\n",
    "            elif i['metadata']['type'] == \"Knowledge and understanding\":\n",
    "                nos_data['knowledge_criteria'] = i['metadata']['text']\n",
    "                knowledge_taken = True\n",
    "                \n",
    "    if performance_taken and knowledge_taken:\n",
    "        existing_data = pd.concat([existing_data, pd.DataFrame([nos_data])], ignore_index=True)\n",
    "        existing_data = existing_data.drop_duplicates()\n",
    "        existing_data.to_excel(excel_file_path, sheet_name='NOS model', index=False)\n",
    "    elif not performance_taken and not knowledge_taken:\n",
    "        missing_nos_ids.append({'nos_id': nos_id, 'missing': 'Both'})\n",
    "    elif not performance_taken:\n",
    "        missing_nos_ids.append({'nos_id': nos_id, 'missing': 'Performance criteria'})\n",
    "    elif not knowledge_taken:\n",
    "        missing_nos_ids.append({'nos_id': nos_id, 'missing': 'Knowledge and understanding'})\n",
    "    "
   ]
  },
  {
   "cell_type": "code",
   "execution_count": 122,
   "metadata": {},
   "outputs": [
    {
     "data": {
      "text/html": [
       "<div>\n",
       "<style scoped>\n",
       "    .dataframe tbody tr th:only-of-type {\n",
       "        vertical-align: middle;\n",
       "    }\n",
       "\n",
       "    .dataframe tbody tr th {\n",
       "        vertical-align: top;\n",
       "    }\n",
       "\n",
       "    .dataframe thead th {\n",
       "        text-align: right;\n",
       "    }\n",
       "</style>\n",
       "<table border=\"1\" class=\"dataframe\">\n",
       "  <thead>\n",
       "    <tr style=\"text-align: right;\">\n",
       "      <th></th>\n",
       "      <th>nos_id</th>\n",
       "      <th>performance_criteria</th>\n",
       "      <th>knowledge_criteria</th>\n",
       "      <th>text</th>\n",
       "      <th>industry</th>\n",
       "    </tr>\n",
       "  </thead>\n",
       "  <tbody>\n",
       "    <tr>\n",
       "      <th>0</th>\n",
       "      <td>FSPCOMP7</td>\n",
       "      <td>Performance criteria You must be able to: 1. c...</td>\n",
       "      <td>\"Knowledge and understanding You need to know ...</td>\n",
       "      <td>**NOS ID:** FSPCOMP7  \\n**Title:** Assist in d...</td>\n",
       "      <td>Compliance</td>\n",
       "    </tr>\n",
       "    <tr>\n",
       "      <th>1</th>\n",
       "      <td>FSPAML19</td>\n",
       "      <td>Performance criteria You must be able to: 1. i...</td>\n",
       "      <td>Knowledge and understanding You need to know a...</td>\n",
       "      <td>NaN</td>\n",
       "      <td>NaN</td>\n",
       "    </tr>\n",
       "    <tr>\n",
       "      <th>2</th>\n",
       "      <td>FSPAML10</td>\n",
       "      <td>Performance criteria You must be able to: 1. a...</td>\n",
       "      <td>Knowledge and understanding You need to know a...</td>\n",
       "      <td>NaN</td>\n",
       "      <td>NaN</td>\n",
       "    </tr>\n",
       "    <tr>\n",
       "      <th>3</th>\n",
       "      <td>FSPCOMP16</td>\n",
       "      <td>Performance criteria You must be able to: 1. i...</td>\n",
       "      <td>Knowledge and understanding You need to know a...</td>\n",
       "      <td>NaN</td>\n",
       "      <td>NaN</td>\n",
       "    </tr>\n",
       "    <tr>\n",
       "      <th>4</th>\n",
       "      <td>FSPAML3</td>\n",
       "      <td>Performance criteria You must be able to: 1. i...</td>\n",
       "      <td>Knowledge and understanding You need to know a...</td>\n",
       "      <td>NaN</td>\n",
       "      <td>NaN</td>\n",
       "    </tr>\n",
       "    <tr>\n",
       "      <th>5</th>\n",
       "      <td>FSPCOMP12</td>\n",
       "      <td>Performance criteria You must be able to: 1. i...</td>\n",
       "      <td>Knowledge and understanding You need to know a...</td>\n",
       "      <td>NaN</td>\n",
       "      <td>NaN</td>\n",
       "    </tr>\n",
       "    <tr>\n",
       "      <th>6</th>\n",
       "      <td>FSPCOMP15</td>\n",
       "      <td>Performance criteria You must be able to: 1. i...</td>\n",
       "      <td>Knowledge and understanding You need to know a...</td>\n",
       "      <td>NaN</td>\n",
       "      <td>NaN</td>\n",
       "    </tr>\n",
       "    <tr>\n",
       "      <th>7</th>\n",
       "      <td>INSML013</td>\n",
       "      <td>Performance criteria You must be able to: 1. m...</td>\n",
       "      <td>effective 14. the different ways that colleagu...</td>\n",
       "      <td>NaN</td>\n",
       "      <td>NaN</td>\n",
       "    </tr>\n",
       "    <tr>\n",
       "      <th>8</th>\n",
       "      <td>FSPAML1</td>\n",
       "      <td>Performance criteria You must be able to: 1. a...</td>\n",
       "      <td>Knowledge and understanding You need to know a...</td>\n",
       "      <td>NaN</td>\n",
       "      <td>NaN</td>\n",
       "    </tr>\n",
       "    <tr>\n",
       "      <th>9</th>\n",
       "      <td>FSPCOMP8</td>\n",
       "      <td>Performance criteria You must be able to: 1. a...</td>\n",
       "      <td>Knowledge and understanding You need to know a...</td>\n",
       "      <td>NaN</td>\n",
       "      <td>NaN</td>\n",
       "    </tr>\n",
       "    <tr>\n",
       "      <th>10</th>\n",
       "      <td>FSPAML5</td>\n",
       "      <td>Performance criteria You must be able to: asse...</td>\n",
       "      <td>Knowledge and understanding You need to know a...</td>\n",
       "      <td>NaN</td>\n",
       "      <td>NaN</td>\n",
       "    </tr>\n",
       "    <tr>\n",
       "      <th>11</th>\n",
       "      <td>CFAGOR6</td>\n",
       "      <td>Oversee the effectiveness of management’s inte...</td>\n",
       "      <td>Oversee the effectiveness of management’s inte...</td>\n",
       "      <td>NaN</td>\n",
       "      <td>NaN</td>\n",
       "    </tr>\n",
       "    <tr>\n",
       "      <th>12</th>\n",
       "      <td>SFJCCBE4.1</td>\n",
       "      <td>Implement Change  Implement Change 2 Performan...</td>\n",
       "      <td>Implement Change  Implement Change 4 Additiona...</td>\n",
       "      <td>NaN</td>\n",
       "      <td>NaN</td>\n",
       "    </tr>\n",
       "    <tr>\n",
       "      <th>13</th>\n",
       "      <td>SFJHD2</td>\n",
       "      <td>Develop productive working relationships with ...</td>\n",
       "      <td>Develop productive working relationships with ...</td>\n",
       "      <td>NaN</td>\n",
       "      <td>NaN</td>\n",
       "    </tr>\n",
       "    <tr>\n",
       "      <th>14</th>\n",
       "      <td>SFJCCBE2.1</td>\n",
       "      <td>Lead change  Lead change 2 Performance criteri...</td>\n",
       "      <td>Lead change  Lead change 4 Additional Informat...</td>\n",
       "      <td>NaN</td>\n",
       "      <td>NaN</td>\n",
       "    </tr>\n",
       "    <tr>\n",
       "      <th>15</th>\n",
       "      <td>INSML017</td>\n",
       "      <td>Performance criteria You must be able to: enga...</td>\n",
       "      <td>Skills Analysing 1. Assessing risks 2. Being a...</td>\n",
       "      <td>NaN</td>\n",
       "      <td>NaN</td>\n",
       "    </tr>\n",
       "    <tr>\n",
       "      <th>16</th>\n",
       "      <td>CLDSCCD25</td>\n",
       "      <td>Performance criteria You must be able to: gath...</td>\n",
       "      <td>Knowledge and understanding You need to know a...</td>\n",
       "      <td>NaN</td>\n",
       "      <td>NaN</td>\n",
       "    </tr>\n",
       "    <tr>\n",
       "      <th>17</th>\n",
       "      <td>INSML032</td>\n",
       "      <td>Performance criteria You must be able to: eval...</td>\n",
       "      <td>perform effectively and reinforce their commit...</td>\n",
       "      <td>NaN</td>\n",
       "      <td>NaN</td>\n",
       "    </tr>\n",
       "    <tr>\n",
       "      <th>18</th>\n",
       "      <td>LSI CM10</td>\n",
       "      <td>Develop coaching and mentoring within organisa...</td>\n",
       "      <td>Develop coaching and mentoring within organisa...</td>\n",
       "      <td>NaN</td>\n",
       "      <td>NaN</td>\n",
       "    </tr>\n",
       "    <tr>\n",
       "      <th>19</th>\n",
       "      <td>INSML019</td>\n",
       "      <td>Performance criteria You must be able to: enga...</td>\n",
       "      <td>Skills Analysing 1. Communicating 2. Contingen...</td>\n",
       "      <td>NaN</td>\n",
       "      <td>NaN</td>\n",
       "    </tr>\n",
       "    <tr>\n",
       "      <th>20</th>\n",
       "      <td>INSML052</td>\n",
       "      <td>Performance criteria You must be able to: enga...</td>\n",
       "      <td>Skills Acting assertively 1. Analysing 2. Comm...</td>\n",
       "      <td>NaN</td>\n",
       "      <td>NaN</td>\n",
       "    </tr>\n",
       "    <tr>\n",
       "      <th>21</th>\n",
       "      <td>INSCS030</td>\n",
       "      <td>Performance criteria You must be able to: agre...</td>\n",
       "      <td>the implications of failure to improve custome...</td>\n",
       "      <td>NaN</td>\n",
       "      <td>NaN</td>\n",
       "    </tr>\n",
       "    <tr>\n",
       "      <th>22</th>\n",
       "      <td>INSCS034</td>\n",
       "      <td>Performance criteria You must be able to: iden...</td>\n",
       "      <td>Knowledge and understanding You need to know a...</td>\n",
       "      <td>NaN</td>\n",
       "      <td>NaN</td>\n",
       "    </tr>\n",
       "    <tr>\n",
       "      <th>23</th>\n",
       "      <td>INSCS043</td>\n",
       "      <td>Performance criteria You must be able to: mana...</td>\n",
       "      <td>Knowledge and understanding You need to know a...</td>\n",
       "      <td>NaN</td>\n",
       "      <td>NaN</td>\n",
       "    </tr>\n",
       "    <tr>\n",
       "      <th>24</th>\n",
       "      <td>SKSAS22</td>\n",
       "      <td>Empower, motivate and support your team  Empow...</td>\n",
       "      <td>Empower, motivate and support your team  Empow...</td>\n",
       "      <td>NaN</td>\n",
       "      <td>NaN</td>\n",
       "    </tr>\n",
       "    <tr>\n",
       "      <th>25</th>\n",
       "      <td>INSCS039</td>\n",
       "      <td>Performance criteria You must be able to: sele...</td>\n",
       "      <td>Knowledge and understanding You need to know a...</td>\n",
       "      <td>NaN</td>\n",
       "      <td>NaN</td>\n",
       "    </tr>\n",
       "    <tr>\n",
       "      <th>26</th>\n",
       "      <td>INSCS038</td>\n",
       "      <td>Performance criteria You must be able to: plan...</td>\n",
       "      <td>Knowledge and understanding You need to know a...</td>\n",
       "      <td>NaN</td>\n",
       "      <td>NaN</td>\n",
       "    </tr>\n",
       "    <tr>\n",
       "      <th>27</th>\n",
       "      <td>INSCS010</td>\n",
       "      <td>Performance criteria You must be able to: iden...</td>\n",
       "      <td>Knowledge and understanding You need to know a...</td>\n",
       "      <td>NaN</td>\n",
       "      <td>NaN</td>\n",
       "    </tr>\n",
       "    <tr>\n",
       "      <th>28</th>\n",
       "      <td>INSCS028</td>\n",
       "      <td>consider the advantages and disadvantages of e...</td>\n",
       "      <td>how to explore the implications of the pattern...</td>\n",
       "      <td>NaN</td>\n",
       "      <td>NaN</td>\n",
       "    </tr>\n",
       "    <tr>\n",
       "      <th>29</th>\n",
       "      <td>INSCS002</td>\n",
       "      <td>Performance criteria You must be able to: iden...</td>\n",
       "      <td>Knowledge and understanding You need to know a...</td>\n",
       "      <td>NaN</td>\n",
       "      <td>NaN</td>\n",
       "    </tr>\n",
       "    <tr>\n",
       "      <th>30</th>\n",
       "      <td>FSPCOMP9</td>\n",
       "      <td>Performance criteria You must be able to: 1. c...</td>\n",
       "      <td>Knowledge and understanding You need to know a...</td>\n",
       "      <td>NaN</td>\n",
       "      <td>NaN</td>\n",
       "    </tr>\n",
       "    <tr>\n",
       "      <th>31</th>\n",
       "      <td>FSPCOMP2</td>\n",
       "      <td>Performance criteria You must be able to: 1. i...</td>\n",
       "      <td>Knowledge and understanding You need to know a...</td>\n",
       "      <td>NaN</td>\n",
       "      <td>NaN</td>\n",
       "    </tr>\n",
       "    <tr>\n",
       "      <th>32</th>\n",
       "      <td>FSPCOMP10</td>\n",
       "      <td>Performance criteria You must be able to: 1. e...</td>\n",
       "      <td>Knowledge and understanding You need to know a...</td>\n",
       "      <td>NaN</td>\n",
       "      <td>NaN</td>\n",
       "    </tr>\n",
       "    <tr>\n",
       "      <th>33</th>\n",
       "      <td>FSPCOMP3</td>\n",
       "      <td>Performance criteria You must be able to: 1. a...</td>\n",
       "      <td>Knowledge and understanding You need to know a...</td>\n",
       "      <td>NaN</td>\n",
       "      <td>NaN</td>\n",
       "    </tr>\n",
       "    <tr>\n",
       "      <th>34</th>\n",
       "      <td>CFARMA006</td>\n",
       "      <td>Monitor and review risk management strategies,...</td>\n",
       "      <td>Monitor and review risk management strategies,...</td>\n",
       "      <td>NaN</td>\n",
       "      <td>NaN</td>\n",
       "    </tr>\n",
       "    <tr>\n",
       "      <th>35</th>\n",
       "      <td>FSPCOMP6</td>\n",
       "      <td>Performance criteria You must be able to: 1. e...</td>\n",
       "      <td>Knowledge and understanding You need to know a...</td>\n",
       "      <td>NaN</td>\n",
       "      <td>NaN</td>\n",
       "    </tr>\n",
       "    <tr>\n",
       "      <th>36</th>\n",
       "      <td>CFAGOR3</td>\n",
       "      <td>Establish and maintain transparent and formal ...</td>\n",
       "      <td>Establish and maintain transparent and formal ...</td>\n",
       "      <td>NaN</td>\n",
       "      <td>NaN</td>\n",
       "    </tr>\n",
       "    <tr>\n",
       "      <th>37</th>\n",
       "      <td>ASTFM324</td>\n",
       "      <td>Manage and monitor the efficient use of energy...</td>\n",
       "      <td>Manage and monitor the efficient use of energy...</td>\n",
       "      <td>NaN</td>\n",
       "      <td>NaN</td>\n",
       "    </tr>\n",
       "    <tr>\n",
       "      <th>38</th>\n",
       "      <td>LANEM17</td>\n",
       "      <td>Performance criteria You must be able to: Iden...</td>\n",
       "      <td>Knowledge and understanding You need to know a...</td>\n",
       "      <td>NaN</td>\n",
       "      <td>NaN</td>\n",
       "    </tr>\n",
       "    <tr>\n",
       "      <th>39</th>\n",
       "      <td>FSPCOMP4</td>\n",
       "      <td>Performance criteria You must be able to: 1. i...</td>\n",
       "      <td>Knowledge and understanding You need to know a...</td>\n",
       "      <td>NaN</td>\n",
       "      <td>NaN</td>\n",
       "    </tr>\n",
       "    <tr>\n",
       "      <th>40</th>\n",
       "      <td>LANEM18</td>\n",
       "      <td>Performance criteria You must be able to: Iden...</td>\n",
       "      <td>Knowledge and understanding You need to know a...</td>\n",
       "      <td>NaN</td>\n",
       "      <td>NaN</td>\n",
       "    </tr>\n",
       "    <tr>\n",
       "      <th>41</th>\n",
       "      <td>FSPCOMP7</td>\n",
       "      <td>Performance criteria You must be able to: 1. c...</td>\n",
       "      <td>Knowledge and understanding You need to know a...</td>\n",
       "      <td>NaN</td>\n",
       "      <td>NaN</td>\n",
       "    </tr>\n",
       "  </tbody>\n",
       "</table>\n",
       "</div>"
      ],
      "text/plain": [
       "        nos_id                               performance_criteria  \\\n",
       "0     FSPCOMP7  Performance criteria You must be able to: 1. c...   \n",
       "1     FSPAML19  Performance criteria You must be able to: 1. i...   \n",
       "2     FSPAML10  Performance criteria You must be able to: 1. a...   \n",
       "3    FSPCOMP16  Performance criteria You must be able to: 1. i...   \n",
       "4      FSPAML3  Performance criteria You must be able to: 1. i...   \n",
       "5    FSPCOMP12  Performance criteria You must be able to: 1. i...   \n",
       "6    FSPCOMP15  Performance criteria You must be able to: 1. i...   \n",
       "7     INSML013  Performance criteria You must be able to: 1. m...   \n",
       "8      FSPAML1  Performance criteria You must be able to: 1. a...   \n",
       "9     FSPCOMP8  Performance criteria You must be able to: 1. a...   \n",
       "10     FSPAML5  Performance criteria You must be able to: asse...   \n",
       "11     CFAGOR6  Oversee the effectiveness of management’s inte...   \n",
       "12  SFJCCBE4.1  Implement Change  Implement Change 2 Performan...   \n",
       "13      SFJHD2  Develop productive working relationships with ...   \n",
       "14  SFJCCBE2.1  Lead change  Lead change 2 Performance criteri...   \n",
       "15    INSML017  Performance criteria You must be able to: enga...   \n",
       "16   CLDSCCD25  Performance criteria You must be able to: gath...   \n",
       "17    INSML032  Performance criteria You must be able to: eval...   \n",
       "18    LSI CM10  Develop coaching and mentoring within organisa...   \n",
       "19    INSML019  Performance criteria You must be able to: enga...   \n",
       "20    INSML052  Performance criteria You must be able to: enga...   \n",
       "21    INSCS030  Performance criteria You must be able to: agre...   \n",
       "22    INSCS034  Performance criteria You must be able to: iden...   \n",
       "23    INSCS043  Performance criteria You must be able to: mana...   \n",
       "24     SKSAS22  Empower, motivate and support your team  Empow...   \n",
       "25    INSCS039  Performance criteria You must be able to: sele...   \n",
       "26    INSCS038  Performance criteria You must be able to: plan...   \n",
       "27    INSCS010  Performance criteria You must be able to: iden...   \n",
       "28    INSCS028  consider the advantages and disadvantages of e...   \n",
       "29    INSCS002  Performance criteria You must be able to: iden...   \n",
       "30    FSPCOMP9  Performance criteria You must be able to: 1. c...   \n",
       "31    FSPCOMP2  Performance criteria You must be able to: 1. i...   \n",
       "32   FSPCOMP10  Performance criteria You must be able to: 1. e...   \n",
       "33    FSPCOMP3  Performance criteria You must be able to: 1. a...   \n",
       "34   CFARMA006  Monitor and review risk management strategies,...   \n",
       "35    FSPCOMP6  Performance criteria You must be able to: 1. e...   \n",
       "36     CFAGOR3  Establish and maintain transparent and formal ...   \n",
       "37    ASTFM324  Manage and monitor the efficient use of energy...   \n",
       "38     LANEM17  Performance criteria You must be able to: Iden...   \n",
       "39    FSPCOMP4  Performance criteria You must be able to: 1. i...   \n",
       "40     LANEM18  Performance criteria You must be able to: Iden...   \n",
       "41    FSPCOMP7  Performance criteria You must be able to: 1. c...   \n",
       "\n",
       "                                   knowledge_criteria  \\\n",
       "0   \"Knowledge and understanding You need to know ...   \n",
       "1   Knowledge and understanding You need to know a...   \n",
       "2   Knowledge and understanding You need to know a...   \n",
       "3   Knowledge and understanding You need to know a...   \n",
       "4   Knowledge and understanding You need to know a...   \n",
       "5   Knowledge and understanding You need to know a...   \n",
       "6   Knowledge and understanding You need to know a...   \n",
       "7   effective 14. the different ways that colleagu...   \n",
       "8   Knowledge and understanding You need to know a...   \n",
       "9   Knowledge and understanding You need to know a...   \n",
       "10  Knowledge and understanding You need to know a...   \n",
       "11  Oversee the effectiveness of management’s inte...   \n",
       "12  Implement Change  Implement Change 4 Additiona...   \n",
       "13  Develop productive working relationships with ...   \n",
       "14  Lead change  Lead change 4 Additional Informat...   \n",
       "15  Skills Analysing 1. Assessing risks 2. Being a...   \n",
       "16  Knowledge and understanding You need to know a...   \n",
       "17  perform effectively and reinforce their commit...   \n",
       "18  Develop coaching and mentoring within organisa...   \n",
       "19  Skills Analysing 1. Communicating 2. Contingen...   \n",
       "20  Skills Acting assertively 1. Analysing 2. Comm...   \n",
       "21  the implications of failure to improve custome...   \n",
       "22  Knowledge and understanding You need to know a...   \n",
       "23  Knowledge and understanding You need to know a...   \n",
       "24  Empower, motivate and support your team  Empow...   \n",
       "25  Knowledge and understanding You need to know a...   \n",
       "26  Knowledge and understanding You need to know a...   \n",
       "27  Knowledge and understanding You need to know a...   \n",
       "28  how to explore the implications of the pattern...   \n",
       "29  Knowledge and understanding You need to know a...   \n",
       "30  Knowledge and understanding You need to know a...   \n",
       "31  Knowledge and understanding You need to know a...   \n",
       "32  Knowledge and understanding You need to know a...   \n",
       "33  Knowledge and understanding You need to know a...   \n",
       "34  Monitor and review risk management strategies,...   \n",
       "35  Knowledge and understanding You need to know a...   \n",
       "36  Establish and maintain transparent and formal ...   \n",
       "37  Manage and monitor the efficient use of energy...   \n",
       "38  Knowledge and understanding You need to know a...   \n",
       "39  Knowledge and understanding You need to know a...   \n",
       "40  Knowledge and understanding You need to know a...   \n",
       "41  Knowledge and understanding You need to know a...   \n",
       "\n",
       "                                                 text    industry  \n",
       "0   **NOS ID:** FSPCOMP7  \\n**Title:** Assist in d...  Compliance  \n",
       "1                                                 NaN         NaN  \n",
       "2                                                 NaN         NaN  \n",
       "3                                                 NaN         NaN  \n",
       "4                                                 NaN         NaN  \n",
       "5                                                 NaN         NaN  \n",
       "6                                                 NaN         NaN  \n",
       "7                                                 NaN         NaN  \n",
       "8                                                 NaN         NaN  \n",
       "9                                                 NaN         NaN  \n",
       "10                                                NaN         NaN  \n",
       "11                                                NaN         NaN  \n",
       "12                                                NaN         NaN  \n",
       "13                                                NaN         NaN  \n",
       "14                                                NaN         NaN  \n",
       "15                                                NaN         NaN  \n",
       "16                                                NaN         NaN  \n",
       "17                                                NaN         NaN  \n",
       "18                                                NaN         NaN  \n",
       "19                                                NaN         NaN  \n",
       "20                                                NaN         NaN  \n",
       "21                                                NaN         NaN  \n",
       "22                                                NaN         NaN  \n",
       "23                                                NaN         NaN  \n",
       "24                                                NaN         NaN  \n",
       "25                                                NaN         NaN  \n",
       "26                                                NaN         NaN  \n",
       "27                                                NaN         NaN  \n",
       "28                                                NaN         NaN  \n",
       "29                                                NaN         NaN  \n",
       "30                                                NaN         NaN  \n",
       "31                                                NaN         NaN  \n",
       "32                                                NaN         NaN  \n",
       "33                                                NaN         NaN  \n",
       "34                                                NaN         NaN  \n",
       "35                                                NaN         NaN  \n",
       "36                                                NaN         NaN  \n",
       "37                                                NaN         NaN  \n",
       "38                                                NaN         NaN  \n",
       "39                                                NaN         NaN  \n",
       "40                                                NaN         NaN  \n",
       "41                                                NaN         NaN  "
      ]
     },
     "execution_count": 122,
     "metadata": {},
     "output_type": "execute_result"
    }
   ],
   "source": [
    "existing_data"
   ]
  },
  {
   "cell_type": "code",
   "execution_count": 53,
   "metadata": {},
   "outputs": [
    {
     "data": {
      "text/plain": [
       "'**NOS ID:** FSPAML10  \\n**Title:** Assist Senior Management in Ensuring Compliance with Anti-Money Laundering and Countering Terrorist Financing Measures  \\n**Industry:** Anti-money Laundering  \\n**Overview:** This NOS focuses on assisting senior management to ensure that staff within the organization understand and comply with anti-money laundering (AML) and countering terrorist financing (CTF) measures. It emphasizes the importance of support, training, and record-keeping for compliance.  \\n**Relevant Roles:** Compliance Officer, Anti-Money Laundering Officer, Financial Institution Manager, Finance Manager  \\n**Keywords:** Anti-money Laundering, Countering Terrorist Financing, compliance, training, monitoring, record-keeping, competencies, openness, compliance requirements'"
      ]
     },
     "execution_count": 53,
     "metadata": {},
     "output_type": "execute_result"
    }
   ],
   "source": [
    "nos_docs['matches'][0]['metadata']['text']"
   ]
  },
  {
   "cell_type": "code",
   "execution_count": 46,
   "metadata": {},
   "outputs": [
    {
     "data": {
      "text/plain": [
       "{'industry': 'Sales (2013)',\n",
       " 'nos_id': 'CFASAL021',\n",
       " 'text': \"**NOS ID:** CFASAL021  \\n**Title:** Ensure compliance with legal, regulatory and ethical requirements  \\n**Industry:** Sales (2013)  \\n**Overview:** This standard focuses on managing an organization's operations to adhere to its ethical values and comply with legal and regulatory requirements, ensuring responsible behavior towards staff, customers, stakeholders, and the community. It emphasizes the importance of following laws related to health and safety, employment, and finance while aligning with industry-specific regulations.  \\n**Relevant Roles:** Sales professionals, Marketing and sales managers, Business sales executives, Sales accounts and business development managers, Telephone salespersons, Sales related occupations  \\n**Keywords:** Legal requirements; Regulatory requirements; Ethical requirements; Sales policies; Organizational policies; Social concerns; Compliance monitoring; Governance; Policy effectiveness; Reporting procedures\",\n",
       " 'title': 'Ensure compliance with legal, regulatory and ethical requirements'}"
      ]
     },
     "execution_count": 46,
     "metadata": {},
     "output_type": "execute_result"
    }
   ],
   "source": [
    "nos_docs['matches'][0]['metadata']"
   ]
  },
  {
   "cell_type": "code",
   "execution_count": 63,
   "metadata": {},
   "outputs": [
    {
     "data": {
      "text/plain": [
       "'Energy Compliance Consultant'"
      ]
     },
     "execution_count": 63,
     "metadata": {},
     "output_type": "execute_result"
    }
   ],
   "source": [
    "\n",
    "\n"
   ]
  },
  {
   "cell_type": "code",
   "execution_count": 24,
   "metadata": {},
   "outputs": [],
   "source": [
    "nos_ids = [nos['metadata']['nos_id'] for nos in nos_docs['matches']]"
   ]
  },
  {
   "cell_type": "code",
   "execution_count": 107,
   "metadata": {},
   "outputs": [],
   "source": [
    "index = pinecone_client.Index('test-nos')  \n",
    "nos_docs = index.query(\n",
    "            vector=query_vector,\n",
    "            top_k=2,\n",
    "            include_metadata=True,\n",
    "            filter={\"nos_id\": 'UNSML009',  \n",
    "                    \"$or\": [\n",
    "            {\"type\": \"Performance criteria\"},\n",
    "            {\"type\": \"Knowledge and understanding\"}]\n",
    "            }\n",
    "        )"
   ]
  },
  {
   "cell_type": "code",
   "execution_count": 110,
   "metadata": {},
   "outputs": [
    {
     "data": {
      "text/plain": [
       "{'matches': [], 'namespace': '', 'usage': {'read_units': 8}}"
      ]
     },
     "execution_count": 110,
     "metadata": {},
     "output_type": "execute_result"
    }
   ],
   "source": [
    "nos_docs"
   ]
  },
  {
   "cell_type": "code",
   "execution_count": 108,
   "metadata": {},
   "outputs": [
    {
     "ename": "IndexError",
     "evalue": "list index out of range",
     "output_type": "error",
     "traceback": [
      "\u001b[0;31m---------------------------------------------------------------------------\u001b[0m",
      "\u001b[0;31mIndexError\u001b[0m                                Traceback (most recent call last)",
      "Cell \u001b[0;32mIn[108], line 1\u001b[0m\n\u001b[0;32m----> 1\u001b[0m \u001b[43mnos_docs\u001b[49m\u001b[43m[\u001b[49m\u001b[38;5;124;43m'\u001b[39;49m\u001b[38;5;124;43mmatches\u001b[39;49m\u001b[38;5;124;43m'\u001b[39;49m\u001b[43m]\u001b[49m\u001b[43m[\u001b[49m\u001b[38;5;241;43m0\u001b[39;49m\u001b[43m]\u001b[49m[\u001b[38;5;124m'\u001b[39m\u001b[38;5;124mmetadata\u001b[39m\u001b[38;5;124m'\u001b[39m][\u001b[38;5;124m'\u001b[39m\u001b[38;5;124mtext\u001b[39m\u001b[38;5;124m'\u001b[39m]\n",
      "\u001b[0;31mIndexError\u001b[0m: list index out of range"
     ]
    }
   ],
   "source": [
    "nos_docs['matches'][0]['metadata']['text']"
   ]
  },
  {
   "cell_type": "code",
   "execution_count": 66,
   "metadata": {},
   "outputs": [
    {
     "data": {
      "text/plain": [
       "{'industry': 'money laundering and countering terrorist financing measures  -Anti-money Laundering',\n",
       " 'nos_id': 'FSPAML10',\n",
       " 'text': 'Performance criteria You must be able to: 1. assist in developing a climate of openness about meeting or not meeting the requirements for Anti- money Laundering and Countering Terrorist Financing 2. check that relevant staff have a clear understanding of Anti-money Laundering and Countering Terrorist Financing measures, how these apply to them and their work, and the importance of complying with them 3. monitor the way staff comply with measures at regular and appropriate intervals 4. identify appropriate training where staff need support in adhering to measures 5. identify potential barriers to training and determine strategies to deal with these 6. maintain relevant records of training and competence for all employees for the required length of time 7. take prompt action to correct any failures to meet the Anti-money Laundering and Countering Terrorist Financing requirements 8. identify reasons for requirements not being met and any trends or patterns emerging 9. keep accurate and complete records of any failures to comply with measures and report this information to senior management or to the appropriate authority when necessary  Assist senior management in ensuring that staff at your organisation comply with anti-money laundering and countering terrorist financing measures  Assist senior management in ensuring that staff at your organisation comply with anti-money laundering and countering terrorist financing measures 2',\n",
       " 'title': 'Assist senior management in ensuring that staff at your organisation comply with anti',\n",
       " 'type': 'Performance criteria'}"
      ]
     },
     "execution_count": 66,
     "metadata": {},
     "output_type": "execute_result"
    }
   ],
   "source": [
    "nos_docs['matches'][1]['metadata']\n"
   ]
  },
  {
   "cell_type": "code",
   "execution_count": 19,
   "metadata": {},
   "outputs": [
    {
     "data": {
      "text/plain": [
       "[]"
      ]
     },
     "execution_count": 19,
     "metadata": {},
     "output_type": "execute_result"
    }
   ],
   "source": [
    "[(n+1,nos['metadata']['nos_id']) for n,nos in enumerate(nos_docs) if nos['metadata']['nos_id'].startswith('FSPCOMP')]"
   ]
  },
  {
   "cell_type": "code",
   "execution_count": 48,
   "metadata": {},
   "outputs": [
    {
     "data": {
      "text/plain": [
       "[('Sales (2013)',\n",
       "  'CFASAL021',\n",
       "  \"**NOS ID:** CFASAL021  \\n**Title:** Ensure compliance with legal, regulatory and ethical requirements  \\n**Industry:** Sales (2013)  \\n**Overview:** This standard focuses on managing an organization's operations to adhere to its ethical values and comply with legal and regulatory requirements, ensuring responsible behavior towards staff, customers, stakeholders, and the community. It emphasizes the importance of following laws related to health and safety, employment, and finance while aligning with industry-specific regulations.  \\n**Relevant Roles:** Sales professionals, Marketing and sales managers, Business sales executives, Sales accounts and business development managers, Telephone salespersons, Sales related occupations  \\n**Keywords:** Legal requirements; Regulatory requirements; Ethical requirements; Sales policies; Organizational policies; Social concerns; Compliance monitoring; Governance; Policy effectiveness; Reporting procedures\"),\n",
       " ('Marketing',\n",
       "  'CFAMAR10',\n",
       "  '**NOS ID:** CFAMAR10  \\n**Title:** Ensure marketing activities comply with legal, regulatory and ethical requirements  \\n**Industry:** Marketing  \\n**Overview:** This standard focuses on conducting marketing activities in alignment with organizational values and ethical principles, ensuring compliance with all legal and regulatory requirements. It emphasizes the development of policies, stakeholder education, and staying current with best practices in marketing compliance.  \\n**Relevant Roles:** Marketing & Sales Manager, Marketing Associate  \\n**Keywords:** Marketing, sales, marketing management, market research, advertising, public relations, legal compliance, ethical standards, regulatory requirements.'),\n",
       " ('Compliance',\n",
       "  'FSPCOMP14',\n",
       "  '**NOS ID:** FSPCOMP14  \\n**Title:** Develop and maintain effective relationships with relevant external bodies  \\n**Industry:** Compliance  \\n**Overview:** This standard focuses on the identification and management of relationships with key external bodies, including regulatory and law enforcement authorities, ensuring effective communication and compliance with relevant regulations. It emphasizes the importance of recognizing the interests of these bodies while addressing any potential conflicts with the organization.  \\n**Relevant Roles:** Compliance Officers, Regulatory Affairs Specialists, Finance Managers, Chartered Secretaries, Financial Institution Managers  \\n**Keywords:** Compliance, relationship management, external bodies, conflict resolution, regulations, communication, consultation, confidentiality.'),\n",
       " ('Remote Monitoring Operations, Sales 2010',\n",
       "  'CFAS7.7',\n",
       "  '**NOS ID:** CFAS7.7  \\n**Title:** (Not explicitly provided in the document)  \\n**Industry:** Remote Monitoring Operations, Sales 2010  \\n**Overview:** This NOS unit focuses on ensuring that organizations comply with legal, regulatory, ethical, and social requirements in order to operate responsibly while aligning with their values and principles. It emphasizes accountability to various stakeholders, including staff and the community.  \\n**Relevant Roles:** Sales Managers, Senior Sales Managers, Key Customer Managers, Marketing and Sales Managers, Sales Representatives, Telephone Salespersons, Sales-related Occupations.  \\n**Keywords:** Compliance, legal requirements, regulatory standards, ethical practices, social responsibility, governance, sales strategy, stakeholder engagement.'),\n",
       " ('Compliance',\n",
       "  'FSPCOMP7',\n",
       "  '**NOS ID:** FSPCOMP7  \\n**Title:** Assist in developing the compliance culture of your organisation  \\n**Industry:** Compliance  \\n**Overview:** This NOS focuses on developing a compliance culture within an organization by aligning with senior management and demonstrating agreed values that support compliance through policies and systems.  \\n**Relevant Roles:** Finance Managers, Chartered Secretaries, Financial Institution Managers, Compliance Officers  \\n**Keywords:** Compliance, culture, organization, strategy, values, stakeholders, policies, behaviours, communication'),\n",
       " ('Operational Delivery Processing',\n",
       "  'SFJPD5.1',\n",
       "  '**NOS ID:** SFJPD5.1  \\n**Title:** Not provided  \\n**Industry:** Operational Delivery Processing  \\n**Overview:** This NOS outlines the necessity for organizations to ensure compliance with legal, regulatory, ethical, and social requirements to maintain responsible operations that consider the impact on staff, customers, and communities.  \\n**Relevant Roles:** Operational Delivery roles, Compliance Officers, Regulatory Affairs Specialists, Public Service Managers  \\n**Keywords:** Compliance, Legal Requirements, Regulatory Standards, Ethical Governance, Social Responsibility, Policy Development, Monitoring, Reporting, Risk Management'),\n",
       " ('Work with parents',\n",
       "  'LSIWWP409',\n",
       "  '**NOS ID:** LSIWWP409  \\n**Title:** Ensure compliance with legal, regulatory, ethical and social requirements  \\n**Industry:** Work with parents  \\n**Overview:** This NOS outlines the importance of compliance with legal, regulatory, ethical, and social requirements for organizations, emphasizing the need for responsible practices to maintain a good reputation and comply with relevant laws. It is aimed at middle and senior managers who are accountable for organizational adherence to these standards.  \\n**Relevant Roles:** Middle managers, Senior managers  \\n**Keywords:** legal, regulatory, ethical, compliance, governance, policies, procedures, monitoring, social concerns'),\n",
       " ('Management and Leadership',\n",
       "  'INSML013',\n",
       "  '**NOS ID:** INSML013  \\n**Title:** Ensure compliance with legal, regulatory, ethical and social requirements  \\n**Industry:** Management and Leadership  \\n**Overview:** This standard focuses on ensuring that organizations comply with legal, regulatory, ethical, and social requirements. It involves monitoring compliance, developing supportive policies and procedures, and providing guidance to colleagues, while identifying and rectifying any compliance failures.  \\n**Relevant Roles:** Managers and Senior Officials  \\n**Keywords:** Management, leadership, legal compliance, regulatory requirements, ethical considerations, social responsibilities, risk management, organizational policies.'),\n",
       " ('Logistics Operations',\n",
       "  'SFLLO35',\n",
       "  '**NOS ID:** SFLLO35  \\n**Title:** Ensure compliance with legal, regulatory, ethical and social requirements Legacy  \\n**Industry:** Logistics Operations  \\n**Overview:** This standard outlines the responsibilities related to compliance with legal, regulatory, ethical, and social requirements in logistics operations. It emphasizes the importance of responsible actions towards colleagues, customers, investors, and communities, and includes maintaining adherence to industry-specific regulations and ethical frameworks.  \\n**Relevant Roles:** Team managers in logistics operations, including roles in warehousing, storage, transport, and freight forwarding.  \\n**Keywords:** Compliance, legal, regulatory, ethical, social, logistics'),\n",
       " ('On Construction Domestic Energy Assessors, Energy Assessment & Advice',\n",
       "  'INSOCDEA3',\n",
       "  '**NOS ID:** INSOCDEA3  \\n**Title:** Produce compliance submissions and Energy Performance Certificates for new dwellings  \\n**Industry:** On Construction Domestic Energy Assessors, Energy Assessment & Advice  \\n**Overview:** This NOS outlines the process for producing compliance submissions and Energy Performance Certificates (EPCs) for new dwellings, ensuring compliance with relevant building regulations regarding energy performance. It focuses on preparing documentation that validates energy performance ratings and provides recommendations for improvements.  \\n**Relevant Roles:** Energy Assessors, Compliance Officers, Building Control Officers, Architects, Construction Managers  \\n**Keywords:** compliance, Building Regulations, Energy Performance Certificates, energy performance, recommendations, records, software, data protection, emissions rates'),\n",
       " ('Compliance',\n",
       "  'FSPCOMP9',\n",
       "  '**NOS ID:** FSPCOMP9  \\n**Title:** Advise and guide your organisation on compliance matters  \\n**Industry:** Compliance  \\n**Overview:** This standard focuses on the responsibilities of advising and guiding staff on compliance issues, ensuring an open environment for seeking support, and reporting compliance matters to senior management. It emphasizes establishing procedures for guidance requests and evaluating staff competence regarding compliance regulations.  \\n**Relevant Roles:** Compliance Officers, Finance Managers, Chartered Secretaries, Financial Institution Managers, Office Managers  \\n**Keywords:** Compliance; advise; staff; information; regulations; request; guidance; feedback; training; competence; reporting')]"
      ]
     },
     "execution_count": 48,
     "metadata": {},
     "output_type": "execute_result"
    }
   ],
   "source": [
    "[(nos['metadata']['industry'],nos['metadata']['nos_id'],nos['metadata']['text']) for nos in nos_docs['matches']][:11]"
   ]
  },
  {
   "cell_type": "code",
   "execution_count": null,
   "metadata": {},
   "outputs": [],
   "source": []
  },
  {
   "cell_type": "markdown",
   "metadata": {},
   "source": [
    "## To Format NOS text\n",
    "\n",
    "#### > Generate Skills and Competencies\n",
    "#### > Include Industry in text (to make it more relevant)"
   ]
  },
  {
   "cell_type": "code",
   "execution_count": 35,
   "metadata": {},
   "outputs": [],
   "source": [
    "import pandas as pd\n",
    "\n",
    "excel_file = r\"/Users/mumtaz/Documents/projects/zavmo/zavmo-api/zavmo/assets/static_data/JDs_NOS_OFQUAL.xlsx\"\n",
    "\n",
    "# Read each sheet into separate dataframes\n",
    "jds_df = pd.read_excel(excel_file, sheet_name='JD model')\n",
    "nos_df = pd.read_excel(excel_file, sheet_name='NOS model') \n",
    "ofqual_df = pd.read_excel(excel_file, sheet_name='OFQUAL model')\n"
   ]
  },
  {
   "cell_type": "code",
   "execution_count": 36,
   "metadata": {},
   "outputs": [
    {
     "data": {
      "text/html": [
       "<div>\n",
       "<style scoped>\n",
       "    .dataframe tbody tr th:only-of-type {\n",
       "        vertical-align: middle;\n",
       "    }\n",
       "\n",
       "    .dataframe tbody tr th {\n",
       "        vertical-align: top;\n",
       "    }\n",
       "\n",
       "    .dataframe thead th {\n",
       "        text-align: right;\n",
       "    }\n",
       "</style>\n",
       "<table border=\"1\" class=\"dataframe\">\n",
       "  <thead>\n",
       "    <tr style=\"text-align: right;\">\n",
       "      <th></th>\n",
       "      <th>job_role</th>\n",
       "      <th>main_purpose</th>\n",
       "      <th>work_experience</th>\n",
       "      <th>responsibilities</th>\n",
       "    </tr>\n",
       "  </thead>\n",
       "  <tbody>\n",
       "    <tr>\n",
       "      <th>0</th>\n",
       "      <td>Energy Compliance Consultant</td>\n",
       "      <td>▪ The Ethics &amp; Compliance function provides as...</td>\n",
       "      <td>▪ Effective communicator in both written and v...</td>\n",
       "      <td>▪ Assisting in the establishment of a complian...</td>\n",
       "    </tr>\n",
       "  </tbody>\n",
       "</table>\n",
       "</div>"
      ],
      "text/plain": [
       "                       job_role  \\\n",
       "0  Energy Compliance Consultant   \n",
       "\n",
       "                                        main_purpose  \\\n",
       "0  ▪ The Ethics & Compliance function provides as...   \n",
       "\n",
       "                                     work_experience  \\\n",
       "0  ▪ Effective communicator in both written and v...   \n",
       "\n",
       "                                    responsibilities  \n",
       "0  ▪ Assisting in the establishment of a complian...  "
      ]
     },
     "execution_count": 36,
     "metadata": {},
     "output_type": "execute_result"
    }
   ],
   "source": [
    "jds_df.head()"
   ]
  },
  {
   "cell_type": "code",
   "execution_count": 39,
   "metadata": {},
   "outputs": [
    {
     "name": "stdout",
     "output_type": "stream",
     "text": [
      "job_role                                 Energy Compliance Consultant\n",
      "main_purpose        ▪ The Ethics & Compliance function provides as...\n",
      "work_experience     ▪ Effective communicator in both written and v...\n",
      "responsibilities    ▪ Assisting in the establishment of a complian...\n",
      "Name: 0, dtype: object\n"
     ]
    }
   ],
   "source": [
    "for index,item in jds_df.iterrows():\n",
    "    print(item)"
   ]
  },
  {
   "cell_type": "code",
   "execution_count": null,
   "metadata": {},
   "outputs": [],
   "source": [
    "FSPAML19, FSPAML10, FSPCOM16"
   ]
  }
 ],
 "metadata": {
  "kernelspec": {
   "display_name": "Python 3",
   "language": "python",
   "name": "python3"
  },
  "language_info": {
   "codemirror_mode": {
    "name": "ipython",
    "version": 3
   },
   "file_extension": ".py",
   "mimetype": "text/x-python",
   "name": "python",
   "nbconvert_exporter": "python",
   "pygments_lexer": "ipython3",
   "version": "3.11.4"
  }
 },
 "nbformat": 4,
 "nbformat_minor": 2
}
