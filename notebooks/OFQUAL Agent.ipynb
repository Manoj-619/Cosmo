{
 "cells": [
  {
   "cell_type": "code",
   "execution_count": 11,
   "id": "c14e2191-5d7b-45db-bf18-090999cf1938",
   "metadata": {},
   "outputs": [],
   "source": [
    "import os\n",
    "import sys\n",
    "dir_path = r\"/Users/cosmodenny/zavmo-api/zavmo\"\n",
    "os.chdir(dir_path)\n",
    "# Get the absolute path to the zavmo-api directory\n",
    "zavmo_api_path = \"/Users/cosmodenny/zavmo-api\"\n",
    "sys.path.append(zavmo_api_path)"
   ]
  },
  {
   "cell_type": "code",
   "execution_count": 12,
   "id": "048a659a-48f5-4a03-be8d-f5739be7a377",
   "metadata": {},
   "outputs": [
    {
     "data": {
      "text/plain": [
       "True"
      ]
     },
     "execution_count": 12,
     "metadata": {},
     "output_type": "execute_result"
    }
   ],
   "source": [
    "import random\n",
    "import numpy as np\n",
    "from IPython.display import Markdown\n",
    "from dotenv import load_dotenv\n",
    "load_dotenv(override=True)"
   ]
  },
  {
   "cell_type": "code",
   "execution_count": 15,
   "id": "263b227b-9fdf-4fa2-af06-28a89b0f5b90",
   "metadata": {},
   "outputs": [
    {
     "name": "stderr",
     "output_type": "stream",
     "text": [
      "/Users/cosmodenny/zavmo-api/.venv/lib/python3.13/site-packages/pinecone/data/index.py:1: TqdmWarning: IProgress not found. Please update jupyter and ipywidgets. See https://ipywidgets.readthedocs.io/en/stable/user_install.html\n",
      "  from tqdm.autonotebook import tqdm\n",
      "2025-02-18 14:55:45,772 - INFO - Discovering subpackages in _NamespacePath(['/Users/cosmodenny/zavmo-api/.venv/lib/python3.13/site-packages/pinecone_plugins'])\n",
      "2025-02-18 14:55:45,773 - INFO - Looking for plugins in pinecone_plugins.inference\n",
      "2025-02-18 14:55:45,780 - INFO - Installing plugin inference into Pinecone\n"
     ]
    }
   ],
   "source": [
    "# Now try importing\n",
    "from helpers.chat import get_openai_embedding, get_batch_openai_embedding, get_openai_completion, get_prompt\n",
    "from helpers.swarm import run_step\n",
    "from helpers.agents.ofqual import get_ofqual_agent\n"
   ]
  },
  {
   "cell_type": "code",
   "execution_count": 149,
   "id": "c7a21587-dd65-49d0-bbf3-0e495927e49c",
   "metadata": {},
   "outputs": [],
   "source": [
    "nos_ids = [\n",
    "    \"FSPAML19\", \"FSPAML10\", \"FSPCOMP16\", \"FSPAML3\", \"FSPCOMP12\", \"FSPCOMP15\",\n",
    "    \"INSML013\", \"FSPAML1\", \"FSPCOMP8\", \"FSPAML5\", \"CFAGOR6\", \"SFJCCBE4.1\",\n",
    "    \"INSML021\", \"PROMPR4\", \"SFJHD2\", \"SFJCCBE2.1\", \"INSML017\", \"CLDSCCD25\",\n",
    "    \"INSML032\", \"LSI CM10\", \"INSML019\", \"INSML043\", \"REC1\", \"INSML052\",\n",
    "    \"INSCS030\", \"INSCS034\", \"INSCS043\", \"SKSAS22\", \"INSCS014\", \"INSCS039\",\n",
    "    \"INSCS038\", \"INSCS010\", \"INSCS028\", \"SKAOSC34\", \"INSCS002\", \"FSPFCC04\",\n",
    "    \"FSPCOMP9\", \"FSPCOMP2\", \"FSPCOMP10\", \"FSPCOMP3\", \"CFARMA006\", \"FSPCOMP6\",\n",
    "    \"CFAGOR3\", \"ASTFM324\", \"LANEM17\", \"CFAGOR5\", \"FSPCOMP4\", \"LANEM18\",\n",
    "    \"FSPCOMP7\", \"UNSML009\", \"FSPAML19\", \"FSPAML20\", \"FSPCOMP15\", \"CFAGOR6\",\n",
    "    \"SFJPA3.2\", \"TECDT80651\", \"SFJZA11\"\n",
    "]"
   ]
  },
  {
   "cell_type": "code",
   "execution_count": 150,
   "id": "2f68c22c-bd74-4d51-b4b5-77850aca2d67",
   "metadata": {},
   "outputs": [
    {
     "name": "stdout",
     "output_type": "stream",
     "text": [
      "\"FSPAML19, FSPAML20, FSPCOMP15, CFAGOR6, SFJPA3.2, TECDT80651, SFJZA11\n"
     ]
    }
   ],
   "source": [
    "nos_id = random.choice(nos_ids)\n",
    "# Or specify NOS_ID here\n",
    "nos_id = \"\"\"\"FSPAML19, FSPAML20, FSPCOMP15, CFAGOR6, SFJPA3.2, TECDT80651, SFJZA11\"\"\"\n",
    "print(nos_id)"
   ]
  },
  {
   "cell_type": "code",
   "execution_count": 151,
   "id": "e5726f79-299e-4226-91ac-4a28cc800512",
   "metadata": {},
   "outputs": [],
   "source": [
    "# NOTE: Technically we can add more details here if we want NOS + learning interests to guide this.\n",
    "extra_notes = \"Fraud Investigator\""
   ]
  },
  {
   "cell_type": "code",
   "execution_count": 152,
   "id": "4557d900-e5c0-4e4c-a622-62bab0bbafc8",
   "metadata": {},
   "outputs": [],
   "source": [
    "messages = [\n",
    "    {\n",
    "        \"role\":\"user\",\n",
    "        \"content\":f\"Find OFQUAL qualifications for {nos_id}.\\n{extra_notes}\".strip()\n",
    "    }\n",
    "]"
   ]
  },
  {
   "cell_type": "code",
   "execution_count": 153,
   "id": "65ed8620-0801-43cd-8747-5de82f666206",
   "metadata": {},
   "outputs": [
    {
     "name": "stderr",
     "output_type": "stream",
     "text": [
      "2025-01-28 12:15:52,620 - INFO - Running step 1 with agent OFQUAL Selection Agent\n",
      "2025-01-28 12:15:52,621 - INFO - Logging from fetch_agent response\n",
      "2025-01-28 12:15:57,228 - INFO - Executing tool: get_nos_document with args: {'nos_id': 'FSPAML19'}\n",
      "2025-01-28 12:15:57,234 - INFO - Discovering subpackages in _NamespacePath(['/Users/cosmodenny/zavmo-api/.venv/lib/python3.13/site-packages/pinecone_plugins'])\n",
      "2025-01-28 12:15:57,236 - INFO - Looking for plugins in pinecone_plugins.inference\n",
      "2025-01-28 12:15:57,913 - INFO - Executing tool: get_nos_document with args: {'nos_id': 'FSPAML20'}\n",
      "2025-01-28 12:15:57,914 - INFO - Discovering subpackages in _NamespacePath(['/Users/cosmodenny/zavmo-api/.venv/lib/python3.13/site-packages/pinecone_plugins'])\n",
      "2025-01-28 12:15:57,915 - INFO - Looking for plugins in pinecone_plugins.inference\n",
      "2025-01-28 12:15:58,440 - INFO - Executing tool: get_nos_document with args: {'nos_id': 'FSPCOMP15'}\n",
      "2025-01-28 12:15:58,442 - INFO - Discovering subpackages in _NamespacePath(['/Users/cosmodenny/zavmo-api/.venv/lib/python3.13/site-packages/pinecone_plugins'])\n",
      "2025-01-28 12:15:58,443 - INFO - Looking for plugins in pinecone_plugins.inference\n",
      "2025-01-28 12:15:58,981 - INFO - Executing tool: get_nos_document with args: {'nos_id': 'CFAGOR6'}\n",
      "2025-01-28 12:15:58,982 - INFO - Discovering subpackages in _NamespacePath(['/Users/cosmodenny/zavmo-api/.venv/lib/python3.13/site-packages/pinecone_plugins'])\n",
      "2025-01-28 12:15:58,983 - INFO - Looking for plugins in pinecone_plugins.inference\n",
      "2025-01-28 12:15:59,546 - INFO - Executing tool: get_nos_document with args: {'nos_id': 'SFJPA3.2'}\n",
      "2025-01-28 12:15:59,547 - INFO - Discovering subpackages in _NamespacePath(['/Users/cosmodenny/zavmo-api/.venv/lib/python3.13/site-packages/pinecone_plugins'])\n",
      "2025-01-28 12:15:59,548 - INFO - Looking for plugins in pinecone_plugins.inference\n",
      "2025-01-28 12:16:00,077 - INFO - Executing tool: get_nos_document with args: {'nos_id': 'TECDT80651'}\n",
      "2025-01-28 12:16:00,078 - INFO - Discovering subpackages in _NamespacePath(['/Users/cosmodenny/zavmo-api/.venv/lib/python3.13/site-packages/pinecone_plugins'])\n",
      "2025-01-28 12:16:00,079 - INFO - Looking for plugins in pinecone_plugins.inference\n",
      "2025-01-28 12:16:00,606 - INFO - Executing tool: get_nos_document with args: {'nos_id': 'SFJZA11'}\n",
      "2025-01-28 12:16:00,606 - INFO - Discovering subpackages in _NamespacePath(['/Users/cosmodenny/zavmo-api/.venv/lib/python3.13/site-packages/pinecone_plugins'])\n",
      "2025-01-28 12:16:00,608 - INFO - Looking for plugins in pinecone_plugins.inference\n",
      "2025-01-28 12:16:01,041 - INFO - Discovering subpackages in _NamespacePath(['/Users/cosmodenny/zavmo-api/.venv/lib/python3.13/site-packages/pinecone_plugins'])\n",
      "2025-01-28 12:16:01,041 - INFO - Looking for plugins in pinecone_plugins.inference\n",
      "2025-01-28 12:16:01,563 - INFO - Stopping agent chain\n",
      "2025-01-28 12:16:01,564 - INFO - Number of turns: 0\n"
     ]
    }
   ],
   "source": [
    "ofqual_agent = get_ofqual_agent()\n",
    "res = run_step(ofqual_agent, messages,context={})"
   ]
  },
  {
   "cell_type": "code",
   "execution_count": 154,
   "id": "796b3c80-5f20-4358-97fb-b74249baed10",
   "metadata": {},
   "outputs": [
    {
     "name": "stdout",
     "output_type": "stream",
     "text": [
      "No NOS document found for the given ID. Verify the NOS ID (spelling, case, etc).\n"
     ]
    }
   ],
   "source": [
    "print(res.messages[-1]['content'])"
   ]
  },
  {
   "cell_type": "code",
   "execution_count": 155,
   "id": "f7276247-8b70-4ab8-a46f-1d0b383deaf4",
   "metadata": {},
   "outputs": [
    {
     "ename": "KeyError",
     "evalue": "'selected_ofqual_ids'",
     "output_type": "error",
     "traceback": [
      "\u001b[0;31m---------------------------------------------------------------------------\u001b[0m",
      "\u001b[0;31mKeyError\u001b[0m                                  Traceback (most recent call last)",
      "Cell \u001b[0;32mIn[155], line 1\u001b[0m\n\u001b[0;32m----> 1\u001b[0m \u001b[38;5;28mprint\u001b[39m(\u001b[38;5;124m'\u001b[39m\u001b[38;5;124m, \u001b[39m\u001b[38;5;124m'\u001b[39m\u001b[38;5;241m.\u001b[39mjoin(\u001b[43mres\u001b[49m\u001b[38;5;241;43m.\u001b[39;49m\u001b[43mcontext\u001b[49m\u001b[43m[\u001b[49m\u001b[38;5;124;43m'\u001b[39;49m\u001b[38;5;124;43mselected_ofqual_ids\u001b[39;49m\u001b[38;5;124;43m'\u001b[39;49m\u001b[43m]\u001b[49m))\n",
      "\u001b[0;31mKeyError\u001b[0m: 'selected_ofqual_ids'"
     ]
    }
   ],
   "source": [
    "print(', '.join(res.context['selected_ofqual_ids']))"
   ]
  },
  {
   "cell_type": "code",
   "execution_count": null,
   "id": "8fc5d19b-a58f-44e0-b618-7dabcd3ed563",
   "metadata": {},
   "outputs": [],
   "source": []
  },
  {
   "cell_type": "code",
   "execution_count": null,
   "id": "eb305823-6f5d-471b-a62b-2965084c59dc",
   "metadata": {},
   "outputs": [],
   "source": []
  },
  {
   "cell_type": "code",
   "execution_count": null,
   "id": "e7e5b38b-4337-45ca-a964-f68e4bc1595d",
   "metadata": {},
   "outputs": [],
   "source": []
  }
 ],
 "metadata": {
  "kernelspec": {
   "display_name": ".venv",
   "language": "python",
   "name": "python3"
  },
  "language_info": {
   "codemirror_mode": {
    "name": "ipython",
    "version": 3
   },
   "file_extension": ".py",
   "mimetype": "text/x-python",
   "name": "python",
   "nbconvert_exporter": "python",
   "pygments_lexer": "ipython3",
   "version": "3.13.1"
  },
  "widgets": {
   "application/vnd.jupyter.widget-state+json": {
    "state": {},
    "version_major": 2,
    "version_minor": 0
   }
  }
 },
 "nbformat": 4,
 "nbformat_minor": 5
}
