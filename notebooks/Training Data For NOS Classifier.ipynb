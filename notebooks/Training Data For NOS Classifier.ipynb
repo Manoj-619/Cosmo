{
 "cells": [
  {
   "cell_type": "code",
   "execution_count": 3,
   "metadata": {},
   "outputs": [],
   "source": [
    "import os\n",
    "os.chdir('/Users/mumtaz/Documents/projects/zavmo/zavmo-api/zavmo')"
   ]
  },
  {
   "cell_type": "code",
   "execution_count": 4,
   "metadata": {},
   "outputs": [
    {
     "data": {
      "text/plain": [
       "'/Users/mumtaz/Documents/projects/zavmo/zavmo-api/zavmo'"
      ]
     },
     "execution_count": 4,
     "metadata": {},
     "output_type": "execute_result"
    }
   ],
   "source": [
    "os.getcwd()"
   ]
  },
  {
   "cell_type": "code",
   "execution_count": 5,
   "metadata": {},
   "outputs": [],
   "source": [
    "from helpers.chat import get_batch_openai_embedding"
   ]
  },
  {
   "cell_type": "code",
   "execution_count": 6,
   "metadata": {},
   "outputs": [
    {
     "data": {
      "text/plain": [
       "True"
      ]
     },
     "execution_count": 6,
     "metadata": {},
     "output_type": "execute_result"
    }
   ],
   "source": [
    "import pandas as pd\n",
    "import numpy as np\n",
    "from IPython.display import Markdown\n",
    "from sklearn.metrics.pairwise import cosine_similarity\n",
    "\n",
    "from dotenv import load_dotenv\n",
    "load_dotenv()"
   ]
  },
  {
   "cell_type": "code",
   "execution_count": 7,
   "metadata": {},
   "outputs": [],
   "source": [
    "import warnings\n",
    "warnings.filterwarnings(\"ignore\")"
   ]
  },
  {
   "cell_type": "code",
   "execution_count": 8,
   "metadata": {},
   "outputs": [],
   "source": [
    "ofqual_SSAs = [\n",
    "  {\n",
    "    \"Health, Public Services and Care\": [\n",
    "      \"Medicine and dentistry\",\n",
    "      \"Nursing, and subjects and vocations allied to medicine\",\n",
    "      \"Health and social care\",\n",
    "      \"Public services\",\n",
    "      \"Child development and well being\"\n",
    "    ]\n",
    "  },\n",
    "  {\n",
    "    \"Science and Mathematics\": [\n",
    "      \"Science\",\n",
    "      \"Mathematics and statistics\"\n",
    "    ]\n",
    "  },\n",
    "  {\n",
    "    \"Agriculture, Horticulture and Animal Care\": [\n",
    "      \"Agriculture\",\n",
    "      \"Horticulture and forestry\",\n",
    "      \"Animal care and veterinary science\",\n",
    "      \"Environmental conservation\"\n",
    "    ]\n",
    "  },\n",
    "  {\n",
    "    \"Engineering and Manufacturing Technologies\": [\n",
    "      \"Engineering\",\n",
    "      \"Manufacturing technologies\",\n",
    "      \"Transportation operations and maintenance\"\n",
    "    ]\n",
    "  },\n",
    "  {\n",
    "    \"Construction, Planning and the Built Environment\": [\n",
    "      \"Architecture\",\n",
    "      \"Building and construction\",\n",
    "      \"Urban, rural and regional planning\"\n",
    "    ]\n",
    "  },\n",
    "  {\n",
    "    \"Digital Technology\": [\n",
    "      \"Digital technology (practitioners)\",\n",
    "      \"Digital technology (users)\"\n",
    "    ]\n",
    "  },\n",
    "  {\n",
    "    \"Retail and Commercial Enterprise\": [\n",
    "      \"Retailing and wholesaling\",\n",
    "      \"Warehousing and distribution\",\n",
    "      \"Service enterprises\",\n",
    "      \"Hospitality and catering\"\n",
    "    ]\n",
    "  },\n",
    "  {\n",
    "    \"Leisure, Travel and Tourism\": [\n",
    "      \"Sport, leisure and recreation\",\n",
    "      \"Travel and tourism\"\n",
    "    ]\n",
    "  },\n",
    "  {\n",
    "    \"Arts, Media and Publishing\": [\n",
    "      \"Performing arts\",\n",
    "      \"Crafts, creative arts and design\",\n",
    "      \"Media and communication\",\n",
    "      \"Publishing and information services\"\n",
    "    ]\n",
    "  },\n",
    "  {\n",
    "    \"History, Philosophy and Theology\": [\n",
    "      \"History\",\n",
    "      \"Archaeology and archaeological sciences\",\n",
    "      \"Philosophy\",\n",
    "      \"Theology and religious studies\"\n",
    "    ]\n",
    "  },\n",
    "  {\n",
    "    \"Social Sciences\": [\n",
    "      \"Geography\",\n",
    "      \"Sociology and social policy\",\n",
    "      \"Politics\",\n",
    "      \"Economics\",\n",
    "      \"Anthropology\"\n",
    "    ]\n",
    "  },\n",
    "  {\n",
    "    \"Languages, Literature and Culture\": [\n",
    "      \"Languages, literature and culture of the British Isles\",\n",
    "      \"Other languages, literature and culture\",\n",
    "      \"Linguistics\"\n",
    "    ]\n",
    "  },\n",
    "  {\n",
    "    \"Education and Training\": [\n",
    "      \"Teaching and lecturing\",\n",
    "      \"Direct learning support\"\n",
    "    ]\n",
    "  },\n",
    "  {\n",
    "    \"Preparation for Life and Work\": [\n",
    "      \"Foundations for learning and life\",\n",
    "      \"Preparation for work\"\n",
    "    ]\n",
    "  },\n",
    "  {\n",
    "    \"Business, Administration and Law\": [\n",
    "      \"Accounting and finance\",\n",
    "      \"Administration\",\n",
    "      \"Business management\",\n",
    "      \"Marketing and sales\",\n",
    "      \"Law and legal services\"\n",
    "    ]\n",
    "  }\n",
    "]"
   ]
  },
  {
   "cell_type": "code",
   "execution_count": 22,
   "metadata": {},
   "outputs": [],
   "source": [
    "ofqual_SSAs = [\n",
    "    \"Medicine and dentistry\",\n",
    "    \"Nursing, and subjects and vocations allied to medicine\",\n",
    "    \"Health and social care\",\n",
    "    \"Public services\",\n",
    "    \"Child development and well being\",\n",
    "    \"Science\",\n",
    "    \"Mathematics and statistics\",\n",
    "    \"Agriculture\",\n",
    "    \"Horticulture and forestry\",\n",
    "    \"Animal care and veterinary science\",\n",
    "    \"Environmental conservation\",\n",
    "    \"Engineering\",\n",
    "    \"Manufacturing technologies\",\n",
    "    \"Transportation operations and maintenance\",\n",
    "    \"Architecture\",\n",
    "    \"Building and construction\",\n",
    "    \"Urban, rural and regional planning\",\n",
    "    \"Digital technology (practitioners)\",\n",
    "    \"Digital technology (users)\",\n",
    "    \"Retailing and wholesaling\",\n",
    "    \"Warehousing and distribution\",\n",
    "    \"Service enterprises\",\n",
    "    \"Hospitality and catering\",\n",
    "    \"Sport, leisure and recreation\",\n",
    "    \"Travel and tourism\",\n",
    "    \"Performing arts\",\n",
    "    \"Crafts, creative arts and design\",\n",
    "    \"Media and communication\",\n",
    "    \"Publishing and information services\",\n",
    "    \"History\",\n",
    "    \"Archaeology and archaeological sciences\",\n",
    "    \"Philosophy\",\n",
    "    \"Theology and religious studies\",\n",
    "    \"Geography\",\n",
    "    \"Sociology and social policy\",\n",
    "    \"Politics\",\n",
    "    \"Economics\",\n",
    "    \"Anthropology\",\n",
    "    \"Languages, literature and culture of the British isles\",\n",
    "    \"Other languages, literature and culture\",\n",
    "    \"Linguistics\",\n",
    "    \"Teaching and lecturing\",\n",
    "    \"Direct learning support\",\n",
    "    \"Foundations for learning and life\",\n",
    "    \"Preparation for work\",\n",
    "    \"Accounting and finance\",\n",
    "    \"Administration\",\n",
    "    \"Business management\",\n",
    "    \"Marketing and sales\",\n",
    "    \"Law and legal services\"\n",
    "]\n"
   ]
  },
  {
   "cell_type": "code",
   "execution_count": 9,
   "metadata": {},
   "outputs": [
    {
     "data": {
      "text/html": [
       "<div>\n",
       "<style scoped>\n",
       "    .dataframe tbody tr th:only-of-type {\n",
       "        vertical-align: middle;\n",
       "    }\n",
       "\n",
       "    .dataframe tbody tr th {\n",
       "        vertical-align: top;\n",
       "    }\n",
       "\n",
       "    .dataframe thead th {\n",
       "        text-align: right;\n",
       "    }\n",
       "</style>\n",
       "<table border=\"1\" class=\"dataframe\">\n",
       "  <thead>\n",
       "    <tr style=\"text-align: right;\">\n",
       "      <th></th>\n",
       "      <th>filename</th>\n",
       "      <th>ofqual_ids</th>\n",
       "      <th>overview</th>\n",
       "      <th>unit_details</th>\n",
       "    </tr>\n",
       "  </thead>\n",
       "  <tbody>\n",
       "    <tr>\n",
       "      <th>0</th>\n",
       "      <td>ProQual-L1-Award-in-Preparing-for-the-Future-W...</td>\n",
       "      <td>603/6681/3</td>\n",
       "      <td>2 ProQual, October 2020 Level 1 Award in Prepa...</td>\n",
       "      <td>7 ProQual, October 2020 Level 1 Award in Prepa...</td>\n",
       "    </tr>\n",
       "    <tr>\n",
       "      <th>1</th>\n",
       "      <td>ProQual-L2-Award-in-Complying-with-Social-Dist...</td>\n",
       "      <td>603/6036/7</td>\n",
       "      <td>ProQual, June 2020 Level 2 Award in Complying ...</td>\n",
       "      <td>7 ProQual, May 2020 Level 2 Award in Complying...</td>\n",
       "    </tr>\n",
       "    <tr>\n",
       "      <th>2</th>\n",
       "      <td>ProQual-L2-Award-in-Diversity-and-Inclusion.pdf</td>\n",
       "      <td>603/6334/4</td>\n",
       "      <td>ProQual, August 2020 Level 2 Award in Diversit...</td>\n",
       "      <td>ProQual, August 2020 Level 2 Award in Diversit...</td>\n",
       "    </tr>\n",
       "  </tbody>\n",
       "</table>\n",
       "</div>"
      ],
      "text/plain": [
       "                                            filename  ofqual_ids  \\\n",
       "0  ProQual-L1-Award-in-Preparing-for-the-Future-W...  603/6681/3   \n",
       "1  ProQual-L2-Award-in-Complying-with-Social-Dist...  603/6036/7   \n",
       "2    ProQual-L2-Award-in-Diversity-and-Inclusion.pdf  603/6334/4   \n",
       "\n",
       "                                            overview  \\\n",
       "0  2 ProQual, October 2020 Level 1 Award in Prepa...   \n",
       "1  ProQual, June 2020 Level 2 Award in Complying ...   \n",
       "2  ProQual, August 2020 Level 2 Award in Diversit...   \n",
       "\n",
       "                                        unit_details  \n",
       "0  7 ProQual, October 2020 Level 1 Award in Prepa...  \n",
       "1  7 ProQual, May 2020 Level 2 Award in Complying...  \n",
       "2  ProQual, August 2020 Level 2 Award in Diversit...  "
      ]
     },
     "execution_count": 9,
     "metadata": {},
     "output_type": "execute_result"
    }
   ],
   "source": [
    "ofqual = pd.read_csv(\"/Users/mumtaz/Documents/projects/zavmo/ofqual_proqual_updated.csv\")\n",
    "ofqual.head(3)"
   ]
  },
  {
   "cell_type": "code",
   "execution_count": 10,
   "metadata": {},
   "outputs": [],
   "source": [
    "ofqual_2= pd.read_csv(\"/Users/mumtaz/Documents/projects/zavmo/zavmo-api/docs/nos-ofqual/ofqual_details_20250127.csv.zip\")"
   ]
  },
  {
   "cell_type": "code",
   "execution_count": 11,
   "metadata": {},
   "outputs": [
    {
     "data": {
      "text/html": [
       "<div>\n",
       "<style scoped>\n",
       "    .dataframe tbody tr th:only-of-type {\n",
       "        vertical-align: middle;\n",
       "    }\n",
       "\n",
       "    .dataframe tbody tr th {\n",
       "        vertical-align: top;\n",
       "    }\n",
       "\n",
       "    .dataframe thead th {\n",
       "        text-align: right;\n",
       "    }\n",
       "</style>\n",
       "<table border=\"1\" class=\"dataframe\">\n",
       "  <thead>\n",
       "    <tr style=\"text-align: right;\">\n",
       "      <th></th>\n",
       "      <th>qualification_type</th>\n",
       "      <th>qualification_level</th>\n",
       "      <th>qualification_number</th>\n",
       "      <th>assessment_methods</th>\n",
       "      <th>sector_subject_area</th>\n",
       "      <th>awarding_organisation</th>\n",
       "      <th>grading_type</th>\n",
       "      <th>total_credits</th>\n",
       "      <th>funding_in_england</th>\n",
       "      <th>status</th>\n",
       "      <th>...</th>\n",
       "      <th>final_certification_date</th>\n",
       "      <th>european_qualification_level</th>\n",
       "      <th>ofqual_id</th>\n",
       "      <th>guided_learning_hours</th>\n",
       "      <th>total_qualification_time</th>\n",
       "      <th>specification</th>\n",
       "      <th>specialisms</th>\n",
       "      <th>optional_routes</th>\n",
       "      <th>grading_scale</th>\n",
       "      <th>end-point_assessment_standard</th>\n",
       "    </tr>\n",
       "  </thead>\n",
       "  <tbody>\n",
       "    <tr>\n",
       "      <th>0</th>\n",
       "      <td>QCF</td>\n",
       "      <td>Level 2</td>\n",
       "      <td>500/6783/7</td>\n",
       "      <td>Portfolio of Evidence</td>\n",
       "      <td>Business management</td>\n",
       "      <td>/organisations/RN5112</td>\n",
       "      <td>Pass/Fail</td>\n",
       "      <td>3.0</td>\n",
       "      <td>https://www.qualifications.education.gov.uk/Qu...</td>\n",
       "      <td>No longer awarded</td>\n",
       "      <td>...</td>\n",
       "      <td>2013-06-30</td>\n",
       "      <td>Level 3</td>\n",
       "      <td>500/6783/7</td>\n",
       "      <td>NaN</td>\n",
       "      <td>NaN</td>\n",
       "      <td>NaN</td>\n",
       "      <td>NaN</td>\n",
       "      <td>NaN</td>\n",
       "      <td>NaN</td>\n",
       "      <td>NaN</td>\n",
       "    </tr>\n",
       "    <tr>\n",
       "      <th>1</th>\n",
       "      <td>QCF</td>\n",
       "      <td>Level 3</td>\n",
       "      <td>500/7515/9</td>\n",
       "      <td>Portfolio of Evidence</td>\n",
       "      <td>Retailing and wholesaling</td>\n",
       "      <td>/organisations/RN5112</td>\n",
       "      <td>Pass/Fail</td>\n",
       "      <td>43.0</td>\n",
       "      <td>https://www.qualifications.education.gov.uk/Qu...</td>\n",
       "      <td>No longer awarded</td>\n",
       "      <td>...</td>\n",
       "      <td>2015-04-30</td>\n",
       "      <td>Level 4</td>\n",
       "      <td>500/7515/9</td>\n",
       "      <td>NaN</td>\n",
       "      <td>NaN</td>\n",
       "      <td>NaN</td>\n",
       "      <td>NaN</td>\n",
       "      <td>NaN</td>\n",
       "      <td>NaN</td>\n",
       "      <td>NaN</td>\n",
       "    </tr>\n",
       "    <tr>\n",
       "      <th>2</th>\n",
       "      <td>QCF</td>\n",
       "      <td>Level 2</td>\n",
       "      <td>500/3577/0</td>\n",
       "      <td>Portfolio of Evidence</td>\n",
       "      <td>Manufacturing technologies</td>\n",
       "      <td>/organisations/RN5112</td>\n",
       "      <td>Pass/Fail</td>\n",
       "      <td>2.0</td>\n",
       "      <td>https://www.qualifications.education.gov.uk/Qu...</td>\n",
       "      <td>No longer awarded</td>\n",
       "      <td>...</td>\n",
       "      <td>2014-07-31</td>\n",
       "      <td>Level 3</td>\n",
       "      <td>500/3577/0</td>\n",
       "      <td>NaN</td>\n",
       "      <td>NaN</td>\n",
       "      <td>NaN</td>\n",
       "      <td>NaN</td>\n",
       "      <td>NaN</td>\n",
       "      <td>NaN</td>\n",
       "      <td>NaN</td>\n",
       "    </tr>\n",
       "  </tbody>\n",
       "</table>\n",
       "<p>3 rows × 24 columns</p>\n",
       "</div>"
      ],
      "text/plain": [
       "  qualification_type qualification_level qualification_number  \\\n",
       "0                QCF             Level 2           500/6783/7   \n",
       "1                QCF             Level 3           500/7515/9   \n",
       "2                QCF             Level 2           500/3577/0   \n",
       "\n",
       "      assessment_methods         sector_subject_area  awarding_organisation  \\\n",
       "0  Portfolio of Evidence         Business management  /organisations/RN5112   \n",
       "1  Portfolio of Evidence   Retailing and wholesaling  /organisations/RN5112   \n",
       "2  Portfolio of Evidence  Manufacturing technologies  /organisations/RN5112   \n",
       "\n",
       "  grading_type  total_credits  \\\n",
       "0    Pass/Fail            3.0   \n",
       "1    Pass/Fail           43.0   \n",
       "2    Pass/Fail            2.0   \n",
       "\n",
       "                                  funding_in_england             status  ...  \\\n",
       "0  https://www.qualifications.education.gov.uk/Qu...  No longer awarded  ...   \n",
       "1  https://www.qualifications.education.gov.uk/Qu...  No longer awarded  ...   \n",
       "2  https://www.qualifications.education.gov.uk/Qu...  No longer awarded  ...   \n",
       "\n",
       "  final_certification_date european_qualification_level   ofqual_id  \\\n",
       "0               2013-06-30                      Level 3  500/6783/7   \n",
       "1               2015-04-30                      Level 4  500/7515/9   \n",
       "2               2014-07-31                      Level 3  500/3577/0   \n",
       "\n",
       "  guided_learning_hours total_qualification_time specification specialisms  \\\n",
       "0                   NaN                      NaN           NaN         NaN   \n",
       "1                   NaN                      NaN           NaN         NaN   \n",
       "2                   NaN                      NaN           NaN         NaN   \n",
       "\n",
       "   optional_routes  grading_scale end-point_assessment_standard  \n",
       "0              NaN            NaN                           NaN  \n",
       "1              NaN            NaN                           NaN  \n",
       "2              NaN            NaN                           NaN  \n",
       "\n",
       "[3 rows x 24 columns]"
      ]
     },
     "execution_count": 11,
     "metadata": {},
     "output_type": "execute_result"
    }
   ],
   "source": [
    "ofqual_2.head(3)"
   ]
  },
  {
   "cell_type": "code",
   "execution_count": 55,
   "metadata": {},
   "outputs": [
    {
     "data": {
      "text/markdown": [
       "ProQual, August 2017 Level 2 Award in Control of Water -borne Infections within Healthcare 2 Contents Page Introduction 3 Qualification profile 3 Qualifica tion structure 4 Centre requirements 5 Support for candidates 5 Assessment 6 Internal quality assurance 6 Adjustments to assessment 6 Results enquiries and appeals 7 Certification 7 Learning Outcomes and Assessment Criteria 8 ProQual, August 2017 Level 2 Award in Control of Water -borne Infections within Healthcare 3 Introduction The Level 2 Award in Control of Water -borne Infections Within Healthcare qualification is aimed at candidates working in healthcare environments and it aims to raise awareness of the risks to health of water -borne infections. The awarding organisation for this qualification is ProQual Awarding Body and the regulatory body is the Office of Qualifications and Examinations Regulation (Ofqual). The specification for these qualifications has been approved by the Welsh Government for use by centres in Wales and by the Council for the Curriculum Examinations and Assessment (CCEA) for use by centres in Northern Ireland. This qualification ha s been accredited onto the Regulated Qualificat ions Framework ( RQC). Qualification P rofile Qualification title ProQual Level 2 Award in Control of Water -borne Infections Within Healthcare Ofqual qualification number 601/1011/9 Level Level 2 Guided learning hours 8 Total qualification time 20 Assessment Pass or fail Internally assessed and verified by centre staff External quality assurance by ProQual verifiers Qualification start date 1/09/13 Qualification end date Entry Requirements There are no formal entry requirements for this qualification. Centres should carry out an initial assessment of candidate skills and knowledge to identify any gaps and help plan the assessment. ProQual, August 2017 Level 2 Award in Control of Water -borne Infections within Healthcare 5 Centre Requirements Centres must be approved to offer this qualification. If your centre is not approved please complete and submit form ProQual Additional Qualification Approval Application . Staff Staff delivering this qualification must be appropriately qualified and occupationally competent. Assessors/Internal Quality Assurance For each competence -based unit centres must be able to provide at least one assessor and one internal quality assurance verifier who are suitably qualified for the specific occupational area. Assessors and internal quality assurance verifiers for competence -based units or qualifications will normal ly need to hold appropriate assessor or ver ifier qualifications, such as: • Award in Assessing Competence in the Work Environment • Award in Assessing Vocationally Related Achievement • Certificate in Assessing Vocational Achievement • Award in the Internal Quality Assurance of Assessment Processes and Practices • Certificate in Leading the Internal Quality Assurance of Assessment Processes and Practices Support for Candidates Materials produced by centres to support candidates should: • enable them to track their achievements as they progress through the learning outcomes and assessment criteria; • provide information on where ProQual’s policies and procedures can be viewed; • provide a means of enabling Internal and External Quality Assurance staff to authenticate evidence ProQual, August 2017 Level 2 Award in Control of Water -borne Infections within Healthcare 6 Assessment Candidates must demonstrate the level of knowledg e described in the unit. Assessment is the process of measuring a candidate’s knowledge and understanding against the standards set in the qualification. Each candida te is required to produce evidence which demonstrates their achievement of all of the learning outcomes and assessment criteria for each unit. Evidence can include: - assignments/projects/reports - worksh eets - portfolio of evidence - record of oral and /or written questioning - candidate test papers Learning outcomes set out what a candidate is expected to know, understand or be able to do. Assessment criteria specify the standard a candidate must meet to show the learning outcome has been achieve d. Learning outcomes and assessment criteria for this qualification can be found from page 8 onwards . Internal Quality Assurance An internal quality assurance verifier confirms that assessment decisions made in centres are made by competent and qualified assessors, that they are the result of sound and fair assessment practice and that they are recorded accurately and appropriately. Adjustments to Assessment Adjustments to standard assessment arrangements are made on the individual needs of candidates. ProQual ’s Reasonable Adjustments Policy a nd Special Consideration Policy sets out the steps to follow when implementing reasonable adjustments and special considerations and the service that ProQual provides for some of these arrangements. Centres should contact ProQual f or further information or queries ab out the contents of the policy."
      ],
      "text/plain": [
       "<IPython.core.display.Markdown object>"
      ]
     },
     "execution_count": 55,
     "metadata": {},
     "output_type": "execute_result"
    }
   ],
   "source": [
    "Markdown(ofqual['overview'][3])"
   ]
  },
  {
   "cell_type": "code",
   "execution_count": 23,
   "metadata": {},
   "outputs": [
    {
     "data": {
      "text/html": [
       "<div>\n",
       "<style scoped>\n",
       "    .dataframe tbody tr th:only-of-type {\n",
       "        vertical-align: middle;\n",
       "    }\n",
       "\n",
       "    .dataframe tbody tr th {\n",
       "        vertical-align: top;\n",
       "    }\n",
       "\n",
       "    .dataframe thead th {\n",
       "        text-align: right;\n",
       "    }\n",
       "</style>\n",
       "<table border=\"1\" class=\"dataframe\">\n",
       "  <thead>\n",
       "    <tr style=\"text-align: right;\">\n",
       "      <th></th>\n",
       "      <th>urn</th>\n",
       "      <th>suites</th>\n",
       "      <th>occupations</th>\n",
       "      <th>soc</th>\n",
       "      <th>developed_by_1</th>\n",
       "      <th>approved_on</th>\n",
       "      <th>web_link</th>\n",
       "      <th>pdf_link</th>\n",
       "      <th>overview</th>\n",
       "      <th>performance_criteria</th>\n",
       "      <th>knowledge_and_understanding</th>\n",
       "      <th>additional_information</th>\n",
       "      <th>developed_by_2</th>\n",
       "      <th>key_words</th>\n",
       "      <th>nos_title</th>\n",
       "    </tr>\n",
       "  </thead>\n",
       "  <tbody>\n",
       "    <tr>\n",
       "      <th>3</th>\n",
       "      <td>PROSM09</td>\n",
       "      <td>Sawmilling</td>\n",
       "      <td>Paper and Wood Machine Operatives</td>\n",
       "      <td>8131</td>\n",
       "      <td>NSAFD v2</td>\n",
       "      <td>01/04/2020 00:00</td>\n",
       "      <td>NaN</td>\n",
       "      <td>https://files.ukstandards.org.uk/pdfs/PROSM09.pdf</td>\n",
       "      <td>This standard covers the skills and knowledge ...</td>\n",
       "      <td>You must be able to: 1. carry out risk assessm...</td>\n",
       "      <td>You need to know and 1. relevant health and sa...</td>\n",
       "      <td>NaN</td>\n",
       "      <td>NSAFD Version Number 2 Date Approved March 201...</td>\n",
       "      <td>Timber; wood; abrasive; wheel; saw; cut; sawmi...</td>\n",
       "      <td>Abrasive wheel operations in the wood industry</td>\n",
       "    </tr>\n",
       "    <tr>\n",
       "      <th>4</th>\n",
       "      <td>PPLRETRS17</td>\n",
       "      <td>Rail Engineering</td>\n",
       "      <td>Transport Drivers and Operatives</td>\n",
       "      <td>8153</td>\n",
       "      <td>Enginuity</td>\n",
       "      <td>15/03/2015 00:00</td>\n",
       "      <td>NaN</td>\n",
       "      <td>https://files.ukstandards.org.uk/pdfs/PPLRETRS...</td>\n",
       "      <td>This unit is about accepting and returning res...</td>\n",
       "      <td>You must be able to: P1 work safely at all tim...</td>\n",
       "      <td>You need to know and K1 the relevant health an...</td>\n",
       "      <td>Glossary Health and safety legislation, regula...</td>\n",
       "      <td>People 1st Version number 1 Date approved Apri...</td>\n",
       "      <td>Responsibility; control; handover PPLRETRS17 A...</td>\n",
       "      <td>Accept, and return, responsibility for the con...</td>\n",
       "    </tr>\n",
       "    <tr>\n",
       "      <th>5</th>\n",
       "      <td>COGPOLY9</td>\n",
       "      <td>Polymer Processing and Related Operations</td>\n",
       "      <td>Engineering Professionals, Manufacturing Techn...</td>\n",
       "      <td>8113</td>\n",
       "      <td>Cogent</td>\n",
       "      <td>31/01/2012 00:00</td>\n",
       "      <td>NaN</td>\n",
       "      <td>https://files.ukstandards.org.uk/pdfs/COGPOLY9...</td>\n",
       "      <td>This unit is for those with responsibility for...</td>\n",
       "      <td>You must be able to: P1 work safely at all tim...</td>\n",
       "      <td>You need to know and K1 how to access and inte...</td>\n",
       "      <td>Glossary Key terms Examples Regulations and gu...</td>\n",
       "      <td>Cogent Version number 1 Date approved January ...</td>\n",
       "      <td>accept, verify, store, materials, process, ope...</td>\n",
       "      <td>Accept, verify and store materials required fo...</td>\n",
       "    </tr>\n",
       "  </tbody>\n",
       "</table>\n",
       "</div>"
      ],
      "text/plain": [
       "          urn                                     suites  \\\n",
       "3     PROSM09                                 Sawmilling   \n",
       "4  PPLRETRS17                           Rail Engineering   \n",
       "5    COGPOLY9  Polymer Processing and Related Operations   \n",
       "\n",
       "                                         occupations   soc developed_by_1  \\\n",
       "3                  Paper and Wood Machine Operatives  8131       NSAFD v2   \n",
       "4                   Transport Drivers and Operatives  8153      Enginuity   \n",
       "5  Engineering Professionals, Manufacturing Techn...  8113         Cogent   \n",
       "\n",
       "        approved_on web_link  \\\n",
       "3  01/04/2020 00:00      NaN   \n",
       "4  15/03/2015 00:00      NaN   \n",
       "5  31/01/2012 00:00      NaN   \n",
       "\n",
       "                                            pdf_link  \\\n",
       "3  https://files.ukstandards.org.uk/pdfs/PROSM09.pdf   \n",
       "4  https://files.ukstandards.org.uk/pdfs/PPLRETRS...   \n",
       "5  https://files.ukstandards.org.uk/pdfs/COGPOLY9...   \n",
       "\n",
       "                                            overview  \\\n",
       "3  This standard covers the skills and knowledge ...   \n",
       "4  This unit is about accepting and returning res...   \n",
       "5  This unit is for those with responsibility for...   \n",
       "\n",
       "                                performance_criteria  \\\n",
       "3  You must be able to: 1. carry out risk assessm...   \n",
       "4  You must be able to: P1 work safely at all tim...   \n",
       "5  You must be able to: P1 work safely at all tim...   \n",
       "\n",
       "                         knowledge_and_understanding  \\\n",
       "3  You need to know and 1. relevant health and sa...   \n",
       "4  You need to know and K1 the relevant health an...   \n",
       "5  You need to know and K1 how to access and inte...   \n",
       "\n",
       "                              additional_information  \\\n",
       "3                                                NaN   \n",
       "4  Glossary Health and safety legislation, regula...   \n",
       "5  Glossary Key terms Examples Regulations and gu...   \n",
       "\n",
       "                                      developed_by_2  \\\n",
       "3  NSAFD Version Number 2 Date Approved March 201...   \n",
       "4  People 1st Version number 1 Date approved Apri...   \n",
       "5  Cogent Version number 1 Date approved January ...   \n",
       "\n",
       "                                           key_words  \\\n",
       "3  Timber; wood; abrasive; wheel; saw; cut; sawmi...   \n",
       "4  Responsibility; control; handover PPLRETRS17 A...   \n",
       "5  accept, verify, store, materials, process, ope...   \n",
       "\n",
       "                                           nos_title  \n",
       "3     Abrasive wheel operations in the wood industry  \n",
       "4  Accept, and return, responsibility for the con...  \n",
       "5  Accept, verify and store materials required fo...  "
      ]
     },
     "execution_count": 23,
     "metadata": {},
     "output_type": "execute_result"
    }
   ],
   "source": [
    "nos = pd.read_excel(\"/Users/mumtaz/Documents/projects/zavmo/complete_nos.xlsx\").drop_duplicates(subset=['urn'], keep='first')\n",
    "nos = nos.dropna(subset=['overview','performance_criteria', 'knowledge_and_understanding'])\n",
    "nos.head(3)"
   ]
  },
  {
   "cell_type": "code",
   "execution_count": null,
   "metadata": {},
   "outputs": [],
   "source": [
    "len(nos['suites'].unique())"
   ]
  },
  {
   "cell_type": "code",
   "execution_count": 58,
   "metadata": {},
   "outputs": [],
   "source": [
    "sample_data = [f\"Overview:\\n\\n{i['overview']}\" for i in ofqual.head(5000).to_dict(orient='records')] "
   ]
  },
  {
   "cell_type": "code",
   "execution_count": 59,
   "metadata": {},
   "outputs": [
    {
     "data": {
      "text/markdown": [
       "Overview:\n",
       "\n",
       "2 ProQual, October 2020 Level 1 Award in Preparing for the Future Workplace in a Construction Environment Contents Page Introduction 3 Qualification profile 3 Qualification structure 4 Centre requirements 4 Support for candidates 5 Assessment 5 Internal quality assurance 6 Adjustments to assessment 6 Results enquiries and appeals 6 Certification 6 Learning Outcomes and Assessment Criteria 7 3 ProQual, October 2020 Level 1 Award in Preparing for the Future Workplace in a Construction Environment Introduction The Level 1 Award in Preparing for the Future Workplace in a Construction Environment is appropriate for those working in a trainee or junior role in a construction workplace or undertaking a Level 1 or 2 construction -related training course . The qualification aims to focus candidates on knowledge and skills to support their present role and to help prepare them for working in a future construction environment workplace . The Regulated Qualifications Framework (RQF) is the single framework for regulated qualifications, the regulatory body for this qualification is the Office of Qualifications and Examinations Regulation (Ofqual). This qualification is accredited onto the R QF. Qualification Profile Qualification title ProQual Level 1 Award in Preparing for the Future Workplace in a Construction Environment Ofqual qualification number 603/ 6681/3 Level Level 1 Total qualification time 40 hours Guided learning hours 25 Assessment Pass or fail Assessed and verified by centre staff External quality assurance by ProQual verifiers Qualification start date 12/10 /2020 Qualification end date Entry Requirements There are no formal entry requirements for this qualification. Centres should carry out an initial assessment of candidate skills and knowledge to identify any gaps and help plan the assessment. 5 ProQual, October 2020 Level 1 Award in Preparing for the Future Workplace in a Construction Environment Support for Candidates Materials p roduced by centres to support candidates should: • enable them to track their achievements as they progress through the learning outcomes and assessment criteria; • provide information on where ProQual’s policies and procedures can be viewed; • provide a means of enabling Internal and External Quality Assurance staff to authenticate evidence Assessment Candidates must demonstrate the level of knowledge and/or skills described in the unit s. Assessment is the process of measuring a candidate’s knowledge and understanding against the standards set in the qualification. Each candidate is required to produce evidence which demonstrates their achievement of all of the learning outcomes and a ssessment criteria for each unit. Evidence c ould include: - portfolio of evidence - workbook - coursework Learning outcomes set out what a candidate is expected to know, understand or be able to do. Assessment criteria specify the standard a candidate must meet to show the learning outcome has been achieve d. Learning outcomes and assessment criteria for this qualification can be found from page 7 onwards. To achieve this qualification all candidates must produce evidence which demonstrates their achievement of all of the assessment criteria. There must be valid, authentic and sufficient for all the assessment criteria. H owever, one piece of evidence may be used to meet the requirements of more than one learning outcome or assessment criterion. 6 ProQual, October 2020 Level 1 Award in Preparing for the Future Workplace in a Construction Environment Internal Quality Assurance An internal quality assurance verifier confirms that assessment decisions made in centres are mad e by competent and qualified assessors, that they are the result of sound and fair assessment practice and that they are recorded accurately and appropriately. Adjustments to Assessment Adjustments to standard assessment arrangements are made on the individual needs of candidates. ProQual’s Reasonable Adjustments Policy and Special Consideration Policy sets out the steps to follow when implementing reasonable adjustments and special considerations and the service that ProQual provides for some of these arrangements. Centres should contact ProQual f or further information or queries ab out the contents of the policy. Results Enquiries and Appeals All enquiries relating to assessment or other decisions should be dealt with by centres, with reference to ProQual’s Enquiries and Appeals Procedures. Certification Candidates who achieve the requirements for qualifications will be awarded: • A certificate listing the unit s achieved, and • A certificate giving the full qualification title - ProQual Level 1 Award in Preparing for the Future Workplace in a Construction Environment Claiming certificates Centres may claim certificates for candidates who have been registered with ProQual and who have successfully achieved the requirements for a qualification . All certificates will be issued to the centre for successful candidates. Unit certificates If a candidate does not achieve all of the units re quired for a qualification, the centre may claim a unit certificate for the candidate which will list all of the units achieved. Replacement certificates If a replacement certificate is required a request mus t be made to ProQual in writing. Replacement certificates are labelled as such and are only provided when the claim has been authenticated. Refer to the Fee Schedule for details of charges for replacement certificates."
      ],
      "text/plain": [
       "<IPython.core.display.Markdown object>"
      ]
     },
     "execution_count": 59,
     "metadata": {},
     "output_type": "execute_result"
    }
   ],
   "source": [
    "Markdown(sample_data[0])"
   ]
  },
  {
   "cell_type": "code",
   "execution_count": 60,
   "metadata": {},
   "outputs": [
    {
     "name": "stdout",
     "output_type": "stream",
     "text": [
      "Sample size: 310\n"
     ]
    }
   ],
   "source": [
    "print(f\"Sample size: {len(sample_data)}\")"
   ]
  },
  {
   "cell_type": "code",
   "execution_count": 61,
   "metadata": {},
   "outputs": [
    {
     "name": "stdout",
     "output_type": "stream",
     "text": [
      "Ofqual Sector Subject Areas: 50\n"
     ]
    }
   ],
   "source": [
    "print(f\"Ofqual Sector Subject Areas: {len(ofqual_SSAs)}\")"
   ]
  },
  {
   "cell_type": "code",
   "execution_count": 62,
   "metadata": {},
   "outputs": [],
   "source": [
    "sample_embeddings = get_batch_openai_embedding(sample_data, model=\"text-embedding-3-large\", dimensions=768)"
   ]
  },
  {
   "cell_type": "code",
   "execution_count": 30,
   "metadata": {},
   "outputs": [],
   "source": [
    "category_embeddings = get_batch_openai_embedding(ofqual_SSAs, model=\"text-embedding-3-large\", dimensions=768)"
   ]
  },
  {
   "cell_type": "code",
   "execution_count": 71,
   "metadata": {},
   "outputs": [],
   "source": [
    "df = pd.DataFrame({\"text\": sample_data,\"embedding\": sample_embeddings})"
   ]
  },
  {
   "cell_type": "code",
   "execution_count": 72,
   "metadata": {},
   "outputs": [],
   "source": [
    "similarities = cosine_similarity(df[\"embedding\"].to_list(), category_embeddings)"
   ]
  },
  {
   "cell_type": "code",
   "execution_count": 73,
   "metadata": {},
   "outputs": [],
   "source": [
    "df['label']           = [ofqual_SSAs[np.argmax(sim)] for sim in similarities]\n",
    "df['label_embedding'] = [category_embeddings[ofqual_SSAs.index(label)] for label in df['label']]\n",
    "df[\"scores\"]          = [sim for sim in similarities]\n",
    "# df['nos_id']          = nos['urn'].tolist()[:len(sample_data)]\n",
    "df['ofqual_id']       = ofqual['ofqual_ids'].tolist()[:len(sample_data)]"
   ]
  },
  {
   "cell_type": "code",
   "execution_count": 74,
   "metadata": {},
   "outputs": [
    {
     "data": {
      "text/html": [
       "<div>\n",
       "<style scoped>\n",
       "    .dataframe tbody tr th:only-of-type {\n",
       "        vertical-align: middle;\n",
       "    }\n",
       "\n",
       "    .dataframe tbody tr th {\n",
       "        vertical-align: top;\n",
       "    }\n",
       "\n",
       "    .dataframe thead th {\n",
       "        text-align: right;\n",
       "    }\n",
       "</style>\n",
       "<table border=\"1\" class=\"dataframe\">\n",
       "  <thead>\n",
       "    <tr style=\"text-align: right;\">\n",
       "      <th></th>\n",
       "      <th>text</th>\n",
       "      <th>embedding</th>\n",
       "      <th>label</th>\n",
       "      <th>label_embedding</th>\n",
       "      <th>scores</th>\n",
       "      <th>ofqual_id</th>\n",
       "    </tr>\n",
       "  </thead>\n",
       "  <tbody>\n",
       "    <tr>\n",
       "      <th>0</th>\n",
       "      <td>Overview:\\n\\n2 ProQual, October 2020 Level 1 A...</td>\n",
       "      <td>[-0.010421467944979668, 0.04796915501356125, -...</td>\n",
       "      <td>Building and construction</td>\n",
       "      <td>[0.018075454980134964, 0.03874090686440468, -0...</td>\n",
       "      <td>[0.2131200994904995, 0.25604727283135015, 0.39...</td>\n",
       "      <td>603/6681/3</td>\n",
       "    </tr>\n",
       "    <tr>\n",
       "      <th>1</th>\n",
       "      <td>Overview:\\n\\nProQual, June 2020 Level 2 Award ...</td>\n",
       "      <td>[0.00018001471471507102, 0.05149179324507713, ...</td>\n",
       "      <td>Health and social care</td>\n",
       "      <td>[-0.0078218262642622, 0.0700385719537735, -0.0...</td>\n",
       "      <td>[0.20514222609540256, 0.27308874355201324, 0.4...</td>\n",
       "      <td>603/6036/7</td>\n",
       "    </tr>\n",
       "    <tr>\n",
       "      <th>2</th>\n",
       "      <td>Overview:\\n\\nProQual, August 2020 Level 2 Awar...</td>\n",
       "      <td>[-0.026858098804950714, 0.06487399339675903, -...</td>\n",
       "      <td>Health and social care</td>\n",
       "      <td>[-0.0078218262642622, 0.0700385719537735, -0.0...</td>\n",
       "      <td>[0.20942979633701947, 0.27071814356587565, 0.3...</td>\n",
       "      <td>603/6334/4</td>\n",
       "    </tr>\n",
       "    <tr>\n",
       "      <th>3</th>\n",
       "      <td>Overview:\\n\\nProQual, August 2017 Level 2 Awar...</td>\n",
       "      <td>[-0.06581693142652512, 0.042211975902318954, -...</td>\n",
       "      <td>Health and social care</td>\n",
       "      <td>[-0.0078218262642622, 0.0700385719537735, -0.0...</td>\n",
       "      <td>[0.2927276303816568, 0.3349422728205251, 0.439...</td>\n",
       "      <td>601/1011/9</td>\n",
       "    </tr>\n",
       "    <tr>\n",
       "      <th>4</th>\n",
       "      <td>Overview:\\n\\nProQual, October 2017 Level 1 Awa...</td>\n",
       "      <td>[-0.014174042269587517, 0.05442297086119652, -...</td>\n",
       "      <td>Health and social care</td>\n",
       "      <td>[-0.0078218262642622, 0.0700385719537735, -0.0...</td>\n",
       "      <td>[0.19742913905189916, 0.22935439816647674, 0.3...</td>\n",
       "      <td>601/2506/8</td>\n",
       "    </tr>\n",
       "    <tr>\n",
       "      <th>...</th>\n",
       "      <td>...</td>\n",
       "      <td>...</td>\n",
       "      <td>...</td>\n",
       "      <td>...</td>\n",
       "      <td>...</td>\n",
       "      <td>...</td>\n",
       "    </tr>\n",
       "    <tr>\n",
       "      <th>305</th>\n",
       "      <td>Overview:\\n\\n2 ProQual L4 NVQ Diploma in Const...</td>\n",
       "      <td>[-0.01784462295472622, 0.036835718899965286, -...</td>\n",
       "      <td>Building and construction</td>\n",
       "      <td>[0.018075454980134964, 0.03874090686440468, -0...</td>\n",
       "      <td>[0.2330191914473957, 0.2753982558582743, 0.342...</td>\n",
       "      <td>610/0231/8</td>\n",
       "    </tr>\n",
       "    <tr>\n",
       "      <th>306</th>\n",
       "      <td>Overview:\\n\\nProQual Level 6 Diploma in Aesthe...</td>\n",
       "      <td>[-0.04555215314030647, 0.06671849638223648, -0...</td>\n",
       "      <td>Health and social care</td>\n",
       "      <td>[-0.0078218262642622, 0.0700385719537735, -0.0...</td>\n",
       "      <td>[0.3497337643492225, 0.3379120214376583, 0.398...</td>\n",
       "      <td>610/4498/2</td>\n",
       "    </tr>\n",
       "    <tr>\n",
       "      <th>307</th>\n",
       "      <td>Overview:\\n\\nProQual Level 6 NVQ Diploma in Co...</td>\n",
       "      <td>[-0.022675607353448868, 0.053287677466869354, ...</td>\n",
       "      <td>Building and construction</td>\n",
       "      <td>[0.018075454980134964, 0.03874090686440468, -0...</td>\n",
       "      <td>[0.24748477925937853, 0.25513771099756555, 0.3...</td>\n",
       "      <td>610/3957/3</td>\n",
       "    </tr>\n",
       "    <tr>\n",
       "      <th>308</th>\n",
       "      <td>Overview:\\n\\nProQual Level 6 NVQ Diploma in Se...</td>\n",
       "      <td>[-0.016735130921006203, 0.0369134284555912, -0...</td>\n",
       "      <td>Building and construction</td>\n",
       "      <td>[0.018075454980134964, 0.03874090686440468, -0...</td>\n",
       "      <td>[0.232667700462589, 0.27082303820102405, 0.364...</td>\n",
       "      <td>603/7515/2</td>\n",
       "    </tr>\n",
       "    <tr>\n",
       "      <th>309</th>\n",
       "      <td>Overview:\\n\\nProQual Level 6 NVQ Diploma in Co...</td>\n",
       "      <td>[-0.02449471317231655, 0.049790456891059875, -...</td>\n",
       "      <td>Building and construction</td>\n",
       "      <td>[0.018075454980134964, 0.03874090686440468, -0...</td>\n",
       "      <td>[0.2394343567019278, 0.2520614757410054, 0.347...</td>\n",
       "      <td>610/3809/X</td>\n",
       "    </tr>\n",
       "  </tbody>\n",
       "</table>\n",
       "<p>310 rows × 6 columns</p>\n",
       "</div>"
      ],
      "text/plain": [
       "                                                  text  \\\n",
       "0    Overview:\\n\\n2 ProQual, October 2020 Level 1 A...   \n",
       "1    Overview:\\n\\nProQual, June 2020 Level 2 Award ...   \n",
       "2    Overview:\\n\\nProQual, August 2020 Level 2 Awar...   \n",
       "3    Overview:\\n\\nProQual, August 2017 Level 2 Awar...   \n",
       "4    Overview:\\n\\nProQual, October 2017 Level 1 Awa...   \n",
       "..                                                 ...   \n",
       "305  Overview:\\n\\n2 ProQual L4 NVQ Diploma in Const...   \n",
       "306  Overview:\\n\\nProQual Level 6 Diploma in Aesthe...   \n",
       "307  Overview:\\n\\nProQual Level 6 NVQ Diploma in Co...   \n",
       "308  Overview:\\n\\nProQual Level 6 NVQ Diploma in Se...   \n",
       "309  Overview:\\n\\nProQual Level 6 NVQ Diploma in Co...   \n",
       "\n",
       "                                             embedding  \\\n",
       "0    [-0.010421467944979668, 0.04796915501356125, -...   \n",
       "1    [0.00018001471471507102, 0.05149179324507713, ...   \n",
       "2    [-0.026858098804950714, 0.06487399339675903, -...   \n",
       "3    [-0.06581693142652512, 0.042211975902318954, -...   \n",
       "4    [-0.014174042269587517, 0.05442297086119652, -...   \n",
       "..                                                 ...   \n",
       "305  [-0.01784462295472622, 0.036835718899965286, -...   \n",
       "306  [-0.04555215314030647, 0.06671849638223648, -0...   \n",
       "307  [-0.022675607353448868, 0.053287677466869354, ...   \n",
       "308  [-0.016735130921006203, 0.0369134284555912, -0...   \n",
       "309  [-0.02449471317231655, 0.049790456891059875, -...   \n",
       "\n",
       "                         label  \\\n",
       "0    Building and construction   \n",
       "1       Health and social care   \n",
       "2       Health and social care   \n",
       "3       Health and social care   \n",
       "4       Health and social care   \n",
       "..                         ...   \n",
       "305  Building and construction   \n",
       "306     Health and social care   \n",
       "307  Building and construction   \n",
       "308  Building and construction   \n",
       "309  Building and construction   \n",
       "\n",
       "                                       label_embedding  \\\n",
       "0    [0.018075454980134964, 0.03874090686440468, -0...   \n",
       "1    [-0.0078218262642622, 0.0700385719537735, -0.0...   \n",
       "2    [-0.0078218262642622, 0.0700385719537735, -0.0...   \n",
       "3    [-0.0078218262642622, 0.0700385719537735, -0.0...   \n",
       "4    [-0.0078218262642622, 0.0700385719537735, -0.0...   \n",
       "..                                                 ...   \n",
       "305  [0.018075454980134964, 0.03874090686440468, -0...   \n",
       "306  [-0.0078218262642622, 0.0700385719537735, -0.0...   \n",
       "307  [0.018075454980134964, 0.03874090686440468, -0...   \n",
       "308  [0.018075454980134964, 0.03874090686440468, -0...   \n",
       "309  [0.018075454980134964, 0.03874090686440468, -0...   \n",
       "\n",
       "                                                scores   ofqual_id  \n",
       "0    [0.2131200994904995, 0.25604727283135015, 0.39...  603/6681/3  \n",
       "1    [0.20514222609540256, 0.27308874355201324, 0.4...  603/6036/7  \n",
       "2    [0.20942979633701947, 0.27071814356587565, 0.3...  603/6334/4  \n",
       "3    [0.2927276303816568, 0.3349422728205251, 0.439...  601/1011/9  \n",
       "4    [0.19742913905189916, 0.22935439816647674, 0.3...  601/2506/8  \n",
       "..                                                 ...         ...  \n",
       "305  [0.2330191914473957, 0.2753982558582743, 0.342...  610/0231/8  \n",
       "306  [0.3497337643492225, 0.3379120214376583, 0.398...  610/4498/2  \n",
       "307  [0.24748477925937853, 0.25513771099756555, 0.3...  610/3957/3  \n",
       "308  [0.232667700462589, 0.27082303820102405, 0.364...  603/7515/2  \n",
       "309  [0.2394343567019278, 0.2520614757410054, 0.347...  610/3809/X  \n",
       "\n",
       "[310 rows x 6 columns]"
      ]
     },
     "execution_count": 74,
     "metadata": {},
     "output_type": "execute_result"
    }
   ],
   "source": [
    "df"
   ]
  },
  {
   "cell_type": "code",
   "execution_count": null,
   "metadata": {},
   "outputs": [],
   "source": []
  },
  {
   "cell_type": "markdown",
   "metadata": {},
   "source": [
    "## Manual Check To Verfy If Classification Is Correct"
   ]
  },
  {
   "cell_type": "code",
   "execution_count": 75,
   "metadata": {},
   "outputs": [],
   "source": [
    "checks=df.to_dict(orient='records')"
   ]
  },
  {
   "cell_type": "code",
   "execution_count": 76,
   "metadata": {},
   "outputs": [
    {
     "name": "stdout",
     "output_type": "stream",
     "text": [
      "Predicted Label: Health and social care\n",
      "\n",
      "Text\n"
     ]
    },
    {
     "data": {
      "text/markdown": [
       "Overview:\n",
       "\n",
       "ProQual, August 2017 Level 2 Award in Control of Water -borne Infections within Healthcare 2 Contents Page Introduction 3 Qualification profile 3 Qualifica tion structure 4 Centre requirements 5 Support for candidates 5 Assessment 6 Internal quality assurance 6 Adjustments to assessment 6 Results enquiries and appeals 7 Certification 7 Learning Outcomes and Assessment Criteria 8 ProQual, August 2017 Level 2 Award in Control of Water -borne Infections within Healthcare 3 Introduction The Level 2 Award in Control of Water -borne Infections Within Healthcare qualification is aimed at candidates working in healthcare environments and it aims to raise awareness of the risks to health of water -borne infections. The awarding organisation for this qualification is ProQual Awarding Body and the regulatory body is the Office of Qualifications and Examinations Regulation (Ofqual). The specification for these qualifications has been approved by the Welsh Government for use by centres in Wales and by the Council for the Curriculum Examinations and Assessment (CCEA) for use by centres in Northern Ireland. This qualification ha s been accredited onto the Regulated Qualificat ions Framework ( RQC). Qualification P rofile Qualification title ProQual Level 2 Award in Control of Water -borne Infections Within Healthcare Ofqual qualification number 601/1011/9 Level Level 2 Guided learning hours 8 Total qualification time 20 Assessment Pass or fail Internally assessed and verified by centre staff External quality assurance by ProQual verifiers Qualification start date 1/09/13 Qualification end date Entry Requirements There are no formal entry requirements for this qualification. Centres should carry out an initial assessment of candidate skills and knowledge to identify any gaps and help plan the assessment. ProQual, August 2017 Level 2 Award in Control of Water -borne Infections within Healthcare 5 Centre Requirements Centres must be approved to offer this qualification. If your centre is not approved please complete and submit form ProQual Additional Qualification Approval Application . Staff Staff delivering this qualification must be appropriately qualified and occupationally competent. Assessors/Internal Quality Assurance For each competence -based unit centres must be able to provide at least one assessor and one internal quality assurance verifier who are suitably qualified for the specific occupational area. Assessors and internal quality assurance verifiers for competence -based units or qualifications will normal ly need to hold appropriate assessor or ver ifier qualifications, such as: • Award in Assessing Competence in the Work Environment • Award in Assessing Vocationally Related Achievement • Certificate in Assessing Vocational Achievement • Award in the Internal Quality Assurance of Assessment Processes and Practices • Certificate in Leading the Internal Quality Assurance of Assessment Processes and Practices Support for Candidates Materials produced by centres to support candidates should: • enable them to track their achievements as they progress through the learning outcomes and assessment criteria; • provide information on where ProQual’s policies and procedures can be viewed; • provide a means of enabling Internal and External Quality Assurance staff to authenticate evidence ProQual, August 2017 Level 2 Award in Control of Water -borne Infections within Healthcare 6 Assessment Candidates must demonstrate the level of knowledg e described in the unit. Assessment is the process of measuring a candidate’s knowledge and understanding against the standards set in the qualification. Each candida te is required to produce evidence which demonstrates their achievement of all of the learning outcomes and assessment criteria for each unit. Evidence can include: - assignments/projects/reports - worksh eets - portfolio of evidence - record of oral and /or written questioning - candidate test papers Learning outcomes set out what a candidate is expected to know, understand or be able to do. Assessment criteria specify the standard a candidate must meet to show the learning outcome has been achieve d. Learning outcomes and assessment criteria for this qualification can be found from page 8 onwards . Internal Quality Assurance An internal quality assurance verifier confirms that assessment decisions made in centres are made by competent and qualified assessors, that they are the result of sound and fair assessment practice and that they are recorded accurately and appropriately. Adjustments to Assessment Adjustments to standard assessment arrangements are made on the individual needs of candidates. ProQual ’s Reasonable Adjustments Policy a nd Special Consideration Policy sets out the steps to follow when implementing reasonable adjustments and special considerations and the service that ProQual provides for some of these arrangements. Centres should contact ProQual f or further information or queries ab out the contents of the policy."
      ],
      "text/plain": [
       "<IPython.core.display.Markdown object>"
      ]
     },
     "execution_count": 76,
     "metadata": {},
     "output_type": "execute_result"
    }
   ],
   "source": [
    "n=3\n",
    "print(f\"Predicted Label: {checks[n]['label']}\\n\\nText\")\n",
    "Markdown(f\"{checks[n]['text']}\")"
   ]
  },
  {
   "cell_type": "code",
   "execution_count": 77,
   "metadata": {},
   "outputs": [
    {
     "name": "stdout",
     "output_type": "stream",
     "text": [
      "Number of unique ofqual SSAs mapped in training data: 11\n"
     ]
    }
   ],
   "source": [
    "print(f\"Number of unique ofqual SSAs mapped in training data: {len(df['label'].unique())}\")"
   ]
  },
  {
   "cell_type": "code",
   "execution_count": null,
   "metadata": {},
   "outputs": [],
   "source": []
  },
  {
   "cell_type": "markdown",
   "metadata": {},
   "source": [
    "## Missing OFFQUL SSAs"
   ]
  },
  {
   "cell_type": "code",
   "execution_count": 38,
   "metadata": {},
   "outputs": [
    {
     "data": {
      "text/plain": [
       "['Agriculture',\n",
       " 'History',\n",
       " 'Philosophy',\n",
       " 'Geography',\n",
       " 'Politics',\n",
       " 'Anthropology',\n",
       " 'Languages, literature and culture of the British isles',\n",
       " 'Other languages, literature and culture',\n",
       " 'Linguistics']"
      ]
     },
     "execution_count": 38,
     "metadata": {},
     "output_type": "execute_result"
    }
   ],
   "source": [
    "[s for s in ofqual_SSAs if s not in df['label'].unique()]"
   ]
  },
  {
   "cell_type": "code",
   "execution_count": 44,
   "metadata": {},
   "outputs": [],
   "source": [
    "df.to_excel(f\"{os.path.dirname(os.path.dirname(os.getcwd()))}/classification/classification_training_data_nos_based.xlsx\", \n",
    "            index=False)"
   ]
  },
  {
   "cell_type": "code",
   "execution_count": 78,
   "metadata": {},
   "outputs": [],
   "source": [
    "df.to_excel(f\"{os.path.dirname(os.path.dirname(os.getcwd()))}/classification/classification_training_data_ofqual_based.xlsx\", \n",
    "            index=False)"
   ]
  },
  {
   "cell_type": "code",
   "execution_count": null,
   "metadata": {},
   "outputs": [],
   "source": []
  }
 ],
 "metadata": {
  "kernelspec": {
   "display_name": "Python 3",
   "language": "python",
   "name": "python3"
  },
  "language_info": {
   "codemirror_mode": {
    "name": "ipython",
    "version": 3
   },
   "file_extension": ".py",
   "mimetype": "text/x-python",
   "name": "python",
   "nbconvert_exporter": "python",
   "pygments_lexer": "ipython3",
   "version": "3.11.4"
  }
 },
 "nbformat": 4,
 "nbformat_minor": 2
}
