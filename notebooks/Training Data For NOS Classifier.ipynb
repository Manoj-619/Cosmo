{
 "cells": [
  {
   "cell_type": "code",
   "execution_count": 21,
   "metadata": {},
   "outputs": [],
   "source": [
    "import os\n",
    "os.chdir('/Users/mumtaz/Documents/projects/zavmo/zavmo-api/zavmo')"
   ]
  },
  {
   "cell_type": "code",
   "execution_count": null,
   "metadata": {},
   "outputs": [],
   "source": [
    "from zavmo.helpers.chat import get_batch_openai_embedding"
   ]
  },
  {
   "cell_type": "code",
   "execution_count": 22,
   "metadata": {},
   "outputs": [
    {
     "data": {
      "text/plain": [
       "True"
      ]
     },
     "execution_count": 22,
     "metadata": {},
     "output_type": "execute_result"
    }
   ],
   "source": [
    "import pandas as pd\n",
    "import numpy as np\n",
    "from IPython.display import Markdown\n",
    "from sklearn.metrics.pairwise import cosine_similarity\n",
    "\n",
    "from dotenv import load_dotenv\n",
    "load_dotenv()"
   ]
  },
  {
   "cell_type": "code",
   "execution_count": 23,
   "metadata": {},
   "outputs": [],
   "source": [
    "import warnings\n",
    "warnings.filterwarnings(\"ignore\")"
   ]
  },
  {
   "cell_type": "code",
   "execution_count": 24,
   "metadata": {},
   "outputs": [],
   "source": [
    "ofqual_SSAs = [\n",
    "    \"Medicine and dentistry\",\n",
    "    \"Nursing, and subjects and vocations allied to medicine\",\n",
    "    \"Health and social care\",\n",
    "    \"Public services\",\n",
    "    \"Child development and well being\",\n",
    "    \"Science\",\n",
    "    \"Mathematics and statistics\",\n",
    "    \"Agriculture\",\n",
    "    \"Horticulture and forestry\",\n",
    "    \"Animal care and veterinary science\",\n",
    "    \"Environmental conservation\",\n",
    "    \"Engineering\",\n",
    "    \"Manufacturing technologies\",\n",
    "    \"Transportation operations and maintenance\",\n",
    "    \"Architecture\",\n",
    "    \"Building and construction\",\n",
    "    \"Urban, rural and regional planning\",\n",
    "    \"Digital technology (practitioners)\",\n",
    "    \"Digital technology (users)\",\n",
    "    \"Retailing and wholesaling\",\n",
    "    \"Warehousing and distribution\",\n",
    "    \"Service enterprises\",\n",
    "    \"Hospitality and catering\",\n",
    "    \"Sport, leisure and recreation\",\n",
    "    \"Travel and tourism\",\n",
    "    \"Performing arts\",\n",
    "    \"Crafts, creative arts and design\",\n",
    "    \"Media and communication\",\n",
    "    \"Publishing and information services\",\n",
    "    \"History\",\n",
    "    \"Archaeology and archaeological sciences\",\n",
    "    \"Philosophy\",\n",
    "    \"Theology and religious studies\",\n",
    "    \"Geography\",\n",
    "    \"Sociology and social policy\",\n",
    "    \"Politics\",\n",
    "    \"Economics\",\n",
    "    \"Anthropology\",\n",
    "    \"Languages, literature and culture of the British isles\",\n",
    "    \"Other languages, literature and culture\",\n",
    "    \"Linguistics\",\n",
    "    \"Teaching and lecturing\",\n",
    "    \"Direct learning support\",\n",
    "    \"Foundations for learning and life\",\n",
    "    \"Preparation for work\",\n",
    "    \"Accounting and finance\",\n",
    "    \"Administration\",\n",
    "    \"Business management\",\n",
    "    \"Marketing and sales\",\n",
    "    \"Law and legal services\"\n",
    "]"
   ]
  },
  {
   "cell_type": "code",
   "execution_count": 25,
   "metadata": {},
   "outputs": [
    {
     "data": {
      "text/html": [
       "<div>\n",
       "<style scoped>\n",
       "    .dataframe tbody tr th:only-of-type {\n",
       "        vertical-align: middle;\n",
       "    }\n",
       "\n",
       "    .dataframe tbody tr th {\n",
       "        vertical-align: top;\n",
       "    }\n",
       "\n",
       "    .dataframe thead th {\n",
       "        text-align: right;\n",
       "    }\n",
       "</style>\n",
       "<table border=\"1\" class=\"dataframe\">\n",
       "  <thead>\n",
       "    <tr style=\"text-align: right;\">\n",
       "      <th></th>\n",
       "      <th>urn</th>\n",
       "      <th>suites</th>\n",
       "      <th>occupations</th>\n",
       "      <th>soc</th>\n",
       "      <th>developed_by_1</th>\n",
       "      <th>approved_on</th>\n",
       "      <th>web_link</th>\n",
       "      <th>pdf_link</th>\n",
       "      <th>overview</th>\n",
       "      <th>performance_criteria</th>\n",
       "      <th>knowledge_and_understanding</th>\n",
       "      <th>additional_information</th>\n",
       "      <th>developed_by_2</th>\n",
       "      <th>key_words</th>\n",
       "      <th>nos_title</th>\n",
       "    </tr>\n",
       "  </thead>\n",
       "  <tbody>\n",
       "    <tr>\n",
       "      <th>3</th>\n",
       "      <td>PROSM09</td>\n",
       "      <td>Sawmilling</td>\n",
       "      <td>Paper and Wood Machine Operatives</td>\n",
       "      <td>8131</td>\n",
       "      <td>NSAFD v2</td>\n",
       "      <td>01/04/2020 00:00</td>\n",
       "      <td>NaN</td>\n",
       "      <td>https://files.ukstandards.org.uk/pdfs/PROSM09.pdf</td>\n",
       "      <td>This standard covers the skills and knowledge ...</td>\n",
       "      <td>You must be able to: 1. carry out risk assessm...</td>\n",
       "      <td>You need to know and 1. relevant health and sa...</td>\n",
       "      <td>NaN</td>\n",
       "      <td>NSAFD Version Number 2 Date Approved March 201...</td>\n",
       "      <td>Timber; wood; abrasive; wheel; saw; cut; sawmi...</td>\n",
       "      <td>Abrasive wheel operations in the wood industry</td>\n",
       "    </tr>\n",
       "    <tr>\n",
       "      <th>4</th>\n",
       "      <td>PPLRETRS17</td>\n",
       "      <td>Rail Engineering</td>\n",
       "      <td>Transport Drivers and Operatives</td>\n",
       "      <td>8153</td>\n",
       "      <td>Enginuity</td>\n",
       "      <td>15/03/2015 00:00</td>\n",
       "      <td>NaN</td>\n",
       "      <td>https://files.ukstandards.org.uk/pdfs/PPLRETRS...</td>\n",
       "      <td>This unit is about accepting and returning res...</td>\n",
       "      <td>You must be able to: P1 work safely at all tim...</td>\n",
       "      <td>You need to know and K1 the relevant health an...</td>\n",
       "      <td>Glossary Health and safety legislation, regula...</td>\n",
       "      <td>People 1st Version number 1 Date approved Apri...</td>\n",
       "      <td>Responsibility; control; handover PPLRETRS17 A...</td>\n",
       "      <td>Accept, and return, responsibility for the con...</td>\n",
       "    </tr>\n",
       "    <tr>\n",
       "      <th>5</th>\n",
       "      <td>COGPOLY9</td>\n",
       "      <td>Polymer Processing and Related Operations</td>\n",
       "      <td>Engineering Professionals, Manufacturing Techn...</td>\n",
       "      <td>8113</td>\n",
       "      <td>Cogent</td>\n",
       "      <td>31/01/2012 00:00</td>\n",
       "      <td>NaN</td>\n",
       "      <td>https://files.ukstandards.org.uk/pdfs/COGPOLY9...</td>\n",
       "      <td>This unit is for those with responsibility for...</td>\n",
       "      <td>You must be able to: P1 work safely at all tim...</td>\n",
       "      <td>You need to know and K1 how to access and inte...</td>\n",
       "      <td>Glossary Key terms Examples Regulations and gu...</td>\n",
       "      <td>Cogent Version number 1 Date approved January ...</td>\n",
       "      <td>accept, verify, store, materials, process, ope...</td>\n",
       "      <td>Accept, verify and store materials required fo...</td>\n",
       "    </tr>\n",
       "  </tbody>\n",
       "</table>\n",
       "</div>"
      ],
      "text/plain": [
       "          urn                                     suites  \\\n",
       "3     PROSM09                                 Sawmilling   \n",
       "4  PPLRETRS17                           Rail Engineering   \n",
       "5    COGPOLY9  Polymer Processing and Related Operations   \n",
       "\n",
       "                                         occupations   soc developed_by_1  \\\n",
       "3                  Paper and Wood Machine Operatives  8131       NSAFD v2   \n",
       "4                   Transport Drivers and Operatives  8153      Enginuity   \n",
       "5  Engineering Professionals, Manufacturing Techn...  8113         Cogent   \n",
       "\n",
       "        approved_on web_link  \\\n",
       "3  01/04/2020 00:00      NaN   \n",
       "4  15/03/2015 00:00      NaN   \n",
       "5  31/01/2012 00:00      NaN   \n",
       "\n",
       "                                            pdf_link  \\\n",
       "3  https://files.ukstandards.org.uk/pdfs/PROSM09.pdf   \n",
       "4  https://files.ukstandards.org.uk/pdfs/PPLRETRS...   \n",
       "5  https://files.ukstandards.org.uk/pdfs/COGPOLY9...   \n",
       "\n",
       "                                            overview  \\\n",
       "3  This standard covers the skills and knowledge ...   \n",
       "4  This unit is about accepting and returning res...   \n",
       "5  This unit is for those with responsibility for...   \n",
       "\n",
       "                                performance_criteria  \\\n",
       "3  You must be able to: 1. carry out risk assessm...   \n",
       "4  You must be able to: P1 work safely at all tim...   \n",
       "5  You must be able to: P1 work safely at all tim...   \n",
       "\n",
       "                         knowledge_and_understanding  \\\n",
       "3  You need to know and 1. relevant health and sa...   \n",
       "4  You need to know and K1 the relevant health an...   \n",
       "5  You need to know and K1 how to access and inte...   \n",
       "\n",
       "                              additional_information  \\\n",
       "3                                                NaN   \n",
       "4  Glossary Health and safety legislation, regula...   \n",
       "5  Glossary Key terms Examples Regulations and gu...   \n",
       "\n",
       "                                      developed_by_2  \\\n",
       "3  NSAFD Version Number 2 Date Approved March 201...   \n",
       "4  People 1st Version number 1 Date approved Apri...   \n",
       "5  Cogent Version number 1 Date approved January ...   \n",
       "\n",
       "                                           key_words  \\\n",
       "3  Timber; wood; abrasive; wheel; saw; cut; sawmi...   \n",
       "4  Responsibility; control; handover PPLRETRS17 A...   \n",
       "5  accept, verify, store, materials, process, ope...   \n",
       "\n",
       "                                           nos_title  \n",
       "3     Abrasive wheel operations in the wood industry  \n",
       "4  Accept, and return, responsibility for the con...  \n",
       "5  Accept, verify and store materials required fo...  "
      ]
     },
     "execution_count": 25,
     "metadata": {},
     "output_type": "execute_result"
    }
   ],
   "source": [
    "nos = pd.read_excel(\"/Users/mumtaz/Documents/projects/zavmo/complete_nos.xlsx\").drop_duplicates(subset=['urn'], keep='first')\n",
    "nos = nos.dropna(subset=['overview','performance_criteria', 'knowledge_and_understanding'])\n",
    "nos.head(3)"
   ]
  },
  {
   "cell_type": "code",
   "execution_count": 27,
   "metadata": {},
   "outputs": [
    {
     "data": {
      "text/plain": [
       "1517"
      ]
     },
     "execution_count": 27,
     "metadata": {},
     "output_type": "execute_result"
    }
   ],
   "source": [
    "len(nos['suites'].unique())"
   ]
  },
  {
   "cell_type": "code",
   "execution_count": 165,
   "metadata": {},
   "outputs": [],
   "source": [
    "sample_data = [f\"Industry: {i['suites']}\\n\\nOverview: {i['overview']}\" for i in nos.head(5000).to_dict(orient='records')] "
   ]
  },
  {
   "cell_type": "code",
   "execution_count": 166,
   "metadata": {},
   "outputs": [
    {
     "data": {
      "text/markdown": [
       "Industry: Sawmilling\n",
       "\n",
       "Overview: This standard covers the skills and knowledge required for working with abrasive wheels in the wood industry. It covers carrying out checks and adjustments, handling, storing and transporting abrasive wheels and includes dressing and mounting of abrasive wheels. This standard is suitable for operators working in the wood and timber industry. PROSM09 Abrasive wheel operations in the wood industry 1 PROSM09 Abrasive wheel operations in the wood industry"
      ],
      "text/plain": [
       "<IPython.core.display.Markdown object>"
      ]
     },
     "execution_count": 166,
     "metadata": {},
     "output_type": "execute_result"
    }
   ],
   "source": [
    "Markdown(sample_data[0])"
   ]
  },
  {
   "cell_type": "code",
   "execution_count": 167,
   "metadata": {},
   "outputs": [
    {
     "name": "stdout",
     "output_type": "stream",
     "text": [
      "Sample size: 5000\n"
     ]
    }
   ],
   "source": [
    "print(f\"Sample size: {len(sample_data)}\")"
   ]
  },
  {
   "cell_type": "code",
   "execution_count": 168,
   "metadata": {},
   "outputs": [
    {
     "name": "stdout",
     "output_type": "stream",
     "text": [
      "Ofqual Sector Subject Areas: 50\n"
     ]
    }
   ],
   "source": [
    "print(f\"Ofqual Sector Subject Areas: {len(ofqual_SSAs)}\")"
   ]
  },
  {
   "cell_type": "code",
   "execution_count": 170,
   "metadata": {},
   "outputs": [],
   "source": [
    "sample_embeddings = get_batch_openai_embedding(sample_data, model=\"text-embedding-3-large\", dimensions=768)"
   ]
  },
  {
   "cell_type": "code",
   "execution_count": 171,
   "metadata": {},
   "outputs": [],
   "source": [
    "category_embeddings = get_batch_openai_embedding(ofqual_SSAs, model=\"text-embedding-3-large\", dimensions=768)"
   ]
  },
  {
   "cell_type": "code",
   "execution_count": 172,
   "metadata": {},
   "outputs": [],
   "source": [
    "df = pd.DataFrame({\"text\": sample_data,\"embedding\": sample_embeddings})"
   ]
  },
  {
   "cell_type": "code",
   "execution_count": 189,
   "metadata": {},
   "outputs": [],
   "source": [
    "similarities = cosine_similarity(df[\"embedding\"].to_list(), category_embeddings)"
   ]
  },
  {
   "cell_type": "code",
   "execution_count": 197,
   "metadata": {},
   "outputs": [],
   "source": [
    "df['label']    = [ofqual_SSAs[np.argmax(sim)] for sim in similarities]\n",
    "df[\"scores\"]   = [sim for sim in similarities]\n",
    "df['nos_id']   = nos['urn'].tolist()[:len(sample_data)]"
   ]
  },
  {
   "cell_type": "code",
   "execution_count": 198,
   "metadata": {},
   "outputs": [
    {
     "data": {
      "text/html": [
       "<div>\n",
       "<style scoped>\n",
       "    .dataframe tbody tr th:only-of-type {\n",
       "        vertical-align: middle;\n",
       "    }\n",
       "\n",
       "    .dataframe tbody tr th {\n",
       "        vertical-align: top;\n",
       "    }\n",
       "\n",
       "    .dataframe thead th {\n",
       "        text-align: right;\n",
       "    }\n",
       "</style>\n",
       "<table border=\"1\" class=\"dataframe\">\n",
       "  <thead>\n",
       "    <tr style=\"text-align: right;\">\n",
       "      <th></th>\n",
       "      <th>text</th>\n",
       "      <th>embedding</th>\n",
       "      <th>predicted_label</th>\n",
       "      <th>scores</th>\n",
       "      <th>nos_id</th>\n",
       "      <th>label</th>\n",
       "    </tr>\n",
       "  </thead>\n",
       "  <tbody>\n",
       "    <tr>\n",
       "      <th>0</th>\n",
       "      <td>Industry: Sawmilling\\n\\nOverview: This standar...</td>\n",
       "      <td>[0.026389580219984055, 0.05260821804404259, -0...</td>\n",
       "      <td>Horticulture and forestry</td>\n",
       "      <td>[0.20907517015959068, 0.23072707402558085, 0.2...</td>\n",
       "      <td>PROSM09</td>\n",
       "      <td>Horticulture and forestry</td>\n",
       "    </tr>\n",
       "    <tr>\n",
       "      <th>1</th>\n",
       "      <td>Industry: Rail Engineering\\n\\nOverview: This u...</td>\n",
       "      <td>[-0.05731497332453728, 0.0581032857298851, -0....</td>\n",
       "      <td>Transportation operations and maintenance</td>\n",
       "      <td>[0.15666039085735797, 0.229616114227125, 0.344...</td>\n",
       "      <td>PPLRETRS17</td>\n",
       "      <td>Transportation operations and maintenance</td>\n",
       "    </tr>\n",
       "    <tr>\n",
       "      <th>2</th>\n",
       "      <td>Industry: Polymer Processing and Related Opera...</td>\n",
       "      <td>[0.004590315278619528, 0.036927931010723114, -...</td>\n",
       "      <td>Warehousing and distribution</td>\n",
       "      <td>[0.19656724188905045, 0.23809156516698782, 0.2...</td>\n",
       "      <td>COGPOLY9</td>\n",
       "      <td>Warehousing and distribution</td>\n",
       "    </tr>\n",
       "    <tr>\n",
       "      <th>3</th>\n",
       "      <td>Industry: Agricultural Crop Production, Animal...</td>\n",
       "      <td>[-0.021533822640776634, 0.052498698234558105, ...</td>\n",
       "      <td>Business management</td>\n",
       "      <td>[0.19177822088580235, 0.24588426537641625, 0.3...</td>\n",
       "      <td>CFABAA624L</td>\n",
       "      <td>Business management</td>\n",
       "    </tr>\n",
       "    <tr>\n",
       "      <th>4</th>\n",
       "      <td>Industry: Offshore S1971 Elected Safety Repres...</td>\n",
       "      <td>[0.02236284129321575, 0.001131381606683135, -0...</td>\n",
       "      <td>Health and social care</td>\n",
       "      <td>[0.19424732792861515, 0.2270977410914082, 0.33...</td>\n",
       "      <td>COGOESR1</td>\n",
       "      <td>Health and social care</td>\n",
       "    </tr>\n",
       "    <tr>\n",
       "      <th>...</th>\n",
       "      <td>...</td>\n",
       "      <td>...</td>\n",
       "      <td>...</td>\n",
       "      <td>...</td>\n",
       "      <td>...</td>\n",
       "      <td>...</td>\n",
       "    </tr>\n",
       "    <tr>\n",
       "      <th>4995</th>\n",
       "      <td>Industry: Dental Technology\\n\\nOverview: \"This...</td>\n",
       "      <td>[-0.008561796508729458, 0.032812248915433884, ...</td>\n",
       "      <td>Manufacturing technologies</td>\n",
       "      <td>[0.36415286811855063, 0.30167710654107305, 0.2...</td>\n",
       "      <td>SFHOH30</td>\n",
       "      <td>Manufacturing technologies</td>\n",
       "    </tr>\n",
       "    <tr>\n",
       "      <th>4996</th>\n",
       "      <td>Industry: Dental Technology\\n\\nOverview: This ...</td>\n",
       "      <td>[-0.009331854991614819, 0.03587661683559418, -...</td>\n",
       "      <td>Manufacturing technologies</td>\n",
       "      <td>[0.37189720845176794, 0.3101215755190612, 0.30...</td>\n",
       "      <td>SFHOH30L</td>\n",
       "      <td>Manufacturing technologies</td>\n",
       "    </tr>\n",
       "    <tr>\n",
       "      <th>4997</th>\n",
       "      <td>Industry: Rehabilitation Technical Services\\n\\...</td>\n",
       "      <td>[-0.0011902742553502321, 0.045711223036050797,...</td>\n",
       "      <td>Manufacturing technologies</td>\n",
       "      <td>[0.30978133038333616, 0.32726042622936935, 0.3...</td>\n",
       "      <td>SFHRT6</td>\n",
       "      <td>Manufacturing technologies</td>\n",
       "    </tr>\n",
       "    <tr>\n",
       "      <th>4998</th>\n",
       "      <td>Industry: Dental Technology\\n\\nOverview: This ...</td>\n",
       "      <td>[-0.0065032984130084515, 0.033594317734241486,...</td>\n",
       "      <td>Medicine and dentistry</td>\n",
       "      <td>[0.4011101449699853, 0.3361162429605878, 0.358...</td>\n",
       "      <td>SFHDT04L</td>\n",
       "      <td>Medicine and dentistry</td>\n",
       "    </tr>\n",
       "    <tr>\n",
       "      <th>4999</th>\n",
       "      <td>Industry: Dental Technology\\n\\nOverview: This ...</td>\n",
       "      <td>[0.020770208910107613, 0.03215491771697998, -0...</td>\n",
       "      <td>Manufacturing technologies</td>\n",
       "      <td>[0.38233163689718813, 0.3154473308056678, 0.34...</td>\n",
       "      <td>SFHDT06L</td>\n",
       "      <td>Manufacturing technologies</td>\n",
       "    </tr>\n",
       "  </tbody>\n",
       "</table>\n",
       "<p>5000 rows × 6 columns</p>\n",
       "</div>"
      ],
      "text/plain": [
       "                                                   text  \\\n",
       "0     Industry: Sawmilling\\n\\nOverview: This standar...   \n",
       "1     Industry: Rail Engineering\\n\\nOverview: This u...   \n",
       "2     Industry: Polymer Processing and Related Opera...   \n",
       "3     Industry: Agricultural Crop Production, Animal...   \n",
       "4     Industry: Offshore S1971 Elected Safety Repres...   \n",
       "...                                                 ...   \n",
       "4995  Industry: Dental Technology\\n\\nOverview: \"This...   \n",
       "4996  Industry: Dental Technology\\n\\nOverview: This ...   \n",
       "4997  Industry: Rehabilitation Technical Services\\n\\...   \n",
       "4998  Industry: Dental Technology\\n\\nOverview: This ...   \n",
       "4999  Industry: Dental Technology\\n\\nOverview: This ...   \n",
       "\n",
       "                                              embedding  \\\n",
       "0     [0.026389580219984055, 0.05260821804404259, -0...   \n",
       "1     [-0.05731497332453728, 0.0581032857298851, -0....   \n",
       "2     [0.004590315278619528, 0.036927931010723114, -...   \n",
       "3     [-0.021533822640776634, 0.052498698234558105, ...   \n",
       "4     [0.02236284129321575, 0.001131381606683135, -0...   \n",
       "...                                                 ...   \n",
       "4995  [-0.008561796508729458, 0.032812248915433884, ...   \n",
       "4996  [-0.009331854991614819, 0.03587661683559418, -...   \n",
       "4997  [-0.0011902742553502321, 0.045711223036050797,...   \n",
       "4998  [-0.0065032984130084515, 0.033594317734241486,...   \n",
       "4999  [0.020770208910107613, 0.03215491771697998, -0...   \n",
       "\n",
       "                                predicted_label  \\\n",
       "0                     Horticulture and forestry   \n",
       "1     Transportation operations and maintenance   \n",
       "2                  Warehousing and distribution   \n",
       "3                           Business management   \n",
       "4                        Health and social care   \n",
       "...                                         ...   \n",
       "4995                 Manufacturing technologies   \n",
       "4996                 Manufacturing technologies   \n",
       "4997                 Manufacturing technologies   \n",
       "4998                     Medicine and dentistry   \n",
       "4999                 Manufacturing technologies   \n",
       "\n",
       "                                                 scores      nos_id  \\\n",
       "0     [0.20907517015959068, 0.23072707402558085, 0.2...     PROSM09   \n",
       "1     [0.15666039085735797, 0.229616114227125, 0.344...  PPLRETRS17   \n",
       "2     [0.19656724188905045, 0.23809156516698782, 0.2...    COGPOLY9   \n",
       "3     [0.19177822088580235, 0.24588426537641625, 0.3...  CFABAA624L   \n",
       "4     [0.19424732792861515, 0.2270977410914082, 0.33...    COGOESR1   \n",
       "...                                                 ...         ...   \n",
       "4995  [0.36415286811855063, 0.30167710654107305, 0.2...     SFHOH30   \n",
       "4996  [0.37189720845176794, 0.3101215755190612, 0.30...    SFHOH30L   \n",
       "4997  [0.30978133038333616, 0.32726042622936935, 0.3...      SFHRT6   \n",
       "4998  [0.4011101449699853, 0.3361162429605878, 0.358...    SFHDT04L   \n",
       "4999  [0.38233163689718813, 0.3154473308056678, 0.34...    SFHDT06L   \n",
       "\n",
       "                                          label  \n",
       "0                     Horticulture and forestry  \n",
       "1     Transportation operations and maintenance  \n",
       "2                  Warehousing and distribution  \n",
       "3                           Business management  \n",
       "4                        Health and social care  \n",
       "...                                         ...  \n",
       "4995                 Manufacturing technologies  \n",
       "4996                 Manufacturing technologies  \n",
       "4997                 Manufacturing technologies  \n",
       "4998                     Medicine and dentistry  \n",
       "4999                 Manufacturing technologies  \n",
       "\n",
       "[5000 rows x 6 columns]"
      ]
     },
     "execution_count": 198,
     "metadata": {},
     "output_type": "execute_result"
    }
   ],
   "source": [
    "df"
   ]
  },
  {
   "cell_type": "code",
   "execution_count": null,
   "metadata": {},
   "outputs": [],
   "source": []
  },
  {
   "cell_type": "markdown",
   "metadata": {},
   "source": [
    "## Manual Check To Verfy If Classification Is Correct"
   ]
  },
  {
   "cell_type": "code",
   "execution_count": 199,
   "metadata": {},
   "outputs": [],
   "source": [
    "checks=df.to_dict(orient='records')"
   ]
  },
  {
   "cell_type": "code",
   "execution_count": 200,
   "metadata": {},
   "outputs": [
    {
     "name": "stdout",
     "output_type": "stream",
     "text": [
      "Predicted Label: Business management\n",
      "\n",
      "Text\n"
     ]
    },
    {
     "data": {
      "text/markdown": [
       "Industry: Agricultural Crop Production, Animal Technology, Business and Administration (2013), Equine, Horticulture, Livestock Production\n",
       "\n",
       "Overview: This standard is about accepting instructions to take responsibility for own work and its delivery, improving own performance and behaving in a way that encourages effective working. It includes showing a willingness to take on new challenges and using feedback to agree ways in which own work might be improved. It is for administrators who accept instructions to manage and improve their own performance. Links: All categories Specific skills: 1. analysing 2. communicating 3. decision making 4. organising 5. planning 6. presenting information 7. problem solving 8. researching 9. using technology CFABAA624 Accept instructions to manage and improve own performance in a business environment 1 CFABAA624 Accept instructions to manage and improve own performance in a business environment"
      ],
      "text/plain": [
       "<IPython.core.display.Markdown object>"
      ]
     },
     "execution_count": 200,
     "metadata": {},
     "output_type": "execute_result"
    }
   ],
   "source": [
    "n=3\n",
    "print(f\"Predicted Label: {checks[n]['label']}\\n\\nText\")\n",
    "Markdown(f\"{checks[n]['text']}\")"
   ]
  },
  {
   "cell_type": "code",
   "execution_count": 201,
   "metadata": {},
   "outputs": [
    {
     "name": "stdout",
     "output_type": "stream",
     "text": [
      "Number of unique ofqual SSAs mapped in training data: 41\n"
     ]
    }
   ],
   "source": [
    "print(f\"Number of unique ofqual SSAs mapped in training data: {len(df['label'].unique())}\")"
   ]
  },
  {
   "cell_type": "code",
   "execution_count": null,
   "metadata": {},
   "outputs": [],
   "source": []
  },
  {
   "cell_type": "markdown",
   "metadata": {},
   "source": [
    "## Missing OFFQUL SSAs"
   ]
  },
  {
   "cell_type": "code",
   "execution_count": 202,
   "metadata": {},
   "outputs": [
    {
     "data": {
      "text/plain": [
       "['Agriculture',\n",
       " 'History',\n",
       " 'Philosophy',\n",
       " 'Geography',\n",
       " 'Politics',\n",
       " 'Anthropology',\n",
       " 'Languages, literature and culture of the British isles',\n",
       " 'Other languages, literature and culture',\n",
       " 'Linguistics']"
      ]
     },
     "execution_count": 202,
     "metadata": {},
     "output_type": "execute_result"
    }
   ],
   "source": [
    "[s for s in ofqual_SSAs if s not in df['label'].unique()]"
   ]
  },
  {
   "cell_type": "code",
   "execution_count": 203,
   "metadata": {},
   "outputs": [],
   "source": [
    "df.to_excel(f\"{os.path.dirname(os.path.dirname(os.getcwd()))}/classification/classification_training_data.xlsx\", \n",
    "            index=False, columns=['nos_id', 'text', 'label'])"
   ]
  },
  {
   "cell_type": "code",
   "execution_count": null,
   "metadata": {},
   "outputs": [],
   "source": []
  }
 ],
 "metadata": {
  "kernelspec": {
   "display_name": "Python 3",
   "language": "python",
   "name": "python3"
  },
  "language_info": {
   "codemirror_mode": {
    "name": "ipython",
    "version": 3
   },
   "file_extension": ".py",
   "mimetype": "text/x-python",
   "name": "python",
   "nbconvert_exporter": "python",
   "pygments_lexer": "ipython3",
   "version": "3.11.4"
  }
 },
 "nbformat": 4,
 "nbformat_minor": 2
}
