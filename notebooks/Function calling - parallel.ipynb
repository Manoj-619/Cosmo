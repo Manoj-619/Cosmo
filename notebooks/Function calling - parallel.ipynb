{
 "cells": [
  {
   "cell_type": "code",
   "execution_count": 1,
   "id": "0c689073-23e5-4da0-9909-80d7b76cf74d",
   "metadata": {},
   "outputs": [],
   "source": [
    "import os\n",
    "git_dir = os.path.dirname(os.getcwd())\n",
    "project_dir = os.path.join(git_dir,'zavmo')\n",
    "os.chdir(project_dir)"
   ]
  },
  {
   "cell_type": "code",
   "execution_count": 2,
   "id": "e8b94438-76fd-49e7-839f-06f1541c1228",
   "metadata": {},
   "outputs": [
    {
     "data": {
      "text/plain": [
       "True"
      ]
     },
     "execution_count": 2,
     "metadata": {},
     "output_type": "execute_result"
    }
   ],
   "source": [
    "from dotenv import load_dotenv\n",
    "load_dotenv(override=True)"
   ]
  },
  {
   "cell_type": "code",
   "execution_count": 3,
   "id": "8a67799a-bc6a-4a7a-9bbd-ac0c94394504",
   "metadata": {},
   "outputs": [],
   "source": [
    "from helpers.chat import get_openai_completion"
   ]
  },
  {
   "cell_type": "code",
   "execution_count": 4,
   "id": "d6c321b8-ca60-41df-a1c7-15353eadc67b",
   "metadata": {},
   "outputs": [
    {
     "data": {
      "text/plain": [
       "'Hello! How can I assist you today?'"
      ]
     },
     "execution_count": 4,
     "metadata": {},
     "output_type": "execute_result"
    }
   ],
   "source": [
    "get_openai_completion([{\"role\":\"user\",\"content\":\"Hi\"}])"
   ]
  },
  {
   "cell_type": "code",
   "execution_count": null,
   "id": "8104c8f2-861a-4d64-afdc-3abe3b4ab9ff",
   "metadata": {},
   "outputs": [],
   "source": []
  },
  {
   "cell_type": "code",
   "execution_count": null,
   "id": "3e4b0adc-83a2-4fdc-a519-cd77caf83412",
   "metadata": {},
   "outputs": [],
   "source": []
  },
  {
   "cell_type": "code",
   "execution_count": null,
   "id": "0d868630-288b-499f-8b0f-9b482ab89000",
   "metadata": {},
   "outputs": [],
   "source": []
  },
  {
   "cell_type": "code",
   "execution_count": null,
   "id": "a889243a-f1f0-4094-bc7d-bc65d8854dd0",
   "metadata": {},
   "outputs": [],
   "source": []
  },
  {
   "cell_type": "code",
   "execution_count": null,
   "id": "22effca4-389b-4cd2-b8b3-d80e3faa8479",
   "metadata": {},
   "outputs": [],
   "source": []
  }
 ],
 "metadata": {
  "kernelspec": {
   "display_name": "Python 3 (ipykernel)",
   "language": "python",
   "name": "python3"
  },
  "language_info": {
   "codemirror_mode": {
    "name": "ipython",
    "version": 3
   },
   "file_extension": ".py",
   "mimetype": "text/x-python",
   "name": "python",
   "nbconvert_exporter": "python",
   "pygments_lexer": "ipython3",
   "version": "3.11.9"
  }
 },
 "nbformat": 4,
 "nbformat_minor": 5
}
