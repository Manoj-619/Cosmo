{
 "cells": [
  {
   "cell_type": "code",
   "execution_count": 1,
   "id": "0c689073-23e5-4da0-9909-80d7b76cf74d",
   "metadata": {},
   "outputs": [],
   "source": [
    "import os\n",
    "git_dir = os.path.dirname(os.getcwd())\n",
    "project_dir = os.path.join(git_dir,'zavmo')\n",
    "os.chdir(project_dir)"
   ]
  },
  {
   "cell_type": "code",
   "execution_count": 2,
   "id": "e8b94438-76fd-49e7-839f-06f1541c1228",
   "metadata": {},
   "outputs": [
    {
     "data": {
      "text/plain": [
       "True"
      ]
     },
     "execution_count": 2,
     "metadata": {},
     "output_type": "execute_result"
    }
   ],
   "source": [
    "from dotenv import load_dotenv\n",
    "load_dotenv(override=True)"
   ]
  },
  {
   "cell_type": "code",
   "execution_count": 4,
   "id": "8a67799a-bc6a-4a7a-9bbd-ac0c94394504",
   "metadata": {},
   "outputs": [],
   "source": [
    "from helpers.chat import get_openai_completion,make_function_call,get_prompt, make_structured_call\n",
    "# from helpers.functions import OpenAISchema\n",
    "from IPython.display import Markdown\n",
    "import json\n",
    "import anthropic"
   ]
  },
  {
   "cell_type": "code",
   "execution_count": 4,
   "id": "d6c321b8-ca60-41df-a1c7-15353eadc67b",
   "metadata": {},
   "outputs": [
    {
     "data": {
      "text/plain": [
       "'Hello! How can I assist you today?'"
      ]
     },
     "execution_count": 4,
     "metadata": {},
     "output_type": "execute_result"
    }
   ],
   "source": [
    "get_openai_completion([{\"role\":\"user\",\"content\":\"Hi\"}])"
   ]
  },
  {
   "cell_type": "code",
   "execution_count": 8,
   "id": "8104c8f2-861a-4d64-afdc-3abe3b4ab9ff",
   "metadata": {},
   "outputs": [],
   "source": [
    "from enum import Enum\n",
    "from typing import Union, List, Optional\n",
    "from pydantic import BaseModel, Field\n",
    "import openai\n",
    "from openai import OpenAI\n",
    "\n",
    "class GetFirstName(BaseModel):\n",
    "    \"Return the first name of the user\"\n",
    "    first_name: str = Field(\n",
    "        description=\"The first name of the user, often used to address them directly, e.g., 'Diana' or 'John'.\"\n",
    "    )\n",
    "\n",
    "class GetLastName(BaseModel):\n",
    "    \"Return the user's family name or surname\"\n",
    "    last_name: str = Field(\n",
    "        description=\"The last name (surname) of the user, typically following the first name, e.g., 'Smith' or 'Haddad'.\"\n",
    "    )\n",
    "\n",
    "class GetCurrentRole(BaseModel):\n",
    "    current_role: str = Field(\n",
    "        description=\"The specific job position the person is currently in.\"\n",
    "    )\n",
    "\n",
    "class GetLearningInterests(BaseModel):\n",
    "    \"\"\"Topics or subjects related information shared\"\"\"\n",
    "    learning_interests: List[str] = Field(\n",
    "        description=\"A list of specific topic or subject the user is interested in learning.\"\n",
    "    )\n",
    "\n",
    "class Confirmed(str,Enum):\n",
    "    yes = \"Yes\"\n",
    "    no = \"No\"\n",
    "\n",
    "class GetConfirmation(BaseModel):\n",
    "    \"\"\"Confirmation from user whether the shared info was correct\"\"\"\n",
    "    answer: Optional[Confirmed]"
   ]
  },
  {
   "cell_type": "code",
   "execution_count": null,
   "id": "17ac3923",
   "metadata": {},
   "outputs": [],
   "source": []
  },
  {
   "cell_type": "code",
   "execution_count": 10,
   "id": "01a67062",
   "metadata": {},
   "outputs": [],
   "source": [
    "openai_client = OpenAI(api_key=os.getenv(\"OPENAI_API_KEY\"))"
   ]
  },
  {
   "cell_type": "code",
   "execution_count": 9,
   "id": "81581800",
   "metadata": {},
   "outputs": [],
   "source": [
    "def make_tool_calls(messages, tools, model=\"gpt-4o-mini\", **kwargs):\n",
    "    \"\"\"Completes the chat given a list of messages.\n",
    "            \n",
    "    Args:\n",
    "        messages (list): list of messages to complete the chat with\n",
    "        **kwargs: additional arguments to pass to the OpenAI API, such as\n",
    "            temperature, max_tokens, etc.\n",
    "    Returns:\n",
    "        str: the chat completion\n",
    "    \"\"\"\n",
    "    response = openai_client.chat.completions.create(\n",
    "        model=model,\n",
    "        messages=messages,\n",
    "        tools=tools,\n",
    "        tool_choice=\"auto\",\n",
    "        parallel_tool_calls=True,\n",
    "        **kwargs,\n",
    "    )        \n",
    "    return response.choices[0].message.tool_calls"
   ]
  },
  {
   "cell_type": "code",
   "execution_count": 7,
   "id": "bcc8cf25",
   "metadata": {},
   "outputs": [],
   "source": [
    "class GetLearningGoal(BaseModel):\n",
    "    \"\"\"The primary learning goal of the user.\"\"\"\n",
    "    learning_goal: str = Field(\n",
    "        description=\"The main learning objective that the user aims to achieve, e.g., 'Improve my coding skills'.\"\n",
    "    )\n",
    "\n",
    "# Class for Importance of the Goal\n",
    "class GetGoalImportance(BaseModel):\n",
    "    \"\"\"The reason why the learning goal is important to the user.\"\"\"\n",
    "    goal_importance: str = Field(\n",
    "        description=\"The user's explanation of why this learning goal matters to them.\"\n",
    "    )\n",
    "\n",
    "# Class for Current Knowledge Rating\n",
    "class GetKnowledgeRating(BaseModel):\n",
    "    \"\"\"User's self-assessment of their current knowledge level.\"\"\"\n",
    "    knowledge_rating: int = Field(\n",
    "        description=\"A self-rated score from 1 to 5 reflecting the user's current knowledge of the subject.\"\n",
    "    )"
   ]
  },
  {
   "cell_type": "code",
   "execution_count": 17,
   "id": "50cfafbf",
   "metadata": {},
   "outputs": [],
   "source": [
    "sys_mssg = \"\"\"You are Zavmo, an AI educational companion. \n",
    "\n",
    "Your primary goal is to frame questions around set of required fields that will be shared and you are expected to gather responses in order to create the user's learning profile. \n",
    "\n",
    "Focus strictly on asking only from the required fields.\n",
    "\n",
    "### Progress Tracking:\n",
    "\n",
    "- **Required Fields**: Only ask questions for fields that are mentioned under required fields section.\n",
    "- **Completed Fields**: Do not ask questions related to any field addressed completed as they fall under completed fields.\n",
    "\n",
    "### Interaction Tips:\n",
    "\n",
    "- Maintain a friendly, conversational tone throughout all interactions.\n",
    "- Start by introducing yourself and explaining that you'll ask a few questions to personalize their learning experience.\n",
    "- Ask each question individually in a friendly and warm tone. For example: “Hi! What's your first name?”\n",
    "- Award 10 XP for each answer to celebrate progress.\n",
    "- Personalize with their name, emojis, and friendly phrases.\n",
    "- If the user hesitates, gently encourage them to share.\n",
    "\n",
    "### Guidelines:\n",
    "\n",
    "- **Avoid Repetition**: If the user answers a question before being asked, mark it as completed and skip it. Regularly refer to `Completed Fields` to avoid redundancy.\n",
    "- **Completion**: \n",
    "  - If the required fields still exist then push the user to answer sharing the importance of having them in the user's learning journey.\n",
    "  - Once all remaining fields are answered and there are no further questions pending:\n",
    "    - Summarize the completed information and confirm with the user. See sample confirmation below.\n",
    "    - Politely close the conversation without asking additional questions.\n",
    "\n",
    "### Sample Confirmation Message:\n",
    "\n",
    "Once all fields are completed, you can confirm by saying:\n",
    "\"Awesome! 🎉 Your profile is now complete. Here's what we've got so far from the present stage:\n",
    "[Field Name 1]: [Value 1]\n",
    "[Field Name 2]: [Value 2]\n",
    ".\n",
    ".\n",
    "[Field Name n]: [Value n]\n",
    "\n",
    "Ask for confirmation (Yes/No) sharing Noted Information.\n",
    "\"\"\""
   ]
  },
  {
   "cell_type": "code",
   "execution_count": null,
   "id": "35441057",
   "metadata": {},
   "outputs": [],
   "source": [
    "confirmation_instruction = \"\"\"\"Ask for confirmation (Yes/No) sharing Noted Information\n",
    "\n",
    "### Sample Confirmation Message:\n",
    "\n",
    "Once all fields are completed, you can confirm by saying:\n",
    "\"Awesome! 🎉 Your profile is now complete. Here's what we've got so far from the present stage:\n",
    "First Name: \"Alice\",\n",
    "Last Name: \"Smith\",\n",
    "Current Role\": \"Product Manager\",\n",
    "Learning Interests\": [\"UX Design\", \"Agile Methodologies\", \"Data Analysis\"]\"\"\""
   ]
  },
  {
   "cell_type": "code",
   "execution_count": 979,
   "id": "f364df79",
   "metadata": {},
   "outputs": [],
   "source": [
    "# Extractor Bot Logic\n",
    "class ExtractorBot:\n",
    "    def __init__(self, required_fields,tools):\n",
    "        self.profile_data = {}\n",
    "        self.required_fields = required_fields\n",
    "        self.completed_fields = []\n",
    "        self.tools = tools\n",
    "\n",
    "    def extract_data(self, messages):\n",
    "        # Prepare and send messages for tool calls\n",
    "        tool_sys_msg =extra.format(\n",
    "            required_fields=\", \".join(self.required_fields) if self.required_fields else \"No pending fields to extract\"\n",
    "        )\n",
    "        tool_messages = [{\"role\": \"system\", \"content\": tool_sys_msg}] + messages[1:]\n",
    "        tool_calls = make_tool_calls(tool_messages, self.tools)\n",
    "\n",
    "        if tool_calls:\n",
    "            for tool_response in tool_calls:\n",
    "                arg = tool_response.function.arguments\n",
    "                self.profile_data.update(json.loads(arg))\n",
    "\n",
    "            # Update fields status\n",
    "            self.completed_fields = list(set(self.profile_data))\n",
    "            self.required_fields = [field for field in self.required_fields if field not in self.completed_fields]\n",
    "\n",
    "    def are_all_fields_collected(self):\n",
    "        return not self.required_fields\n",
    "\n",
    "    def get_confirmation(self, messages):\n",
    "        answer = make_structured_call(GetConfirmation, messages).answer\n",
    "        return 'Yes' if answer and answer.value == 'Yes' else 'No'\n",
    "\n",
    "\n",
    "# Guiding Bot Logic\n",
    "class ProfileCollector:\n",
    "    def __init__(self, extractor_bot):\n",
    "        self.extractor_bot = extractor_bot\n",
    "        self.history = []\n",
    "        self.confirmed = \"No\"\n",
    "\n",
    "    def system_message(self):\n",
    "        prompt = get_prompt(\"system.md\", \"assets/prompts/profile\")\n",
    "        if self.extractor_bot.are_all_fields_collected():\n",
    "            prompt += f\"Information Noted:\\n\\n```json\\n{json.dumps(self.extractor_bot.profile_data, indent=4)}\\n```\"\n",
    "        return {\"role\": \"system\", \"content\": prompt}\n",
    "\n",
    "    def user_message(self, input=\"\"):\n",
    "        # Generate user message with current field statuses\n",
    "        completed = \", \".join(self.extractor_bot.completed_fields) or \"Not completed any field yet.\"\n",
    "        required = \", \".join(self.extractor_bot.required_fields) or \"Received information for all remaining fields.\"\n",
    "        content = f\"Current Stage Information\\n\\nCompleted Fields:\\n{completed}\\n\\nRequired Fields:\\n{required}\\n\\nUser response:\\n{input}\"\n",
    "        self.user_mssg = {\"role\": \"user\", \"content\": content}\n",
    "\n",
    "    def ask_question(self):\n",
    "        # Check if all fields are collected and ask for confirmation if needed\n",
    "        try: \n",
    "            self.user_mssg\n",
    "        except:\n",
    "            self.user_message()\n",
    "\n",
    "        if self.extractor_bot.are_all_fields_collected():\n",
    "            user_mssg = self.user_mssg \n",
    "            user_mssg['content'] = user_mssg['content'] + \"\\n\\nIf updates on any field is required and user will mention corresponding to what is asked, or if user says No. Take it as a No\"\n",
    "            messages = [self.system_message()] + self.history + [user_mssg]\n",
    "            confirmation = self.extractor_bot.get_confirmation(messages)\n",
    "            \n",
    "            if confirmation == \"Yes\":\n",
    "                self.confirmed = \"Yes\"\n",
    "                return self.summarize_profile()\n",
    "\n",
    "        # Collect remaining fields or reattempt extraction if confirmation is \"No\"\n",
    "        if not self.extractor_bot.are_all_fields_collected() or self.confirmed != \"Yes\":\n",
    "            tool_messages = self.history + [self.user_mssg]\n",
    "            self.extractor_bot.extract_data(tool_messages)\n",
    "\n",
    "            # Generate and return assistant message\n",
    "            messages = [self.system_message()] + self.history + [self.user_mssg]\n",
    "            assistant_message = get_openai_completion(messages)\n",
    "            messages.append({\"role\": \"assistant\", \"content\": assistant_message})\n",
    "            self.history = messages[1:]  # Update history\n",
    "            return assistant_message\n",
    "\n",
    "    def summarize_profile(self):\n",
    "        return f\"Great! Your profile is complete:\\n\\n```json\\n{json.dumps(self.extractor_bot.profile_data, indent=4)}\\n```\"\n"
   ]
  },
  {
   "cell_type": "code",
   "execution_count": 13,
   "id": "e1845c63",
   "metadata": {},
   "outputs": [],
   "source": [
    "required_fields_profile  = [\"first_name\", \"last_name\", \"current_role\", \"learning_interests\"]\n",
    "profile_tools            = [GetFirstName, GetLastName, GetCurrentRole, GetLearningInterests,GetConfirmation]\n",
    "\n",
    "required_fields_discover = [\"learning_goal\", \"goal_importance\", \"knowledge_rating\"]\n",
    "discover_tools           = [GetLearningGoal, GetGoalImportance, GetKnowledgeRating]"
   ]
  },
  {
   "cell_type": "code",
   "execution_count": 14,
   "id": "a2c6434a",
   "metadata": {},
   "outputs": [],
   "source": [
    "tools = [openai.pydantic_function_tool(i) for i in profile_tools]"
   ]
  },
  {
   "cell_type": "code",
   "execution_count": 996,
   "id": "cc80ad4c",
   "metadata": {},
   "outputs": [],
   "source": [
    "extractor_bot = ExtractorBot()\n",
    "pc            = ProfileCollector(extractor_bot)"
   ]
  },
  {
   "cell_type": "code",
   "execution_count": 1007,
   "id": "3b91221a",
   "metadata": {},
   "outputs": [
    {
     "data": {
      "text/markdown": [
       "Great! Your profile is complete:\n",
       "\n",
       "```json\n",
       "{\n",
       "    \"first_name\": \"Mumtaz\",\n",
       "    \"last_name\": \"\",\n",
       "    \"current_role\": \"\",\n",
       "    \"learning_interests\": []\n",
       "}\n",
       "```"
      ],
      "text/plain": [
       "<IPython.core.display.Markdown object>"
      ]
     },
     "execution_count": 1007,
     "metadata": {},
     "output_type": "execute_result"
    }
   ],
   "source": [
    "Markdown(pc.ask_question())"
   ]
  },
  {
   "cell_type": "code",
   "execution_count": 1006,
   "id": "cc39075e",
   "metadata": {},
   "outputs": [],
   "source": [
    "pc.user_message(\"Yes\")"
   ]
  },
  {
   "cell_type": "code",
   "execution_count": 982,
   "id": "43fe24a2",
   "metadata": {},
   "outputs": [],
   "source": [
    "pc.user_message(\"Mumtaz Rahmani, current role is Junior software engineer, learning interests are invloved around LLMs and stats\")"
   ]
  },
  {
   "cell_type": "code",
   "execution_count": 978,
   "id": "fad6b93a",
   "metadata": {},
   "outputs": [
    {
     "data": {
      "text/plain": [
       "{'first_name': 'Mumtaz',\n",
       " 'last_name': 'R',\n",
       " 'current_role': 'Junior Software Engineer',\n",
       " 'learning_interests': ['LLMs', 'Stats']}"
      ]
     },
     "execution_count": 978,
     "metadata": {},
     "output_type": "execute_result"
    }
   ],
   "source": [
    "pc.extractor_bot.profile_data"
   ]
  },
  {
   "cell_type": "code",
   "execution_count": null,
   "id": "a95a3df6",
   "metadata": {},
   "outputs": [],
   "source": []
  },
  {
   "cell_type": "code",
   "execution_count": 769,
   "id": "c07dc37f",
   "metadata": {},
   "outputs": [],
   "source": [
    "messages = pc.history\n",
    "\n",
    "tool_sys_mssg = get_prompt('extractor.md','assets/prompts/profile').format(required_fields=\", \".join(pc.extractor_bot.required_fields) if pc.extractor_bot.required_fields else \"No pendig fields to extract\")\n",
    "tool_messages = [{\"role\":\"system\",\"content\":tool_sys_mssg}]\n",
    "tool_messages.extend(messages) "
   ]
  },
  {
   "cell_type": "code",
   "execution_count": 619,
   "id": "3efe6805",
   "metadata": {},
   "outputs": [],
   "source": [
    "messages.append({\"role\":\"user\",\"content\":\"Yes\"})"
   ]
  },
  {
   "cell_type": "code",
   "execution_count": 626,
   "id": "5ad04d87",
   "metadata": {},
   "outputs": [
    {
     "name": "stdout",
     "output_type": "stream",
     "text": [
      "Yes\n"
     ]
    }
   ],
   "source": [
    "answer = make_structured_call(GetConfirmation,messages).answer\n",
    "if answer:\n",
    "    print(answer.value)"
   ]
  },
  {
   "cell_type": "code",
   "execution_count": null,
   "id": "d9c99c20",
   "metadata": {},
   "outputs": [],
   "source": []
  },
  {
   "cell_type": "code",
   "execution_count": null,
   "id": "37540403",
   "metadata": {},
   "outputs": [],
   "source": []
  },
  {
   "cell_type": "markdown",
   "id": "6bb0d623",
   "metadata": {},
   "source": [
    "## Internally sending tool response to model "
   ]
  },
  {
   "cell_type": "code",
   "execution_count": null,
   "id": "192abbd5",
   "metadata": {},
   "outputs": [],
   "source": [
    "profile_data={}"
   ]
  },
  {
   "cell_type": "code",
   "execution_count": 613,
   "id": "03538316",
   "metadata": {},
   "outputs": [],
   "source": [
    "message = get_openai_completion(messages, tools=tools, tool_choice=\"auto\", parallel_tool_calls=True)\n",
    "\n",
    "tool_calls = message.tool_calls\n",
    "if tool_calls:\n",
    "    print(f\"Tools called: {[tool.function.name for tool in tool_calls]}\")\n",
    "    function_call_messages=[message]\n",
    "    for tool in tool_calls:\n",
    "        arguments = tool.function.arguments\n",
    "        function_call_messages.extend([{\"role\": \"tool\", \"content\": json.dumps(arguments), \"tool_call_id\": tool.id}])\n",
    "        profile_data.update(json.loads(arguments))\n",
    "    messages.extend(function_call_messages)\n",
    "    while message.content==None:\n",
    "        message=get_openai_completion(messages, tools=tools, tool_choice=\"auto\", parallel_tool_calls=True)\n",
    "        print(\"Running in while loop\")\n",
    "\n",
    "assistant_response = message.content"
   ]
  },
  {
   "cell_type": "code",
   "execution_count": 614,
   "id": "fb480a09",
   "metadata": {},
   "outputs": [
    {
     "data": {
      "text/markdown": [
       "Hi there! I'm Zavmo, your AI educational companion. 🙌 I'm excited to help personalize your learning experience, and I just need to ask you a few simple questions. Let's get started!\n",
       "\n",
       "What's your first name? 😊"
      ],
      "text/plain": [
       "<IPython.core.display.Markdown object>"
      ]
     },
     "execution_count": 614,
     "metadata": {},
     "output_type": "execute_result"
    }
   ],
   "source": [
    "Markdown(assistant_response)"
   ]
  },
  {
   "cell_type": "code",
   "execution_count": 615,
   "id": "eea72cb2",
   "metadata": {},
   "outputs": [],
   "source": [
    "messages.append({\"role\":\"assistant\",\"content\":assistant_response})"
   ]
  },
  {
   "cell_type": "code",
   "execution_count": 476,
   "id": "c6e5ba93",
   "metadata": {},
   "outputs": [
    {
     "data": {
      "text/plain": [
       "{}"
      ]
     },
     "execution_count": 476,
     "metadata": {},
     "output_type": "execute_result"
    }
   ],
   "source": [
    "profile_data"
   ]
  },
  {
   "cell_type": "code",
   "execution_count": null,
   "id": "ea89b32e",
   "metadata": {},
   "outputs": [],
   "source": []
  },
  {
   "cell_type": "code",
   "execution_count": null,
   "id": "3e4b0adc-83a2-4fdc-a519-cd77caf83412",
   "metadata": {},
   "outputs": [],
   "source": [
    "def get_claude_response(sys_mssg,messages,model=\"claude-3-opus-20240229\"):\n",
    "    client = anthropic.Anthropic(api_key=os.getenv(\"ANTHROPIC_API_KEY\"))\n",
    "    message = client.messages.create(\n",
    "        model=model,\n",
    "        max_tokens=1024,\n",
    "        system=sys_mssg,\n",
    "        messages=messages\n",
    "    )\n",
    "    return message.content[0].text\n",
    "\n",
    "claude_response = get_claude_response(sys_mssg,messages[1:])\n",
    "claude_response"
   ]
  },
  {
   "cell_type": "code",
   "execution_count": null,
   "id": "0d868630-288b-499f-8b0f-9b482ab89000",
   "metadata": {},
   "outputs": [],
   "source": []
  },
  {
   "cell_type": "code",
   "execution_count": null,
   "id": "a889243a-f1f0-4094-bc7d-bc65d8854dd0",
   "metadata": {},
   "outputs": [],
   "source": []
  },
  {
   "cell_type": "code",
   "execution_count": null,
   "id": "22effca4-389b-4cd2-b8b3-d80e3faa8479",
   "metadata": {},
   "outputs": [],
   "source": []
  }
 ],
 "metadata": {
  "kernelspec": {
   "display_name": "Python 3",
   "language": "python",
   "name": "python3"
  },
  "language_info": {
   "codemirror_mode": {
    "name": "ipython",
    "version": 3
   },
   "file_extension": ".py",
   "mimetype": "text/x-python",
   "name": "python",
   "nbconvert_exporter": "python",
   "pygments_lexer": "ipython3",
   "version": "3.11.2"
  }
 },
 "nbformat": 4,
 "nbformat_minor": 5
}
