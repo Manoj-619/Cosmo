{
 "cells": [
  {
   "cell_type": "markdown",
   "id": "39711dc9-08f1-4e58-a722-b1224e916b7a",
   "metadata": {},
   "source": [
    "## Directory"
   ]
  },
  {
   "cell_type": "code",
   "execution_count": 1,
   "id": "3dc68a05-e2d8-488e-b744-60546769dce3",
   "metadata": {},
   "outputs": [],
   "source": [
    "import os\n",
    "git_dir = os.path.dirname(os.getcwd())\n",
    "project_dir = os.path.join(git_dir,'zavmo')\n",
    "os.chdir(project_dir)"
   ]
  },
  {
   "cell_type": "markdown",
   "id": "1f9dbf95-0502-409a-9b8c-27e34258a588",
   "metadata": {},
   "source": [
    "### Load env vars\n",
    "\n",
    "`IMPORTANT`: make sure `JWT_ALGORITHM` and `JWT_PRIVATE_KEY` are saved in `.env`"
   ]
  },
  {
   "cell_type": "code",
   "execution_count": 2,
   "id": "d34a5ab8-fdf9-44bc-8d79-f20c12fcc909",
   "metadata": {},
   "outputs": [
    {
     "data": {
      "text/plain": [
       "True"
      ]
     },
     "execution_count": 2,
     "metadata": {},
     "output_type": "execute_result"
    }
   ],
   "source": [
    "from dotenv import load_dotenv\n",
    "load_dotenv(override=True)"
   ]
  },
  {
   "cell_type": "code",
   "execution_count": 6,
   "id": "a9228b5d-e65c-4685-9b9a-1cf915ca602f",
   "metadata": {},
   "outputs": [
    {
     "data": {
      "text/plain": [
       "1728681172"
      ]
     },
     "execution_count": 6,
     "metadata": {},
     "output_type": "execute_result"
    }
   ],
   "source": [
    "import time\n",
    "int(time.time())"
   ]
  },
  {
   "cell_type": "code",
   "execution_count": 7,
   "id": "30af94c6-24b6-480d-a24e-6a907fe45101",
   "metadata": {},
   "outputs": [
    {
     "data": {
      "text/plain": [
       "1728767572"
      ]
     },
     "execution_count": 7,
     "metadata": {},
     "output_type": "execute_result"
    }
   ],
   "source": [
    "1728681172+(24*3600)"
   ]
  },
  {
   "cell_type": "code",
   "execution_count": null,
   "id": "1379be6d-f59e-428d-8548-c120acff4bcb",
   "metadata": {},
   "outputs": [],
   "source": [
    "from helpers.utils import create_jwt\n",
    "payload = {\n",
    "    \"email\": \"user@example.com\",\n",
    "}\n",
    "jwt = create_jwt(payload,expiration_time=24*3600)\n",
    "print(jwt)"
   ]
  },
  {
   "cell_type": "code",
   "execution_count": null,
   "id": "610b00b5-f436-47bc-8110-2e0a3ece0ae0",
   "metadata": {},
   "outputs": [],
   "source": [
    "from pyperclip import copy\n",
    "copy()"
   ]
  }
 ],
 "metadata": {
  "kernelspec": {
   "display_name": "Python 3 (ipykernel)",
   "language": "python",
   "name": "python3"
  },
  "language_info": {
   "codemirror_mode": {
    "name": "ipython",
    "version": 3
   },
   "file_extension": ".py",
   "mimetype": "text/x-python",
   "name": "python",
   "nbconvert_exporter": "python",
   "pygments_lexer": "ipython3",
   "version": "3.11.9"
  },
  "widgets": {
   "application/vnd.jupyter.widget-state+json": {
    "state": {},
    "version_major": 2,
    "version_minor": 0
   }
  }
 },
 "nbformat": 4,
 "nbformat_minor": 5
}
