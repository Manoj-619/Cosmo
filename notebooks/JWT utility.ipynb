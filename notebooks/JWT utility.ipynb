{
 "cells": [
  {
   "cell_type": "markdown",
   "id": "39711dc9-08f1-4e58-a722-b1224e916b7a",
   "metadata": {},
   "source": [
    "## Directory"
   ]
  },
  {
   "cell_type": "code",
   "execution_count": 1,
   "id": "3dc68a05-e2d8-488e-b744-60546769dce3",
   "metadata": {},
   "outputs": [],
   "source": [
    "import os\n",
    "git_dir = os.path.dirname(os.getcwd())\n",
    "project_dir = os.path.join(git_dir,'zavmo')\n",
    "os.chdir(project_dir)"
   ]
  },
  {
   "cell_type": "markdown",
   "id": "1f9dbf95-0502-409a-9b8c-27e34258a588",
   "metadata": {},
   "source": [
    "### Load env vars\n",
    "\n",
    "`IMPORTANT`: make sure `JWT_ALGORITHM` and `JWT_PRIVATE_KEY` are saved in `.env`"
   ]
  },
  {
   "cell_type": "code",
   "execution_count": 2,
   "id": "d34a5ab8-fdf9-44bc-8d79-f20c12fcc909",
   "metadata": {},
   "outputs": [
    {
     "data": {
      "text/plain": [
       "True"
      ]
     },
     "execution_count": 2,
     "metadata": {},
     "output_type": "execute_result"
    }
   ],
   "source": [
    "from dotenv import load_dotenv\n",
    "load_dotenv(override=True)"
   ]
  },
  {
   "cell_type": "code",
   "execution_count": 3,
   "id": "a9228b5d-e65c-4685-9b9a-1cf915ca602f",
   "metadata": {},
   "outputs": [
    {
     "data": {
      "text/plain": [
       "1728853105"
      ]
     },
     "execution_count": 3,
     "metadata": {},
     "output_type": "execute_result"
    }
   ],
   "source": [
    "import time\n",
    "int(time.time())"
   ]
  },
  {
   "cell_type": "code",
   "execution_count": 4,
   "id": "30af94c6-24b6-480d-a24e-6a907fe45101",
   "metadata": {},
   "outputs": [
    {
     "data": {
      "text/plain": [
       "1728767572"
      ]
     },
     "execution_count": 4,
     "metadata": {},
     "output_type": "execute_result"
    }
   ],
   "source": [
    "1728681172+(24*3600)"
   ]
  },
  {
   "cell_type": "code",
   "execution_count": 5,
   "id": "29673e6b-26f2-49fb-a9fb-e7d8ec47185d",
   "metadata": {},
   "outputs": [],
   "source": [
    "import jwt\n",
    "from cryptography.hazmat.primitives import serialization"
   ]
  },
  {
   "cell_type": "code",
   "execution_count": 8,
   "id": "1451cabe-c84d-464f-8439-a418c621bd0a",
   "metadata": {},
   "outputs": [],
   "source": [
    "from cryptography.hazmat.primitives.asymmetric import rsa\n",
    "from datetime import datetime, timedelta, UTC"
   ]
  },
  {
   "cell_type": "code",
   "execution_count": 28,
   "id": "9124184f-a27c-4479-ad91-c99175cf09e3",
   "metadata": {},
   "outputs": [],
   "source": [
    "# Generate a new RSA key pair (you would normally load your existing private key)\n",
    "private_key = rsa.generate_private_key(public_exponent=65537,key_size=2048)\n",
    "# Get the public key in PEM format\n",
    "public_key = private_key.public_key().public_bytes(\n",
    "    encoding=serialization.Encoding.PEM,\n",
    "    format=serialization.PublicFormat.SubjectPublicKeyInfo\n",
    ")\n",
    "# Convert the private key to PEM format\n",
    "private_key_pem = private_key.private_bytes(\n",
    "    encoding=serialization.Encoding.PEM,\n",
    "    format=serialization.PrivateFormat.PKCS8,\n",
    "    encryption_algorithm=serialization.NoEncryption()\n",
    ")\n",
    "# Prepare the payload\n",
    "payload = {\n",
    "    \"exp\": datetime.utcnow() + timedelta(hours=1),  # Expiration time\n",
    "    \"iat\": datetime.utcnow(),  # Issued at time\n",
    "    \"iss\": \"https://login.zavmo.ai/auth/realms/Zavmo\",  # Issuer\n",
    "    \"aud\": \"account\",  # Audience\n",
    "    \"sub\": \"user123\",  # Subject (usually a user id)\n",
    "    \"name\": \"Test User\",\n",
    "    \"email\": \"testuser@zavmo.ai\",\n",
    "    # Add other claims as needed\n",
    "}\n",
    "# Encode the JWT\n",
    "token = jwt.encode(\n",
    "    payload,\n",
    "    private_key_pem,\n",
    "    algorithm=\"RS256\",\n",
    "    headers={\n",
    "        \"kid\": \"MebFunzP8Kq4D3HocG4b0PSSOEOglwgMEfLA_dscTVo\"  # Key ID\n",
    "    }\n",
    ")"
   ]
  },
  {
   "cell_type": "code",
   "execution_count": 37,
   "id": "73514713-0f01-4c90-a8b2-d0ee05e63c12",
   "metadata": {},
   "outputs": [
    {
     "data": {
      "text/plain": [
       "True"
      ]
     },
     "execution_count": 37,
     "metadata": {},
     "output_type": "execute_result"
    }
   ],
   "source": [
    "load_dotenv(override=True)"
   ]
  },
  {
   "cell_type": "code",
   "execution_count": 48,
   "id": "0f5b560b-1a12-4314-866a-025cae0ac013",
   "metadata": {},
   "outputs": [
    {
     "name": "stdout",
     "output_type": "stream",
     "text": [
      "Encoded token:\n",
      "eyJhbGciOiJSUzI1NiIsInR5cCIgOiAiSldUIiwia2lkIiA6ICJNZWJGdW56UDhLcTREM0hvY0c0YjBQU1NPRU9nbHdnTUVmTEFfZHNjVFZvIn0.eyJleHAiOjE3Mjg0OTA4MDYsImlhdCI6MTcyODQ5MDUwNiwiYXV0aF90aW1lIjoxNzI4NDkwNTA1LCJqdGkiOiI2NWNhYjM1Mi03NGQ4LTRiYWYtYmEyYS1lYTAwODRkMDZlYTEiLCJpc3MiOiJodHRwczovL2xvZ2luLnphdm1vLmFpL2F1dGgvcmVhbG1zL1phdm1vIiwiYXVkIjoiYWNjb3VudCIsInN1YiI6ImEwMjQwNDFlLTcwOWQtNDhmOS04YjRjLWUzODc4ZTc4MzAyMCIsInR5cCI6IkJlYXJlciIsImF6cCI6Inphdm1vX3VpIiwibm9uY2UiOiIzZTQwZTk5NS1jNmIzLTQwNzMtOTNlNC00ODRjNWZmMzM3YWQiLCJzZXNzaW9uX3N0YXRlIjoiY2VhY2E3ZGQtZjYxOS00MDIzLTk3ZmItYjUwNWYwNzZhMzI2IiwiYWNyIjoiMSIsImFsbG93ZWQtb3JpZ2lucyI6WyIqIl0sInJlYWxtX2FjY2VzcyI6eyJyb2xlcyI6WyJkZWZhdWx0LXJvbGVzLXphdm1vIiwib2ZmbGluZV9hY2Nlc3MiLCJ1bWFfYXV0aG9yaXphdGlvbiJdfSwicmVzb3VyY2VfYWNjZXNzIjp7ImFjY291bnQiOnsicm9sZXMiOlsibWFuYWdlLWFjY291bnQiLCJtYW5hZ2UtYWNjb3VudC1saW5rcyIsInZpZXctcHJvZmlsZSJdfX0sInNjb3BlIjoib3BlbmlkIHByb2ZpbGUgZW1haWwiLCJzaWQiOiJjZWFjYTdkZC1mNjE5LTQwMjMtOTdmYi1iNTA1ZjA3NmEzMjYiLCJlbWFpbF92ZXJpZmllZCI6dHJ1ZSwibmFtZSI6InRlc3QgdXNlcjQiLCJncm91cHMiOlsiL0lUX0RlcGFydG1lbnQiXSwicHJlZmVycmVkX3VzZXJuYW1lIjoidGVzdHVzZXI0IiwiZ2l2ZW5fbmFtZSI6InRlc3QiLCJmYW1pbHlfbmFtZSI6InVzZXI0IiwiZW1haWwiOiJ0ZXN0dXNlcjRAemF2bW8uYWkifQ.FxGWm2Nqf_BGS0_qkmtFKybs61_AOmiBh131VsWwBB1gbpW82JS6rSlPbGWZJTNw5wg64COdX-tCvnp_RR74hiUkPuqzD_rHP09wYWVHCAqyn5si1SvD1AfeNZgVREYdMbYBF7Uvyh90lWSDfmENTzxPD-ZlgwNKERleg5168lbvQaHcamDbYMnnLA4GC6bX_bxNKPRqxGHUlkhwa_1XQsLw_Y3jUJzkNpXZbY6MR2mc-0r7BlbrKtrktywD2M3TAHWs-Z7k7AQo_iAnsGyLJFNoJKVGu8fh9XjGDgbb7Oc2Fh_hZ2M7fGDgwpJRPc0X7YK10pke1uAWeYW1vvn28A\n"
     ]
    },
    {
     "ename": "ExpiredSignatureError",
     "evalue": "Signature has expired",
     "output_type": "error",
     "traceback": [
      "\u001b[0;31m---------------------------------------------------------------------------\u001b[0m",
      "\u001b[0;31mExpiredSignatureError\u001b[0m                     Traceback (most recent call last)",
      "Cell \u001b[0;32mIn[48], line 6\u001b[0m\n\u001b[1;32m      3\u001b[0m public_key \u001b[38;5;241m=\u001b[39m serialization\u001b[38;5;241m.\u001b[39mload_pem_public_key(jwt_key\u001b[38;5;241m.\u001b[39mencode(\u001b[38;5;124m'\u001b[39m\u001b[38;5;124mutf-8\u001b[39m\u001b[38;5;124m'\u001b[39m))\n\u001b[1;32m      4\u001b[0m \u001b[38;5;66;03m# Verify the token (optional, just to demonstrate it works)\u001b[39;00m\n\u001b[0;32m----> 6\u001b[0m decoded \u001b[38;5;241m=\u001b[39m \u001b[43mjwt\u001b[49m\u001b[38;5;241;43m.\u001b[39;49m\u001b[43mdecode\u001b[49m\u001b[43m(\u001b[49m\n\u001b[1;32m      7\u001b[0m \u001b[43m    \u001b[49m\u001b[43mtoken\u001b[49m\u001b[43m,\u001b[49m\n\u001b[1;32m      8\u001b[0m \u001b[43m    \u001b[49m\u001b[43mpublic_key\u001b[49m\u001b[43m,\u001b[49m\n\u001b[1;32m      9\u001b[0m \u001b[43m    \u001b[49m\u001b[43malgorithms\u001b[49m\u001b[38;5;241;43m=\u001b[39;49m\u001b[43m[\u001b[49m\u001b[38;5;124;43m\"\u001b[39;49m\u001b[38;5;124;43mRS256\u001b[39;49m\u001b[38;5;124;43m\"\u001b[39;49m\u001b[43m]\u001b[49m\u001b[43m,\u001b[49m\n\u001b[1;32m     10\u001b[0m \u001b[43m    \u001b[49m\u001b[43maudience\u001b[49m\u001b[38;5;241;43m=\u001b[39;49m\u001b[38;5;124;43m\"\u001b[39;49m\u001b[38;5;124;43maccount\u001b[39;49m\u001b[38;5;124;43m\"\u001b[39;49m\u001b[43m,\u001b[49m\n\u001b[1;32m     11\u001b[0m \u001b[43m    \u001b[49m\u001b[43missuer\u001b[49m\u001b[38;5;241;43m=\u001b[39;49m\u001b[38;5;124;43m\"\u001b[39;49m\u001b[38;5;124;43mhttps://login.zavmo.ai/auth/realms/Zavmo\u001b[39;49m\u001b[38;5;124;43m\"\u001b[39;49m\u001b[43m,\u001b[49m\n\u001b[1;32m     12\u001b[0m \u001b[43m    \u001b[49m\u001b[43moptions\u001b[49m\u001b[38;5;241;43m=\u001b[39;49m\u001b[43m{\u001b[49m\u001b[38;5;124;43m\"\u001b[39;49m\u001b[38;5;124;43mverify_signature\u001b[39;49m\u001b[38;5;124;43m\"\u001b[39;49m\u001b[43m:\u001b[49m\u001b[43m \u001b[49m\u001b[38;5;28;43;01mTrue\u001b[39;49;00m\u001b[43m}\u001b[49m\u001b[43m  \u001b[49m\u001b[38;5;66;43;03m# Ensure signature verification\u001b[39;49;00m\n\u001b[1;32m     13\u001b[0m \u001b[43m    \u001b[49m\n\u001b[1;32m     14\u001b[0m \u001b[43m)\u001b[49m\n\u001b[1;32m     15\u001b[0m \u001b[38;5;28mprint\u001b[39m(decoded)\n",
      "File \u001b[0;32m~/squizzyenv/lib/python3.11/site-packages/jwt/api_jwt.py:211\u001b[0m, in \u001b[0;36mPyJWT.decode\u001b[0;34m(self, jwt, key, algorithms, options, verify, detached_payload, audience, issuer, leeway, **kwargs)\u001b[0m\n\u001b[1;32m    204\u001b[0m \u001b[38;5;28;01mif\u001b[39;00m kwargs:\n\u001b[1;32m    205\u001b[0m     warnings\u001b[38;5;241m.\u001b[39mwarn(\n\u001b[1;32m    206\u001b[0m         \u001b[38;5;124m\"\u001b[39m\u001b[38;5;124mpassing additional kwargs to decode() is deprecated \u001b[39m\u001b[38;5;124m\"\u001b[39m\n\u001b[1;32m    207\u001b[0m         \u001b[38;5;124m\"\u001b[39m\u001b[38;5;124mand will be removed in pyjwt version 3. \u001b[39m\u001b[38;5;124m\"\u001b[39m\n\u001b[1;32m    208\u001b[0m         \u001b[38;5;124mf\u001b[39m\u001b[38;5;124m\"\u001b[39m\u001b[38;5;124mUnsupported kwargs: \u001b[39m\u001b[38;5;132;01m{\u001b[39;00m\u001b[38;5;28mtuple\u001b[39m(kwargs\u001b[38;5;241m.\u001b[39mkeys())\u001b[38;5;132;01m}\u001b[39;00m\u001b[38;5;124m\"\u001b[39m,\n\u001b[1;32m    209\u001b[0m         RemovedInPyjwt3Warning,\n\u001b[1;32m    210\u001b[0m     )\n\u001b[0;32m--> 211\u001b[0m decoded \u001b[38;5;241m=\u001b[39m \u001b[38;5;28;43mself\u001b[39;49m\u001b[38;5;241;43m.\u001b[39;49m\u001b[43mdecode_complete\u001b[49m\u001b[43m(\u001b[49m\n\u001b[1;32m    212\u001b[0m \u001b[43m    \u001b[49m\u001b[43mjwt\u001b[49m\u001b[43m,\u001b[49m\n\u001b[1;32m    213\u001b[0m \u001b[43m    \u001b[49m\u001b[43mkey\u001b[49m\u001b[43m,\u001b[49m\n\u001b[1;32m    214\u001b[0m \u001b[43m    \u001b[49m\u001b[43malgorithms\u001b[49m\u001b[43m,\u001b[49m\n\u001b[1;32m    215\u001b[0m \u001b[43m    \u001b[49m\u001b[43moptions\u001b[49m\u001b[43m,\u001b[49m\n\u001b[1;32m    216\u001b[0m \u001b[43m    \u001b[49m\u001b[43mverify\u001b[49m\u001b[38;5;241;43m=\u001b[39;49m\u001b[43mverify\u001b[49m\u001b[43m,\u001b[49m\n\u001b[1;32m    217\u001b[0m \u001b[43m    \u001b[49m\u001b[43mdetached_payload\u001b[49m\u001b[38;5;241;43m=\u001b[39;49m\u001b[43mdetached_payload\u001b[49m\u001b[43m,\u001b[49m\n\u001b[1;32m    218\u001b[0m \u001b[43m    \u001b[49m\u001b[43maudience\u001b[49m\u001b[38;5;241;43m=\u001b[39;49m\u001b[43maudience\u001b[49m\u001b[43m,\u001b[49m\n\u001b[1;32m    219\u001b[0m \u001b[43m    \u001b[49m\u001b[43missuer\u001b[49m\u001b[38;5;241;43m=\u001b[39;49m\u001b[43missuer\u001b[49m\u001b[43m,\u001b[49m\n\u001b[1;32m    220\u001b[0m \u001b[43m    \u001b[49m\u001b[43mleeway\u001b[49m\u001b[38;5;241;43m=\u001b[39;49m\u001b[43mleeway\u001b[49m\u001b[43m,\u001b[49m\n\u001b[1;32m    221\u001b[0m \u001b[43m\u001b[49m\u001b[43m)\u001b[49m\n\u001b[1;32m    222\u001b[0m \u001b[38;5;28;01mreturn\u001b[39;00m decoded[\u001b[38;5;124m\"\u001b[39m\u001b[38;5;124mpayload\u001b[39m\u001b[38;5;124m\"\u001b[39m]\n",
      "File \u001b[0;32m~/squizzyenv/lib/python3.11/site-packages/jwt/api_jwt.py:163\u001b[0m, in \u001b[0;36mPyJWT.decode_complete\u001b[0;34m(self, jwt, key, algorithms, options, verify, detached_payload, audience, issuer, leeway, **kwargs)\u001b[0m\n\u001b[1;32m    160\u001b[0m payload \u001b[38;5;241m=\u001b[39m \u001b[38;5;28mself\u001b[39m\u001b[38;5;241m.\u001b[39m_decode_payload(decoded)\n\u001b[1;32m    162\u001b[0m merged_options \u001b[38;5;241m=\u001b[39m {\u001b[38;5;241m*\u001b[39m\u001b[38;5;241m*\u001b[39m\u001b[38;5;28mself\u001b[39m\u001b[38;5;241m.\u001b[39moptions, \u001b[38;5;241m*\u001b[39m\u001b[38;5;241m*\u001b[39moptions}\n\u001b[0;32m--> 163\u001b[0m \u001b[38;5;28;43mself\u001b[39;49m\u001b[38;5;241;43m.\u001b[39;49m\u001b[43m_validate_claims\u001b[49m\u001b[43m(\u001b[49m\n\u001b[1;32m    164\u001b[0m \u001b[43m    \u001b[49m\u001b[43mpayload\u001b[49m\u001b[43m,\u001b[49m\u001b[43m \u001b[49m\u001b[43mmerged_options\u001b[49m\u001b[43m,\u001b[49m\u001b[43m \u001b[49m\u001b[43maudience\u001b[49m\u001b[38;5;241;43m=\u001b[39;49m\u001b[43maudience\u001b[49m\u001b[43m,\u001b[49m\u001b[43m \u001b[49m\u001b[43missuer\u001b[49m\u001b[38;5;241;43m=\u001b[39;49m\u001b[43missuer\u001b[49m\u001b[43m,\u001b[49m\u001b[43m \u001b[49m\u001b[43mleeway\u001b[49m\u001b[38;5;241;43m=\u001b[39;49m\u001b[43mleeway\u001b[49m\n\u001b[1;32m    165\u001b[0m \u001b[43m\u001b[49m\u001b[43m)\u001b[49m\n\u001b[1;32m    167\u001b[0m decoded[\u001b[38;5;124m\"\u001b[39m\u001b[38;5;124mpayload\u001b[39m\u001b[38;5;124m\"\u001b[39m] \u001b[38;5;241m=\u001b[39m payload\n\u001b[1;32m    168\u001b[0m \u001b[38;5;28;01mreturn\u001b[39;00m decoded\n",
      "File \u001b[0;32m~/squizzyenv/lib/python3.11/site-packages/jwt/api_jwt.py:249\u001b[0m, in \u001b[0;36mPyJWT._validate_claims\u001b[0;34m(self, payload, options, audience, issuer, leeway)\u001b[0m\n\u001b[1;32m    246\u001b[0m     \u001b[38;5;28mself\u001b[39m\u001b[38;5;241m.\u001b[39m_validate_nbf(payload, now, leeway)\n\u001b[1;32m    248\u001b[0m \u001b[38;5;28;01mif\u001b[39;00m \u001b[38;5;124m\"\u001b[39m\u001b[38;5;124mexp\u001b[39m\u001b[38;5;124m\"\u001b[39m \u001b[38;5;129;01min\u001b[39;00m payload \u001b[38;5;129;01mand\u001b[39;00m options[\u001b[38;5;124m\"\u001b[39m\u001b[38;5;124mverify_exp\u001b[39m\u001b[38;5;124m\"\u001b[39m]:\n\u001b[0;32m--> 249\u001b[0m     \u001b[38;5;28;43mself\u001b[39;49m\u001b[38;5;241;43m.\u001b[39;49m\u001b[43m_validate_exp\u001b[49m\u001b[43m(\u001b[49m\u001b[43mpayload\u001b[49m\u001b[43m,\u001b[49m\u001b[43m \u001b[49m\u001b[43mnow\u001b[49m\u001b[43m,\u001b[49m\u001b[43m \u001b[49m\u001b[43mleeway\u001b[49m\u001b[43m)\u001b[49m\n\u001b[1;32m    251\u001b[0m \u001b[38;5;28;01mif\u001b[39;00m options[\u001b[38;5;124m\"\u001b[39m\u001b[38;5;124mverify_iss\u001b[39m\u001b[38;5;124m\"\u001b[39m]:\n\u001b[1;32m    252\u001b[0m     \u001b[38;5;28mself\u001b[39m\u001b[38;5;241m.\u001b[39m_validate_iss(payload, issuer)\n",
      "File \u001b[0;32m~/squizzyenv/lib/python3.11/site-packages/jwt/api_jwt.py:307\u001b[0m, in \u001b[0;36mPyJWT._validate_exp\u001b[0;34m(self, payload, now, leeway)\u001b[0m\n\u001b[1;32m    304\u001b[0m     \u001b[38;5;28;01mraise\u001b[39;00m DecodeError(\u001b[38;5;124m\"\u001b[39m\u001b[38;5;124mExpiration Time claim (exp) must be an integer.\u001b[39m\u001b[38;5;124m\"\u001b[39m)\n\u001b[1;32m    306\u001b[0m \u001b[38;5;28;01mif\u001b[39;00m exp \u001b[38;5;241m<\u001b[39m\u001b[38;5;241m=\u001b[39m (now \u001b[38;5;241m-\u001b[39m leeway):\n\u001b[0;32m--> 307\u001b[0m     \u001b[38;5;28;01mraise\u001b[39;00m ExpiredSignatureError(\u001b[38;5;124m\"\u001b[39m\u001b[38;5;124mSignature has expired\u001b[39m\u001b[38;5;124m\"\u001b[39m)\n",
      "\u001b[0;31mExpiredSignatureError\u001b[0m: Signature has expired"
     ]
    }
   ],
   "source": [
    "print(\"Encoded token:\")\n",
    "print(token)\n",
    "public_key = serialization.load_pem_public_key(jwt_key.encode('utf-8'))\n",
    "# Verify the token (optional, just to demonstrate it works)\n",
    "\n",
    "decoded = jwt.decode(\n",
    "    token,\n",
    "    public_key,\n",
    "    algorithms=[\"RS256\"],\n",
    "    audience=\"account\",\n",
    "    issuer=\"https://login.zavmo.ai/auth/realms/Zavmo\",\n",
    "    options={\"verify_signature\": True}  # Ensure signature verification\n",
    "    \n",
    ")\n",
    "print(decoded)"
   ]
  },
  {
   "cell_type": "code",
   "execution_count": null,
   "id": "7f9fc9c7-91ad-497e-947d-fc9ad92aec8d",
   "metadata": {},
   "outputs": [],
   "source": []
  },
  {
   "cell_type": "code",
   "execution_count": null,
   "id": "affc6898-5abb-4fc6-b4e6-d81f1fd9e5ba",
   "metadata": {},
   "outputs": [],
   "source": []
  },
  {
   "cell_type": "code",
   "execution_count": null,
   "id": "3ae3032f-9453-4ef6-8bac-4a61db4b0d9e",
   "metadata": {},
   "outputs": [],
   "source": []
  },
  {
   "cell_type": "code",
   "execution_count": null,
   "id": "8eddf66a-ac83-4769-8747-0cc20f878448",
   "metadata": {},
   "outputs": [],
   "source": []
  },
  {
   "cell_type": "code",
   "execution_count": null,
   "id": "f5af1eec-7268-4327-b044-ce876f3682ac",
   "metadata": {},
   "outputs": [],
   "source": []
  },
  {
   "cell_type": "code",
   "execution_count": null,
   "id": "431f3464-5f49-4719-abcd-ce5e69a769d2",
   "metadata": {},
   "outputs": [],
   "source": []
  },
  {
   "cell_type": "code",
   "execution_count": null,
   "id": "bd4f558c-6c6e-40e3-8809-0567cae723a3",
   "metadata": {},
   "outputs": [],
   "source": []
  },
  {
   "cell_type": "code",
   "execution_count": null,
   "id": "e31292f8-0e58-489a-9ae5-4222b2f37d7a",
   "metadata": {},
   "outputs": [],
   "source": []
  },
  {
   "cell_type": "code",
   "execution_count": null,
   "id": "009186a1-bbdc-452d-915f-f6566917585b",
   "metadata": {},
   "outputs": [],
   "source": []
  },
  {
   "cell_type": "code",
   "execution_count": null,
   "id": "e4ef82ba-ac70-480e-91ce-15ba20d918a6",
   "metadata": {},
   "outputs": [],
   "source": []
  },
  {
   "cell_type": "code",
   "execution_count": null,
   "id": "1379be6d-f59e-428d-8548-c120acff4bcb",
   "metadata": {},
   "outputs": [],
   "source": [
    "from helpers.utils import create_jwt\n",
    "payload = {\n",
    "    \"email\": \"user@example.com\",\n",
    "}\n",
    "jwt = create_jwt(payload,expiration_time=24*3600)\n",
    "print(jwt)"
   ]
  },
  {
   "cell_type": "code",
   "execution_count": null,
   "id": "610b00b5-f436-47bc-8110-2e0a3ece0ae0",
   "metadata": {},
   "outputs": [],
   "source": [
    "from pyperclip import copy\n",
    "copy()"
   ]
  }
 ],
 "metadata": {
  "kernelspec": {
   "display_name": "Python 3 (ipykernel)",
   "language": "python",
   "name": "python3"
  },
  "language_info": {
   "codemirror_mode": {
    "name": "ipython",
    "version": 3
   },
   "file_extension": ".py",
   "mimetype": "text/x-python",
   "name": "python",
   "nbconvert_exporter": "python",
   "pygments_lexer": "ipython3",
   "version": "3.11.9"
  },
  "widgets": {
   "application/vnd.jupyter.widget-state+json": {
    "state": {},
    "version_major": 2,
    "version_minor": 0
   }
  }
 },
 "nbformat": 4,
 "nbformat_minor": 5
}
