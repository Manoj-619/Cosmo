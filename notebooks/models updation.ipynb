{
 "cells": [
  {
   "cell_type": "code",
   "execution_count": 1,
   "metadata": {},
   "outputs": [],
   "source": [
    "import os\n",
    "import sys"
   ]
  },
  {
   "cell_type": "code",
   "execution_count": 2,
   "metadata": {},
   "outputs": [
    {
     "data": {
      "text/plain": [
       "'/Users/mumtaz/Documents/projects/zavmo/zavmo-api'"
      ]
     },
     "execution_count": 2,
     "metadata": {},
     "output_type": "execute_result"
    }
   ],
   "source": [
    "os.chdir('/Users/mumtaz/Documents/projects/zavmo/zavmo-api')\n",
    "sys.path.append('/Users/mumtaz/Documents/projects/zavmo/zavmo-api/zavmo')\n",
    "os.getcwd()"
   ]
  },
  {
   "cell_type": "code",
   "execution_count": 3,
   "metadata": {},
   "outputs": [
    {
     "data": {
      "application/vnd.jupyter.widget-view+json": {
       "model_id": "95d4247e36cd404395d4e21eafbb251d",
       "version_major": 2,
       "version_minor": 0
      },
      "text/plain": [
       "Output()"
      ]
     },
     "metadata": {},
     "output_type": "display_data"
    },
    {
     "data": {
      "text/html": [
       "<pre style=\"white-space:pre;overflow-x:auto;line-height:normal;font-family:Menlo,'DejaVu Sans Mono',consolas,'Courier New',monospace\"></pre>\n"
      ],
      "text/plain": []
     },
     "metadata": {},
     "output_type": "display_data"
    }
   ],
   "source": [
    "from dj_notebook import activate\n",
    "plus = activate('zavmo.zavmo.settings')"
   ]
  },
  {
   "cell_type": "markdown",
   "metadata": {},
   "source": [
    "## Testing querying existing JD"
   ]
  },
  {
   "cell_type": "code",
   "execution_count": 4,
   "metadata": {},
   "outputs": [],
   "source": [
    "JD = plus.JobDescription.objects.get(job_role='Ethics & Compliance - Head of Assurance - Level 5')"
   ]
  },
  {
   "cell_type": "code",
   "execution_count": 7,
   "metadata": {},
   "outputs": [
    {
     "data": {
      "text/plain": [
       "'To develop, deliver, and maintain an annual risk-based assurance plan to identify risks of non-compliance with laws and regulations relating to services and energy, protect the profitability of the business, support positive customer outcomes, and safeguard the license to operate.\\n\\nTo resource, lead, and supervise the Assurance Team in accordance with FCA and OFGEM requirements, ensuring the provision of expert and pragmatic assurance activity aligned with the function’s regulatory scope. Oversee the delivery of independent, unbiased, and impartial assurance reviews across the function’s regulatory scope, adding value to the Group by objectively reviewing and reporting on the adequacy and effectiveness of compliance controls.\\n\\nDevelop, deliver, and oversee adherence to the assurance methodology. Establish and maintain an appropriate approach to remedial action tracking. Implement and sustain an effective reporting framework for Senior Managers, the Board, and nominated committees.\\n\\nSupport and engage with senior stakeholders, including the Executive team and INEDs. Coordinate and align second- and third-line activities to minimize business fatigue.'"
      ]
     },
     "execution_count": 7,
     "metadata": {},
     "output_type": "execute_result"
    }
   ],
   "source": [
    "JD.description"
   ]
  },
  {
   "cell_type": "markdown",
   "metadata": {},
   "source": [
    "# ofqual model new data ingestion"
   ]
  },
  {
   "cell_type": "code",
   "execution_count": 24,
   "metadata": {},
   "outputs": [],
   "source": [
    "ofqual_id = \"603/0723/7\"\n",
    "text = \"\"\"UNITS: Unit Title: Strategic and Global Finance Unit Aim: The aim of this unit is to ensure that the learner can exercise techniques and decide on decisions that add value in terms of corporate finance based on sound theoretical concepts. Level: 7 Reference Number: T/615/3312 Credit Value: 20 Total Qualification Time (TQT): 200 Guided Learning Hours (GLH): 80 Learning Outcomes: 1. Identify the concept of globalisation and evaluate the investment process involved in relation to globalisation. 2. Evaluate the impact of global business environment on the national and multinational organisations. 3. Evaluate and recommend strategies which will result in the enhancement of the value on an organisation. 4. Be able to evaluate the financial consequences of strategic decisions and presentation of report to the management. 5. Identify appropriate sources of finance and evaluate the risk involved and the cost of in managing the global risk. 6. Identify and explain suitable techniques to manage global risk. 7. Critical assess potential investment decisions available and the strategies applied in the global environment. Assessment Criteria: 1.1: Define the concept of globalization. 1.2: Identify the affiliation between the concept of globalisation and investment process. 1.3: Evaluate on the advantages of investment proves with globalisation. 2.1: Identify the global business environment factors. 2.2: Evaluate the impact of the identified factors on national and multinational organisations. 3.1: Identify the current value statement of the organisation. 3.2: Identify how the organisation resulted in achieving the values. 3.3: Evaluate and recommend strategies which enhance the value of the organisation. 4.1: Identify the strategic decision in an organisation. 4.2: Explain and evaluate the financial consequences of the strategic decision made. 5.1: Identify the sources of finance available. 5.2: Identify and evaluate the risk involved on the identified sources of finance. 5.3: Identify the cost involved in managing the global risk. 6.1: Identify the risk mitigation techniques. 6.2: Identify the global risks. 6.3: Explain the suitability of techniques identified to manage the global risk of the organisation. 7.1: Identify the potential investment decisions and strategies available. 7.2: Critical assess the impact of decisions and strategies on the global environment. Unit Title: Strategic Financial Management Unit Aim: The aim of this unit is to develop learner ability to exercise the techniques and to make value added decisions in terms of corporate strategy and finance based on sound theoretical concepts. Level: 7 Reference Number: L/615/3316 Credit Value: 20 Total Qualification Time (TQT): 200 Guided Learning Hours (GLH): 80 Learning Outcomes: 1. Understand and critically appraise the significance of strategic management and decision making to the performance of the organisation. 2. Understand and evaluate the key financial theories relevant to financial decision making. 3. Evaluate the role of culture on strategy, including managing change. 4. Evaluate and apply stakeholder analysis. 5. Critically evaluate corporate and business valuation techniques. 6. Evaluate performance measurement systems for an organisation. Assessment Criteria: 1.1: Identify a range of business resources to meet organisational objectives. 1.2: Identify and apply relevant academic theories to understand the various internal and external factors of an organisation. 2.1: Identify and evaluate key financial theories. 2.2: Apply theories identified on financial decision making. 2.3: Identify and apply strategic implementation techniques using balance scorecard and portfolio management tools. 3.1: Identify the role of culture on strategy. 3.2: Identify the role of change management. 4.1: Understand the significance of stakeholder analysis. 4.2: Understand the application of the analysis on a chosen organisation. 5.1: Identify the concept of corporate and business valuation techniques. 6.1: Identify performance measurement systems. 6.2: Identify financial analysis techniques. 6.3: Assess the application of systems and techniques identified on solving business problems. Unit Title: Strategic Auditing Unit Aim: The aim of this unit is to help learners understand the ability to choose and apply suitable investigative techniques to a variety of situations that are simple and non-simple in the accounting environment. Level: 7 Reference Number: R/615/3317 Credit Value: 20 Total Qualification Time (TQT): 200 Guided Learning Hours (GLH): 80 Learning Outcomes: 1. Identify and evaluate the history and the current regulatory environment for auditing. 2. Understand and critically apply the rules of professional conduct for the auditors. 3. Evaluate the importance of legal and professional requirements when performing the audit. 4. Critically analyse the effectiveness of audit monitoring processes. 5. Identify the risk involved in an audit and the use of suitable measures to minimise the risk. 6. Be able to identify and explain the linkage between accounts preparation and the conduct of audit. 7. Identify and critically assess on the current developments in auditing. Assessment Criteria: 1.1: Identify the history and current regulatory environment for auditing. 1.2: Evaluate on the historical and current regulatory environment for auditing. 2.1: Identify the rules of professional conduct. 2.2: Identify the critical application of the rules of professional conduct for the auditors. 3.1: Identify the importance of professional requirements legal. 3.2: Evaluate the identified requirements on the performance of audit. 4.1: Identify and analyse an audit strategy in general. 4.2: Critically analyse the effectiveness of the audit monitoring process. 5.1: Identify the risk involved in the process of auditing. 5.2: Categorise appropriate measures to minimise the risk identified. 6.1: Identify the link between preparation of accounts and the audit conducted. 6.2: Explain the link between preparation of accounts and the audit conducted. 7.1: Identify the current developments in auditing. 7.2: Critically assess the current developments in Auditing.\"\"\"\n",
    "marks_scheme = [{'bloom_taxonomy_level': 'Remember', 'criteria': ['Recall the definition of globalization and its significance in finance.', 'List key financial theories relevant to decision making.'], 'key_verbs': ['define', 'list'], 'expectations': ['Demonstrate basic recall of concepts or ideas.', 'Provide accurate definitions and lists of key points.'], 'task': 'Define the concept of globalization and list key financial theories.', 'benchmarking_responses': [('fail', \"Globalization is when countries are connected. There are some financial theories too but I can't remember their names.\"), ('pass_', 'Globalization is the process of interaction and integration among people, companies, and governments worldwide. It is important in finance because it allows for the flow of capital and investment across borders. Some key financial theories include the Efficient Market Hypothesis and Modern Portfolio Theory.'), ('merit', 'Globalization refers to the increasing interconnectedness of national economies, cultures, and populations facilitated by trade, investment, technology, and communication. It is significant in finance as it influences capital flows, creates investment opportunities, and enhances market efficiency. Notable financial theories include the Efficient Market Hypothesis, which suggests that market prices reflect all available information, and the Capital Asset Pricing Model (CAPM), which explains the relationship between systematic risk and expected return. Additionally, the Modigliani-Miller Theorem offers insights on capital structure irrelevance in perfect markets.'), ('distinction', 'Globalization can be defined as the complex process through which nations and economies become increasingly interconnected through trade, investment, technology, and cultural exchange, leading to the creation of a global market. This phenomenon is significant in finance as it drives investment strategies, influences currency exchange, and affects economic policies. Key financial theories pertinent to globalization include the Efficient Market Hypothesis, which posits that asset prices incorporate all available information, the Capital Asset Pricing Model (CAPM) that describes the expected return of an asset based on its risk relative to the market, and the Arbitrage Pricing Theory which evaluates the returns of a security through the lens of several economic factors. Other important frameworks include the International Fisher Effect, which suggests that the expected changes in currency rates are equal to interest rate differentials, highlighting the relationship between global investments and currency fluctuations.')]}, {'bloom_taxonomy_level': 'Understand', 'criteria': ['Explain the relationship between globalization and investment processes.', 'Summarize ethical issues in corporate governance.'], 'key_verbs': ['explain', 'summarize'], 'expectations': ['Provide explanations that show comprehension.', 'Summarize ideas into concise statements that maintain the essence.'], 'task': 'Explain the relationship between globalization and the investment process, and summarize ethical issues in corporate governance.', 'benchmarking_responses': [('fail', 'The response provides a basic definition of globalization but fails to explain how it relates to investment processes. It mentions corporate governance but lacks specific ethical issues, resulting in a vague and unclear answer.'), ('pass_', 'The response explains that globalization increases international investment opportunities and discusses some elements of investment processes, like foreign direct investment. It summarizes ethical issues in corporate governance, such as the need for accountability and transparency, but lacks depth.'), ('merit', 'The response clearly explains the relationship between globalization and investment processes, stating that globalization leads to more diverse investment portfolios and risk-sharing among countries. It summarizes several ethical issues in corporate governance, including conflicts of interest, executive compensation, and the importance of stakeholder engagement with thoughtful insights on their implications.'), ('distinction', 'The response offers a comprehensive explanation of how globalization fosters overseas investments, highlighting specific mechanisms like technological advancements and regulatory changes that drive investment processes. The summary of ethical issues in corporate governance goes beyond mere identification, critically analyzing the consequences of poor corporate governance practices on stakeholder trust and economic stability while suggesting innovative solutions for improvement.')]}, {'bloom_taxonomy_level': 'Apply', 'criteria': ['Use financial theories to evaluate a specific financial decision.', 'Apply risk mitigation techniques to a hypothetical scenario.'], 'key_verbs': ['apply', 'demonstrate'], 'expectations': ['Demonstrate the application of concepts in real-world scenarios.', 'Provide clear examples of applied techniques or theories.'], 'task': 'Use financial theories to evaluate a specific financial decision in a case study and apply suitable risk mitigation techniques.', 'benchmarking_responses': [('fail', 'The response fails to identify any relevant financial theories and does not apply them to the financial decision in the case study. The risk mitigation techniques provided are vague and do not relate to the scenario presented, resulting in a lack of understanding of key concepts.'), ('pass_', 'The response identifies basic financial theories and attempts to connect them to the financial decision in the case study. However, the analysis lacks depth, with only one or two risk mitigation techniques mentioned which are not entirely appropriate for the hypothetical scenario.'), ('merit', 'The response effectively evaluates the financial decision using relevant financial theories such as Net Present Value and Cost of Capital, providing examples from the case study. Additionally, it identifies relevant risk mitigation techniques such as diversification and hedging, explaining how these could be applied in the scenario provided.'), ('distinction', 'The response provides a comprehensive evaluation of the financial decision using advanced financial theories, including Behavioral Finance and Modern Portfolio Theory. It skillfully links these theories to the scenario, illustrating their practical implications. Furthermore, it presents a detailed analysis of multiple risk mitigation techniques, including insurance, derivatives, and strategic asset allocation, demonstrating a deep understanding of their application in real-world contexts.')]}, {'bloom_taxonomy_level': 'Analyze', 'criteria': ['Analyze the impact of global business environment factors on multinational organizations.', 'Differentiate between corporate valuation techniques and their applications.'], 'key_verbs': ['analyze', 'differentiate'], 'expectations': ['Provide analysis that uncovers patterns or relationships.', 'Differentiate between concepts while providing examples.'], 'task': 'Analyze the impact of global business environment factors on multinational organizations and differentiate between corporate valuation techniques.', 'benchmarking_responses': [('fail', 'The response briefly mentions that global business environment factors affect multinational organizations but does not analyze any specific factors or relationships. It lacks detail and examples, and there is no mention of corporate valuation techniques or their differences.'), ('pass_', 'The response identifies some global business environment factors like economic conditions and government regulations, stating that these factors impact multinational organizations by affecting their operations and profitability. It gives a simple comparison between discounted cash flow and market capitalization methods of corporate valuation but lacks in-depth analysis or examples.'), ('merit', 'The response effectively analyzes how global business environment factors such as political stability, economic indicators, and cultural differences influence multinational organizations. It highlights that political instability can lead to uncertainty in investment decisions while providing examples of companies that have navigated such challenges. It also differentiates between discounted cash flow and earnings-based valuation techniques, illustrating their applications with examples of when each would be more appropriate for a multinational corporation.'), ('distinction', 'The response provides a comprehensive analysis of the impact of various global business environment factors, including trade policies, economic fluctuations, cultural nuances, and technological advancements on multinational organizations, supported by real-life case studies. It adeptly differentiates between various corporate valuation techniques such as discounted cash flow, comparable companies analysis, and precedent transactions, discussing their nuanced applications and advantages in different scenarios, thus showing exceptional insight and innovative thinking.')]}, {'bloom_taxonomy_level': 'Evaluate', 'criteria': ['Critically evaluate the effectiveness of auditing regulations.', 'Evaluate strategies for improving corporate governance.'], 'key_verbs': ['evaluate', 'criticize'], 'expectations': ['Provide well-reasoned judgments based on evidence.', 'Critically assess multiple viewpoints before concluding.'], 'task': 'Critically evaluate the effectiveness of auditing regulations and evaluate strategies that can be implemented to improve corporate governance.', 'benchmarking_responses': [('fail', 'The response does not properly address the effectiveness of auditing regulations or strategies for improving corporate governance. It lacks detail and does not use any evidence to support claims. It may outline basic aspects of auditing but fails to critically engage with the material, providing no evaluation or insight into strategies for improvement.'), ('pass_', 'The response identifies some key auditing regulations and mentions their purpose in corporate governance. It provides a basic evaluation but lacks depth, only touching on one or two strategies for improvement, without thorough assessment or supporting evidence. It reflects a fundamental understanding but does not engage deeply with the complexity of the topic.'), ('merit', 'The response critically evaluates several auditing regulations, discussing their strengths and weaknesses in promoting transparency and accountability in corporate governance. It presents multiple viewpoints on the effectiveness of these regulations, accompanying each point with appropriate evidence. Moreover, it evaluates a few strategies for enhancing corporate governance and relates them to the current regulatory framework, demonstrating solid understanding and application of concepts.'), ('distinction', 'The response presents a comprehensive and nuanced critique of the effectiveness of auditing regulations, engaging with a variety of perspectives and thoroughly supporting claims with evidence from scholarly sources. Furthermore, it critically evaluates innovative strategies for improving corporate governance, detailing the implications of each strategy. The response exemplifies exceptional understanding of the interplay between auditing and governance, providing insights into potential reforms with clear, well-structured reasoning.')]}, {'bloom_taxonomy_level': 'Create', 'criteria': ['Design a corporate financial strategy integrating effective governance practices.', 'Propose a comprehensive report on future financial market trends.'], 'key_verbs': ['design', 'propose'], 'expectations': ['Show creativity in integrating various elements and theories into a cohesive plan.', 'Propose innovative and effective solutions to complex problems.'], 'task': 'Design a corporate financial strategy that integrates effective governance practices and propose a comprehensive report on anticipated financial market trends.', 'benchmarking_responses': [('fail', 'The proposed financial strategy lacks clear governance practices and fails to integrate relevant theories. It lists some financial trends but does not analyze them or demonstrate understanding of their potential impact. There are minimal innovative solutions present, and the report lacks coherence and depth.'), ('pass_', 'The financial strategy outlines governance practices but does not fully integrate them into a cohesive plan. It mentions some anticipated financial trends but provides little analysis or justification. The solutions offered are basic and do not show significant creativity beyond common practices.'), ('merit', 'Presents a solid corporate financial strategy that effectively integrates governance practices while referencing relevant theories and frameworks. The report identifies key financial market trends and analyzes their potential effects on the strategy, providing some innovative solutions to anticipated problems.'), ('distinction', 'Delivers a comprehensive corporate financial strategy that intricately weaves governance practices with in-depth analysis of theoretical frameworks. The report on financial market trends is not only thorough but also forecasts intricate developments, showcasing exceptional creativity and innovative problem-solving approaches that are both effective and practical.')]}]"
   ]
  },
  {
   "cell_type": "code",
   "execution_count": 25,
   "metadata": {},
   "outputs": [],
   "source": [
    "new_ofqual = plus.OFQUAL.objects.create(\n",
    "    ofqual_id=ofqual_id,\n",
    "    level=7,\n",
    "    text=text,\n",
    "    markscheme=marks_scheme\n",
    ")\n",
    "\n",
    "new_ofqual.save()"
   ]
  },
  {
   "cell_type": "markdown",
   "metadata": {},
   "source": [
    "## JD model updation with Group Head of Ethics"
   ]
  },
  {
   "cell_type": "code",
   "execution_count": 26,
   "metadata": {},
   "outputs": [],
   "source": [
    "nos_ids = ['INSML013', 'FSPCOMP7', 'FSPCOMP15', 'FSPCOMP16', 'CFAGOR3', 'ASTFM324', 'LANEM17']\n",
    "ofqual_ids = ['603/0723/7', '610/3240/2', '610/2175/1']\n",
    "nos = plus.NOS.objects.filter(nos_id__in=nos_ids)\n",
    "ofqual = plus.OFQUAL.objects.filter(ofqual_id__in=ofqual_ids)"
   ]
  },
  {
   "cell_type": "code",
   "execution_count": 27,
   "metadata": {},
   "outputs": [
    {
     "data": {
      "text/plain": [
       "<QuerySet [<OFQUAL: 610/3240/2 - 5>, <OFQUAL: 610/2175/1 - 7>, <OFQUAL: 603/0723/7 - 7>]>"
      ]
     },
     "execution_count": 27,
     "metadata": {},
     "output_type": "execute_result"
    }
   ],
   "source": [
    "ofqual"
   ]
  },
  {
   "cell_type": "code",
   "execution_count": 28,
   "metadata": {},
   "outputs": [
    {
     "data": {
      "text/plain": [
       "<QuerySet [<NOS: ASTFM324 - Facilities Management>, <NOS: CFAGOR3 - Governance of Risk>, <NOS: FSPCOMP15 - Compliance>, <NOS: FSPCOMP16 - Compliance>, <NOS: FSPCOMP7 - Compliance>, <NOS: INSML013 - Management and Leadership>, <NOS: LANEM17 - Organisational Environmental Awareness and Management>]>"
      ]
     },
     "execution_count": 28,
     "metadata": {},
     "output_type": "execute_result"
    }
   ],
   "source": [
    "nos"
   ]
  },
  {
   "cell_type": "code",
   "execution_count": 29,
   "metadata": {},
   "outputs": [],
   "source": [
    "job_role = \"Group Head of Ethics\"\n",
    "main_purpose = \"\"\"The role is responsible for overseeing all aspects of the Ethics & Compliance (E&C) Programme, ensuring that standards, policies, and guidance documents are effectively created, maintained, and communicated. \n",
    "This includes managing critical compliance functions such as Speak Up, Our Code, and the Conflict and Gifts & Hospitality registers, while driving awareness and ethical culture across the organization.\"\"\"\n",
    "responsibilities = \"\"\"Accountable for all Ethics & Compliance Standards and Guidance documents, ensuring their creation, maintenance, and delivery of associated training and assurance activities.\n",
    "Oversee the management of Speak Up, including case triaging, conducting independent investigations, action tracking, and reporting.\n",
    "Maintain and improve Our Code, updating training to align with the Group’s needs and ensuring effective reporting mechanisms.\n",
    "Manage and maintain the Group's Conflict and Gifts & Hospitality registers, ensuring functionality updates, user access management, and accurate reporting.\n",
    "Lead the delivery and maintenance of all facets of the E&C Programme, including global Speak Up process, Gifts & Hospitality process, Conflict of Interest process, Our Code maintenance, annual Code training, E&C communications, training, interventions, reporting, and programme assessments.\n",
    "Design and implement an E&C Programme Assessment across all Business Units and Functions, as well as at the Group level.\n",
    "Own all standards, policies, and procedures related to the E&C Programme, ensuring alignment with global practices through periodic updates.\n",
    "Drive the embedding of the E&C Programme by designing and delivering refreshed communications, awareness campaigns, and brand initiatives.\n",
    "Report to the Board Committees (SESC and Audit) and the CLT on the Group-wide Ethics & Compliance Programme, including Our Code, Speak Up, Investigations, and Registers.\n",
    "Lead Centrica's global Ethics & Compliance Programme, covering Our Code, Gifts & Hospitality, Conflicts of Interest, and Speak Up.\n",
    "Develop initiatives to enhance awareness and build an ethical culture within the organization.\n",
    "Ensure the successful delivery of all global E&C Programme elements.\n",
    "Manage and oversee reporting processes on all aspects of the E&C Programme, ensuring accuracy and compliance.\n",
    "Analyze trends and data to implement positive changes within the E&C Programme and related functional activities.\n",
    "\"\"\"\n"
   ]
  },
  {
   "cell_type": "code",
   "execution_count": 30,
   "metadata": {},
   "outputs": [],
   "source": [
    "new_job = plus.JobDescription.objects.create(\n",
    "    job_role=job_role,\n",
    "    description=main_purpose,\n",
    "    responsibilities=responsibilities\n",
    ")\n",
    "\n",
    "new_job.save()"
   ]
  },
  {
   "cell_type": "code",
   "execution_count": 31,
   "metadata": {},
   "outputs": [],
   "source": [
    "new_job.nos.add(*nos)\n",
    "new_job.ofqual.add(*ofqual)\n",
    "\n",
    "new_job.save()"
   ]
  },
  {
   "cell_type": "code",
   "execution_count": 23,
   "metadata": {},
   "outputs": [
    {
     "data": {
      "text/plain": [
       "'The role is responsible for overseeing all aspects of the Ethics & Compliance (E&C) Programme, ensuring that standards, policies, and guidance documents are effectively created, maintained, and communicated. \\nThis includes managing critical compliance functions such as Speak Up, Our Code, and the Conflict and Gifts & Hospitality registers, while driving awareness and ethical culture across the organization.'"
      ]
     },
     "execution_count": 23,
     "metadata": {},
     "output_type": "execute_result"
    }
   ],
   "source": [
    "new_job.description"
   ]
  },
  {
   "cell_type": "code",
   "execution_count": 32,
   "metadata": {},
   "outputs": [
    {
     "data": {
      "text/plain": [
       "<QuerySet [<OFQUAL: 610/2175/1 - 7>, <OFQUAL: 610/3240/2 - 5>, <OFQUAL: 603/0723/7 - 7>]>"
      ]
     },
     "execution_count": 32,
     "metadata": {},
     "output_type": "execute_result"
    }
   ],
   "source": [
    "new_job.ofqual.all()"
   ]
  },
  {
   "cell_type": "code",
   "execution_count": null,
   "metadata": {},
   "outputs": [],
   "source": []
  }
 ],
 "metadata": {
  "kernelspec": {
   "display_name": "Python 3",
   "language": "python",
   "name": "python3"
  },
  "language_info": {
   "codemirror_mode": {
    "name": "ipython",
    "version": 3
   },
   "file_extension": ".py",
   "mimetype": "text/x-python",
   "name": "python",
   "nbconvert_exporter": "python",
   "pygments_lexer": "ipython3",
   "version": "3.11.4"
  }
 },
 "nbformat": 4,
 "nbformat_minor": 2
}
