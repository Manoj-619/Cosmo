{
 "cells": [
  {
   "cell_type": "code",
   "execution_count": 1,
   "metadata": {},
   "outputs": [],
   "source": [
    "import os\n",
    "import sys"
   ]
  },
  {
   "cell_type": "code",
   "execution_count": 2,
   "metadata": {},
   "outputs": [
    {
     "data": {
      "text/plain": [
       "'/Users/mumtaz/Documents/projects/zavmo/zavmo-api'"
      ]
     },
     "execution_count": 2,
     "metadata": {},
     "output_type": "execute_result"
    }
   ],
   "source": [
    "os.chdir('/Users/mumtaz/Documents/projects/zavmo/zavmo-api')\n",
    "sys.path.append('/Users/mumtaz/Documents/projects/zavmo/zavmo-api/zavmo')\n",
    "os.getcwd()"
   ]
  },
  {
   "cell_type": "code",
   "execution_count": 3,
   "metadata": {},
   "outputs": [
    {
     "data": {
      "application/vnd.jupyter.widget-view+json": {
       "model_id": "95d4247e36cd404395d4e21eafbb251d",
       "version_major": 2,
       "version_minor": 0
      },
      "text/plain": [
       "Output()"
      ]
     },
     "metadata": {},
     "output_type": "display_data"
    },
    {
     "data": {
      "text/html": [
       "<pre style=\"white-space:pre;overflow-x:auto;line-height:normal;font-family:Menlo,'DejaVu Sans Mono',consolas,'Courier New',monospace\"></pre>\n"
      ],
      "text/plain": []
     },
     "metadata": {},
     "output_type": "display_data"
    }
   ],
   "source": [
    "from dj_notebook import activate\n",
    "plus = activate('zavmo.zavmo.settings')"
   ]
  },
  {
   "cell_type": "markdown",
   "metadata": {},
   "source": [
    "## Testing querying existing JD"
   ]
  },
  {
   "cell_type": "code",
   "execution_count": 4,
   "metadata": {},
   "outputs": [],
   "source": [
    "JD = plus.JobDescription.objects.get(job_role='Ethics & Compliance - Head of Assurance - Level 5')"
   ]
  },
  {
   "cell_type": "code",
   "execution_count": 7,
   "metadata": {},
   "outputs": [
    {
     "data": {
      "text/plain": [
       "'To develop, deliver, and maintain an annual risk-based assurance plan to identify risks of non-compliance with laws and regulations relating to services and energy, protect the profitability of the business, support positive customer outcomes, and safeguard the license to operate.\\n\\nTo resource, lead, and supervise the Assurance Team in accordance with FCA and OFGEM requirements, ensuring the provision of expert and pragmatic assurance activity aligned with the function’s regulatory scope. Oversee the delivery of independent, unbiased, and impartial assurance reviews across the function’s regulatory scope, adding value to the Group by objectively reviewing and reporting on the adequacy and effectiveness of compliance controls.\\n\\nDevelop, deliver, and oversee adherence to the assurance methodology. Establish and maintain an appropriate approach to remedial action tracking. Implement and sustain an effective reporting framework for Senior Managers, the Board, and nominated committees.\\n\\nSupport and engage with senior stakeholders, including the Executive team and INEDs. Coordinate and align second- and third-line activities to minimize business fatigue.'"
      ]
     },
     "execution_count": 7,
     "metadata": {},
     "output_type": "execute_result"
    }
   ],
   "source": [
    "JD.description"
   ]
  },
  {
   "cell_type": "code",
   "execution_count": null,
   "metadata": {},
   "outputs": [],
   "source": []
  },
  {
   "cell_type": "markdown",
   "metadata": {},
   "source": [
    "## JD model updation with Group Head of Ethics"
   ]
  },
  {
   "cell_type": "code",
   "execution_count": 15,
   "metadata": {},
   "outputs": [],
   "source": [
    "nos_ids = ['INSML013', 'FSPCOMP7', 'FSPCOMP15', 'FSPCOMP16', 'CFAGOR3', 'ASTFM324', 'LANEM17']\n",
    "ofqual_ids = [\"610/3240/2\", \"603/2232/9\", \"610/3952/4\", \"610/3086/7\", \"601/6908/4\"]\n",
    "nos = plus.NOS.objects.filter(nos_id__in=nos_ids)\n",
    "ofqual = plus.OFQUAL.objects.filter(ofqual_id__in=ofqual_ids)"
   ]
  },
  {
   "cell_type": "code",
   "execution_count": 16,
   "metadata": {},
   "outputs": [
    {
     "data": {
      "text/plain": [
       "<QuerySet [<OFQUAL: 601/6908/4 - 5>, <OFQUAL: 610/3240/2 - 5>, <OFQUAL: 610/3086/7 - 5>]>"
      ]
     },
     "execution_count": 16,
     "metadata": {},
     "output_type": "execute_result"
    }
   ],
   "source": [
    "ofqual"
   ]
  },
  {
   "cell_type": "code",
   "execution_count": 17,
   "metadata": {},
   "outputs": [
    {
     "data": {
      "text/plain": [
       "<QuerySet [<NOS: ASTFM324 - Facilities Management>, <NOS: CFAGOR3 - Governance of Risk>, <NOS: FSPCOMP15 - Compliance>, <NOS: FSPCOMP16 - Compliance>, <NOS: FSPCOMP7 - Compliance>, <NOS: INSML013 - Management and Leadership>, <NOS: LANEM17 - Organisational Environmental Awareness and Management>]>"
      ]
     },
     "execution_count": 17,
     "metadata": {},
     "output_type": "execute_result"
    }
   ],
   "source": [
    "nos"
   ]
  },
  {
   "cell_type": "code",
   "execution_count": 18,
   "metadata": {},
   "outputs": [],
   "source": [
    "job_role = \"Group Head of Ethics\"\n",
    "main_purpose = \"\"\"The role is responsible for overseeing all aspects of the Ethics & Compliance (E&C) Programme, ensuring that standards, policies, and guidance documents are effectively created, maintained, and communicated. \n",
    "This includes managing critical compliance functions such as Speak Up, Our Code, and the Conflict and Gifts & Hospitality registers, while driving awareness and ethical culture across the organization.\"\"\"\n",
    "responsibilities = \"\"\"Accountable for all Ethics & Compliance Standards and Guidance documents, ensuring their creation, maintenance, and delivery of associated training and assurance activities.\n",
    "Oversee the management of Speak Up, including case triaging, conducting independent investigations, action tracking, and reporting.\n",
    "Maintain and improve Our Code, updating training to align with the Group’s needs and ensuring effective reporting mechanisms.\n",
    "Manage and maintain the Group's Conflict and Gifts & Hospitality registers, ensuring functionality updates, user access management, and accurate reporting.\n",
    "Lead the delivery and maintenance of all facets of the E&C Programme, including global Speak Up process, Gifts & Hospitality process, Conflict of Interest process, Our Code maintenance, annual Code training, E&C communications, training, interventions, reporting, and programme assessments.\n",
    "Design and implement an E&C Programme Assessment across all Business Units and Functions, as well as at the Group level.\n",
    "Own all standards, policies, and procedures related to the E&C Programme, ensuring alignment with global practices through periodic updates.\n",
    "Drive the embedding of the E&C Programme by designing and delivering refreshed communications, awareness campaigns, and brand initiatives.\n",
    "Report to the Board Committees (SESC and Audit) and the CLT on the Group-wide Ethics & Compliance Programme, including Our Code, Speak Up, Investigations, and Registers.\n",
    "Lead Centrica's global Ethics & Compliance Programme, covering Our Code, Gifts & Hospitality, Conflicts of Interest, and Speak Up.\n",
    "Develop initiatives to enhance awareness and build an ethical culture within the organization.\n",
    "Ensure the successful delivery of all global E&C Programme elements.\n",
    "Manage and oversee reporting processes on all aspects of the E&C Programme, ensuring accuracy and compliance.\n",
    "Analyze trends and data to implement positive changes within the E&C Programme and related functional activities.\n",
    "\"\"\"\n"
   ]
  },
  {
   "cell_type": "code",
   "execution_count": 20,
   "metadata": {},
   "outputs": [],
   "source": [
    "new_job = plus.JobDescription.objects.create(\n",
    "    job_role=job_role,\n",
    "    description=main_purpose,\n",
    "    responsibilities=responsibilities\n",
    ")\n",
    "\n",
    "new_job.save()"
   ]
  },
  {
   "cell_type": "code",
   "execution_count": 21,
   "metadata": {},
   "outputs": [],
   "source": [
    "new_job.nos.add(*nos)\n",
    "new_job.ofqual.add(*ofqual)\n",
    "\n",
    "new_job.save()"
   ]
  },
  {
   "cell_type": "code",
   "execution_count": 23,
   "metadata": {},
   "outputs": [
    {
     "data": {
      "text/plain": [
       "'The role is responsible for overseeing all aspects of the Ethics & Compliance (E&C) Programme, ensuring that standards, policies, and guidance documents are effectively created, maintained, and communicated. \\nThis includes managing critical compliance functions such as Speak Up, Our Code, and the Conflict and Gifts & Hospitality registers, while driving awareness and ethical culture across the organization.'"
      ]
     },
     "execution_count": 23,
     "metadata": {},
     "output_type": "execute_result"
    }
   ],
   "source": [
    "new_job.description"
   ]
  }
 ],
 "metadata": {
  "kernelspec": {
   "display_name": "Python 3",
   "language": "python",
   "name": "python3"
  },
  "language_info": {
   "codemirror_mode": {
    "name": "ipython",
    "version": 3
   },
   "file_extension": ".py",
   "mimetype": "text/x-python",
   "name": "python",
   "nbconvert_exporter": "python",
   "pygments_lexer": "ipython3",
   "version": "3.11.4"
  }
 },
 "nbformat": 4,
 "nbformat_minor": 2
}
