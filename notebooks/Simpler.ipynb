{
 "cells": [
  {
   "cell_type": "code",
   "execution_count": 1,
   "id": "882f121f-8b5a-43d0-b3d5-5e55356c82ea",
   "metadata": {},
   "outputs": [],
   "source": [
    "import os\n",
    "git_dir = os.path.dirname(os.getcwd())\n",
    "project_dir = os.path.join(git_dir,'zavmo')\n",
    "os.chdir(project_dir)"
   ]
  },
  {
   "cell_type": "code",
   "execution_count": 2,
   "id": "fd0a7b21-a0c6-49f0-9870-a83886bad808",
   "metadata": {},
   "outputs": [
    {
     "data": {
      "text/plain": [
       "True"
      ]
     },
     "execution_count": 2,
     "metadata": {},
     "output_type": "execute_result"
    }
   ],
   "source": [
    "from dotenv import load_dotenv\n",
    "load_dotenv(override=True)"
   ]
  },
  {
   "cell_type": "code",
   "execution_count": 7,
   "id": "bf490160-64e7-4d94-bcb3-3d1e89172311",
   "metadata": {},
   "outputs": [],
   "source": [
    "from IPython.display import Markdown\n",
    "import openai\n",
    "from openai import OpenAI\n",
    "from helpers.functions import create_pydantic_model, get_yaml_data, create_system_message\n",
    "openai_client = OpenAI(api_key=os.getenv(\"OPENAI_API_KEY\"))"
   ]
  },
  {
   "cell_type": "code",
   "execution_count": 8,
   "id": "46ce3eab-2034-47ac-a482-294ab218868d",
   "metadata": {},
   "outputs": [],
   "source": [
    "stage_config   = get_yaml_data('profile')\n",
    "system_message_probe   = create_system_message('profile',stage_config,'probe')\n",
    "system_message_extract = create_system_message('profile',stage_config,'extract')"
   ]
  },
  {
   "cell_type": "code",
   "execution_count": 195,
   "id": "dd0784ee-3737-40e5-9b5e-cf17ad993eb2",
   "metadata": {
    "scrolled": true
   },
   "outputs": [],
   "source": [
    "system_content = \"\"\"You are Zavmo, a highly interactive, supportive, and engaging AI assistant to help users learn and grow. Zavmo uses a 4-step learning process to help users learn and grow. The 4 Ds are Discover, Discuss, Deliver, and Demonstrate.\n",
    "\n",
    "Before starting, you will need to know the user's profile details, this is the Profile Stage.\n",
    "\n",
    "# Guidelines\n",
    "\n",
    "- Friendly Engagement: Zavmo should adopt a warm, encouraging, and adaptable tone that reflects the user’s preferences and energy level, enhancing the enjoyment and reward of the learning experience.\n",
    "\n",
    "- Structured Process: Guide users through a 4-step learning process: Discover, Discuss, Deliver, and Demonstrate. This structured path keeps users oriented, with Zavmo ensuring smooth transitions between these stages.\n",
    "\n",
    "- Personalization: Tailor communication to individual user preferences, using their name and emojis to make the conversation more engaging and relatable.\n",
    "\n",
    "- Motivation & Feedback: Reinforce user motivation with XP gains, fun phrases, emojis, and frequent praise. Track and celebrate user progress consistently to maintain engagement.\n",
    "\n",
    "- Interaction Design: Engage users with well-paced interactions by asking one question at a time, encouraging them to think and respond.\n",
    "\n",
    "- Emotional Sensitivity: Respond to emotional cues, adjusting pace and tone for increased support or to match user excitement. For neurodiverse users, slow down, provide double spacing, and offer extra encouragement.\n",
    "\n",
    "\n",
    "The learner is currently in the **Profile** stage. \n",
    "\n",
    "Here is a list of instructions for each attribue that we need to probe the learner for in the current stage:\n",
    "\n",
    "**first_name**: The first name of the user, often used to address them directly, e.g., 'Diana' or 'John'.\n",
    "**last_name**:  The last name of the user, used to address them more formally or as part of their full name.\n",
    "**age**:  The age of the user.\n",
    "**edu_level**: The education level of the user, represented by a number  (1 for Primary School, 2 for Middle School, 3 for High School,  4 for Associate Degree, 5 for Bachelor's Degree, 6 for Master's Degree, 7 for PhD).\n",
    "**current_role**: The current occupation or role of the user, indicating their professional or educational status,  e.g., 'Engineer', 'Teacher', 'Student', 'Doctor', 'Lawyer', 'Businessman', 'Artist', 'Musician',  'Writer', 'Scientist', 'Politician', 'Other'\n",
    "\n",
    "You need to simultaneously talk to the learner, and also send notes to your assistant.\n",
    "    - message: A personalized message to the user, probing for the attribute.\n",
    "    - assistant:\n",
    "        - note: A brief note instructing your assistant to take an action.\n",
    "        - action: Must be one of `do_nothing` (if no new information has been presented), `update` (if new information is available), and `confirmed` (instruct the assistant that the conversation is complete so that the assistant can finalize)\n",
    "        \n",
    "\"\"\""
   ]
  },
  {
   "cell_type": "code",
   "execution_count": 196,
   "id": "f6147c6a-3d00-4f73-902d-61c8b1b328cc",
   "metadata": {},
   "outputs": [],
   "source": [
    "from enum import Enum\n",
    "from typing import List\n",
    "from pydantic import BaseModel, Field\n",
    "from helpers.chat import force_tool_call"
   ]
  },
  {
   "cell_type": "code",
   "execution_count": 197,
   "id": "687a5892-a1be-45f3-8f42-dfb2f3390aaf",
   "metadata": {},
   "outputs": [],
   "source": [
    "system_message = {'role':\"system\",'content':system_content}"
   ]
  },
  {
   "cell_type": "code",
   "execution_count": 177,
   "id": "fd84454b-a220-4061-ba93-dc20be5d4170",
   "metadata": {},
   "outputs": [],
   "source": [
    "user_content = \"My name is Aditya Chhabra, I'm 28 years old, I have a Master's degree in Economics and I am a data scientist.\""
   ]
  },
  {
   "cell_type": "code",
   "execution_count": 178,
   "id": "a565841c-ea9e-41d8-bf55-a237e4b493cd",
   "metadata": {},
   "outputs": [],
   "source": [
    "user_message = {\"role\":\"user\",\"content\":user_content}"
   ]
  },
  {
   "cell_type": "code",
   "execution_count": 198,
   "id": "1c24f43e-62be-4bbf-a691-c6f3299129f6",
   "metadata": {},
   "outputs": [],
   "source": [
    "messages = [system_message,\n",
    "            user_message\n",
    "           ]"
   ]
  },
  {
   "cell_type": "code",
   "execution_count": 199,
   "id": "d73916ac-4982-4d3a-a57b-780ab6d7e606",
   "metadata": {},
   "outputs": [],
   "source": [
    "class action(str,Enum):\n",
    "    do_nothing = 'do_nothing'\n",
    "    update     = 'update'\n",
    "    confirmed  = 'confirmed'\n",
    "    \n",
    "class assistant_note(BaseModel):\n",
    "    note: str = Field(description='A short note for the assistant for context')\n",
    "    action: action\n",
    "\n",
    "class Response(BaseModel):\n",
    "    message: str = Field(description='The personalized message to send to the learner.')\n",
    "    assistant_note: assistant_note"
   ]
  },
  {
   "cell_type": "code",
   "execution_count": 206,
   "id": "9bff395d-e97e-4e9f-8ae4-13d3fbf50fb4",
   "metadata": {},
   "outputs": [],
   "source": [
    "from helpers.chat import summarize_stage_data, make_structured_call,summarize_history"
   ]
  },
  {
   "cell_type": "code",
   "execution_count": 201,
   "id": "70bf3f9b-30ef-4b3f-89ec-d6cf94eb4686",
   "metadata": {},
   "outputs": [],
   "source": [
    "from helpers.functions import *"
   ]
  },
  {
   "cell_type": "code",
   "execution_count": 189,
   "id": "fdd86995-24a1-444d-a2a7-a41d264c6315",
   "metadata": {},
   "outputs": [],
   "source": [
    "messages.append({\"role\":\"assistant\",\"content\":response.message})\n",
    "messages.append({\"role\":\"user\",\"content\":\"Yes sounds good\"})           "
   ]
  },
  {
   "cell_type": "code",
   "execution_count": 202,
   "id": "d5fa9a95-001f-467b-ba2b-46633883906a",
   "metadata": {},
   "outputs": [],
   "source": [
    "response = make_structured_call(Response, messages=messages,model='gpt-4o')"
   ]
  },
  {
   "cell_type": "code",
   "execution_count": null,
   "id": "776bcf34-70c9-4017-b222-e06c26c51b36",
   "metadata": {},
   "outputs": [],
   "source": []
  },
  {
   "cell_type": "code",
   "execution_count": null,
   "id": "addc90c5-5c0f-4c8a-a553-667d17396b7c",
   "metadata": {},
   "outputs": [],
   "source": []
  },
  {
   "cell_type": "code",
   "execution_count": 151,
   "id": "112c9a56-2dbe-4ee7-8166-c5e4611d494e",
   "metadata": {},
   "outputs": [],
   "source": [
    "if response.action.value=='talk':\n",
    "    result = force_tool_call(Talk, messages=messages,model='gpt-4o',tool_choice='required',parallel_tool_calls=False)    \n",
    "    "
   ]
  },
  {
   "cell_type": "code",
   "execution_count": 124,
   "id": "48f44bac-4008-4c10-a064-8e77fb4e9167",
   "metadata": {},
   "outputs": [],
   "source": [
    "profile_summary = summarize_stage_data(result.dict(),stage_name)"
   ]
  },
  {
   "cell_type": "code",
   "execution_count": 125,
   "id": "107e768b-bf08-4a62-bc24-1d5ca4d6c756",
   "metadata": {},
   "outputs": [
    {
     "data": {
      "text/plain": [
       "'**Profile**\\n\\n**first_name**: Aditya\\n**last_name**: Chhabra\\n**age**: 28\\n**edu_level**: 6\\n**current_role**: Data Scientist'"
      ]
     },
     "execution_count": 125,
     "metadata": {},
     "output_type": "execute_result"
    }
   ],
   "source": [
    "profile_summary"
   ]
  },
  {
   "cell_type": "code",
   "execution_count": 133,
   "id": "edcb6795-cd9c-4ba2-80cf-0afa2be3af62",
   "metadata": {},
   "outputs": [],
   "source": [
    "user_content = f\"\"\"Learner's input: {user_content}\n",
    "\n",
    "**{response.action.value}**: {response.reason}\n",
    "\n",
    "{profile_summary}\n",
    "\"\"\""
   ]
  },
  {
   "cell_type": "code",
   "execution_count": 135,
   "id": "197c58aa-1a37-414e-9bcc-24ac537fc2f4",
   "metadata": {},
   "outputs": [],
   "source": [
    "response = force_tool_call(ActionReason, messages=messages,model='gpt-4o',tool_choice='required',parallel_tool_calls=True)"
   ]
  },
  {
   "cell_type": "code",
   "execution_count": 136,
   "id": "16f92d46-2577-4044-923d-b5d73908f2a9",
   "metadata": {},
   "outputs": [
    {
     "data": {
      "text/plain": [
       "ActionReason(reason='The user has provided all the required profile details in one statement, so I will summarize this information for review and confirmation.', action=<action.summarize: 'summarize'>)"
      ]
     },
     "execution_count": 136,
     "metadata": {},
     "output_type": "execute_result"
    }
   ],
   "source": [
    "response."
   ]
  },
  {
   "cell_type": "code",
   "execution_count": null,
   "id": "e15af85e-2784-412c-877e-8f9ce7ac3eb3",
   "metadata": {},
   "outputs": [],
   "source": []
  },
  {
   "cell_type": "code",
   "execution_count": 41,
   "id": "9109dbb3-a4ba-49c4-a559-305dc1da5a1e",
   "metadata": {},
   "outputs": [],
   "source": [
    "response = openai_client.chat.completions.create(\n",
    "                                      model='gpt-4o-mini',\n",
    "                                        messages=messages,\n",
    "                                      tools=[openai.pydantic_function_tool(tool) for tool in tools],\n",
    "                                      tool_choice='required',\n",
    "                                      parallel_tool_calls=False\n",
    "                                     )"
   ]
  },
  {
   "cell_type": "code",
   "execution_count": 48,
   "id": "53fc7b83-c2c3-4337-ac9a-518c0c0020c9",
   "metadata": {},
   "outputs": [
    {
     "data": {
      "text/plain": [
       "[ChatCompletionMessageToolCall(id='call_FYBAdf7hk7mQSwkp8Fmlo6vs', function=Function(arguments='{\"attribute\":\"first_name\",\"message\":\"Hi there! 😊 I\\'d love to get to know you better. What\\'s your first name?\"}', name='probe'), type='function')]"
      ]
     },
     "execution_count": 48,
     "metadata": {},
     "output_type": "execute_result"
    }
   ],
   "source": [
    "response.choices[0].message.tool_calls"
   ]
  },
  {
   "cell_type": "code",
   "execution_count": null,
   "id": "0c9a1499-e52f-40b0-a2c5-981785c0812d",
   "metadata": {},
   "outputs": [],
   "source": []
  },
  {
   "cell_type": "code",
   "execution_count": null,
   "id": "3ca818ec-aceb-475c-b6bb-ae7e2a9e23ec",
   "metadata": {},
   "outputs": [],
   "source": []
  },
  {
   "cell_type": "code",
   "execution_count": null,
   "id": "448cf594-4872-4904-b572-969a2a7de0e4",
   "metadata": {},
   "outputs": [],
   "source": []
  },
  {
   "cell_type": "code",
   "execution_count": null,
   "id": "49f8ec44-ff77-4f81-84fd-3111df87ff2d",
   "metadata": {},
   "outputs": [],
   "source": []
  },
  {
   "cell_type": "code",
   "execution_count": null,
   "id": "cedf4a70-a2d2-490b-8149-9951e51825f7",
   "metadata": {},
   "outputs": [],
   "source": []
  },
  {
   "cell_type": "code",
   "execution_count": null,
   "id": "f71da50c-5b1a-48aa-8eca-97bd112b87d0",
   "metadata": {},
   "outputs": [],
   "source": []
  },
  {
   "cell_type": "code",
   "execution_count": null,
   "id": "b05197a9-2a1c-4a64-896a-81f2b0d02054",
   "metadata": {},
   "outputs": [],
   "source": []
  }
 ],
 "metadata": {
  "kernelspec": {
   "display_name": "Python 3 (ipykernel)",
   "language": "python",
   "name": "python3"
  },
  "language_info": {
   "codemirror_mode": {
    "name": "ipython",
    "version": 3
   },
   "file_extension": ".py",
   "mimetype": "text/x-python",
   "name": "python",
   "nbconvert_exporter": "python",
   "pygments_lexer": "ipython3",
   "version": "3.11.9"
  },
  "widgets": {
   "application/vnd.jupyter.widget-state+json": {
    "state": {},
    "version_major": 2,
    "version_minor": 0
   }
  }
 },
 "nbformat": 4,
 "nbformat_minor": 5
}
