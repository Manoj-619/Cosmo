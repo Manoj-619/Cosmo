{
 "cells": [
  {
   "cell_type": "code",
   "execution_count": 8,
   "metadata": {},
   "outputs": [],
   "source": [
    "import requests\n",
    "from datetime import datetime\n",
    "import logging\n",
    "\n",
    "logger = logging.getLogger(__name__)\n"
   ]
  },
  {
   "cell_type": "code",
   "execution_count": null,
   "metadata": {},
   "outputs": [],
   "source": []
  },
  {
   "cell_type": "code",
   "execution_count": 2,
   "metadata": {},
   "outputs": [
    {
     "name": "stderr",
     "output_type": "stream",
     "text": [
      "C:\\Users\\amith\\AppData\\Local\\Temp\\ipykernel_17744\\1173132649.py:15: DeprecationWarning: datetime.datetime.utcnow() is deprecated and scheduled for removal in a future version. Use timezone-aware objects to represent datetimes in UTC: datetime.datetime.now(datetime.UTC).\n",
      "  \"completionDate\": datetime.utcnow().strftime('%Y-%m-%dT%H:%M:%SZ')\n"
     ]
    }
   ],
   "source": [
    "url = 'https://learninglocker.zavmo.ai/v1/statements/curriculumCompletion'\n",
    "headers = {\n",
    "    'Content-Type': 'application/json'\n",
    "}\n",
    "data = {\n",
    "    \"actor\": {\n",
    "        \"name\": \"chandler B\",\n",
    "        \"email\": \"chandler@zavmo.ai\"\n",
    "    },\n",
    "    \"curriculum\":{\n",
    "        \"title\": \"Curriculum 1\"\n",
    "    },\n",
    "    \"completionData\":{\n",
    "        \"success\": True,\n",
    "        \"completionDate\": datetime.utcnow().strftime('%Y-%m-%dT%H:%M:%SZ')\n",
    "    }\n",
    "\n",
    "}\n",
    "response = requests.post(url, headers=headers, json=data)\n",
    "logger.info(response.text)\n"
   ]
  },
  {
   "cell_type": "code",
   "execution_count": 9,
   "metadata": {},
   "outputs": [],
   "source": [
    "assessment_data = {\n",
    "    \"question\": \"What is the capital of France?\",\n",
    "    \"answer\": \"Paris\",\n",
    "    \"evaluation\": \"Correct\"\n",
    "}\n"
   ]
  },
  {
   "cell_type": "code",
   "execution_count": 10,
   "metadata": {},
   "outputs": [
    {
     "name": "stdout",
     "output_type": "stream",
     "text": [
      "200\n",
      "{\"message\":\"Assessment evaluation statement stored successfully\",\"data\":[\"de4f5a09-a4f5-4749-a4e4-a940c92c5356\"]}\n"
     ]
    }
   ],
   "source": [
    "url = 'https://learninglocker.zavmo.ai/v1/statements/assessment'\n",
    "headers = {\n",
    "    'Content-Type': 'application/json',\n",
    "}\n",
    "data = {\n",
    "    \"actor\": {\n",
    "        \"name\": \" Joey Tribiani\",\n",
    "        \"email\": \"joey@zavmo.ai\"\n",
    "    },\n",
    "    \"assessment\": {\n",
    "        \"evaluations\": [assessment_data],\n",
    "    }\n",
    "}\n",
    "response = requests.post(url, headers=headers, json=data)\n",
    "print(response.status_code)\n",
    "print(response.text)\n"
   ]
  },
  {
   "cell_type": "code",
   "execution_count": null,
   "metadata": {},
   "outputs": [],
   "source": []
  },
  {
   "cell_type": "code",
   "execution_count": 19,
   "metadata": {},
   "outputs": [],
   "source": [
    "feedback_data = \"This is a test feedback\""
   ]
  },
  {
   "cell_type": "code",
   "execution_count": 20,
   "metadata": {},
   "outputs": [],
   "source": [
    "url = 'https://learninglocker.zavmo.ai/v1/statements/feedback'\n",
    "headers = {\n",
    "    'Content-Type': 'application/json'\n",
    "}\n",
    "data = {\n",
    "    \"actor\": {\n",
    "        \"name\": \"chandler B\",\n",
    "        \"email\": \"chandler@zavmo.ai\"\n",
    "    },\n",
    "    \"feedback\": {\n",
    "        \"text\": feedback_data\n",
    "    }\n",
    "}\n",
    "response = requests.post(url, headers=headers, json=data)\n",
    "logger.info(response.text)\n"
   ]
  },
  {
   "cell_type": "code",
   "execution_count": 21,
   "metadata": {},
   "outputs": [
    {
     "name": "stdout",
     "output_type": "stream",
     "text": [
      "200\n",
      "{\"message\":\"Feedback statement stored successfully\",\"data\":[\"346edbca-b062-4a50-b435-72460fc45ae4\"]}\n"
     ]
    }
   ],
   "source": [
    "print(response.status_code)\n",
    "print(response.text)"
   ]
  },
  {
   "cell_type": "code",
   "execution_count": 3,
   "metadata": {},
   "outputs": [],
   "source": [
    "name=\"maximus decimus meridius\"\n",
    "email=\"maximus@gmail.com\""
   ]
  },
  {
   "cell_type": "code",
   "execution_count": 7,
   "metadata": {},
   "outputs": [
    {
     "ename": "TypeError",
     "evalue": "unhashable type: 'dict'",
     "output_type": "error",
     "traceback": [
      "\u001b[1;31m---------------------------------------------------------------------------\u001b[0m",
      "\u001b[1;31mTypeError\u001b[0m                                 Traceback (most recent call last)",
      "Cell \u001b[1;32mIn[7], line 1\u001b[0m\n\u001b[1;32m----> 1\u001b[0m in_progress_assessment\u001b[38;5;241m=\u001b[39m {\n\u001b[0;32m      2\u001b[0m \t{\n\u001b[0;32m      3\u001b[0m \t\t\u001b[38;5;124m\"\u001b[39m\u001b[38;5;124massessment_area\u001b[39m\u001b[38;5;124m\"\u001b[39m: \u001b[38;5;124m\"\u001b[39m\u001b[38;5;124mEngage stakeholders in implementing change.\u001b[39m\u001b[38;5;124m\"\u001b[39m,\n\u001b[0;32m      4\u001b[0m \t\t\u001b[38;5;124m\"\u001b[39m\u001b[38;5;124mstatus\u001b[39m\u001b[38;5;124m\"\u001b[39m: \u001b[38;5;124m\"\u001b[39m\u001b[38;5;124mInprogress\u001b[39m\u001b[38;5;124m\"\u001b[39m,\n\u001b[0;32m      5\u001b[0m  \t\t\u001b[38;5;124m\"\u001b[39m\u001b[38;5;124mnos_id\u001b[39m\u001b[38;5;124m\"\u001b[39m: \u001b[38;5;124m\"\u001b[39m\u001b[38;5;124mINSML017\u001b[39m\u001b[38;5;124m\"\u001b[39m\n\u001b[0;32m      6\u001b[0m \t},\n\u001b[0;32m      7\u001b[0m \t\t{\n\u001b[0;32m      8\u001b[0m \t\t\u001b[38;5;124m\"\u001b[39m\u001b[38;5;124massessment_area\u001b[39m\u001b[38;5;124m\"\u001b[39m: \u001b[38;5;124m\"\u001b[39m\u001b[38;5;124mEngage stakeholders in implementing change.\u001b[39m\u001b[38;5;124m\"\u001b[39m,\n\u001b[0;32m      9\u001b[0m \t\t\u001b[38;5;124m\"\u001b[39m\u001b[38;5;124mstatus\u001b[39m\u001b[38;5;124m\"\u001b[39m: \u001b[38;5;124m\"\u001b[39m\u001b[38;5;124mTo assess\u001b[39m\u001b[38;5;124m\"\u001b[39m,\n\u001b[0;32m     10\u001b[0m  \t\t\u001b[38;5;124m\"\u001b[39m\u001b[38;5;124mnos_id\u001b[39m\u001b[38;5;124m\"\u001b[39m: \u001b[38;5;124m\"\u001b[39m\u001b[38;5;124mINSML017\u001b[39m\u001b[38;5;124m\"\u001b[39m\n\u001b[0;32m     11\u001b[0m \t},\n\u001b[0;32m     12\u001b[0m \t{\n\u001b[0;32m     13\u001b[0m \t\t\u001b[38;5;124m\"\u001b[39m\u001b[38;5;124massessment_area\u001b[39m\u001b[38;5;124m\"\u001b[39m: \u001b[38;5;124m\"\u001b[39m\u001b[38;5;124mEngage stakeholders in implementing change.\u001b[39m\u001b[38;5;124m\"\u001b[39m,\n\u001b[0;32m     14\u001b[0m \t\t\u001b[38;5;124m\"\u001b[39m\u001b[38;5;124mstatus\u001b[39m\u001b[38;5;124m\"\u001b[39m: \u001b[38;5;124m\"\u001b[39m\u001b[38;5;124mTo assess\u001b[39m\u001b[38;5;124m\"\u001b[39m,\n\u001b[0;32m     15\u001b[0m  \t\t\u001b[38;5;124m\"\u001b[39m\u001b[38;5;124mnos_id\u001b[39m\u001b[38;5;124m\"\u001b[39m: \u001b[38;5;124m\"\u001b[39m\u001b[38;5;124mINSML017\u001b[39m\u001b[38;5;124m\"\u001b[39m\n\u001b[0;32m     16\u001b[0m \t}\n\u001b[0;32m     17\u001b[0m \n\u001b[0;32m     18\u001b[0m }\n",
      "\u001b[1;31mTypeError\u001b[0m: unhashable type: 'dict'"
     ]
    }
   ],
   "source": [
    "in_progress_assessment= {\n",
    "\t{\n",
    "\t\t\"assessment_area\": \"Engage stakeholders in implementing change.\",\n",
    "\t\t\"status\": \"Inprogress\",\n",
    " \t\t\"nos_id\": \"INSML017\"\n",
    "\t},\n",
    "\t\t{\n",
    "\t\t\"assessment_area\": \"Engage stakeholders in implementing change.\",\n",
    "\t\t\"status\": \"To assess\",\n",
    " \t\t\"nos_id\": \"INSML017\"\n",
    "\t},\n",
    "\t{\n",
    "\t\t\"assessment_area\": \"Engage stakeholders in implementing change.\",\n",
    "\t\t\"status\": \"To assess\",\n",
    " \t\t\"nos_id\": \"INSML017\"\n",
    "\t}\n",
    "\n",
    "}"
   ]
  },
  {
   "cell_type": "code",
   "execution_count": 8,
   "metadata": {},
   "outputs": [
    {
     "ename": "AttributeError",
     "evalue": "'list' object has no attribute 'get'",
     "output_type": "error",
     "traceback": [
      "\u001b[1;31m---------------------------------------------------------------------------\u001b[0m",
      "\u001b[1;31mAttributeError\u001b[0m                            Traceback (most recent call last)",
      "Cell \u001b[1;32mIn[8], line 6\u001b[0m\n\u001b[0;32m      1\u001b[0m \u001b[38;5;28;01mimport\u001b[39;00m\u001b[38;5;250m \u001b[39m\u001b[38;5;21;01mrequests\u001b[39;00m\n\u001b[0;32m      3\u001b[0m \u001b[38;5;66;03m# Data for the \"In Progress\" API request\u001b[39;00m\n\u001b[0;32m      4\u001b[0m in_progress_payload \u001b[38;5;241m=\u001b[39m {\n\u001b[0;32m      5\u001b[0m     \u001b[38;5;124m\"\u001b[39m\u001b[38;5;124mtna\u001b[39m\u001b[38;5;124m\"\u001b[39m: {\n\u001b[1;32m----> 6\u001b[0m         \u001b[38;5;124m\"\u001b[39m\u001b[38;5;124massessment_area\u001b[39m\u001b[38;5;124m\"\u001b[39m: \u001b[43min_progress_assessment\u001b[49m\u001b[38;5;241;43m.\u001b[39;49m\u001b[43mget\u001b[49m(\u001b[38;5;124m\"\u001b[39m\u001b[38;5;124massessment_area\u001b[39m\u001b[38;5;124m\"\u001b[39m, \u001b[38;5;124m\"\u001b[39m\u001b[38;5;124mN/A\u001b[39m\u001b[38;5;124m\"\u001b[39m),\n\u001b[0;32m      7\u001b[0m         \u001b[38;5;124m\"\u001b[39m\u001b[38;5;124mstatus\u001b[39m\u001b[38;5;124m\"\u001b[39m: in_progress_assessment\u001b[38;5;241m.\u001b[39mget(\u001b[38;5;124m\"\u001b[39m\u001b[38;5;124mstatus\u001b[39m\u001b[38;5;124m\"\u001b[39m, \u001b[38;5;124m\"\u001b[39m\u001b[38;5;124mN/A\u001b[39m\u001b[38;5;124m\"\u001b[39m),\n\u001b[0;32m      8\u001b[0m         \u001b[38;5;124m\"\u001b[39m\u001b[38;5;124mnos_id\u001b[39m\u001b[38;5;124m\"\u001b[39m: in_progress_assessment\u001b[38;5;241m.\u001b[39mget(\u001b[38;5;124m\"\u001b[39m\u001b[38;5;124mnos_id\u001b[39m\u001b[38;5;124m\"\u001b[39m, \u001b[38;5;124m\"\u001b[39m\u001b[38;5;124mN/A\u001b[39m\u001b[38;5;124m\"\u001b[39m),\n\u001b[0;32m      9\u001b[0m     },\n\u001b[0;32m     10\u001b[0m     \u001b[38;5;124m\"\u001b[39m\u001b[38;5;124mactor\u001b[39m\u001b[38;5;124m\"\u001b[39m: {\n\u001b[0;32m     11\u001b[0m         \u001b[38;5;124m\"\u001b[39m\u001b[38;5;124mname\u001b[39m\u001b[38;5;124m\"\u001b[39m: name,\n\u001b[0;32m     12\u001b[0m         \u001b[38;5;124m\"\u001b[39m\u001b[38;5;124memail\u001b[39m\u001b[38;5;124m\"\u001b[39m: email\n\u001b[0;32m     13\u001b[0m     }\n\u001b[0;32m     14\u001b[0m }\n\u001b[0;32m     16\u001b[0m \u001b[38;5;66;03m# Headers\u001b[39;00m\n\u001b[0;32m     17\u001b[0m headers \u001b[38;5;241m=\u001b[39m {\n\u001b[0;32m     18\u001b[0m     \u001b[38;5;124m\"\u001b[39m\u001b[38;5;124mContent-Type\u001b[39m\u001b[38;5;124m\"\u001b[39m: \u001b[38;5;124m\"\u001b[39m\u001b[38;5;124mapplication/json\u001b[39m\u001b[38;5;124m\"\u001b[39m\n\u001b[0;32m     19\u001b[0m }\n",
      "\u001b[1;31mAttributeError\u001b[0m: 'list' object has no attribute 'get'"
     ]
    }
   ],
   "source": [
    "import requests\n",
    "\n",
    "# Data for the \"In Progress\" API request\n",
    "in_progress_payload = {\n",
    "    \"tna\": {\n",
    "        \"assessment_area\": in_progress_assessment.get(\"assessment_area\", \"N/A\"),\n",
    "        \"status\": in_progress_assessment.get(\"status\", \"N/A\"),\n",
    "        \"nos_id\": in_progress_assessment.get(\"nos_id\", \"N/A\"),\n",
    "    },\n",
    "    \"actor\": {\n",
    "        \"name\": name,\n",
    "        \"email\": email\n",
    "    }\n",
    "}\n",
    "\n",
    "# Headers\n",
    "headers = {\n",
    "    \"Content-Type\": \"application/json\"\n",
    "}\n",
    "\n",
    "# Send POST request using requests\n",
    "try:\n",
    "    response = requests.post(\"https://lrs.centrica.zavmo.ai/v1/statements/tna-start\", \n",
    "                             json=in_progress_payload, headers=headers)\n",
    "    response.raise_for_status()  # Raise an exception for 4xx/5xx responses\n",
    "    # Handle successful response\n",
    "    print(\"In Progress Response:\", response.json())\n",
    "except requests.RequestException as e:\n",
    "    print(\"Error sending 'In Progress' request:\", str(e))\n"
   ]
  },
  {
   "cell_type": "code",
   "execution_count": null,
   "metadata": {},
   "outputs": [],
   "source": []
  }
 ],
 "metadata": {
  "kernelspec": {
   "display_name": "zavevn",
   "language": "python",
   "name": "python3"
  },
  "language_info": {
   "codemirror_mode": {
    "name": "ipython",
    "version": 3
   },
   "file_extension": ".py",
   "mimetype": "text/x-python",
   "name": "python",
   "nbconvert_exporter": "python",
   "pygments_lexer": "ipython3",
   "version": "3.13.1"
  }
 },
 "nbformat": 4,
 "nbformat_minor": 2
}
