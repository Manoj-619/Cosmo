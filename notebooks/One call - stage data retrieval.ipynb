{
 "cells": [
  {
   "cell_type": "code",
   "execution_count": 1,
   "metadata": {},
   "outputs": [],
   "source": [
    "import os\n",
    "git_dir = os.path.dirname(os.getcwd())\n",
    "project_dir = os.path.join(git_dir,'zavmo')\n",
    "os.chdir(project_dir)"
   ]
  },
  {
   "cell_type": "code",
   "execution_count": 2,
   "metadata": {},
   "outputs": [],
   "source": [
    "from IPython.display import Markdown\n",
    "import json\n",
    "\n",
    "from helpers.functions import *\n",
    "from helpers.chat import *"
   ]
  },
  {
   "cell_type": "code",
   "execution_count": 3,
   "metadata": {},
   "outputs": [],
   "source": [
    "profile_summary = \"\"\"\n",
    "Name: Mumtaz\n",
    "Occupation: Junior Software Engineer\n",
    "\n",
    "As a Junior Software Engineer, I am passionate about leveraging technology to solve complex problems and improve user experiences. I have a strong foundation in software development principles and a keen interest in expanding my knowledge and skills in various domains.\n",
    "\n",
    "Learning Interests:\n",
    "I am particularly interested in the following areas:\n",
    "\n",
    "Statistics: Understanding data analysis techniques to derive meaningful insights.\n",
    "Machine Learning (ML): Exploring algorithms and models that enable systems to learn from data.\n",
    "Artificial Intelligence (AI): Delving into intelligent systems that mimic human behavior and decision-making.\n",
    "Large Language Models (LLMs): Investigating advanced language processing technologies to enhance natural language understanding and generation.\n",
    "I am eager to further develop my expertise in these fields and apply them to real-world applications, contributing to innovative projects and technologies.\"\"\""
   ]
  },
  {
   "cell_type": "code",
   "execution_count": 4,
   "metadata": {},
   "outputs": [],
   "source": [
    "stage_name = \"discuss\""
   ]
  },
  {
   "cell_type": "code",
   "execution_count": 5,
   "metadata": {},
   "outputs": [],
   "source": [
    "stage_config = get_yaml_data(stage_name)"
   ]
  },
  {
   "cell_type": "code",
   "execution_count": 6,
   "metadata": {},
   "outputs": [],
   "source": [
    "extract_system_message = create_system_message(stage_name, stage_config, mode='extract')\n",
    "inital_user_message    = {\"role\":\"user\",\"content\": f\"Hey sharing my summary here. {profile_summary}\"}"
   ]
  },
  {
   "cell_type": "code",
   "execution_count": 7,
   "metadata": {},
   "outputs": [
    {
     "data": {
      "text/plain": [
       "['interest_areas', 'learning_style', 'modules', 'timeline', 'goals_alignment']"
      ]
     },
     "execution_count": 7,
     "metadata": {},
     "output_type": "execute_result"
    }
   ],
   "source": [
    "required_fields = [f['title'] for f in stage_config['fields']]\n",
    "required_fields"
   ]
  },
  {
   "cell_type": "code",
   "execution_count": 16,
   "metadata": {},
   "outputs": [
    {
     "data": {
      "text/plain": [
       "[{'role': 'system',\n",
       "  'content': 'You are an highly attentive assistant to Zavmo - a conversational AI assistant.\\n\\nZavmo will probe a learner for their profile details through a series of engaging and interactive questions. The learner will answer these questions to the best of their ability. \\n\\nYour job is to extract the information from the learner\\'s answers, and build a profile for them, and present it to Zavmo. You will also guide Zavmo about what questions to ask next, or what actions to take.\\n\\nAt each interaction, you will be provided with the information we currently have about the learner, and the information that\\'s still missing.\\n\\nYour task is to extract the information from the learner\\'s answers, and build a profile for them, and present it to Zavmo. You will also guide Zavmo about what actions to take next.\\n\\n### Conversation Flow\\n\\nLet\\'s approach this step by step:\\n\\n- First, review the information we currently have about the learner, and the information that\\'s missing. You will be provided with a summary of information we have for the learner, and the information that\\'s still missing. With this information, evaluate the learner\\'s response to Zavmo\\'s question.\\n\\n- Next, If the learner responds with information that\\'s relevant to some of the missing attributes, list down the new attributes that we can extract from the learner\\'s response.\\n\\n- If the learner\\'s response is not relevant to any of the missing attributes, you should create a list with just \"none\".\\n\\n- Finally, once you have a list of new attributes to extract, you will be provided with the appropriate schema for the attributes. Extract the information from the learner\\'s response, and return it to Zavmo.\\n\\n\\n## On Completing the Stage\\n\\nThe stage is complete when all the fields are filled. When we have collected all the fields for the stage, the stage can be marked as complete, once the learner verifies the details you have collected.\\n\\n- You should provide the details to Zavmo and ask Zavmo to present it to the learner so that they can verify the details.\\n\\nIf the learner verifies the details, you should ask Zavmo to finish the stage and provide a confirmation and encouragement to proceed to the next stage.\\n\\nIf the learner does not verify the details, you should ask Zavmo to present the learner with the details and ask them for corrections.\\n\\nThe learner is currently in the **Discuss** stage. \\n\\nHere is a list of instructions for each attribue that we need to probe the learner for in the current stage:\\n\\n**interest_areas**\\n\\nSpecific areas of interest the learner wants to focus on.\\n\\n> Examples of learner responses and what we are extracting:\\n- I\\'m particularly interested in data visualization > interest_areas=\\'Data visualization\\'\\n- Machine learning fascinates me > interest_areas=\\'Machine learning\\'\\n\\n\\n\\n**learning_style**\\n\\nThe preferred learning style of the learner (e.g., visual, auditory, kinesthetic).\\n\\n> Examples of learner responses and what we are extracting:\\n- I learn best through hands-on projects > learning_style=\\'Kinesthetic\\'\\n- Watching videos helps me understand better > learning_style=\\'Visual\\'\\n\\n\\n\\n**modules**\\n\\nA list of modules or topics that will be included in the learner\\'s personalized learning plan.\\n\\n\\n> Examples of learner responses and what we are extracting:\\n- Can we add more about data visualization? > modules=\\'Include data visualization module\\'\\n- I\\'d prefer to focus more on advanced topics > modules=\\'Emphasize advanced modules\\'\\n\\n\\n\\n**timeline**\\n\\nPropose a timeline for completing the learning plan.\\n\\n\\n> Examples of learner responses and what we are extracting:\\n- Can we make it shorter? > timeline=\\'Shorter timeline preferred\\'\\n- I\\'d like a more extended timeline > timeline=\\'Longer timeline preferred\\'\\n\\n\\n\\n**goals_alignment**\\n\\nConfirmation that the proposed plan aligns with the learner\\'s goals.\\n\\n> Examples of learner responses and what we are extracting:\\n- I\\'d like to spend less time on theory > goals_alignment=\\'Reduce emphasis on theory\\'\\n\\n\\n'},\n",
       " {'role': 'user',\n",
       "  'content': 'Hey sharing my summary here. \\nName: Mumtaz\\nOccupation: Junior Software Engineer\\n\\nAs a Junior Software Engineer, I am passionate about leveraging technology to solve complex problems and improve user experiences. I have a strong foundation in software development principles and a keen interest in expanding my knowledge and skills in various domains.\\n\\nLearning Interests:\\nI am particularly interested in the following areas:\\n\\nStatistics: Understanding data analysis techniques to derive meaningful insights.\\nMachine Learning (ML): Exploring algorithms and models that enable systems to learn from data.\\nArtificial Intelligence (AI): Delving into intelligent systems that mimic human behavior and decision-making.\\nLarge Language Models (LLMs): Investigating advanced language processing technologies to enhance natural language understanding and generation.\\nI am eager to further develop my expertise in these fields and apply them to real-world applications, contributing to innovative projects and technologies.'}]"
      ]
     },
     "execution_count": 16,
     "metadata": {},
     "output_type": "execute_result"
    }
   ],
   "source": [
    "messages = [extract_system_message,inital_user_message]\n",
    "messages"
   ]
  },
  {
   "cell_type": "code",
   "execution_count": 8,
   "metadata": {},
   "outputs": [],
   "source": [
    "def get_modified_json(curriculum):\n",
    "    markdown_output = \"\"\n",
    "    \n",
    "    for subject in curriculum:\n",
    "        # Add subject name and duration\n",
    "        markdown_output += f\"- **{subject['subject_name']}** - Duration: {subject['duration']}\\n\"\n",
    "        \n",
    "        # Add modules under each subject\n",
    "        markdown_output += \"  - Modules:\\n\"\n",
    "        for module in subject['modules']:\n",
    "            markdown_output += f\"    - {module}\\n\"\n",
    "    \n",
    "    return markdown_output"
   ]
  },
  {
   "cell_type": "code",
   "execution_count": 21,
   "metadata": {},
   "outputs": [],
   "source": [
    "from helpers.tools.discuss import *\n",
    "\n",
    "\n",
    "class DiscussCollector(BaseModel):\n",
    "    interest_areas: GetInterestAreas\n",
    "    learning_style: GetLearningStyle\n",
    "    curriculum: GetCurriculum\n",
    "    timeline: GetTimeline\n",
    "    goals_alignment: GetGoalsAlignment\n",
    "    response: str = Field(description=\"Generate a response to whatever the user responds. Ask the questions step by step and keep the interaction based on instructions given\")\n"
   ]
  },
  {
   "cell_type": "code",
   "execution_count": 26,
   "metadata": {},
   "outputs": [],
   "source": [
    "def get_response_and_fields(response_dict):\n",
    "    # if response_dict['curriculum']['curriculum']:\n",
    "    #     return (f\"Please confirm for the below shared curriculum plan\\n{get_modified_json(response_dict['curriculum']['curriculum'])}\",response_dict) \n",
    "    return (response_dict['response'],response_dict)"
   ]
  },
  {
   "cell_type": "code",
   "execution_count": 31,
   "metadata": {},
   "outputs": [],
   "source": [
    "completion = client.beta.chat.completions.parse(\n",
    "    model=\"gpt-4o-mini\",\n",
    "    messages=messages,\n",
    "    response_format=DiscussCollector,\n",
    ")\n",
    "\n",
    "completion = completion.choices[0].message.parsed \n",
    "response_dict = completion.dict()\n",
    "response,fields = get_response_and_fields(response_dict)"
   ]
  },
  {
   "cell_type": "code",
   "execution_count": 32,
   "metadata": {},
   "outputs": [
    {
     "data": {
      "text/markdown": [
       "Great! Your curriculum plan has been confirmed. Let's move to the next stage."
      ],
      "text/plain": [
       "<IPython.core.display.Markdown object>"
      ]
     },
     "execution_count": 32,
     "metadata": {},
     "output_type": "execute_result"
    }
   ],
   "source": [
    "Markdown(response)"
   ]
  },
  {
   "cell_type": "code",
   "execution_count": 30,
   "metadata": {},
   "outputs": [],
   "source": [
    "messages.extend([{\"role\":\"assistant\",\"content\":response},\n",
    "                {\"role\":\"user\",\"content\":\"Yeah works\"}])   ## enter your input here"
   ]
  },
  {
   "cell_type": "code",
   "execution_count": 12,
   "metadata": {},
   "outputs": [
    {
     "data": {
      "text/plain": [
       "[{'role': 'system',\n",
       "  'content': 'You are an highly attentive assistant to Zavmo - a conversational AI assistant.\\n\\nZavmo will probe a learner for their profile details through a series of engaging and interactive questions. The learner will answer these questions to the best of their ability. \\n\\nYour job is to extract the information from the learner\\'s answers, and build a profile for them, and present it to Zavmo. You will also guide Zavmo about what questions to ask next, or what actions to take.\\n\\nAt each interaction, you will be provided with the information we currently have about the learner, and the information that\\'s still missing.\\n\\nYour task is to extract the information from the learner\\'s answers, and build a profile for them, and present it to Zavmo. You will also guide Zavmo about what actions to take next.\\n\\n### Conversation Flow\\n\\nLet\\'s approach this step by step:\\n\\n- First, review the information we currently have about the learner, and the information that\\'s missing. You will be provided with a summary of information we have for the learner, and the information that\\'s still missing. With this information, evaluate the learner\\'s response to Zavmo\\'s question.\\n\\n- Next, If the learner responds with information that\\'s relevant to some of the missing attributes, list down the new attributes that we can extract from the learner\\'s response.\\n\\n- If the learner\\'s response is not relevant to any of the missing attributes, you should create a list with just \"none\".\\n\\n- Finally, once you have a list of new attributes to extract, you will be provided with the appropriate schema for the attributes. Extract the information from the learner\\'s response, and return it to Zavmo.\\n\\n\\n## On Completing the Stage\\n\\nThe stage is complete when all the fields are filled. When we have collected all the fields for the stage, the stage can be marked as complete, once the learner verifies the details you have collected.\\n\\n- You should provide the details to Zavmo and ask Zavmo to present it to the learner so that they can verify the details.\\n\\nIf the learner verifies the details, you should ask Zavmo to finish the stage and provide a confirmation and encouragement to proceed to the next stage.\\n\\nIf the learner does not verify the details, you should ask Zavmo to present the learner with the details and ask them for corrections.\\n\\nThe learner is currently in the **Discuss** stage. \\n\\nHere is a list of instructions for each attribue that we need to probe the learner for in the current stage:\\n\\n**interest_areas**\\n\\nSpecific areas of interest the learner wants to focus on.\\n\\n> Examples of learner responses and what we are extracting:\\n- I\\'m particularly interested in data visualization > interest_areas=\\'Data visualization\\'\\n- Machine learning fascinates me > interest_areas=\\'Machine learning\\'\\n\\n\\n\\n**learning_style**\\n\\nThe preferred learning style of the learner (e.g., visual, auditory, kinesthetic).\\n\\n> Examples of learner responses and what we are extracting:\\n- I learn best through hands-on projects > learning_style=\\'Kinesthetic\\'\\n- Watching videos helps me understand better > learning_style=\\'Visual\\'\\n\\n\\n\\n**modules**\\n\\nA list of modules or topics that will be included in the learner\\'s personalized learning plan.\\n\\n\\n> Examples of learner responses and what we are extracting:\\n- Can we add more about data visualization? > modules=\\'Include data visualization module\\'\\n- I\\'d prefer to focus more on advanced topics > modules=\\'Emphasize advanced modules\\'\\n\\n\\n\\n**timeline**\\n\\nPropose a timeline for completing the learning plan.\\n\\n\\n> Examples of learner responses and what we are extracting:\\n- Can we make it shorter? > timeline=\\'Shorter timeline preferred\\'\\n- I\\'d like a more extended timeline > timeline=\\'Longer timeline preferred\\'\\n\\n\\n\\n**goals_alignment**\\n\\nConfirmation that the proposed plan aligns with the learner\\'s goals.\\n\\n> Examples of learner responses and what we are extracting:\\n- I\\'d like to spend less time on theory > goals_alignment=\\'Reduce emphasis on theory\\'\\n\\n\\n'},\n",
       " {'role': 'user',\n",
       "  'content': 'Hey sharing my summary here. \\nName: Mumtaz\\nOccupation: Junior Software Engineer\\n\\nAs a Junior Software Engineer, I am passionate about leveraging technology to solve complex problems and improve user experiences. I have a strong foundation in software development principles and a keen interest in expanding my knowledge and skills in various domains.\\n\\nLearning Interests:\\nI am particularly interested in the following areas:\\n\\nStatistics: Understanding data analysis techniques to derive meaningful insights.\\nMachine Learning (ML): Exploring algorithms and models that enable systems to learn from data.\\nArtificial Intelligence (AI): Delving into intelligent systems that mimic human behavior and decision-making.\\nLarge Language Models (LLMs): Investigating advanced language processing technologies to enhance natural language understanding and generation.\\nI am eager to further develop my expertise in these fields and apply them to real-world applications, contributing to innovative projects and technologies.'},\n",
       " {'role': 'assistant',\n",
       "  'content': \"Thank you for sharing your areas of interest, Mumtaz! It's great to see your enthusiasm for these fields. Now, let’s talk about your preferred learning style. Do you find that you learn best through visual aids, listening, or hands-on projects?\"},\n",
       " {'role': 'user', 'content': 'hands on'},\n",
       " {'role': 'assistant',\n",
       "  'content': \"Great! You learn best through hands-on projects, which is fantastic for applying your interests in Statistics, Machine Learning, AI, and LLMs. Now, let's discuss the specific modules or topics that you would like to include in your personalized learning plan. Are there any specific modules you have in mind?\"},\n",
       " {'role': 'user',\n",
       "  'content': 'whatever learning interests i shared are topic i am specifically interested in'},\n",
       " {'role': 'assistant',\n",
       "  'content': \"I've noted that you're interested in the following areas: Statistics, Machine Learning, Artificial Intelligence, and Large Language Models. Your preferred learning style is through hands-on projects. We can include modules on these topics in your personalized learning plan. Can you let me know what kind of timeline you have in mind for completing this learning plan?\"},\n",
       " {'role': 'user', 'content': '4 weeks'}]"
      ]
     },
     "execution_count": 12,
     "metadata": {},
     "output_type": "execute_result"
    }
   ],
   "source": [
    "messages"
   ]
  },
  {
   "cell_type": "markdown",
   "metadata": {},
   "source": [
    "# In the begining"
   ]
  },
  {
   "cell_type": "code",
   "execution_count": 20,
   "metadata": {},
   "outputs": [
    {
     "data": {
      "text/plain": [
       "{'interest_areas': {'interest_areas': 'Statistics, Machine Learning, Artificial Intelligence, Large Language Models'},\n",
       " 'learning_style': {'learning_style': 'none'},\n",
       " 'curriculum': {'curriculum': []},\n",
       " 'timeline': {'timeline': 'none'},\n",
       " 'goals_alignment': {'goals_alignment': 'none'},\n",
       " 'response': \"Thank you for sharing your areas of interest, Mumtaz! It's great to see your enthusiasm for these fields. Now, let’s talk about your preferred learning style. Do you find that you learn best through visual aids, listening, or hands-on projects?\"}"
      ]
     },
     "execution_count": 20,
     "metadata": {},
     "output_type": "execute_result"
    }
   ],
   "source": [
    "response_dict"
   ]
  },
  {
   "cell_type": "markdown",
   "metadata": {},
   "source": [
    "# After finishing the stage"
   ]
  },
  {
   "cell_type": "code",
   "execution_count": 33,
   "metadata": {},
   "outputs": [
    {
     "data": {
      "text/plain": [
       "{'interest_areas': {'interest_areas': 'Statistics, Machine Learning, Artificial Intelligence, Large Language Models'},\n",
       " 'learning_style': {'learning_style': 'Kinesthetic'},\n",
       " 'curriculum': {'curriculum': [{'subject_name': 'Data Science',\n",
       "    'modules': ['Statistics', 'Machine Learning'],\n",
       "    'duration': '2 weeks'},\n",
       "   {'subject_name': 'Artificial Intelligence',\n",
       "    'modules': ['AI Fundamentals',\n",
       "     'Large Language Models',\n",
       "     'Advanced LLM Techniques'],\n",
       "    'duration': '2 weeks'}]},\n",
       " 'timeline': {'timeline': '4 weeks'},\n",
       " 'goals_alignment': {'goals_alignment': 'The proposed plan aligns with my goals.'},\n",
       " 'curriculum_confirmaion': <GetCurriculumConfirmation.yes: 'Yes'>,\n",
       " 'response': \"Great! Your curriculum plan has been confirmed. Let's move to the next stage.\"}"
      ]
     },
     "execution_count": 33,
     "metadata": {},
     "output_type": "execute_result"
    }
   ],
   "source": [
    "response_dict"
   ]
  }
 ],
 "metadata": {
  "kernelspec": {
   "display_name": "Python 3",
   "language": "python",
   "name": "python3"
  },
  "language_info": {
   "codemirror_mode": {
    "name": "ipython",
    "version": 3
   },
   "file_extension": ".py",
   "mimetype": "text/x-python",
   "name": "python",
   "nbconvert_exporter": "python",
   "pygments_lexer": "ipython3",
   "version": "3.11.2"
  }
 },
 "nbformat": 4,
 "nbformat_minor": 2
}
