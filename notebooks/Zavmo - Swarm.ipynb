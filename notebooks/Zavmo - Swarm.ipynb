{
 "cells": [
  {
   "cell_type": "code",
   "execution_count": 19,
   "id": "a130b15a-acfd-41a7-99f6-a56baf7523ff",
   "metadata": {},
   "outputs": [],
   "source": [
    "import os\n",
    "#os.chdir(r\"C:\\Users\\Aditya\\GitHub\\zavmo\\zavmo-api\\zavmo\")\n",
    "os.chdir(\"/Users/adityachhabra/Github/zavmo/zavmo-api/zavmo\")"
   ]
  },
  {
   "cell_type": "code",
   "execution_count": 20,
   "id": "8a522b0d-0184-4535-8144-32ed1f17c506",
   "metadata": {},
   "outputs": [],
   "source": [
    "from dotenv import load_dotenv\n",
    "load_dotenv()\n",
    "from IPython.display import Markdown"
   ]
  },
  {
   "cell_type": "code",
   "execution_count": 21,
   "id": "c63e5088-1c30-44b7-a1a9-5f8fecc3de74",
   "metadata": {},
   "outputs": [],
   "source": [
    "from helpers.agents.common import get_yaml_data,get_agent_instructions"
   ]
  },
  {
   "cell_type": "code",
   "execution_count": 22,
   "id": "17b63f28-f072-48b6-81f7-17b9e69af1b6",
   "metadata": {},
   "outputs": [],
   "source": [
    "from helpers.swarm import Agent, Response, Result, Tool, run_step\n",
    "from helpers.agents.common import get_agent_instructions"
   ]
  },
  {
   "cell_type": "raw",
   "id": "5bb68284-b704-43fd-bb5f-8c4a2eb566d7",
   "metadata": {},
   "source": [
    "from helpers.agents.a_discover import discover_agent, update_discover_data\n",
    "from helpers.agents.b_discuss import discuss_agent, request_curriculum"
   ]
  },
  {
   "cell_type": "code",
   "execution_count": null,
   "id": "1f957ed1-26e1-4f5b-b35e-641f23ddfb51",
   "metadata": {},
   "outputs": [],
   "source": []
  },
  {
   "cell_type": "code",
   "execution_count": 18,
   "id": "9aaad1c7-70d6-4571-80cb-bf61f45ac556",
   "metadata": {},
   "outputs": [],
   "source": [
    "active_agent   = discuss_agent\n",
    "messages       = []\n",
    "context        = {\"email\":\"aditya@gmail.com\",\"sequence_id\":'52442',\n",
    "                  \"stage_data\":{'profile':{},'discuss':{},'delivery':{},'demonstrate':{}},\n",
    "                  \"stage\":1}"
   ]
  },
  {
   "cell_type": "code",
   "execution_count": 12,
   "id": "9f4525bd-619a-4489-8ec6-10c699a16bd0",
   "metadata": {},
   "outputs": [
    {
     "name": "stderr",
     "output_type": "stream",
     "text": [
      "2024-10-24 23:53:41,628 - INFO - Running step 0 with agent Discussion\n",
      "2024-10-24 23:53:42,841 - INFO - HTTP Request: POST https://api.openai.com/v1/chat/completions \"HTTP/1.1 200 OK\"\n",
      "2024-10-24 23:53:42,846 - INFO - Updated context after update_discussion_data call: {'email': 'aditya@gmail.com', 'sequence_id': '52442', 'stage_data': {'discuss': {'curriculum': {'title': 'Web Development Bootcamp', 'subject': 'Web Development', 'level': 'Beginner', 'prerequisites': ['Basic computer literacy'], 'modules': [{'title': 'Introduction to HTML & CSS', 'learning_outcomes': ['Understand the structure of an HTML document', 'Style web pages using CSS'], 'lessons': ['HTML Basics', 'CSS Fundamentals', 'Building a Simple Webpage'], 'duration': 15}, {'title': 'JavaScript Essentials', 'learning_outcomes': ['Understand JavaScript syntax and control structures', 'Manipulate the DOM'], 'lessons': ['JavaScript Basics', 'Working with Functions', 'DOM Manipulation'], 'duration': 20}, {'title': 'Responsive Design', 'learning_outcomes': ['Implement responsive layouts', 'Use media queries effectively'], 'lessons': ['Responsive Web Design Principles', 'CSS Flexbox', 'CSS Grid'], 'duration': 15}, {'title': 'Version Control with Git', 'learning_outcomes': ['Initialize and manage Git repositories', 'Understand branching and merging'], 'lessons': ['Introduction to Git', 'Working with GitHub', ' Advanced Git Techniques'], 'duration': 10}, {'title': 'Building a Full Web Application', 'learning_outcomes': ['Apply acquired skills to develop a web application', 'Deploy applications'], 'lessons': ['Project Planning', 'Coding the Application', 'Deployment Strategies'], 'duration': 30}]}}}, 'stage': 1}\n",
      "2024-10-24 23:53:42,847 - INFO - Updated context after transfer_to_delivery_agent call: {'email': 'aditya@gmail.com', 'sequence_id': '52442', 'stage_data': {'discuss': {'curriculum': {'title': 'Web Development Bootcamp', 'subject': 'Web Development', 'level': 'Beginner', 'prerequisites': ['Basic computer literacy'], 'modules': [{'title': 'Introduction to HTML & CSS', 'learning_outcomes': ['Understand the structure of an HTML document', 'Style web pages using CSS'], 'lessons': ['HTML Basics', 'CSS Fundamentals', 'Building a Simple Webpage'], 'duration': 15}, {'title': 'JavaScript Essentials', 'learning_outcomes': ['Understand JavaScript syntax and control structures', 'Manipulate the DOM'], 'lessons': ['JavaScript Basics', 'Working with Functions', 'DOM Manipulation'], 'duration': 20}, {'title': 'Responsive Design', 'learning_outcomes': ['Implement responsive layouts', 'Use media queries effectively'], 'lessons': ['Responsive Web Design Principles', 'CSS Flexbox', 'CSS Grid'], 'duration': 15}, {'title': 'Version Control with Git', 'learning_outcomes': ['Initialize and manage Git repositories', 'Understand branching and merging'], 'lessons': ['Introduction to Git', 'Working with GitHub', ' Advanced Git Techniques'], 'duration': 10}, {'title': 'Building a Full Web Application', 'learning_outcomes': ['Apply acquired skills to develop a web application', 'Deploy applications'], 'lessons': ['Project Planning', 'Coding the Application', 'Deployment Strategies'], 'duration': 30}]}}}, 'stage': 1}\n",
      "2024-10-24 23:53:42,848 - INFO - Running step 1 with agent Discussion\n"
     ]
    },
    {
     "name": "stdout",
     "output_type": "stream",
     "text": [
      "Transferring to Delivery Agent...\n"
     ]
    },
    {
     "name": "stderr",
     "output_type": "stream",
     "text": [
      "2024-10-24 23:53:44,167 - INFO - HTTP Request: POST https://api.openai.com/v1/chat/completions \"HTTP/1.1 200 OK\"\n"
     ]
    },
    {
     "name": "stdout",
     "output_type": "stream",
     "text": [
      "{'email': 'aditya@gmail.com', 'sequence_id': '52442', 'stage_data': {'discuss': {'curriculum': {'title': 'Web Development Bootcamp', 'subject': 'Web Development', 'level': 'Beginner', 'prerequisites': ['Basic computer literacy'], 'modules': [{'title': 'Introduction to HTML & CSS', 'learning_outcomes': ['Understand the structure of an HTML document', 'Style web pages using CSS'], 'lessons': ['HTML Basics', 'CSS Fundamentals', 'Building a Simple Webpage'], 'duration': 15}, {'title': 'JavaScript Essentials', 'learning_outcomes': ['Understand JavaScript syntax and control structures', 'Manipulate the DOM'], 'lessons': ['JavaScript Basics', 'Working with Functions', 'DOM Manipulation'], 'duration': 20}, {'title': 'Responsive Design', 'learning_outcomes': ['Implement responsive layouts', 'Use media queries effectively'], 'lessons': ['Responsive Web Design Principles', 'CSS Flexbox', 'CSS Grid'], 'duration': 15}, {'title': 'Version Control with Git', 'learning_outcomes': ['Initialize and manage Git repositories', 'Understand branching and merging'], 'lessons': ['Introduction to Git', 'Working with GitHub', ' Advanced Git Techniques'], 'duration': 10}, {'title': 'Building a Full Web Application', 'learning_outcomes': ['Apply acquired skills to develop a web application', 'Deploy applications'], 'lessons': ['Project Planning', 'Coding the Application', 'Deployment Strategies'], 'duration': 30}]}}}, 'stage': 1}\n"
     ]
    },
    {
     "data": {
      "text/markdown": [
       "Fantastic! 🎉 We've updated your learning preferences, and our next stage, the Delivery stage, is ready to kick off. This stage will provide you with the learning materials and resources tailored to your interests in Python programming with hands-on activities.\n",
       "\n",
       "If you have any questions or need further assistance, feel free to reach out. Enjoy your learning journey! 🚀📚"
      ],
      "text/plain": [
       "<IPython.core.display.Markdown object>"
      ]
     },
     "execution_count": 12,
     "metadata": {},
     "output_type": "execute_result"
    }
   ],
   "source": [
    "result = run_step(active_agent, messages, context=context, max_turns=5)\n",
    "\n",
    "messages.extend(result.messages)\n",
    "context.update(result.context)\n",
    "if result.agent!=active_agent:\n",
    "    active_agent = result.agent\n",
    "    context['stage'] += 1\n",
    "    print(f\"Switching agent to {active_agent.name}\")\n",
    "print(context)\n",
    "\n",
    "Markdown(messages[-1]['content'])"
   ]
  },
  {
   "cell_type": "code",
   "execution_count": null,
   "id": "813f5b4f-b942-4193-870b-82a30c2b0f78",
   "metadata": {},
   "outputs": [],
   "source": []
  },
  {
   "cell_type": "code",
   "execution_count": 11,
   "id": "0e1ef385-e2d5-4490-8401-72b772ef2b27",
   "metadata": {},
   "outputs": [],
   "source": [
    "user_resp = \"Sounds good, let's go\"\n",
    "\n",
    "messages.append({\"role\":\"user\",\"content\":user_resp})"
   ]
  },
  {
   "cell_type": "code",
   "execution_count": null,
   "id": "8a707484-7de4-4dcc-8a2c-febff2fa372e",
   "metadata": {},
   "outputs": [],
   "source": []
  },
  {
   "cell_type": "code",
   "execution_count": null,
   "id": "81d1a9c9-1861-469e-8ee0-e882b16af510",
   "metadata": {},
   "outputs": [],
   "source": []
  },
  {
   "cell_type": "code",
   "execution_count": null,
   "id": "a8a2724f-9402-4228-b3c1-f109080bef40",
   "metadata": {},
   "outputs": [],
   "source": []
  },
  {
   "cell_type": "code",
   "execution_count": null,
   "id": "67ced21a-4fa8-4378-8af4-9d6291e34adb",
   "metadata": {},
   "outputs": [],
   "source": []
  },
  {
   "cell_type": "code",
   "execution_count": null,
   "id": "f30978e0-6d3d-4fc2-80ec-0b052e1d09ce",
   "metadata": {},
   "outputs": [],
   "source": []
  },
  {
   "cell_type": "code",
   "execution_count": null,
   "id": "67afe381-5e30-4756-be34-276aaecc0b93",
   "metadata": {},
   "outputs": [],
   "source": []
  },
  {
   "cell_type": "code",
   "execution_count": null,
   "id": "79ba24e2-9793-4d20-ab95-63433bff75fc",
   "metadata": {},
   "outputs": [],
   "source": []
  },
  {
   "cell_type": "code",
   "execution_count": null,
   "id": "a87282a1-644c-465c-a3ab-3dd0aaf6245d",
   "metadata": {},
   "outputs": [],
   "source": []
  },
  {
   "cell_type": "code",
   "execution_count": null,
   "id": "2f549862-a8a4-4c15-bbe0-0ce6050ad287",
   "metadata": {},
   "outputs": [],
   "source": []
  },
  {
   "cell_type": "code",
   "execution_count": null,
   "id": "19b3683b-c71d-49c5-ac3d-29a3ec1bc2f6",
   "metadata": {},
   "outputs": [],
   "source": []
  },
  {
   "cell_type": "code",
   "execution_count": null,
   "id": "35621104-fd8f-4c1d-b266-680961e041fa",
   "metadata": {},
   "outputs": [],
   "source": []
  },
  {
   "cell_type": "code",
   "execution_count": null,
   "id": "3b2449c7-b2fd-40f9-b21d-8a7259c02196",
   "metadata": {},
   "outputs": [],
   "source": []
  },
  {
   "cell_type": "code",
   "execution_count": null,
   "id": "3f471f92-4dc7-40db-804b-cfc93d9b9596",
   "metadata": {},
   "outputs": [],
   "source": []
  },
  {
   "cell_type": "code",
   "execution_count": null,
   "id": "b1c8094c-816b-43e3-9040-619e0398e249",
   "metadata": {},
   "outputs": [],
   "source": []
  },
  {
   "cell_type": "code",
   "execution_count": null,
   "id": "1fb65fcd-2e6b-4805-a1c3-4b0ef511eb66",
   "metadata": {},
   "outputs": [],
   "source": []
  },
  {
   "cell_type": "code",
   "execution_count": null,
   "id": "c29c7080-095a-4b19-99ba-781b472c9705",
   "metadata": {},
   "outputs": [],
   "source": []
  },
  {
   "cell_type": "code",
   "execution_count": null,
   "id": "50f9fe61-52a2-4d4f-bfb8-0abde2571f51",
   "metadata": {},
   "outputs": [],
   "source": []
  },
  {
   "cell_type": "code",
   "execution_count": null,
   "id": "ba7247cd-386e-4d49-a4d8-56f14f23e83e",
   "metadata": {},
   "outputs": [],
   "source": []
  }
 ],
 "metadata": {
  "kernelspec": {
   "display_name": "Python 3 (ipykernel)",
   "language": "python",
   "name": "python3"
  },
  "language_info": {
   "codemirror_mode": {
    "name": "ipython",
    "version": 3
   },
   "file_extension": ".py",
   "mimetype": "text/x-python",
   "name": "python",
   "nbconvert_exporter": "python",
   "pygments_lexer": "ipython3",
   "version": "3.11.9"
  },
  "widgets": {
   "application/vnd.jupyter.widget-state+json": {
    "state": {},
    "version_major": 2,
    "version_minor": 0
   }
  }
 },
 "nbformat": 4,
 "nbformat_minor": 5
}
