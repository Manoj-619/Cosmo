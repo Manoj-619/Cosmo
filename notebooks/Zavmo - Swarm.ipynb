{
 "cells": [
  {
   "cell_type": "code",
   "execution_count": 1,
   "id": "a130b15a-acfd-41a7-99f6-a56baf7523ff",
   "metadata": {},
   "outputs": [],
   "source": [
    "import os\n",
    "#os.chdir(r\"C:\\Users\\Aditya\\GitHub\\zavmo\\zavmo-api\\zavmo\")\n",
    "os.chdir(\"/Users/adityachhabra/Github/zavmo/zavmo-api/zavmo\")"
   ]
  },
  {
   "cell_type": "code",
   "execution_count": 2,
   "id": "8a522b0d-0184-4535-8144-32ed1f17c506",
   "metadata": {},
   "outputs": [],
   "source": [
    "from dotenv import load_dotenv\n",
    "load_dotenv()\n",
    "from IPython.display import Markdown"
   ]
  },
  {
   "cell_type": "code",
   "execution_count": 3,
   "id": "c63e5088-1c30-44b7-a1a9-5f8fecc3de74",
   "metadata": {},
   "outputs": [],
   "source": [
    "from helpers.agents.common import get_yaml_data,get_agent_instructions"
   ]
  },
  {
   "cell_type": "code",
   "execution_count": 4,
   "id": "17b63f28-f072-48b6-81f7-17b9e69af1b6",
   "metadata": {},
   "outputs": [],
   "source": [
    "from helpers.swarm import Agent, Response, Result, Tool, run_step, AgentFunction, function_to_json\n",
    "from helpers.agents.common import get_agent_instructions"
   ]
  },
  {
   "cell_type": "code",
   "execution_count": 5,
   "id": "6666a08e-7fbd-4f07-90da-cc037693afe4",
   "metadata": {},
   "outputs": [],
   "source": [
    "from openai.types.chat.chat_completion_message_tool_call import ChatCompletionMessageToolCall, Function"
   ]
  },
  {
   "cell_type": "code",
   "execution_count": 6,
   "id": "dfaf664f-402f-493e-935c-d301da9c16f9",
   "metadata": {},
   "outputs": [],
   "source": [
    "import json"
   ]
  },
  {
   "cell_type": "code",
   "execution_count": 23,
   "id": "30844f9f-7892-4496-bea7-5a1bfb7439e1",
   "metadata": {},
   "outputs": [],
   "source": [
    "from pydantic import BaseModel, Field\n",
    "from typing import List, Dict"
   ]
  },
  {
   "cell_type": "code",
   "execution_count": 56,
   "id": "b84771df-d8e5-4364-99f5-b65d922ce5c8",
   "metadata": {},
   "outputs": [],
   "source": [
    "class request_curriculum(Tool):\n",
    "    \"\"\"Request a curriculum from the curriculum design team.\"\"\"\n",
    "    instructions: str = Field(description=\"Instructions for generating the curriculum\")\n",
    "    learning_objectives: str = Field(description=\"The learner's learning objectives\")\n",
    "    interest_areas: str = Field(description=\"The learner's interest areas\")\n",
    "    time_available: str = Field(description=\"The time available for the learner to study per week\")\n",
    "    \n",
    "    def execute(self, context: Dict):\n",
    "        print(f\"Curriculum request received for {context['email']} with sequence id {context['sequence_id']}\")\n",
    "        conversation_summary = summarize_history(context['history'])\n",
    "        user_prompt = f\"Here is a summary of the conversation so far: {conversation_summary}\\n\\n\"\n",
    "        user_prompt += f\"Learning objectives: {self.learning_objectives}\\n\\n\"\n",
    "        user_prompt += f\"Interest areas: {self.interest_areas}\\n\\n\"\n",
    "        user_prompt += f\"Time available per week: {self.time_available}\\n\\n\"\n",
    "        user_prompt += f\"Instructions: {self.instructions}\"\n",
    "        \n",
    "        messages = [\n",
    "            {\"role\": \"system\", \"content\": get_prompt('curriculum')},\n",
    "            {\"role\": \"user\", \"content\": user_prompt}\n",
    "        ]\n",
    "        openai_client = OpenAI(api_key=os.getenv('OPENAI_API_KEY'))\n",
    "        response = openai_client.beta.chat.completions.parse(\n",
    "            model=\"gpt-4o\",\n",
    "            messages=messages,\n",
    "            response_format=Curriculum\n",
    "        )\n",
    "        model_result = response.choices[0].message.parsed\n",
    "        \n",
    "        context['stage_data']['discuss']['curriculum'] = model_result.model_dump()\n",
    "        curriculum_text = str(model_result)\n",
    "        value = f\"Curriculum generated successfully:\\n\\n{curriculum_text}\"\n",
    "        return Result(value=value, context=context)"
   ]
  },
  {
   "cell_type": "code",
   "execution_count": 57,
   "id": "44e36e74-c8e8-4ff9-9c15-443ae53ea68e",
   "metadata": {},
   "outputs": [],
   "source": [
    "import openai"
   ]
  },
  {
   "cell_type": "code",
   "execution_count": 58,
   "id": "ffa6f832-2cbf-4c88-a853-50c105b0fb1f",
   "metadata": {},
   "outputs": [
    {
     "data": {
      "text/plain": [
       "'request_curriculum'"
      ]
     },
     "execution_count": 58,
     "metadata": {},
     "output_type": "execute_result"
    }
   ],
   "source": [
    "request_curriculum.__name__"
   ]
  },
  {
   "cell_type": "code",
   "execution_count": 59,
   "id": "d39d3fe6-891b-4db7-b38e-035c9a626cb0",
   "metadata": {},
   "outputs": [],
   "source": [
    "import inspect"
   ]
  },
  {
   "cell_type": "code",
   "execution_count": null,
   "id": "ea5313af-ef11-4ab4-a742-9072f63a9fc9",
   "metadata": {},
   "outputs": [],
   "source": []
  },
  {
   "cell_type": "code",
   "execution_count": null,
   "id": "f91f83ef-5690-44f6-b662-e5c89d5e9f95",
   "metadata": {},
   "outputs": [],
   "source": []
  },
  {
   "cell_type": "code",
   "execution_count": null,
   "id": "f86e90c8-3af5-4e7f-9898-f7267eab4688",
   "metadata": {},
   "outputs": [],
   "source": [
    "from helpers.agents.a_discover import discover_agent, update_discover_data\n",
    "from helpers.agents.b_discuss import discuss_agent, request_curriculum"
   ]
  },
  {
   "cell_type": "code",
   "execution_count": null,
   "id": "1f957ed1-26e1-4f5b-b35e-641f23ddfb51",
   "metadata": {},
   "outputs": [],
   "source": []
  },
  {
   "cell_type": "code",
   "execution_count": null,
   "id": "9aaad1c7-70d6-4571-80cb-bf61f45ac556",
   "metadata": {},
   "outputs": [],
   "source": [
    "active_agent   = discuss_agent\n",
    "messages       = []\n",
    "context        = {\"email\":\"aditya@gmail.com\",\"sequence_id\":'52442',\n",
    "                  \"stage_data\":{'profile':{},'discuss':{},'delivery':{},'demonstrate':{}},\n",
    "                  \"stage\":1}"
   ]
  },
  {
   "cell_type": "code",
   "execution_count": null,
   "id": "9f4525bd-619a-4489-8ec6-10c699a16bd0",
   "metadata": {},
   "outputs": [],
   "source": [
    "result = run_step(active_agent, messages, context=context, max_turns=5)\n",
    "\n",
    "messages.extend(result.messages)\n",
    "context.update(result.context)\n",
    "if result.agent!=active_agent:\n",
    "    active_agent = result.agent\n",
    "    context['stage'] += 1\n",
    "    print(f\"Switching agent to {active_agent.name}\")\n",
    "print(context)\n",
    "\n",
    "Markdown(messages[-1]['content'])"
   ]
  },
  {
   "cell_type": "code",
   "execution_count": null,
   "id": "813f5b4f-b942-4193-870b-82a30c2b0f78",
   "metadata": {},
   "outputs": [],
   "source": []
  },
  {
   "cell_type": "code",
   "execution_count": null,
   "id": "0e1ef385-e2d5-4490-8401-72b772ef2b27",
   "metadata": {},
   "outputs": [],
   "source": [
    "user_resp = \"Sounds good, let's go\"\n",
    "\n",
    "messages.append({\"role\":\"user\",\"content\":user_resp})"
   ]
  },
  {
   "cell_type": "code",
   "execution_count": null,
   "id": "8a707484-7de4-4dcc-8a2c-febff2fa372e",
   "metadata": {},
   "outputs": [],
   "source": []
  },
  {
   "cell_type": "code",
   "execution_count": null,
   "id": "81d1a9c9-1861-469e-8ee0-e882b16af510",
   "metadata": {},
   "outputs": [],
   "source": []
  },
  {
   "cell_type": "code",
   "execution_count": null,
   "id": "a8a2724f-9402-4228-b3c1-f109080bef40",
   "metadata": {},
   "outputs": [],
   "source": []
  },
  {
   "cell_type": "code",
   "execution_count": null,
   "id": "67ced21a-4fa8-4378-8af4-9d6291e34adb",
   "metadata": {},
   "outputs": [],
   "source": []
  },
  {
   "cell_type": "code",
   "execution_count": null,
   "id": "f30978e0-6d3d-4fc2-80ec-0b052e1d09ce",
   "metadata": {},
   "outputs": [],
   "source": []
  },
  {
   "cell_type": "code",
   "execution_count": null,
   "id": "67afe381-5e30-4756-be34-276aaecc0b93",
   "metadata": {},
   "outputs": [],
   "source": []
  },
  {
   "cell_type": "code",
   "execution_count": null,
   "id": "79ba24e2-9793-4d20-ab95-63433bff75fc",
   "metadata": {},
   "outputs": [],
   "source": []
  },
  {
   "cell_type": "code",
   "execution_count": null,
   "id": "a87282a1-644c-465c-a3ab-3dd0aaf6245d",
   "metadata": {},
   "outputs": [],
   "source": []
  },
  {
   "cell_type": "code",
   "execution_count": null,
   "id": "2f549862-a8a4-4c15-bbe0-0ce6050ad287",
   "metadata": {},
   "outputs": [],
   "source": []
  },
  {
   "cell_type": "code",
   "execution_count": null,
   "id": "19b3683b-c71d-49c5-ac3d-29a3ec1bc2f6",
   "metadata": {},
   "outputs": [],
   "source": []
  },
  {
   "cell_type": "code",
   "execution_count": null,
   "id": "35621104-fd8f-4c1d-b266-680961e041fa",
   "metadata": {},
   "outputs": [],
   "source": []
  },
  {
   "cell_type": "code",
   "execution_count": null,
   "id": "3b2449c7-b2fd-40f9-b21d-8a7259c02196",
   "metadata": {},
   "outputs": [],
   "source": []
  },
  {
   "cell_type": "code",
   "execution_count": null,
   "id": "3f471f92-4dc7-40db-804b-cfc93d9b9596",
   "metadata": {},
   "outputs": [],
   "source": []
  },
  {
   "cell_type": "code",
   "execution_count": null,
   "id": "b1c8094c-816b-43e3-9040-619e0398e249",
   "metadata": {},
   "outputs": [],
   "source": []
  },
  {
   "cell_type": "code",
   "execution_count": null,
   "id": "1fb65fcd-2e6b-4805-a1c3-4b0ef511eb66",
   "metadata": {},
   "outputs": [],
   "source": []
  },
  {
   "cell_type": "code",
   "execution_count": null,
   "id": "c29c7080-095a-4b19-99ba-781b472c9705",
   "metadata": {},
   "outputs": [],
   "source": []
  },
  {
   "cell_type": "code",
   "execution_count": null,
   "id": "50f9fe61-52a2-4d4f-bfb8-0abde2571f51",
   "metadata": {},
   "outputs": [],
   "source": []
  },
  {
   "cell_type": "code",
   "execution_count": null,
   "id": "ba7247cd-386e-4d49-a4d8-56f14f23e83e",
   "metadata": {},
   "outputs": [],
   "source": []
  }
 ],
 "metadata": {
  "kernelspec": {
   "display_name": "Python 3 (ipykernel)",
   "language": "python",
   "name": "python3"
  },
  "language_info": {
   "codemirror_mode": {
    "name": "ipython",
    "version": 3
   },
   "file_extension": ".py",
   "mimetype": "text/x-python",
   "name": "python",
   "nbconvert_exporter": "python",
   "pygments_lexer": "ipython3",
   "version": "3.11.9"
  },
  "widgets": {
   "application/vnd.jupyter.widget-state+json": {
    "state": {},
    "version_major": 2,
    "version_minor": 0
   }
  }
 },
 "nbformat": 4,
 "nbformat_minor": 5
}
