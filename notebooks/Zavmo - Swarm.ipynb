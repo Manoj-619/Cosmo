{
 "cells": [
  {
   "cell_type": "code",
   "execution_count": 1,
   "id": "a130b15a-acfd-41a7-99f6-a56baf7523ff",
   "metadata": {},
   "outputs": [],
   "source": [
    "import os\n",
    "os.chdir(r\"C:\\Users\\Aditya\\GitHub\\zavmo\\zavmo-api\\zavmo\")\n",
    "#os.chdir(\"/Users/adityachhabra/Github/zavmo/zavmo-api/zavmo\")"
   ]
  },
  {
   "cell_type": "code",
   "execution_count": 2,
   "id": "8a522b0d-0184-4535-8144-32ed1f17c506",
   "metadata": {},
   "outputs": [],
   "source": [
    "from dotenv import load_dotenv\n",
    "load_dotenv()\n",
    "from IPython.display import Markdown"
   ]
  },
  {
   "cell_type": "code",
   "execution_count": 3,
   "id": "c63e5088-1c30-44b7-a1a9-5f8fecc3de74",
   "metadata": {},
   "outputs": [],
   "source": [
    "from helpers.agents.common import get_yaml_data,get_agent_instructions"
   ]
  },
  {
   "cell_type": "code",
   "execution_count": 4,
   "id": "17b63f28-f072-48b6-81f7-17b9e69af1b6",
   "metadata": {},
   "outputs": [],
   "source": [
    "from pydantic import BaseModel, Field, validator\n",
    "from typing import Literal, List, Optional, Dict\n",
    "from helpers.swarm import Agent, Response, Result, Tool, with_context, run_step\n",
    "from helpers.agents.common import get_agent_instructions"
   ]
  },
  {
   "cell_type": "code",
   "execution_count": null,
   "id": "73eccf5a-3144-4416-b085-99a7256c7551",
   "metadata": {},
   "outputs": [],
   "source": [
    "class update_discussion_data(Tool):\n",
    "    interest_areas: str = Field(description=\"The learner's interest areas.\")\n",
    "    learning_style: str = Field(description=\"The learner's learning style.\")\n",
    "    curriculum: Curriculum = Field(description=\"The curriculum plan agreed upon by the learner.\")\n",
    "    timeline: str = Field(description=\"The learner's timeline.\")\n",
    "\n",
    "    def __str__(self):\n",
    "        return \"\\n\".join(f\"{field.replace('_', ' ').title()}: {value}\" \n",
    "                         for field, value in self.__dict__.items())\n",
    "    @with_context\n",
    "    def execute(self, context:Dict):\n",
    "        "
   ]
  },
  {
   "cell_type": "code",
   "execution_count": 30,
   "id": "2b0f5247-0258-44ef-ab4e-a6d9525df0a3",
   "metadata": {},
   "outputs": [],
   "source": [
    "def transfer_to_delivery_agent():\n",
    "    \"\"\"Transfer to delivery agent after discussion stage data has been updated.\"\"\"\n",
    "    return None\n",
    "    \n",
    "#### For responding / handoff\n",
    "discussion_agent = Agent(\n",
    "    name=\"Discussion\",\n",
    "    model=\"gpt-4o-mini\",\n",
    "    instructions=get_agent_instructions('discuss'),\n",
    "    functions=[\n",
    "        request_curriculum,\n",
    "        transfer_to_delivery_agent\n",
    "    ],\n",
    "    tool_choice=\"auto\",\n",
    "    parallel_tool_calls=False\n",
    ")\n"
   ]
  },
  {
   "cell_type": "code",
   "execution_count": 5,
   "id": "3a118624-cdf6-497c-89e1-8776cc64b65d",
   "metadata": {},
   "outputs": [],
   "source": [
    "### For handoff\n",
    "def transfer_to_discussion_agent():\n",
    "    \"\"\"Transfer to the Discussion Agent when the learner is satisfied with the summary of the information gathered.\"\"\"\n",
    "    print(\"Transferring to Discussion Agent...\")\n",
    "    return discussion_agent\n",
    "\n",
    "### For updating the data\n",
    "\n",
    "class update_discover_data(Tool):\n",
    "    \"\"\"Update the learner's information gathered during the Discovery stage.\"\"\"\n",
    "    learning_goals: str = Field(description=\"The learner's learning goals.\")\n",
    "    learning_goal_rationale: str = Field(description=\"The learner's rationale for their learning goals.\")\n",
    "    knowledge_level: Literal[\"Beginner\", \"Intermediate\", \"Advanced\", \"Expert\"] = Field(description=\"The learner's self-assessed knowledge level in their chosen area of study.\")\n",
    "    application_area: str = Field(description=\"A specific area or context where the learner plans to apply their new knowledge and skills.\")\n",
    "    \n",
    "    def __str__(self):\n",
    "        \"\"\"Return a string representation of the UpdateDiscoverData object.\"\"\"\n",
    "        string = []\n",
    "        for field, value in self.__dict__.items():\n",
    "            string.append(f\"{field}: {value}\")\n",
    "        return \"\\n\".join(string)\n",
    "    \n",
    "    @with_context\n",
    "    def execute(self, context: Dict):\n",
    "        # Get email and sequence_id from context\n",
    "        email       = context.get('email')\n",
    "        sequence_id = context.get('sequence_id')\n",
    "        if not email:\n",
    "            raise ValueError(\"Email not found in context\")\n",
    "        if not sequence_id:\n",
    "            raise ValueError(\"Sequence ID not found in context\")\n",
    "        \n",
    "        # # Get the DiscoverStage object\n",
    "        # discover_stage = DiscoverStage.objects.get(user_email=email, sequence_id=sequence_id)\n",
    "        # if not discover_stage:\n",
    "        #     raise ValueError(\"DiscoverStage not found\")\n",
    "        \n",
    "        # # Update the DiscoverStage object\n",
    "        # discover_stage.learning_goals = self.learning_goals\n",
    "        # discover_stage.learning_goal_rationale = self.learning_goal_rationale\n",
    "        # discover_stage.knowledge_level = self.knowledge_level\n",
    "        # discover_stage.application_area = self.application_area\n",
    "        # discover_stage.save()\n",
    "        \n",
    "        return Result(value=f\"Updated DiscoverStage for {email} with sequence ID {sequence_id}. The following fields were updated: {str(self)}\")\n",
    "            "
   ]
  },
  {
   "cell_type": "code",
   "execution_count": 6,
   "id": "0c7acc75-852f-4c87-8e12-3786c478136c",
   "metadata": {},
   "outputs": [],
   "source": [
    "#### For responding / handoff\n",
    "discover_agent = Agent(\n",
    "    name=\"Discover\",\n",
    "    model=\"gpt-4o-mini\",\n",
    "    instructions=get_agent_instructions('discover'),\n",
    "    functions=[\n",
    "        update_discover_data,\n",
    "        transfer_to_discussion_agent\n",
    "    ],\n",
    "    tool_choice=\"auto\",\n",
    "    parallel_tool_calls=False\n",
    ")\n"
   ]
  },
  {
   "cell_type": "code",
   "execution_count": 7,
   "id": "9aaad1c7-70d6-4571-80cb-bf61f45ac556",
   "metadata": {},
   "outputs": [],
   "source": [
    "agent    = discover_agent\n",
    "messages = []\n",
    "context  = {\"email\":\"aditya@gmail.com\",\"sequence_id\":'52442'}"
   ]
  },
  {
   "cell_type": "code",
   "execution_count": 26,
   "id": "9f4525bd-619a-4489-8ec6-10c699a16bd0",
   "metadata": {},
   "outputs": [
    {
     "name": "stderr",
     "output_type": "stream",
     "text": [
      "2024-10-24 21:48:41,905 - INFO - Running step 0 with agent Discover\n",
      "2024-10-24 21:48:43,290 - INFO - HTTP Request: POST https://api.openai.com/v1/chat/completions \"HTTP/1.1 200 OK\"\n",
      "2024-10-24 21:48:43,292 - INFO - Updated context after update_discover_data call: {'email': 'aditya@gmail.com', 'sequence_id': '52442'}\n",
      "2024-10-24 21:48:43,293 - INFO - Running step 1 with agent Discover\n"
     ]
    },
    {
     "name": "stdout",
     "output_type": "stream",
     "text": [
      "Input tokens: 1245\n",
      "Output tokens: 46\n",
      "Total tokens: 1291\n"
     ]
    },
    {
     "name": "stderr",
     "output_type": "stream",
     "text": [
      "2024-10-24 21:48:44,107 - INFO - HTTP Request: POST https://api.openai.com/v1/chat/completions \"HTTP/1.1 200 OK\"\n",
      "2024-10-24 21:48:44,109 - INFO - Updated context after transfer_to_discussion_agent call: {'email': 'aditya@gmail.com', 'sequence_id': '52442'}\n",
      "2024-10-24 21:48:44,110 - INFO - Running step 2 with agent Discover\n"
     ]
    },
    {
     "name": "stdout",
     "output_type": "stream",
     "text": [
      "Input tokens: 1355\n",
      "Output tokens: 13\n",
      "Total tokens: 1368\n",
      "Transferring to Discussion Agent...\n"
     ]
    },
    {
     "name": "stderr",
     "output_type": "stream",
     "text": [
      "2024-10-24 21:48:45,500 - INFO - HTTP Request: POST https://api.openai.com/v1/chat/completions \"HTTP/1.1 200 OK\"\n"
     ]
    },
    {
     "name": "stdout",
     "output_type": "stream",
     "text": [
      "Input tokens: 1380\n",
      "Output tokens: 66\n",
      "Total tokens: 1446\n"
     ]
    }
   ],
   "source": [
    "result = run_step(discover_agent, messages, context=context, max_turns=5)\n",
    "messages.extend(result.messages)"
   ]
  },
  {
   "cell_type": "code",
   "execution_count": 27,
   "id": "3c02dc51-0c10-420c-b170-d1b3b84132c6",
   "metadata": {},
   "outputs": [
    {
     "data": {
      "text/markdown": [
       "Awesome! I've noted everything down. Now, I will hand you over to the next stage with a discussion agent, who will help you define specific learning objectives and create a personalized curriculum. Remember, your journey in data science is just beginning! 🚀\n",
       "\n",
       "Good luck, Aditya, and enjoy your learning adventure! 🌟"
      ],
      "text/plain": [
       "<IPython.core.display.Markdown object>"
      ]
     },
     "execution_count": 27,
     "metadata": {},
     "output_type": "execute_result"
    }
   ],
   "source": [
    "Markdown(messages[-1]['content'])"
   ]
  },
  {
   "cell_type": "code",
   "execution_count": 25,
   "id": "261342fc-afab-49de-828e-de486f6ae4a8",
   "metadata": {},
   "outputs": [],
   "source": [
    "messages.append({\"role\":\"user\",\"content\":\"great\"})"
   ]
  },
  {
   "cell_type": "code",
   "execution_count": null,
   "id": "8a707484-7de4-4dcc-8a2c-febff2fa372e",
   "metadata": {},
   "outputs": [],
   "source": []
  },
  {
   "cell_type": "code",
   "execution_count": null,
   "id": "81d1a9c9-1861-469e-8ee0-e882b16af510",
   "metadata": {},
   "outputs": [],
   "source": []
  },
  {
   "cell_type": "code",
   "execution_count": null,
   "id": "a8a2724f-9402-4228-b3c1-f109080bef40",
   "metadata": {},
   "outputs": [],
   "source": []
  },
  {
   "cell_type": "code",
   "execution_count": null,
   "id": "67ced21a-4fa8-4378-8af4-9d6291e34adb",
   "metadata": {},
   "outputs": [],
   "source": []
  },
  {
   "cell_type": "code",
   "execution_count": null,
   "id": "f30978e0-6d3d-4fc2-80ec-0b052e1d09ce",
   "metadata": {},
   "outputs": [],
   "source": []
  },
  {
   "cell_type": "code",
   "execution_count": null,
   "id": "67afe381-5e30-4756-be34-276aaecc0b93",
   "metadata": {},
   "outputs": [],
   "source": []
  },
  {
   "cell_type": "code",
   "execution_count": null,
   "id": "79ba24e2-9793-4d20-ab95-63433bff75fc",
   "metadata": {},
   "outputs": [],
   "source": []
  },
  {
   "cell_type": "code",
   "execution_count": null,
   "id": "a87282a1-644c-465c-a3ab-3dd0aaf6245d",
   "metadata": {},
   "outputs": [],
   "source": []
  },
  {
   "cell_type": "code",
   "execution_count": null,
   "id": "2f549862-a8a4-4c15-bbe0-0ce6050ad287",
   "metadata": {},
   "outputs": [],
   "source": []
  },
  {
   "cell_type": "code",
   "execution_count": null,
   "id": "19b3683b-c71d-49c5-ac3d-29a3ec1bc2f6",
   "metadata": {},
   "outputs": [],
   "source": []
  },
  {
   "cell_type": "code",
   "execution_count": null,
   "id": "35621104-fd8f-4c1d-b266-680961e041fa",
   "metadata": {},
   "outputs": [],
   "source": []
  },
  {
   "cell_type": "code",
   "execution_count": null,
   "id": "3b2449c7-b2fd-40f9-b21d-8a7259c02196",
   "metadata": {},
   "outputs": [],
   "source": []
  },
  {
   "cell_type": "code",
   "execution_count": null,
   "id": "3f471f92-4dc7-40db-804b-cfc93d9b9596",
   "metadata": {},
   "outputs": [],
   "source": []
  },
  {
   "cell_type": "code",
   "execution_count": null,
   "id": "b1c8094c-816b-43e3-9040-619e0398e249",
   "metadata": {},
   "outputs": [],
   "source": []
  },
  {
   "cell_type": "code",
   "execution_count": null,
   "id": "1fb65fcd-2e6b-4805-a1c3-4b0ef511eb66",
   "metadata": {},
   "outputs": [],
   "source": []
  },
  {
   "cell_type": "code",
   "execution_count": null,
   "id": "c29c7080-095a-4b19-99ba-781b472c9705",
   "metadata": {},
   "outputs": [],
   "source": []
  },
  {
   "cell_type": "code",
   "execution_count": null,
   "id": "50f9fe61-52a2-4d4f-bfb8-0abde2571f51",
   "metadata": {},
   "outputs": [],
   "source": []
  },
  {
   "cell_type": "code",
   "execution_count": null,
   "id": "ba7247cd-386e-4d49-a4d8-56f14f23e83e",
   "metadata": {},
   "outputs": [],
   "source": []
  }
 ],
 "metadata": {
  "kernelspec": {
   "display_name": "Python 3 (ipykernel)",
   "language": "python",
   "name": "python3"
  },
  "language_info": {
   "codemirror_mode": {
    "name": "ipython",
    "version": 3
   },
   "file_extension": ".py",
   "mimetype": "text/x-python",
   "name": "python",
   "nbconvert_exporter": "python",
   "pygments_lexer": "ipython3",
   "version": "3.11.9"
  },
  "widgets": {
   "application/vnd.jupyter.widget-state+json": {
    "state": {},
    "version_major": 2,
    "version_minor": 0
   }
  }
 },
 "nbformat": 4,
 "nbformat_minor": 5
}
