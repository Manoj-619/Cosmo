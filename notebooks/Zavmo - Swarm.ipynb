{
 "cells": [
  {
   "cell_type": "code",
   "execution_count": 1,
   "id": "a130b15a-acfd-41a7-99f6-a56baf7523ff",
   "metadata": {},
   "outputs": [],
   "source": [
    "import os\n",
    "#os.chdir(r\"C:\\Users\\Aditya\\GitHub\\zavmo\\zavmo-api\\zavmo\")\n",
    "# os.chdir(\"/Users/adityachhabra/Github/zavmo/zavmo-api/zavmo\")"
   ]
  },
  {
   "cell_type": "code",
   "execution_count": 2,
   "id": "5731e8af",
   "metadata": {},
   "outputs": [],
   "source": [
    "os.chdir(f\"{os.path.dirname(os.getcwd())}/zavmo\")"
   ]
  },
  {
   "cell_type": "code",
   "execution_count": 3,
   "id": "2f6267de",
   "metadata": {},
   "outputs": [
    {
     "data": {
      "text/plain": [
       "'c:\\\\Users\\\\Mumtaz Rahmani\\\\OneDrive\\\\Documents\\\\projects\\\\zavmo-api\\\\zavmo'"
      ]
     },
     "execution_count": 3,
     "metadata": {},
     "output_type": "execute_result"
    }
   ],
   "source": [
    "os.getcwd()"
   ]
  },
  {
   "cell_type": "code",
   "execution_count": 4,
   "id": "8a522b0d-0184-4535-8144-32ed1f17c506",
   "metadata": {},
   "outputs": [],
   "source": [
    "from dotenv import load_dotenv\n",
    "load_dotenv()\n",
    "from IPython.display import Markdown"
   ]
  },
  {
   "cell_type": "code",
   "execution_count": 6,
   "id": "a0dfa574",
   "metadata": {},
   "outputs": [],
   "source": [
    "from helpers.swarm import Agent, Response, Result, Tool, run_step, AgentFunction, function_to_json"
   ]
  },
  {
   "cell_type": "code",
   "execution_count": 7,
   "id": "1ce8acc6",
   "metadata": {},
   "outputs": [],
   "source": [
    "from helpers.agents.a_discover import discover_agent\n",
    "from helpers.agents.profile import profile_agent"
   ]
  },
  {
   "cell_type": "code",
   "execution_count": 8,
   "id": "50c1daec",
   "metadata": {},
   "outputs": [],
   "source": [
    "message_history = [{'role': 'system', 'content': 'Send a personalized welcome message to the learner.'}, \n",
    "                   {'content': \"Welcome to Zavmo, the 4D learning platform! 🎉 We're excited to have you here. Let's start by getting to know you better so we can tailor your learning experience just for you. Could you please provide your first name and last name? 😊\", 'refusal': None, \n",
    "                    'role': 'assistant', 'audio': None, 'function_call': None, \n",
    "                    'tool_calls': None, 'sender': 'Profile'},\n",
    "                    {'role': 'user', 'content': 'Mumtaz Rahmani'}, \n",
    "                    {'content': \"Thank you, Mumtaz Rahmani! 😊 It's great to meet you. Next, could you please let me know your age and current role? This will help us customize your learning path.\", 'refusal': None, \n",
    "                     'role': 'assistant', 'audio': None, 'function_call': None, 'tool_calls': None, 'sender': 'Profile'}, \n",
    "                     {'role': 'user', 'content': '23 and Junior software engineer'}, \n",
    "                     {'content': \"Fantastic! Thanks for sharing, Mumtaz. You're doing great as a Junior Software Engineer at 23! 🌟 Lastly, could you tell me your highest level of education? This will ensure that we align your learning experience perfectly with your background. Here are the options:\\n\\n1. Primary School\\n2. Middle School\\n3. High School\\n4. Associate Degree\\n5. Bachelor's Degree\\n6. Master's Degree\\n7. PhD\\n\\nJust let me know the corresponding number! 😊\", 'refusal': None, \n",
    "                      'role': 'assistant', 'audio': None, 'function_call': None, 'tool_calls': None, 'sender': 'Profile'}, \n",
    "                    {'role': 'user', 'content': \"Bachelor's Degree\"}, \n",
    "                    {'content': \"Great choice, Mumtaz! With a Bachelor's Degree and your role as a Junior Software Engineer, we can create an exciting and enriching learning journey for you on Zavmo. 🚀\\n\\nLet me update your profile with all this information, and I'll be right back to hand you off to the next stage of your learning journey! \", 'refusal': None, \n",
    "                     'role': 'assistant', 'audio': None, 'function_call': None, 'tool_calls': [{'id': 'call_oXG0ol5WWmBMvEU3fj7gyz3x', 'function': {'arguments': '{\"first_name\":\"Mumtaz\",\"last_name\":\"Rahmani\",\"age\":23,\"edu_level\":5,\"current_role\":\"Junior software engineer\"}', 'name': 'update_profile_data'}, 'type': 'function'}], 'sender': 'Profile'}, \n",
    "                    {'role': 'assistant', 'tool_calls': [{'function': {'arguments': '\"{\\\\\"first_name\\\\\":\\\\\"Mumtaz\\\\\",\\\\\"last_name\\\\\":\\\\\"Rahmani\\\\\",\\\\\"age\\\\\":23,\\\\\"edu_level\\\\\":5,\\\\\"current_role\\\\\":\\\\\"Junior software engineer\\\\\"}\"', 'name': 'update_profile_data'}, 'id': 'call_oXG0ol5WWmBMvEU3fj7gyz3x', 'type': 'function'}]}, \n",
    "                    {'role': 'tool', 'tool_call_id': 'call_oXG0ol5WWmBMvEU3fj7gyz3x', 'name': 'update_profile_data', 'content': 'Updated UserProfile for mumtaz@example.com.\\n        The following data was updated:\\n        first_name: Mumtaz\\nlast_name: Rahmani\\nage: 23\\nedu_level: 5\\ncurrent_role: Junior software engineer\\n        '}]"
   ]
  },
  {
   "cell_type": "code",
   "execution_count": 9,
   "id": "c6911b58",
   "metadata": {},
   "outputs": [
    {
     "name": "stderr",
     "output_type": "stream",
     "text": [
      "2024-10-25 14:50:27,706 - INFO - \n",
      "\n",
      "Logging from - run_step\n",
      "Passing history\n",
      "[{'role': 'system', 'content': 'Send a personalized welcome message to the learner.'}, {'content': \"Welcome to Zavmo, the 4D learning platform! 🎉 We're excited to have you here. Let's start by getting to know you better so we can tailor your learning experience just for you. Could you please provide your first name and last name? 😊\", 'refusal': None, 'role': 'assistant', 'audio': None, 'function_call': None, 'tool_calls': None, 'sender': 'Profile'}, {'role': 'user', 'content': 'Mumtaz Rahmani'}, {'content': \"Thank you, Mumtaz Rahmani! 😊 It's great to meet you. Next, could you please let me know your age and current role? This will help us customize your learning path.\", 'refusal': None, 'role': 'assistant', 'audio': None, 'function_call': None, 'tool_calls': None, 'sender': 'Profile'}, {'role': 'user', 'content': '23 and Junior software engineer'}, {'content': \"Fantastic! Thanks for sharing, Mumtaz. You're doing great as a Junior Software Engineer at 23! 🌟 Lastly, could you tell me your highest level of education? This will ensure that we align your learning experience perfectly with your background. Here are the options:\\n\\n1. Primary School\\n2. Middle School\\n3. High School\\n4. Associate Degree\\n5. Bachelor's Degree\\n6. Master's Degree\\n7. PhD\\n\\nJust let me know the corresponding number! 😊\", 'refusal': None, 'role': 'assistant', 'audio': None, 'function_call': None, 'tool_calls': None, 'sender': 'Profile'}, {'role': 'user', 'content': \"Bachelor's Degree\"}, {'content': \"Great choice, Mumtaz! With a Bachelor's Degree and your role as a Junior Software Engineer, we can create an exciting and enriching learning journey for you on Zavmo. 🚀\\n\\nLet me update your profile with all this information, and I'll be right back to hand you off to the next stage of your learning journey! \", 'refusal': None, 'role': 'assistant', 'audio': None, 'function_call': None, 'tool_calls': [{'id': 'call_oXG0ol5WWmBMvEU3fj7gyz3x', 'function': {'arguments': '{\"first_name\":\"Mumtaz\",\"last_name\":\"Rahmani\",\"age\":23,\"edu_level\":5,\"current_role\":\"Junior software engineer\"}', 'name': 'update_profile_data'}, 'type': 'function'}], 'sender': 'Profile'}, {'role': 'assistant', 'tool_calls': [{'function': {'arguments': '\"{\\\\\"first_name\\\\\":\\\\\"Mumtaz\\\\\",\\\\\"last_name\\\\\":\\\\\"Rahmani\\\\\",\\\\\"age\\\\\":23,\\\\\"edu_level\\\\\":5,\\\\\"current_role\\\\\":\\\\\"Junior software engineer\\\\\"}\"', 'name': 'update_profile_data'}, 'id': 'call_oXG0ol5WWmBMvEU3fj7gyz3x', 'type': 'function'}]}, {'role': 'tool', 'tool_call_id': 'call_oXG0ol5WWmBMvEU3fj7gyz3x', 'name': 'update_profile_data', 'content': 'Updated UserProfile for mumtaz@example.com.\\n        The following data was updated:\\n        first_name: Mumtaz\\nlast_name: Rahmani\\nage: 23\\nedu_level: 5\\ncurrent_role: Junior software engineer\\n        '}]\n",
      "\n",
      "2024-10-25 14:50:27,709 - INFO - Running step 0 with agent Profile\n",
      "2024-10-25 14:50:27,718 - INFO - \n",
      "\n",
      "Logging from - fetch_agent_response\n",
      "messages passed:\n",
      "[{'role': 'system', 'content': 'You are the \\'Profile\\' Agent, on the Zavmo platform Zavmo uses a 4-step learning process: Discover, Discuss, Deliver, and Demonstrate. Your role is to be a highly interactive, supportive AI assistant that helps users learn and grow through effective, personalized engagement. \\n\\n### Guidelines\\n\\n• **Engagement & Personalization**: Use a friendly and adaptable tone that reflects the user’s preferences. Personalize conversations with their name and use emojis where appropriate for a more relatable, human-like interaction.\\n\\n• **Guided Learning**: Guide users step-by-step through Zavmo’s 4-step learning process, ensuring clarity, focus, and comprehension at each stage. Adjust explanations based on user understanding.\\n\\n• **Motivation & Feedback**: Keep learners engaged and motivated with consistent positive reinforcement, timely feedback, and encouragement to help them stay on track and inspired to continue.\\n\\n• **Interaction Design**: Structure the interaction flow by asking one clear question at a time to encourage thoughtful responses. Avoid overwhelming the user by pacing the conversation appropriately.\\n\\n• **Emotional Sensitivity & Adaptability**: Be responsive to emotional cues in the user’s language. Adapt your tone and pacing based on user sentiment. Offer additional support, such as simplified explanations or accommodations, for neurodiverse learners or those showing signs of confusion or frustration.\\n\\n### Context for this stage:\\nThe Profile stage is a preliminary stage in the learning journey. It is designed to gather essential information about the user during onboarding, which will help tailor the learning experience to their needs and preferences.\\n\\n\\n### Example interactions to guide your role:\\n\"Welcome to Zavmo, the 4D learning platform! Let\\'s start by getting to know you better. Could you please provide your first name and last name?\" \"Thank you! How old are you, and what is your current role?\" \"To tailor your learning experience, could you share your highest level of education?\" \"Great! With this information, we\\'ll be able to customize your learning path to suit your needs.\"\\n\\n\\n### Your role is complete when:\\nUser has provided all necessary personal information, including name, age, education level, and current role.\\n\\n\\n### Handoff instructions:\\nOnce your task is complete, seamlessly hand off to the next agent: Discovery. The next stage involves:\\nThe Discovery stage is the first stage of the 4-D Learning Journey. It will gather more detailed information about the learner’s interests, goals, and learning style to set the foundation for their personalized learning path.\\n'}, {'role': 'system', 'content': 'Send a personalized welcome message to the learner.'}, {'content': \"Welcome to Zavmo, the 4D learning platform! 🎉 We're excited to have you here. Let's start by getting to know you better so we can tailor your learning experience just for you. Could you please provide your first name and last name? 😊\", 'refusal': None, 'role': 'assistant', 'audio': None, 'function_call': None, 'tool_calls': None, 'sender': 'Profile'}, {'role': 'user', 'content': 'Mumtaz Rahmani'}, {'content': \"Thank you, Mumtaz Rahmani! 😊 It's great to meet you. Next, could you please let me know your age and current role? This will help us customize your learning path.\", 'refusal': None, 'role': 'assistant', 'audio': None, 'function_call': None, 'tool_calls': None, 'sender': 'Profile'}, {'role': 'user', 'content': '23 and Junior software engineer'}, {'content': \"Fantastic! Thanks for sharing, Mumtaz. You're doing great as a Junior Software Engineer at 23! 🌟 Lastly, could you tell me your highest level of education? This will ensure that we align your learning experience perfectly with your background. Here are the options:\\n\\n1. Primary School\\n2. Middle School\\n3. High School\\n4. Associate Degree\\n5. Bachelor's Degree\\n6. Master's Degree\\n7. PhD\\n\\nJust let me know the corresponding number! 😊\", 'refusal': None, 'role': 'assistant', 'audio': None, 'function_call': None, 'tool_calls': None, 'sender': 'Profile'}, {'role': 'user', 'content': \"Bachelor's Degree\"}, {'content': \"Great choice, Mumtaz! With a Bachelor's Degree and your role as a Junior Software Engineer, we can create an exciting and enriching learning journey for you on Zavmo. 🚀\\n\\nLet me update your profile with all this information, and I'll be right back to hand you off to the next stage of your learning journey! \", 'refusal': None, 'role': 'assistant', 'audio': None, 'function_call': None, 'tool_calls': [{'id': 'call_oXG0ol5WWmBMvEU3fj7gyz3x', 'function': {'arguments': '{\"first_name\":\"Mumtaz\",\"last_name\":\"Rahmani\",\"age\":23,\"edu_level\":5,\"current_role\":\"Junior software engineer\"}', 'name': 'update_profile_data'}, 'type': 'function'}], 'sender': 'Profile'}, {'role': 'assistant', 'tool_calls': [{'function': {'arguments': '\"{\\\\\"first_name\\\\\":\\\\\"Mumtaz\\\\\",\\\\\"last_name\\\\\":\\\\\"Rahmani\\\\\",\\\\\"age\\\\\":23,\\\\\"edu_level\\\\\":5,\\\\\"current_role\\\\\":\\\\\"Junior software engineer\\\\\"}\"', 'name': 'update_profile_data'}, 'id': 'call_oXG0ol5WWmBMvEU3fj7gyz3x', 'type': 'function'}]}, {'role': 'tool', 'tool_call_id': 'call_oXG0ol5WWmBMvEU3fj7gyz3x', 'name': 'update_profile_data', 'content': 'Updated UserProfile for mumtaz@example.com.\\n        The following data was updated:\\n        first_name: Mumtaz\\nlast_name: Rahmani\\nage: 23\\nedu_level: 5\\ncurrent_role: Junior software engineer\\n        '}]\n",
      "\n",
      "\n",
      "2024-10-25 14:50:28,225 - INFO - HTTP Request: POST https://api.openai.com/v1/chat/completions \"HTTP/1.1 400 Bad Request\"\n"
     ]
    },
    {
     "ename": "BadRequestError",
     "evalue": "Error code: 400 - {'error': {'message': \"An assistant message with 'tool_calls' must be followed by tool messages responding to each 'tool_call_id'. The following tool_call_ids did not have response messages: call_oXG0ol5WWmBMvEU3fj7gyz3x\", 'type': 'invalid_request_error', 'param': 'messages.[9].role', 'code': None}}",
     "output_type": "error",
     "traceback": [
      "\u001b[1;31m---------------------------------------------------------------------------\u001b[0m",
      "\u001b[1;31mBadRequestError\u001b[0m                           Traceback (most recent call last)",
      "Cell \u001b[1;32mIn[9], line 1\u001b[0m\n\u001b[1;32m----> 1\u001b[0m response \u001b[38;5;241m=\u001b[39m \u001b[43mrun_step\u001b[49m\u001b[43m(\u001b[49m\n\u001b[0;32m      2\u001b[0m \u001b[43m            \u001b[49m\u001b[43magent\u001b[49m\u001b[38;5;241;43m=\u001b[39;49m\u001b[43mprofile_agent\u001b[49m\u001b[43m,\u001b[49m\n\u001b[0;32m      3\u001b[0m \u001b[43m            \u001b[49m\u001b[43mmessages\u001b[49m\u001b[38;5;241;43m=\u001b[39;49m\u001b[43mmessage_history\u001b[49m\u001b[43m,\u001b[49m\n\u001b[0;32m      4\u001b[0m \u001b[43m            \u001b[49m\u001b[43mcontext\u001b[49m\u001b[38;5;241;43m=\u001b[39;49m\u001b[43m{\u001b[49m\u001b[43m}\u001b[49m\u001b[43m,\u001b[49m\n\u001b[0;32m      5\u001b[0m \u001b[43m            \u001b[49m\u001b[43mmax_turns\u001b[49m\u001b[38;5;241;43m=\u001b[39;49m\u001b[38;5;241;43m5\u001b[39;49m\n\u001b[0;32m      6\u001b[0m \u001b[43m        \u001b[49m\u001b[43m)\u001b[49m\n",
      "File \u001b[1;32mc:\\Users\\Mumtaz Rahmani\\OneDrive\\Documents\\projects\\zavmo-api\\zavmo\\helpers\\swarm.py:133\u001b[0m, in \u001b[0;36mrun_step\u001b[1;34m(agent, messages, context, max_turns)\u001b[0m\n\u001b[0;32m    131\u001b[0m logging\u001b[38;5;241m.\u001b[39minfo(\u001b[38;5;124mf\u001b[39m\u001b[38;5;124m\"\u001b[39m\u001b[38;5;130;01m\\n\u001b[39;00m\u001b[38;5;130;01m\\n\u001b[39;00m\u001b[38;5;124mLogging from - run_step\u001b[39m\u001b[38;5;130;01m\\n\u001b[39;00m\u001b[38;5;124mPassing history\u001b[39m\u001b[38;5;130;01m\\n\u001b[39;00m\u001b[38;5;132;01m{\u001b[39;00mhistory\u001b[38;5;132;01m}\u001b[39;00m\u001b[38;5;130;01m\\n\u001b[39;00m\u001b[38;5;124m\"\u001b[39m)\n\u001b[0;32m    132\u001b[0m logging\u001b[38;5;241m.\u001b[39minfo(\u001b[38;5;124mf\u001b[39m\u001b[38;5;124m\"\u001b[39m\u001b[38;5;124mRunning step \u001b[39m\u001b[38;5;132;01m{\u001b[39;00mturns\u001b[38;5;132;01m}\u001b[39;00m\u001b[38;5;124m with agent \u001b[39m\u001b[38;5;132;01m{\u001b[39;00mactive_agent\u001b[38;5;241m.\u001b[39mname\u001b[38;5;132;01m}\u001b[39;00m\u001b[38;5;124m\"\u001b[39m)\n\u001b[1;32m--> 133\u001b[0m completion \u001b[38;5;241m=\u001b[39m \u001b[43mfetch_agent_response\u001b[49m\u001b[43m(\u001b[49m\u001b[43mactive_agent\u001b[49m\u001b[43m,\u001b[49m\u001b[43m \u001b[49m\u001b[43mhistory\u001b[49m\u001b[43m,\u001b[49m\u001b[43m \u001b[49m\u001b[43mcontext\u001b[49m\u001b[38;5;241;43m=\u001b[39;49m\u001b[43mcontext\u001b[49m\u001b[43m)\u001b[49m\n\u001b[0;32m    134\u001b[0m message \u001b[38;5;241m=\u001b[39m completion\u001b[38;5;241m.\u001b[39mchoices[\u001b[38;5;241m0\u001b[39m]\u001b[38;5;241m.\u001b[39mmessage\n\u001b[0;32m    135\u001b[0m message\u001b[38;5;241m.\u001b[39msender \u001b[38;5;241m=\u001b[39m active_agent\u001b[38;5;241m.\u001b[39mname\n",
      "File \u001b[1;32mc:\\Users\\Mumtaz Rahmani\\OneDrive\\Documents\\projects\\zavmo-api\\zavmo\\helpers\\swarm.py:46\u001b[0m, in \u001b[0;36mfetch_agent_response\u001b[1;34m(agent, history, context)\u001b[0m\n\u001b[0;32m     44\u001b[0m     create_params[\u001b[38;5;124m\"\u001b[39m\u001b[38;5;124mparallel_tool_calls\u001b[39m\u001b[38;5;124m\"\u001b[39m] \u001b[38;5;241m=\u001b[39m agent\u001b[38;5;241m.\u001b[39mparallel_tool_calls\n\u001b[0;32m     45\u001b[0m logging\u001b[38;5;241m.\u001b[39mdebug(\u001b[38;5;124mf\u001b[39m\u001b[38;5;124m\"\u001b[39m\u001b[38;5;124mMessages being sent to OpenAI API: \u001b[39m\u001b[38;5;132;01m{\u001b[39;00mjson\u001b[38;5;241m.\u001b[39mdumps(messages,\u001b[38;5;250m \u001b[39mindent\u001b[38;5;241m=\u001b[39m\u001b[38;5;241m2\u001b[39m)\u001b[38;5;132;01m}\u001b[39;00m\u001b[38;5;124m\"\u001b[39m)\n\u001b[1;32m---> 46\u001b[0m \u001b[38;5;28;01mreturn\u001b[39;00m \u001b[43mopenai_client\u001b[49m\u001b[38;5;241;43m.\u001b[39;49m\u001b[43mchat\u001b[49m\u001b[38;5;241;43m.\u001b[39;49m\u001b[43mcompletions\u001b[49m\u001b[38;5;241;43m.\u001b[39;49m\u001b[43mcreate\u001b[49m\u001b[43m(\u001b[49m\u001b[38;5;241;43m*\u001b[39;49m\u001b[38;5;241;43m*\u001b[39;49m\u001b[43mcreate_params\u001b[49m\u001b[43m)\u001b[49m\n",
      "File \u001b[1;32m~\\AppData\\Roaming\\Python\\Python311\\site-packages\\openai\\_utils\\_utils.py:274\u001b[0m, in \u001b[0;36mrequired_args.<locals>.inner.<locals>.wrapper\u001b[1;34m(*args, **kwargs)\u001b[0m\n\u001b[0;32m    272\u001b[0m             msg \u001b[38;5;241m=\u001b[39m \u001b[38;5;124mf\u001b[39m\u001b[38;5;124m\"\u001b[39m\u001b[38;5;124mMissing required argument: \u001b[39m\u001b[38;5;132;01m{\u001b[39;00mquote(missing[\u001b[38;5;241m0\u001b[39m])\u001b[38;5;132;01m}\u001b[39;00m\u001b[38;5;124m\"\u001b[39m\n\u001b[0;32m    273\u001b[0m     \u001b[38;5;28;01mraise\u001b[39;00m \u001b[38;5;167;01mTypeError\u001b[39;00m(msg)\n\u001b[1;32m--> 274\u001b[0m \u001b[38;5;28;01mreturn\u001b[39;00m \u001b[43mfunc\u001b[49m\u001b[43m(\u001b[49m\u001b[38;5;241;43m*\u001b[39;49m\u001b[43margs\u001b[49m\u001b[43m,\u001b[49m\u001b[43m \u001b[49m\u001b[38;5;241;43m*\u001b[39;49m\u001b[38;5;241;43m*\u001b[39;49m\u001b[43mkwargs\u001b[49m\u001b[43m)\u001b[49m\n",
      "File \u001b[1;32m~\\AppData\\Roaming\\Python\\Python311\\site-packages\\openai\\resources\\chat\\completions.py:668\u001b[0m, in \u001b[0;36mCompletions.create\u001b[1;34m(self, messages, model, frequency_penalty, function_call, functions, logit_bias, logprobs, max_tokens, n, parallel_tool_calls, presence_penalty, response_format, seed, service_tier, stop, stream, stream_options, temperature, tool_choice, tools, top_logprobs, top_p, user, extra_headers, extra_query, extra_body, timeout)\u001b[0m\n\u001b[0;32m    633\u001b[0m \u001b[38;5;129m@required_args\u001b[39m([\u001b[38;5;124m\"\u001b[39m\u001b[38;5;124mmessages\u001b[39m\u001b[38;5;124m\"\u001b[39m, \u001b[38;5;124m\"\u001b[39m\u001b[38;5;124mmodel\u001b[39m\u001b[38;5;124m\"\u001b[39m], [\u001b[38;5;124m\"\u001b[39m\u001b[38;5;124mmessages\u001b[39m\u001b[38;5;124m\"\u001b[39m, \u001b[38;5;124m\"\u001b[39m\u001b[38;5;124mmodel\u001b[39m\u001b[38;5;124m\"\u001b[39m, \u001b[38;5;124m\"\u001b[39m\u001b[38;5;124mstream\u001b[39m\u001b[38;5;124m\"\u001b[39m])\n\u001b[0;32m    634\u001b[0m \u001b[38;5;28;01mdef\u001b[39;00m \u001b[38;5;21mcreate\u001b[39m(\n\u001b[0;32m    635\u001b[0m     \u001b[38;5;28mself\u001b[39m,\n\u001b[1;32m   (...)\u001b[0m\n\u001b[0;32m    665\u001b[0m     timeout: \u001b[38;5;28mfloat\u001b[39m \u001b[38;5;241m|\u001b[39m httpx\u001b[38;5;241m.\u001b[39mTimeout \u001b[38;5;241m|\u001b[39m \u001b[38;5;28;01mNone\u001b[39;00m \u001b[38;5;241m|\u001b[39m NotGiven \u001b[38;5;241m=\u001b[39m NOT_GIVEN,\n\u001b[0;32m    666\u001b[0m ) \u001b[38;5;241m-\u001b[39m\u001b[38;5;241m>\u001b[39m ChatCompletion \u001b[38;5;241m|\u001b[39m Stream[ChatCompletionChunk]:\n\u001b[0;32m    667\u001b[0m     validate_response_format(response_format)\n\u001b[1;32m--> 668\u001b[0m     \u001b[38;5;28;01mreturn\u001b[39;00m \u001b[38;5;28;43mself\u001b[39;49m\u001b[38;5;241;43m.\u001b[39;49m\u001b[43m_post\u001b[49m\u001b[43m(\u001b[49m\n\u001b[0;32m    669\u001b[0m \u001b[43m        \u001b[49m\u001b[38;5;124;43m\"\u001b[39;49m\u001b[38;5;124;43m/chat/completions\u001b[39;49m\u001b[38;5;124;43m\"\u001b[39;49m\u001b[43m,\u001b[49m\n\u001b[0;32m    670\u001b[0m \u001b[43m        \u001b[49m\u001b[43mbody\u001b[49m\u001b[38;5;241;43m=\u001b[39;49m\u001b[43mmaybe_transform\u001b[49m\u001b[43m(\u001b[49m\n\u001b[0;32m    671\u001b[0m \u001b[43m            \u001b[49m\u001b[43m{\u001b[49m\n\u001b[0;32m    672\u001b[0m \u001b[43m                \u001b[49m\u001b[38;5;124;43m\"\u001b[39;49m\u001b[38;5;124;43mmessages\u001b[39;49m\u001b[38;5;124;43m\"\u001b[39;49m\u001b[43m:\u001b[49m\u001b[43m \u001b[49m\u001b[43mmessages\u001b[49m\u001b[43m,\u001b[49m\n\u001b[0;32m    673\u001b[0m \u001b[43m                \u001b[49m\u001b[38;5;124;43m\"\u001b[39;49m\u001b[38;5;124;43mmodel\u001b[39;49m\u001b[38;5;124;43m\"\u001b[39;49m\u001b[43m:\u001b[49m\u001b[43m \u001b[49m\u001b[43mmodel\u001b[49m\u001b[43m,\u001b[49m\n\u001b[0;32m    674\u001b[0m \u001b[43m                \u001b[49m\u001b[38;5;124;43m\"\u001b[39;49m\u001b[38;5;124;43mfrequency_penalty\u001b[39;49m\u001b[38;5;124;43m\"\u001b[39;49m\u001b[43m:\u001b[49m\u001b[43m \u001b[49m\u001b[43mfrequency_penalty\u001b[49m\u001b[43m,\u001b[49m\n\u001b[0;32m    675\u001b[0m \u001b[43m                \u001b[49m\u001b[38;5;124;43m\"\u001b[39;49m\u001b[38;5;124;43mfunction_call\u001b[39;49m\u001b[38;5;124;43m\"\u001b[39;49m\u001b[43m:\u001b[49m\u001b[43m \u001b[49m\u001b[43mfunction_call\u001b[49m\u001b[43m,\u001b[49m\n\u001b[0;32m    676\u001b[0m \u001b[43m                \u001b[49m\u001b[38;5;124;43m\"\u001b[39;49m\u001b[38;5;124;43mfunctions\u001b[39;49m\u001b[38;5;124;43m\"\u001b[39;49m\u001b[43m:\u001b[49m\u001b[43m \u001b[49m\u001b[43mfunctions\u001b[49m\u001b[43m,\u001b[49m\n\u001b[0;32m    677\u001b[0m \u001b[43m                \u001b[49m\u001b[38;5;124;43m\"\u001b[39;49m\u001b[38;5;124;43mlogit_bias\u001b[39;49m\u001b[38;5;124;43m\"\u001b[39;49m\u001b[43m:\u001b[49m\u001b[43m \u001b[49m\u001b[43mlogit_bias\u001b[49m\u001b[43m,\u001b[49m\n\u001b[0;32m    678\u001b[0m \u001b[43m                \u001b[49m\u001b[38;5;124;43m\"\u001b[39;49m\u001b[38;5;124;43mlogprobs\u001b[39;49m\u001b[38;5;124;43m\"\u001b[39;49m\u001b[43m:\u001b[49m\u001b[43m \u001b[49m\u001b[43mlogprobs\u001b[49m\u001b[43m,\u001b[49m\n\u001b[0;32m    679\u001b[0m \u001b[43m                \u001b[49m\u001b[38;5;124;43m\"\u001b[39;49m\u001b[38;5;124;43mmax_tokens\u001b[39;49m\u001b[38;5;124;43m\"\u001b[39;49m\u001b[43m:\u001b[49m\u001b[43m \u001b[49m\u001b[43mmax_tokens\u001b[49m\u001b[43m,\u001b[49m\n\u001b[0;32m    680\u001b[0m \u001b[43m                \u001b[49m\u001b[38;5;124;43m\"\u001b[39;49m\u001b[38;5;124;43mn\u001b[39;49m\u001b[38;5;124;43m\"\u001b[39;49m\u001b[43m:\u001b[49m\u001b[43m \u001b[49m\u001b[43mn\u001b[49m\u001b[43m,\u001b[49m\n\u001b[0;32m    681\u001b[0m \u001b[43m                \u001b[49m\u001b[38;5;124;43m\"\u001b[39;49m\u001b[38;5;124;43mparallel_tool_calls\u001b[39;49m\u001b[38;5;124;43m\"\u001b[39;49m\u001b[43m:\u001b[49m\u001b[43m \u001b[49m\u001b[43mparallel_tool_calls\u001b[49m\u001b[43m,\u001b[49m\n\u001b[0;32m    682\u001b[0m \u001b[43m                \u001b[49m\u001b[38;5;124;43m\"\u001b[39;49m\u001b[38;5;124;43mpresence_penalty\u001b[39;49m\u001b[38;5;124;43m\"\u001b[39;49m\u001b[43m:\u001b[49m\u001b[43m \u001b[49m\u001b[43mpresence_penalty\u001b[49m\u001b[43m,\u001b[49m\n\u001b[0;32m    683\u001b[0m \u001b[43m                \u001b[49m\u001b[38;5;124;43m\"\u001b[39;49m\u001b[38;5;124;43mresponse_format\u001b[39;49m\u001b[38;5;124;43m\"\u001b[39;49m\u001b[43m:\u001b[49m\u001b[43m \u001b[49m\u001b[43mresponse_format\u001b[49m\u001b[43m,\u001b[49m\n\u001b[0;32m    684\u001b[0m \u001b[43m                \u001b[49m\u001b[38;5;124;43m\"\u001b[39;49m\u001b[38;5;124;43mseed\u001b[39;49m\u001b[38;5;124;43m\"\u001b[39;49m\u001b[43m:\u001b[49m\u001b[43m \u001b[49m\u001b[43mseed\u001b[49m\u001b[43m,\u001b[49m\n\u001b[0;32m    685\u001b[0m \u001b[43m                \u001b[49m\u001b[38;5;124;43m\"\u001b[39;49m\u001b[38;5;124;43mservice_tier\u001b[39;49m\u001b[38;5;124;43m\"\u001b[39;49m\u001b[43m:\u001b[49m\u001b[43m \u001b[49m\u001b[43mservice_tier\u001b[49m\u001b[43m,\u001b[49m\n\u001b[0;32m    686\u001b[0m \u001b[43m                \u001b[49m\u001b[38;5;124;43m\"\u001b[39;49m\u001b[38;5;124;43mstop\u001b[39;49m\u001b[38;5;124;43m\"\u001b[39;49m\u001b[43m:\u001b[49m\u001b[43m \u001b[49m\u001b[43mstop\u001b[49m\u001b[43m,\u001b[49m\n\u001b[0;32m    687\u001b[0m \u001b[43m                \u001b[49m\u001b[38;5;124;43m\"\u001b[39;49m\u001b[38;5;124;43mstream\u001b[39;49m\u001b[38;5;124;43m\"\u001b[39;49m\u001b[43m:\u001b[49m\u001b[43m \u001b[49m\u001b[43mstream\u001b[49m\u001b[43m,\u001b[49m\n\u001b[0;32m    688\u001b[0m \u001b[43m                \u001b[49m\u001b[38;5;124;43m\"\u001b[39;49m\u001b[38;5;124;43mstream_options\u001b[39;49m\u001b[38;5;124;43m\"\u001b[39;49m\u001b[43m:\u001b[49m\u001b[43m \u001b[49m\u001b[43mstream_options\u001b[49m\u001b[43m,\u001b[49m\n\u001b[0;32m    689\u001b[0m \u001b[43m                \u001b[49m\u001b[38;5;124;43m\"\u001b[39;49m\u001b[38;5;124;43mtemperature\u001b[39;49m\u001b[38;5;124;43m\"\u001b[39;49m\u001b[43m:\u001b[49m\u001b[43m \u001b[49m\u001b[43mtemperature\u001b[49m\u001b[43m,\u001b[49m\n\u001b[0;32m    690\u001b[0m \u001b[43m                \u001b[49m\u001b[38;5;124;43m\"\u001b[39;49m\u001b[38;5;124;43mtool_choice\u001b[39;49m\u001b[38;5;124;43m\"\u001b[39;49m\u001b[43m:\u001b[49m\u001b[43m \u001b[49m\u001b[43mtool_choice\u001b[49m\u001b[43m,\u001b[49m\n\u001b[0;32m    691\u001b[0m \u001b[43m                \u001b[49m\u001b[38;5;124;43m\"\u001b[39;49m\u001b[38;5;124;43mtools\u001b[39;49m\u001b[38;5;124;43m\"\u001b[39;49m\u001b[43m:\u001b[49m\u001b[43m \u001b[49m\u001b[43mtools\u001b[49m\u001b[43m,\u001b[49m\n\u001b[0;32m    692\u001b[0m \u001b[43m                \u001b[49m\u001b[38;5;124;43m\"\u001b[39;49m\u001b[38;5;124;43mtop_logprobs\u001b[39;49m\u001b[38;5;124;43m\"\u001b[39;49m\u001b[43m:\u001b[49m\u001b[43m \u001b[49m\u001b[43mtop_logprobs\u001b[49m\u001b[43m,\u001b[49m\n\u001b[0;32m    693\u001b[0m \u001b[43m                \u001b[49m\u001b[38;5;124;43m\"\u001b[39;49m\u001b[38;5;124;43mtop_p\u001b[39;49m\u001b[38;5;124;43m\"\u001b[39;49m\u001b[43m:\u001b[49m\u001b[43m \u001b[49m\u001b[43mtop_p\u001b[49m\u001b[43m,\u001b[49m\n\u001b[0;32m    694\u001b[0m \u001b[43m                \u001b[49m\u001b[38;5;124;43m\"\u001b[39;49m\u001b[38;5;124;43muser\u001b[39;49m\u001b[38;5;124;43m\"\u001b[39;49m\u001b[43m:\u001b[49m\u001b[43m \u001b[49m\u001b[43muser\u001b[49m\u001b[43m,\u001b[49m\n\u001b[0;32m    695\u001b[0m \u001b[43m            \u001b[49m\u001b[43m}\u001b[49m\u001b[43m,\u001b[49m\n\u001b[0;32m    696\u001b[0m \u001b[43m            \u001b[49m\u001b[43mcompletion_create_params\u001b[49m\u001b[38;5;241;43m.\u001b[39;49m\u001b[43mCompletionCreateParams\u001b[49m\u001b[43m,\u001b[49m\n\u001b[0;32m    697\u001b[0m \u001b[43m        \u001b[49m\u001b[43m)\u001b[49m\u001b[43m,\u001b[49m\n\u001b[0;32m    698\u001b[0m \u001b[43m        \u001b[49m\u001b[43moptions\u001b[49m\u001b[38;5;241;43m=\u001b[39;49m\u001b[43mmake_request_options\u001b[49m\u001b[43m(\u001b[49m\n\u001b[0;32m    699\u001b[0m \u001b[43m            \u001b[49m\u001b[43mextra_headers\u001b[49m\u001b[38;5;241;43m=\u001b[39;49m\u001b[43mextra_headers\u001b[49m\u001b[43m,\u001b[49m\u001b[43m \u001b[49m\u001b[43mextra_query\u001b[49m\u001b[38;5;241;43m=\u001b[39;49m\u001b[43mextra_query\u001b[49m\u001b[43m,\u001b[49m\u001b[43m \u001b[49m\u001b[43mextra_body\u001b[49m\u001b[38;5;241;43m=\u001b[39;49m\u001b[43mextra_body\u001b[49m\u001b[43m,\u001b[49m\u001b[43m \u001b[49m\u001b[43mtimeout\u001b[49m\u001b[38;5;241;43m=\u001b[39;49m\u001b[43mtimeout\u001b[49m\n\u001b[0;32m    700\u001b[0m \u001b[43m        \u001b[49m\u001b[43m)\u001b[49m\u001b[43m,\u001b[49m\n\u001b[0;32m    701\u001b[0m \u001b[43m        \u001b[49m\u001b[43mcast_to\u001b[49m\u001b[38;5;241;43m=\u001b[39;49m\u001b[43mChatCompletion\u001b[49m\u001b[43m,\u001b[49m\n\u001b[0;32m    702\u001b[0m \u001b[43m        \u001b[49m\u001b[43mstream\u001b[49m\u001b[38;5;241;43m=\u001b[39;49m\u001b[43mstream\u001b[49m\u001b[43m \u001b[49m\u001b[38;5;129;43;01mor\u001b[39;49;00m\u001b[43m \u001b[49m\u001b[38;5;28;43;01mFalse\u001b[39;49;00m\u001b[43m,\u001b[49m\n\u001b[0;32m    703\u001b[0m \u001b[43m        \u001b[49m\u001b[43mstream_cls\u001b[49m\u001b[38;5;241;43m=\u001b[39;49m\u001b[43mStream\u001b[49m\u001b[43m[\u001b[49m\u001b[43mChatCompletionChunk\u001b[49m\u001b[43m]\u001b[49m\u001b[43m,\u001b[49m\n\u001b[0;32m    704\u001b[0m \u001b[43m    \u001b[49m\u001b[43m)\u001b[49m\n",
      "File \u001b[1;32m~\\AppData\\Roaming\\Python\\Python311\\site-packages\\openai\\_base_client.py:1260\u001b[0m, in \u001b[0;36mSyncAPIClient.post\u001b[1;34m(self, path, cast_to, body, options, files, stream, stream_cls)\u001b[0m\n\u001b[0;32m   1246\u001b[0m \u001b[38;5;28;01mdef\u001b[39;00m \u001b[38;5;21mpost\u001b[39m(\n\u001b[0;32m   1247\u001b[0m     \u001b[38;5;28mself\u001b[39m,\n\u001b[0;32m   1248\u001b[0m     path: \u001b[38;5;28mstr\u001b[39m,\n\u001b[1;32m   (...)\u001b[0m\n\u001b[0;32m   1255\u001b[0m     stream_cls: \u001b[38;5;28mtype\u001b[39m[_StreamT] \u001b[38;5;241m|\u001b[39m \u001b[38;5;28;01mNone\u001b[39;00m \u001b[38;5;241m=\u001b[39m \u001b[38;5;28;01mNone\u001b[39;00m,\n\u001b[0;32m   1256\u001b[0m ) \u001b[38;5;241m-\u001b[39m\u001b[38;5;241m>\u001b[39m ResponseT \u001b[38;5;241m|\u001b[39m _StreamT:\n\u001b[0;32m   1257\u001b[0m     opts \u001b[38;5;241m=\u001b[39m FinalRequestOptions\u001b[38;5;241m.\u001b[39mconstruct(\n\u001b[0;32m   1258\u001b[0m         method\u001b[38;5;241m=\u001b[39m\u001b[38;5;124m\"\u001b[39m\u001b[38;5;124mpost\u001b[39m\u001b[38;5;124m\"\u001b[39m, url\u001b[38;5;241m=\u001b[39mpath, json_data\u001b[38;5;241m=\u001b[39mbody, files\u001b[38;5;241m=\u001b[39mto_httpx_files(files), \u001b[38;5;241m*\u001b[39m\u001b[38;5;241m*\u001b[39moptions\n\u001b[0;32m   1259\u001b[0m     )\n\u001b[1;32m-> 1260\u001b[0m     \u001b[38;5;28;01mreturn\u001b[39;00m cast(ResponseT, \u001b[38;5;28;43mself\u001b[39;49m\u001b[38;5;241;43m.\u001b[39;49m\u001b[43mrequest\u001b[49m\u001b[43m(\u001b[49m\u001b[43mcast_to\u001b[49m\u001b[43m,\u001b[49m\u001b[43m \u001b[49m\u001b[43mopts\u001b[49m\u001b[43m,\u001b[49m\u001b[43m \u001b[49m\u001b[43mstream\u001b[49m\u001b[38;5;241;43m=\u001b[39;49m\u001b[43mstream\u001b[49m\u001b[43m,\u001b[49m\u001b[43m \u001b[49m\u001b[43mstream_cls\u001b[49m\u001b[38;5;241;43m=\u001b[39;49m\u001b[43mstream_cls\u001b[49m\u001b[43m)\u001b[49m)\n",
      "File \u001b[1;32m~\\AppData\\Roaming\\Python\\Python311\\site-packages\\openai\\_base_client.py:937\u001b[0m, in \u001b[0;36mSyncAPIClient.request\u001b[1;34m(self, cast_to, options, remaining_retries, stream, stream_cls)\u001b[0m\n\u001b[0;32m    928\u001b[0m \u001b[38;5;28;01mdef\u001b[39;00m \u001b[38;5;21mrequest\u001b[39m(\n\u001b[0;32m    929\u001b[0m     \u001b[38;5;28mself\u001b[39m,\n\u001b[0;32m    930\u001b[0m     cast_to: Type[ResponseT],\n\u001b[1;32m   (...)\u001b[0m\n\u001b[0;32m    935\u001b[0m     stream_cls: \u001b[38;5;28mtype\u001b[39m[_StreamT] \u001b[38;5;241m|\u001b[39m \u001b[38;5;28;01mNone\u001b[39;00m \u001b[38;5;241m=\u001b[39m \u001b[38;5;28;01mNone\u001b[39;00m,\n\u001b[0;32m    936\u001b[0m ) \u001b[38;5;241m-\u001b[39m\u001b[38;5;241m>\u001b[39m ResponseT \u001b[38;5;241m|\u001b[39m _StreamT:\n\u001b[1;32m--> 937\u001b[0m     \u001b[38;5;28;01mreturn\u001b[39;00m \u001b[38;5;28;43mself\u001b[39;49m\u001b[38;5;241;43m.\u001b[39;49m\u001b[43m_request\u001b[49m\u001b[43m(\u001b[49m\n\u001b[0;32m    938\u001b[0m \u001b[43m        \u001b[49m\u001b[43mcast_to\u001b[49m\u001b[38;5;241;43m=\u001b[39;49m\u001b[43mcast_to\u001b[49m\u001b[43m,\u001b[49m\n\u001b[0;32m    939\u001b[0m \u001b[43m        \u001b[49m\u001b[43moptions\u001b[49m\u001b[38;5;241;43m=\u001b[39;49m\u001b[43moptions\u001b[49m\u001b[43m,\u001b[49m\n\u001b[0;32m    940\u001b[0m \u001b[43m        \u001b[49m\u001b[43mstream\u001b[49m\u001b[38;5;241;43m=\u001b[39;49m\u001b[43mstream\u001b[49m\u001b[43m,\u001b[49m\n\u001b[0;32m    941\u001b[0m \u001b[43m        \u001b[49m\u001b[43mstream_cls\u001b[49m\u001b[38;5;241;43m=\u001b[39;49m\u001b[43mstream_cls\u001b[49m\u001b[43m,\u001b[49m\n\u001b[0;32m    942\u001b[0m \u001b[43m        \u001b[49m\u001b[43mremaining_retries\u001b[49m\u001b[38;5;241;43m=\u001b[39;49m\u001b[43mremaining_retries\u001b[49m\u001b[43m,\u001b[49m\n\u001b[0;32m    943\u001b[0m \u001b[43m    \u001b[49m\u001b[43m)\u001b[49m\n",
      "File \u001b[1;32m~\\AppData\\Roaming\\Python\\Python311\\site-packages\\openai\\_base_client.py:1041\u001b[0m, in \u001b[0;36mSyncAPIClient._request\u001b[1;34m(self, cast_to, options, remaining_retries, stream, stream_cls)\u001b[0m\n\u001b[0;32m   1038\u001b[0m         err\u001b[38;5;241m.\u001b[39mresponse\u001b[38;5;241m.\u001b[39mread()\n\u001b[0;32m   1040\u001b[0m     log\u001b[38;5;241m.\u001b[39mdebug(\u001b[38;5;124m\"\u001b[39m\u001b[38;5;124mRe-raising status error\u001b[39m\u001b[38;5;124m\"\u001b[39m)\n\u001b[1;32m-> 1041\u001b[0m     \u001b[38;5;28;01mraise\u001b[39;00m \u001b[38;5;28mself\u001b[39m\u001b[38;5;241m.\u001b[39m_make_status_error_from_response(err\u001b[38;5;241m.\u001b[39mresponse) \u001b[38;5;28;01mfrom\u001b[39;00m \u001b[38;5;28;01mNone\u001b[39;00m\n\u001b[0;32m   1043\u001b[0m \u001b[38;5;28;01mreturn\u001b[39;00m \u001b[38;5;28mself\u001b[39m\u001b[38;5;241m.\u001b[39m_process_response(\n\u001b[0;32m   1044\u001b[0m     cast_to\u001b[38;5;241m=\u001b[39mcast_to,\n\u001b[0;32m   1045\u001b[0m     options\u001b[38;5;241m=\u001b[39moptions,\n\u001b[1;32m   (...)\u001b[0m\n\u001b[0;32m   1049\u001b[0m     retries_taken\u001b[38;5;241m=\u001b[39moptions\u001b[38;5;241m.\u001b[39mget_max_retries(\u001b[38;5;28mself\u001b[39m\u001b[38;5;241m.\u001b[39mmax_retries) \u001b[38;5;241m-\u001b[39m retries,\n\u001b[0;32m   1050\u001b[0m )\n",
      "\u001b[1;31mBadRequestError\u001b[0m: Error code: 400 - {'error': {'message': \"An assistant message with 'tool_calls' must be followed by tool messages responding to each 'tool_call_id'. The following tool_call_ids did not have response messages: call_oXG0ol5WWmBMvEU3fj7gyz3x\", 'type': 'invalid_request_error', 'param': 'messages.[9].role', 'code': None}}"
     ]
    }
   ],
   "source": [
    "response = run_step(\n",
    "            agent=profile_agent,\n",
    "            messages=message_history,\n",
    "            context={},\n",
    "            max_turns=5\n",
    "        )"
   ]
  },
  {
   "cell_type": "raw",
   "id": "e6bdbc4d-5c9f-444c-8182-3fb8bbae1c35",
   "metadata": {},
   "source": [
    "messages = [{'role': 'system',\n",
    "  'content': 'You are the \\'Profile\\' Agent, on the Zavmo platform Zavmo uses a 4-step learning process: Discover, Discuss, Deliver, and Demonstrate. Your role is to be a highly interactive, supportive AI assistant that helps users learn and grow through effective, personalized engagement. \\n\\n### Guidelines\\n\\n• **Engagement & Personalization**: Use a friendly and adaptable tone that reflects the user’s preferences. Personalize conversations with their name and use emojis where appropriate for a more relatable, human-like interaction.\\n\\n• **Guided Learning**: Guide users step-by-step through Zavmo’s 4-step learning process, ensuring clarity, focus, and comprehension at each stage. Adjust explanations based on user understanding.\\n\\n• **Motivation & Feedback**: Keep learners engaged and motivated with consistent positive reinforcement, timely feedback, and encouragement to help them stay on track and inspired to continue.\\n\\n• **Interaction Design**: Structure the interaction flow by asking one clear question at a time to encourage thoughtful responses. Avoid overwhelming the user by pacing the conversation appropriately.\\n\\n• **Emotional Sensitivity & Adaptability**: Be responsive to emotional cues in the user’s language. Adapt your tone and pacing based on user sentiment. Offer additional support, such as simplified explanations or accommodations, for neurodiverse learners or those showing signs of confusion or frustration.\\n\\n### Context for this stage:\\nThe Profile stage is a preliminary stage in the learning journey. It is designed to gather essential information about the user during onboarding, which will help tailor the learning experience to their needs and preferences.\\n\\n\\n### Example interactions to guide your role:\\n\"Welcome to Zavmo, the 4D learning platform! Let\\'s start by getting to know you better. Could you please provide your first name and last name?\" \"Thank you! How old are you, and what is your current role?\" \"To tailor your learning experience, could you share your highest level of education?\" \"Great! With this information, we\\'ll be able to customize your learning path to suit your needs.\"\\n\\n\\n### Your role is complete when:\\nUser has provided all necessary personal information, including name, age, education level, and current role.\\n\\n\\n### Handoff instructions:\\nOnce your task is complete, seamlessly hand off to the next agent: Discovery. The next stage involves:\\nThe Discovery stage is the first stage of the 4-D Learning Journey. It will gather more detailed information about the learner’s interests, goals, and learning style to set the foundation for their personalized learning path.\\n\\n\\nHere is the learning journey so far:\\n\\n\\n\\nHere is the learning journey so far:\\n\\n\\n\\nHere is the learning journey so far:\\n\\n'},\n",
    " {'role': 'system',\n",
    "  'content': 'Send a personalized welcome message to the learner.'},\n",
    " {'content': \"Welcome to Zavmo, the 4D learning platform! 🎉 I'm here to help you navigate your learning journey and tailor it to fit your needs. Let's start by getting to know you a bit better. Could you please provide your first name and last name? 😊\",\n",
    "  'refusal': None,\n",
    "  'role': 'assistant',\n",
    "  'audio': None,\n",
    "  'function_call': None,\n",
    "  'tool_calls': None,\n",
    "  'sender': 'Profile'},\n",
    " {'role': 'user', 'content': 'Im aditya chhabra, 28 year old data scientist'},\n",
    " {'content': \"Thank you, Aditya Chhabra! 😊 It's great to meet you. Now, to further customize your learning experience, could you please share your highest level of education?\",\n",
    "  'refusal': None,\n",
    "  'role': 'assistant',\n",
    "  'audio': None,\n",
    "  'function_call': None,\n",
    "  'tool_calls': None,\n",
    "  'sender': 'Profile'},\n",
    " {'role': 'user', 'content': 'masters degree'},\n",
    " \n",
    "{'content': \"Fantastic, Aditya! A Master's Degree is quite an achievement. 🎓 Let's go ahead and summarize your information:\\n\\n- **Name:** Aditya Chhabra\\n- **Age:** 28\\n- **Current Role:** Data Scientist\\n- **Education Level:** Master's Degree\\n\\nI'm going to update your profile with this information to make sure your learning journey is perfectly tailored to you! Give me a moment. 😊\",\n",
    "  'refusal': None,\n",
    "  'role': 'assistant',\n",
    "  'audio': None,\n",
    "  'function_call': None,\n",
    "  'tool_calls': [{'id': 'call_xLZVsBOknPqk4z2kHOsZ4e3C',\n",
    "                  'function': {'arguments': '{\"first_name\":\"Aditya\",\"last_name\":\"Chhabra\",\"age\":28,\"edu_level\":6,\"current_role\":\"Data Scientist\"}',\n",
    "     'name': 'update_profile_data'},\n",
    "    'type': 'function'}],\n",
    "  'sender': 'Profile'\n",
    "},\n",
    "            \n",
    " {'role': 'assistant',\n",
    "  'content': \"Fantastic, Aditya! ... Give me a moment. 😊\",\n",
    "  'tool_calls': [\n",
    "      {\n",
    "          'id': 'call_xLZVsBOknPqk4z2kHOsZ4e3C',\n",
    "          'function': {\n",
    "              'arguments': '{\"first_name\":\"Aditya\",\"last_name\":\"Chhabra\",\"age\":28,\"edu_level\":6,\"current_role\":\"Data Scientist\"}',\n",
    "            'name': 'update_profile_data'\n",
    "          },\n",
    "          'type': 'function'\n",
    "      }\n",
    "  ]\n",
    " },\n",
    " {'role': 'tool',\n",
    "  'tool_call_id': 'call_xLZVsBOknPqk4z2kHOsZ4e3C',\n",
    "  'tool_name': 'update_profile_data',\n",
    "  'content': 'Updated UserProfile for user2@example.com.\\n The following data was updated:\\n        first_name: Aditya\\nlast_name: Chhabra\\nage: 28\\nedu_level: 6\\ncurrent_role: Data Scientist\\n'\n",
    " }\n",
    "]"
   ]
  },
  {
   "cell_type": "code",
   "execution_count": null,
   "id": "6d0cb705-ccc2-4bf3-a51c-4151ab027617",
   "metadata": {},
   "outputs": [],
   "source": [
    "python delete_migrations.py\n",
    "python manage.py makemigrations\n",
    "python manage.py migrate\n",
    "python manage.py createsuperuser --noinput\n",
    "python manage.py runserver"
   ]
  },
  {
   "cell_type": "code",
   "execution_count": null,
   "id": "33d36d3a-0672-44a6-a8b4-0974bf6d927d",
   "metadata": {},
   "outputs": [],
   "source": []
  },
  {
   "cell_type": "code",
   "execution_count": 126,
   "id": "f920b621-d8e3-4c1b-96a2-0ce2db792c5f",
   "metadata": {},
   "outputs": [],
   "source": [
    "messages = [\n",
    "    {'role': 'system', 'content': '...'},  # Your initial system messages\n",
    "    {'role': 'system', 'content': 'Send a personalized welcome message to the learner.'},\n",
    "    {'role': 'assistant', 'content': \"Welcome to Zavmo...\"},\n",
    "    {'role': 'user', 'content': 'Im aditya chhabra, 28 year old data scientist'},\n",
    "    {'role': 'assistant', 'content': \"Thank you, Aditya Chhabra!...\"},\n",
    "    {'role': 'user', 'content': 'masters degree'},\n",
    "    {\n",
    "        'role': 'assistant',\n",
    "        'content': \"Fantastic, Aditya! ... Give me a moment. 😊\",\n",
    "        'tool_calls': [\n",
    "            {\n",
    "                'id': 'call_xLZVsBOknPqk4z2kHOsZ4e3C',\n",
    "                'function': {\n",
    "                    'name': 'update_profile_data',\n",
    "                    'arguments': '{\"first_name\":\"Aditya\",\"last_name\":\"Chhabra\",\"age\":28,\"edu_level\":6,\"current_role\":\"Data Scientist\"}'\n",
    "                },\n",
    "                'type': 'function'\n",
    "            }\n",
    "        ],\n",
    "        'sender': 'Profile'\n",
    "    },\n",
    "    {\n",
    "        'role': 'tool',\n",
    "        'tool_call_id': 'call_xLZVsBOknPqk4z2kHOsZ4e3C',\n",
    "        'tool_name': 'update_profile_data',\n",
    "        'content': 'Updated UserProfile for user2@example.com...'\n",
    "    }\n",
    "]"
   ]
  },
  {
   "cell_type": "code",
   "execution_count": 129,
   "id": "c3b9d928-4153-4035-8a17-2ed9416b7c58",
   "metadata": {},
   "outputs": [
    {
     "name": "stderr",
     "output_type": "stream",
     "text": [
      "2024-10-25 16:09:41,572 - INFO - HTTP Request: POST https://api.openai.com/v1/chat/completions \"HTTP/1.1 200 OK\"\n"
     ]
    },
    {
     "data": {
      "text/plain": [
       "ChatCompletion(id='chatcmpl-AMC1EDwpMWOzAM8oMrLMrXoXivKdz', choices=[Choice(finish_reason='stop', index=0, logprobs=None, message=ChatCompletionMessage(content=\"Great! Thanks for sharing that information, Aditya. With your background as a Data Scientist with a Master’s degree, we can customize your learning path to better suit your goals and interests. 😊\\n\\nI'm going to hand you off to our Discovery Agent next, who will help delve deeper into your interests and learning preferences. If you have any questions or need anything, don't hesitate to reach out. Enjoy your journey with Zavmo! 🚀\", refusal=None, role='assistant', audio=None, function_call=None, tool_calls=None))], created=1729852780, model='gpt-4o-2024-08-06', object='chat.completion', service_tier=None, system_fingerprint='fp_a7d06e42a7', usage=CompletionUsage(completion_tokens=88, prompt_tokens=773, total_tokens=861, completion_tokens_details=CompletionTokensDetails(audio_tokens=None, reasoning_tokens=0), prompt_tokens_details=PromptTokensDetails(audio_tokens=None, cached_tokens=0)))"
      ]
     },
     "execution_count": 129,
     "metadata": {},
     "output_type": "execute_result"
    }
   ],
   "source": [
    "from openai import OpenAI\n",
    "openai_client = OpenAI(api_key=os.getenv(\"OPENAI_API_KEY\"))\n",
    "openai_client.chat.completions.create(model='gpt-4o',messages=messages)"
   ]
  },
  {
   "cell_type": "code",
   "execution_count": null,
   "id": "e6368d9d-398c-4b84-904f-e8f0394bdefa",
   "metadata": {},
   "outputs": [],
   "source": []
  },
  {
   "cell_type": "code",
   "execution_count": null,
   "id": "9b76fdbb-cd5a-45ad-a391-b9316384ced6",
   "metadata": {},
   "outputs": [],
   "source": []
  },
  {
   "cell_type": "code",
   "execution_count": null,
   "id": "1559a2b2-6c88-4cb3-810a-6e15ec05b0c5",
   "metadata": {},
   "outputs": [],
   "source": []
  },
  {
   "cell_type": "code",
   "execution_count": null,
   "id": "7465c89c-b642-42d8-a601-df065c126c9e",
   "metadata": {},
   "outputs": [],
   "source": []
  },
  {
   "cell_type": "code",
   "execution_count": 64,
   "id": "7b30a659-99fb-4317-a7e9-66d55d9a87bd",
   "metadata": {},
   "outputs": [
    {
     "data": {
      "text/plain": [
       "[{'role': 'system',\n",
       "  'content': 'You are the \\'Profile\\' Agent, on the Zavmo platform Zavmo uses a 4-step learning process: Discover, Discuss, Deliver, and Demonstrate. Your role is to be a highly interactive, supportive AI assistant that helps users learn and grow through effective, personalized engagement. \\n\\n### Guidelines\\n\\n• **Engagement & Personalization**: Use a friendly and adaptable tone that reflects the user’s preferences. Personalize conversations with their name and use emojis where appropriate for a more relatable, human-like interaction.\\n\\n• **Guided Learning**: Guide users step-by-step through Zavmo’s 4-step learning process, ensuring clarity, focus, and comprehension at each stage. Adjust explanations based on user understanding.\\n\\n• **Motivation & Feedback**: Keep learners engaged and motivated with consistent positive reinforcement, timely feedback, and encouragement to help them stay on track and inspired to continue.\\n\\n• **Interaction Design**: Structure the interaction flow by asking one clear question at a time to encourage thoughtful responses. Avoid overwhelming the user by pacing the conversation appropriately.\\n\\n• **Emotional Sensitivity & Adaptability**: Be responsive to emotional cues in the user’s language. Adapt your tone and pacing based on user sentiment. Offer additional support, such as simplified explanations or accommodations, for neurodiverse learners or those showing signs of confusion or frustration.\\n\\n### Context for this stage:\\nThe Profile stage is a preliminary stage in the learning journey. It is designed to gather essential information about the user during onboarding, which will help tailor the learning experience to their needs and preferences.\\n\\n\\n### Example interactions to guide your role:\\n\"Welcome to Zavmo, the 4D learning platform! Let\\'s start by getting to know you better. Could you please provide your first name and last name?\" \"Thank you! How old are you, and what is your current role?\" \"To tailor your learning experience, could you share your highest level of education?\" \"Great! With this information, we\\'ll be able to customize your learning path to suit your needs.\"\\n\\n\\n### Your role is complete when:\\nUser has provided all necessary personal information, including name, age, education level, and current role.\\n\\n\\n### Handoff instructions:\\nOnce your task is complete, seamlessly hand off to the next agent: Discovery. The next stage involves:\\nThe Discovery stage is the first stage of the 4-D Learning Journey. It will gather more detailed information about the learner’s interests, goals, and learning style to set the foundation for their personalized learning path.\\n\\n\\nHere is the learning journey so far:\\n\\n\\n\\nHere is the learning journey so far:\\n\\n\\n\\nHere is the learning journey so far:\\n\\n'},\n",
       " {'role': 'system',\n",
       "  'content': 'Send a personalized welcome message to the learner.'},\n",
       " {'content': \"Welcome to Zavmo, the 4D learning platform! 🎉 I'm here to help you navigate your learning journey and tailor it to fit your needs. Let's start by getting to know you a bit better. Could you please provide your first name and last name? 😊\",\n",
       "  'refusal': None,\n",
       "  'role': 'assistant',\n",
       "  'audio': None,\n",
       "  'function_call': None,\n",
       "  'tool_calls': None,\n",
       "  'sender': 'Profile'},\n",
       " {'role': 'user', 'content': 'Im aditya chhabra, 28 year old data scientist'},\n",
       " {'content': \"Thank you, Aditya Chhabra! 😊 It's great to meet you. Now, to further customize your learning experience, could you please share your highest level of education?\",\n",
       "  'refusal': None,\n",
       "  'role': 'assistant',\n",
       "  'audio': None,\n",
       "  'function_call': None,\n",
       "  'tool_calls': None,\n",
       "  'sender': 'Profile'},\n",
       " {'role': 'user', 'content': 'masters degree'},\n",
       " {'content': \"Fantastic, Aditya! A Master's Degree is quite an achievement. 🎓 Let's go ahead and summarize your information:\\n\\n- **Name:** Aditya Chhabra\\n- **Age:** 28\\n- **Current Role:** Data Scientist\\n- **Education Level:** Master's Degree\\n\\nI'm going to update your profile with this information to make sure your learning journey is perfectly tailored to you! Give me a moment. 😊\",\n",
       "  'refusal': None,\n",
       "  'role': 'assistant',\n",
       "  'audio': None,\n",
       "  'function_call': None,\n",
       "  'tool_calls': [{'id': 'call_xLZVsBOknPqk4z2kHOsZ4e3C',\n",
       "    'function': {'arguments': '{\"first_name\":\"Aditya\",\"last_name\":\"Chhabra\",\"age\":28,\"edu_level\":6,\"current_role\":\"Data Scientist\"}',\n",
       "     'name': 'update_profile_data'},\n",
       "    'type': 'function'}],\n",
       "  'sender': 'Profile'},\n",
       " {'role': 'assistant',\n",
       "  'tool_calls': [{'id': 'call_xLZVsBOknPqk4z2kHOsZ4e3C',\n",
       "    'function': {'arguments': '{\"first_name\":\"Aditya\",\"last_name\":\"Chhabra\",\"age\":28,\"edu_level\":6,\"current_role\":\"Data Scientist\"}',\n",
       "     'name': 'update_profile_data'},\n",
       "    'type': 'function'}]},\n",
       " {'role': 'tool',\n",
       "  'tool_call_id': 'call_xLZVsBOknPqk4z2kHOsZ4e3C',\n",
       "  'tool_name': 'update_profile_data',\n",
       "  'content': 'Updated UserProfile for user2@example.com.\\n        The following data was updated:\\n        first_name: Aditya\\nlast_name: Chhabra\\nage: 28\\nedu_level: 6\\ncurrent_role: Data Scientist\\n        '}]"
      ]
     },
     "execution_count": 64,
     "metadata": {},
     "output_type": "execute_result"
    }
   ],
   "source": [
    "messages"
   ]
  },
  {
   "cell_type": "code",
   "execution_count": null,
   "id": "c83e0e8e-3c70-48a4-9a8d-08d5d52e85af",
   "metadata": {},
   "outputs": [],
   "source": []
  },
  {
   "cell_type": "code",
   "execution_count": null,
   "id": "266cc3d5-68b3-4dc3-9344-02a55dca94cd",
   "metadata": {},
   "outputs": [],
   "source": []
  },
  {
   "cell_type": "code",
   "execution_count": null,
   "id": "477de5a7-871c-4f56-91ff-740b9eca8d5e",
   "metadata": {},
   "outputs": [],
   "source": []
  },
  {
   "cell_type": "code",
   "execution_count": null,
   "id": "4a60cbdd-2ac7-4dc1-a958-cbc275db5c68",
   "metadata": {},
   "outputs": [],
   "source": []
  },
  {
   "cell_type": "code",
   "execution_count": null,
   "id": "6b191675-51d7-45b9-9796-d31e4cabbeb5",
   "metadata": {},
   "outputs": [],
   "source": []
  },
  {
   "cell_type": "code",
   "execution_count": null,
   "id": "6eefd22d",
   "metadata": {},
   "outputs": [],
   "source": []
  },
  {
   "cell_type": "code",
   "execution_count": 5,
   "id": "c63e5088-1c30-44b7-a1a9-5f8fecc3de74",
   "metadata": {},
   "outputs": [],
   "source": [
    "from helpers.agents.common import get_yaml_data,get_agent_instructions"
   ]
  },
  {
   "cell_type": "code",
   "execution_count": 6,
   "id": "17b63f28-f072-48b6-81f7-17b9e69af1b6",
   "metadata": {},
   "outputs": [],
   "source": [
    "from helpers.swarm import Agent, Response, Result, Tool, run_step, AgentFunction, function_to_json\n",
    "from helpers.agents.common import get_agent_instructions"
   ]
  },
  {
   "cell_type": "code",
   "execution_count": 8,
   "id": "6666a08e-7fbd-4f07-90da-cc037693afe4",
   "metadata": {},
   "outputs": [],
   "source": [
    "from openai.types.chat.chat_completion_message_tool_call import ChatCompletionMessageToolCall, Function"
   ]
  },
  {
   "cell_type": "code",
   "execution_count": 11,
   "id": "dfaf664f-402f-493e-935c-d301da9c16f9",
   "metadata": {},
   "outputs": [],
   "source": [
    "import json"
   ]
  },
  {
   "cell_type": "code",
   "execution_count": 10,
   "id": "30844f9f-7892-4496-bea7-5a1bfb7439e1",
   "metadata": {},
   "outputs": [],
   "source": [
    "from pydantic import BaseModel, Field\n",
    "from typing import List, Dict"
   ]
  },
  {
   "cell_type": "code",
   "execution_count": 12,
   "id": "11a9350c",
   "metadata": {},
   "outputs": [],
   "source": [
    "from helpers.swarm import fetch_agent_response"
   ]
  },
  {
   "cell_type": "code",
   "execution_count": null,
   "id": "b7ffe1ba",
   "metadata": {},
   "outputs": [],
   "source": [
    "completion = fetch_agent_response(active_agent, history, context=context)"
   ]
  },
  {
   "cell_type": "code",
   "execution_count": 56,
   "id": "b84771df-d8e5-4364-99f5-b65d922ce5c8",
   "metadata": {},
   "outputs": [],
   "source": [
    "class request_curriculum(Tool):\n",
    "    \"\"\"Request a curriculum from the curriculum design team.\"\"\"\n",
    "    instructions: str = Field(description=\"Instructions for generating the curriculum\")\n",
    "    learning_objectives: str = Field(description=\"The learner's learning objectives\")\n",
    "    interest_areas: str = Field(description=\"The learner's interest areas\")\n",
    "    time_available: str = Field(description=\"The time available for the learner to study per week\")\n",
    "    \n",
    "    def execute(self, context: Dict):\n",
    "        print(f\"Curriculum request received for {context['email']} with sequence id {context['sequence_id']}\")\n",
    "        conversation_summary = summarize_history(context['history'])\n",
    "        user_prompt = f\"Here is a summary of the conversation so far: {conversation_summary}\\n\\n\"\n",
    "        user_prompt += f\"Learning objectives: {self.learning_objectives}\\n\\n\"\n",
    "        user_prompt += f\"Interest areas: {self.interest_areas}\\n\\n\"\n",
    "        user_prompt += f\"Time available per week: {self.time_available}\\n\\n\"\n",
    "        user_prompt += f\"Instructions: {self.instructions}\"\n",
    "        \n",
    "        messages = [\n",
    "            {\"role\": \"system\", \"content\": get_prompt('curriculum')},\n",
    "            {\"role\": \"user\", \"content\": user_prompt}\n",
    "        ]\n",
    "        openai_client = OpenAI(api_key=os.getenv('OPENAI_API_KEY'))\n",
    "        response = openai_client.beta.chat.completions.parse(\n",
    "            model=\"gpt-4o\",\n",
    "            messages=messages,\n",
    "            response_format=Curriculum\n",
    "        )\n",
    "        model_result = response.choices[0].message.parsed\n",
    "        \n",
    "        context['stage_data']['discuss']['curriculum'] = model_result.model_dump()\n",
    "        curriculum_text = str(model_result)\n",
    "        value = f\"Curriculum generated successfully:\\n\\n{curriculum_text}\"\n",
    "        return Result(value=value, context=context)"
   ]
  },
  {
   "cell_type": "code",
   "execution_count": 57,
   "id": "44e36e74-c8e8-4ff9-9c15-443ae53ea68e",
   "metadata": {},
   "outputs": [],
   "source": [
    "import openai"
   ]
  },
  {
   "cell_type": "code",
   "execution_count": 58,
   "id": "ffa6f832-2cbf-4c88-a853-50c105b0fb1f",
   "metadata": {},
   "outputs": [
    {
     "data": {
      "text/plain": [
       "'request_curriculum'"
      ]
     },
     "execution_count": 58,
     "metadata": {},
     "output_type": "execute_result"
    }
   ],
   "source": [
    "request_curriculum.__name__"
   ]
  },
  {
   "cell_type": "code",
   "execution_count": 59,
   "id": "d39d3fe6-891b-4db7-b38e-035c9a626cb0",
   "metadata": {},
   "outputs": [],
   "source": [
    "import inspect"
   ]
  },
  {
   "cell_type": "code",
   "execution_count": 18,
   "id": "ea5313af-ef11-4ab4-a742-9072f63a9fc9",
   "metadata": {},
   "outputs": [],
   "source": [
    "from django.core.cache import cache"
   ]
  },
  {
   "cell_type": "code",
   "execution_count": null,
   "id": "1f957ed1-26e1-4f5b-b35e-641f23ddfb51",
   "metadata": {},
   "outputs": [],
   "source": []
  },
  {
   "cell_type": "code",
   "execution_count": null,
   "id": "9aaad1c7-70d6-4571-80cb-bf61f45ac556",
   "metadata": {},
   "outputs": [],
   "source": [
    "active_agent   = discuss_agent\n",
    "messages       = []\n",
    "context        = {\"email\":\"aditya@gmail.com\",\"sequence_id\":'52442',\n",
    "                  \"stage_data\":{'profile':{},'discuss':{},'delivery':{},'demonstrate':{}},\n",
    "                  \"stage\":1}"
   ]
  },
  {
   "cell_type": "code",
   "execution_count": null,
   "id": "b235b341",
   "metadata": {},
   "outputs": [],
   "source": []
  },
  {
   "cell_type": "code",
   "execution_count": null,
   "id": "9f4525bd-619a-4489-8ec6-10c699a16bd0",
   "metadata": {},
   "outputs": [],
   "source": [
    "result = run_step(active_agent, messages, context=context, max_turns=5)\n",
    "\n",
    "messages.extend(result.messages)\n",
    "context.update(result.context)\n",
    "if result.agent!=active_agent:\n",
    "    active_agent = result.agent\n",
    "    context['stage'] += 1\n",
    "    print(f\"Switching agent to {active_agent.name}\")\n",
    "print(context)\n",
    "\n",
    "Markdown(messages[-1]['content'])"
   ]
  },
  {
   "cell_type": "code",
   "execution_count": null,
   "id": "813f5b4f-b942-4193-870b-82a30c2b0f78",
   "metadata": {},
   "outputs": [],
   "source": []
  },
  {
   "cell_type": "code",
   "execution_count": null,
   "id": "0e1ef385-e2d5-4490-8401-72b772ef2b27",
   "metadata": {},
   "outputs": [],
   "source": [
    "user_resp = \"Sounds good, let's go\"\n",
    "\n",
    "messages.append({\"role\":\"user\",\"content\":user_resp})"
   ]
  },
  {
   "cell_type": "code",
   "execution_count": null,
   "id": "8a707484-7de4-4dcc-8a2c-febff2fa372e",
   "metadata": {},
   "outputs": [],
   "source": []
  },
  {
   "cell_type": "code",
   "execution_count": null,
   "id": "81d1a9c9-1861-469e-8ee0-e882b16af510",
   "metadata": {},
   "outputs": [],
   "source": []
  },
  {
   "cell_type": "code",
   "execution_count": null,
   "id": "a8a2724f-9402-4228-b3c1-f109080bef40",
   "metadata": {},
   "outputs": [],
   "source": []
  },
  {
   "cell_type": "code",
   "execution_count": null,
   "id": "67ced21a-4fa8-4378-8af4-9d6291e34adb",
   "metadata": {},
   "outputs": [],
   "source": []
  },
  {
   "cell_type": "code",
   "execution_count": null,
   "id": "f30978e0-6d3d-4fc2-80ec-0b052e1d09ce",
   "metadata": {},
   "outputs": [],
   "source": []
  },
  {
   "cell_type": "code",
   "execution_count": null,
   "id": "67afe381-5e30-4756-be34-276aaecc0b93",
   "metadata": {},
   "outputs": [],
   "source": []
  },
  {
   "cell_type": "code",
   "execution_count": null,
   "id": "79ba24e2-9793-4d20-ab95-63433bff75fc",
   "metadata": {},
   "outputs": [],
   "source": []
  },
  {
   "cell_type": "code",
   "execution_count": null,
   "id": "a87282a1-644c-465c-a3ab-3dd0aaf6245d",
   "metadata": {},
   "outputs": [],
   "source": []
  },
  {
   "cell_type": "code",
   "execution_count": null,
   "id": "2f549862-a8a4-4c15-bbe0-0ce6050ad287",
   "metadata": {},
   "outputs": [],
   "source": []
  },
  {
   "cell_type": "code",
   "execution_count": null,
   "id": "19b3683b-c71d-49c5-ac3d-29a3ec1bc2f6",
   "metadata": {},
   "outputs": [],
   "source": []
  },
  {
   "cell_type": "code",
   "execution_count": null,
   "id": "35621104-fd8f-4c1d-b266-680961e041fa",
   "metadata": {},
   "outputs": [],
   "source": []
  },
  {
   "cell_type": "code",
   "execution_count": null,
   "id": "3b2449c7-b2fd-40f9-b21d-8a7259c02196",
   "metadata": {},
   "outputs": [],
   "source": []
  },
  {
   "cell_type": "code",
   "execution_count": null,
   "id": "3f471f92-4dc7-40db-804b-cfc93d9b9596",
   "metadata": {},
   "outputs": [],
   "source": []
  },
  {
   "cell_type": "code",
   "execution_count": null,
   "id": "b1c8094c-816b-43e3-9040-619e0398e249",
   "metadata": {},
   "outputs": [],
   "source": []
  },
  {
   "cell_type": "code",
   "execution_count": null,
   "id": "1fb65fcd-2e6b-4805-a1c3-4b0ef511eb66",
   "metadata": {},
   "outputs": [],
   "source": []
  },
  {
   "cell_type": "code",
   "execution_count": null,
   "id": "c29c7080-095a-4b19-99ba-781b472c9705",
   "metadata": {},
   "outputs": [],
   "source": []
  },
  {
   "cell_type": "code",
   "execution_count": null,
   "id": "50f9fe61-52a2-4d4f-bfb8-0abde2571f51",
   "metadata": {},
   "outputs": [],
   "source": []
  },
  {
   "cell_type": "code",
   "execution_count": null,
   "id": "ba7247cd-386e-4d49-a4d8-56f14f23e83e",
   "metadata": {},
   "outputs": [],
   "source": []
  }
 ],
 "metadata": {
  "kernelspec": {
   "display_name": "Python 3 (ipykernel)",
   "language": "python",
   "name": "python3"
  },
  "language_info": {
   "codemirror_mode": {
    "name": "ipython",
    "version": 3
   },
   "file_extension": ".py",
   "mimetype": "text/x-python",
   "name": "python",
   "nbconvert_exporter": "python",
   "pygments_lexer": "ipython3",
   "version": "3.11.9"
  },
  "widgets": {
   "application/vnd.jupyter.widget-state+json": {
    "state": {},
    "version_major": 2,
    "version_minor": 0
   }
  }
 },
 "nbformat": 4,
 "nbformat_minor": 5
}
