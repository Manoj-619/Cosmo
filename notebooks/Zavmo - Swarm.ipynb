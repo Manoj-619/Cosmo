{
 "cells": [
  {
   "cell_type": "code",
   "execution_count": 1,
   "id": "a130b15a-acfd-41a7-99f6-a56baf7523ff",
   "metadata": {},
   "outputs": [],
   "source": [
    "import os\n",
    "#os.chdir(r\"C:\\Users\\Aditya\\GitHub\\zavmo\\zavmo-api\\zavmo\")\n",
    "os.chdir(\"/Users/adityachhabra/Github/zavmo/zavmo-api/zavmo\")"
   ]
  },
  {
   "cell_type": "code",
   "execution_count": 2,
   "id": "8a522b0d-0184-4535-8144-32ed1f17c506",
   "metadata": {},
   "outputs": [],
   "source": [
    "from dotenv import load_dotenv\n",
    "load_dotenv()\n",
    "from IPython.display import Markdown"
   ]
  },
  {
   "cell_type": "code",
   "execution_count": 3,
   "id": "c63e5088-1c30-44b7-a1a9-5f8fecc3de74",
   "metadata": {},
   "outputs": [],
   "source": [
    "from helpers.agents.common import get_yaml_data,get_agent_instructions"
   ]
  },
  {
   "cell_type": "code",
   "execution_count": 4,
   "id": "17b63f28-f072-48b6-81f7-17b9e69af1b6",
   "metadata": {},
   "outputs": [],
   "source": [
    "from helpers.swarm import Agent, Response, Result, Tool, run_step, AgentFunction, function_to_json\n",
    "from helpers.agents.common import get_agent_instructions"
   ]
  },
  {
   "cell_type": "code",
   "execution_count": 5,
   "id": "6666a08e-7fbd-4f07-90da-cc037693afe4",
   "metadata": {},
   "outputs": [],
   "source": [
    "from openai.types.chat.chat_completion_message_tool_call import ChatCompletionMessageToolCall, Function"
   ]
  },
  {
   "cell_type": "code",
   "execution_count": 6,
   "id": "dfaf664f-402f-493e-935c-d301da9c16f9",
   "metadata": {},
   "outputs": [],
   "source": [
    "import json"
   ]
  },
  {
   "cell_type": "code",
   "execution_count": 23,
   "id": "30844f9f-7892-4496-bea7-5a1bfb7439e1",
   "metadata": {},
   "outputs": [],
   "source": [
    "from pydantic import BaseModel, Field\n",
    "from typing import List, Dict"
   ]
  },
  {
   "cell_type": "code",
   "execution_count": 56,
   "id": "b84771df-d8e5-4364-99f5-b65d922ce5c8",
   "metadata": {},
   "outputs": [],
   "source": [
    "class request_curriculum(Tool):\n",
    "    \"\"\"Request a curriculum from the curriculum design team.\"\"\"\n",
    "    instructions: str = Field(description=\"Instructions for generating the curriculum\")\n",
    "    learning_objectives: str = Field(description=\"The learner's learning objectives\")\n",
    "    interest_areas: str = Field(description=\"The learner's interest areas\")\n",
    "    time_available: str = Field(description=\"The time available for the learner to study per week\")\n",
    "    \n",
    "    def execute(self, context: Dict):\n",
    "        print(f\"Curriculum request received for {context['email']} with sequence id {context['sequence_id']}\")\n",
    "        conversation_summary = summarize_history(context['history'])\n",
    "        user_prompt = f\"Here is a summary of the conversation so far: {conversation_summary}\\n\\n\"\n",
    "        user_prompt += f\"Learning objectives: {self.learning_objectives}\\n\\n\"\n",
    "        user_prompt += f\"Interest areas: {self.interest_areas}\\n\\n\"\n",
    "        user_prompt += f\"Time available per week: {self.time_available}\\n\\n\"\n",
    "        user_prompt += f\"Instructions: {self.instructions}\"\n",
    "        \n",
    "        messages = [\n",
    "            {\"role\": \"system\", \"content\": get_prompt('curriculum')},\n",
    "            {\"role\": \"user\", \"content\": user_prompt}\n",
    "        ]\n",
    "        openai_client = OpenAI(api_key=os.getenv('OPENAI_API_KEY'))\n",
    "        response = openai_client.beta.chat.completions.parse(\n",
    "            model=\"gpt-4o\",\n",
    "            messages=messages,\n",
    "            response_format=Curriculum\n",
    "        )\n",
    "        model_result = response.choices[0].message.parsed\n",
    "        \n",
    "        context['stage_data']['discuss']['curriculum'] = model_result.model_dump()\n",
    "        curriculum_text = str(model_result)\n",
    "        value = f\"Curriculum generated successfully:\\n\\n{curriculum_text}\"\n",
    "        return Result(value=value, context=context)"
   ]
  },
  {
   "cell_type": "code",
   "execution_count": 57,
   "id": "44e36e74-c8e8-4ff9-9c15-443ae53ea68e",
   "metadata": {},
   "outputs": [],
   "source": [
    "import openai"
   ]
  },
  {
   "cell_type": "code",
   "execution_count": 58,
   "id": "ffa6f832-2cbf-4c88-a853-50c105b0fb1f",
   "metadata": {},
   "outputs": [
    {
     "data": {
      "text/plain": [
       "'request_curriculum'"
      ]
     },
     "execution_count": 58,
     "metadata": {},
     "output_type": "execute_result"
    }
   ],
   "source": [
    "request_curriculum.__name__"
   ]
  },
  {
   "cell_type": "code",
   "execution_count": 59,
   "id": "d39d3fe6-891b-4db7-b38e-035c9a626cb0",
   "metadata": {},
   "outputs": [],
   "source": [
    "import inspect"
   ]
  },
  {
   "cell_type": "code",
   "execution_count": null,
   "id": "efb49efc-d20c-48ce-b438-9ca5683d74c8",
   "metadata": {},
   "outputs": [],
   "source": [
    "\"learning_goals\": \"Develop a personal MCQ app using Django.\",\n",
    "\"learning_goal_rationale\": \"Hands-on learning through building a side project.\",\n",
    "\"knowledge_level\": 3,\n",
    "\"application_area\": \"Building a side project as a web app.\","
   ]
  },
  {
   "cell_type": "code",
   "execution_count": null,
   "id": "43d612fe-7911-4b9f-a26d-de4ec4f012db",
   "metadata": {},
   "outputs": [],
   "source": []
  },
  {
   "cell_type": "code",
   "execution_count": null,
   "id": "783bd219-b957-4ee8-8546-51975bbf2ff3",
   "metadata": {},
   "outputs": [],
   "source": []
  },
  {
   "cell_type": "code",
   "execution_count": null,
   "id": "761a1a64-1ac5-4316-bb00-7e6fc8d600a8",
   "metadata": {},
   "outputs": [],
   "source": []
  },
  {
   "cell_type": "code",
   "execution_count": null,
   "id": "74ccb9cf-4e3f-4aa9-bc77-b9c53da76155",
   "metadata": {},
   "outputs": [],
   "source": []
  },
  {
   "cell_type": "code",
   "execution_count": null,
   "id": "9b279c80-adc3-4406-82fb-8c86befa41c5",
   "metadata": {},
   "outputs": [],
   "source": []
  },
  {
   "cell_type": "code",
   "execution_count": null,
   "id": "05ef7901-16bc-4a12-ac4e-e7f09fad1983",
   "metadata": {},
   "outputs": [],
   "source": [
    "{\n",
    "    \"type\": \"text\",\n",
    "    \"message\": \"Great! We're all set to dive into the Discussion stage. Let's refine your curriculum plan for learning Python and Django, keeping your MCQ app project in mind. 🎯\\n\\nCould you tell me about your preferred learning style? For example, do you enjoy hands-on projects, reading technical documents, video tutorials, or something else? 📝🎥🛠️\",\n",
    "    \"stage\": \"discuss\",\n",
    "    \"sequence_id\": \"0ee0f9ea-e94c-48a7-a509-6885d3898d01\",\n",
    "    \"log_context\": {\n",
    "        \"sequence_id\": \"0ee0f9ea-e94c-48a7-a509-6885d3898d01\",\n",
    "        \"stage\": \"discuss\",\n",
    "        \"user\": \"user2@example.com\",\n",
    "        \"email\": \"user2@example.com\",\n",
    "        \"stage_data\": {\n",
    "            \"profile\": {\n",
    "                \"email\": \"user2@example.com\",\n",
    "                \"org_id\": \"zavmo_ai\",\n",
    "                \"org_name\": \"Zavmo\",\n",
    "                \"first_name\": \"Aditya\",\n",
    "                \"last_name\": \"Chhabra\",\n",
    "                \"age\": 28,\n",
    "                \"edu_level\": 6,\n",
    "                \"current_role\": \"Data Scientist\"\n",
    "            },\n",
    "            \"discover\": {\n",
    "                \"learning_goals\": \"Learn Python and Django for developing an MCQ app\",\n",
    "                \"learning_goal_rationale\": \"Pursuing this project out of curiosity and interest\",\n",
    "                \"knowledge_level\": 3,\n",
    "                \"application_area\": \"Side project\",\n",
    "                \"user\": 3\n",
    "            },\n",
    "            \"discuss\": {\n",
    "                \"user\": 3\n",
    "            },\n",
    "            \"deliver\": {\n",
    "                \"user\": 3\n",
    "            },\n",
    "            \"demonstrate\": {\n",
    "                \"user\": 3\n",
    "            }\n",
    "        },\n",
    "        \"history\": [\n",
    "            {\n",
    "                \"role\": \"system\",\n",
    "                \"content\": \"Send a personalized welcome message to the learner. Here is some information about the learner: \\n        **Name**: Aditya Chhabra\\n        **Age**: 28\\n        **Education Level**: Master's Degree\\n        **Current Role**: Data Scientist\\n        \"\n",
    "            },\n",
    "            {\n",
    "                \"content\": \"Hello Aditya! 😊 Welcome to Zavmo, and I'm thrilled to have you here! As a Data Scientist with a Master's degree, it sounds like you are ready to delve into some exciting new learning adventures. I'm here to help you kick off the Discovery stage of your learning journey. Let’s find out more about your interests and goals. \\n\\nTo start, what specific topics would you like to learn about? 🎯\",\n",
    "                \"refusal\": null,\n",
    "                \"role\": \"assistant\",\n",
    "                \"audio\": null,\n",
    "                \"function_call\": null,\n",
    "                \"tool_calls\": null,\n",
    "                \"sender\": \"Discovery\"\n",
    "            },\n",
    "            {\n",
    "                \"role\": \"user\",\n",
    "                \"content\": \"want t o learn about pyhton, django\"\n",
    "            },\n",
    "            {\n",
    "                \"content\": \"Great choice, Aditya! Python and Django are powerful tools for a Data Scientist like you. 🚀\\n\\nCan you share your top learning goals with me regarding Python and Django? 📚 For instance, are you looking to improve existing skills, start a new project, or maybe something else?\",\n",
    "                \"refusal\": null,\n",
    "                \"role\": \"assistant\",\n",
    "                \"audio\": null,\n",
    "                \"function_call\": null,\n",
    "                \"tool_calls\": null,\n",
    "                \"sender\": \"Discovery\"\n",
    "            },\n",
    "            {\n",
    "                \"role\": \"user\",\n",
    "                \"content\": \"new project my mcq app\"\n",
    "            },\n",
    "            {\n",
    "                \"content\": \"That sounds like a fantastic project, Aditya! Building an MCQ (Multiple Choice Questions) app with Python and Django will surely be an exciting venture. 🌟\\n\\nWhat motivated you to choose this project as your learning objective? Is there a specific passion or need that this project addresses for you? 🌱\",\n",
    "                \"refusal\": null,\n",
    "                \"role\": \"assistant\",\n",
    "                \"audio\": null,\n",
    "                \"function_call\": null,\n",
    "                \"tool_calls\": null,\n",
    "                \"sender\": \"Discovery\"\n",
    "            },\n",
    "            {\n",
    "                \"role\": \"user\",\n",
    "                \"content\": \"just like that\"\n",
    "            },\n",
    "            {\n",
    "                \"content\": \"Sometimes the best projects start \\\"just like that\\\" with a spark of curiosity or interest! 🌟 It's a great way to learn and explore new skills, so kudos to you for taking this initiative.\\n\\nHow would you rate your current knowledge level in Python and Django? (1: Beginner to 4: Expert) 📊\",\n",
    "                \"refusal\": null,\n",
    "                \"role\": \"assistant\",\n",
    "                \"audio\": null,\n",
    "                \"function_call\": null,\n",
    "                \"tool_calls\": null,\n",
    "                \"sender\": \"Discovery\"\n",
    "            },\n",
    "            {\n",
    "                \"role\": \"user\",\n",
    "                \"content\": \"3\"\n",
    "            },\n",
    "            {\n",
    "                \"content\": \"Awesome, Aditya! Being at an Advanced level in Python and Django gives you a solid foundation to build your MCQ app. 🚀\\n\\nWhere do you see yourself applying the new skills and knowledge you gain from this project? Is there a specific area within your work or another context where this application will be especially valuable? 🌍\",\n",
    "                \"refusal\": null,\n",
    "                \"role\": \"assistant\",\n",
    "                \"audio\": null,\n",
    "                \"function_call\": null,\n",
    "                \"tool_calls\": null,\n",
    "                \"sender\": \"Discovery\"\n",
    "            },\n",
    "            {\n",
    "                \"role\": \"user\",\n",
    "                \"content\": \"my sid eproject\"\n",
    "            },\n",
    "            {\n",
    "                \"content\": \"Fantastic! Working on your side project is a great way to apply your skills and continue learning in a practical and meaningful way! 🛠️\\n\\nLet's summarize what we've gathered so far: \\n\\n- **Learning Goals**: Learn Python and Django for developing an MCQ app.\\n- **Motivation**: Pursuing this project out of curiosity and interest.\\n- **Current Knowledge Level**: Advanced (3) in Python and Django.\\n- **Application Area**: Side project.\\n\\nDoes this capture everything accurately? If you're satisfied with this summary, we can move on to the next step. 😊\",\n",
    "                \"refusal\": null,\n",
    "                \"role\": \"assistant\",\n",
    "                \"audio\": null,\n",
    "                \"function_call\": null,\n",
    "                \"tool_calls\": null,\n",
    "                \"sender\": \"Discovery\"\n",
    "            },\n",
    "            {\n",
    "                \"role\": \"user\",\n",
    "                \"content\": \"yes\"\n",
    "            },\n",
    "            {\n",
    "                \"content\": null,\n",
    "                \"refusal\": null,\n",
    "                \"role\": \"assistant\",\n",
    "                \"audio\": null,\n",
    "                \"function_call\": null,\n",
    "                \"tool_calls\": [\n",
    "                    {\n",
    "                        \"id\": \"call_Z1FrljkOHuPPjdWGZ2S39t45\",\n",
    "                        \"function\": {\n",
    "                            \"arguments\": \"{\\\"learning_goals\\\":\\\"Learn Python and Django for developing an MCQ app\\\",\\\"learning_goal_rationale\\\":\\\"Pursuing this project out of curiosity and interest\\\",\\\"knowledge_level\\\":3,\\\"application_area\\\":\\\"Side project\\\"}\",\n",
    "                            \"name\": \"update_discover_data\"\n",
    "                        },\n",
    "                        \"type\": \"function\"\n",
    "                    }\n",
    "                ],\n",
    "                \"sender\": \"Discovery\"\n",
    "            },\n",
    "            {\n",
    "                \"content\": null,\n",
    "                \"refusal\": null,\n",
    "                \"role\": \"assistant\",\n",
    "                \"audio\": null,\n",
    "                \"function_call\": null,\n",
    "                \"tool_calls\": [\n",
    "                    {\n",
    "                        \"id\": \"call_CFd5AbIi62GHAB9tCYYi4L3H\",\n",
    "                        \"function\": {\n",
    "                            \"arguments\": \"{}\",\n",
    "                            \"name\": \"transfer_to_discussion_agent\"\n",
    "                        },\n",
    "                        \"type\": \"function\"\n",
    "                    }\n",
    "                ],\n",
    "                \"sender\": \"Discovery\"\n",
    "            },\n",
    "            {\n",
    "                \"content\": \"Great! We're all set to dive into the Discussion stage. Let's refine your curriculum plan for learning Python and Django, keeping your MCQ app project in mind. 🎯\\n\\nCould you tell me about your preferred learning style? For example, do you enjoy hands-on projects, reading technical documents, video tutorials, or something else? 📝🎥🛠️\",\n",
    "                \"refusal\": null,\n",
    "                \"role\": \"assistant\",\n",
    "                \"audio\": null,\n",
    "                \"function_call\": null,\n",
    "                \"tool_calls\": null,\n",
    "                \"sender\": \"Discussion\"\n",
    "            }\n",
    "        ]\n",
    "    }\n",
    "}"
   ]
  },
  {
   "cell_type": "code",
   "execution_count": null,
   "id": "f91f83ef-5690-44f6-b662-e5c89d5e9f95",
   "metadata": {},
   "outputs": [],
   "source": []
  },
  {
   "cell_type": "code",
   "execution_count": null,
   "id": "f86e90c8-3af5-4e7f-9898-f7267eab4688",
   "metadata": {},
   "outputs": [],
   "source": [
    "from helpers.agents.a_discover import discover_agent, update_discover_data\n",
    "from helpers.agents.b_discuss import discuss_agent, request_curriculum"
   ]
  },
  {
   "cell_type": "code",
   "execution_count": null,
   "id": "1f957ed1-26e1-4f5b-b35e-641f23ddfb51",
   "metadata": {},
   "outputs": [],
   "source": []
  },
  {
   "cell_type": "code",
   "execution_count": null,
   "id": "9aaad1c7-70d6-4571-80cb-bf61f45ac556",
   "metadata": {},
   "outputs": [],
   "source": [
    "active_agent   = discuss_agent\n",
    "messages       = []\n",
    "context        = {\"email\":\"aditya@gmail.com\",\"sequence_id\":'52442',\n",
    "                  \"stage_data\":{'profile':{},'discuss':{},'delivery':{},'demonstrate':{}},\n",
    "                  \"stage\":1}"
   ]
  },
  {
   "cell_type": "code",
   "execution_count": null,
   "id": "9f4525bd-619a-4489-8ec6-10c699a16bd0",
   "metadata": {},
   "outputs": [],
   "source": [
    "result = run_step(active_agent, messages, context=context, max_turns=5)\n",
    "\n",
    "messages.extend(result.messages)\n",
    "context.update(result.context)\n",
    "if result.agent!=active_agent:\n",
    "    active_agent = result.agent\n",
    "    context['stage'] += 1\n",
    "    print(f\"Switching agent to {active_agent.name}\")\n",
    "print(context)\n",
    "\n",
    "Markdown(messages[-1]['content'])"
   ]
  },
  {
   "cell_type": "code",
   "execution_count": null,
   "id": "813f5b4f-b942-4193-870b-82a30c2b0f78",
   "metadata": {},
   "outputs": [],
   "source": []
  },
  {
   "cell_type": "code",
   "execution_count": null,
   "id": "0e1ef385-e2d5-4490-8401-72b772ef2b27",
   "metadata": {},
   "outputs": [],
   "source": [
    "user_resp = \"Sounds good, let's go\"\n",
    "\n",
    "messages.append({\"role\":\"user\",\"content\":user_resp})"
   ]
  },
  {
   "cell_type": "code",
   "execution_count": null,
   "id": "8a707484-7de4-4dcc-8a2c-febff2fa372e",
   "metadata": {},
   "outputs": [],
   "source": []
  },
  {
   "cell_type": "code",
   "execution_count": null,
   "id": "81d1a9c9-1861-469e-8ee0-e882b16af510",
   "metadata": {},
   "outputs": [],
   "source": []
  },
  {
   "cell_type": "code",
   "execution_count": null,
   "id": "a8a2724f-9402-4228-b3c1-f109080bef40",
   "metadata": {},
   "outputs": [],
   "source": []
  },
  {
   "cell_type": "code",
   "execution_count": null,
   "id": "67ced21a-4fa8-4378-8af4-9d6291e34adb",
   "metadata": {},
   "outputs": [],
   "source": []
  },
  {
   "cell_type": "code",
   "execution_count": null,
   "id": "f30978e0-6d3d-4fc2-80ec-0b052e1d09ce",
   "metadata": {},
   "outputs": [],
   "source": []
  },
  {
   "cell_type": "code",
   "execution_count": null,
   "id": "67afe381-5e30-4756-be34-276aaecc0b93",
   "metadata": {},
   "outputs": [],
   "source": []
  },
  {
   "cell_type": "code",
   "execution_count": null,
   "id": "79ba24e2-9793-4d20-ab95-63433bff75fc",
   "metadata": {},
   "outputs": [],
   "source": []
  },
  {
   "cell_type": "code",
   "execution_count": null,
   "id": "a87282a1-644c-465c-a3ab-3dd0aaf6245d",
   "metadata": {},
   "outputs": [],
   "source": []
  },
  {
   "cell_type": "code",
   "execution_count": null,
   "id": "2f549862-a8a4-4c15-bbe0-0ce6050ad287",
   "metadata": {},
   "outputs": [],
   "source": []
  },
  {
   "cell_type": "code",
   "execution_count": null,
   "id": "19b3683b-c71d-49c5-ac3d-29a3ec1bc2f6",
   "metadata": {},
   "outputs": [],
   "source": []
  },
  {
   "cell_type": "code",
   "execution_count": null,
   "id": "35621104-fd8f-4c1d-b266-680961e041fa",
   "metadata": {},
   "outputs": [],
   "source": []
  },
  {
   "cell_type": "code",
   "execution_count": null,
   "id": "3b2449c7-b2fd-40f9-b21d-8a7259c02196",
   "metadata": {},
   "outputs": [],
   "source": []
  },
  {
   "cell_type": "code",
   "execution_count": null,
   "id": "3f471f92-4dc7-40db-804b-cfc93d9b9596",
   "metadata": {},
   "outputs": [],
   "source": []
  },
  {
   "cell_type": "code",
   "execution_count": null,
   "id": "b1c8094c-816b-43e3-9040-619e0398e249",
   "metadata": {},
   "outputs": [],
   "source": []
  },
  {
   "cell_type": "code",
   "execution_count": null,
   "id": "1fb65fcd-2e6b-4805-a1c3-4b0ef511eb66",
   "metadata": {},
   "outputs": [],
   "source": []
  },
  {
   "cell_type": "code",
   "execution_count": null,
   "id": "c29c7080-095a-4b19-99ba-781b472c9705",
   "metadata": {},
   "outputs": [],
   "source": []
  },
  {
   "cell_type": "code",
   "execution_count": null,
   "id": "50f9fe61-52a2-4d4f-bfb8-0abde2571f51",
   "metadata": {},
   "outputs": [],
   "source": []
  },
  {
   "cell_type": "code",
   "execution_count": null,
   "id": "ba7247cd-386e-4d49-a4d8-56f14f23e83e",
   "metadata": {},
   "outputs": [],
   "source": []
  }
 ],
 "metadata": {
  "kernelspec": {
   "display_name": "Python 3 (ipykernel)",
   "language": "python",
   "name": "python3"
  },
  "language_info": {
   "codemirror_mode": {
    "name": "ipython",
    "version": 3
   },
   "file_extension": ".py",
   "mimetype": "text/x-python",
   "name": "python",
   "nbconvert_exporter": "python",
   "pygments_lexer": "ipython3",
   "version": "3.11.9"
  },
  "widgets": {
   "application/vnd.jupyter.widget-state+json": {
    "state": {},
    "version_major": 2,
    "version_minor": 0
   }
  }
 },
 "nbformat": 4,
 "nbformat_minor": 5
}
