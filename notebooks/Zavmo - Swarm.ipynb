{
 "cells": [
  {
   "cell_type": "code",
   "execution_count": 1,
   "id": "a130b15a-acfd-41a7-99f6-a56baf7523ff",
   "metadata": {},
   "outputs": [],
   "source": [
    "import os\n",
    "#os.chdir(r\"C:\\Users\\Aditya\\GitHub\\zavmo\\zavmo-api\\zavmo\")\n",
    "# os.chdir(\"/Users/adityachhabra/Github/zavmo/zavmo-api/zavmo\")"
   ]
  },
  {
   "cell_type": "code",
   "execution_count": 2,
   "id": "5731e8af",
   "metadata": {},
   "outputs": [],
   "source": [
    "os.chdir(f\"{os.path.dirname(os.getcwd())}/zavmo\")"
   ]
  },
  {
   "cell_type": "code",
   "execution_count": 3,
   "id": "2f6267de",
   "metadata": {},
   "outputs": [
    {
     "data": {
      "text/plain": [
       "'/Users/mumtaz/Documents/projects/zavmo/zavmo-api/zavmo'"
      ]
     },
     "execution_count": 3,
     "metadata": {},
     "output_type": "execute_result"
    }
   ],
   "source": [
    "os.getcwd()"
   ]
  },
  {
   "cell_type": "code",
   "execution_count": 4,
   "id": "8a522b0d-0184-4535-8144-32ed1f17c506",
   "metadata": {},
   "outputs": [],
   "source": [
    "from dotenv import load_dotenv\n",
    "load_dotenv()\n",
    "from IPython.display import Markdown"
   ]
  },
  {
   "cell_type": "code",
   "execution_count": 30,
   "id": "131e8c19",
   "metadata": {},
   "outputs": [],
   "source": [
    "from helpers.chat import get_prompt\n",
    "import yaml\n",
    "import codecs\n",
    "\n",
    "\n",
    "def get_yaml_data(yaml_path, yaml_dir=\"assets/data\"):\n",
    "    \"\"\"Load a YAML file containing field data.\n",
    "\n",
    "    Args:\n",
    "        yaml_path (str): Path to the YAML file.\n",
    "        yaml_dir (str, optional): Directory containing the YAML file. Defaults to 'assets/data'.\n",
    "\n",
    "    Returns:\n",
    "        dict: A dictionary of field data.\n",
    "\n",
    "    Raises:\n",
    "        UnicodeDecodeError: If there's an encoding issue with the file.\n",
    "        yaml.YAMLError: If there's an issue parsing the YAML content.\n",
    "        FileNotFoundError: If the specified file doesn't exist.\n",
    "    \"\"\"\n",
    "    # Check if yaml_path ends with .yaml or .yml\n",
    "    if not yaml_path.endswith(('.yaml', '.yml')):\n",
    "        yaml_path += '.yaml'\n",
    "    yaml_path = os.path.join(yaml_dir, yaml_path)\n",
    "    \n",
    "    try:\n",
    "        with codecs.open(yaml_path, 'r', encoding='utf-8') as f:\n",
    "            return yaml.safe_load(f)\n",
    "    except UnicodeDecodeError as e:\n",
    "        print(f\"Encoding error in file {yaml_path}: {e}\")\n",
    "        print(\"Make sure the file is saved with UTF-8 encoding.\")\n",
    "        raise\n",
    "    except yaml.YAMLError as e:\n",
    "        print(f\"YAML parsing error in file {yaml_path}: {e}\")\n",
    "        raise\n",
    "    except FileNotFoundError:\n",
    "        print(f\"File not found: {yaml_path}\")\n",
    "        raise\n",
    "\n",
    "def get_agent_instructions(stage_name: str) -> str:\n",
    "    \"\"\"\n",
    "    Compile instructions for the agent.\n",
    "    \n",
    "    Args:\n",
    "        stage_name (str): The name of the current stage.\n",
    "\n",
    "    Returns:\n",
    "        str: Instructions for the agent.\n",
    "    \"\"\"\n",
    "    conf_data       = get_yaml_data(stage_name.lower())\n",
    "    agent_keys      = ['name', 'description', 'instructions', 'examples', 'completion_condition', 'next_stage', 'next_stage_description']\n",
    "    prompt_context  = {k:v for k,v in conf_data.items() if k in agent_keys}\n",
    "\n",
    "    system_content  = get_prompt('probe.md', \n",
    "                                    context=prompt_context,\n",
    "                                    prompt_dir=\"assets/prompts\")\n",
    "    return system_content   "
   ]
  },
  {
   "cell_type": "code",
   "execution_count": 5,
   "id": "a0dfa574",
   "metadata": {},
   "outputs": [],
   "source": [
    "from helpers.swarm import fetch_agent_response, run_step"
   ]
  },
  {
   "cell_type": "code",
   "execution_count": 6,
   "id": "df480643",
   "metadata": {},
   "outputs": [],
   "source": [
    "from pydantic import BaseModel, Field\n",
    "from typing import List, Dict, Literal, Optional\n",
    "from helpers._types import (\n",
    "    Agent,\n",
    "    StrictTool,\n",
    "    Result,\n",
    ")"
   ]
  },
  {
   "cell_type": "code",
   "execution_count": 18,
   "id": "5d63e9c4",
   "metadata": {},
   "outputs": [],
   "source": [
    "\n",
    "class Module(BaseModel):\n",
    "    title: str = Field(description=\"The title of the module. It can be an Assessment Area or a learner's interest area\")\n",
    "    learning_outcomes: List[str] = Field(description=\"List upto 5 learning outcomes.\")\n",
    "    lessons: List[str] = Field(description=\"List of lessons in this module based on the learning outcomes\")\n",
    "    duration: int = Field(description=\"The total duration of the module in hours\")\n",
    "\n",
    "class Curriculum(StrictTool):\n",
    "    \"\"\"Generate a detailed curriculum for the learner based on the NOS Assessment Areas and OFQUAL standards.\"\"\"\n",
    "    title: str = Field(description=\"The title of the curriculum\")\n",
    "    subject: str = Field(description=\"The main subject area of the curriculum based on the NOS Assessment Areas.\")\n",
    "    level: str = Field(description=\"The difficulty level of the curriculum (e.g., beginner, intermediate, advanced)\")\n",
    "    prerequisites: List[str] = Field(description=\"Any prerequisites needed to undertake this curriculum\")\n",
    "    modules: List[Module] = Field(description=\"List upto 7 modules mainly designed on NOS Assessment Areas shared.\")\n",
    "        \n",
    "    def execute(self, context: Dict):\n",
    "        return Result(value=str(self.model_dump()), context=context)    \n"
   ]
  },
  {
   "cell_type": "code",
   "execution_count": 21,
   "id": "285f28e5",
   "metadata": {},
   "outputs": [],
   "source": [
    "instructions = get_agent_instructions('discuss')"
   ]
  },
  {
   "cell_type": "code",
   "execution_count": 22,
   "id": "21d75e3f",
   "metadata": {},
   "outputs": [],
   "source": [
    "# Markdown(instructions)"
   ]
  },
  {
   "cell_type": "code",
   "execution_count": 23,
   "id": "870fb601",
   "metadata": {},
   "outputs": [],
   "source": [
    "discuss_agent = Agent(\n",
    "    name=\"Discussion\",\n",
    "    id=\"discuss\",\n",
    "    instructions=instructions,\n",
    "    functions=[\n",
    "        Curriculum\n",
    "    ],\n",
    "    parallel_tool_calls=False,\n",
    "    tool_choice='auto',\n",
    "    model=\"gpt-4o\"\n",
    ")\n"
   ]
  },
  {
   "cell_type": "code",
   "execution_count": 24,
   "id": "2bd71ada",
   "metadata": {},
   "outputs": [],
   "source": [
    "import json\n",
    "message_history = json.loads(open(\"/Users/mumtaz/Documents/projects/zavmo/zavmo-api/docs/test_history.json\").read())"
   ]
  },
  {
   "cell_type": "code",
   "execution_count": 25,
   "id": "275b5b3b",
   "metadata": {},
   "outputs": [],
   "source": [
    "message_history[-1]['content'] =\"\"\"Discussion data updated successfully for mumtaz@example.com\n",
    "        \n",
    "**Timeline**: 9\n",
    "**Learning Style**: Case Study Discussions\n",
    "\n",
    "**Data for Curriculum Generation**:\n",
    "\n",
    "**NOS Assessment Area**: Understanding of product details\n",
    "\n",
    "**OFQUAL Standards for the NOS Assessment Area**: \n",
    "['Understand how a marketing strategy supports the sales function', 'Analyse how a marketing strategy supports an organisation', 'Evaluate the relationships between marketing, sales and other functions', 'Analyse how a marketing strategy supports the sales function', 'Understand marketing research', 'Evaluate the use of up to date and relevant market information to support sales-related decisions', 'Differentiate between primary and secondary data', 'Identify and interpret trends in sales-related data', 'Differentiate between sources of market information and evaluate the validity of data', 'Evaluate a range of analytical tools to analyse sales-related information and why each one might be chosen in a given situation', 'Analyse the suitability, relevance, validity and reliability of market information', 'Differentiate between ways of presenting quantitative and qualitative market information', 'Understand the use of marketing research in sales', 'Review how to obtain feedback from colleagues about the usefulness of sales-related information', 'Evaluate budget allocations for obtaining market information', 'Evaluate the importance of the sales function contributing realistic market information to the marketing function', 'Evaluate how an organisation’s policy on the storage of information can meet data protection requirements', 'Appraise how the use of sales related information can result in changes to the marketing mix and the marketing and sales strategy', 'Be able to use market analyses in sales', 'Employ market analyses to inform the development of a sales strategy that takes account of market trends and competitor activity', 'Review market analysis to identify a clear positioning message that aims to satisfy target', 'Review the competitive edge of organisation’s products/services', 'Complete the financial return to the organisation resulting from the targeting of customers', 'Be able to progress sales through alignment with marketing strategies', 'Identify how the organisation can benefit from addressing the requirements of target markets', 'Review how new products/services allow the organisation to satisfy customers’ changing needs and how this generates return on investment', 'Appraise how marketing strategies and plans help to develop and maintain positive relationships with the organisation’s sales team(s) and customers, and the resulting benefits in terms of customer loyalty and competitive advantage', 'Evaluate the value of marketing in progressing sales']\n",
    "\n",
    "**NOS Assessment Area**: Controlling customer conversations\n",
    "\n",
    "**OFQUAL Standards for the NOS Assessment Area**: \n",
    "['Understand the principles of developing strategic relationships with major customers', 'Be able to identify major customers and develop major customer plans that are mutually beneficial', 'Be able to develop strategic relationships with major customers to meet mutual objectives', 'Be able to evaluate the success of strategic relationship activities and plan for future activities', 'Explain the principles of developing mutually beneficial relationships with major customers ', 'Evaluate distinctions between transactional selling and major customer management', 'Evaluate advantages and dangers of major customer management to own organisation and customer organisations', 'Develop criteria to use to select major customers based on strategic long term value of customers', 'Analyse methods to obtain buy-in from senior management and colleagues for major customer management', 'Explain the stages of major customer relationship development', 'Evaluate behaviours which build up a relationship of trust with a major customer', 'Identify the customer(s) which fulfil the organisation’s criteria to be classed as a major customer', 'Analyse the major customer’s business and their corporate business and marketing strategy', 'Analyse the current and future strategic and operational business challenges faced by the major customers', 'Identify and agree prioritised common business objectives between own organisation and the major customer, which are consistent with both organisations’ financial objectives and business strategies', 'Assess with the major customer strategic options towards achieving the common business objectives which involve mutual working', 'Work in partnership with the major customer to develop a plan and actions towards addressing the identified challenges and common objectives', 'Analyse expertise required in own team to work with the major customers', 'Co-ordinate business functions across own organisation to develop strategic relationships with the major customers', 'Evaluate opportunities for creating long term value for the major customer', 'Evaluate methods for reducing risk to the major customer regarding own organisation’s products and services', 'Monitor and critically evaluate the outcomes of activities in developing the strategic relationship with the major customer, including the return on the investment being made', 'Develop a plan to address any issues regarding the outcome of strategic relationship activities', 'Develop a succession plan for maintaining a successful relationship with the major customer, with contingencies should particular individuals no longer be able to work with the major customer', 'Evaluate systems for storing and planning major customer information']\n",
    "\n",
    "**NOS Assessment Area**: Observing signals during customer interactions\n",
    "\n",
    "**OFQUAL Standards for the NOS Assessment Area**: \n",
    "['Understand how to identify customer groups', 'Describe methods of identifying customer groups', 'Compare the characteristics of customers in identified customer groups', 'Understand the motivations, attitudes, and behaviours of customers in identified customer groups', 'Describe the motivations, attitudes, and behaviours of customers in identified customer groups', 'Describe clusters of customers who have distinct similarities in their motivations, attitudes, and behaviours', 'Understand how to profile existing customer groups', 'Identify the characteristics of established customers', 'Describe the similarities between identified established customers', 'Explain how to develop profiles for customer groups']\n",
    "        \n",
    "\"\"\""
   ]
  },
  {
   "cell_type": "code",
   "execution_count": 26,
   "id": "5fb4a493",
   "metadata": {},
   "outputs": [
    {
     "name": "stdout",
     "output_type": "stream",
     "text": [
      "Discussion data updated successfully for mumtaz@example.com\n",
      "        \n",
      "**Timeline**: 9\n",
      "**Learning Style**: Case Study Discussions\n",
      "\n",
      "**Data for Curriculum Generation**:\n",
      "\n",
      "**NOS Assessment Area**: Understanding of product details\n",
      "\n",
      "**OFQUAL Standards for the NOS Assessment Area**: \n",
      "['Understand how a marketing strategy supports the sales function', 'Analyse how a marketing strategy supports an organisation', 'Evaluate the relationships between marketing, sales and other functions', 'Analyse how a marketing strategy supports the sales function', 'Understand marketing research', 'Evaluate the use of up to date and relevant market information to support sales-related decisions', 'Differentiate between primary and secondary data', 'Identify and interpret trends in sales-related data', 'Differentiate between sources of market information and evaluate the validity of data', 'Evaluate a range of analytical tools to analyse sales-related information and why each one might be chosen in a given situation', 'Analyse the suitability, relevance, validity and reliability of market information', 'Differentiate between ways of presenting quantitative and qualitative market information', 'Understand the use of marketing research in sales', 'Review how to obtain feedback from colleagues about the usefulness of sales-related information', 'Evaluate budget allocations for obtaining market information', 'Evaluate the importance of the sales function contributing realistic market information to the marketing function', 'Evaluate how an organisation’s policy on the storage of information can meet data protection requirements', 'Appraise how the use of sales related information can result in changes to the marketing mix and the marketing and sales strategy', 'Be able to use market analyses in sales', 'Employ market analyses to inform the development of a sales strategy that takes account of market trends and competitor activity', 'Review market analysis to identify a clear positioning message that aims to satisfy target', 'Review the competitive edge of organisation’s products/services', 'Complete the financial return to the organisation resulting from the targeting of customers', 'Be able to progress sales through alignment with marketing strategies', 'Identify how the organisation can benefit from addressing the requirements of target markets', 'Review how new products/services allow the organisation to satisfy customers’ changing needs and how this generates return on investment', 'Appraise how marketing strategies and plans help to develop and maintain positive relationships with the organisation’s sales team(s) and customers, and the resulting benefits in terms of customer loyalty and competitive advantage', 'Evaluate the value of marketing in progressing sales']\n",
      "\n",
      "**NOS Assessment Area**: Controlling customer conversations\n",
      "\n",
      "**OFQUAL Standards for the NOS Assessment Area**: \n",
      "['Understand the principles of developing strategic relationships with major customers', 'Be able to identify major customers and develop major customer plans that are mutually beneficial', 'Be able to develop strategic relationships with major customers to meet mutual objectives', 'Be able to evaluate the success of strategic relationship activities and plan for future activities', 'Explain the principles of developing mutually beneficial relationships with major customers ', 'Evaluate distinctions between transactional selling and major customer management', 'Evaluate advantages and dangers of major customer management to own organisation and customer organisations', 'Develop criteria to use to select major customers based on strategic long term value of customers', 'Analyse methods to obtain buy-in from senior management and colleagues for major customer management', 'Explain the stages of major customer relationship development', 'Evaluate behaviours which build up a relationship of trust with a major customer', 'Identify the customer(s) which fulfil the organisation’s criteria to be classed as a major customer', 'Analyse the major customer’s business and their corporate business and marketing strategy', 'Analyse the current and future strategic and operational business challenges faced by the major customers', 'Identify and agree prioritised common business objectives between own organisation and the major customer, which are consistent with both organisations’ financial objectives and business strategies', 'Assess with the major customer strategic options towards achieving the common business objectives which involve mutual working', 'Work in partnership with the major customer to develop a plan and actions towards addressing the identified challenges and common objectives', 'Analyse expertise required in own team to work with the major customers', 'Co-ordinate business functions across own organisation to develop strategic relationships with the major customers', 'Evaluate opportunities for creating long term value for the major customer', 'Evaluate methods for reducing risk to the major customer regarding own organisation’s products and services', 'Monitor and critically evaluate the outcomes of activities in developing the strategic relationship with the major customer, including the return on the investment being made', 'Develop a plan to address any issues regarding the outcome of strategic relationship activities', 'Develop a succession plan for maintaining a successful relationship with the major customer, with contingencies should particular individuals no longer be able to work with the major customer', 'Evaluate systems for storing and planning major customer information']\n",
      "\n",
      "**NOS Assessment Area**: Observing signals during customer interactions\n",
      "\n",
      "**OFQUAL Standards for the NOS Assessment Area**: \n",
      "['Understand how to identify customer groups', 'Describe methods of identifying customer groups', 'Compare the characteristics of customers in identified customer groups', 'Understand the motivations, attitudes, and behaviours of customers in identified customer groups', 'Describe the motivations, attitudes, and behaviours of customers in identified customer groups', 'Describe clusters of customers who have distinct similarities in their motivations, attitudes, and behaviours', 'Understand how to profile existing customer groups', 'Identify the characteristics of established customers', 'Describe the similarities between identified established customers', 'Explain how to develop profiles for customer groups']\n",
      "        \n",
      "\n"
     ]
    }
   ],
   "source": [
    "print(message_history[-1]['content'])"
   ]
  },
  {
   "cell_type": "code",
   "execution_count": 27,
   "id": "c6911b58",
   "metadata": {},
   "outputs": [
    {
     "name": "stderr",
     "output_type": "stream",
     "text": [
      "2025-01-10 16:52:09,268 - INFO - Running step 1 with agent Discussion\n",
      "2025-01-10 16:52:09,269 - INFO - Logging from fetch_agent response\n",
      "2025-01-10 16:52:17,484 - INFO - Executing tool: Curriculum with args: {'title': 'Advanced Sales Strategies: Integration with CRM and Negotiation', 'subject': 'Sales and Business Development', 'level': 'Advanced', 'prerequisites': ['Intermediate knowledge of sales techniques', 'Basic understanding of CRM tools'], 'modules': [{'title': 'Product Knowledge and Marketing Integration', 'learning_outcomes': ['Enhance understanding of product features', \"Understand marketing's role in sales success\", 'Align sales strategies with customer needs'], 'lessons': ['Deep Dive into Product Features', 'The Role of Marketing in Sales', 'Aligning Strategies with Customer Needs'], 'duration': 12}, {'title': 'Negotiation Techniques Mastery', 'learning_outcomes': ['Master negotiation tactics', 'Resolve customer objections effectively', 'Close sales strategically'], 'lessons': ['Advanced Negotiation Tactics', 'Handling Objections Gracefully', 'Strategic Closing Techniques'], 'duration': 10}, {'title': 'Customer Relationship Management', 'learning_outcomes': ['Leverage CRM for sales', 'Enhance customer relationship strategies', 'Utilize CRM data for strategic decisions'], 'lessons': ['Introduction to CRM Tools', 'Building Customer Relationships', 'Data-Driven Decision Making'], 'duration': 8}, {'title': 'Signal Recognition and Application', 'learning_outcomes': ['Recognize verbal and non-verbal signals', 'Apply signaling strategy to sales', 'Enhance communication through signal interpretation'], 'lessons': ['Interpreting Customer Signals', 'Strategic Application of Signals', 'Communication Enhancement Through Signals'], 'duration': 8}, {'title': 'Strategic Customer Conversations', 'learning_outcomes': ['Control sales conversations', 'Build trust with strategic partners', 'Develop customer-centric dialogue'], 'lessons': ['Controlling Sales Conversations', 'Building Trust and Rapport', 'Customer-Centric Dialogues'], 'duration': 9}]}\n",
      "2025-01-10 16:52:17,485 - INFO - Running step 2 with agent Discussion\n",
      "2025-01-10 16:52:17,486 - INFO - Logging from fetch_agent response\n",
      "2025-01-10 16:52:25,161 - INFO - Number of turns: 1\n"
     ]
    }
   ],
   "source": [
    "response = run_step(\n",
    "            agent=discuss_agent,\n",
    "            messages=message_history,\n",
    "            context={},\n",
    "            max_turns=5\n",
    "        )"
   ]
  },
  {
   "cell_type": "code",
   "execution_count": 29,
   "id": "e7ff2dd6",
   "metadata": {},
   "outputs": [
    {
     "data": {
      "text/plain": [
       "{'title': 'Advanced Sales Strategies: Integration with CRM and Negotiation',\n",
       " 'subject': 'Sales and Business Development',\n",
       " 'level': 'Advanced',\n",
       " 'prerequisites': ['Intermediate knowledge of sales techniques',\n",
       "  'Basic understanding of CRM tools'],\n",
       " 'modules': [{'title': 'Product Knowledge and Marketing Integration',\n",
       "   'learning_outcomes': ['Enhance understanding of product features',\n",
       "    \"Understand marketing's role in sales success\",\n",
       "    'Align sales strategies with customer needs'],\n",
       "   'lessons': ['Deep Dive into Product Features',\n",
       "    'The Role of Marketing in Sales',\n",
       "    'Aligning Strategies with Customer Needs'],\n",
       "   'duration': 12},\n",
       "  {'title': 'Negotiation Techniques Mastery',\n",
       "   'learning_outcomes': ['Master negotiation tactics',\n",
       "    'Resolve customer objections effectively',\n",
       "    'Close sales strategically'],\n",
       "   'lessons': ['Advanced Negotiation Tactics',\n",
       "    'Handling Objections Gracefully',\n",
       "    'Strategic Closing Techniques'],\n",
       "   'duration': 10},\n",
       "  {'title': 'Customer Relationship Management',\n",
       "   'learning_outcomes': ['Leverage CRM for sales',\n",
       "    'Enhance customer relationship strategies',\n",
       "    'Utilize CRM data for strategic decisions'],\n",
       "   'lessons': ['Introduction to CRM Tools',\n",
       "    'Building Customer Relationships',\n",
       "    'Data-Driven Decision Making'],\n",
       "   'duration': 8},\n",
       "  {'title': 'Signal Recognition and Application',\n",
       "   'learning_outcomes': ['Recognize verbal and non-verbal signals',\n",
       "    'Apply signaling strategy to sales',\n",
       "    'Enhance communication through signal interpretation'],\n",
       "   'lessons': ['Interpreting Customer Signals',\n",
       "    'Strategic Application of Signals',\n",
       "    'Communication Enhancement Through Signals'],\n",
       "   'duration': 8},\n",
       "  {'title': 'Strategic Customer Conversations',\n",
       "   'learning_outcomes': ['Control sales conversations',\n",
       "    'Build trust with strategic partners',\n",
       "    'Develop customer-centric dialogue'],\n",
       "   'lessons': ['Controlling Sales Conversations',\n",
       "    'Building Trust and Rapport',\n",
       "    'Customer-Centric Dialogues'],\n",
       "   'duration': 9}]}"
      ]
     },
     "execution_count": 29,
     "metadata": {},
     "output_type": "execute_result"
    }
   ],
   "source": [
    "# Parse the response to get the curriculum arguments\n",
    "curriculum_args = response.messages[0]['tool_calls'][0]['function']['arguments']\n",
    "curriculum_data = json.loads(curriculum_args)\n",
    "curriculum_data"
   ]
  },
  {
   "cell_type": "code",
   "execution_count": null,
   "id": "24bdf0a8",
   "metadata": {},
   "outputs": [],
   "source": []
  },
  {
   "cell_type": "code",
   "execution_count": null,
   "id": "27d61803",
   "metadata": {},
   "outputs": [],
   "source": []
  },
  {
   "cell_type": "code",
   "execution_count": 59,
   "id": "d39d3fe6-891b-4db7-b38e-035c9a626cb0",
   "metadata": {},
   "outputs": [],
   "source": [
    "import inspect"
   ]
  },
  {
   "cell_type": "code",
   "execution_count": 18,
   "id": "ea5313af-ef11-4ab4-a742-9072f63a9fc9",
   "metadata": {},
   "outputs": [],
   "source": [
    "from django.core.cache import cache"
   ]
  },
  {
   "cell_type": "code",
   "execution_count": null,
   "id": "1f957ed1-26e1-4f5b-b35e-641f23ddfb51",
   "metadata": {},
   "outputs": [],
   "source": []
  },
  {
   "cell_type": "code",
   "execution_count": null,
   "id": "9aaad1c7-70d6-4571-80cb-bf61f45ac556",
   "metadata": {},
   "outputs": [],
   "source": [
    "active_agent   = discuss_agent\n",
    "messages       = []\n",
    "context        = {\"email\":\"aditya@gmail.com\",\"sequence_id\":'52442',\n",
    "                  \"stage_data\":{'profile':{},'discuss':{},'delivery':{},'demonstrate':{}},\n",
    "                  \"stage\":1}"
   ]
  },
  {
   "cell_type": "code",
   "execution_count": null,
   "id": "b235b341",
   "metadata": {},
   "outputs": [],
   "source": []
  },
  {
   "cell_type": "code",
   "execution_count": null,
   "id": "9f4525bd-619a-4489-8ec6-10c699a16bd0",
   "metadata": {},
   "outputs": [],
   "source": [
    "result = run_step(active_agent, messages, context=context, max_turns=5)\n",
    "\n",
    "messages.extend(result.messages)\n",
    "context.update(result.context)\n",
    "if result.agent!=active_agent:\n",
    "    active_agent = result.agent\n",
    "    context['stage'] += 1\n",
    "    print(f\"Switching agent to {active_agent.name}\")\n",
    "print(context)\n",
    "\n",
    "Markdown(messages[-1]['content'])"
   ]
  },
  {
   "cell_type": "code",
   "execution_count": null,
   "id": "813f5b4f-b942-4193-870b-82a30c2b0f78",
   "metadata": {},
   "outputs": [],
   "source": []
  },
  {
   "cell_type": "code",
   "execution_count": null,
   "id": "0e1ef385-e2d5-4490-8401-72b772ef2b27",
   "metadata": {},
   "outputs": [],
   "source": [
    "user_resp = \"Sounds good, let's go\"\n",
    "\n",
    "messages.append({\"role\":\"user\",\"content\":user_resp})"
   ]
  },
  {
   "cell_type": "code",
   "execution_count": null,
   "id": "8a707484-7de4-4dcc-8a2c-febff2fa372e",
   "metadata": {},
   "outputs": [],
   "source": []
  }
 ],
 "metadata": {
  "kernelspec": {
   "display_name": "Python 3 (ipykernel)",
   "language": "python",
   "name": "python3"
  },
  "language_info": {
   "codemirror_mode": {
    "name": "ipython",
    "version": 3
   },
   "file_extension": ".py",
   "mimetype": "text/x-python",
   "name": "python",
   "nbconvert_exporter": "python",
   "pygments_lexer": "ipython3",
   "version": "3.11.4"
  },
  "widgets": {
   "application/vnd.jupyter.widget-state+json": {
    "state": {},
    "version_major": 2,
    "version_minor": 0
   }
  }
 },
 "nbformat": 4,
 "nbformat_minor": 5
}
