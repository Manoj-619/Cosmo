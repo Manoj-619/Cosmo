{
 "cells": [
  {
   "cell_type": "code",
   "execution_count": 1,
   "id": "a130b15a-acfd-41a7-99f6-a56baf7523ff",
   "metadata": {},
   "outputs": [],
   "source": [
    "import os\n",
    "#os.chdir(r\"C:\\Users\\Aditya\\GitHub\\zavmo\\zavmo-api\\zavmo\")\n",
    "os.chdir(\"/Users/adityachhabra/Github/zavmo/zavmo-api/zavmo\")"
   ]
  },
  {
   "cell_type": "code",
   "execution_count": 2,
   "id": "8a522b0d-0184-4535-8144-32ed1f17c506",
   "metadata": {},
   "outputs": [],
   "source": [
    "from dotenv import load_dotenv\n",
    "load_dotenv()\n",
    "from IPython.display import Markdown"
   ]
  },
  {
   "cell_type": "code",
   "execution_count": 3,
   "id": "c63e5088-1c30-44b7-a1a9-5f8fecc3de74",
   "metadata": {},
   "outputs": [],
   "source": [
    "from helpers.agents.common import get_yaml_data,get_agent_instructions"
   ]
  },
  {
   "cell_type": "code",
   "execution_count": 4,
   "id": "17b63f28-f072-48b6-81f7-17b9e69af1b6",
   "metadata": {},
   "outputs": [],
   "source": [
    "from helpers.swarm import Agent, Response, Result, Tool, with_context, run_step\n",
    "from helpers.agents.common import get_agent_instructions"
   ]
  },
  {
   "cell_type": "code",
   "execution_count": 5,
   "id": "f9b0d4a2-22de-42ff-8fbd-5ffc7ef2c836",
   "metadata": {},
   "outputs": [],
   "source": [
    "from helpers.agents.a_discover import discovery_agent\n",
    "from helpers.agents.b_discuss import discuss_agent"
   ]
  },
  {
   "cell_type": "code",
   "execution_count": 6,
   "id": "9aaad1c7-70d6-4571-80cb-bf61f45ac556",
   "metadata": {},
   "outputs": [],
   "source": [
    "active_agent   = discuss_agent\n",
    "messages       = []\n",
    "context        = {\"email\":\"aditya@gmail.com\",\"sequence_id\":'52442',\"stage_data\":{},\"stage\":1}"
   ]
  },
  {
   "cell_type": "code",
   "execution_count": 13,
   "id": "9f4525bd-619a-4489-8ec6-10c699a16bd0",
   "metadata": {},
   "outputs": [
    {
     "name": "stderr",
     "output_type": "stream",
     "text": [
      "2024-10-24 22:45:43,591 - INFO - Running step 0 with agent Discussion\n",
      "2024-10-24 22:45:47,938 - INFO - HTTP Request: POST https://api.openai.com/v1/chat/completions \"HTTP/1.1 200 OK\"\n"
     ]
    },
    {
     "name": "stdout",
     "output_type": "stream",
     "text": [
      "Input tokens: 1438\n",
      "Output tokens: 62\n",
      "Total tokens: 1500\n"
     ]
    },
    {
     "ename": "KeyError",
     "evalue": "'discuss'",
     "output_type": "error",
     "traceback": [
      "\u001b[0;31m---------------------------------------------------------------------------\u001b[0m",
      "\u001b[0;31mKeyError\u001b[0m                                  Traceback (most recent call last)",
      "Cell \u001b[0;32mIn[13], line 1\u001b[0m\n\u001b[0;32m----> 1\u001b[0m result \u001b[38;5;241m=\u001b[39m \u001b[43mrun_step\u001b[49m\u001b[43m(\u001b[49m\u001b[43mactive_agent\u001b[49m\u001b[43m,\u001b[49m\u001b[43m \u001b[49m\u001b[43mmessages\u001b[49m\u001b[43m,\u001b[49m\u001b[43m \u001b[49m\u001b[43mcontext\u001b[49m\u001b[38;5;241;43m=\u001b[39;49m\u001b[43mcontext\u001b[49m\u001b[43m,\u001b[49m\u001b[43m \u001b[49m\u001b[43mmax_turns\u001b[49m\u001b[38;5;241;43m=\u001b[39;49m\u001b[38;5;241;43m5\u001b[39;49m\u001b[43m)\u001b[49m\n\u001b[1;32m      3\u001b[0m messages\u001b[38;5;241m.\u001b[39mextend(result\u001b[38;5;241m.\u001b[39mmessages)\n\u001b[1;32m      4\u001b[0m context\u001b[38;5;241m.\u001b[39mupdate(result\u001b[38;5;241m.\u001b[39mcontext)\n",
      "File \u001b[0;32m~/Github/zavmo/zavmo-api/zavmo/helpers/swarm.py:38\u001b[0m, in \u001b[0;36mwith_context.<locals>.wrapper\u001b[0;34m(*args, **kwargs)\u001b[0m\n\u001b[1;32m     36\u001b[0m \u001b[38;5;28;01mif\u001b[39;00m context \u001b[38;5;129;01mis\u001b[39;00m \u001b[38;5;28;01mNone\u001b[39;00m:\n\u001b[1;32m     37\u001b[0m     context \u001b[38;5;241m=\u001b[39m {}\n\u001b[0;32m---> 38\u001b[0m result \u001b[38;5;241m=\u001b[39m \u001b[43mfunc\u001b[49m\u001b[43m(\u001b[49m\u001b[38;5;241;43m*\u001b[39;49m\u001b[43margs\u001b[49m\u001b[43m,\u001b[49m\u001b[43m \u001b[49m\u001b[38;5;241;43m*\u001b[39;49m\u001b[38;5;241;43m*\u001b[39;49m\u001b[43mkwargs\u001b[49m\u001b[43m,\u001b[49m\u001b[43m \u001b[49m\u001b[43mcontext\u001b[49m\u001b[38;5;241;43m=\u001b[39;49m\u001b[43mcontext\u001b[49m\u001b[43m)\u001b[49m\n\u001b[1;32m     39\u001b[0m \u001b[38;5;28;01mif\u001b[39;00m \u001b[38;5;28misinstance\u001b[39m(result, \u001b[38;5;28mdict\u001b[39m) \u001b[38;5;129;01mand\u001b[39;00m \u001b[38;5;124m'\u001b[39m\u001b[38;5;124mcontext\u001b[39m\u001b[38;5;124m'\u001b[39m \u001b[38;5;129;01min\u001b[39;00m result:\n\u001b[1;32m     40\u001b[0m     context\u001b[38;5;241m.\u001b[39mupdate(result[\u001b[38;5;124m'\u001b[39m\u001b[38;5;124mcontext\u001b[39m\u001b[38;5;124m'\u001b[39m])\n",
      "File \u001b[0;32m~/Github/zavmo/zavmo-api/zavmo/helpers/swarm.py:322\u001b[0m, in \u001b[0;36mrun_step\u001b[0;34m(agent, messages, context, max_turns)\u001b[0m\n\u001b[1;32m    319\u001b[0m \u001b[38;5;28;01mif\u001b[39;00m \u001b[38;5;129;01mnot\u001b[39;00m message\u001b[38;5;241m.\u001b[39mtool_calls:\n\u001b[1;32m    320\u001b[0m     \u001b[38;5;28;01mbreak\u001b[39;00m\n\u001b[0;32m--> 322\u001b[0m partial_response \u001b[38;5;241m=\u001b[39m \u001b[43mexecute_tool_calls\u001b[49m\u001b[43m(\u001b[49m\u001b[43mmessage\u001b[49m\u001b[38;5;241;43m.\u001b[39;49m\u001b[43mtool_calls\u001b[49m\u001b[43m,\u001b[49m\u001b[43m \u001b[49m\u001b[43mactive_agent\u001b[49m\u001b[38;5;241;43m.\u001b[39;49m\u001b[43mfunctions\u001b[49m\u001b[43m,\u001b[49m\u001b[43m \u001b[49m\u001b[43mcontext\u001b[49m\u001b[38;5;241;43m=\u001b[39;49m\u001b[43mcontext\u001b[49m\u001b[43m)\u001b[49m\n\u001b[1;32m    323\u001b[0m history\u001b[38;5;241m.\u001b[39mextend(partial_response\u001b[38;5;241m.\u001b[39mmessages)\n\u001b[1;32m    324\u001b[0m context\u001b[38;5;241m.\u001b[39mupdate(copy\u001b[38;5;241m.\u001b[39mdeepcopy(partial_response\u001b[38;5;241m.\u001b[39mcontext))\n",
      "File \u001b[0;32m~/Github/zavmo/zavmo-api/zavmo/helpers/swarm.py:38\u001b[0m, in \u001b[0;36mwith_context.<locals>.wrapper\u001b[0;34m(*args, **kwargs)\u001b[0m\n\u001b[1;32m     36\u001b[0m \u001b[38;5;28;01mif\u001b[39;00m context \u001b[38;5;129;01mis\u001b[39;00m \u001b[38;5;28;01mNone\u001b[39;00m:\n\u001b[1;32m     37\u001b[0m     context \u001b[38;5;241m=\u001b[39m {}\n\u001b[0;32m---> 38\u001b[0m result \u001b[38;5;241m=\u001b[39m \u001b[43mfunc\u001b[49m\u001b[43m(\u001b[49m\u001b[38;5;241;43m*\u001b[39;49m\u001b[43margs\u001b[49m\u001b[43m,\u001b[49m\u001b[43m \u001b[49m\u001b[38;5;241;43m*\u001b[39;49m\u001b[38;5;241;43m*\u001b[39;49m\u001b[43mkwargs\u001b[49m\u001b[43m,\u001b[49m\u001b[43m \u001b[49m\u001b[43mcontext\u001b[49m\u001b[38;5;241;43m=\u001b[39;49m\u001b[43mcontext\u001b[49m\u001b[43m)\u001b[49m\n\u001b[1;32m     39\u001b[0m \u001b[38;5;28;01mif\u001b[39;00m \u001b[38;5;28misinstance\u001b[39m(result, \u001b[38;5;28mdict\u001b[39m) \u001b[38;5;129;01mand\u001b[39;00m \u001b[38;5;124m'\u001b[39m\u001b[38;5;124mcontext\u001b[39m\u001b[38;5;124m'\u001b[39m \u001b[38;5;129;01min\u001b[39;00m result:\n\u001b[1;32m     40\u001b[0m     context\u001b[38;5;241m.\u001b[39mupdate(result[\u001b[38;5;124m'\u001b[39m\u001b[38;5;124mcontext\u001b[39m\u001b[38;5;124m'\u001b[39m])\n",
      "File \u001b[0;32m~/Github/zavmo/zavmo-api/zavmo/helpers/swarm.py:276\u001b[0m, in \u001b[0;36mexecute_tool_calls\u001b[0;34m(tool_calls, functions, context)\u001b[0m\n\u001b[1;32m    273\u001b[0m \u001b[38;5;28;01mif\u001b[39;00m inspect\u001b[38;5;241m.\u001b[39misclass(func) \u001b[38;5;129;01mand\u001b[39;00m \u001b[38;5;28missubclass\u001b[39m(func, Tool):\n\u001b[1;32m    274\u001b[0m     \u001b[38;5;66;03m# Instantiate the Tool with arguments\u001b[39;00m\n\u001b[1;32m    275\u001b[0m     tool_instance \u001b[38;5;241m=\u001b[39m func(\u001b[38;5;241m*\u001b[39m\u001b[38;5;241m*\u001b[39margs)\n\u001b[0;32m--> 276\u001b[0m     raw_result \u001b[38;5;241m=\u001b[39m \u001b[43mtool_instance\u001b[49m\u001b[38;5;241;43m.\u001b[39;49m\u001b[43mexecute\u001b[49m\u001b[43m(\u001b[49m\u001b[43mcontext\u001b[49m\u001b[38;5;241;43m=\u001b[39;49m\u001b[43mpartial_response\u001b[49m\u001b[38;5;241;43m.\u001b[39;49m\u001b[43mcontext\u001b[49m\u001b[43m)\u001b[49m  \u001b[38;5;66;03m# Pass context here\u001b[39;00m\n\u001b[1;32m    277\u001b[0m \u001b[38;5;28;01melif\u001b[39;00m \u001b[38;5;28misinstance\u001b[39m(func, Tool):\n\u001b[1;32m    278\u001b[0m     raw_result \u001b[38;5;241m=\u001b[39m func\u001b[38;5;241m.\u001b[39mexecute(context\u001b[38;5;241m=\u001b[39mpartial_response\u001b[38;5;241m.\u001b[39mcontext)  \u001b[38;5;66;03m# Pass context here\u001b[39;00m\n",
      "File \u001b[0;32m~/Github/zavmo/zavmo-api/zavmo/helpers/swarm.py:38\u001b[0m, in \u001b[0;36mwith_context.<locals>.wrapper\u001b[0;34m(*args, **kwargs)\u001b[0m\n\u001b[1;32m     36\u001b[0m \u001b[38;5;28;01mif\u001b[39;00m context \u001b[38;5;129;01mis\u001b[39;00m \u001b[38;5;28;01mNone\u001b[39;00m:\n\u001b[1;32m     37\u001b[0m     context \u001b[38;5;241m=\u001b[39m {}\n\u001b[0;32m---> 38\u001b[0m result \u001b[38;5;241m=\u001b[39m \u001b[43mfunc\u001b[49m\u001b[43m(\u001b[49m\u001b[38;5;241;43m*\u001b[39;49m\u001b[43margs\u001b[49m\u001b[43m,\u001b[49m\u001b[43m \u001b[49m\u001b[38;5;241;43m*\u001b[39;49m\u001b[38;5;241;43m*\u001b[39;49m\u001b[43mkwargs\u001b[49m\u001b[43m,\u001b[49m\u001b[43m \u001b[49m\u001b[43mcontext\u001b[49m\u001b[38;5;241;43m=\u001b[39;49m\u001b[43mcontext\u001b[49m\u001b[43m)\u001b[49m\n\u001b[1;32m     39\u001b[0m \u001b[38;5;28;01mif\u001b[39;00m \u001b[38;5;28misinstance\u001b[39m(result, \u001b[38;5;28mdict\u001b[39m) \u001b[38;5;129;01mand\u001b[39;00m \u001b[38;5;124m'\u001b[39m\u001b[38;5;124mcontext\u001b[39m\u001b[38;5;124m'\u001b[39m \u001b[38;5;129;01min\u001b[39;00m result:\n\u001b[1;32m     40\u001b[0m     context\u001b[38;5;241m.\u001b[39mupdate(result[\u001b[38;5;124m'\u001b[39m\u001b[38;5;124mcontext\u001b[39m\u001b[38;5;124m'\u001b[39m])\n",
      "File \u001b[0;32m~/Github/zavmo/zavmo-api/zavmo/helpers/agents/b_discuss.py:93\u001b[0m, in \u001b[0;36mupdate_discussion_data.execute\u001b[0;34m(self, context)\u001b[0m\n\u001b[1;32m     81\u001b[0m \u001b[38;5;66;03m# discuss_stage = DiscussStage.objects.get(user__email=email, sequence_id=sequence_id)\u001b[39;00m\n\u001b[1;32m     82\u001b[0m \u001b[38;5;66;03m# discuss_stage.interest_areas = self.interest_areas\u001b[39;00m\n\u001b[1;32m     83\u001b[0m \u001b[38;5;66;03m# discuss_stage.learning_style = self.learning_style\u001b[39;00m\n\u001b[1;32m     84\u001b[0m \u001b[38;5;66;03m# discuss_stage.curriculum = context['stage_data']['discuss']['curriculum']\u001b[39;00m\n\u001b[1;32m     85\u001b[0m \u001b[38;5;66;03m# discuss_stage.timeline = self.timeline\u001b[39;00m\n\u001b[1;32m     86\u001b[0m \u001b[38;5;66;03m# discuss_stage.save()\u001b[39;00m\n\u001b[1;32m     88\u001b[0m result_message \u001b[38;5;241m=\u001b[39m \u001b[38;5;124mf\u001b[39m\u001b[38;5;124m\"\"\"\u001b[39m\u001b[38;5;124mDiscussion data updated successfully for \u001b[39m\u001b[38;5;132;01m{\u001b[39;00memail\u001b[38;5;132;01m}\u001b[39;00m\u001b[38;5;124m with sequence id \u001b[39m\u001b[38;5;132;01m{\u001b[39;00msequence_id\u001b[38;5;132;01m}\u001b[39;00m\u001b[38;5;124m.\u001b[39m\n\u001b[1;32m     89\u001b[0m \u001b[38;5;124m\u001b[39m\n\u001b[1;32m     90\u001b[0m \u001b[38;5;124m**Discussion data:**         \u001b[39m\n\u001b[1;32m     91\u001b[0m \u001b[38;5;124m\u001b[39m\u001b[38;5;132;01m{\u001b[39;00m\u001b[38;5;28mstr\u001b[39m(\u001b[38;5;28mself\u001b[39m)\u001b[38;5;132;01m}\u001b[39;00m\n\u001b[1;32m     92\u001b[0m \u001b[38;5;124m\u001b[39m\u001b[38;5;124m\"\"\"\u001b[39m\n\u001b[0;32m---> 93\u001b[0m \u001b[38;5;28;01mfor\u001b[39;00m key, value \u001b[38;5;129;01min\u001b[39;00m \u001b[43mcontext\u001b[49m\u001b[43m[\u001b[49m\u001b[38;5;124;43m'\u001b[39;49m\u001b[38;5;124;43mstage_data\u001b[39;49m\u001b[38;5;124;43m'\u001b[39;49m\u001b[43m]\u001b[49m\u001b[43m[\u001b[49m\u001b[38;5;124;43m'\u001b[39;49m\u001b[38;5;124;43mdiscuss\u001b[39;49m\u001b[38;5;124;43m'\u001b[39;49m\u001b[43m]\u001b[49m\u001b[38;5;241m.\u001b[39mitems():\n\u001b[1;32m     94\u001b[0m     result_message \u001b[38;5;241m+\u001b[39m\u001b[38;5;241m=\u001b[39m \u001b[38;5;124mf\u001b[39m\u001b[38;5;124m\"\u001b[39m\u001b[38;5;130;01m\\n\u001b[39;00m\u001b[38;5;124m**\u001b[39m\u001b[38;5;132;01m{\u001b[39;00mkey\u001b[38;5;241m.\u001b[39mreplace(\u001b[38;5;124m'\u001b[39m\u001b[38;5;124m_\u001b[39m\u001b[38;5;124m'\u001b[39m,\u001b[38;5;250m \u001b[39m\u001b[38;5;124m'\u001b[39m\u001b[38;5;124m \u001b[39m\u001b[38;5;124m'\u001b[39m)\u001b[38;5;241m.\u001b[39mtitle()\u001b[38;5;132;01m}\u001b[39;00m\u001b[38;5;124m**: \u001b[39m\u001b[38;5;132;01m{\u001b[39;00mvalue\u001b[38;5;132;01m}\u001b[39;00m\u001b[38;5;124m\"\u001b[39m\n\u001b[1;32m     95\u001b[0m \u001b[38;5;28;01mreturn\u001b[39;00m Result(message\u001b[38;5;241m=\u001b[39mresult_message, agent\u001b[38;5;241m=\u001b[39m\u001b[38;5;28;01mNone\u001b[39;00m, context\u001b[38;5;241m=\u001b[39mcontext)\n",
      "\u001b[0;31mKeyError\u001b[0m: 'discuss'"
     ]
    }
   ],
   "source": [
    "result = run_step(active_agent, messages, context=context, max_turns=5)\n",
    "\n",
    "messages.extend(result.messages)\n",
    "context.update(result.context)\n",
    "if result.agent!=active_agent:\n",
    "    active_agent = result.agent\n",
    "    context['stage'] += 1\n",
    "    print(f\"Switching agent to {active_agent.name}\")\n",
    "print(context)\n",
    "\n",
    "Markdown(messages[-1]['content'])"
   ]
  },
  {
   "cell_type": "code",
   "execution_count": 12,
   "id": "0e1ef385-e2d5-4490-8401-72b772ef2b27",
   "metadata": {},
   "outputs": [],
   "source": [
    "user_resp = \"Sounds better\"\n",
    "\n",
    "messages.append({\"role\":\"user\",\"content\":user_resp})"
   ]
  },
  {
   "cell_type": "code",
   "execution_count": null,
   "id": "8a707484-7de4-4dcc-8a2c-febff2fa372e",
   "metadata": {},
   "outputs": [],
   "source": []
  },
  {
   "cell_type": "code",
   "execution_count": null,
   "id": "81d1a9c9-1861-469e-8ee0-e882b16af510",
   "metadata": {},
   "outputs": [],
   "source": []
  },
  {
   "cell_type": "code",
   "execution_count": null,
   "id": "a8a2724f-9402-4228-b3c1-f109080bef40",
   "metadata": {},
   "outputs": [],
   "source": []
  },
  {
   "cell_type": "code",
   "execution_count": null,
   "id": "67ced21a-4fa8-4378-8af4-9d6291e34adb",
   "metadata": {},
   "outputs": [],
   "source": []
  },
  {
   "cell_type": "code",
   "execution_count": null,
   "id": "f30978e0-6d3d-4fc2-80ec-0b052e1d09ce",
   "metadata": {},
   "outputs": [],
   "source": []
  },
  {
   "cell_type": "code",
   "execution_count": null,
   "id": "67afe381-5e30-4756-be34-276aaecc0b93",
   "metadata": {},
   "outputs": [],
   "source": []
  },
  {
   "cell_type": "code",
   "execution_count": null,
   "id": "79ba24e2-9793-4d20-ab95-63433bff75fc",
   "metadata": {},
   "outputs": [],
   "source": []
  },
  {
   "cell_type": "code",
   "execution_count": null,
   "id": "a87282a1-644c-465c-a3ab-3dd0aaf6245d",
   "metadata": {},
   "outputs": [],
   "source": []
  },
  {
   "cell_type": "code",
   "execution_count": null,
   "id": "2f549862-a8a4-4c15-bbe0-0ce6050ad287",
   "metadata": {},
   "outputs": [],
   "source": []
  },
  {
   "cell_type": "code",
   "execution_count": null,
   "id": "19b3683b-c71d-49c5-ac3d-29a3ec1bc2f6",
   "metadata": {},
   "outputs": [],
   "source": []
  },
  {
   "cell_type": "code",
   "execution_count": null,
   "id": "35621104-fd8f-4c1d-b266-680961e041fa",
   "metadata": {},
   "outputs": [],
   "source": []
  },
  {
   "cell_type": "code",
   "execution_count": null,
   "id": "3b2449c7-b2fd-40f9-b21d-8a7259c02196",
   "metadata": {},
   "outputs": [],
   "source": []
  },
  {
   "cell_type": "code",
   "execution_count": null,
   "id": "3f471f92-4dc7-40db-804b-cfc93d9b9596",
   "metadata": {},
   "outputs": [],
   "source": []
  },
  {
   "cell_type": "code",
   "execution_count": null,
   "id": "b1c8094c-816b-43e3-9040-619e0398e249",
   "metadata": {},
   "outputs": [],
   "source": []
  },
  {
   "cell_type": "code",
   "execution_count": null,
   "id": "1fb65fcd-2e6b-4805-a1c3-4b0ef511eb66",
   "metadata": {},
   "outputs": [],
   "source": []
  },
  {
   "cell_type": "code",
   "execution_count": null,
   "id": "c29c7080-095a-4b19-99ba-781b472c9705",
   "metadata": {},
   "outputs": [],
   "source": []
  },
  {
   "cell_type": "code",
   "execution_count": null,
   "id": "50f9fe61-52a2-4d4f-bfb8-0abde2571f51",
   "metadata": {},
   "outputs": [],
   "source": []
  },
  {
   "cell_type": "code",
   "execution_count": null,
   "id": "ba7247cd-386e-4d49-a4d8-56f14f23e83e",
   "metadata": {},
   "outputs": [],
   "source": []
  }
 ],
 "metadata": {
  "kernelspec": {
   "display_name": "Python 3 (ipykernel)",
   "language": "python",
   "name": "python3"
  },
  "language_info": {
   "codemirror_mode": {
    "name": "ipython",
    "version": 3
   },
   "file_extension": ".py",
   "mimetype": "text/x-python",
   "name": "python",
   "nbconvert_exporter": "python",
   "pygments_lexer": "ipython3",
   "version": "3.11.9"
  },
  "widgets": {
   "application/vnd.jupyter.widget-state+json": {
    "state": {},
    "version_major": 2,
    "version_minor": 0
   }
  }
 },
 "nbformat": 4,
 "nbformat_minor": 5
}
