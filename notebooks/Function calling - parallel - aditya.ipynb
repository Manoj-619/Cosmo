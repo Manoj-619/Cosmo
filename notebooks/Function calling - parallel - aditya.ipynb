{
 "cells": [
  {
   "cell_type": "code",
   "execution_count": 1,
   "id": "ae1547d5-1dce-476e-b885-d55ea2fd668b",
   "metadata": {},
   "outputs": [],
   "source": [
    "import os\n",
    "git_dir = os.path.dirname(os.getcwd())\n",
    "project_dir = os.path.join(git_dir,'zavmo')\n",
    "os.chdir(project_dir)"
   ]
  },
  {
   "cell_type": "code",
   "execution_count": 2,
   "id": "e8b94438-76fd-49e7-839f-06f1541c1228",
   "metadata": {},
   "outputs": [
    {
     "data": {
      "text/plain": [
       "True"
      ]
     },
     "execution_count": 2,
     "metadata": {},
     "output_type": "execute_result"
    }
   ],
   "source": [
    "from dotenv import load_dotenv\n",
    "load_dotenv(override=True)"
   ]
  },
  {
   "cell_type": "code",
   "execution_count": 3,
   "id": "8a67799a-bc6a-4a7a-9bbd-ac0c94394504",
   "metadata": {},
   "outputs": [],
   "source": [
    "import json\n",
    "from helpers.chat import get_openai_completion,make_function_call,get_prompt, make_structured_call\n",
    "from helpers.functions import parse_type\n",
    "from IPython.display import Markdown"
   ]
  },
  {
   "cell_type": "code",
   "execution_count": 11,
   "id": "17295ca8-378f-479d-ba20-4f04ea99f47f",
   "metadata": {},
   "outputs": [],
   "source": [
    "from pyperclip import copy\n",
    "import ast\n",
    "import openai\n",
    "from openai import OpenAI\n",
    "from helpers.functions import create_pydantic_model\n",
    "\n",
    "openai_client = OpenAI(api_key=os.getenv(\"OPENAI_API_KEY\"))"
   ]
  },
  {
   "cell_type": "code",
   "execution_count": 8,
   "id": "5685b058-8480-4001-ba76-d5cbec9099c6",
   "metadata": {},
   "outputs": [],
   "source": [
    "from helpers.utils import create_jwt"
   ]
  },
  {
   "cell_type": "code",
   "execution_count": 17,
   "id": "a6a3cde0-0eb4-4135-8ea5-32ec35d0ba83",
   "metadata": {},
   "outputs": [],
   "source": [
    "payload = {\n",
    "    \"email\": \"user@example.com\",\n",
    "    \"org_id\": \"zavmo\",\n",
    "}"
   ]
  },
  {
   "cell_type": "code",
   "execution_count": 18,
   "id": "10148e25-5c68-4af8-bdc7-add40aaf3a2a",
   "metadata": {},
   "outputs": [],
   "source": [
    "import time\n",
    "import jwt"
   ]
  },
  {
   "cell_type": "code",
   "execution_count": 19,
   "id": "a97e0f2e-7bbd-4067-87d3-8d4805ef7787",
   "metadata": {},
   "outputs": [],
   "source": [
    "from pyperclip import copy"
   ]
  },
  {
   "cell_type": "code",
   "execution_count": 20,
   "id": "215d4bbc-61df-4fdb-a5e7-78b01adf2cb9",
   "metadata": {},
   "outputs": [],
   "source": [
    "copy(create_jwt(payload))"
   ]
  },
  {
   "cell_type": "code",
   "execution_count": null,
   "id": "c6f06b28-3207-426b-8c96-c9988e9e38e0",
   "metadata": {},
   "outputs": [],
   "source": [
    "curl --location 'http://localhost:8000/api/user/sync/' \\\n",
    "--data-raw '{\n",
    "    \"email\":\"aditya@example.com\",\n",
    "    \"org_id\": \"kenpath-123\"\n",
    "}'"
   ]
  },
  {
   "cell_type": "code",
   "execution_count": null,
   "id": "c15dab47-a09f-4efa-8916-346a5930589c",
   "metadata": {},
   "outputs": [],
   "source": [
    "system_msg  = {\"role\":\"system\",\"content\":\"Extract information from the text.\"}\n",
    "user_msg    = {\"role\":\"user\",\"content\":\"My name is Aditya Chhabra, and I'm about to turn 29.\"}"
   ]
  },
  {
   "cell_type": "code",
   "execution_count": null,
   "id": "5b9344ae-a484-465b-9a59-1dcab95d3370",
   "metadata": {},
   "outputs": [],
   "source": [
    "profile_fields = [\n",
    "    {\n",
    "        'title':'first_name',\n",
    "        'annotation': 'str',\n",
    "        'description': \"The first name of the user, often used to address them directly, e.g., 'Diana' or 'John'.\",\n",
    "        \n",
    "    },\n",
    "    {\n",
    "        'title':'last_name',\n",
    "        'annotation': 'str',\n",
    "        'description': \"Last name of the user\",\n",
    "        \n",
    "    },\n",
    "    {\n",
    "        'title':'age',\n",
    "        'annotation': 'int',\n",
    "        'description': \"The age of the user.\",\n",
    "        \n",
    "    },\n",
    "]"
   ]
  },
  {
   "cell_type": "code",
   "execution_count": null,
   "id": "e2fea2fc-b980-48f6-b018-1924518f469f",
   "metadata": {},
   "outputs": [],
   "source": [
    "model = create_pydantic_model(\"Profile\", fields=profile_fields, description=\"Information about a user extracted from a chat\")"
   ]
  },
  {
   "cell_type": "code",
   "execution_count": null,
   "id": "e82d5f3a-13c9-4680-9cd0-d5b2348f5ea7",
   "metadata": {},
   "outputs": [],
   "source": [
    "tools = [openai.pydantic_function_tool(model)]"
   ]
  },
  {
   "cell_type": "code",
   "execution_count": null,
   "id": "a6ff72c1-84a3-47f8-93d8-1bc4f9054cb9",
   "metadata": {},
   "outputs": [],
   "source": [
    "response = openai_client.chat.completions.create(\n",
    "    model='gpt-4o-mini',\n",
    "    messages=[system_msg, user_msg],\n",
    "    tools=tools,\n",
    "    tool_choice=\"required\",\n",
    "#    parallel_tool_calls=True,\n",
    ")"
   ]
  },
  {
   "cell_type": "code",
   "execution_count": null,
   "id": "11011bc6-9452-44e8-91e5-f35b316e559d",
   "metadata": {},
   "outputs": [],
   "source": [
    "tool_calls = response.choices[0].message.tool_calls"
   ]
  },
  {
   "cell_type": "code",
   "execution_count": null,
   "id": "80ebf55f-ddd5-45f8-8094-7ebb903fd2ae",
   "metadata": {},
   "outputs": [],
   "source": [
    "model = model.parse_raw(tool_calls[0].function.arguments)"
   ]
  },
  {
   "cell_type": "code",
   "execution_count": null,
   "id": "f364df79",
   "metadata": {},
   "outputs": [],
   "source": [
    "# Extractor Bot Logic\n",
    "class ExtractorBot:\n",
    "    def __init__(self):\n",
    "        self.profile_data = {}\n",
    "        self.required_fields = [\"first_name\", \"last_name\", \"current_role\", \"learning_interests\"]\n",
    "        self.completed_fields = []\n",
    "        self.tools = [openai.pydantic_function_tool(i) for i in [GetFirstName, GetLastName, GetCurrentRole, GetLearningInterests]]\n",
    "\n",
    "    def extract_data(self, messages):\n",
    "        # Prepare and send messages for tool calls\n",
    "        tool_sys_msg = get_prompt('extractor.md', 'assets/prompts/profile').format(\n",
    "            required_fields=\", \".join(self.required_fields) if self.required_fields else \"No pending fields to extract\"\n",
    "        )\n",
    "        tool_messages = [{\"role\": \"system\", \"content\": tool_sys_msg}] + messages[1:]\n",
    "        tool_calls = make_tool_calls(tool_messages, self.tools)\n",
    "\n",
    "        if tool_calls:\n",
    "            for tool_response in tool_calls:\n",
    "                arg = tool_response.function.arguments\n",
    "                self.profile_data.update(json.loads(arg))\n",
    "\n",
    "            # Update fields status\n",
    "            self.completed_fields = list(set(self.profile_data))\n",
    "            self.required_fields = [field for field in self.required_fields if field not in self.completed_fields]\n",
    "\n",
    "    def are_all_fields_collected(self):\n",
    "        return not self.required_fields\n",
    "\n",
    "    def get_confirmation(self, messages):\n",
    "        answer = make_structured_call(GetConfirmation, messages).answer\n",
    "        return 'Yes' if answer and answer.value == 'Yes' else 'No'\n",
    "\n",
    "\n",
    "# Guiding Bot Logic\n",
    "class ProfileCollector:\n",
    "    def __init__(self, extractor_bot):\n",
    "        self.extractor_bot = extractor_bot\n",
    "        self.history = []\n",
    "        self.confirmed = \"No\"\n",
    "\n",
    "    def system_message(self):\n",
    "        prompt = get_prompt(\"system.md\", \"assets/prompts/profile\")\n",
    "        if self.extractor_bot.are_all_fields_collected():\n",
    "            prompt += \"\\nAsk for confirmation (Yes/No) sharing details\" + f\"\\n\\n```json\\n{json.dumps(self.extractor_bot.profile_data, indent=4)}\\n```\"\n",
    "        return {\"role\": \"system\", \"content\": prompt}\n",
    "\n",
    "    def user_message(self, input=\"\"):\n",
    "        # Generate user message with current field statuses\n",
    "        completed = \", \".join(self.extractor_bot.completed_fields) or \"Not completed any field yet.\"\n",
    "        required = \", \".join(self.extractor_bot.required_fields) or \"Received information for all remaining fields.\"\n",
    "        content = f\"Field Extraction Information\\n\\nCompleted Fields:\\n{completed}\\n\\nRequired Fields:\\n{required}\\n\\nUser response:\\n{input}\"\n",
    "        self.user_mssg = {\"role\": \"user\", \"content\": content}\n",
    "\n",
    "    def ask_question(self):\n",
    "        # Check if all fields are collected and ask for confirmation if needed\n",
    "        try: \n",
    "            self.user_mssg\n",
    "        except:\n",
    "            self.user_message()\n",
    "\n",
    "        if self.extractor_bot.are_all_fields_collected():\n",
    "            user_mssg = self.user_mssg \n",
    "            user_mssg['content'] = user_mssg['content'] + \"\\n\\nIf updates on any field is required and user will mention corresponding to what is asked, or if user says No. Take it as a No\"\n",
    "            messages = [self.system_message()] + self.history + [user_mssg]\n",
    "            confirmation = self.extractor_bot.get_confirmation(messages)\n",
    "            \n",
    "            if confirmation == \"Yes\":\n",
    "                self.confirmed = \"Yes\"\n",
    "                return self.summarize_profile()\n",
    "\n",
    "        # Collect remaining fields or reattempt extraction if confirmation is \"No\"\n",
    "        if not self.extractor_bot.are_all_fields_collected() or self.confirmed != \"Yes\":\n",
    "            tool_messages = self.history + [self.user_mssg]\n",
    "            self.extractor_bot.extract_data(tool_messages)\n",
    "\n",
    "            # Generate and return assistant message\n",
    "            messages = [self.system_message()] + self.history + [self.user_mssg]\n",
    "            assistant_message = get_openai_completion(messages)\n",
    "            messages.append({\"role\": \"assistant\", \"content\": assistant_message})\n",
    "            self.history = messages[1:]  # Update history\n",
    "            return assistant_message\n",
    "\n",
    "    def summarize_profile(self):\n",
    "        return f\"Great! Your profile is complete:\\n\\n```json\\n{json.dumps(self.extractor_bot.profile_data, indent=4)}\\n```\"\n"
   ]
  },
  {
   "cell_type": "code",
   "execution_count": null,
   "id": "cc80ad4c",
   "metadata": {},
   "outputs": [],
   "source": [
    "extractor_bot = ExtractorBot()\n",
    "pc            = ProfileCollector(extractor_bot)"
   ]
  },
  {
   "cell_type": "code",
   "execution_count": null,
   "id": "3b91221a",
   "metadata": {},
   "outputs": [],
   "source": [
    "Markdown(pc.ask_question())"
   ]
  },
  {
   "cell_type": "code",
   "execution_count": null,
   "id": "cc39075e",
   "metadata": {},
   "outputs": [],
   "source": [
    "pc.user_message(\"Yes\")"
   ]
  },
  {
   "cell_type": "code",
   "execution_count": null,
   "id": "43fe24a2",
   "metadata": {},
   "outputs": [],
   "source": [
    "pc.user_message(\"Mumtaz Rahmani, current role is Junior software engineer, learning interests are invloved around LLMs and stats\")"
   ]
  },
  {
   "cell_type": "code",
   "execution_count": null,
   "id": "fad6b93a",
   "metadata": {},
   "outputs": [],
   "source": [
    "pc.extractor_bot.profile_data"
   ]
  },
  {
   "cell_type": "code",
   "execution_count": null,
   "id": "a8f15c6a-dc3f-4039-a688-e9b0fb105bc2",
   "metadata": {},
   "outputs": [],
   "source": [
    "messages = pc.history"
   ]
  },
  {
   "cell_type": "code",
   "execution_count": null,
   "id": "c07dc37f",
   "metadata": {},
   "outputs": [],
   "source": [
    "tool_sys_mssg = get_prompt('extractor.md','assets/prompts/profile').format(required_fields=\", \".join(pc.extractor_bot.required_fields) if pc.extractor_bot.required_fields else \"No pendig fields to extract\")\n",
    "tool_messages = [{\"role\":\"system\",\"content\":tool_sys_mssg}]\n",
    "tool_messages.extend(messages) "
   ]
  },
  {
   "cell_type": "code",
   "execution_count": null,
   "id": "3efe6805",
   "metadata": {},
   "outputs": [],
   "source": [
    "messages.append({\"role\":\"user\",\"content\":\"Yes\"})"
   ]
  },
  {
   "cell_type": "code",
   "execution_count": null,
   "id": "5ad04d87",
   "metadata": {},
   "outputs": [],
   "source": [
    "answer = make_structured_call(GetConfirmation,messages).answer\n",
    "if answer:\n",
    "    print(answer.value)"
   ]
  },
  {
   "cell_type": "code",
   "execution_count": null,
   "id": "d9c99c20",
   "metadata": {},
   "outputs": [],
   "source": []
  },
  {
   "cell_type": "code",
   "execution_count": null,
   "id": "37540403",
   "metadata": {},
   "outputs": [],
   "source": []
  },
  {
   "cell_type": "markdown",
   "id": "6bb0d623",
   "metadata": {},
   "source": [
    "## Internally sending tool response to model "
   ]
  },
  {
   "cell_type": "code",
   "execution_count": null,
   "id": "192abbd5",
   "metadata": {},
   "outputs": [],
   "source": [
    "profile_data={}"
   ]
  },
  {
   "cell_type": "code",
   "execution_count": null,
   "id": "03538316",
   "metadata": {},
   "outputs": [],
   "source": [
    "message = get_openai_completion(messages, tools=tools, tool_choice=\"auto\", parallel_tool_calls=True)\n",
    "\n",
    "tool_calls = message.tool_calls\n",
    "if tool_calls:\n",
    "    print(f\"Tools called: {[tool.function.name for tool in tool_calls]}\")\n",
    "    function_call_messages=[message]\n",
    "    for tool in tool_calls:\n",
    "        arguments = tool.function.arguments\n",
    "        function_call_messages.extend([{\"role\": \"tool\", \"content\": json.dumps(arguments), \"tool_call_id\": tool.id}])\n",
    "        profile_data.update(json.loads(arguments))\n",
    "    messages.extend(function_call_messages)\n",
    "    while message.content==None:\n",
    "        message=get_openai_completion(messages, tools=tools, tool_choice=\"auto\", parallel_tool_calls=True)\n",
    "        print(\"Running in while loop\")\n",
    "\n",
    "assistant_response = message.content"
   ]
  },
  {
   "cell_type": "code",
   "execution_count": null,
   "id": "fb480a09",
   "metadata": {},
   "outputs": [],
   "source": [
    "Markdown(assistant_response)"
   ]
  },
  {
   "cell_type": "code",
   "execution_count": null,
   "id": "eea72cb2",
   "metadata": {},
   "outputs": [],
   "source": [
    "messages.append({\"role\":\"assistant\",\"content\":assistant_response})"
   ]
  },
  {
   "cell_type": "code",
   "execution_count": null,
   "id": "c6e5ba93",
   "metadata": {},
   "outputs": [],
   "source": [
    "profile_data"
   ]
  },
  {
   "cell_type": "code",
   "execution_count": null,
   "id": "ea89b32e",
   "metadata": {},
   "outputs": [],
   "source": []
  },
  {
   "cell_type": "code",
   "execution_count": null,
   "id": "3e4b0adc-83a2-4fdc-a519-cd77caf83412",
   "metadata": {},
   "outputs": [],
   "source": [
    "def get_claude_response(sys_mssg,messages,model=\"claude-3-opus-20240229\"):\n",
    "    client = anthropic.Anthropic(api_key=os.getenv(\"ANTHROPIC_API_KEY\"))\n",
    "    message = client.messages.create(\n",
    "        model=model,\n",
    "        max_tokens=1024,\n",
    "        system=sys_mssg,\n",
    "        messages=messages\n",
    "    )\n",
    "    return message.content[0].text\n",
    "\n",
    "claude_response = get_claude_response(sys_mssg,messages[1:])\n",
    "claude_response"
   ]
  },
  {
   "cell_type": "code",
   "execution_count": null,
   "id": "0d868630-288b-499f-8b0f-9b482ab89000",
   "metadata": {},
   "outputs": [],
   "source": []
  },
  {
   "cell_type": "code",
   "execution_count": null,
   "id": "a889243a-f1f0-4094-bc7d-bc65d8854dd0",
   "metadata": {},
   "outputs": [],
   "source": []
  },
  {
   "cell_type": "code",
   "execution_count": null,
   "id": "22effca4-389b-4cd2-b8b3-d80e3faa8479",
   "metadata": {},
   "outputs": [],
   "source": []
  }
 ],
 "metadata": {
  "kernelspec": {
   "display_name": "Python 3 (ipykernel)",
   "language": "python",
   "name": "python3"
  },
  "language_info": {
   "codemirror_mode": {
    "name": "ipython",
    "version": 3
   },
   "file_extension": ".py",
   "mimetype": "text/x-python",
   "name": "python",
   "nbconvert_exporter": "python",
   "pygments_lexer": "ipython3",
   "version": "3.11.9"
  },
  "widgets": {
   "application/vnd.jupyter.widget-state+json": {
    "state": {},
    "version_major": 2,
    "version_minor": 0
   }
  }
 },
 "nbformat": 4,
 "nbformat_minor": 5
}
