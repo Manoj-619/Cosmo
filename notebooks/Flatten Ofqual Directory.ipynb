{
 "cells": [
  {
   "cell_type": "code",
   "execution_count": 1,
   "id": "bb6d1d15-0ba8-4738-b05b-7f007de3637a",
   "metadata": {},
   "outputs": [],
   "source": [
    "import os\n",
    "os.chdir('/Users/adityachhabra/Github/zavmo/zavmo-api/zavmo')"
   ]
  },
  {
   "cell_type": "code",
   "execution_count": 9,
   "id": "6f73e289-d80a-4aa0-bd7a-5aa35fde7c29",
   "metadata": {},
   "outputs": [],
   "source": [
    "import shutil\n",
    "from tqdm.notebook import tqdm\n",
    "from helpers.utils import walk_dir"
   ]
  },
  {
   "cell_type": "code",
   "execution_count": 10,
   "id": "2da7903f-a8b6-4e04-b897-a5f3fff47452",
   "metadata": {},
   "outputs": [],
   "source": [
    "ofqual_dir = '/Users/adityachhabra/Documents/ofqual/'"
   ]
  },
  {
   "cell_type": "code",
   "execution_count": 11,
   "id": "2a58a8f8-e8bb-4ffc-99dc-186c59e0f5ab",
   "metadata": {},
   "outputs": [
    {
     "data": {
      "application/vnd.jupyter.widget-view+json": {
       "model_id": "b53ab81acfc947508ffe0ea2c5e1ec7e",
       "version_major": 2,
       "version_minor": 0
      },
      "text/plain": [
       "  0%|          | 0/13114 [00:00<?, ?it/s]"
      ]
     },
     "metadata": {},
     "output_type": "display_data"
    }
   ],
   "source": [
    "pdf_fps = walk_dir(ofqual_dir,extension='pdf')\n",
    "for pdf_fp in tqdm(pdf_fps):\n",
    "    filename = os.path.basename(pdf_fp)\n",
    "    new_fp   = os.path.join(ofqual_dir,filename)\n",
    "    shutil.move(pdf_fp,new_fp)"
   ]
  },
  {
   "cell_type": "code",
   "execution_count": null,
   "id": "77fc564a-9993-4b58-803f-49b3db5b732a",
   "metadata": {},
   "outputs": [],
   "source": []
  },
  {
   "cell_type": "code",
   "execution_count": null,
   "id": "a4960466-cf41-4fea-a427-5e0c10af28e8",
   "metadata": {},
   "outputs": [],
   "source": []
  }
 ],
 "metadata": {
  "kernelspec": {
   "display_name": "Python 3 (ipykernel)",
   "language": "python",
   "name": "python3"
  },
  "language_info": {
   "codemirror_mode": {
    "name": "ipython",
    "version": 3
   },
   "file_extension": ".py",
   "mimetype": "text/x-python",
   "name": "python",
   "nbconvert_exporter": "python",
   "pygments_lexer": "ipython3",
   "version": "3.11.9"
  }
 },
 "nbformat": 4,
 "nbformat_minor": 5
}
