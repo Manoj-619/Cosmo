{
 "cells": [
  {
   "cell_type": "code",
   "execution_count": 1,
   "id": "c160b38d-b8df-426d-a53a-2102e46e542b",
   "metadata": {},
   "outputs": [],
   "source": [
    "import os\n",
    "git_dir = os.path.dirname(os.getcwd())\n",
    "project_dir = os.path.join(git_dir,'zavmo')\n",
    "os.chdir(project_dir)"
   ]
  },
  {
   "cell_type": "code",
   "execution_count": 2,
   "id": "e8b94438-76fd-49e7-839f-06f1541c1228",
   "metadata": {},
   "outputs": [
    {
     "data": {
      "text/plain": [
       "True"
      ]
     },
     "execution_count": 2,
     "metadata": {},
     "output_type": "execute_result"
    }
   ],
   "source": [
    "from dotenv import load_dotenv\n",
    "load_dotenv(override=True)"
   ]
  },
  {
   "cell_type": "code",
   "execution_count": 3,
   "id": "8a67799a-bc6a-4a7a-9bbd-ac0c94394504",
   "metadata": {},
   "outputs": [],
   "source": [
    "import json\n",
    "from helpers.chat import get_openai_completion,  get_prompt, make_structured_call\n",
    "from helpers.functions import parse_type\n",
    "from IPython.display import Markdown"
   ]
  },
  {
   "cell_type": "code",
   "execution_count": 4,
   "id": "17295ca8-378f-479d-ba20-4f04ea99f47f",
   "metadata": {},
   "outputs": [],
   "source": [
    "import openai\n",
    "from openai import OpenAI\n",
    "from helpers.functions import create_pydantic_model, get_yaml_data, create_system_message\n",
    "openai_client = OpenAI(api_key=os.getenv(\"OPENAI_API_KEY\"))"
   ]
  },
  {
   "cell_type": "code",
   "execution_count": 5,
   "id": "1805ea81-da63-457d-b3a5-9ff93b91c71b",
   "metadata": {},
   "outputs": [],
   "source": [
    "stage_name = 'profile'"
   ]
  },
  {
   "cell_type": "code",
   "execution_count": 6,
   "id": "419c86a7-cc1c-4780-bb0b-000268f6a03b",
   "metadata": {},
   "outputs": [],
   "source": [
    "stage_conf   = get_yaml_data(stage_name)\n",
    "resp_schema  = stage_conf['response']\n",
    "resp_model   = create_pydantic_model(name=resp_schema['title'],\n",
    "                                    description=resp_schema['description'],\n",
    "                                    fields=resp_schema['fields'])"
   ]
  },
  {
   "cell_type": "code",
   "execution_count": 12,
   "id": "ce5a6924-fc71-4fbc-ae5e-2a6c283c0955",
   "metadata": {},
   "outputs": [],
   "source": [
    "required_fields = stage_conf['required']"
   ]
  },
  {
   "cell_type": "code",
   "execution_count": 13,
   "id": "86aa4984-dbda-4d8f-9614-c697babde310",
   "metadata": {},
   "outputs": [],
   "source": [
    "probe_system_message   = create_system_message(stage_name, stage_conf, mode='probe')"
   ]
  },
  {
   "cell_type": "code",
   "execution_count": 14,
   "id": "06a4dca5-976f-4fb3-a310-ca44d529879d",
   "metadata": {},
   "outputs": [],
   "source": [
    "user_input = f'Send a personalized welcome message to the learner.'"
   ]
  },
  {
   "cell_type": "code",
   "execution_count": 15,
   "id": "191d23ce-d025-41d4-ae0a-cd9c02259258",
   "metadata": {},
   "outputs": [],
   "source": [
    "stage_data = {}"
   ]
  },
  {
   "cell_type": "code",
   "execution_count": 16,
   "id": "880d3389-0685-4758-8f89-204a76cca12b",
   "metadata": {},
   "outputs": [
    {
     "data": {
      "text/markdown": [
       "The learner is at the profile stage.\n",
       "Here's what we know about the user already: {}\n",
       "We need to probe the user for the following: ['first_name', 'last_name', 'age', 'edu_level', 'current_role']\n",
       "\n",
       "Learner's message: Send a personalized welcome message to the learner.\n"
      ],
      "text/plain": [
       "<IPython.core.display.Markdown object>"
      ]
     },
     "execution_count": 16,
     "metadata": {},
     "output_type": "execute_result"
    }
   ],
   "source": [
    "user_content      = f\"\"\"The learner is at the {stage_name} stage.\n",
    "Here's what we know about the user already: {stage_data}\n",
    "We need to probe the user for the following: {required_fields}\n",
    "\n",
    "Learner's message: {user_input}\n",
    "\"\"\"\n",
    "Markdown(user_content)\n",
    "message_history = []\n",
    "probe_payload  = create_message_payload(user_input, probe_system_message, message_history, max_tokens=10000)\n",
    "resp_tool = force_tool_call(resp_model, probe_payload)\n",
    "resp_tool"
   ]
  },
  {
   "cell_type": "code",
   "execution_count": 17,
   "id": "8711155c-e382-4f9f-84d1-ec4f52b2cef8",
   "metadata": {},
   "outputs": [],
   "source": [
    "from helpers.chat import create_message_payload, force_tool_call"
   ]
  },
  {
   "cell_type": "code",
   "execution_count": 18,
   "id": "de4a4dae-8a0c-4090-b2a0-1a63ae6f5e95",
   "metadata": {},
   "outputs": [],
   "source": []
  },
  {
   "cell_type": "code",
   "execution_count": 19,
   "id": "69868180-61aa-4c3b-b459-9fca403ded16",
   "metadata": {},
   "outputs": [],
   "source": []
  },
  {
   "cell_type": "code",
   "execution_count": 20,
   "id": "f51c2fe4-73f5-4396-a2cc-a504777efb7a",
   "metadata": {},
   "outputs": [],
   "source": []
  },
  {
   "cell_type": "code",
   "execution_count": 23,
   "id": "98aaed07-f982-434f-ad78-b380d81a2c73",
   "metadata": {},
   "outputs": [
    {
     "data": {
      "text/plain": [
       "Response(action=<ActionEnum.probe: 'probe'>, message=\"Hi there! 😊 I'm Zavmo, your friendly learning assistant! What's your first name?\")"
      ]
     },
     "execution_count": 23,
     "metadata": {},
     "output_type": "execute_result"
    }
   ],
   "source": []
  },
  {
   "cell_type": "code",
   "execution_count": null,
   "id": "e8a4c526-d969-4fb8-afe3-4c511d342edc",
   "metadata": {},
   "outputs": [],
   "source": []
  },
  {
   "cell_type": "code",
   "execution_count": null,
   "id": "c78e78d7-fa79-46cb-a2ff-5181ca667ab4",
   "metadata": {},
   "outputs": [],
   "source": []
  },
  {
   "cell_type": "code",
   "execution_count": null,
   "id": "0f3638a0-4a96-419e-9448-e0092ca22b53",
   "metadata": {},
   "outputs": [],
   "source": []
  },
  {
   "cell_type": "code",
   "execution_count": null,
   "id": "a889243a-f1f0-4094-bc7d-bc65d8854dd0",
   "metadata": {},
   "outputs": [],
   "source": []
  },
  {
   "cell_type": "code",
   "execution_count": null,
   "id": "22effca4-389b-4cd2-b8b3-d80e3faa8479",
   "metadata": {},
   "outputs": [],
   "source": []
  }
 ],
 "metadata": {
  "kernelspec": {
   "display_name": "Python 3 (ipykernel)",
   "language": "python",
   "name": "python3"
  },
  "language_info": {
   "codemirror_mode": {
    "name": "ipython",
    "version": 3
   },
   "file_extension": ".py",
   "mimetype": "text/x-python",
   "name": "python",
   "nbconvert_exporter": "python",
   "pygments_lexer": "ipython3",
   "version": "3.11.9"
  },
  "widgets": {
   "application/vnd.jupyter.widget-state+json": {
    "state": {},
    "version_major": 2,
    "version_minor": 0
   }
  }
 },
 "nbformat": 4,
 "nbformat_minor": 5
}
