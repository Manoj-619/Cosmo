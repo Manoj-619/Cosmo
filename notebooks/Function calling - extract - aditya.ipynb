{
 "cells": [
  {
   "cell_type": "raw",
   "id": "beee9d4d-e989-446f-93fc-2376647388b5",
   "metadata": {},
   "source": [
    "import os\n",
    "git_dir = os.path.dirname(os.getcwd())\n",
    "project_dir = os.path.join(git_dir,'zavmo')\n",
    "os.chdir(project_dir)"
   ]
  },
  {
   "cell_type": "code",
   "execution_count": 3,
   "id": "e8b94438-76fd-49e7-839f-06f1541c1228",
   "metadata": {},
   "outputs": [
    {
     "data": {
      "text/plain": [
       "True"
      ]
     },
     "execution_count": 3,
     "metadata": {},
     "output_type": "execute_result"
    }
   ],
   "source": [
    "from dotenv import load_dotenv\n",
    "load_dotenv(override=True)"
   ]
  },
  {
   "cell_type": "code",
   "execution_count": 51,
   "id": "8a67799a-bc6a-4a7a-9bbd-ac0c94394504",
   "metadata": {},
   "outputs": [],
   "source": [
    "import json\n",
    "from helpers.chat import get_openai_completion, make_function_call, get_prompt, make_structured_call\n",
    "from helpers.functions import parse_type\n",
    "from IPython.display import Markdown"
   ]
  },
  {
   "cell_type": "code",
   "execution_count": 6,
   "id": "17295ca8-378f-479d-ba20-4f04ea99f47f",
   "metadata": {},
   "outputs": [],
   "source": [
    "import openai\n",
    "from openai import OpenAI\n",
    "from helpers.functions import create_pydantic_model, get_fields\n",
    "\n",
    "openai_client = OpenAI(api_key=os.getenv(\"OPENAI_API_KEY\"))"
   ]
  },
  {
   "cell_type": "code",
   "execution_count": 9,
   "id": "1805ea81-da63-457d-b3a5-9ff93b91c71b",
   "metadata": {},
   "outputs": [],
   "source": [
    "stage_name = 'profile'"
   ]
  },
  {
   "cell_type": "code",
   "execution_count": 211,
   "id": "cc400a62-aa93-460f-8d0d-cd8bb3f67bbf",
   "metadata": {},
   "outputs": [],
   "source": [
    "extraction_data   = get_fields(f\"{stage_name}/extract\")"
   ]
  },
  {
   "cell_type": "code",
   "execution_count": 117,
   "id": "964e2582-86d1-4394-abb7-0ae681a7a50a",
   "metadata": {},
   "outputs": [],
   "source": [
    "probe_fields      = get_fields(f\"{stage_name}/probe\")"
   ]
  },
  {
   "cell_type": "code",
   "execution_count": 193,
   "id": "7b75ec71-f6c8-4367-a679-0665a9a9dfba",
   "metadata": {},
   "outputs": [],
   "source": [
    "example_text = \"Here are some examples of how you should probe the learner for information, and how you should respond once you get an answer.\\n\\n\"\n",
    "\n",
    "for f in probe_fields:\n",
    "    name = f['field']\n",
    "    q    = f['question']\n",
    "    r    = f['response_template']\n",
    "    ex_string = f\"\"\"\n",
    "    **{name}**:\n",
    "    \n",
    "    Question: {q}\n",
    "    Response: {r}\n",
    "    \"\"\"\n",
    "    example_text += ex_string"
   ]
  },
  {
   "cell_type": "code",
   "execution_count": null,
   "id": "d181c284-c6f3-41ae-acaf-63e66765af90",
   "metadata": {},
   "outputs": [],
   "source": []
  },
  {
   "cell_type": "code",
   "execution_count": 226,
   "id": "744287c4-a8a7-4487-90d1-5fcb3c137f7d",
   "metadata": {},
   "outputs": [],
   "source": [
    "missing_model = create_pydantic_model(\n",
    "    f\"identify_{stage_name}_attributes\",\n",
    "    fields=extraction_data['filter_fields'],\n",
    "    description=\"List down all the attributes we can extract from the user's current response.\"\n",
    ")"
   ]
  },
  {
   "cell_type": "code",
   "execution_count": 227,
   "id": "69f5fb1c-eab9-40b8-8084-dda89fe067c4",
   "metadata": {},
   "outputs": [],
   "source": [
    "field_summary = ''\n",
    "for field in extraction_data['required_fields']:\n",
    "    field_text = f\"- **{field['title']}**\\n[{field['annotation']}]\\n{field['description']}\\n\\n\"\n",
    "    field_summary += field_text"
   ]
  },
  {
   "cell_type": "code",
   "execution_count": 228,
   "id": "7001bc77-9cbb-4639-95fb-59142f24269e",
   "metadata": {},
   "outputs": [],
   "source": [
    "extract_system_template = get_prompt(f\"{stage_name}/extract\").format(FIELDS=field_summary)\n",
    "extract_system_message  = {\"role\":\"system\",\"content\":extract_system_template}"
   ]
  },
  {
   "cell_type": "code",
   "execution_count": 261,
   "id": "2750ad23-05bb-49b7-be53-d0dab87427b7",
   "metadata": {},
   "outputs": [],
   "source": [
    "user_content = \"\"\"\n",
    "Zavmo: What new information can we extract from the user's response?\n",
    "Learner: I just finished my bachelors\n",
    "\"\"\"\n",
    "user_message = {\"role\":\"user\",\"content\":user_content}"
   ]
  },
  {
   "cell_type": "code",
   "execution_count": 262,
   "id": "d22a719f-d076-42a0-aeea-5abc9382965d",
   "metadata": {},
   "outputs": [],
   "source": [
    "missing_tools = force_tool_call(tools=[missing_model],\n",
    "                              messages=[extract_system_message,user_message])"
   ]
  },
  {
   "cell_type": "code",
   "execution_count": 263,
   "id": "649c4160-8e1b-471b-b82c-5020578e0eaa",
   "metadata": {},
   "outputs": [
    {
     "data": {
      "text/plain": [
       "['edu_level', 'current_role']"
      ]
     },
     "execution_count": 263,
     "metadata": {},
     "output_type": "execute_result"
    }
   ],
   "source": [
    "missing_tools[0].attributes"
   ]
  },
  {
   "cell_type": "code",
   "execution_count": 264,
   "id": "919b1b0e-4985-48ad-8ed6-156ae4ef1100",
   "metadata": {},
   "outputs": [],
   "source": [
    "required_attributes = extraction_data['required_fields']"
   ]
  },
  {
   "cell_type": "code",
   "execution_count": 265,
   "id": "5d1c9f33-37fd-4915-abba-c9c20fcd64a0",
   "metadata": {},
   "outputs": [],
   "source": [
    "new_attributes = missing_tools[0].attributes"
   ]
  },
  {
   "cell_type": "code",
   "execution_count": 266,
   "id": "2e0cffe5-79db-4510-81c7-fb8af2d0f669",
   "metadata": {},
   "outputs": [],
   "source": [
    "model = create_pydantic_model(f\"{stage_name}_new_attributes\", \n",
    "                              fields=[f for f in extraction_data['required_fields'] if f['title'] in new_attributes], \n",
    "                              description=\"New information that we learned about a learner.\"\n",
    "                             )"
   ]
  },
  {
   "cell_type": "code",
   "execution_count": 267,
   "id": "139f0a43-ac0a-4033-89fd-58b3b8899d27",
   "metadata": {},
   "outputs": [],
   "source": [
    "extracted_data = force_tool_call(tools=[model],\n",
    "                              messages=[extract_system_message,user_message])"
   ]
  },
  {
   "cell_type": "code",
   "execution_count": 268,
   "id": "27e1f3a0-a1c6-4f70-9238-17ea3368c571",
   "metadata": {},
   "outputs": [
    {
     "data": {
      "text/plain": [
       "{'edu_level': 5, 'current_role': 'Graduate'}"
      ]
     },
     "execution_count": 268,
     "metadata": {},
     "output_type": "execute_result"
    }
   ],
   "source": [
    "extracted_data[0].model_dump()"
   ]
  },
  {
   "cell_type": "code",
   "execution_count": null,
   "id": "1d09e4f9-7efc-4673-bea6-8c8ca7d53265",
   "metadata": {},
   "outputs": [],
   "source": []
  },
  {
   "cell_type": "code",
   "execution_count": null,
   "id": "9c339aa9-8131-471b-8846-2dfd571c92fe",
   "metadata": {},
   "outputs": [],
   "source": []
  },
  {
   "cell_type": "raw",
   "id": "59b4a582-f9d9-4b80-ae29-18dd40edd3c5",
   "metadata": {},
   "source": [
    "probe_system_template = get_prompt(f\"{stage_name}/probe\")\n",
    "probe_system_prompt   = probe_system_template.format(EXAMPLES=example_text)\n",
    "probe_system_message  = {\"role\":\"system\",\"content\":probe_system_prompt}"
   ]
  },
  {
   "cell_type": "code",
   "execution_count": 49,
   "id": "a6ff72c1-84a3-47f8-93d8-1bc4f9054cb9",
   "metadata": {},
   "outputs": [],
   "source": [
    "response = openai_client.chat.completions.create(\n",
    "    model='gpt-4o-mini',\n",
    "    messages=[probe_system_msg],\n",
    "    #tools=tools,\n",
    "    #tool_choice=\"required\",\n",
    "    #parallel_tool_calls=True,\n",
    ")"
   ]
  },
  {
   "cell_type": "code",
   "execution_count": null,
   "id": "0f3638a0-4a96-419e-9448-e0092ca22b53",
   "metadata": {},
   "outputs": [],
   "source": []
  },
  {
   "cell_type": "code",
   "execution_count": 50,
   "id": "05f49170-2e8e-41f9-add2-e6f7486a975b",
   "metadata": {},
   "outputs": [
    {
     "data": {
      "text/markdown": [
       "Hey there! 🎉 I'm so excited to start this learning adventure with you! Before we dive in, I'd love to get to know you better. This will help me tailor our experience to fit your interests and goals. \n",
       "\n",
       "Could you share your name, what you're looking to learn about, and any preferences you have for our sessions? For example, do you prefer more visual explanations, hands-on activities, or straightforward discussions? 🌟 "
      ],
      "text/plain": [
       "<IPython.core.display.Markdown object>"
      ]
     },
     "execution_count": 50,
     "metadata": {},
     "output_type": "execute_result"
    }
   ],
   "source": [
    "Markdown(response.choices[0].message.content)"
   ]
  },
  {
   "cell_type": "code",
   "execution_count": null,
   "id": "6d592642-e37c-4735-9902-1706f1343f57",
   "metadata": {},
   "outputs": [],
   "source": []
  },
  {
   "cell_type": "code",
   "execution_count": null,
   "id": "11011bc6-9452-44e8-91e5-f35b316e559d",
   "metadata": {},
   "outputs": [],
   "source": [
    "tool_calls = response.choices[0].message.tool_calls"
   ]
  },
  {
   "cell_type": "code",
   "execution_count": null,
   "id": "80ebf55f-ddd5-45f8-8094-7ebb903fd2ae",
   "metadata": {},
   "outputs": [],
   "source": [
    "model = model.parse_raw(tool_calls[0].function.arguments)"
   ]
  },
  {
   "cell_type": "code",
   "execution_count": null,
   "id": "f364df79",
   "metadata": {},
   "outputs": [],
   "source": [
    "# Extractor Bot Logic\n",
    "class ExtractorBot:\n",
    "    def __init__(self):\n",
    "        self.profile_data = {}\n",
    "        self.required_fields = [\"first_name\", \"last_name\", \"current_role\", \"learning_interests\"]\n",
    "        self.completed_fields = []\n",
    "        self.tools = [openai.pydantic_function_tool(i) for i in [GetFirstName, GetLastName, GetCurrentRole, GetLearningInterests]]\n",
    "\n",
    "    def extract_data(self, messages):\n",
    "        # Prepare and send messages for tool calls\n",
    "        tool_sys_msg = get_prompt('extractor.md', 'assets/prompts/profile').format(\n",
    "            required_fields=\", \".join(self.required_fields) if self.required_fields else \"No pending fields to extract\"\n",
    "        )\n",
    "        tool_messages = [{\"role\": \"system\", \"content\": tool_sys_msg}] + messages[1:]\n",
    "        tool_calls = make_tool_calls(tool_messages, self.tools)\n",
    "\n",
    "        if tool_calls:\n",
    "            for tool_response in tool_calls:\n",
    "                arg = tool_response.function.arguments\n",
    "                self.profile_data.update(json.loads(arg))\n",
    "\n",
    "            # Update fields status\n",
    "            self.completed_fields = list(set(self.profile_data))\n",
    "            self.required_fields = [field for field in self.required_fields if field not in self.completed_fields]\n",
    "\n",
    "    def are_all_fields_collected(self):\n",
    "        return not self.required_fields\n",
    "\n",
    "    def get_confirmation(self, messages):\n",
    "        answer = make_structured_call(GetConfirmation, messages).answer\n",
    "        return 'Yes' if answer and answer.value == 'Yes' else 'No'\n",
    "\n",
    "\n",
    "# Guiding Bot Logic\n",
    "class ProfileCollector:\n",
    "    def __init__(self, extractor_bot):\n",
    "        self.extractor_bot = extractor_bot\n",
    "        self.history = []\n",
    "        self.confirmed = \"No\"\n",
    "\n",
    "    def system_message(self):\n",
    "        prompt = get_prompt(\"system.md\", \"assets/prompts/profile\")\n",
    "        if self.extractor_bot.are_all_fields_collected():\n",
    "            prompt += \"\\nAsk for confirmation (Yes/No) sharing details\" + f\"\\n\\n```json\\n{json.dumps(self.extractor_bot.profile_data, indent=4)}\\n```\"\n",
    "        return {\"role\": \"system\", \"content\": prompt}\n",
    "\n",
    "    def user_message(self, input=\"\"):\n",
    "        # Generate user message with current field statuses\n",
    "        completed = \", \".join(self.extractor_bot.completed_fields) or \"Not completed any field yet.\"\n",
    "        required = \", \".join(self.extractor_bot.required_fields) or \"Received information for all remaining fields.\"\n",
    "        content = f\"Field Extraction Information\\n\\nCompleted Fields:\\n{completed}\\n\\nRequired Fields:\\n{required}\\n\\nUser response:\\n{input}\"\n",
    "        self.user_mssg = {\"role\": \"user\", \"content\": content}\n",
    "\n",
    "    def ask_question(self):\n",
    "        # Check if all fields are collected and ask for confirmation if needed\n",
    "        try: \n",
    "            self.user_mssg\n",
    "        except:\n",
    "            self.user_message()\n",
    "\n",
    "        if self.extractor_bot.are_all_fields_collected():\n",
    "            user_mssg = self.user_mssg \n",
    "            user_mssg['content'] = user_mssg['content'] + \"\\n\\nIf updates on any field is required and user will mention corresponding to what is asked, or if user says No. Take it as a No\"\n",
    "            messages = [self.system_message()] + self.history + [user_mssg]\n",
    "            confirmation = self.extractor_bot.get_confirmation(messages)\n",
    "            \n",
    "            if confirmation == \"Yes\":\n",
    "                self.confirmed = \"Yes\"\n",
    "                return self.summarize_profile()\n",
    "\n",
    "        # Collect remaining fields or reattempt extraction if confirmation is \"No\"\n",
    "        if not self.extractor_bot.are_all_fields_collected() or self.confirmed != \"Yes\":\n",
    "            tool_messages = self.history + [self.user_mssg]\n",
    "            self.extractor_bot.extract_data(tool_messages)\n",
    "\n",
    "            # Generate and return assistant message\n",
    "            messages = [self.system_message()] + self.history + [self.user_mssg]\n",
    "            assistant_message = get_openai_completion(messages)\n",
    "            messages.append({\"role\": \"assistant\", \"content\": assistant_message})\n",
    "            self.history = messages[1:]  # Update history\n",
    "            return assistant_message\n",
    "\n",
    "    def summarize_profile(self):\n",
    "        return f\"Great! Your profile is complete:\\n\\n```json\\n{json.dumps(self.extractor_bot.profile_data, indent=4)}\\n```\"\n"
   ]
  },
  {
   "cell_type": "code",
   "execution_count": null,
   "id": "cc80ad4c",
   "metadata": {},
   "outputs": [],
   "source": [
    "extractor_bot = ExtractorBot()\n",
    "pc            = ProfileCollector(extractor_bot)"
   ]
  },
  {
   "cell_type": "code",
   "execution_count": null,
   "id": "3b91221a",
   "metadata": {},
   "outputs": [],
   "source": [
    "Markdown(pc.ask_question())"
   ]
  },
  {
   "cell_type": "code",
   "execution_count": null,
   "id": "cc39075e",
   "metadata": {},
   "outputs": [],
   "source": [
    "pc.user_message(\"Yes\")"
   ]
  },
  {
   "cell_type": "code",
   "execution_count": null,
   "id": "43fe24a2",
   "metadata": {},
   "outputs": [],
   "source": [
    "pc.user_message(\"Mumtaz Rahmani, current role is Junior software engineer, learning interests are invloved around LLMs and stats\")"
   ]
  },
  {
   "cell_type": "code",
   "execution_count": null,
   "id": "fad6b93a",
   "metadata": {},
   "outputs": [],
   "source": [
    "pc.extractor_bot.profile_data"
   ]
  },
  {
   "cell_type": "code",
   "execution_count": null,
   "id": "a8f15c6a-dc3f-4039-a688-e9b0fb105bc2",
   "metadata": {},
   "outputs": [],
   "source": [
    "messages = pc.history"
   ]
  },
  {
   "cell_type": "code",
   "execution_count": null,
   "id": "c07dc37f",
   "metadata": {},
   "outputs": [],
   "source": [
    "tool_sys_mssg = get_prompt('extractor.md','assets/prompts/profile').format(required_fields=\", \".join(pc.extractor_bot.required_fields) if pc.extractor_bot.required_fields else \"No pendig fields to extract\")\n",
    "tool_messages = [{\"role\":\"system\",\"content\":tool_sys_mssg}]\n",
    "tool_messages.extend(messages) "
   ]
  },
  {
   "cell_type": "code",
   "execution_count": null,
   "id": "3efe6805",
   "metadata": {},
   "outputs": [],
   "source": [
    "messages.append({\"role\":\"user\",\"content\":\"Yes\"})"
   ]
  },
  {
   "cell_type": "code",
   "execution_count": null,
   "id": "5ad04d87",
   "metadata": {},
   "outputs": [],
   "source": [
    "answer = make_structured_call(GetConfirmation,messages).answer\n",
    "if answer:\n",
    "    print(answer.value)"
   ]
  },
  {
   "cell_type": "code",
   "execution_count": null,
   "id": "d9c99c20",
   "metadata": {},
   "outputs": [],
   "source": []
  },
  {
   "cell_type": "code",
   "execution_count": null,
   "id": "37540403",
   "metadata": {},
   "outputs": [],
   "source": []
  },
  {
   "cell_type": "markdown",
   "id": "6bb0d623",
   "metadata": {},
   "source": [
    "## Internally sending tool response to model "
   ]
  },
  {
   "cell_type": "code",
   "execution_count": null,
   "id": "192abbd5",
   "metadata": {},
   "outputs": [],
   "source": [
    "profile_data={}"
   ]
  },
  {
   "cell_type": "code",
   "execution_count": null,
   "id": "03538316",
   "metadata": {},
   "outputs": [],
   "source": [
    "message = get_openai_completion(messages, tools=tools, tool_choice=\"auto\", parallel_tool_calls=True)\n",
    "\n",
    "tool_calls = message.tool_calls\n",
    "if tool_calls:\n",
    "    print(f\"Tools called: {[tool.function.name for tool in tool_calls]}\")\n",
    "    function_call_messages=[message]\n",
    "    for tool in tool_calls:\n",
    "        arguments = tool.function.arguments\n",
    "        function_call_messages.extend([{\"role\": \"tool\", \"content\": json.dumps(arguments), \"tool_call_id\": tool.id}])\n",
    "        profile_data.update(json.loads(arguments))\n",
    "    messages.extend(function_call_messages)\n",
    "    while message.content==None:\n",
    "        message=get_openai_completion(messages, tools=tools, tool_choice=\"auto\", parallel_tool_calls=True)\n",
    "        print(\"Running in while loop\")\n",
    "\n",
    "assistant_response = message.content"
   ]
  },
  {
   "cell_type": "code",
   "execution_count": null,
   "id": "fb480a09",
   "metadata": {},
   "outputs": [],
   "source": [
    "Markdown(assistant_response)"
   ]
  },
  {
   "cell_type": "code",
   "execution_count": null,
   "id": "eea72cb2",
   "metadata": {},
   "outputs": [],
   "source": [
    "messages.append({\"role\":\"assistant\",\"content\":assistant_response})"
   ]
  },
  {
   "cell_type": "code",
   "execution_count": null,
   "id": "c6e5ba93",
   "metadata": {},
   "outputs": [],
   "source": [
    "profile_data"
   ]
  },
  {
   "cell_type": "code",
   "execution_count": null,
   "id": "ea89b32e",
   "metadata": {},
   "outputs": [],
   "source": []
  },
  {
   "cell_type": "code",
   "execution_count": null,
   "id": "3e4b0adc-83a2-4fdc-a519-cd77caf83412",
   "metadata": {},
   "outputs": [],
   "source": [
    "def get_claude_response(sys_mssg,messages,model=\"claude-3-opus-20240229\"):\n",
    "    client = anthropic.Anthropic(api_key=os.getenv(\"ANTHROPIC_API_KEY\"))\n",
    "    message = client.messages.create(\n",
    "        model=model,\n",
    "        max_tokens=1024,\n",
    "        system=sys_mssg,\n",
    "        messages=messages\n",
    "    )\n",
    "    return message.content[0].text\n",
    "\n",
    "claude_response = get_claude_response(sys_mssg,messages[1:])\n",
    "claude_response"
   ]
  },
  {
   "cell_type": "code",
   "execution_count": null,
   "id": "0d868630-288b-499f-8b0f-9b482ab89000",
   "metadata": {},
   "outputs": [],
   "source": []
  },
  {
   "cell_type": "code",
   "execution_count": null,
   "id": "a889243a-f1f0-4094-bc7d-bc65d8854dd0",
   "metadata": {},
   "outputs": [],
   "source": []
  },
  {
   "cell_type": "code",
   "execution_count": null,
   "id": "22effca4-389b-4cd2-b8b3-d80e3faa8479",
   "metadata": {},
   "outputs": [],
   "source": []
  }
 ],
 "metadata": {
  "kernelspec": {
   "display_name": "Python 3 (ipykernel)",
   "language": "python",
   "name": "python3"
  },
  "language_info": {
   "codemirror_mode": {
    "name": "ipython",
    "version": 3
   },
   "file_extension": ".py",
   "mimetype": "text/x-python",
   "name": "python",
   "nbconvert_exporter": "python",
   "pygments_lexer": "ipython3",
   "version": "3.11.9"
  },
  "widgets": {
   "application/vnd.jupyter.widget-state+json": {
    "state": {},
    "version_major": 2,
    "version_minor": 0
   }
  }
 },
 "nbformat": 4,
 "nbformat_minor": 5
}
